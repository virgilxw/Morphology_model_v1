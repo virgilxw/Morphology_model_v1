{
 "cells": [
  {
   "cell_type": "markdown",
   "id": "352136b6",
   "metadata": {
    "tags": [
     "papermill-error-cell-tag"
    ]
   },
   "source": [
    "<span style=\"color:red; font-family:Helvetica Neue, Helvetica, Arial, sans-serif; font-size:2em;\">An Exception was encountered at '<a href=\"#papermill-error-cell\">In [1]</a>'.</span>"
   ]
  },
  {
   "cell_type": "markdown",
   "id": "7d6227e0",
   "metadata": {
    "tags": [
     "papermill-error-cell-tag"
    ]
   },
   "source": [
    "<span id=\"papermill-error-cell\" style=\"color:red; font-family:Helvetica Neue, Helvetica, Arial, sans-serif; font-size:2em;\">Execution using papermill encountered an exception here and stopped:</span>"
   ]
  },
  {
   "cell_type": "code",
   "execution_count": 1,
   "id": "a109c8f2",
   "metadata": {
    "execution": {
     "iopub.execute_input": "2023-12-27T22:25:10.762494Z",
     "iopub.status.busy": "2023-12-27T22:25:10.762283Z",
     "iopub.status.idle": "2023-12-27T22:25:12.104866Z",
     "shell.execute_reply": "2023-12-27T22:25:12.104294Z"
    },
    "papermill": {
     "duration": 1.355992,
     "end_time": "2023-12-27T22:25:12.106029",
     "exception": true,
     "start_time": "2023-12-27T22:25:10.750037",
     "status": "failed"
    },
    "tags": []
   },
   "outputs": [
    {
     "ename": "ModuleNotFoundError",
     "evalue": "No module named 'graph_tool'",
     "output_type": "error",
     "traceback": [
      "\u001b[0;31m---------------------------------------------------------------------------\u001b[0m",
      "\u001b[0;31mModuleNotFoundError\u001b[0m                       Traceback (most recent call last)",
      "Cell \u001b[0;32mIn[1], line 4\u001b[0m\n\u001b[1;32m      2\u001b[0m \u001b[38;5;28;01mimport\u001b[39;00m \u001b[38;5;21;01mmomepy\u001b[39;00m\n\u001b[1;32m      3\u001b[0m \u001b[38;5;28;01mimport\u001b[39;00m \u001b[38;5;21;01mnetworkx\u001b[39;00m \u001b[38;5;28;01mas\u001b[39;00m \u001b[38;5;21;01mnx\u001b[39;00m\n\u001b[0;32m----> 4\u001b[0m \u001b[38;5;28;01mimport\u001b[39;00m \u001b[38;5;21;01mgraph_tool\u001b[39;00m\u001b[38;5;21;01m.\u001b[39;00m\u001b[38;5;21;01mall\u001b[39;00m \u001b[38;5;28;01mas\u001b[39;00m \u001b[38;5;21;01mgt\u001b[39;00m\n\u001b[1;32m      5\u001b[0m \u001b[38;5;28;01mfrom\u001b[39;00m \u001b[38;5;21;01mscripts\u001b[39;00m\u001b[38;5;21;01m.\u001b[39;00m\u001b[38;5;21;01mnx2gt\u001b[39;00m \u001b[38;5;28;01mimport\u001b[39;00m nx2gt\n\u001b[1;32m      6\u001b[0m \u001b[38;5;28;01mimport\u001b[39;00m \u001b[38;5;21;01mpandas\u001b[39;00m \u001b[38;5;28;01mas\u001b[39;00m \u001b[38;5;21;01mpd\u001b[39;00m\n",
      "\u001b[0;31mModuleNotFoundError\u001b[0m: No module named 'graph_tool'"
     ]
    }
   ],
   "source": [
    "import geopandas as gpd\n",
    "import momepy\n",
    "import networkx as nx\n",
    "import graph_tool.all as gt\n",
    "from scripts.nx2gt import nx2gt\n",
    "import pandas as pd\n",
    "import matplotlib\n",
    "import itertools\n",
    "from shapely.geometry import LineString, point\n",
    "from shapely.wkt import loads\n",
    "from tqdm import tqdm\n",
    "import numpy as np\n",
    "from dask.distributed import Client, LocalCluster\n",
    "from dask import delayed\n",
    "import dask\n",
    "import math\n",
    "import concurrent.futures\n",
    "import matplotlib.pyplot as plt\n",
    "import osmnx as ox\n",
    "import scripts.graph_custom as custom_graph_scripts"
   ]
  },
  {
   "cell_type": "code",
   "execution_count": null,
   "id": "dc55d855",
   "metadata": {
    "papermill": {
     "duration": null,
     "end_time": null,
     "exception": null,
     "start_time": null,
     "status": "pending"
    },
    "tags": [
     "parameters"
    ]
   },
   "outputs": [],
   "source": [
    "local_crs = 27700\n",
    "place = \"test\"\n",
    "lat = 55.86421405612109\n",
    "lng = -4.251846930489373\n",
    "country = \"UK\"\n",
    "crs=4326\n",
    "radius=1"
   ]
  },
  {
   "cell_type": "code",
   "execution_count": null,
   "id": "d3c5984e",
   "metadata": {
    "papermill": {
     "duration": null,
     "end_time": null,
     "exception": null,
     "start_time": null,
     "status": "pending"
    },
    "tags": [
     "injected-parameters"
    ]
   },
   "outputs": [],
   "source": [
    "# Parameters\n",
    "local_crs = 4326\n",
    "place = \"Birmingham\"\n",
    "lat = 52.47790683186595\n",
    "lng = -1.8999014571831943\n",
    "country = \"UK\"\n",
    "crs = 4326\n",
    "radius = 20\n"
   ]
  },
  {
   "cell_type": "code",
   "execution_count": null,
   "id": "63baf3a7",
   "metadata": {
    "papermill": {
     "duration": null,
     "end_time": null,
     "exception": null,
     "start_time": null,
     "status": "pending"
    },
    "tags": []
   },
   "outputs": [],
   "source": [
    "streets = gpd.read_parquet(f\"../output/{place}/streets_p2.pq\").to_crs(local_crs).reset_index(drop=True)"
   ]
  },
  {
   "cell_type": "code",
   "execution_count": null,
   "id": "fbf0a9b1",
   "metadata": {
    "papermill": {
     "duration": null,
     "end_time": null,
     "exception": null,
     "start_time": null,
     "status": "pending"
    },
    "tags": []
   },
   "outputs": [],
   "source": [
    "streets"
   ]
  },
  {
   "cell_type": "code",
   "execution_count": null,
   "id": "31f9b9e1",
   "metadata": {
    "papermill": {
     "duration": null,
     "end_time": null,
     "exception": null,
     "start_time": null,
     "status": "pending"
    },
    "tags": []
   },
   "outputs": [],
   "source": [
    "daskCluster = LocalCluster(threads_per_worker=2,\n",
    "                n_workers=8, memory_limit='100GB')\n",
    "\n",
    "client = Client(daskCluster)\n",
    "\n",
    "client"
   ]
  },
  {
   "cell_type": "code",
   "execution_count": null,
   "id": "37d04950",
   "metadata": {
    "papermill": {
     "duration": null,
     "end_time": null,
     "exception": null,
     "start_time": null,
     "status": "pending"
    },
    "tags": []
   },
   "outputs": [],
   "source": [
    "# Create a pandas dataframe from the multigraph\n",
    "primal = momepy.gdf_to_nx(streets, approach='primal')"
   ]
  },
  {
   "cell_type": "code",
   "execution_count": null,
   "id": "265d5929",
   "metadata": {
    "papermill": {
     "duration": null,
     "end_time": null,
     "exception": null,
     "start_time": null,
     "status": "pending"
    },
    "tags": []
   },
   "outputs": [],
   "source": [
    "nodes, edges, sw = momepy.nx_to_gdf(primal, points=True, lines=True,\n",
    "                                    spatial_weights=True)"
   ]
  },
  {
   "cell_type": "code",
   "execution_count": null,
   "id": "0312e037",
   "metadata": {
    "papermill": {
     "duration": null,
     "end_time": null,
     "exception": null,
     "start_time": null,
     "status": "pending"
    },
    "tags": []
   },
   "outputs": [],
   "source": [
    "continuity = momepy.COINS(edges)\n",
    "stroke_gdf = continuity.stroke_gdf()"
   ]
  },
  {
   "cell_type": "code",
   "execution_count": null,
   "id": "f664c2e6",
   "metadata": {
    "papermill": {
     "duration": null,
     "end_time": null,
     "exception": null,
     "start_time": null,
     "status": "pending"
    },
    "tags": []
   },
   "outputs": [],
   "source": [
    "stroke_gdf.to_parquet(f\"../output/{place}/stroke_gdf.pq\")"
   ]
  },
  {
   "cell_type": "code",
   "execution_count": null,
   "id": "64e33ac5",
   "metadata": {
    "papermill": {
     "duration": null,
     "end_time": null,
     "exception": null,
     "start_time": null,
     "status": "pending"
    },
    "tags": []
   },
   "outputs": [],
   "source": [
    "vertID_dict = {}"
   ]
  },
  {
   "cell_type": "code",
   "execution_count": null,
   "id": "6ccb23f4",
   "metadata": {
    "papermill": {
     "duration": null,
     "end_time": null,
     "exception": null,
     "start_time": null,
     "status": "pending"
    },
    "tags": []
   },
   "outputs": [],
   "source": [
    "counter = itertools.count()\n",
    "\n",
    "for node in primal.nodes():\n",
    "    id = next(counter)\n",
    "    primal.nodes[node]['vertID'] = id\n",
    "    vertID_dict[id] = node"
   ]
  },
  {
   "cell_type": "code",
   "execution_count": null,
   "id": "cb8f104c",
   "metadata": {
    "papermill": {
     "duration": null,
     "end_time": null,
     "exception": null,
     "start_time": null,
     "status": "pending"
    },
    "tags": []
   },
   "outputs": [],
   "source": [
    "inverted_vertID_dict = {value: key for key, value in vertID_dict.items()}"
   ]
  },
  {
   "cell_type": "markdown",
   "id": "535a6aee",
   "metadata": {
    "papermill": {
     "duration": null,
     "end_time": null,
     "exception": null,
     "start_time": null,
     "status": "pending"
    },
    "tags": []
   },
   "source": [
    "# Street Network Shapes"
   ]
  },
  {
   "cell_type": "code",
   "execution_count": null,
   "id": "65638195",
   "metadata": {
    "papermill": {
     "duration": null,
     "end_time": null,
     "exception": null,
     "start_time": null,
     "status": "pending"
    },
    "tags": []
   },
   "outputs": [],
   "source": [
    "edg_lin = momepy.Linearity(streets)\n",
    "streets['linearity'] = edg_lin.series"
   ]
  },
  {
   "cell_type": "markdown",
   "id": "deb9a5c7",
   "metadata": {
    "papermill": {
     "duration": null,
     "end_time": null,
     "exception": null,
     "start_time": null,
     "status": "pending"
    },
    "tags": []
   },
   "source": [
    "## Node Degree"
   ]
  },
  {
   "cell_type": "code",
   "execution_count": null,
   "id": "012d3028",
   "metadata": {
    "papermill": {
     "duration": null,
     "end_time": null,
     "exception": null,
     "start_time": null,
     "status": "pending"
    },
    "tags": []
   },
   "outputs": [],
   "source": [
    "# Convert it to a graph-tool graph\n",
    "gtG = nx2gt(primal)\n",
    "\n",
    "gtG.list_properties()\n",
    "\n",
    "g = gt.GraphView(gtG)\n",
    "mm_len = gtG.edge_properties[\"mm_len\"]\n",
    "vp, ep = gt.betweenness(g, weight = mm_len)\n",
    "\n",
    "node_degree = {g.vertex_index[v]: v.in_degree() + v.out_degree() for v in g.vertices()}\n",
    "# convert ID_dict to a DataFrame and rename the index and column\n",
    "node_degree = pd.DataFrame.from_dict(node_degree, orient='index').rename(columns={0: \"node_degree\"})\n",
    "# merge vertID_df and vertices on vertID and node, respectively"
   ]
  },
  {
   "cell_type": "code",
   "execution_count": null,
   "id": "c51725a4",
   "metadata": {
    "papermill": {
     "duration": null,
     "end_time": null,
     "exception": null,
     "start_time": null,
     "status": "pending"
    },
    "tags": []
   },
   "outputs": [],
   "source": [
    "nodes[\"node_degree\"] = node_degree[\"node_degree\"]"
   ]
  },
  {
   "cell_type": "code",
   "execution_count": null,
   "id": "0c4352d2",
   "metadata": {
    "papermill": {
     "duration": null,
     "end_time": null,
     "exception": null,
     "start_time": null,
     "status": "pending"
    },
    "tags": []
   },
   "outputs": [],
   "source": [
    "# # cross-testing to Momepy implementation\n",
    "\n",
    "# degree = dict(nx.degree(primal))\n",
    "# nx.set_node_attributes(primal, degree, 'degree')\n",
    "\n",
    "# graph = momepy.node_degree(primal, name='degree')\n",
    "\n",
    "# nodes, edges, sw = momepy.nx_to_gdf(graph, points=True, lines=True,\n",
    "#                                     spatial_weights=True)\n",
    "\n",
    "# f, ax = plt.subplots(figsize=(10, 10))\n",
    "\n",
    "# # Plot edges with a lower zorder\n",
    "# edges.plot(ax=ax, color='lightgrey', zorder=1)\n",
    "\n",
    "# # Plot nodes with a higher zorder\n",
    "# nodes.plot(ax=ax, column='degree', cmap='RdYlBu', markersize=3, zorder=2)\n",
    "\n",
    "# # Plot nodes\n",
    "# scatter = ax.scatter(nodes.geometry.x, nodes.geometry.y, c=nodes['degree'], cmap='RdYlBu', s=3, zorder=2)\n",
    "\n",
    "# # Create a legend\n",
    "# legend1 = ax.legend(*scatter.legend_elements(num=5),\n",
    "#                     loc=\"upper right\", title=\"Node Degree\")\n",
    "# ax.add_artist(legend1)\n",
    "\n",
    "# ax.set_axis_off()\n",
    "# plt.show()\n",
    "\n",
    "# node_degree[\"node_degree\"]\n",
    "# node_degree_aligned = node_degree[\"node_degree\"].reset_index(drop=True)\n",
    "# nodes_aligned = nodes[\"degree\"].reset_index(drop=True)\n",
    "\n",
    "# # Check if all elements are equal\n",
    "# if not (node_degree_aligned == nodes_aligned).all():\n",
    "#     raise ValueError(\"All elements in node_degree_aligned and nodes_aligned are identical.\")"
   ]
  },
  {
   "cell_type": "markdown",
   "id": "0ca7a3b7",
   "metadata": {
    "papermill": {
     "duration": null,
     "end_time": null,
     "exception": null,
     "start_time": null,
     "status": "pending"
    },
    "tags": []
   },
   "source": [
    "# Meshedness + clustering"
   ]
  },
  {
   "cell_type": "markdown",
   "id": "2496b3c5",
   "metadata": {
    "papermill": {
     "duration": null,
     "end_time": null,
     "exception": null,
     "start_time": null,
     "status": "pending"
    },
    "tags": []
   },
   "source": [
    "Eucledean Dist"
   ]
  },
  {
   "cell_type": "code",
   "execution_count": null,
   "id": "0863a034",
   "metadata": {
    "papermill": {
     "duration": null,
     "end_time": null,
     "exception": null,
     "start_time": null,
     "status": "pending"
    },
    "tags": []
   },
   "outputs": [],
   "source": [
    "## validation to networkx\n",
    "graph = momepy.gdf_to_nx(streets)\n",
    "\n",
    "graph = momepy.clustering(graph, name='clustering')\n",
    "\n",
    "graph = momepy.meshedness(graph, radius=500, name='meshedness_eucl_500', distance='mm_len')\n",
    "\n",
    "graph = momepy.nx_to_gdf(graph, points=True, lines=False, spatial_weights=False)"
   ]
  },
  {
   "cell_type": "code",
   "execution_count": null,
   "id": "a8cfaf09",
   "metadata": {
    "papermill": {
     "duration": null,
     "end_time": null,
     "exception": null,
     "start_time": null,
     "status": "pending"
    },
    "tags": []
   },
   "outputs": [],
   "source": [
    "nodes[\"meshedness_eucl_500\"] = graph[\"meshedness_eucl_500\"]\n",
    "nodes[\"clustering\"] = graph[\"clustering\"]"
   ]
  },
  {
   "cell_type": "code",
   "execution_count": null,
   "id": "a889f194",
   "metadata": {
    "papermill": {
     "duration": null,
     "end_time": null,
     "exception": null,
     "start_time": null,
     "status": "pending"
    },
    "tags": []
   },
   "outputs": [],
   "source": [
    "f, ax = plt.subplots(figsize=(10, 10))\n",
    "# Plot nodes with a higher zorder\n",
    "nodes.plot(ax=ax, column='clustering', cmap='Spectral_r', scheme='quantiles', k=15, alpha=0.6)\n",
    "streets.plot(ax=ax, color='lightgrey', alpha=0.5, zorder=1)\n",
    "ax.set_axis_off()\n",
    "plt.show()"
   ]
  },
  {
   "cell_type": "markdown",
   "id": "15c5f5cf",
   "metadata": {
    "papermill": {
     "duration": null,
     "end_time": null,
     "exception": null,
     "start_time": null,
     "status": "pending"
    },
    "tags": []
   },
   "source": [
    "Topological Distance"
   ]
  },
  {
   "cell_type": "code",
   "execution_count": null,
   "id": "19f429f6",
   "metadata": {
    "papermill": {
     "duration": null,
     "end_time": null,
     "exception": null,
     "start_time": null,
     "status": "pending"
    },
    "tags": []
   },
   "outputs": [],
   "source": [
    "## validation to networkx\n",
    "graph = momepy.gdf_to_nx(streets)\n",
    "\n",
    "graph = momepy.meshedness(graph, radius=5, name='meshedness_topo_5')\n",
    "\n",
    "graph = momepy.nx_to_gdf(graph, points=True, lines=False, spatial_weights=False)"
   ]
  },
  {
   "cell_type": "code",
   "execution_count": null,
   "id": "bf8a1503",
   "metadata": {
    "papermill": {
     "duration": null,
     "end_time": null,
     "exception": null,
     "start_time": null,
     "status": "pending"
    },
    "tags": []
   },
   "outputs": [],
   "source": [
    "nodes[\"meshedness_topo_5\"] = graph[\"meshedness_topo_5\"]"
   ]
  },
  {
   "cell_type": "code",
   "execution_count": null,
   "id": "8e2f33aa",
   "metadata": {
    "papermill": {
     "duration": null,
     "end_time": null,
     "exception": null,
     "start_time": null,
     "status": "pending"
    },
    "tags": []
   },
   "outputs": [],
   "source": [
    "f, ax = plt.subplots(figsize=(10, 10))\n",
    "# Plot nodes with a higher zorder\n",
    "nodes.plot(ax=ax, column=\"meshedness_topo_5\", cmap='Spectral_r', scheme='quantiles', k=15, alpha=0.6)\n",
    "streets.plot(ax=ax, color='lightgrey', alpha=0.5, zorder=1)\n",
    "ax.set_axis_off()\n",
    "plt.show()\n"
   ]
  },
  {
   "cell_type": "markdown",
   "id": "3b6b49b4",
   "metadata": {
    "papermill": {
     "duration": null,
     "end_time": null,
     "exception": null,
     "start_time": null,
     "status": "pending"
    },
    "tags": []
   },
   "source": [
    "# Multiple Centrality Analysis"
   ]
  },
  {
   "cell_type": "markdown",
   "id": "ebe10fe8",
   "metadata": {
    "papermill": {
     "duration": null,
     "end_time": null,
     "exception": null,
     "start_time": null,
     "status": "pending"
    },
    "tags": []
   },
   "source": [
    "## Closeness Centrality"
   ]
  },
  {
   "cell_type": "markdown",
   "id": "d2a2cd0c",
   "metadata": {
    "papermill": {
     "duration": null,
     "end_time": null,
     "exception": null,
     "start_time": null,
     "status": "pending"
    },
    "tags": []
   },
   "source": [
    "### Closeness centrality\n",
    "\n",
    "Closeness centrality could be simplified as the average distance to every other node from each node. As such, it can be measured on the whole network (Global Closeness Centrality) or within a certain limit only (Local Closeness Centrality). \n",
    "\n",
    "#### Local closeness\n",
    "To measure local `closeness_centrality` we need to specify a radius (how far we should go from each node). We can use topological distance (e.g. 5 steps, then radius=5) or metric distance (e.g. 400 metres) - then radius=400 and distance=length of each segment saved as a parameter of each edge. By default, momepy saves length as `mm_len`. \n",
    "\n",
    "The weight parameter is used for centrality calculation. Again, we can use metric weight (using the same attribute as above) or no weight (weight=None) at all. Or any other attribute we wish."
   ]
  },
  {
   "cell_type": "code",
   "execution_count": null,
   "id": "b4155fc6",
   "metadata": {
    "papermill": {
     "duration": null,
     "end_time": null,
     "exception": null,
     "start_time": null,
     "status": "pending"
    },
    "tags": []
   },
   "outputs": [],
   "source": [
    "local_closeness_clustering = momepy.closeness_centrality(primal, radius=400, name='closeness400', distance='mm_len', weight='mm_len')"
   ]
  },
  {
   "cell_type": "code",
   "execution_count": null,
   "id": "5dff3c89",
   "metadata": {
    "papermill": {
     "duration": null,
     "end_time": null,
     "exception": null,
     "start_time": null,
     "status": "pending"
    },
    "tags": []
   },
   "outputs": [],
   "source": [
    "local_closeness_clustering = momepy.nx_to_gdf(local_closeness_clustering)\n",
    "local_closeness_clustering = local_closeness_clustering[0]"
   ]
  },
  {
   "cell_type": "code",
   "execution_count": null,
   "id": "892dc9c1",
   "metadata": {
    "papermill": {
     "duration": null,
     "end_time": null,
     "exception": null,
     "start_time": null,
     "status": "pending"
    },
    "tags": []
   },
   "outputs": [],
   "source": [
    "nodes[\"closeness_clustering_400m\"] = local_closeness_clustering[\"closeness400\"]"
   ]
  },
  {
   "cell_type": "code",
   "execution_count": null,
   "id": "204a8daa",
   "metadata": {
    "papermill": {
     "duration": null,
     "end_time": null,
     "exception": null,
     "start_time": null,
     "status": "pending"
    },
    "tags": []
   },
   "outputs": [],
   "source": [
    "\n",
    "f, ax = plt.subplots(figsize=(15, 15))\n",
    "nodes.plot(ax=ax, column=\"closeness_clustering_400m\", cmap='Spectral_r', scheme='quantiles', k=15, alpha=0.6, zorder=1)\n",
    "edges.plot(ax=ax, zorder=0)\n",
    "closeness400 = nodes[\"closeness_clustering_400m\"]\n",
    "\n",
    "ax.set_axis_off()\n",
    "ax.set_title(\"closeness_clustering_400m\")\n",
    "plt.show()"
   ]
  },
  {
   "cell_type": "markdown",
   "id": "44131de2",
   "metadata": {
    "papermill": {
     "duration": null,
     "end_time": null,
     "exception": null,
     "start_time": null,
     "status": "pending"
    },
    "tags": []
   },
   "source": [
    "#### Global closeness\n",
    "\n",
    "Global closeness centrality is a bit simpler as we do not have to specify radius and distance, the rest remains the same."
   ]
  },
  {
   "cell_type": "code",
   "execution_count": null,
   "id": "e8960f73",
   "metadata": {
    "papermill": {
     "duration": null,
     "end_time": null,
     "exception": null,
     "start_time": null,
     "status": "pending"
    },
    "tags": []
   },
   "outputs": [],
   "source": [
    "gtG = nx2gt(primal)\n",
    "\n",
    "g = gt.GraphView(gtG)\n",
    "mm_len = gtG.edge_properties[\"mm_len\"]\n",
    "vp = gt.closeness(g, weight = mm_len)\n",
    "\n",
    "vertex_val = vp.get_array()\n",
    "\n",
    "nodes['global_closeness_centrality_primal']= vertex_val\n",
    "\n",
    "nodes"
   ]
  },
  {
   "cell_type": "markdown",
   "id": "bfddb2bb",
   "metadata": {
    "papermill": {
     "duration": null,
     "end_time": null,
     "exception": null,
     "start_time": null,
     "status": "pending"
    },
    "tags": []
   },
   "source": [
    "### Betweenness\n",
    "\n",
    "Betweenness centrality measures the importance of each node or edge for travelling along the network. It measures how many times each node/edge used if we walk using the shortest paths from each node to every other. \n",
    "\n",
    "We have two options of how to measure betweenness on primal graphs - on nodes or on edges.\n",
    "\n",
    "#### Node-based\n",
    "Node-based betweenness, as the name suggests, measures the betweenness of each node - how many times we would walk through the node."
   ]
  },
  {
   "cell_type": "code",
   "execution_count": null,
   "id": "a1b91767",
   "metadata": {
    "papermill": {
     "duration": null,
     "end_time": null,
     "exception": null,
     "start_time": null,
     "status": "pending"
    },
    "tags": []
   },
   "outputs": [],
   "source": [
    "gtG = nx2gt(primal)"
   ]
  },
  {
   "cell_type": "code",
   "execution_count": null,
   "id": "1de951ba",
   "metadata": {
    "papermill": {
     "duration": null,
     "end_time": null,
     "exception": null,
     "start_time": null,
     "status": "pending"
    },
    "tags": []
   },
   "outputs": [],
   "source": [
    "g = gt.GraphView(gtG)\n",
    "mm_len = gtG.edge_properties[\"mm_len\"]\n",
    "vp, ep = gt.betweenness(g, weight = mm_len)\n",
    "\n",
    "vertex_val = vp.get_array()\n",
    "\n",
    "nodes['global_betweeness_centrality_vertex']= vertex_val"
   ]
  },
  {
   "cell_type": "code",
   "execution_count": null,
   "id": "b7cbf3b3",
   "metadata": {
    "papermill": {
     "duration": null,
     "end_time": null,
     "exception": null,
     "start_time": null,
     "status": "pending"
    },
    "tags": []
   },
   "outputs": [],
   "source": [
    "nodes"
   ]
  },
  {
   "cell_type": "code",
   "execution_count": null,
   "id": "e490123d",
   "metadata": {
    "papermill": {
     "duration": null,
     "end_time": null,
     "exception": null,
     "start_time": null,
     "status": "pending"
    },
    "tags": []
   },
   "outputs": [],
   "source": [
    "f, ax = plt.subplots(figsize=(15, 15))\n",
    "nodes.plot(ax=ax, column='global_betweeness_centrality_vertex', cmap='Spectral_r', scheme='quantiles', k=15, alpha=0.6, zorder=1)\n",
    "edges.plot(ax=ax, zorder=0)\n",
    "\n",
    "ax.set_axis_off()\n",
    "ax.set_title(label='global_betweeness_centrality_vertex')\n",
    "plt.show()"
   ]
  },
  {
   "cell_type": "markdown",
   "id": "57677a62",
   "metadata": {
    "papermill": {
     "duration": null,
     "end_time": null,
     "exception": null,
     "start_time": null,
     "status": "pending"
    },
    "tags": []
   },
   "source": [
    "#### Edge-based\n",
    "\n",
    "Edge-based betweenness does the same but for edges: how many times we go through each edge (street)."
   ]
  },
  {
   "cell_type": "code",
   "execution_count": null,
   "id": "59da118c",
   "metadata": {
    "papermill": {
     "duration": null,
     "end_time": null,
     "exception": null,
     "start_time": null,
     "status": "pending"
    },
    "tags": []
   },
   "outputs": [],
   "source": [
    "edge_val = ep.get_array()\n",
    "\n",
    "edges['betweeness_centrality_edge'] = edge_val"
   ]
  },
  {
   "cell_type": "code",
   "execution_count": null,
   "id": "f999cd41",
   "metadata": {
    "papermill": {
     "duration": null,
     "end_time": null,
     "exception": null,
     "start_time": null,
     "status": "pending"
    },
    "tags": []
   },
   "outputs": [],
   "source": [
    "f, ax = plt.subplots(figsize=(15, 15))\n",
    "edges.plot(ax=ax, column='betweeness_centrality_edge', cmap='Spectral_r', scheme='quantiles', k=15, alpha=0.6, zorder=1)\n",
    "\n",
    "ax.set_axis_off()\n",
    "ax.set_title(label='betweeness_centrality_edge')\n",
    "plt.show()"
   ]
  },
  {
   "cell_type": "markdown",
   "id": "b8c750fc",
   "metadata": {
    "papermill": {
     "duration": null,
     "end_time": null,
     "exception": null,
     "start_time": null,
     "status": "pending"
    },
    "tags": []
   },
   "source": [
    "### Straightness\n",
    "\n",
    "While both closeness and betweenness are generally used in many applications of network analysis, straightness centrality is specific to street networks as it requires a geographical element. It is measured as a ratio between real and Euclidean distance while waking from each node to every other."
   ]
  },
  {
   "cell_type": "code",
   "execution_count": null,
   "id": "71d2f96b",
   "metadata": {
    "papermill": {
     "duration": null,
     "end_time": null,
     "exception": null,
     "start_time": null,
     "status": "pending"
    },
    "tags": []
   },
   "outputs": [],
   "source": [
    "primal = momepy.straightness_centrality(primal)\n",
    "gdf = momepy.nx_to_gdf(primal, lines=False)"
   ]
  },
  {
   "cell_type": "code",
   "execution_count": null,
   "id": "5d953e7c",
   "metadata": {
    "papermill": {
     "duration": null,
     "end_time": null,
     "exception": null,
     "start_time": null,
     "status": "pending"
    },
    "tags": []
   },
   "outputs": [],
   "source": [
    "nodes[\"global_straightness_centrality\"] = gdf[\"straightness\"]"
   ]
  },
  {
   "cell_type": "code",
   "execution_count": null,
   "id": "85cdcb6e",
   "metadata": {
    "papermill": {
     "duration": null,
     "end_time": null,
     "exception": null,
     "start_time": null,
     "status": "pending"
    },
    "tags": []
   },
   "outputs": [],
   "source": [
    "\n",
    "\n",
    "nodes[\"straightness_400m\"] = gdf[\"straightness\"]\n",
    "\n",
    "f, ax = plt.subplots(figsize=(15, 15))\n",
    "nodes.plot(ax=ax, column=\"straightness_400m\", cmap='Spectral_r', scheme='quantiles', k=15, alpha=0.6)\n",
    "\n",
    "ax.set_axis_off()\n",
    "ax.set_title(\"global_straightness_centrality\")\n",
    "plt.show()"
   ]
  },
  {
   "cell_type": "markdown",
   "id": "d5382db9",
   "metadata": {
    "papermill": {
     "duration": null,
     "end_time": null,
     "exception": null,
     "start_time": null,
     "status": "pending"
    },
    "tags": []
   },
   "source": [
    "### Node values averaged onto edges\n",
    "\n",
    "In some cases, it is easier to understand centrality results if they are attached to street segments, rather than intersections. We can do an approximation using the mean value attached to start and end node of each edge."
   ]
  },
  {
   "cell_type": "code",
   "execution_count": null,
   "id": "dcbd01d6",
   "metadata": {
    "papermill": {
     "duration": null,
     "end_time": null,
     "exception": null,
     "start_time": null,
     "status": "pending"
    },
    "tags": []
   },
   "outputs": [],
   "source": [
    "nodes"
   ]
  },
  {
   "cell_type": "code",
   "execution_count": null,
   "id": "a01e59dc",
   "metadata": {
    "papermill": {
     "duration": null,
     "end_time": null,
     "exception": null,
     "start_time": null,
     "status": "pending"
    },
    "tags": []
   },
   "outputs": [],
   "source": [
    "for node in primal.nodes:\n",
    "    row = nodes[nodes[\"nodeID\"] == primal.nodes[node][\"nodeID\"]].iloc[0]\n",
    "    \n",
    "    columns = row.keys().drop(['nodeID', 'geometry'])\n",
    "    for column in columns:\n",
    "        primal.nodes[node][column] = row[column]"
   ]
  },
  {
   "cell_type": "code",
   "execution_count": null,
   "id": "2b124734",
   "metadata": {
    "papermill": {
     "duration": null,
     "end_time": null,
     "exception": null,
     "start_time": null,
     "status": "pending"
    },
    "tags": []
   },
   "outputs": [],
   "source": [
    "primal.nodes"
   ]
  },
  {
   "cell_type": "code",
   "execution_count": null,
   "id": "fe703c6e",
   "metadata": {
    "papermill": {
     "duration": null,
     "end_time": null,
     "exception": null,
     "start_time": null,
     "status": "pending"
    },
    "tags": []
   },
   "outputs": [],
   "source": [
    "momepy.mean_nodes(primal, 'global_straightness_centrality')\n",
    "momepy.mean_nodes(primal, 'closeness_clustering_400m')\n",
    "momepy.mean_nodes(primal, 'global_closeness_centrality_primal')\n",
    "momepy.mean_nodes(primal, 'global_betweeness_centrality_vertex')"
   ]
  },
  {
   "cell_type": "code",
   "execution_count": null,
   "id": "e9807773",
   "metadata": {
    "papermill": {
     "duration": null,
     "end_time": null,
     "exception": null,
     "start_time": null,
     "status": "pending"
    },
    "tags": []
   },
   "outputs": [],
   "source": [
    "primal_gdf = momepy.nx_to_gdf(primal, points=False)\n",
    "\n",
    "f, ax = plt.subplots(figsize=(15, 15))\n",
    "primal_gdf.plot(ax=ax, column='global_straightness_centrality', cmap='Spectral_r', scheme='quantiles', k=15, alpha=0.6)\n",
    "ax.set_axis_off()\n",
    "ax.set_title('straightness')\n",
    "plt.show()"
   ]
  },
  {
   "cell_type": "code",
   "execution_count": null,
   "id": "5cb1dc49",
   "metadata": {
    "papermill": {
     "duration": null,
     "end_time": null,
     "exception": null,
     "start_time": null,
     "status": "pending"
    },
    "tags": []
   },
   "outputs": [],
   "source": [
    "f, ax = plt.subplots(figsize=(15, 15))\n",
    "primal_gdf.plot(ax=ax, column='closeness_clustering_400m', cmap='Spectral_r', scheme='quantiles', k=15, alpha=0.6)\n",
    "ax.set_axis_off()\n",
    "ax.set_title('closeness400 node based mean')\n",
    "plt.show()"
   ]
  },
  {
   "cell_type": "code",
   "execution_count": null,
   "id": "a480748d",
   "metadata": {
    "papermill": {
     "duration": null,
     "end_time": null,
     "exception": null,
     "start_time": null,
     "status": "pending"
    },
    "tags": []
   },
   "outputs": [],
   "source": [
    "f, ax = plt.subplots(figsize=(15, 15))\n",
    "primal_gdf.plot(ax=ax, column='global_closeness_centrality_primal', cmap='Spectral_r', scheme='quantiles', k=15, alpha=0.6)\n",
    "ax.set_axis_off()\n",
    "ax.set_title('closeness global node based mean')\n",
    "plt.show()"
   ]
  },
  {
   "cell_type": "code",
   "execution_count": null,
   "id": "c45f4c1b",
   "metadata": {
    "papermill": {
     "duration": null,
     "end_time": null,
     "exception": null,
     "start_time": null,
     "status": "pending"
    },
    "tags": []
   },
   "outputs": [],
   "source": [
    "f, ax = plt.subplots(figsize=(15, 15))\n",
    "primal_gdf.plot(ax=ax, column='global_betweeness_centrality_vertex', cmap='Spectral_r', scheme='quantiles', k=15, alpha=0.6)\n",
    "ax.set_axis_off()\n",
    "ax.set_title('betweennes node based mean')\n",
    "plt.show()"
   ]
  },
  {
   "cell_type": "code",
   "execution_count": null,
   "id": "3532fe93",
   "metadata": {
    "papermill": {
     "duration": null,
     "end_time": null,
     "exception": null,
     "start_time": null,
     "status": "pending"
    },
    "tags": []
   },
   "outputs": [],
   "source": [
    "edges[\"global_straightness_centrality\"] = primal_gdf[\"global_straightness_centrality\"]\n",
    "edges[\"closeness_clustering_400m\"] = primal_gdf[\"closeness_clustering_400m\"]\n",
    "edges[\"global_closeness_centrality_primal\t\"] = primal_gdf[\"global_closeness_centrality_primal\"]\n",
    "edges[\"global_betweeness_centrality_vertex\"] = primal_gdf[\"global_betweeness_centrality_vertex\"]"
   ]
  },
  {
   "cell_type": "code",
   "execution_count": null,
   "id": "49c210b3",
   "metadata": {
    "papermill": {
     "duration": null,
     "end_time": null,
     "exception": null,
     "start_time": null,
     "status": "pending"
    },
    "tags": []
   },
   "outputs": [],
   "source": [
    "edges"
   ]
  },
  {
   "cell_type": "markdown",
   "id": "c9eae624",
   "metadata": {
    "papermill": {
     "duration": null,
     "end_time": null,
     "exception": null,
     "start_time": null,
     "status": "pending"
    },
    "tags": []
   },
   "source": [
    "Once we have finished our network analysis on the primal graph, we can save both nodes and edges back to GeoDataFrames."
   ]
  },
  {
   "cell_type": "markdown",
   "id": "2e1ea344",
   "metadata": {
    "papermill": {
     "duration": null,
     "end_time": null,
     "exception": null,
     "start_time": null,
     "status": "pending"
    },
    "tags": []
   },
   "source": [
    "### Topological vs metric distances\n",
    "\n",
    "Centrality can be measured topologically (ignoring physical lengths of street segments) or metrically. Moreover, in the case of local centrality, local subgraphs can be also defined topologically and metrically. In the end, you have four options of how to measure centralilty, illustrated on `betweenness_centrality`:\n",
    "\n",
    "```py\n",
    "# topologically defined subgraph (5 steps) and topologically measured shortest path\n",
    "betweenness_centrality(graph, radius=5, distance=None, weight=None)\n",
    "\n",
    "# topologically defined subgraph (5 steps) and metrically measured shortest path\n",
    "betweenness_centrality(graph, radius=5, distance=None, weight='edge_length')\n",
    "\n",
    "# metrically defined subgraph (800 meters) and topologically measured shortest path\n",
    "betweenness_centrality(graph, radius=800, distance='edge_length', weight=None)\n",
    "\n",
    "# metrically defined subgraph (800 meters) and metrically measured shortest path\n",
    "betweenness_centrality(graph, radius=800, distance='edge_length', weight='edge_length')\n",
    "```"
   ]
  },
  {
   "cell_type": "markdown",
   "id": "16be07e5",
   "metadata": {
    "papermill": {
     "duration": null,
     "end_time": null,
     "exception": null,
     "start_time": null,
     "status": "pending"
    },
    "tags": []
   },
   "source": [
    "## Dual graph\n",
    "\n",
    "Dual graph is a bit more complicated concept as it represents street segments as nodes with intersections as edges connecting nodes. The geographical distance is lost as edges are of virtually no length, but we can capture the angle between connected streets. Momepy does that by default, using angles between lines connecting the start and end points of each segment. Hence, we can measure angular centrality."
   ]
  },
  {
   "cell_type": "markdown",
   "id": "101dbbb9",
   "metadata": {
    "papermill": {
     "duration": null,
     "end_time": null,
     "exception": null,
     "start_time": null,
     "status": "pending"
    },
    "tags": []
   },
   "source": [
    "**Note**: Dual graphs have naturally much more connections than primal ones, so computation of centrality on dual graph takes longer."
   ]
  },
  {
   "cell_type": "code",
   "execution_count": null,
   "id": "02979fe8",
   "metadata": {
    "papermill": {
     "duration": null,
     "end_time": null,
     "exception": null,
     "start_time": null,
     "status": "pending"
    },
    "tags": []
   },
   "outputs": [],
   "source": [
    "dual = momepy.gdf_to_nx(edges, approach='dual')"
   ]
  },
  {
   "cell_type": "markdown",
   "id": "4f738573",
   "metadata": {
    "papermill": {
     "duration": null,
     "end_time": null,
     "exception": null,
     "start_time": null,
     "status": "pending"
    },
    "tags": []
   },
   "source": [
    "### Angular closeness\n",
    "\n",
    "The situation with closeness is similar to the one done on primal graphs. We can again do global and local closeness.\n",
    "\n",
    "#### Local\n",
    "The difference is that we do not have geographic distance, so we can limit closeness topologically or by another attribute (line angle). The example below uses a topological distance of 5 steps."
   ]
  },
  {
   "cell_type": "code",
   "execution_count": null,
   "id": "a4506929",
   "metadata": {
    "papermill": {
     "duration": null,
     "end_time": null,
     "exception": null,
     "start_time": null,
     "status": "pending"
    },
    "tags": []
   },
   "outputs": [],
   "source": [
    "dual = momepy.closeness_centrality(dual, radius=5, name='angular_closeness_order_5', weight='angle')"
   ]
  },
  {
   "cell_type": "code",
   "execution_count": null,
   "id": "38e476b1",
   "metadata": {
    "papermill": {
     "duration": null,
     "end_time": null,
     "exception": null,
     "start_time": null,
     "status": "pending"
    },
    "tags": []
   },
   "outputs": [],
   "source": [
    "dual_gdf = momepy.nx_to_gdf(dual, points=False)\n",
    "\n",
    "f, ax = plt.subplots(figsize=(15, 15))\n",
    "dual_gdf.plot(ax=ax, column='angular_closeness_order_5', cmap='Spectral_r', scheme='quantiles', k=15, alpha=0.6)\n",
    "ax.set_axis_off()\n",
    "ax.set_title('closeness angular 5')\n",
    "plt.show()"
   ]
  },
  {
   "cell_type": "code",
   "execution_count": null,
   "id": "89aafefb",
   "metadata": {
    "papermill": {
     "duration": null,
     "end_time": null,
     "exception": null,
     "start_time": null,
     "status": "pending"
    },
    "tags": []
   },
   "outputs": [],
   "source": [
    "edges['angular_closeness_order_5'] = dual_gdf['angular_closeness_order_5']"
   ]
  },
  {
   "cell_type": "markdown",
   "id": "c7c9dc86",
   "metadata": {
    "papermill": {
     "duration": null,
     "end_time": null,
     "exception": null,
     "start_time": null,
     "status": "pending"
    },
    "tags": []
   },
   "source": [
    "#### Global\n",
    "\n",
    "Global angular closeness is then straightforward."
   ]
  },
  {
   "cell_type": "code",
   "execution_count": null,
   "id": "e40822af",
   "metadata": {
    "papermill": {
     "duration": null,
     "end_time": null,
     "exception": null,
     "start_time": null,
     "status": "pending"
    },
    "tags": []
   },
   "outputs": [],
   "source": [
    "gtG = nx2gt(dual)\n",
    "\n",
    "g = gt.GraphView(gtG)\n",
    "vp = gt.closeness(g)\n",
    "\n",
    "vertex_val = vp.get_array()\n"
   ]
  },
  {
   "cell_type": "code",
   "execution_count": null,
   "id": "2e3d7028",
   "metadata": {
    "papermill": {
     "duration": null,
     "end_time": null,
     "exception": null,
     "start_time": null,
     "status": "pending"
    },
    "tags": []
   },
   "outputs": [],
   "source": [
    "edges['global_angular_closeness'] = vertex_val"
   ]
  },
  {
   "cell_type": "code",
   "execution_count": null,
   "id": "903d7d3f",
   "metadata": {
    "papermill": {
     "duration": null,
     "end_time": null,
     "exception": null,
     "start_time": null,
     "status": "pending"
    },
    "tags": []
   },
   "outputs": [],
   "source": [
    "edges"
   ]
  },
  {
   "cell_type": "code",
   "execution_count": null,
   "id": "bb8020a3",
   "metadata": {
    "papermill": {
     "duration": null,
     "end_time": null,
     "exception": null,
     "start_time": null,
     "status": "pending"
    },
    "tags": []
   },
   "outputs": [],
   "source": [
    "dual_gdf = momepy.nx_to_gdf(dual, points=False)\n",
    "f, ax = plt.subplots(figsize=(15, 15))\n",
    "edges.plot(ax=ax, column='global_angular_closeness', cmap='Spectral_r', scheme='quantiles', k=15, alpha=0.6)\n",
    "ax.set_axis_off()\n",
    "ax.set_title('global_angular_closeness')\n",
    "plt.show()"
   ]
  },
  {
   "cell_type": "markdown",
   "id": "0ed4bac1",
   "metadata": {
    "papermill": {
     "duration": null,
     "end_time": null,
     "exception": null,
     "start_time": null,
     "status": "pending"
    },
    "tags": []
   },
   "source": [
    "### Angular betweenness\n",
    "The last option momepy offers is angular betweenness. Just keep in mind, that nodes and edges are not representing the same concepts and it does not make much sense to measure angular betweenness on edges. Moreover, `nx_to_gdf` converts a dual graph to a LineString gdf only."
   ]
  },
  {
   "cell_type": "code",
   "execution_count": null,
   "id": "55fbecd3",
   "metadata": {
    "papermill": {
     "duration": null,
     "end_time": null,
     "exception": null,
     "start_time": null,
     "status": "pending"
    },
    "tags": []
   },
   "outputs": [],
   "source": [
    "angle = gtG.edge_properties[\"angle\"]\n",
    "ep, vp = gt.betweenness(g, weight = angle)\n",
    "\n",
    "edges_val = ep.get_array()"
   ]
  },
  {
   "cell_type": "code",
   "execution_count": null,
   "id": "1ebf39c2",
   "metadata": {
    "papermill": {
     "duration": null,
     "end_time": null,
     "exception": null,
     "start_time": null,
     "status": "pending"
    },
    "tags": []
   },
   "outputs": [],
   "source": [
    "edges[\"global_angular_betweeness\"] = edges_val"
   ]
  },
  {
   "cell_type": "code",
   "execution_count": null,
   "id": "2db1538a",
   "metadata": {
    "papermill": {
     "duration": null,
     "end_time": null,
     "exception": null,
     "start_time": null,
     "status": "pending"
    },
    "tags": []
   },
   "outputs": [],
   "source": [
    "df, ax = plt.subplots(figsize=(15, 15))\n",
    "edges.plot(ax=ax, column=\"global_angular_betweeness\", cmap='Spectral_r', scheme='quantiles', k=15, alpha=0.6)\n",
    "ax.set_axis_off()\n",
    "ax.set_title('betweenness angular')\n",
    "plt.show()"
   ]
  },
  {
   "cell_type": "code",
   "execution_count": null,
   "id": "48cf9f9c",
   "metadata": {
    "papermill": {
     "duration": null,
     "end_time": null,
     "exception": null,
     "start_time": null,
     "status": "pending"
    },
    "tags": []
   },
   "outputs": [],
   "source": [
    "edges.to_parquet(f\"../output/{place}/edges.pq\")\n",
    "nodes.to_parquet(f\"../output/{place}/nodes.pq\")"
   ]
  }
 ],
 "metadata": {
  "kernelspec": {
   "display_name": "processor",
   "language": "python",
   "name": "python3"
  },
  "language_info": {
   "codemirror_mode": {
    "name": "ipython",
    "version": 3
   },
   "file_extension": ".py",
   "mimetype": "text/x-python",
   "name": "python",
   "nbconvert_exporter": "python",
   "pygments_lexer": "ipython3",
   "version": "3.11.6"
  },
  "papermill": {
   "default_parameters": {},
   "duration": 2.71006,
   "end_time": "2023-12-27T22:25:12.530841",
   "environment_variables": {},
   "exception": true,
   "input_path": "4_network.ipynb",
   "output_path": "../output/Birmingham/Birmingham_4_network.ipynb",
   "parameters": {
    "country": "UK",
    "crs": 4326,
    "lat": 52.47790683186595,
    "lng": -1.8999014571831943,
    "local_crs": 4326,
    "place": "Birmingham",
    "radius": 20
   },
   "start_time": "2023-12-27T22:25:09.820781",
   "version": "2.4.0"
  }
 },
 "nbformat": 4,
 "nbformat_minor": 5
}