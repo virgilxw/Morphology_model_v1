{
 "cells": [
  {
   "cell_type": "code",
   "execution_count": null,
   "metadata": {},
   "outputs": [],
   "source": [
    "import momepy\n",
    "import pandas as pd\n",
    "import geopandas as gpd\n",
    "import shapely\n",
    "from shapely.geometry import Point, box\n",
    "from shapely.ops import unary_union\n",
    "import planetary_computer\n",
    "import pystac_client\n",
    "import dask.dataframe\n",
    "import dask_geopandas as dgd\n",
    "import dask.distributed\n",
    "import deltalake\n",
    "import shapely.geometry\n",
    "import mercantile\n",
    "import rasterio\n",
    "from rasterio.windows import from_bounds\n",
    "from pyproj import transform\n",
    "from rasterio.warp import calculate_default_transform, reproject, Resampling\n",
    "import rasterio.mask\n",
    "from rasterio.plot import show\n",
    "from shapely.geometry import shape, Polygon, mapping\n",
    "import fiona\n",
    "from rasterio.features import shapes"
   ]
  },
  {
   "cell_type": "code",
   "execution_count": null,
   "metadata": {},
   "outputs": [],
   "source": [
    "local_crs = 27700\n",
    "place = \"glasgow\"\n",
    "latlng = (-4.251846930489373, 55.86421405612109)\n",
    "dist = 30000\n",
    "country = \"united kingdom\"\n",
    "crs=4326"
   ]
  },
  {
   "cell_type": "code",
   "execution_count": null,
   "metadata": {},
   "outputs": [],
   "source": [
    "def create_square(center_point, distance):\n",
    "    \"\"\"\n",
    "    Create a square polygon centered on the given point.\n",
    "    The 'distance' parameter is half the side length of the square.\n",
    "    \"\"\"\n",
    "    x, y = center_point.x, center_point.y\n",
    "    return Polygon([(x - distance, y - distance),\n",
    "                    (x - distance, y + distance),\n",
    "                    (x + distance, y + distance),\n",
    "                    (x + distance, y - distance)])\n",
    "\n",
    "# Create a GeoSeries with the specified point\n",
    "gdf = gpd.GeoSeries([Point(latlng[0], latlng[1])], crs=crs)\n",
    "\n",
    "# Reproject to a coordinate system that uses meters (UTM)\n",
    "gdf_utm = gdf.to_crs(epsg=local_crs)\n",
    "\n",
    "# Get the center point in UTM coordinates\n",
    "center_point = gdf_utm[0]\n",
    "\n",
    "# Create a square polygon centered on the point\n",
    "# The distance parameter is half the side length of the square.\n",
    "# For a 50 km square, the distance will be 25 km.\n",
    "square = create_square(center_point, 25000)  # 25 km half the side length\n",
    "\n",
    "# Create a GeoSeries for the square in UTM coordinates\n",
    "square_gs_utm = gpd.GeoSeries([square], crs=gdf_utm.crs)\n",
    "\n",
    "# Reproject the square back to the original CRS\n",
    "area_of_interest = square_gs_utm.to_crs(epsg=crs)\n",
    "\n",
    "# Plotting\n",
    "area_of_interest.explore()"
   ]
  },
  {
   "cell_type": "code",
   "execution_count": null,
   "metadata": {},
   "outputs": [],
   "source": [
    "# # Create a GeoDataFrame with the specified point\n",
    "# gdf = gpd.GeoDataFrame(geometry=[Point(latlng[0], latlng[1])], crs=crs)\n",
    "\n",
    "# # Reproject to a coordinate system that uses meters (UTM)\n",
    "# gdf_utm = gdf.to_crs(epsg=local_crs)\n",
    "\n",
    "# # Create a 50 km buffer around the point\n",
    "# buffer = gdf_utm.buffer(10000)  # 50 km buffer\n",
    "\n",
    "# # Reproject buffer back to original CRS\n",
    "# area_of_interest = buffer.to_crs(epsg=crs)\n",
    "\n",
    "# # Plottin\n",
    "# area_of_interest.explore()\n",
    "\n"
   ]
  },
  {
   "cell_type": "code",
   "execution_count": null,
   "metadata": {},
   "outputs": [],
   "source": [
    "type(area_of_interest)"
   ]
  },
  {
   "cell_type": "code",
   "execution_count": null,
   "metadata": {},
   "outputs": [],
   "source": [
    "# Read only the portion of the GeoTIFF that intersects with the AOI\n",
    "\n",
    "cell_polygons = []\n",
    "with rasterio.open(\"output/built_height.tif\") as src:\n",
    "    # Calculate the window to read based on AOI bounds\n",
    "    out_image, transformed = rasterio.mask.mask(src, area_of_interest, crop=True, filled=True)\n",
    "    out_profile = src.profile.copy()\n",
    "    \n",
    "out_profile.update({'width': out_image.shape[2],'height': out_image.shape[1], 'transform': transformed})\n",
    "with rasterio.open(f\"output/{place}.tif\", 'w', **out_profile) as dst:\n",
    "    dst.write(out_image)\n",
    "    \n",
    "with rasterio.open(f\"output/{place}.tif\") as src:\n",
    "    show(src)"
   ]
  },
  {
   "cell_type": "code",
   "execution_count": null,
   "metadata": {},
   "outputs": [],
   "source": [
    "def get_cell_polygon(x, y, transform):\n",
    "    \"\"\"\n",
    "    Create a polygon for the given cell coordinates (x, y) using the affine transform.\n",
    "    \"\"\"\n",
    "    tl = transform * (x, y)\n",
    "    tr = transform * (x + 1, y)\n",
    "    br = transform * (x + 1, y + 1)\n",
    "    bl = transform * (x, y + 1)\n",
    "    return Polygon([tl, tr, br, bl, tl])"
   ]
  },
  {
   "cell_type": "code",
   "execution_count": null,
   "metadata": {},
   "outputs": [],
   "source": [
    "mask = None\n",
    "with rasterio.Env():\n",
    "    with rasterio.open(f\"output/{place}.tif\") as src:\n",
    "        image = src.read(1) # first band\n",
    "        transform = src.transform\n",
    "\n",
    "        # Prepare schema for shapefile\n",
    "        schema = {\n",
    "            'properties': [('raster_val', 'int')],\n",
    "            'geometry': 'Polygon'\n",
    "        }\n",
    "\n",
    "        with fiona.open(f\"output/{place}_height_cells.shp\", 'w', \n",
    "                        driver='ESRI Shapefile',\n",
    "                        crs=src.crs,\n",
    "                        schema=schema) as dst:\n",
    "            \n",
    "            # Iterate over each pixel in the raster\n",
    "            for row in range(image.shape[0]):\n",
    "                for col in range(image.shape[1]):\n",
    "                    value = image[row, col]\n",
    "                    polygon = get_cell_polygon(col, row, transform)\n",
    "                    dst.write({\n",
    "                        'properties': {'raster_val': int(value)},\n",
    "                        'geometry': mapping(polygon)\n",
    "                    })"
   ]
  },
  {
   "cell_type": "code",
   "execution_count": null,
   "metadata": {},
   "outputs": [],
   "source": [
    "area_of_interest[0].bounds"
   ]
  },
  {
   "cell_type": "code",
   "execution_count": null,
   "metadata": {},
   "outputs": [],
   "source": [
    "catalog = pystac_client.Client.open(\n",
    "    \"https://planetarycomputer.microsoft.com/api/stac/v1\",\n",
    "    modifier=planetary_computer.sign_inplace,\n",
    ")\n",
    "collection = catalog.get_collection(\"ms-buildings\")\n",
    "\n",
    "asset = collection.assets[\"delta\"]\n",
    "\n",
    "storage_options = {\n",
    "    \"account_name\": asset.extra_fields[\"table:storage_options\"][\"account_name\"],\n",
    "    \"sas_token\": asset.extra_fields[\"table:storage_options\"][\"credential\"],\n",
    "}\n",
    "table = deltalake.DeltaTable(asset.href, storage_options=storage_options)\n",
    "\n",
    "quadkeys = [\n",
    "    int(mercantile.quadkey(tile))\n",
    "    for tile in mercantile.tiles(*area_of_interest[0].bounds, zooms=9)\n",
    "]\n",
    "quadkeys\n",
    "\n",
    "uris = table.file_uris([(\"quadkey\", \"in\", quadkeys)])\n",
    "uris\n",
    "\n",
    "df = dgd.read_parquet(uris, storage_options=storage_options)\n"
   ]
  },
  {
   "cell_type": "code",
   "execution_count": null,
   "metadata": {},
   "outputs": [],
   "source": [
    "buildings = dgd.sjoin(df, gpd.GeoDataFrame(geometry=area_of_interest), how=\"inner\", op=\"intersects\").compute()\n",
    "buildings.explore()"
   ]
  },
  {
   "cell_type": "code",
   "execution_count": 20,
   "metadata": {},
   "outputs": [],
   "source": [
    "buildings.to_parquet('output/building_footprints/glasgow_buildings_50km.pq', index=False)\n",
    "# buildings = gpd.read_parquet('output/building_footprints/glasgow_buildings_50km.pq')"
   ]
  }
 ],
 "metadata": {
  "kernelspec": {
   "display_name": "base",
   "language": "python",
   "name": "python3"
  },
  "language_info": {
   "codemirror_mode": {
    "name": "ipython",
    "version": 3
   },
   "file_extension": ".py",
   "mimetype": "text/x-python",
   "name": "python",
   "nbconvert_exporter": "python",
   "pygments_lexer": "ipython3",
   "version": "3.11.6"
  },
  "orig_nbformat": 4
 },
 "nbformat": 4,
 "nbformat_minor": 2
}
