{
 "cells": [
  {
   "cell_type": "code",
   "execution_count": 1,
   "metadata": {},
   "outputs": [
    {
     "name": "stderr",
     "output_type": "stream",
     "text": [
      "/root/miniconda3/lib/python3.11/site-packages/tqdm/auto.py:21: TqdmWarning: IProgress not found. Please update jupyter and ipywidgets. See https://ipywidgets.readthedocs.io/en/stable/user_install.html\n",
      "  from .autonotebook import tqdm as notebook_tqdm\n"
     ]
    }
   ],
   "source": [
    "import momepy\n",
    "import geopandas as gpd\n",
    "import shapely\n",
    "from shapely.geometry import LineString, Point\n",
    "from shapely.ops import unary_union\n",
    "import os\n",
    "from dotenv import load_dotenv\n",
    "import planetary_computer\n",
    "import pystac_client\n",
    "import dask.dataframe\n",
    "import dgd\n",
    "import dask.distributed\n",
    "import deltalake\n",
    "import shapely.geometry\n",
    "import mercantile"
   ]
  },
  {
   "cell_type": "code",
   "execution_count": 63,
   "metadata": {},
   "outputs": [],
   "source": [
    "local_crs = 27700\n",
    "place = \"glasgow\"\n",
    "lnglat = (-4.251846930489373, 55.86421405612109)\n",
    "dist = 30000\n",
    "country = \"united kingdom\""
   ]
  },
  {
   "cell_type": "code",
   "execution_count": 58,
   "metadata": {},
   "outputs": [],
   "source": [
    "# Create a GeoDataFrame with the specified point\n",
    "gdf = gpd.GeoDataFrame(geometry=[Point(lnglat[0], lnglat[1])], crs=4326)\n",
    "\n",
    "# Reproject to a coordinate system that uses meters (UTM)\n",
    "gdf_utm = gdf.to_crs(epsg=local_crs)\n",
    "\n",
    "# Create a 50 km buffer around the point\n",
    "buffer = gdf_utm.buffer(1000)  # 50 km buffer\n",
    "\n",
    "# Reproject buffer back to original CRS\n",
    "area_of_interest = buffer.to_crs(epsg=4326)\n",
    "\n",
    "# Plottin\n",
    "area_of_interest.explore()\n",
    "\n",
    "area_of_interest = area_of_interest[0]"
   ]
  },
  {
   "cell_type": "code",
   "execution_count": 66,
   "metadata": {},
   "outputs": [
    {
     "data": {
      "text/html": [
       "<div><strong>Dask-GeoPandas GeoDataFrame Structure:</strong></div>\n",
       "<div>\n",
       "<style scoped>\n",
       "    .dataframe tbody tr th:only-of-type {\n",
       "        vertical-align: middle;\n",
       "    }\n",
       "\n",
       "    .dataframe tbody tr th {\n",
       "        vertical-align: top;\n",
       "    }\n",
       "\n",
       "    .dataframe thead th {\n",
       "        text-align: right;\n",
       "    }\n",
       "</style>\n",
       "<table border=\"1\" class=\"dataframe\">\n",
       "  <thead>\n",
       "    <tr style=\"text-align: right;\">\n",
       "      <th></th>\n",
       "      <th>geometry</th>\n",
       "      <th>meanHeight</th>\n",
       "      <th>RegionName</th>\n",
       "      <th>quadkey</th>\n",
       "    </tr>\n",
       "    <tr>\n",
       "      <th>npartitions=1</th>\n",
       "      <th></th>\n",
       "      <th></th>\n",
       "      <th></th>\n",
       "      <th></th>\n",
       "    </tr>\n",
       "  </thead>\n",
       "  <tbody>\n",
       "    <tr>\n",
       "      <th></th>\n",
       "      <td>geometry</td>\n",
       "      <td>float32</td>\n",
       "      <td>category[known]</td>\n",
       "      <td>category[known]</td>\n",
       "    </tr>\n",
       "    <tr>\n",
       "      <th></th>\n",
       "      <td>...</td>\n",
       "      <td>...</td>\n",
       "      <td>...</td>\n",
       "      <td>...</td>\n",
       "    </tr>\n",
       "  </tbody>\n",
       "</table>\n",
       "</div>\n",
       "<div>Dask Name: read-parquet, 1 graph layer</div>"
      ],
      "text/plain": [
       "Dask GeoDataFrame Structure:\n",
       "               geometry meanHeight       RegionName          quadkey\n",
       "npartitions=1                                                       \n",
       "               geometry    float32  category[known]  category[known]\n",
       "                    ...        ...              ...              ...\n",
       "Dask Name: read-parquet, 1 graph layer"
      ]
     },
     "execution_count": 66,
     "metadata": {},
     "output_type": "execute_result"
    }
   ],
   "source": [
    "catalog = pystac_client.Client.open(\n",
    "    \"https://planetarycomputer.microsoft.com/api/stac/v1\",\n",
    "    modifier=planetary_computer.sign_inplace,\n",
    ")\n",
    "collection = catalog.get_collection(\"ms-buildings\")\n",
    "\n",
    "asset = collection.assets[\"delta\"]\n",
    "\n",
    "storage_options = {\n",
    "    \"account_name\": asset.extra_fields[\"table:storage_options\"][\"account_name\"],\n",
    "    \"sas_token\": asset.extra_fields[\"table:storage_options\"][\"credential\"],\n",
    "}\n",
    "table = deltalake.DeltaTable(asset.href, storage_options=storage_options)\n",
    "\n",
    "quadkeys = [\n",
    "    int(mercantile.quadkey(tile))\n",
    "    for tile in mercantile.tiles(*area_of_interest.bounds, zooms=9)\n",
    "]\n",
    "quadkeys\n",
    "\n",
    "uris = table.file_uris([(\"quadkey\", \"in\", quadkeys)])\n",
    "uris\n",
    "\n",
    "df = dgd.read_parquet(uris, storage_options=storage_options)\n",
    "df\n"
   ]
  },
  {
   "cell_type": "code",
   "execution_count": 64,
   "metadata": {},
   "outputs": [
    {
     "ename": "ValueError",
     "evalue": "An error occurred while calling the read_parquet method registered to the pandas backend.\nOriginal Message: empty urlpath sequence",
     "output_type": "error",
     "traceback": [
      "\u001b[0;31m---------------------------------------------------------------------------\u001b[0m",
      "\u001b[0;31mValueError\u001b[0m                                Traceback (most recent call last)",
      "File \u001b[0;32m~/miniconda3/lib/python3.11/site-packages/dask/backends.py:136\u001b[0m, in \u001b[0;36mCreationDispatch.register_inplace.<locals>.decorator.<locals>.wrapper\u001b[0;34m(*args, **kwargs)\u001b[0m\n\u001b[1;32m    135\u001b[0m \u001b[39mtry\u001b[39;00m:\n\u001b[0;32m--> 136\u001b[0m     \u001b[39mreturn\u001b[39;00m func(\u001b[39m*\u001b[39;49margs, \u001b[39m*\u001b[39;49m\u001b[39m*\u001b[39;49mkwargs)\n\u001b[1;32m    137\u001b[0m \u001b[39mexcept\u001b[39;00m \u001b[39mException\u001b[39;00m \u001b[39mas\u001b[39;00m e:\n",
      "File \u001b[0;32m~/miniconda3/lib/python3.11/site-packages/dask/dataframe/io/parquet/core.py:514\u001b[0m, in \u001b[0;36mread_parquet\u001b[0;34m(path, columns, filters, categories, index, storage_options, engine, use_nullable_dtypes, dtype_backend, calculate_divisions, ignore_metadata_file, metadata_task_size, split_row_groups, blocksize, aggregate_files, parquet_file_extension, filesystem, **kwargs)\u001b[0m\n\u001b[1;32m    513\u001b[0m \u001b[39m# Extract global filesystem and paths\u001b[39;00m\n\u001b[0;32m--> 514\u001b[0m fs, paths, dataset_options, open_file_options \u001b[39m=\u001b[39m engine\u001b[39m.\u001b[39;49mextract_filesystem(\n\u001b[1;32m    515\u001b[0m     path,\n\u001b[1;32m    516\u001b[0m     filesystem,\n\u001b[1;32m    517\u001b[0m     dataset_options,\n\u001b[1;32m    518\u001b[0m     open_file_options,\n\u001b[1;32m    519\u001b[0m     storage_options,\n\u001b[1;32m    520\u001b[0m )\n\u001b[1;32m    521\u001b[0m read_options[\u001b[39m\"\u001b[39m\u001b[39mopen_file_options\u001b[39m\u001b[39m\"\u001b[39m] \u001b[39m=\u001b[39m open_file_options\n",
      "File \u001b[0;32m~/miniconda3/lib/python3.11/site-packages/dask/dataframe/io/parquet/arrow.py:479\u001b[0m, in \u001b[0;36mArrowDatasetEngine.extract_filesystem\u001b[0;34m(cls, urlpath, filesystem, dataset_options, open_file_options, storage_options)\u001b[0m\n\u001b[1;32m    478\u001b[0m \u001b[39m# Use default file-system initialization\u001b[39;00m\n\u001b[0;32m--> 479\u001b[0m \u001b[39mreturn\u001b[39;00m Engine\u001b[39m.\u001b[39;49mextract_filesystem(\n\u001b[1;32m    480\u001b[0m     urlpath,\n\u001b[1;32m    481\u001b[0m     fs,\n\u001b[1;32m    482\u001b[0m     dataset_options,\n\u001b[1;32m    483\u001b[0m     open_file_options,\n\u001b[1;32m    484\u001b[0m     storage_options,\n\u001b[1;32m    485\u001b[0m )\n",
      "File \u001b[0;32m~/miniconda3/lib/python3.11/site-packages/dask/dataframe/io/parquet/utils.py:73\u001b[0m, in \u001b[0;36mEngine.extract_filesystem\u001b[0;34m(cls, urlpath, filesystem, dataset_options, open_file_options, storage_options)\u001b[0m\n\u001b[1;32m     71\u001b[0m \u001b[39mif\u001b[39;00m fs \u001b[39min\u001b[39;00m (\u001b[39mNone\u001b[39;00m, \u001b[39m\"\u001b[39m\u001b[39mfsspec\u001b[39m\u001b[39m\"\u001b[39m):\n\u001b[1;32m     72\u001b[0m     \u001b[39m# Use fsspec to infer a filesystem by default\u001b[39;00m\n\u001b[0;32m---> 73\u001b[0m     fs, _, paths \u001b[39m=\u001b[39m get_fs_token_paths(\n\u001b[1;32m     74\u001b[0m         urlpath, mode\u001b[39m=\u001b[39;49m\u001b[39m\"\u001b[39;49m\u001b[39mrb\u001b[39;49m\u001b[39m\"\u001b[39;49m, storage_options\u001b[39m=\u001b[39;49mstorage_options\n\u001b[1;32m     75\u001b[0m     )\n\u001b[1;32m     76\u001b[0m     \u001b[39mreturn\u001b[39;00m fs, paths, dataset_options, open_file_options\n",
      "File \u001b[0;32m~/miniconda3/lib/python3.11/site-packages/fsspec/core.py:603\u001b[0m, in \u001b[0;36mget_fs_token_paths\u001b[0;34m(urlpath, mode, num, name_function, storage_options, protocol, expand)\u001b[0m\n\u001b[1;32m    602\u001b[0m \u001b[39mif\u001b[39;00m \u001b[39mnot\u001b[39;00m urlpath:\n\u001b[0;32m--> 603\u001b[0m     \u001b[39mraise\u001b[39;00m \u001b[39mValueError\u001b[39;00m(\u001b[39m\"\u001b[39m\u001b[39mempty urlpath sequence\u001b[39m\u001b[39m\"\u001b[39m)\n\u001b[1;32m    604\u001b[0m urlpath0 \u001b[39m=\u001b[39m stringify_path(\u001b[39mlist\u001b[39m(urlpath)[\u001b[39m0\u001b[39m])\n",
      "\u001b[0;31mValueError\u001b[0m: empty urlpath sequence",
      "\nThe above exception was the direct cause of the following exception:\n",
      "\u001b[0;31mValueError\u001b[0m                                Traceback (most recent call last)",
      "\u001b[1;32m/mnt/c/repo/Morphology_model_v1/Morphology_model_v1/script.ipynb Cell 5\u001b[0m line \u001b[0;36m4\n\u001b[1;32m      <a href='vscode-notebook-cell://wsl%2Bubuntu/mnt/c/repo/Morphology_model_v1/Morphology_model_v1/script.ipynb#X20sdnNjb2RlLXJlbW90ZQ%3D%3D?line=0'>1</a>\u001b[0m uris \u001b[39m=\u001b[39m table\u001b[39m.\u001b[39mfile_uris([(\u001b[39m\"\u001b[39m\u001b[39mRegionName\u001b[39m\u001b[39m\"\u001b[39m, \u001b[39m\"\u001b[39m\u001b[39m=\u001b[39m\u001b[39m\"\u001b[39m, country), (\u001b[39m\"\u001b[39m\u001b[39mquadkey\u001b[39m\u001b[39m\"\u001b[39m, \u001b[39m\"\u001b[39m\u001b[39min\u001b[39m\u001b[39m\"\u001b[39m, quadkeys)])\n\u001b[1;32m      <a href='vscode-notebook-cell://wsl%2Bubuntu/mnt/c/repo/Morphology_model_v1/Morphology_model_v1/script.ipynb#X20sdnNjb2RlLXJlbW90ZQ%3D%3D?line=1'>2</a>\u001b[0m uris\n\u001b[0;32m----> <a href='vscode-notebook-cell://wsl%2Bubuntu/mnt/c/repo/Morphology_model_v1/Morphology_model_v1/script.ipynb#X20sdnNjb2RlLXJlbW90ZQ%3D%3D?line=3'>4</a>\u001b[0m df \u001b[39m=\u001b[39m dask_geopandas\u001b[39m.\u001b[39;49mread_parquet(uris, storage_options\u001b[39m=\u001b[39;49mstorage_options)\n\u001b[1;32m      <a href='vscode-notebook-cell://wsl%2Bubuntu/mnt/c/repo/Morphology_model_v1/Morphology_model_v1/script.ipynb#X20sdnNjb2RlLXJlbW90ZQ%3D%3D?line=4'>5</a>\u001b[0m df\n\u001b[1;32m      <a href='vscode-notebook-cell://wsl%2Bubuntu/mnt/c/repo/Morphology_model_v1/Morphology_model_v1/script.ipynb#X20sdnNjb2RlLXJlbW90ZQ%3D%3D?line=6'>7</a>\u001b[0m subset \u001b[39m=\u001b[39m df\u001b[39m.\u001b[39mclip(area_of_interest)\u001b[39m.\u001b[39mcompute()\n",
      "File \u001b[0;32m~/miniconda3/lib/python3.11/site-packages/dask_geopandas/io/parquet.py:112\u001b[0m, in \u001b[0;36mread_parquet\u001b[0;34m(*args, **kwargs)\u001b[0m\n\u001b[1;32m    111\u001b[0m \u001b[39mdef\u001b[39;00m \u001b[39mread_parquet\u001b[39m(\u001b[39m*\u001b[39margs, \u001b[39m*\u001b[39m\u001b[39m*\u001b[39mkwargs):\n\u001b[0;32m--> 112\u001b[0m     result \u001b[39m=\u001b[39m dd\u001b[39m.\u001b[39;49mread_parquet(\u001b[39m*\u001b[39;49margs, engine\u001b[39m=\u001b[39;49mGeoArrowEngine, \u001b[39m*\u001b[39;49m\u001b[39m*\u001b[39;49mkwargs)\n\u001b[1;32m    113\u001b[0m     \u001b[39m# check if spatial partitioning information was stored\u001b[39;00m\n\u001b[1;32m    114\u001b[0m     spatial_partitions \u001b[39m=\u001b[39m result\u001b[39m.\u001b[39m_meta\u001b[39m.\u001b[39mattrs\u001b[39m.\u001b[39mget(\u001b[39m\"\u001b[39m\u001b[39mspatial_partitions\u001b[39m\u001b[39m\"\u001b[39m, \u001b[39mNone\u001b[39;00m)\n",
      "File \u001b[0;32m~/miniconda3/lib/python3.11/site-packages/dask/backends.py:138\u001b[0m, in \u001b[0;36mCreationDispatch.register_inplace.<locals>.decorator.<locals>.wrapper\u001b[0;34m(*args, **kwargs)\u001b[0m\n\u001b[1;32m    136\u001b[0m     \u001b[39mreturn\u001b[39;00m func(\u001b[39m*\u001b[39margs, \u001b[39m*\u001b[39m\u001b[39m*\u001b[39mkwargs)\n\u001b[1;32m    137\u001b[0m \u001b[39mexcept\u001b[39;00m \u001b[39mException\u001b[39;00m \u001b[39mas\u001b[39;00m e:\n\u001b[0;32m--> 138\u001b[0m     \u001b[39mraise\u001b[39;00m \u001b[39mtype\u001b[39m(e)(\n\u001b[1;32m    139\u001b[0m         \u001b[39mf\u001b[39m\u001b[39m\"\u001b[39m\u001b[39mAn error occurred while calling the \u001b[39m\u001b[39m{\u001b[39;00mfuncname(func)\u001b[39m}\u001b[39;00m\u001b[39m \u001b[39m\u001b[39m\"\u001b[39m\n\u001b[1;32m    140\u001b[0m         \u001b[39mf\u001b[39m\u001b[39m\"\u001b[39m\u001b[39mmethod registered to the \u001b[39m\u001b[39m{\u001b[39;00m\u001b[39mself\u001b[39m\u001b[39m.\u001b[39mbackend\u001b[39m}\u001b[39;00m\u001b[39m backend.\u001b[39m\u001b[39m\\n\u001b[39;00m\u001b[39m\"\u001b[39m\n\u001b[1;32m    141\u001b[0m         \u001b[39mf\u001b[39m\u001b[39m\"\u001b[39m\u001b[39mOriginal Message: \u001b[39m\u001b[39m{\u001b[39;00me\u001b[39m}\u001b[39;00m\u001b[39m\"\u001b[39m\n\u001b[1;32m    142\u001b[0m     ) \u001b[39mfrom\u001b[39;00m \u001b[39me\u001b[39;00m\n",
      "\u001b[0;31mValueError\u001b[0m: An error occurred while calling the read_parquet method registered to the pandas backend.\nOriginal Message: empty urlpath sequence"
     ]
    }
   ],
   "source": [
    "subset = dgd.sjoin(df, area_of_interest, how=\"inner\", op=\"intersects\").compute()\n",
    "subset.explore()"
   ]
  },
  {
   "cell_type": "code",
   "execution_count": 49,
   "metadata": {},
   "outputs": [],
   "source": [
    "asset = collection.assets[\"delta\"]"
   ]
  }
 ],
 "metadata": {
  "kernelspec": {
   "display_name": "base",
   "language": "python",
   "name": "python3"
  },
  "language_info": {
   "codemirror_mode": {
    "name": "ipython",
    "version": 3
   },
   "file_extension": ".py",
   "mimetype": "text/x-python",
   "name": "python",
   "nbconvert_exporter": "python",
   "pygments_lexer": "ipython3",
   "version": "3.11.6"
  },
  "orig_nbformat": 4
 },
 "nbformat": 4,
 "nbformat_minor": 2
}
