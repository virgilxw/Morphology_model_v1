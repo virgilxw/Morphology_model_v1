{
 "cells": [
  {
   "cell_type": "code",
   "execution_count": 2,
   "metadata": {},
   "outputs": [],
   "source": [
    "import papermill as pm\n",
    "import geopandas as gpd\n",
    "import os\n",
    "import time\n",
    "import shutil\n",
    "from dask.distributed import Client, LocalCluster"
   ]
  },
  {
   "cell_type": "code",
   "execution_count": 10,
   "metadata": {},
   "outputs": [],
   "source": [
    "local_crs = 3414\n",
    "place = \"singapore\"\n",
    "lat = 1.287953\n",
    "lng = 103.851784\n",
    "crs=4326"
   ]
  },
  {
   "cell_type": "code",
   "execution_count": 12,
   "metadata": {},
   "outputs": [
    {
     "name": "stderr",
     "output_type": "stream",
     "text": [
      "\n",
      "\u001b[A0.00s - Debugger warning: It seems that frozen modules are being used, which may\n",
      "0.00s - make the debugger miss breakpoints. Please pass -Xfrozen_modules=off\n",
      "0.00s - to python to disable frozen modules.\n",
      "0.00s - Note: Debugging will proceed. Set PYDEVD_DISABLE_FILE_VALIDATION=1 to disable this validation.\n",
      "\n",
      "\u001b[A\n",
      "Executing:  14%|█▍        | 7/49 [00:04<00:25,  1.67cell/s]\n"
     ]
    },
    {
     "ename": "PapermillExecutionError",
     "evalue": "\n---------------------------------------------------------------------------\nException encountered at \"In [6]\":\n---------------------------------------------------------------------------\nValueError                                Traceback (most recent call last)\nCell In[6], line 13\n      7     return Polygon([(x - distance, y - distance),\n      8                     (x - distance, y + distance),\n      9                     (x + distance, y + distance),\n     10                     (x + distance, y - distance)])\n     12 # Create a GeoSeries with the specified point\n---> 13 gdf = gpd.GeoSeries([Point(latlng[0], latlng[1])], crs=crs)\n     15 # Reproject to a coordinate system that uses meters (UTM)\n     16 gdf_utm = gdf.to_crs(epsg=local_crs)\n\nFile ~/miniconda3/envs/morph_model_v1/lib/python3.11/site-packages/shapely/geometry/point.py:77, in Point.__new__(self, *args)\n     73     raise ValueError(\n     74         f\"Point() takes only scalar or 1-size vector arguments, got {args}\"\n     75     )\n     76 if not np.issubdtype(coords.dtype, np.number):\n---> 77     coords = [float(c) for c in coords]\n     78 geom = shapely.points(coords)\n     79 if not isinstance(geom, Point):\n\nFile ~/miniconda3/envs/morph_model_v1/lib/python3.11/site-packages/shapely/geometry/point.py:77, in <listcomp>(.0)\n     73     raise ValueError(\n     74         f\"Point() takes only scalar or 1-size vector arguments, got {args}\"\n     75     )\n     76 if not np.issubdtype(coords.dtype, np.number):\n---> 77     coords = [float(c) for c in coords]\n     78 geom = shapely.points(coords)\n     79 if not isinstance(geom, Point):\n\nValueError: could not convert string to float: '('\n",
     "output_type": "error",
     "traceback": [
      "\u001b[0;31m---------------------------------------------------------------------------\u001b[0m",
      "\u001b[0;31mPapermillExecutionError\u001b[0m                   Traceback (most recent call last)",
      "\u001b[1;32m/home/virgilxw/repo/Morphology_model_v1/0_run_all.ipynb Cell 3\u001b[0m line \u001b[0;36m1\n\u001b[0;32m----> <a href='vscode-notebook-cell://wsl%2Bubuntu/home/virgilxw/repo/Morphology_model_v1/0_run_all.ipynb#W4sdnNjb2RlLXJlbW90ZQ%3D%3D?line=0'>1</a>\u001b[0m pm\u001b[39m.\u001b[39;49mexecute_notebook(\n\u001b[1;32m      <a href='vscode-notebook-cell://wsl%2Bubuntu/home/virgilxw/repo/Morphology_model_v1/0_run_all.ipynb#W4sdnNjb2RlLXJlbW90ZQ%3D%3D?line=1'>2</a>\u001b[0m     \u001b[39m'\u001b[39;49m\u001b[39m1_downloading_data.ipynb\u001b[39;49m\u001b[39m'\u001b[39;49m,\n\u001b[1;32m      <a href='vscode-notebook-cell://wsl%2Bubuntu/home/virgilxw/repo/Morphology_model_v1/0_run_all.ipynb#W4sdnNjb2RlLXJlbW90ZQ%3D%3D?line=2'>3</a>\u001b[0m     \u001b[39mf\u001b[39;49m\u001b[39m'\u001b[39;49m\u001b[39m./output/\u001b[39;49m\u001b[39m{\u001b[39;49;00mplace\u001b[39m}\u001b[39;49;00m\u001b[39m/1_downloading_data.ipynb\u001b[39;49m\u001b[39m'\u001b[39;49m,\n\u001b[1;32m      <a href='vscode-notebook-cell://wsl%2Bubuntu/home/virgilxw/repo/Morphology_model_v1/0_run_all.ipynb#W4sdnNjb2RlLXJlbW90ZQ%3D%3D?line=3'>4</a>\u001b[0m     parameters\u001b[39m=\u001b[39;49m\u001b[39mdict\u001b[39;49m(local_crs \u001b[39m=\u001b[39;49m local_crs, place \u001b[39m=\u001b[39;49m place, latlng \u001b[39m=\u001b[39;49m latlng)\n\u001b[1;32m      <a href='vscode-notebook-cell://wsl%2Bubuntu/home/virgilxw/repo/Morphology_model_v1/0_run_all.ipynb#W4sdnNjb2RlLXJlbW90ZQ%3D%3D?line=4'>5</a>\u001b[0m )\n",
      "File \u001b[0;32m~/miniconda3/envs/morph_model_v1/lib/python3.11/site-packages/papermill/execute.py:128\u001b[0m, in \u001b[0;36mexecute_notebook\u001b[0;34m(input_path, output_path, parameters, engine_name, request_save_on_cell_execute, prepare_only, kernel_name, language, progress_bar, log_output, stdout_file, stderr_file, start_timeout, report_mode, cwd, **engine_kwargs)\u001b[0m\n\u001b[1;32m    113\u001b[0m         nb \u001b[39m=\u001b[39m papermill_engines\u001b[39m.\u001b[39mexecute_notebook_with_engine(\n\u001b[1;32m    114\u001b[0m             engine_name,\n\u001b[1;32m    115\u001b[0m             nb,\n\u001b[0;32m   (...)\u001b[0m\n\u001b[1;32m    124\u001b[0m             \u001b[39m*\u001b[39m\u001b[39m*\u001b[39mengine_kwargs\n\u001b[1;32m    125\u001b[0m         )\n\u001b[1;32m    127\u001b[0m     \u001b[39m# Check for errors first (it saves on error before raising)\u001b[39;00m\n\u001b[0;32m--> 128\u001b[0m     raise_for_execution_errors(nb, output_path)\n\u001b[1;32m    130\u001b[0m \u001b[39m# Write final output in case the engine didn't write it on cell completion.\u001b[39;00m\n\u001b[1;32m    131\u001b[0m write_ipynb(nb, output_path)\n",
      "File \u001b[0;32m~/miniconda3/envs/morph_model_v1/lib/python3.11/site-packages/papermill/execute.py:232\u001b[0m, in \u001b[0;36mraise_for_execution_errors\u001b[0;34m(nb, output_path)\u001b[0m\n\u001b[1;32m    229\u001b[0m nb\u001b[39m.\u001b[39mcells\u001b[39m.\u001b[39minsert(\u001b[39m0\u001b[39m, error_msg_cell)\n\u001b[1;32m    231\u001b[0m write_ipynb(nb, output_path)\n\u001b[0;32m--> 232\u001b[0m \u001b[39mraise\u001b[39;00m error\n",
      "\u001b[0;31mPapermillExecutionError\u001b[0m: \n---------------------------------------------------------------------------\nException encountered at \"In [6]\":\n---------------------------------------------------------------------------\nValueError                                Traceback (most recent call last)\nCell In[6], line 13\n      7     return Polygon([(x - distance, y - distance),\n      8                     (x - distance, y + distance),\n      9                     (x + distance, y + distance),\n     10                     (x + distance, y - distance)])\n     12 # Create a GeoSeries with the specified point\n---> 13 gdf = gpd.GeoSeries([Point(latlng[0], latlng[1])], crs=crs)\n     15 # Reproject to a coordinate system that uses meters (UTM)\n     16 gdf_utm = gdf.to_crs(epsg=local_crs)\n\nFile ~/miniconda3/envs/morph_model_v1/lib/python3.11/site-packages/shapely/geometry/point.py:77, in Point.__new__(self, *args)\n     73     raise ValueError(\n     74         f\"Point() takes only scalar or 1-size vector arguments, got {args}\"\n     75     )\n     76 if not np.issubdtype(coords.dtype, np.number):\n---> 77     coords = [float(c) for c in coords]\n     78 geom = shapely.points(coords)\n     79 if not isinstance(geom, Point):\n\nFile ~/miniconda3/envs/morph_model_v1/lib/python3.11/site-packages/shapely/geometry/point.py:77, in <listcomp>(.0)\n     73     raise ValueError(\n     74         f\"Point() takes only scalar or 1-size vector arguments, got {args}\"\n     75     )\n     76 if not np.issubdtype(coords.dtype, np.number):\n---> 77     coords = [float(c) for c in coords]\n     78 geom = shapely.points(coords)\n     79 if not isinstance(geom, Point):\n\nValueError: could not convert string to float: '('\n"
     ]
    }
   ],
   "source": [
    "pm.execute_notebook(\n",
    "    '1_downloading_data.ipynb',\n",
    "    f'./output/{place}/1_downloading_data.ipynb',\n",
    "    parameters=dict(local_crs = local_crs, place = place, latlng = latlng)\n",
    ")"
   ]
  },
  {
   "cell_type": "code",
   "execution_count": null,
   "metadata": {},
   "outputs": [],
   "source": [
    "pm.execute_notebook(\n",
    "    '3-chunking-tess.ipynb',\n",
    "    f'./output/{place}/3-chunking-tess.ipynb',\n",
    "    parameters=dict(local_crs = local_crs, place = place, latlng = latlng)\n",
    ")"
   ]
  },
  {
   "cell_type": "code",
   "execution_count": null,
   "metadata": {},
   "outputs": [],
   "source": [
    "pm.execute_notebook(\n",
    "    '4-aggregation.ipynb',\n",
    "    f'./output/{place}/4-aggregation.ipynb',\n",
    "    parameters=dict(local_crs = local_crs, place = place, latlng = latlng)\n",
    ")\n",
    "\n",
    "print(\"5-network.ipynb done\")"
   ]
  },
  {
   "cell_type": "code",
   "execution_count": null,
   "metadata": {},
   "outputs": [],
   "source": []
  }
 ],
 "metadata": {
  "kernelspec": {
   "display_name": "base",
   "language": "python",
   "name": "python3"
  },
  "language_info": {
   "codemirror_mode": {
    "name": "ipython",
    "version": 3
   },
   "file_extension": ".py",
   "mimetype": "text/x-python",
   "name": "python",
   "nbconvert_exporter": "python",
   "pygments_lexer": "ipython3",
   "version": "3.11.6"
  }
 },
 "nbformat": 4,
 "nbformat_minor": 2
}
