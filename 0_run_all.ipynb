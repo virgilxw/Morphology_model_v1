{
 "cells": [
  {
   "cell_type": "code",
   "execution_count": 2,
   "metadata": {},
   "outputs": [],
   "source": [
    "import papermill as pm\n",
    "import os"
   ]
  },
  {
   "cell_type": "code",
   "execution_count": 3,
   "metadata": {},
   "outputs": [],
   "source": [
    "# local_crs = 3414\n",
    "# place = \"singapore\"\n",
    "# lat = 1.287953\n",
    "# lng = 103.851784\n",
    "# crs=4326\n",
    "# radius=30"
   ]
  },
  {
   "cell_type": "code",
   "execution_count": 4,
   "metadata": {},
   "outputs": [],
   "source": [
    "local_crs = 27700\n",
    "place = \"glasgow\"\n",
    "lat = 55.86421405612109\n",
    "lng = -4.251846930489373\n",
    "country = \"UK\"\n",
    "crs=4326"
   ]
  },
  {
   "cell_type": "code",
   "execution_count": 5,
   "metadata": {},
   "outputs": [
    {
     "name": "stderr",
     "output_type": "stream",
     "text": [
      "c:\\ProgramData\\anaconda3\\envs\\processor\\Lib\\site-packages\\tqdm\\auto.py:21: TqdmWarning: IProgress not found. Please update jupyter and ipywidgets. See https://ipywidgets.readthedocs.io/en/stable/user_install.html\n",
      "  from .autonotebook import tqdm as notebook_tqdm\n",
      "Executing:  22%|██▏       | 10/45 [00:14<00:34,  1.01cell/s]"
     ]
    }
   ],
   "source": [
    "local_crs = 27700\n",
    "place = \"glasgow\"\n",
    "lat = 55.86421405612109\n",
    "lng = -4.251846930489373\n",
    "country = \"UK\"\n",
    "crs=4326\n",
    "pm.execute_notebook(\n",
    "    '2_tessellation.ipynb',\n",
    "    f'./output/{place}/2_tessellation.ipynb',\n",
    "    parameters=dict(local_crs = local_crs, place = place, lat = lat, lng = lng, country = \"UK\", radius=15)\n",
    ")"
   ]
  },
  {
   "cell_type": "code",
   "execution_count": null,
   "metadata": {},
   "outputs": [],
   "source": [
    "place = \"Manchester\"\n",
    "lat = 53.483959\n",
    "lng = -2.244644\n",
    "if not os.path.exists(f'./output/{place}'):\n",
    "    os.makedirs(f'./output/{place}')\n",
    "pm.execute_notebook(\n",
    "    '2_tessellation.ipynb',\n",
    "    f'./output/{place}/2_tessellation.ipynb',\n",
    "    parameters=dict(local_crs = local_crs, place = place, lat = lat, lng = lng, country = \"UK\", radius=15)\n",
    ")"
   ]
  },
  {
   "cell_type": "code",
   "execution_count": null,
   "metadata": {},
   "outputs": [],
   "source": [
    "place = \"Birmingham\"\n",
    "lat = 52.489471\n",
    "lng = -1.898575\n",
    "if not os.path.exists(f'./output/{place}'):\n",
    "    os.makedirs(f'./output/{place}')\n",
    "pm.execute_notebook(\n",
    "    '2_tessellation.ipynb',\n",
    "    f'./output/{place}/2_tessellation.ipynb',\n",
    "    parameters=dict(local_crs = local_crs, place = place, lat = lat, lng = lng, country = \"UK\", radius=15)\n",
    ")"
   ]
  },
  {
   "cell_type": "code",
   "execution_count": null,
   "metadata": {},
   "outputs": [],
   "source": [
    "place = \"Leeds\"\n",
    "lat = 52.489471\n",
    "lng = -1.548567\n",
    "if not os.path.exists(f'./output/{place}'):\n",
    "    os.makedirs(f'./output/{place}')\n",
    "pm.execute_notebook(\n",
    "    '2_tessellation.ipynb',\n",
    "    f'./output/{place}/2_tessellation.ipynb',\n",
    "    parameters=dict(local_crs = local_crs, place = place, lat = lat, lng = lng, country = \"UK\", radius=15)\n",
    ")"
   ]
  },
  {
   "cell_type": "code",
   "execution_count": null,
   "metadata": {},
   "outputs": [],
   "source": [
    "place = \"Birmingham\"\n",
    "lat = 53.801277\n",
    "lng = -1.548567\n",
    "if not os.path.exists(f'./output/{place}'):\n",
    "    os.makedirs(f'./output/{place}')\n",
    "pm.execute_notebook(\n",
    "    '2_tessellation.ipynb',\n",
    "    f'./output/{place}/2_tessellation.ipynb',\n",
    "    parameters=dict(local_crs = local_crs, place = place, lat = lat, lng = lng, country = \"UK\", radius=15)\n",
    ")"
   ]
  },
  {
   "cell_type": "code",
   "execution_count": null,
   "metadata": {},
   "outputs": [],
   "source": [
    "place = \"Bristol\"\n",
    "lat = 51.454514\n",
    "lng = -2.587910\n",
    "if not os.path.exists(f'./output/{place}'):\n",
    "    os.makedirs(f'./output/{place}')\n",
    "pm.execute_notebook(\n",
    "    '2_tessellation.ipynb',\n",
    "    f'./output/{place}/2_tessellation.ipynb',\n",
    "    parameters=dict(local_crs = local_crs, place = place, lat = lat, lng = lng, country = \"UK\", radius=15)\n",
    ")"
   ]
  },
  {
   "cell_type": "code",
   "execution_count": null,
   "metadata": {},
   "outputs": [],
   "source": [
    "place = \"Bristol\"\n",
    "lat = 51.481583\n",
    "lng = -3.179090\n",
    "if not os.path.exists(f'./output/{place}'):\n",
    "    os.makedirs(f'./output/{place}')\n",
    "pm.execute_notebook(\n",
    "    '2_tessellation.ipynb',\n",
    "    f'./output/{place}/2_tessellation.ipynb',\n",
    "    parameters=dict(local_crs = local_crs, place = place, lat = lat, lng = lng, country = \"UK\", radius=15)\n",
    ")"
   ]
  },
  {
   "cell_type": "code",
   "execution_count": null,
   "metadata": {},
   "outputs": [],
   "source": [
    "place = \"Milton_Keynes\"\n",
    "lat = 52.04172\n",
    "lng = -0.75583\n",
    "\n",
    "if not os.path.exists(f'./output/{place}'):\n",
    "    os.makedirs(f'./output/{place}')\n",
    "pm.execute_notebook(\n",
    "    '2_tessellation.ipynb',\n",
    "    f'./output/{place}/2_tessellation.ipynb',\n",
    "    parameters=dict(local_crs = local_crs, place = place, lat = lat, lng = lng, country = \"UK\", radius=15)\n",
    ")"
   ]
  },
  {
   "cell_type": "code",
   "execution_count": null,
   "metadata": {},
   "outputs": [],
   "source": [
    "# pm.execute_notebook(\n",
    "#     '2_tessellation.ipynb',\n",
    "#     f'./output/{place}/2_tessellation.ipynb',\n",
    "#     parameters=dict(local_crs = local_crs, place = place, lat = lat, lng = lng, radius=radius)\n",
    "# )"
   ]
  },
  {
   "cell_type": "code",
   "execution_count": null,
   "metadata": {},
   "outputs": [],
   "source": [
    "# pm.execute_notebook(\n",
    "#     '3-chunking-morph.ipynb',\n",
    "#     f'./output/{place}/3-chunking-morph.ipynb',\n",
    "#     parameters=dict(local_crs = local_crs, place = place, lat = lat, lng = lng, radius=radius)\n",
    "# )"
   ]
  },
  {
   "cell_type": "code",
   "execution_count": null,
   "metadata": {},
   "outputs": [],
   "source": []
  }
 ],
 "metadata": {
  "kernelspec": {
   "display_name": "base",
   "language": "python",
   "name": "python3"
  },
  "language_info": {
   "codemirror_mode": {
    "name": "ipython",
    "version": 3
   },
   "file_extension": ".py",
   "mimetype": "text/x-python",
   "name": "python",
   "nbconvert_exporter": "python",
   "pygments_lexer": "ipython3",
   "version": "3.11.6"
  }
 },
 "nbformat": 4,
 "nbformat_minor": 2
}
