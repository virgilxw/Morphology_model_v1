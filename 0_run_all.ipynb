{
 "cells": [
  {
   "cell_type": "code",
   "execution_count": 8,
   "metadata": {},
   "outputs": [],
   "source": [
    "import papermill as pm\n",
    "import geopandas as gpd\n",
    "import os\n",
    "import time\n",
    "import shutil\n",
    "from dask.distributed import Client, LocalCluster"
   ]
  },
  {
   "cell_type": "code",
   "execution_count": 9,
   "metadata": {},
   "outputs": [],
   "source": [
    "place = \"london\"\n",
    "local_crs = 27700\n",
    "latlng = (-0.08976010193313122, 51.51338978675002)"
   ]
  },
  {
   "cell_type": "code",
   "execution_count": 10,
   "metadata": {},
   "outputs": [],
   "source": [
    "# # specify the directory path you want to create\n",
    "# directory = f\"./out/{place}/\"\n",
    "\n",
    "# # check if directory exists\n",
    "# if not os.path.exists(directory):\n",
    "#     # create directory if it doesn't exist\n",
    "#     os.makedirs(directory)\n"
   ]
  },
  {
   "cell_type": "code",
   "execution_count": 11,
   "metadata": {},
   "outputs": [],
   "source": [
    "# # Define the source and destination folders\n",
    "# source_folder = f\"./out/{place}/\"\n",
    "# destination_folder = f\"./out/{place}/old/\"\n",
    "\n",
    "# # Create the \"old\" folder if it doesn't exist\n",
    "# if not os.path.exists(destination_folder):\n",
    "#     os.makedirs(destination_folder)\n",
    "\n",
    "# # Delete everything inside the \"old\" folder\n",
    "# for filename in os.listdir(destination_folder):\n",
    "#     file_path = os.path.join(destination_folder, filename)\n",
    "#     if os.path.isfile(file_path):\n",
    "#         os.remove(file_path)\n",
    "#     elif os.path.isdir(file_path):\n",
    "#         shutil.rmtree(file_path)\n",
    "\n",
    "# # Move the files to the \"old\" folder\n",
    "# for filename in os.listdir(source_folder):\n",
    "#     file_path = os.path.join(source_folder, filename)\n",
    "#     if os.path.isfile(file_path):\n",
    "#         shutil.move(file_path, destination_folder)\n"
   ]
  },
  {
   "cell_type": "code",
   "execution_count": null,
   "metadata": {},
   "outputs": [],
   "source": [
    "pm.execute_notebook(\n",
    "    '2_tessellation.ipynb',\n",
    "    f'./out/{place}/2_tessellation.ipynb',\n",
    "    parameters=dict(local_crs = local_crs, place = place, latlng = latlng)\n",
    ")"
   ]
  },
  {
   "cell_type": "code",
   "execution_count": null,
   "metadata": {},
   "outputs": [],
   "source": [
    "pm.execute_notebook(\n",
    "    '3-chunking-tess.ipynb',\n",
    "    f'./out/{place}/3-chunking-tess.ipynb',\n",
    "    parameters=dict(local_crs = local_crs, place = place, latlng = latlng)\n",
    ")"
   ]
  },
  {
   "cell_type": "code",
   "execution_count": null,
   "metadata": {},
   "outputs": [],
   "source": [
    "pm.execute_notebook(\n",
    "    '4-aggregation.ipynb',\n",
    "    f'./out/{place}/4-aggregation.ipynb',\n",
    "    parameters=dict(local_crs = local_crs, place = place, latlng = latlng)\n",
    ")\n",
    "\n",
    "print(\"5-network.ipynb done\")"
   ]
  },
  {
   "cell_type": "code",
   "execution_count": null,
   "metadata": {},
   "outputs": [],
   "source": []
  }
 ],
 "metadata": {
  "kernelspec": {
   "display_name": "base",
   "language": "python",
   "name": "python3"
  },
  "language_info": {
   "codemirror_mode": {
    "name": "ipython",
    "version": 3
   },
   "file_extension": ".py",
   "mimetype": "text/x-python",
   "name": "python",
   "nbconvert_exporter": "python",
   "pygments_lexer": "ipython3",
   "version": "3.11.6"
  }
 },
 "nbformat": 4,
 "nbformat_minor": 2
}
