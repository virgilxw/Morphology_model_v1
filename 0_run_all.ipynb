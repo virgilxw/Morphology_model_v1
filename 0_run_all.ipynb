{
 "cells": [
  {
   "cell_type": "code",
   "execution_count": null,
   "metadata": {},
   "outputs": [],
   "source": [
    "import papermill as pm\n",
    "import geopandas as gpd\n",
    "import os\n",
    "import time\n",
    "import shutil\n",
    "from dask.distributed import Client, LocalCluster"
   ]
  },
  {
   "cell_type": "code",
   "execution_count": null,
   "metadata": {},
   "outputs": [],
   "source": [
    "# local_crs = 3414\n",
    "# place = \"singapore\"\n",
    "# lat = 1.287953\n",
    "# lng = 103.851784\n",
    "# crs=4326\n",
    "# radius=30"
   ]
  },
  {
   "cell_type": "code",
   "execution_count": null,
   "metadata": {},
   "outputs": [],
   "source": [
    "place = \"london\"\n",
    "local_crs = 27700\n",
    "latlng = (-0.08976010193313122, 51.51338978675002)"
   ]
  },
  {
   "cell_type": "code",
   "execution_count": null,
   "metadata": {},
   "outputs": [],
   "source": [
    "# pm.execute_notebook(\n",
    "#     '1_downloading_data.ipynb',\n",
    "#     f'./output/{place}/1_downloading_data.ipynb',\n",
    "#     parameters=dict(local_crs = local_crs, place = place, lat = lat, lng = lng, radius=radius)\n",
    "# )"
   ]
  },
  {
   "cell_type": "code",
   "execution_count": null,
   "metadata": {},
   "outputs": [],
   "source": [
    "pm.execute_notebook(\n",
    "    '2_tessellation.ipynb',\n",
    "    f'./output/{place}/2_tessellation.ipynb',\n",
    "    parameters=dict(local_crs = local_crs, place = place, lat = lat, lng = lng, radius=radius)\n",
    ")"
   ]
  },
  {
   "cell_type": "code",
   "execution_count": null,
   "metadata": {},
   "outputs": [],
   "source": [
    "pm.execute_notebook(\n",
    "    '3-chunking-morph.ipynb',\n",
    "    f'./output/{place}/3-chunking-morph.ipynb',\n",
    "    parameters=dict(local_crs = local_crs, place = place, lat = lat, lng = lng, radius=radius)\n",
    ")"
   ]
  },
  {
   "cell_type": "code",
   "execution_count": null,
   "metadata": {},
   "outputs": [],
   "source": []
  }
 ],
 "metadata": {
  "kernelspec": {
   "display_name": "base",
   "language": "python",
   "name": "python3"
  },
  "language_info": {
   "codemirror_mode": {
    "name": "ipython",
    "version": 3
   },
   "file_extension": ".py",
   "mimetype": "text/x-python",
   "name": "python",
   "nbconvert_exporter": "python",
   "pygments_lexer": "ipython3",
   "version": "3.11.6"
  }
 },
 "nbformat": 4,
 "nbformat_minor": 2
}
