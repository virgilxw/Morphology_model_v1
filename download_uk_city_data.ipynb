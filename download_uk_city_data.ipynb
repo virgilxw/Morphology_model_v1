{
 "cells": [
  {
   "cell_type": "code",
   "execution_count": null,
   "metadata": {},
   "outputs": [],
   "source": [
    "import papermill as pm"
   ]
  },
  {
   "cell_type": "code",
   "execution_count": null,
   "metadata": {},
   "outputs": [],
   "source": [
    "pm.execute_notebook(\n",
    "    '1_downloading_data.ipynb',\n",
    "    f'./output/{place}/1_downloading_data.ipynb',\n",
    "    parameters=dict(local_crs = local_crs, place = place, lat = lat, lng = lng, country = \"UK\", radius=15)\n",
    ")"
   ]
  }
 ],
 "metadata": {
  "language_info": {
   "name": "python"
  }
 },
 "nbformat": 4,
 "nbformat_minor": 2
}
