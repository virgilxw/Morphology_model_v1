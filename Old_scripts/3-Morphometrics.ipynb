{
 "cells": [
  {
   "cell_type": "code",
   "execution_count": null,
   "metadata": {},
   "outputs": [],
   "source": [
    "from dask.distributed import Client, LocalCluster\n",
    "import bokeh\n",
    "import geopandas as gpd\n",
    "import scipy\n",
    "import libpysal\n",
    "import momepy\n",
    "import json\n",
    "from dask import delayed\n",
    "import glob\n",
    "import dask\n",
    "import dask.dataframe as dd\n",
    "import momepy\n",
    "import geopandas as gpd\n",
    "import matplotlib.pyplot as plt\n",
    "import pandas as pd\n",
    "import json\n",
    "from tqdm import tqdm\n",
    "from shapely.geometry import Point\n",
    "import networkx as nx\n",
    "import pickle\n",
    "import time"
   ]
  },
  {
   "cell_type": "code",
   "execution_count": null,
   "metadata": {
    "tags": [
     "parameters"
    ]
   },
   "outputs": [],
   "source": [
    "place = \"glasgow\"\n",
    "local_crs = 27700"
   ]
  },
  {
   "cell_type": "code",
   "execution_count": null,
   "metadata": {},
   "outputs": [],
   "source": [
    "tessellation = gpd.read_parquet(f\"./output/{place}/tessellation_p1.pq\").to_crs(local_crs)\n",
    "buildings = gpd.read_parquet(f\"./output/{place}/buildings_p1.pq\").to_crs(local_crs)\n",
    "streets = gpd.read_parquet(f\"./output/{place}/streets_raw.pq\").explode().to_crs(local_crs).reset_index(drop=True)"
   ]
  },
  {
   "cell_type": "code",
   "execution_count": null,
   "metadata": {},
   "outputs": [],
   "source": [
    "streets"
   ]
  },
  {
   "cell_type": "code",
   "execution_count": null,
   "metadata": {},
   "outputs": [],
   "source": [
    "buildings_meta = buildings"
   ]
  },
  {
   "cell_type": "code",
   "execution_count": null,
   "metadata": {},
   "outputs": [],
   "source": [
    "daskCluster = LocalCluster(threads_per_worker=1,\n",
    "                n_workers=8, memory_limit='100GB')\n",
    "\n",
    "client = Client(daskCluster)\n",
    "\n",
    "client"
   ]
  },
  {
   "cell_type": "code",
   "execution_count": null,
   "metadata": {},
   "outputs": [],
   "source": [
    "# # Map for comparison\n",
    "# f, ax = plt.subplots(figsize=(30, 30))\n",
    "# tessellation.plot(linewidth=0.8, ax=ax, edgecolor='0.8')\n",
    "# streets.plot(ax=ax, color='red')\n",
    "# buildings.plot(ax=ax, color='black', alpha=0.5)\n",
    "# ax.set_axis_off()\n",
    "\n",
    "# # Show the plot\n",
    "# plt.show()"
   ]
  },
  {
   "cell_type": "code",
   "execution_count": null,
   "metadata": {},
   "outputs": [],
   "source": [
    "streets['nID'] = momepy.unique_id(streets)"
   ]
  },
  {
   "cell_type": "code",
   "execution_count": null,
   "metadata": {},
   "outputs": [],
   "source": [
    "### Building Area\n",
    "buildings['building_area'] = momepy.Area(buildings).series\n",
    "tessellation['tess_area'] = momepy.Area(tessellation).series"
   ]
  },
  {
   "cell_type": "code",
   "execution_count": null,
   "metadata": {},
   "outputs": [],
   "source": [
    "continuity = momepy.COINS(streets)\n",
    "\n",
    "# streets[\"continuity_stroke\"] = continuity.stroke_attribute()"
   ]
  },
  {
   "cell_type": "code",
   "execution_count": null,
   "metadata": {},
   "outputs": [],
   "source": [
    "stroke_attr = continuity.stroke_attribute()"
   ]
  },
  {
   "cell_type": "code",
   "execution_count": null,
   "metadata": {},
   "outputs": [],
   "source": [
    "stroke_gdf = continuity.stroke_gdf()"
   ]
  },
  {
   "cell_type": "code",
   "execution_count": null,
   "metadata": {},
   "outputs": [],
   "source": [
    "stroke_gdf.plot(stroke_gdf.length,\n",
    "                figsize=(15, 15),\n",
    "                cmap=\"viridis_r\",\n",
    "                linewidth=.5,\n",
    "                scheme=\"headtailbreaks\"\n",
    "               ).set_axis_off()"
   ]
  },
  {
   "cell_type": "code",
   "execution_count": null,
   "metadata": {},
   "outputs": [],
   "source": [
    "stroke_gdf.to_parquet(f\"output/{place}/stroke_gdf.pq\")"
   ]
  },
  {
   "cell_type": "code",
   "execution_count": null,
   "metadata": {},
   "outputs": [],
   "source": [
    "with open(f'output/{place}/queen_1.pkl', 'rb') as file:\n",
    "    queen_1 = pickle.load(file)\n",
    "    \n",
    "with open(f'output/{place}/queen_3.pkl', 'rb') as file:\n",
    "    queen_3 = pickle.load(file)"
   ]
  },
  {
   "cell_type": "code",
   "execution_count": null,
   "metadata": {},
   "outputs": [],
   "source": [
    "dist200 = libpysal.weights.DistanceBand.from_dataframe(buildings, 200, ids='uID')"
   ]
  },
  {
   "cell_type": "code",
   "execution_count": null,
   "metadata": {},
   "outputs": [],
   "source": [
    "with open(f\"output/{place}/dist200.pkl\", \"wb\") as file:\n",
    "    pickle.dump({'dist200': dist200}, file)"
   ]
  },
  {
   "cell_type": "code",
   "execution_count": 21,
   "metadata": {},
   "outputs": [
    {
     "name": "stdout",
     "output_type": "stream",
     "text": [
      "building_circular_compactness\n",
      "building_elongation\n",
      "building_squareness\n"
     ]
    },
    {
     "name": "stderr",
     "output_type": "stream",
     "text": [
      " 67%|██████▋   | 367916/550840 [01:46<00:51, 3579.90it/s]/home/virgilxw/miniconda3/envs/morph_model_v1_tess/lib/python3.11/site-packages/momepy/shape.py:947: RuntimeWarning: invalid value encountered in arccos\n",
      "  angle = np.degrees(np.arccos(cosine_angle))\n",
      "100%|██████████| 550840/550840 [02:37<00:00, 3507.96it/s]\n"
     ]
    },
    {
     "name": "stdout",
     "output_type": "stream",
     "text": [
      "building_eri\n",
      "building_orientation\n"
     ]
    },
    {
     "name": "stderr",
     "output_type": "stream",
     "text": [
      "100%|██████████| 550840/550840 [01:07<00:00, 8167.20it/s] \n"
     ]
    }
   ],
   "source": [
    "print('building_circular_compactness')\n",
    "buildings['building_circular_compactness'] = momepy.CircularCompactness(buildings).series\n",
    "print(\"building_elongation\")\n",
    "buildings['building_elongation'] =  momepy.Elongation(buildings).series\n",
    "print('building_squareness')\n",
    "buildings['building_squareness'] =  momepy.Squareness(buildings).series\n",
    "print('building_eri')\n",
    "buildings['building_eri'] = momepy.EquivalentRectangularIndex(buildings).series\n",
    "print('building_orientation')\n",
    "buildings['building_orientation'] = momepy.Orientation(buildings).series\n"
   ]
  },
  {
   "cell_type": "code",
   "execution_count": 22,
   "metadata": {},
   "outputs": [
    {
     "name": "stdout",
     "output_type": "stream",
     "text": [
      "building_neighbour_dist\n"
     ]
    },
    {
     "name": "stderr",
     "output_type": "stream",
     "text": [
      "  0%|          | 1324/550840 [00:20<2:55:40, 52.13it/s]"
     ]
    }
   ],
   "source": [
    "print(\"building_neighbour_dist\")\n",
    "buildings[\"building_neighbour_dist\"] = momepy.NeighborDistance(buildings, queen_1, 'uID').series\n",
    "print(\"building_neighbourhood_interbuilding_distance\")\n",
    "buildings[\"building_neighbourhood_interbuilding_distance\"] = momepy.MeanInterbuildingDistance(buildings, queen_1, 'uID', 3).series"
   ]
  },
  {
   "cell_type": "code",
   "execution_count": null,
   "metadata": {},
   "outputs": [],
   "source": [
    "print(\"tess_convexity\")\n",
    "tessellation[\"tess_convexity\"] = momepy.Convexity(tessellation).series\n",
    "print(\"tess_neighbours_200\")\n",
    "tessellation[\"tess_neighbours_200\"] =  momepy.Neighbors(tessellation, dist200, 'uID', weighted=True).series\n",
    "print(\"tess_covered_area\")\n",
    "tessellation[\"tess_covered_area\"] = momepy.CoveredArea(tessellation, queen_1, \"uID\").series\n",
    "print(\"tess_orientation\")\n",
    "tessellation[\"tess_orientation\"] = momepy.Orientation(tessellation).series\n",
    "print(\"tess_neighbours\")\n",
    "tessellation[\"tess_neighbours\"] = momepy.Neighbors(tessellation, queen_3, 'uID', weighted=True).series"
   ]
  },
  {
   "cell_type": "markdown",
   "metadata": {},
   "source": []
  },
  {
   "cell_type": "code",
   "execution_count": null,
   "metadata": {},
   "outputs": [],
   "source": [
    "print('building_circular_compactness_weight')\n",
    "buildings['building_circular_compactness_weight'] = momepy.WeightedCharacter(buildings,\n",
    "                                                        values='building_circular_compactness',\n",
    "                                                        spatial_weights=queen_3,\n",
    "                                                        unique_id='uID').series\n",
    "print('building_elongation_weight')\n",
    "buildings['building_elongation_weight'] = momepy.WeightedCharacter(buildings,\n",
    "                                                        values='building_elongation',\n",
    "                                                        spatial_weights=queen_3,\n",
    "                                                        unique_id='uID').series\n",
    "print('building_squareness_weight')\n",
    "buildings['building_squareness_weight'] = momepy.WeightedCharacter(buildings,\n",
    "                                                        values='building_squareness',\n",
    "                                                        spatial_weights=queen_3,\n",
    "                                                        unique_id='uID').series\n",
    "print('building_eri_weight')\n",
    "buildings['building_eri_weight'] = momepy.WeightedCharacter(buildings,\n",
    "                                                        values='building_eri',\n",
    "                                                        spatial_weights=queen_3,\n",
    "                                                        unique_id='uID').series\n",
    "print(\"building_neighbour_dist_weight\")\n",
    "buildings[\"building_neighbour_dist_weight\"] = momepy.WeightedCharacter(buildings,\n",
    "                                                        values='building_neighbour_dist',\n",
    "                                                        spatial_weights=queen_3,\n",
    "                                                        unique_id='uID').series\n",
    "print(\"building_neighbourhood_interbuilding_distance_weight\")\n",
    "buildings[\"building_neighbourhood_interbuilding_distance_weight\"] = momepy.WeightedCharacter(buildings,\n",
    "                                                        values='building_neighbourhood_interbuilding_distance',\n",
    "                                                        spatial_weights=queen_3,\n",
    "                                                        unique_id='uID').series\n",
    "print('building_orientation_weight')\n",
    "buildings['building_orientation_weight'] = momepy.WeightedCharacter(buildings,\n",
    "                                                        values='building_orientation',\n",
    "                                                        spatial_weights=queen_3,\n",
    "                                                        unique_id='uID').series\n",
    "print(\"tess_convexity_weight\")\n",
    "tessellation[\"tess_convexity_weight\"] = momepy.WeightedCharacter(tessellation,\n",
    "                                                        values=\"tess_convexity\",\n",
    "                                                        spatial_weights=queen_3,\n",
    "                                                        unique_id='uID').series\n",
    "print(\"tess_covered_area_weight\")\n",
    "tessellation[\"tess_covered_area_weight\"] = momepy.WeightedCharacter(tessellation,\n",
    "                                                        values='tess_covered_area',\n",
    "                                                        spatial_weights=queen_3,\n",
    "                                                        unique_id='uID').series\n",
    "print(\"tess_orientation_weight\")\n",
    "tessellation[\"tess_orientation_weight\"] = momepy.WeightedCharacter(tessellation,\n",
    "                                                        values='tess_orientation',\n",
    "                                                        spatial_weights=queen_3,\n",
    "                                                        unique_id='uID').series\n"
   ]
  },
  {
   "cell_type": "code",
   "execution_count": null,
   "metadata": {},
   "outputs": [],
   "source": [
    "print(\"tess_rea_theil\")\n",
    "tessellation[\"tess_rea_theil\"] = momepy.Theil(tessellation, values='tess_area', spatial_weights=queen_3, unique_id='uID').series"
   ]
  },
  {
   "cell_type": "code",
   "execution_count": null,
   "metadata": {},
   "outputs": [],
   "source": [
    "print(\"building_neighbourhood_interbuilding_distance_weight\")\n",
    "buildings[\"building_neighbourhood_interbuilding_distance_weight\"] = momepy.WeightedCharacter(buildings,\n",
    "                                                        values='building_neighbourhood_interbuilding_distance_weight',\n",
    "                                                        spatial_weights=queen_3,\n",
    "                                                        unique_id='uID').series"
   ]
  },
  {
   "cell_type": "code",
   "execution_count": null,
   "metadata": {},
   "outputs": [],
   "source": [
    "streets_w_nid = streets\n",
    "streets_w_nid[\"nID\"]= streets.index\n",
    "buildings_w_nid = gpd.sjoin_nearest(buildings, streets_w_nid, how=\"left\", max_distance=50)"
   ]
  },
  {
   "cell_type": "code",
   "execution_count": null,
   "metadata": {},
   "outputs": [],
   "source": [
    "buildings_w_nid[\"Building_Street_Alignment\"] = momepy.StreetAlignment(buildings_w_nid, streets_w_nid,\n",
    "                                   'building_orientation', 'nID',\n",
    "                                   'nID').series"
   ]
  },
  {
   "cell_type": "code",
   "execution_count": null,
   "metadata": {},
   "outputs": [],
   "source": [
    "buildings = buildings.merge(buildings_w_nid[['uID', 'Building_Street_Alignment']], on='uID', how='left')"
   ]
  },
  {
   "cell_type": "code",
   "execution_count": null,
   "metadata": {},
   "outputs": [],
   "source": [
    "blg_cell_align = momepy.CellAlignment(buildings, tessellation,\n",
    "                                      'building_orientation', 'tess_orientation',\n",
    "                                      'uID', 'uID')\n",
    "buildings['building_cell_align'] = blg_cell_align.series"
   ]
  },
  {
   "cell_type": "code",
   "execution_count": null,
   "metadata": {},
   "outputs": [],
   "source": [
    "buildings.to_parquet(f\"output/{place}/buildings_tess.pq\")\n",
    "tessellation.to_parquet(f\"output/{place}/tessellation_tess.pq\")"
   ]
  },
  {
   "cell_type": "code",
   "execution_count": null,
   "metadata": {},
   "outputs": [],
   "source": [
    "client.close()"
   ]
  },
  {
   "cell_type": "code",
   "execution_count": null,
   "metadata": {},
   "outputs": [],
   "source": []
  }
 ],
 "metadata": {
  "kernelspec": {
   "display_name": "base",
   "language": "python",
   "name": "python3"
  },
  "language_info": {
   "codemirror_mode": {
    "name": "ipython",
    "version": 3
   },
   "file_extension": ".py",
   "mimetype": "text/x-python",
   "name": "python",
   "nbconvert_exporter": "python",
   "pygments_lexer": "ipython3",
   "version": "3.11.6"
  }
 },
 "nbformat": 4,
 "nbformat_minor": 2
}
