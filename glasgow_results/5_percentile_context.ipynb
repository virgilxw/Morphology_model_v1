{
 "cells": [
  {
   "cell_type": "code",
   "execution_count": 22,
   "metadata": {},
   "outputs": [],
   "source": [
    "import geopandas as gpd\n",
    "import pandas as pd\n",
    "import momepy\n",
    "import os\n",
    "import pickle\n",
    "from shapely.ops import nearest_points\n",
    "import dask\n",
    "from dask.diagnostics import ProgressBar\n",
    "import momepy"
   ]
  },
  {
   "cell_type": "code",
   "execution_count": 23,
   "metadata": {
    "tags": [
     "parameters"
    ]
   },
   "outputs": [],
   "source": [
    "local_crs = 27700\n",
    "place = \"test_OS\"\n",
    "lat = 55.86421405612109\n",
    "lng = -4.251846930489373\n",
    "country = \"UK\"\n",
    "crs=4326\n",
    "radius=1\n",
    "n=0"
   ]
  },
  {
   "cell_type": "code",
   "execution_count": 25,
   "metadata": {},
   "outputs": [],
   "source": [
    "buildings = gpd.read_parquet(f\"../output/{place}/buildings_morphometric_p3.pq\")\n",
    "tessellation = gpd.read_parquet(f\"../output/{place}/tessellation_morphometric_p3.pq\")\n",
    "edges = gpd.read_parquet(f\"../output/{place}/edges_p4.pq\")\n",
    "nodes = gpd.read_parquet(f\"../output/{place}/nodes_p4.pq\")\n",
    "stroke = gpd.read_parquet(f\"../output/{place}/stroke_p3.pq\")\n",
    "blocks = gpd.read_parquet(f\"../output/{place}/blocks_morphometric_p4.5.pq\")"
   ]
  },
  {
   "cell_type": "code",
   "execution_count": 27,
   "metadata": {},
   "outputs": [],
   "source": [
    "tessellation_no_geo = tessellation.drop(columns=\"geometry\")"
   ]
  },
  {
   "cell_type": "code",
   "execution_count": 28,
   "metadata": {},
   "outputs": [],
   "source": [
    "joint_df = pd.merge(buildings, tessellation_no_geo, on='uID')"
   ]
  },
  {
   "cell_type": "code",
   "execution_count": 29,
   "metadata": {},
   "outputs": [],
   "source": [
    "edges[\"edge_ID\"] = edges.index\n",
    "nodes[\"node_ID\"] = nodes.index"
   ]
  },
  {
   "cell_type": "code",
   "execution_count": 30,
   "metadata": {},
   "outputs": [],
   "source": [
    "joint_df[\"centroid\"] = joint_df.geometry.centroid"
   ]
  },
  {
   "cell_type": "code",
   "execution_count": 31,
   "metadata": {},
   "outputs": [
    {
     "name": "stderr",
     "output_type": "stream",
     "text": [
      "c:\\Users\\reube\\anaconda3\\envs\\nbprocessor\\Lib\\site-packages\\distributed\\node.py:182: UserWarning: Port 8787 is already in use.\n",
      "Perhaps you already have a cluster running?\n",
      "Hosting the HTTP server on port 63535 instead\n",
      "  warnings.warn(\n",
      "2024-01-31 17:43:24,279 - distributed.nanny.memory - WARNING - Ignoring provided memory limit 100GB due to system memory limit of 63.92 GiB\n",
      "2024-01-31 17:43:24,302 - distributed.nanny.memory - WARNING - Ignoring provided memory limit 100GB due to system memory limit of 63.92 GiB\n",
      "2024-01-31 17:43:24,320 - distributed.nanny.memory - WARNING - Ignoring provided memory limit 100GB due to system memory limit of 63.92 GiB\n",
      "2024-01-31 17:43:24,343 - distributed.nanny.memory - WARNING - Ignoring provided memory limit 100GB due to system memory limit of 63.92 GiB\n",
      "2024-01-31 17:43:24,364 - distributed.nanny.memory - WARNING - Ignoring provided memory limit 100GB due to system memory limit of 63.92 GiB\n",
      "2024-01-31 17:43:24,395 - distributed.nanny.memory - WARNING - Ignoring provided memory limit 100GB due to system memory limit of 63.92 GiB\n",
      "2024-01-31 17:43:24,424 - distributed.nanny.memory - WARNING - Ignoring provided memory limit 100GB due to system memory limit of 63.92 GiB\n",
      "2024-01-31 17:43:24,484 - distributed.nanny.memory - WARNING - Ignoring provided memory limit 100GB due to system memory limit of 63.92 GiB\n"
     ]
    },
    {
     "data": {
      "text/html": [
       "<div>\n",
       "    <div style=\"width: 24px; height: 24px; background-color: #e1e1e1; border: 3px solid #9D9D9D; border-radius: 5px; position: absolute;\"> </div>\n",
       "    <div style=\"margin-left: 48px;\">\n",
       "        <h3 style=\"margin-bottom: 0px;\">Client</h3>\n",
       "        <p style=\"color: #9D9D9D; margin-bottom: 0px;\">Client-3d75f8d2-c060-11ee-ad98-bcf4d40d3894</p>\n",
       "        <table style=\"width: 100%; text-align: left;\">\n",
       "\n",
       "        <tr>\n",
       "        \n",
       "            <td style=\"text-align: left;\"><strong>Connection method:</strong> Cluster object</td>\n",
       "            <td style=\"text-align: left;\"><strong>Cluster type:</strong> distributed.LocalCluster</td>\n",
       "        \n",
       "        </tr>\n",
       "\n",
       "        \n",
       "            <tr>\n",
       "                <td style=\"text-align: left;\">\n",
       "                    <strong>Dashboard: </strong> <a href=\"http://127.0.0.1:63535/status\" target=\"_blank\">http://127.0.0.1:63535/status</a>\n",
       "                </td>\n",
       "                <td style=\"text-align: left;\"></td>\n",
       "            </tr>\n",
       "        \n",
       "\n",
       "        </table>\n",
       "\n",
       "        \n",
       "\n",
       "        \n",
       "            <details>\n",
       "            <summary style=\"margin-bottom: 20px;\"><h3 style=\"display: inline;\">Cluster Info</h3></summary>\n",
       "            <div class=\"jp-RenderedHTMLCommon jp-RenderedHTML jp-mod-trusted jp-OutputArea-output\">\n",
       "    <div style=\"width: 24px; height: 24px; background-color: #e1e1e1; border: 3px solid #9D9D9D; border-radius: 5px; position: absolute;\">\n",
       "    </div>\n",
       "    <div style=\"margin-left: 48px;\">\n",
       "        <h3 style=\"margin-bottom: 0px; margin-top: 0px;\">LocalCluster</h3>\n",
       "        <p style=\"color: #9D9D9D; margin-bottom: 0px;\">584db30a</p>\n",
       "        <table style=\"width: 100%; text-align: left;\">\n",
       "            <tr>\n",
       "                <td style=\"text-align: left;\">\n",
       "                    <strong>Dashboard:</strong> <a href=\"http://127.0.0.1:63535/status\" target=\"_blank\">http://127.0.0.1:63535/status</a>\n",
       "                </td>\n",
       "                <td style=\"text-align: left;\">\n",
       "                    <strong>Workers:</strong> 8\n",
       "                </td>\n",
       "            </tr>\n",
       "            <tr>\n",
       "                <td style=\"text-align: left;\">\n",
       "                    <strong>Total threads:</strong> 16\n",
       "                </td>\n",
       "                <td style=\"text-align: left;\">\n",
       "                    <strong>Total memory:</strong> 511.38 GiB\n",
       "                </td>\n",
       "            </tr>\n",
       "            \n",
       "            <tr>\n",
       "    <td style=\"text-align: left;\"><strong>Status:</strong> running</td>\n",
       "    <td style=\"text-align: left;\"><strong>Using processes:</strong> True</td>\n",
       "</tr>\n",
       "\n",
       "            \n",
       "        </table>\n",
       "\n",
       "        <details>\n",
       "            <summary style=\"margin-bottom: 20px;\">\n",
       "                <h3 style=\"display: inline;\">Scheduler Info</h3>\n",
       "            </summary>\n",
       "\n",
       "            <div style=\"\">\n",
       "    <div>\n",
       "        <div style=\"width: 24px; height: 24px; background-color: #FFF7E5; border: 3px solid #FF6132; border-radius: 5px; position: absolute;\"> </div>\n",
       "        <div style=\"margin-left: 48px;\">\n",
       "            <h3 style=\"margin-bottom: 0px;\">Scheduler</h3>\n",
       "            <p style=\"color: #9D9D9D; margin-bottom: 0px;\">Scheduler-bd6e5200-3851-4db4-bb53-113aaf454cfe</p>\n",
       "            <table style=\"width: 100%; text-align: left;\">\n",
       "                <tr>\n",
       "                    <td style=\"text-align: left;\">\n",
       "                        <strong>Comm:</strong> tcp://127.0.0.1:63539\n",
       "                    </td>\n",
       "                    <td style=\"text-align: left;\">\n",
       "                        <strong>Workers:</strong> 8\n",
       "                    </td>\n",
       "                </tr>\n",
       "                <tr>\n",
       "                    <td style=\"text-align: left;\">\n",
       "                        <strong>Dashboard:</strong> <a href=\"http://127.0.0.1:63535/status\" target=\"_blank\">http://127.0.0.1:63535/status</a>\n",
       "                    </td>\n",
       "                    <td style=\"text-align: left;\">\n",
       "                        <strong>Total threads:</strong> 16\n",
       "                    </td>\n",
       "                </tr>\n",
       "                <tr>\n",
       "                    <td style=\"text-align: left;\">\n",
       "                        <strong>Started:</strong> Just now\n",
       "                    </td>\n",
       "                    <td style=\"text-align: left;\">\n",
       "                        <strong>Total memory:</strong> 511.38 GiB\n",
       "                    </td>\n",
       "                </tr>\n",
       "            </table>\n",
       "        </div>\n",
       "    </div>\n",
       "\n",
       "    <details style=\"margin-left: 48px;\">\n",
       "        <summary style=\"margin-bottom: 20px;\">\n",
       "            <h3 style=\"display: inline;\">Workers</h3>\n",
       "        </summary>\n",
       "\n",
       "        \n",
       "        <div style=\"margin-bottom: 20px;\">\n",
       "            <div style=\"width: 24px; height: 24px; background-color: #DBF5FF; border: 3px solid #4CC9FF; border-radius: 5px; position: absolute;\"> </div>\n",
       "            <div style=\"margin-left: 48px;\">\n",
       "            <details>\n",
       "                <summary>\n",
       "                    <h4 style=\"margin-bottom: 0px; display: inline;\">Worker: 0</h4>\n",
       "                </summary>\n",
       "                <table style=\"width: 100%; text-align: left;\">\n",
       "                    <tr>\n",
       "                        <td style=\"text-align: left;\">\n",
       "                            <strong>Comm: </strong> tcp://127.0.0.1:63575\n",
       "                        </td>\n",
       "                        <td style=\"text-align: left;\">\n",
       "                            <strong>Total threads: </strong> 2\n",
       "                        </td>\n",
       "                    </tr>\n",
       "                    <tr>\n",
       "                        <td style=\"text-align: left;\">\n",
       "                            <strong>Dashboard: </strong> <a href=\"http://127.0.0.1:63578/status\" target=\"_blank\">http://127.0.0.1:63578/status</a>\n",
       "                        </td>\n",
       "                        <td style=\"text-align: left;\">\n",
       "                            <strong>Memory: </strong> 63.92 GiB\n",
       "                        </td>\n",
       "                    </tr>\n",
       "                    <tr>\n",
       "                        <td style=\"text-align: left;\">\n",
       "                            <strong>Nanny: </strong> tcp://127.0.0.1:63542\n",
       "                        </td>\n",
       "                        <td style=\"text-align: left;\"></td>\n",
       "                    </tr>\n",
       "                    <tr>\n",
       "                        <td colspan=\"2\" style=\"text-align: left;\">\n",
       "                            <strong>Local directory: </strong> C:\\Users\\reube\\AppData\\Local\\Temp\\dask-scratch-space\\worker-4xar_ysy\n",
       "                        </td>\n",
       "                    </tr>\n",
       "\n",
       "                    \n",
       "\n",
       "                    \n",
       "\n",
       "                </table>\n",
       "            </details>\n",
       "            </div>\n",
       "        </div>\n",
       "        \n",
       "        <div style=\"margin-bottom: 20px;\">\n",
       "            <div style=\"width: 24px; height: 24px; background-color: #DBF5FF; border: 3px solid #4CC9FF; border-radius: 5px; position: absolute;\"> </div>\n",
       "            <div style=\"margin-left: 48px;\">\n",
       "            <details>\n",
       "                <summary>\n",
       "                    <h4 style=\"margin-bottom: 0px; display: inline;\">Worker: 1</h4>\n",
       "                </summary>\n",
       "                <table style=\"width: 100%; text-align: left;\">\n",
       "                    <tr>\n",
       "                        <td style=\"text-align: left;\">\n",
       "                            <strong>Comm: </strong> tcp://127.0.0.1:63580\n",
       "                        </td>\n",
       "                        <td style=\"text-align: left;\">\n",
       "                            <strong>Total threads: </strong> 2\n",
       "                        </td>\n",
       "                    </tr>\n",
       "                    <tr>\n",
       "                        <td style=\"text-align: left;\">\n",
       "                            <strong>Dashboard: </strong> <a href=\"http://127.0.0.1:63581/status\" target=\"_blank\">http://127.0.0.1:63581/status</a>\n",
       "                        </td>\n",
       "                        <td style=\"text-align: left;\">\n",
       "                            <strong>Memory: </strong> 63.92 GiB\n",
       "                        </td>\n",
       "                    </tr>\n",
       "                    <tr>\n",
       "                        <td style=\"text-align: left;\">\n",
       "                            <strong>Nanny: </strong> tcp://127.0.0.1:63544\n",
       "                        </td>\n",
       "                        <td style=\"text-align: left;\"></td>\n",
       "                    </tr>\n",
       "                    <tr>\n",
       "                        <td colspan=\"2\" style=\"text-align: left;\">\n",
       "                            <strong>Local directory: </strong> C:\\Users\\reube\\AppData\\Local\\Temp\\dask-scratch-space\\worker-zo401t5e\n",
       "                        </td>\n",
       "                    </tr>\n",
       "\n",
       "                    \n",
       "\n",
       "                    \n",
       "\n",
       "                </table>\n",
       "            </details>\n",
       "            </div>\n",
       "        </div>\n",
       "        \n",
       "        <div style=\"margin-bottom: 20px;\">\n",
       "            <div style=\"width: 24px; height: 24px; background-color: #DBF5FF; border: 3px solid #4CC9FF; border-radius: 5px; position: absolute;\"> </div>\n",
       "            <div style=\"margin-left: 48px;\">\n",
       "            <details>\n",
       "                <summary>\n",
       "                    <h4 style=\"margin-bottom: 0px; display: inline;\">Worker: 2</h4>\n",
       "                </summary>\n",
       "                <table style=\"width: 100%; text-align: left;\">\n",
       "                    <tr>\n",
       "                        <td style=\"text-align: left;\">\n",
       "                            <strong>Comm: </strong> tcp://127.0.0.1:63583\n",
       "                        </td>\n",
       "                        <td style=\"text-align: left;\">\n",
       "                            <strong>Total threads: </strong> 2\n",
       "                        </td>\n",
       "                    </tr>\n",
       "                    <tr>\n",
       "                        <td style=\"text-align: left;\">\n",
       "                            <strong>Dashboard: </strong> <a href=\"http://127.0.0.1:63587/status\" target=\"_blank\">http://127.0.0.1:63587/status</a>\n",
       "                        </td>\n",
       "                        <td style=\"text-align: left;\">\n",
       "                            <strong>Memory: </strong> 63.92 GiB\n",
       "                        </td>\n",
       "                    </tr>\n",
       "                    <tr>\n",
       "                        <td style=\"text-align: left;\">\n",
       "                            <strong>Nanny: </strong> tcp://127.0.0.1:63546\n",
       "                        </td>\n",
       "                        <td style=\"text-align: left;\"></td>\n",
       "                    </tr>\n",
       "                    <tr>\n",
       "                        <td colspan=\"2\" style=\"text-align: left;\">\n",
       "                            <strong>Local directory: </strong> C:\\Users\\reube\\AppData\\Local\\Temp\\dask-scratch-space\\worker-xhjzmjx9\n",
       "                        </td>\n",
       "                    </tr>\n",
       "\n",
       "                    \n",
       "\n",
       "                    \n",
       "\n",
       "                </table>\n",
       "            </details>\n",
       "            </div>\n",
       "        </div>\n",
       "        \n",
       "        <div style=\"margin-bottom: 20px;\">\n",
       "            <div style=\"width: 24px; height: 24px; background-color: #DBF5FF; border: 3px solid #4CC9FF; border-radius: 5px; position: absolute;\"> </div>\n",
       "            <div style=\"margin-left: 48px;\">\n",
       "            <details>\n",
       "                <summary>\n",
       "                    <h4 style=\"margin-bottom: 0px; display: inline;\">Worker: 3</h4>\n",
       "                </summary>\n",
       "                <table style=\"width: 100%; text-align: left;\">\n",
       "                    <tr>\n",
       "                        <td style=\"text-align: left;\">\n",
       "                            <strong>Comm: </strong> tcp://127.0.0.1:63584\n",
       "                        </td>\n",
       "                        <td style=\"text-align: left;\">\n",
       "                            <strong>Total threads: </strong> 2\n",
       "                        </td>\n",
       "                    </tr>\n",
       "                    <tr>\n",
       "                        <td style=\"text-align: left;\">\n",
       "                            <strong>Dashboard: </strong> <a href=\"http://127.0.0.1:63586/status\" target=\"_blank\">http://127.0.0.1:63586/status</a>\n",
       "                        </td>\n",
       "                        <td style=\"text-align: left;\">\n",
       "                            <strong>Memory: </strong> 63.92 GiB\n",
       "                        </td>\n",
       "                    </tr>\n",
       "                    <tr>\n",
       "                        <td style=\"text-align: left;\">\n",
       "                            <strong>Nanny: </strong> tcp://127.0.0.1:63548\n",
       "                        </td>\n",
       "                        <td style=\"text-align: left;\"></td>\n",
       "                    </tr>\n",
       "                    <tr>\n",
       "                        <td colspan=\"2\" style=\"text-align: left;\">\n",
       "                            <strong>Local directory: </strong> C:\\Users\\reube\\AppData\\Local\\Temp\\dask-scratch-space\\worker-6ciicb4r\n",
       "                        </td>\n",
       "                    </tr>\n",
       "\n",
       "                    \n",
       "\n",
       "                    \n",
       "\n",
       "                </table>\n",
       "            </details>\n",
       "            </div>\n",
       "        </div>\n",
       "        \n",
       "        <div style=\"margin-bottom: 20px;\">\n",
       "            <div style=\"width: 24px; height: 24px; background-color: #DBF5FF; border: 3px solid #4CC9FF; border-radius: 5px; position: absolute;\"> </div>\n",
       "            <div style=\"margin-left: 48px;\">\n",
       "            <details>\n",
       "                <summary>\n",
       "                    <h4 style=\"margin-bottom: 0px; display: inline;\">Worker: 4</h4>\n",
       "                </summary>\n",
       "                <table style=\"width: 100%; text-align: left;\">\n",
       "                    <tr>\n",
       "                        <td style=\"text-align: left;\">\n",
       "                            <strong>Comm: </strong> tcp://127.0.0.1:63595\n",
       "                        </td>\n",
       "                        <td style=\"text-align: left;\">\n",
       "                            <strong>Total threads: </strong> 2\n",
       "                        </td>\n",
       "                    </tr>\n",
       "                    <tr>\n",
       "                        <td style=\"text-align: left;\">\n",
       "                            <strong>Dashboard: </strong> <a href=\"http://127.0.0.1:63596/status\" target=\"_blank\">http://127.0.0.1:63596/status</a>\n",
       "                        </td>\n",
       "                        <td style=\"text-align: left;\">\n",
       "                            <strong>Memory: </strong> 63.92 GiB\n",
       "                        </td>\n",
       "                    </tr>\n",
       "                    <tr>\n",
       "                        <td style=\"text-align: left;\">\n",
       "                            <strong>Nanny: </strong> tcp://127.0.0.1:63550\n",
       "                        </td>\n",
       "                        <td style=\"text-align: left;\"></td>\n",
       "                    </tr>\n",
       "                    <tr>\n",
       "                        <td colspan=\"2\" style=\"text-align: left;\">\n",
       "                            <strong>Local directory: </strong> C:\\Users\\reube\\AppData\\Local\\Temp\\dask-scratch-space\\worker-lneud12j\n",
       "                        </td>\n",
       "                    </tr>\n",
       "\n",
       "                    \n",
       "\n",
       "                    \n",
       "\n",
       "                </table>\n",
       "            </details>\n",
       "            </div>\n",
       "        </div>\n",
       "        \n",
       "        <div style=\"margin-bottom: 20px;\">\n",
       "            <div style=\"width: 24px; height: 24px; background-color: #DBF5FF; border: 3px solid #4CC9FF; border-radius: 5px; position: absolute;\"> </div>\n",
       "            <div style=\"margin-left: 48px;\">\n",
       "            <details>\n",
       "                <summary>\n",
       "                    <h4 style=\"margin-bottom: 0px; display: inline;\">Worker: 5</h4>\n",
       "                </summary>\n",
       "                <table style=\"width: 100%; text-align: left;\">\n",
       "                    <tr>\n",
       "                        <td style=\"text-align: left;\">\n",
       "                            <strong>Comm: </strong> tcp://127.0.0.1:63588\n",
       "                        </td>\n",
       "                        <td style=\"text-align: left;\">\n",
       "                            <strong>Total threads: </strong> 2\n",
       "                        </td>\n",
       "                    </tr>\n",
       "                    <tr>\n",
       "                        <td style=\"text-align: left;\">\n",
       "                            <strong>Dashboard: </strong> <a href=\"http://127.0.0.1:63593/status\" target=\"_blank\">http://127.0.0.1:63593/status</a>\n",
       "                        </td>\n",
       "                        <td style=\"text-align: left;\">\n",
       "                            <strong>Memory: </strong> 63.92 GiB\n",
       "                        </td>\n",
       "                    </tr>\n",
       "                    <tr>\n",
       "                        <td style=\"text-align: left;\">\n",
       "                            <strong>Nanny: </strong> tcp://127.0.0.1:63552\n",
       "                        </td>\n",
       "                        <td style=\"text-align: left;\"></td>\n",
       "                    </tr>\n",
       "                    <tr>\n",
       "                        <td colspan=\"2\" style=\"text-align: left;\">\n",
       "                            <strong>Local directory: </strong> C:\\Users\\reube\\AppData\\Local\\Temp\\dask-scratch-space\\worker-a93_9tz8\n",
       "                        </td>\n",
       "                    </tr>\n",
       "\n",
       "                    \n",
       "\n",
       "                    \n",
       "\n",
       "                </table>\n",
       "            </details>\n",
       "            </div>\n",
       "        </div>\n",
       "        \n",
       "        <div style=\"margin-bottom: 20px;\">\n",
       "            <div style=\"width: 24px; height: 24px; background-color: #DBF5FF; border: 3px solid #4CC9FF; border-radius: 5px; position: absolute;\"> </div>\n",
       "            <div style=\"margin-left: 48px;\">\n",
       "            <details>\n",
       "                <summary>\n",
       "                    <h4 style=\"margin-bottom: 0px; display: inline;\">Worker: 6</h4>\n",
       "                </summary>\n",
       "                <table style=\"width: 100%; text-align: left;\">\n",
       "                    <tr>\n",
       "                        <td style=\"text-align: left;\">\n",
       "                            <strong>Comm: </strong> tcp://127.0.0.1:63585\n",
       "                        </td>\n",
       "                        <td style=\"text-align: left;\">\n",
       "                            <strong>Total threads: </strong> 2\n",
       "                        </td>\n",
       "                    </tr>\n",
       "                    <tr>\n",
       "                        <td style=\"text-align: left;\">\n",
       "                            <strong>Dashboard: </strong> <a href=\"http://127.0.0.1:63591/status\" target=\"_blank\">http://127.0.0.1:63591/status</a>\n",
       "                        </td>\n",
       "                        <td style=\"text-align: left;\">\n",
       "                            <strong>Memory: </strong> 63.92 GiB\n",
       "                        </td>\n",
       "                    </tr>\n",
       "                    <tr>\n",
       "                        <td style=\"text-align: left;\">\n",
       "                            <strong>Nanny: </strong> tcp://127.0.0.1:63554\n",
       "                        </td>\n",
       "                        <td style=\"text-align: left;\"></td>\n",
       "                    </tr>\n",
       "                    <tr>\n",
       "                        <td colspan=\"2\" style=\"text-align: left;\">\n",
       "                            <strong>Local directory: </strong> C:\\Users\\reube\\AppData\\Local\\Temp\\dask-scratch-space\\worker-bnaqghje\n",
       "                        </td>\n",
       "                    </tr>\n",
       "\n",
       "                    \n",
       "\n",
       "                    \n",
       "\n",
       "                </table>\n",
       "            </details>\n",
       "            </div>\n",
       "        </div>\n",
       "        \n",
       "        <div style=\"margin-bottom: 20px;\">\n",
       "            <div style=\"width: 24px; height: 24px; background-color: #DBF5FF; border: 3px solid #4CC9FF; border-radius: 5px; position: absolute;\"> </div>\n",
       "            <div style=\"margin-left: 48px;\">\n",
       "            <details>\n",
       "                <summary>\n",
       "                    <h4 style=\"margin-bottom: 0px; display: inline;\">Worker: 7</h4>\n",
       "                </summary>\n",
       "                <table style=\"width: 100%; text-align: left;\">\n",
       "                    <tr>\n",
       "                        <td style=\"text-align: left;\">\n",
       "                            <strong>Comm: </strong> tcp://127.0.0.1:63574\n",
       "                        </td>\n",
       "                        <td style=\"text-align: left;\">\n",
       "                            <strong>Total threads: </strong> 2\n",
       "                        </td>\n",
       "                    </tr>\n",
       "                    <tr>\n",
       "                        <td style=\"text-align: left;\">\n",
       "                            <strong>Dashboard: </strong> <a href=\"http://127.0.0.1:63576/status\" target=\"_blank\">http://127.0.0.1:63576/status</a>\n",
       "                        </td>\n",
       "                        <td style=\"text-align: left;\">\n",
       "                            <strong>Memory: </strong> 63.92 GiB\n",
       "                        </td>\n",
       "                    </tr>\n",
       "                    <tr>\n",
       "                        <td style=\"text-align: left;\">\n",
       "                            <strong>Nanny: </strong> tcp://127.0.0.1:63556\n",
       "                        </td>\n",
       "                        <td style=\"text-align: left;\"></td>\n",
       "                    </tr>\n",
       "                    <tr>\n",
       "                        <td colspan=\"2\" style=\"text-align: left;\">\n",
       "                            <strong>Local directory: </strong> C:\\Users\\reube\\AppData\\Local\\Temp\\dask-scratch-space\\worker-gcu2vyhq\n",
       "                        </td>\n",
       "                    </tr>\n",
       "\n",
       "                    \n",
       "\n",
       "                    \n",
       "\n",
       "                </table>\n",
       "            </details>\n",
       "            </div>\n",
       "        </div>\n",
       "        \n",
       "\n",
       "    </details>\n",
       "</div>\n",
       "\n",
       "        </details>\n",
       "    </div>\n",
       "</div>\n",
       "            </details>\n",
       "        \n",
       "\n",
       "    </div>\n",
       "</div>"
      ],
      "text/plain": [
       "<Client: 'tcp://127.0.0.1:63539' processes=8 threads=16, memory=511.38 GiB>"
      ]
     },
     "execution_count": 31,
     "metadata": {},
     "output_type": "execute_result"
    }
   ],
   "source": [
    "from dask.distributed import Client, LocalCluster\n",
    "\n",
    "daskCluster = LocalCluster(threads_per_worker=2,\n",
    "                n_workers=8, memory_limit='100GB')\n",
    "\n",
    "client = Client(daskCluster)\n",
    "\n",
    "client"
   ]
  },
  {
   "cell_type": "code",
   "execution_count": 32,
   "metadata": {},
   "outputs": [
    {
     "name": "stderr",
     "output_type": "stream",
     "text": [
      "Finding closest nodes: 100%|██████████| 828537/828537 [00:46<00:00, 17873.23it/s]\n"
     ]
    }
   ],
   "source": [
    "import geopandas as gpd\n",
    "from shapely.ops import nearest_points\n",
    "from tqdm import tqdm\n",
    "\n",
    "# Assume buildings and nodes are already loaded GeoDataFrames\n",
    "# where 'buildings' has polygon geometries and 'nodes' has point geometries.\n",
    "\n",
    "# Step 2: Compute centroids of buildings\n",
    "joint_df[\"centroid\"] = joint_df.geometry.centroid\n",
    "\n",
    "# Step 3: Create spatial index for nodes\n",
    "nodes_sindex = nodes.sindex\n",
    "\n",
    "# Step 4: Find closest node for each building\n",
    "def find_closest_node(building, nodes_df, nodes_sindex):\n",
    "    # Find nearest point\n",
    "    nearest_idx = list(nodes_sindex.nearest(building['centroid']))[1][0]\n",
    "    return nearest_idx\n",
    "\n",
    "# Apply the function to each building with progress tracking\n",
    "tqdm.pandas(desc=\"Finding closest nodes\")\n",
    "joint_df['closest_node'] = joint_df.progress_apply(\n",
    "    find_closest_node, nodes_df=nodes, nodes_sindex=nodes_sindex, axis=1\n",
    ")"
   ]
  },
  {
   "cell_type": "code",
   "execution_count": 33,
   "metadata": {},
   "outputs": [],
   "source": [
    "# Assuming that the index of the nodes GeoDataFrame is meaningful and unique\n",
    "joint_df = joint_df.merge(nodes, left_on='closest_node', right_index=True, how='left', suffixes=('', '_node'))"
   ]
  },
  {
   "cell_type": "code",
   "execution_count": 34,
   "metadata": {},
   "outputs": [
    {
     "name": "stderr",
     "output_type": "stream",
     "text": [
      "Finding closest nodes: 100%|██████████| 828537/828537 [01:05<00:00, 12630.83it/s]\n"
     ]
    }
   ],
   "source": [
    "\n",
    "# Step 3: Create spatial index for nodes\n",
    "edges_sindex = edges.sindex\n",
    "\n",
    "# Apply the function to each building with progress tracking\n",
    "tqdm.pandas(desc=\"Finding closest nodes\")\n",
    "joint_df['closest_edge'] = joint_df.progress_apply(\n",
    "    find_closest_node, nodes_df=edges, nodes_sindex=edges_sindex, axis=1\n",
    ")"
   ]
  },
  {
   "cell_type": "code",
   "execution_count": 35,
   "metadata": {},
   "outputs": [],
   "source": [
    "# Assuming that the index of the nodes GeoDataFrame is meaningful and unique\n",
    "joint_df = joint_df.merge(edges, left_on='closest_edge', right_index=True, how='left', suffixes=('', '_edge'))"
   ]
  },
  {
   "cell_type": "code",
   "execution_count": 36,
   "metadata": {},
   "outputs": [
    {
     "name": "stderr",
     "output_type": "stream",
     "text": [
      "Finding closest stroke: 100%|██████████| 828537/828537 [01:09<00:00, 11903.13it/s]\n"
     ]
    }
   ],
   "source": [
    "\n",
    "# Step 3: Create spatial index for nodes\n",
    "stroke_sindex = stroke.sindex\n",
    "\n",
    "# Apply the function to each building with progress tracking\n",
    "tqdm.pandas(desc=\"Finding closest stroke\")\n",
    "joint_df['closest_stroke'] = joint_df.progress_apply(\n",
    "    find_closest_node, nodes_df=stroke, nodes_sindex=stroke_sindex, axis=1\n",
    ")"
   ]
  },
  {
   "cell_type": "code",
   "execution_count": 38,
   "metadata": {},
   "outputs": [],
   "source": [
    "# Assuming that the index of the nodes GeoDataFrame is meaningful and unique\n",
    "joint_df = joint_df.merge(stroke, left_on='closest_stroke', right_index=True, how='left', suffixes=('', '_stroke'))"
   ]
  },
  {
   "cell_type": "code",
   "execution_count": 39,
   "metadata": {},
   "outputs": [],
   "source": [
    "file_path = f\"../output/{place}/queen_3.pkl\"\n",
    "\n",
    "if not os.path.exists(file_path):\n",
    "    result = \"File not found.\"\n",
    "else:\n",
    "    # Load the pickle file\n",
    "    with open(file_path, 'rb') as file:\n",
    "        queen_3 = pickle.load(file)\n",
    "    result = \"File loaded successfully.\"\n"
   ]
  },
  {
   "cell_type": "code",
   "execution_count": 41,
   "metadata": {},
   "outputs": [],
   "source": [
    "# # Drop columns containing '_weight' in their names\n",
    "# columns_to_drop = joint_df.filter(like='_weight').columns\n",
    "# joint_df.drop(columns=columns_to_drop, inplace=True)"
   ]
  },
  {
   "cell_type": "code",
   "execution_count": 43,
   "metadata": {},
   "outputs": [],
   "source": [
    "# Drop columns containing '_weight' in their names\n",
    "columns_to_drop = joint_df.filter(like='bID').columns\n",
    "joint_df.drop(columns=columns_to_drop, inplace=True)"
   ]
  },
  {
   "cell_type": "code",
   "execution_count": 44,
   "metadata": {},
   "outputs": [
    {
     "data": {
      "text/plain": [
       "Index(['uID', 'geometry', 'height', 'buildings_neighbours_200',\n",
       "       'building_area', 'building_height', 'volume', 'building_formfactor',\n",
       "       'building_circular_compactness', 'building_elongation',\n",
       "       'building_squareness', 'building_eri', 'building_orientation',\n",
       "       'building_neighbour_dist',\n",
       "       'building_neighbourhood_interbuilding_distance', 'building_corners',\n",
       "       'buildings_shared_walls_ratio', 'buildings_centroidcornermean',\n",
       "       'buildings_centroidcornerstd', 'building_cell_alignment',\n",
       "       'building_alignment', 'building_perimeter_wall', 'building_adjacency',\n",
       "       'tess_compactnessweightedaxis', 'tess_area', 'tessellation_neighbours',\n",
       "       'tess_convexity', 'tess_covered_area', 'tess_orientation',\n",
       "       'tess_rea_theil', 'tess_area_ratio', 'tess_circularCompactness',\n",
       "       'tess_block_count', 'centroid', 'closest_node', 'nodeID',\n",
       "       'geometry_node', 'node_degree', 'meshedness_eucl_500', 'clustering',\n",
       "       'meshedness_topo_5', 'closeness_clustering_400m',\n",
       "       'global_closeness_centrality_primal',\n",
       "       'global_betweeness_centrality_vertex', 'global_straightness_centrality',\n",
       "       'straightness_400m', 'node_ID', 'closest_edge', 'geometry_edge',\n",
       "       'mm_len', 'node_start', 'node_end', 'widths', 'width_deviations',\n",
       "       'openness', 'heights', 'heights_deviations', 'profile',\n",
       "       'global_betweeness_centrality_edge',\n",
       "       'global_straightness_centrality_edge', 'closeness_clustering_400m_edge',\n",
       "       'global_closeness_centrality_primal\\t',\n",
       "       'global_betweeness_centrality_vertex_edge', 'angular_closeness_order_5',\n",
       "       'global_angular_closeness', 'global_angular_betweeness', 'edge_ID',\n",
       "       'closest_stroke', 'n_segments', 'geometry_stroke', 'length'],\n",
       "      dtype='object')"
      ]
     },
     "execution_count": 44,
     "metadata": {},
     "output_type": "execute_result"
    }
   ],
   "source": [
    "joint_df.columns"
   ]
  },
  {
   "cell_type": "code",
   "execution_count": 45,
   "metadata": {},
   "outputs": [],
   "source": [
    "contextual_df = pd.DataFrame()"
   ]
  },
  {
   "cell_type": "code",
   "execution_count": 46,
   "metadata": {},
   "outputs": [],
   "source": [
    "adjlist = queen_3.to_adjlist()"
   ]
  },
  {
   "cell_type": "code",
   "execution_count": 47,
   "metadata": {},
   "outputs": [],
   "source": [
    "joint_df_values = joint_df.drop(columns = ['uID', 'geometry', 'centroid', 'closest_node', 'nodeID', 'geometry_node', 'node_ID', 'closest_edge', 'closest_stroke', 'n_segments', 'geometry_stroke', 'geometry_edge', ])"
   ]
  },
  {
   "cell_type": "code",
   "execution_count": 48,
   "metadata": {},
   "outputs": [
    {
     "name": "stderr",
     "output_type": "stream",
     "text": [
      "  1%|          | 1/104 [06:13<10:40:28, 373.09s/it]"
     ]
    },
    {
     "name": "stdout",
     "output_type": "stream",
     "text": [
      "Chunk 0 saved to ../output/Glasgow_OS\\percentile_chunk_0.pq\n"
     ]
    },
    {
     "name": "stderr",
     "output_type": "stream",
     "text": [
      "  2%|▏         | 2/104 [12:07<10:15:38, 362.14s/it]"
     ]
    },
    {
     "name": "stdout",
     "output_type": "stream",
     "text": [
      "Chunk 1 saved to ../output/Glasgow_OS\\percentile_chunk_1.pq\n"
     ]
    },
    {
     "name": "stderr",
     "output_type": "stream",
     "text": [
      "  3%|▎         | 3/104 [17:56<9:59:22, 356.07s/it] "
     ]
    },
    {
     "name": "stdout",
     "output_type": "stream",
     "text": [
      "Chunk 2 saved to ../output/Glasgow_OS\\percentile_chunk_2.pq\n"
     ]
    },
    {
     "name": "stderr",
     "output_type": "stream",
     "text": [
      "  4%|▍         | 4/104 [23:43<9:47:38, 352.59s/it]"
     ]
    },
    {
     "name": "stdout",
     "output_type": "stream",
     "text": [
      "Chunk 3 saved to ../output/Glasgow_OS\\percentile_chunk_3.pq\n"
     ]
    },
    {
     "name": "stderr",
     "output_type": "stream",
     "text": [
      "2024-01-31 18:14:03,217 - distributed.utils_perf - WARNING - full garbage collections took 11% CPU time recently (threshold: 10%)\n",
      "2024-01-31 18:18:36,740 - distributed.utils_perf - WARNING - full garbage collections took 10% CPU time recently (threshold: 10%)\n",
      "2024-01-31 18:19:01,918 - distributed.utils_perf - WARNING - full garbage collections took 10% CPU time recently (threshold: 10%)\n",
      "2024-01-31 18:19:21,927 - distributed.utils_perf - WARNING - full garbage collections took 10% CPU time recently (threshold: 10%)\n",
      "  5%|▍         | 5/104 [29:38<9:43:12, 353.46s/it]"
     ]
    },
    {
     "name": "stdout",
     "output_type": "stream",
     "text": [
      "Chunk 4 saved to ../output/Glasgow_OS\\percentile_chunk_4.pq\n"
     ]
    },
    {
     "name": "stderr",
     "output_type": "stream",
     "text": [
      "2024-01-31 18:24:46,702 - distributed.utils_perf - WARNING - full garbage collections took 10% CPU time recently (threshold: 10%)\n",
      "2024-01-31 18:25:05,097 - distributed.utils_perf - WARNING - full garbage collections took 10% CPU time recently (threshold: 10%)\n",
      "  6%|▌         | 6/104 [35:24<9:33:00, 350.83s/it]"
     ]
    },
    {
     "name": "stdout",
     "output_type": "stream",
     "text": [
      "Chunk 5 saved to ../output/Glasgow_OS\\percentile_chunk_5.pq\n"
     ]
    },
    {
     "name": "stderr",
     "output_type": "stream",
     "text": [
      "2024-01-31 18:30:49,429 - distributed.utils_perf - WARNING - full garbage collections took 10% CPU time recently (threshold: 10%)\n",
      "  7%|▋         | 7/104 [41:13<9:26:17, 350.29s/it]"
     ]
    },
    {
     "name": "stdout",
     "output_type": "stream",
     "text": [
      "Chunk 6 saved to ../output/Glasgow_OS\\percentile_chunk_6.pq\n"
     ]
    },
    {
     "name": "stderr",
     "output_type": "stream",
     "text": [
      "2024-01-31 18:31:33,491 - distributed.utils_perf - WARNING - full garbage collections took 10% CPU time recently (threshold: 10%)\n",
      "2024-01-31 18:36:32,023 - distributed.utils_perf - WARNING - full garbage collections took 10% CPU time recently (threshold: 10%)\n",
      "2024-01-31 18:36:51,816 - distributed.utils_perf - WARNING - full garbage collections took 10% CPU time recently (threshold: 10%)\n",
      "  8%|▊         | 8/104 [47:07<9:22:21, 351.48s/it]"
     ]
    },
    {
     "name": "stdout",
     "output_type": "stream",
     "text": [
      "Chunk 7 saved to ../output/Glasgow_OS\\percentile_chunk_7.pq\n"
     ]
    },
    {
     "name": "stderr",
     "output_type": "stream",
     "text": [
      "2024-01-31 18:42:25,411 - distributed.utils_perf - WARNING - full garbage collections took 10% CPU time recently (threshold: 10%)\n",
      "2024-01-31 18:42:44,458 - distributed.utils_perf - WARNING - full garbage collections took 10% CPU time recently (threshold: 10%)\n",
      "  9%|▊         | 9/104 [53:03<9:18:37, 352.82s/it]"
     ]
    },
    {
     "name": "stdout",
     "output_type": "stream",
     "text": [
      "Chunk 8 saved to ../output/Glasgow_OS\\percentile_chunk_8.pq\n"
     ]
    },
    {
     "name": "stderr",
     "output_type": "stream",
     "text": [
      " 10%|▉         | 10/104 [58:58<9:13:43, 353.44s/it]"
     ]
    },
    {
     "name": "stdout",
     "output_type": "stream",
     "text": [
      "Chunk 9 saved to ../output/Glasgow_OS\\percentile_chunk_9.pq\n"
     ]
    },
    {
     "name": "stderr",
     "output_type": "stream",
     "text": [
      "2024-01-31 18:53:53,052 - distributed.utils_perf - WARNING - full garbage collections took 10% CPU time recently (threshold: 10%)\n",
      "2024-01-31 18:54:17,626 - distributed.utils_perf - WARNING - full garbage collections took 10% CPU time recently (threshold: 10%)\n",
      "2024-01-31 18:54:37,312 - distributed.utils_perf - WARNING - full garbage collections took 10% CPU time recently (threshold: 10%)\n",
      " 11%|█         | 11/104 [1:04:54<9:09:07, 354.27s/it]"
     ]
    },
    {
     "name": "stdout",
     "output_type": "stream",
     "text": [
      "Chunk 10 saved to ../output/Glasgow_OS\\percentile_chunk_10.pq\n"
     ]
    },
    {
     "name": "stderr",
     "output_type": "stream",
     "text": [
      " 12%|█▏        | 12/104 [1:10:46<9:02:24, 353.75s/it]"
     ]
    },
    {
     "name": "stdout",
     "output_type": "stream",
     "text": [
      "Chunk 11 saved to ../output/Glasgow_OS\\percentile_chunk_11.pq\n"
     ]
    },
    {
     "name": "stderr",
     "output_type": "stream",
     "text": [
      " 12%|█▎        | 13/104 [1:16:40<8:56:23, 353.67s/it]"
     ]
    },
    {
     "name": "stdout",
     "output_type": "stream",
     "text": [
      "Chunk 12 saved to ../output/Glasgow_OS\\percentile_chunk_12.pq\n"
     ]
    },
    {
     "name": "stderr",
     "output_type": "stream",
     "text": [
      " 13%|█▎        | 14/104 [1:22:39<8:53:09, 355.44s/it]"
     ]
    },
    {
     "name": "stdout",
     "output_type": "stream",
     "text": [
      "Chunk 13 saved to ../output/Glasgow_OS\\percentile_chunk_13.pq\n"
     ]
    },
    {
     "name": "stderr",
     "output_type": "stream",
     "text": [
      "2024-01-31 19:18:08,078 - distributed.utils_perf - WARNING - full garbage collections took 10% CPU time recently (threshold: 10%)\n",
      " 14%|█▍        | 15/104 [1:28:34<8:46:40, 355.06s/it]"
     ]
    },
    {
     "name": "stdout",
     "output_type": "stream",
     "text": [
      "Chunk 14 saved to ../output/Glasgow_OS\\percentile_chunk_14.pq\n"
     ]
    },
    {
     "name": "stderr",
     "output_type": "stream",
     "text": [
      " 15%|█▌        | 16/104 [1:34:27<8:40:11, 354.67s/it]"
     ]
    },
    {
     "name": "stdout",
     "output_type": "stream",
     "text": [
      "Chunk 15 saved to ../output/Glasgow_OS\\percentile_chunk_15.pq\n"
     ]
    },
    {
     "name": "stderr",
     "output_type": "stream",
     "text": [
      " 16%|█▋        | 17/104 [1:40:14<8:30:42, 352.21s/it]"
     ]
    },
    {
     "name": "stdout",
     "output_type": "stream",
     "text": [
      "Chunk 16 saved to ../output/Glasgow_OS\\percentile_chunk_16.pq\n"
     ]
    },
    {
     "name": "stderr",
     "output_type": "stream",
     "text": [
      " 17%|█▋        | 18/104 [1:45:53<8:19:23, 348.41s/it]"
     ]
    },
    {
     "name": "stdout",
     "output_type": "stream",
     "text": [
      "Chunk 17 saved to ../output/Glasgow_OS\\percentile_chunk_17.pq\n"
     ]
    },
    {
     "name": "stderr",
     "output_type": "stream",
     "text": [
      " 18%|█▊        | 19/104 [1:51:33<8:09:45, 345.71s/it]"
     ]
    },
    {
     "name": "stdout",
     "output_type": "stream",
     "text": [
      "Chunk 18 saved to ../output/Glasgow_OS\\percentile_chunk_18.pq\n"
     ]
    },
    {
     "name": "stderr",
     "output_type": "stream",
     "text": [
      " 19%|█▉        | 20/104 [1:57:22<8:05:21, 346.69s/it]"
     ]
    },
    {
     "name": "stdout",
     "output_type": "stream",
     "text": [
      "Chunk 19 saved to ../output/Glasgow_OS\\percentile_chunk_19.pq\n"
     ]
    },
    {
     "name": "stderr",
     "output_type": "stream",
     "text": [
      " 20%|██        | 21/104 [2:03:13<8:01:32, 348.10s/it]"
     ]
    },
    {
     "name": "stdout",
     "output_type": "stream",
     "text": [
      "Chunk 20 saved to ../output/Glasgow_OS\\percentile_chunk_20.pq\n"
     ]
    },
    {
     "name": "stderr",
     "output_type": "stream",
     "text": [
      " 21%|██        | 22/104 [2:08:59<7:54:42, 347.35s/it]"
     ]
    },
    {
     "name": "stdout",
     "output_type": "stream",
     "text": [
      "Chunk 21 saved to ../output/Glasgow_OS\\percentile_chunk_21.pq\n"
     ]
    },
    {
     "name": "stderr",
     "output_type": "stream",
     "text": [
      " 22%|██▏       | 23/104 [2:14:37<7:45:22, 344.73s/it]"
     ]
    },
    {
     "name": "stdout",
     "output_type": "stream",
     "text": [
      "Chunk 22 saved to ../output/Glasgow_OS\\percentile_chunk_22.pq\n"
     ]
    }
   ],
   "source": [
    "import pandas as pd\n",
    "import dask\n",
    "from dask.diagnostics import ProgressBar\n",
    "import numpy as np\n",
    "\n",
    "# Assuming client, joint_df_values, and adjlist are already defined\n",
    "\n",
    "# Scatter joint_df_values and adjlist to all workers\n",
    "joint_df_values_future, adjlist_future = client.scatter([joint_df_values, adjlist], broadcast=True)\n",
    "\n",
    "# Function to process each row, using the scattered dataframes\n",
    "# Function to process each row, modified to use the scattered dataframes\n",
    "@dask.delayed\n",
    "def process_row(index, row, adjlist_scattered, joint_df_values_scattered):\n",
    "    # this is a function to compute a measure of diversity (Theil index)\n",
    "    def theil(y):\n",
    "        y = np.array(y)\n",
    "        n = len(y)\n",
    "        plus = y + np.finfo('float').tiny * (y == 0)  # can't have 0 values\n",
    "        yt = plus.sum(axis=0)\n",
    "        s = plus / (yt * 1.0)\n",
    "        lns = np.log(n * s)\n",
    "        slns = s * lns\n",
    "        t = sum(slns)\n",
    "        return t\n",
    "\n",
    "    neigh_uID = adjlist_scattered[adjlist_scattered['focal'] == index].neighbor.tolist()\n",
    "    neigh_uID.append(index)\n",
    "    \n",
    "    neigh_df = joint_df_values_scattered.loc[neigh_uID]\n",
    "    \n",
    "    statistics = {}\n",
    "    for column in neigh_df.columns:\n",
    "        # Median\n",
    "        median_value = neigh_df[column].median()\n",
    "        statistics[f'{column}_median'] = median_value\n",
    "        \n",
    "        # Interquartile Range\n",
    "        Q1 = neigh_df[column].quantile(0.25)\n",
    "        Q3 = neigh_df[column].quantile(0.75)\n",
    "        IQR = Q3 - Q1\n",
    "        statistics[f'{column}_IQR'] = IQR\n",
    "        statistics[f'{column}_25_75_mean'] =  np.mean(neigh_df[column][(neigh_df[column] >= Q1) & (neigh_df[column] <= Q3)])\n",
    "        \n",
    "        P10 = np.percentile(neigh_df[column], 10)\n",
    "        P90 = np.percentile(neigh_df[column], 90)\n",
    "        data_10_90 = neigh_df[column][(neigh_df[column] >= P10) & (neigh_df[column] <= P90)]\n",
    "        \n",
    "        \n",
    "        statistics[f'{column}_10_90_Theil'] = theil(data_10_90)\n",
    "        \n",
    "    return statistics\n",
    "\n",
    "# Function to process a chunk of rows\n",
    "def process_chunk(chunk, adjlist_scattered, joint_df_values_scattered):\n",
    "    tasks = [process_row(index, row, adjlist_scattered, joint_df_values_scattered) for index, row in chunk.iterrows()]\n",
    "    return dask.compute(*tasks)\n",
    "\n",
    "# Main processing loop\n",
    "chunk_size = 8000\n",
    "chunks = [joint_df_values.iloc[i:i+chunk_size] for i in range(0, joint_df_values.shape[0], chunk_size)]\n",
    "\n",
    "import glob\n",
    "\n",
    "# Directory where the files are stored\n",
    "output_directory = f\"../output/{place}\"\n",
    "os.makedirs(output_directory, exist_ok=True)\n",
    "\n",
    "# Pattern to match the files to be deleted\n",
    "file_pattern = os.path.join(output_directory, \"percentile_chunk_*.pq\")\n",
    "\n",
    "# # Find and delete files matching the pattern\n",
    "# for file in glob.glob(file_pattern):\n",
    "#     os.remove(file)\n",
    "#     print(f\"Deleted file: {file}\")\n",
    "    \n",
    "for i, chunk in tqdm(enumerate(chunks), total=len(chunks)):\n",
    "    \n",
    "    if i < n:\n",
    "        continue\n",
    "    else:\n",
    "        with ProgressBar():\n",
    "            result = process_chunk(chunk, adjlist_future, joint_df_values_future)\n",
    "            df = pd.DataFrame(result)\n",
    "\n",
    "            # Save each chunk to a Parquet file\n",
    "            output_directory = f\"../output/{place}\"\n",
    "            os.makedirs(output_directory, exist_ok=True)\n",
    "            file_path = os.path.join(output_directory, f\"percentile_chunk_{i}.pq\")\n",
    "            df.to_parquet(file_path)\n",
    "\n",
    "            print(f\"Chunk {i} saved to {file_path}\")"
   ]
  },
  {
   "cell_type": "code",
   "execution_count": null,
   "metadata": {},
   "outputs": [],
   "source": []
  }
 ],
 "metadata": {
  "kernelspec": {
   "display_name": "Python 3",
   "language": "python",
   "name": "python3"
  },
  "language_info": {
   "codemirror_mode": {
    "name": "ipython",
    "version": 3
   },
   "file_extension": ".py",
   "mimetype": "text/x-python",
   "name": "python",
   "nbconvert_exporter": "python",
   "pygments_lexer": "ipython3",
   "version": "3.11.7"
  }
 },
 "nbformat": 4,
 "nbformat_minor": 2
}
