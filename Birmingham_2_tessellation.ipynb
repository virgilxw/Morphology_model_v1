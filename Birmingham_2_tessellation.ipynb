{
 "cells": [
  {
   "cell_type": "markdown",
   "id": "cf3f0cc1",
   "metadata": {
    "tags": [
     "papermill-error-cell-tag"
    ]
   },
   "source": [
    "<span style=\"color:red; font-family:Helvetica Neue, Helvetica, Arial, sans-serif; font-size:2em;\">An Exception was encountered at '<a href=\"#papermill-error-cell\">In [24]</a>'.</span>"
   ]
  },
  {
   "cell_type": "code",
   "execution_count": 1,
   "id": "f59900a1",
   "metadata": {
    "execution": {
     "iopub.execute_input": "2023-12-27T22:22:47.523130Z",
     "iopub.status.busy": "2023-12-27T22:22:47.522931Z",
     "iopub.status.idle": "2023-12-27T22:22:54.509274Z",
     "shell.execute_reply": "2023-12-27T22:22:54.508810Z"
    },
    "papermill": {
     "duration": 6.993808,
     "end_time": "2023-12-27T22:22:54.510808",
     "exception": false,
     "start_time": "2023-12-27T22:22:47.517000",
     "status": "completed"
    },
    "tags": []
   },
   "outputs": [
    {
     "name": "stderr",
     "output_type": "stream",
     "text": [
      "/home/virgilxw/miniconda3/envs/morph_model_v1_tess/lib/python3.11/site-packages/dask/dataframe/_pyarrow_compat.py:17: FutureWarning: Minimal version of pyarrow will soon be increased to 14.0.1. You are using 13.0.0. Please consider upgrading.\n",
      "  warnings.warn(\n"
     ]
    }
   ],
   "source": [
    "from dask.distributed import Client, LocalCluster\n",
    "from dask import delayed, dataframe as dd\n",
    "import dask\n",
    "import pandas as pd\n",
    "import geopandas as gpd\n",
    "import math\n",
    "import numpy as np\n",
    "import momepy\n",
    "import matplotlib.pyplot as plt\n",
    "import contextily as ctx\n",
    "from math import ceil\n",
    "from shapely.geometry import box\n",
    "from tqdm import tqdm"
   ]
  },
  {
   "cell_type": "code",
   "execution_count": 2,
   "id": "bb9b9886",
   "metadata": {
    "execution": {
     "iopub.execute_input": "2023-12-27T22:22:54.523468Z",
     "iopub.status.busy": "2023-12-27T22:22:54.523036Z",
     "iopub.status.idle": "2023-12-27T22:22:54.525982Z",
     "shell.execute_reply": "2023-12-27T22:22:54.525602Z"
    },
    "papermill": {
     "duration": 0.009159,
     "end_time": "2023-12-27T22:22:54.526921",
     "exception": false,
     "start_time": "2023-12-27T22:22:54.517762",
     "status": "completed"
    },
    "tags": [
     "parameters"
    ]
   },
   "outputs": [],
   "source": [
    "local_crs = 27700\n",
    "place = \"test\"\n",
    "lat = 55.86421405612109\n",
    "lng = -4.251846930489373\n",
    "country = \"UK\"\n",
    "crs=4326\n",
    "radius=1"
   ]
  },
  {
   "cell_type": "code",
   "execution_count": 3,
   "id": "10468bdc",
   "metadata": {
    "execution": {
     "iopub.execute_input": "2023-12-27T22:22:54.537437Z",
     "iopub.status.busy": "2023-12-27T22:22:54.537239Z",
     "iopub.status.idle": "2023-12-27T22:22:54.539756Z",
     "shell.execute_reply": "2023-12-27T22:22:54.539378Z"
    },
    "papermill": {
     "duration": 0.009258,
     "end_time": "2023-12-27T22:22:54.540607",
     "exception": false,
     "start_time": "2023-12-27T22:22:54.531349",
     "status": "completed"
    },
    "tags": [
     "injected-parameters"
    ]
   },
   "outputs": [],
   "source": [
    "# Parameters\n",
    "local_crs = 4326\n",
    "place = \"Birmingham\"\n",
    "lat = 52.47790683186595\n",
    "lng = -1.8999014571831943\n",
    "country = \"UK\"\n",
    "crs = 4326\n",
    "radius = 20\n"
   ]
  },
  {
   "cell_type": "code",
   "execution_count": 4,
   "id": "9f408918",
   "metadata": {
    "execution": {
     "iopub.execute_input": "2023-12-27T22:22:54.550442Z",
     "iopub.status.busy": "2023-12-27T22:22:54.550251Z",
     "iopub.status.idle": "2023-12-27T22:22:56.501934Z",
     "shell.execute_reply": "2023-12-27T22:22:56.501513Z"
    },
    "papermill": {
     "duration": 1.958212,
     "end_time": "2023-12-27T22:22:56.503357",
     "exception": false,
     "start_time": "2023-12-27T22:22:54.545145",
     "status": "completed"
    },
    "tags": []
   },
   "outputs": [
    {
     "name": "stderr",
     "output_type": "stream",
     "text": [
      "/tmp/ipykernel_16379/371211060.py:1: FutureWarning: Currently, index_parts defaults to True, but in the future, it will default to False to be consistent with Pandas. Use `index_parts=True` to keep the current behavior and True/False to silence the warning.\n",
      "  streets = gpd.read_parquet(f\"../output/{place}/streets_raw.pq\").explode().to_crs(local_crs).reset_index(drop=True)\n"
     ]
    }
   ],
   "source": [
    "streets = gpd.read_parquet(f\"../output/{place}/streets_raw.pq\").explode().to_crs(local_crs).reset_index(drop=True)\n",
    "\n",
    "buildings = gpd.read_parquet(f\"../output/{place}/buildings_raw.pq\").to_crs(local_crs)\n",
    "\n",
    "study_area = gpd.read_parquet(f\"../output/{place}/study_area.pq\").to_crs(local_crs)\n",
    "\n",
    "water = gpd.read_parquet(f\"../output/{place}/water.pq\").to_crs(local_crs)\n",
    "\n",
    "rail = gpd.read_parquet(f\"../output/{place}/rail_raw.pq\").to_crs(local_crs).reset_index(drop=True)"
   ]
  },
  {
   "cell_type": "code",
   "execution_count": 5,
   "id": "57368c85",
   "metadata": {
    "execution": {
     "iopub.execute_input": "2023-12-27T22:22:56.513836Z",
     "iopub.status.busy": "2023-12-27T22:22:56.513620Z",
     "iopub.status.idle": "2023-12-27T22:22:58.706708Z",
     "shell.execute_reply": "2023-12-27T22:22:58.706299Z"
    },
    "papermill": {
     "duration": 2.1994,
     "end_time": "2023-12-27T22:22:58.707700",
     "exception": false,
     "start_time": "2023-12-27T22:22:56.508300",
     "status": "completed"
    },
    "tags": []
   },
   "outputs": [
    {
     "name": "stderr",
     "output_type": "stream",
     "text": [
      "/home/virgilxw/miniconda3/envs/morph_model_v1_tess/lib/python3.11/site-packages/distributed/node.py:182: UserWarning: Port 8787 is already in use.\n",
      "Perhaps you already have a cluster running?\n",
      "Hosting the HTTP server on port 44157 instead\n",
      "  warnings.warn(\n",
      "2023-12-27 22:31:39,511 - distributed.nanny.memory - WARNING - Ignoring provided memory limit 70GB due to system memory limit of 31.31 GiB\n",
      "2023-12-27 22:31:39,514 - distributed.nanny.memory - WARNING - Ignoring provided memory limit 70GB due to system memory limit of 31.31 GiB\n",
      "2023-12-27 22:31:39,516 - distributed.nanny.memory - WARNING - Ignoring provided memory limit 70GB due to system memory limit of 31.31 GiB\n",
      "2023-12-27 22:31:39,519 - distributed.nanny.memory - WARNING - Ignoring provided memory limit 70GB due to system memory limit of 31.31 GiB\n",
      "2023-12-27 22:31:39,522 - distributed.nanny.memory - WARNING - Ignoring provided memory limit 70GB due to system memory limit of 31.31 GiB\n",
      "2023-12-27 22:31:39,525 - distributed.nanny.memory - WARNING - Ignoring provided memory limit 70GB due to system memory limit of 31.31 GiB\n",
      "2023-12-27 22:31:39,528 - distributed.nanny.memory - WARNING - Ignoring provided memory limit 70GB due to system memory limit of 31.31 GiB\n",
      "2023-12-27 22:31:39,530 - distributed.nanny.memory - WARNING - Ignoring provided memory limit 70GB due to system memory limit of 31.31 GiB\n"
     ]
    },
    {
     "data": {
      "text/html": [
       "<div>\n",
       "    <div style=\"width: 24px; height: 24px; background-color: #e1e1e1; border: 3px solid #9D9D9D; border-radius: 5px; position: absolute;\"> </div>\n",
       "    <div style=\"margin-left: 48px;\">\n",
       "        <h3 style=\"margin-bottom: 0px;\">Client</h3>\n",
       "        <p style=\"color: #9D9D9D; margin-bottom: 0px;\">Client-b472ac63-a507-11ee-bffb-00155db3603f</p>\n",
       "        <table style=\"width: 100%; text-align: left;\">\n",
       "\n",
       "        <tr>\n",
       "        \n",
       "            <td style=\"text-align: left;\"><strong>Connection method:</strong> Cluster object</td>\n",
       "            <td style=\"text-align: left;\"><strong>Cluster type:</strong> distributed.LocalCluster</td>\n",
       "        \n",
       "        </tr>\n",
       "\n",
       "        \n",
       "            <tr>\n",
       "                <td style=\"text-align: left;\">\n",
       "                    <strong>Dashboard: </strong> <a href=\"http://127.0.0.1:44157/status\" target=\"_blank\">http://127.0.0.1:44157/status</a>\n",
       "                </td>\n",
       "                <td style=\"text-align: left;\"></td>\n",
       "            </tr>\n",
       "        \n",
       "\n",
       "        </table>\n",
       "\n",
       "        \n",
       "\n",
       "        \n",
       "            <details>\n",
       "            <summary style=\"margin-bottom: 20px;\"><h3 style=\"display: inline;\">Cluster Info</h3></summary>\n",
       "            <div class=\"jp-RenderedHTMLCommon jp-RenderedHTML jp-mod-trusted jp-OutputArea-output\">\n",
       "    <div style=\"width: 24px; height: 24px; background-color: #e1e1e1; border: 3px solid #9D9D9D; border-radius: 5px; position: absolute;\">\n",
       "    </div>\n",
       "    <div style=\"margin-left: 48px;\">\n",
       "        <h3 style=\"margin-bottom: 0px; margin-top: 0px;\">LocalCluster</h3>\n",
       "        <p style=\"color: #9D9D9D; margin-bottom: 0px;\">0e6bbe94</p>\n",
       "        <table style=\"width: 100%; text-align: left;\">\n",
       "            <tr>\n",
       "                <td style=\"text-align: left;\">\n",
       "                    <strong>Dashboard:</strong> <a href=\"http://127.0.0.1:44157/status\" target=\"_blank\">http://127.0.0.1:44157/status</a>\n",
       "                </td>\n",
       "                <td style=\"text-align: left;\">\n",
       "                    <strong>Workers:</strong> 8\n",
       "                </td>\n",
       "            </tr>\n",
       "            <tr>\n",
       "                <td style=\"text-align: left;\">\n",
       "                    <strong>Total threads:</strong> 16\n",
       "                </td>\n",
       "                <td style=\"text-align: left;\">\n",
       "                    <strong>Total memory:</strong> 250.47 GiB\n",
       "                </td>\n",
       "            </tr>\n",
       "            \n",
       "            <tr>\n",
       "    <td style=\"text-align: left;\"><strong>Status:</strong> running</td>\n",
       "    <td style=\"text-align: left;\"><strong>Using processes:</strong> True</td>\n",
       "</tr>\n",
       "\n",
       "            \n",
       "        </table>\n",
       "\n",
       "        <details>\n",
       "            <summary style=\"margin-bottom: 20px;\">\n",
       "                <h3 style=\"display: inline;\">Scheduler Info</h3>\n",
       "            </summary>\n",
       "\n",
       "            <div style=\"\">\n",
       "    <div>\n",
       "        <div style=\"width: 24px; height: 24px; background-color: #FFF7E5; border: 3px solid #FF6132; border-radius: 5px; position: absolute;\"> </div>\n",
       "        <div style=\"margin-left: 48px;\">\n",
       "            <h3 style=\"margin-bottom: 0px;\">Scheduler</h3>\n",
       "            <p style=\"color: #9D9D9D; margin-bottom: 0px;\">Scheduler-bab5c489-0ecf-44ef-95e4-eb225703f721</p>\n",
       "            <table style=\"width: 100%; text-align: left;\">\n",
       "                <tr>\n",
       "                    <td style=\"text-align: left;\">\n",
       "                        <strong>Comm:</strong> tcp://127.0.0.1:41111\n",
       "                    </td>\n",
       "                    <td style=\"text-align: left;\">\n",
       "                        <strong>Workers:</strong> 8\n",
       "                    </td>\n",
       "                </tr>\n",
       "                <tr>\n",
       "                    <td style=\"text-align: left;\">\n",
       "                        <strong>Dashboard:</strong> <a href=\"http://127.0.0.1:44157/status\" target=\"_blank\">http://127.0.0.1:44157/status</a>\n",
       "                    </td>\n",
       "                    <td style=\"text-align: left;\">\n",
       "                        <strong>Total threads:</strong> 16\n",
       "                    </td>\n",
       "                </tr>\n",
       "                <tr>\n",
       "                    <td style=\"text-align: left;\">\n",
       "                        <strong>Started:</strong> Just now\n",
       "                    </td>\n",
       "                    <td style=\"text-align: left;\">\n",
       "                        <strong>Total memory:</strong> 250.47 GiB\n",
       "                    </td>\n",
       "                </tr>\n",
       "            </table>\n",
       "        </div>\n",
       "    </div>\n",
       "\n",
       "    <details style=\"margin-left: 48px;\">\n",
       "        <summary style=\"margin-bottom: 20px;\">\n",
       "            <h3 style=\"display: inline;\">Workers</h3>\n",
       "        </summary>\n",
       "\n",
       "        \n",
       "        <div style=\"margin-bottom: 20px;\">\n",
       "            <div style=\"width: 24px; height: 24px; background-color: #DBF5FF; border: 3px solid #4CC9FF; border-radius: 5px; position: absolute;\"> </div>\n",
       "            <div style=\"margin-left: 48px;\">\n",
       "            <details>\n",
       "                <summary>\n",
       "                    <h4 style=\"margin-bottom: 0px; display: inline;\">Worker: 0</h4>\n",
       "                </summary>\n",
       "                <table style=\"width: 100%; text-align: left;\">\n",
       "                    <tr>\n",
       "                        <td style=\"text-align: left;\">\n",
       "                            <strong>Comm: </strong> tcp://127.0.0.1:41217\n",
       "                        </td>\n",
       "                        <td style=\"text-align: left;\">\n",
       "                            <strong>Total threads: </strong> 2\n",
       "                        </td>\n",
       "                    </tr>\n",
       "                    <tr>\n",
       "                        <td style=\"text-align: left;\">\n",
       "                            <strong>Dashboard: </strong> <a href=\"http://127.0.0.1:43605/status\" target=\"_blank\">http://127.0.0.1:43605/status</a>\n",
       "                        </td>\n",
       "                        <td style=\"text-align: left;\">\n",
       "                            <strong>Memory: </strong> 31.31 GiB\n",
       "                        </td>\n",
       "                    </tr>\n",
       "                    <tr>\n",
       "                        <td style=\"text-align: left;\">\n",
       "                            <strong>Nanny: </strong> tcp://127.0.0.1:46631\n",
       "                        </td>\n",
       "                        <td style=\"text-align: left;\"></td>\n",
       "                    </tr>\n",
       "                    <tr>\n",
       "                        <td colspan=\"2\" style=\"text-align: left;\">\n",
       "                            <strong>Local directory: </strong> /tmp/dask-scratch-space/worker-c8u8a5_6\n",
       "                        </td>\n",
       "                    </tr>\n",
       "\n",
       "                    \n",
       "\n",
       "                    \n",
       "\n",
       "                </table>\n",
       "            </details>\n",
       "            </div>\n",
       "        </div>\n",
       "        \n",
       "        <div style=\"margin-bottom: 20px;\">\n",
       "            <div style=\"width: 24px; height: 24px; background-color: #DBF5FF; border: 3px solid #4CC9FF; border-radius: 5px; position: absolute;\"> </div>\n",
       "            <div style=\"margin-left: 48px;\">\n",
       "            <details>\n",
       "                <summary>\n",
       "                    <h4 style=\"margin-bottom: 0px; display: inline;\">Worker: 1</h4>\n",
       "                </summary>\n",
       "                <table style=\"width: 100%; text-align: left;\">\n",
       "                    <tr>\n",
       "                        <td style=\"text-align: left;\">\n",
       "                            <strong>Comm: </strong> tcp://127.0.0.1:39859\n",
       "                        </td>\n",
       "                        <td style=\"text-align: left;\">\n",
       "                            <strong>Total threads: </strong> 2\n",
       "                        </td>\n",
       "                    </tr>\n",
       "                    <tr>\n",
       "                        <td style=\"text-align: left;\">\n",
       "                            <strong>Dashboard: </strong> <a href=\"http://127.0.0.1:38253/status\" target=\"_blank\">http://127.0.0.1:38253/status</a>\n",
       "                        </td>\n",
       "                        <td style=\"text-align: left;\">\n",
       "                            <strong>Memory: </strong> 31.31 GiB\n",
       "                        </td>\n",
       "                    </tr>\n",
       "                    <tr>\n",
       "                        <td style=\"text-align: left;\">\n",
       "                            <strong>Nanny: </strong> tcp://127.0.0.1:35547\n",
       "                        </td>\n",
       "                        <td style=\"text-align: left;\"></td>\n",
       "                    </tr>\n",
       "                    <tr>\n",
       "                        <td colspan=\"2\" style=\"text-align: left;\">\n",
       "                            <strong>Local directory: </strong> /tmp/dask-scratch-space/worker-r__vvjqx\n",
       "                        </td>\n",
       "                    </tr>\n",
       "\n",
       "                    \n",
       "\n",
       "                    \n",
       "\n",
       "                </table>\n",
       "            </details>\n",
       "            </div>\n",
       "        </div>\n",
       "        \n",
       "        <div style=\"margin-bottom: 20px;\">\n",
       "            <div style=\"width: 24px; height: 24px; background-color: #DBF5FF; border: 3px solid #4CC9FF; border-radius: 5px; position: absolute;\"> </div>\n",
       "            <div style=\"margin-left: 48px;\">\n",
       "            <details>\n",
       "                <summary>\n",
       "                    <h4 style=\"margin-bottom: 0px; display: inline;\">Worker: 2</h4>\n",
       "                </summary>\n",
       "                <table style=\"width: 100%; text-align: left;\">\n",
       "                    <tr>\n",
       "                        <td style=\"text-align: left;\">\n",
       "                            <strong>Comm: </strong> tcp://127.0.0.1:42945\n",
       "                        </td>\n",
       "                        <td style=\"text-align: left;\">\n",
       "                            <strong>Total threads: </strong> 2\n",
       "                        </td>\n",
       "                    </tr>\n",
       "                    <tr>\n",
       "                        <td style=\"text-align: left;\">\n",
       "                            <strong>Dashboard: </strong> <a href=\"http://127.0.0.1:37093/status\" target=\"_blank\">http://127.0.0.1:37093/status</a>\n",
       "                        </td>\n",
       "                        <td style=\"text-align: left;\">\n",
       "                            <strong>Memory: </strong> 31.31 GiB\n",
       "                        </td>\n",
       "                    </tr>\n",
       "                    <tr>\n",
       "                        <td style=\"text-align: left;\">\n",
       "                            <strong>Nanny: </strong> tcp://127.0.0.1:39227\n",
       "                        </td>\n",
       "                        <td style=\"text-align: left;\"></td>\n",
       "                    </tr>\n",
       "                    <tr>\n",
       "                        <td colspan=\"2\" style=\"text-align: left;\">\n",
       "                            <strong>Local directory: </strong> /tmp/dask-scratch-space/worker-x2vxo87q\n",
       "                        </td>\n",
       "                    </tr>\n",
       "\n",
       "                    \n",
       "\n",
       "                    \n",
       "\n",
       "                </table>\n",
       "            </details>\n",
       "            </div>\n",
       "        </div>\n",
       "        \n",
       "        <div style=\"margin-bottom: 20px;\">\n",
       "            <div style=\"width: 24px; height: 24px; background-color: #DBF5FF; border: 3px solid #4CC9FF; border-radius: 5px; position: absolute;\"> </div>\n",
       "            <div style=\"margin-left: 48px;\">\n",
       "            <details>\n",
       "                <summary>\n",
       "                    <h4 style=\"margin-bottom: 0px; display: inline;\">Worker: 3</h4>\n",
       "                </summary>\n",
       "                <table style=\"width: 100%; text-align: left;\">\n",
       "                    <tr>\n",
       "                        <td style=\"text-align: left;\">\n",
       "                            <strong>Comm: </strong> tcp://127.0.0.1:37745\n",
       "                        </td>\n",
       "                        <td style=\"text-align: left;\">\n",
       "                            <strong>Total threads: </strong> 2\n",
       "                        </td>\n",
       "                    </tr>\n",
       "                    <tr>\n",
       "                        <td style=\"text-align: left;\">\n",
       "                            <strong>Dashboard: </strong> <a href=\"http://127.0.0.1:38831/status\" target=\"_blank\">http://127.0.0.1:38831/status</a>\n",
       "                        </td>\n",
       "                        <td style=\"text-align: left;\">\n",
       "                            <strong>Memory: </strong> 31.31 GiB\n",
       "                        </td>\n",
       "                    </tr>\n",
       "                    <tr>\n",
       "                        <td style=\"text-align: left;\">\n",
       "                            <strong>Nanny: </strong> tcp://127.0.0.1:32897\n",
       "                        </td>\n",
       "                        <td style=\"text-align: left;\"></td>\n",
       "                    </tr>\n",
       "                    <tr>\n",
       "                        <td colspan=\"2\" style=\"text-align: left;\">\n",
       "                            <strong>Local directory: </strong> /tmp/dask-scratch-space/worker-07cwxxlk\n",
       "                        </td>\n",
       "                    </tr>\n",
       "\n",
       "                    \n",
       "\n",
       "                    \n",
       "\n",
       "                </table>\n",
       "            </details>\n",
       "            </div>\n",
       "        </div>\n",
       "        \n",
       "        <div style=\"margin-bottom: 20px;\">\n",
       "            <div style=\"width: 24px; height: 24px; background-color: #DBF5FF; border: 3px solid #4CC9FF; border-radius: 5px; position: absolute;\"> </div>\n",
       "            <div style=\"margin-left: 48px;\">\n",
       "            <details>\n",
       "                <summary>\n",
       "                    <h4 style=\"margin-bottom: 0px; display: inline;\">Worker: 4</h4>\n",
       "                </summary>\n",
       "                <table style=\"width: 100%; text-align: left;\">\n",
       "                    <tr>\n",
       "                        <td style=\"text-align: left;\">\n",
       "                            <strong>Comm: </strong> tcp://127.0.0.1:45627\n",
       "                        </td>\n",
       "                        <td style=\"text-align: left;\">\n",
       "                            <strong>Total threads: </strong> 2\n",
       "                        </td>\n",
       "                    </tr>\n",
       "                    <tr>\n",
       "                        <td style=\"text-align: left;\">\n",
       "                            <strong>Dashboard: </strong> <a href=\"http://127.0.0.1:36517/status\" target=\"_blank\">http://127.0.0.1:36517/status</a>\n",
       "                        </td>\n",
       "                        <td style=\"text-align: left;\">\n",
       "                            <strong>Memory: </strong> 31.31 GiB\n",
       "                        </td>\n",
       "                    </tr>\n",
       "                    <tr>\n",
       "                        <td style=\"text-align: left;\">\n",
       "                            <strong>Nanny: </strong> tcp://127.0.0.1:43933\n",
       "                        </td>\n",
       "                        <td style=\"text-align: left;\"></td>\n",
       "                    </tr>\n",
       "                    <tr>\n",
       "                        <td colspan=\"2\" style=\"text-align: left;\">\n",
       "                            <strong>Local directory: </strong> /tmp/dask-scratch-space/worker-ch72kl76\n",
       "                        </td>\n",
       "                    </tr>\n",
       "\n",
       "                    \n",
       "\n",
       "                    \n",
       "\n",
       "                </table>\n",
       "            </details>\n",
       "            </div>\n",
       "        </div>\n",
       "        \n",
       "        <div style=\"margin-bottom: 20px;\">\n",
       "            <div style=\"width: 24px; height: 24px; background-color: #DBF5FF; border: 3px solid #4CC9FF; border-radius: 5px; position: absolute;\"> </div>\n",
       "            <div style=\"margin-left: 48px;\">\n",
       "            <details>\n",
       "                <summary>\n",
       "                    <h4 style=\"margin-bottom: 0px; display: inline;\">Worker: 5</h4>\n",
       "                </summary>\n",
       "                <table style=\"width: 100%; text-align: left;\">\n",
       "                    <tr>\n",
       "                        <td style=\"text-align: left;\">\n",
       "                            <strong>Comm: </strong> tcp://127.0.0.1:34093\n",
       "                        </td>\n",
       "                        <td style=\"text-align: left;\">\n",
       "                            <strong>Total threads: </strong> 2\n",
       "                        </td>\n",
       "                    </tr>\n",
       "                    <tr>\n",
       "                        <td style=\"text-align: left;\">\n",
       "                            <strong>Dashboard: </strong> <a href=\"http://127.0.0.1:44477/status\" target=\"_blank\">http://127.0.0.1:44477/status</a>\n",
       "                        </td>\n",
       "                        <td style=\"text-align: left;\">\n",
       "                            <strong>Memory: </strong> 31.31 GiB\n",
       "                        </td>\n",
       "                    </tr>\n",
       "                    <tr>\n",
       "                        <td style=\"text-align: left;\">\n",
       "                            <strong>Nanny: </strong> tcp://127.0.0.1:37169\n",
       "                        </td>\n",
       "                        <td style=\"text-align: left;\"></td>\n",
       "                    </tr>\n",
       "                    <tr>\n",
       "                        <td colspan=\"2\" style=\"text-align: left;\">\n",
       "                            <strong>Local directory: </strong> /tmp/dask-scratch-space/worker-kmthfeeu\n",
       "                        </td>\n",
       "                    </tr>\n",
       "\n",
       "                    \n",
       "\n",
       "                    \n",
       "\n",
       "                </table>\n",
       "            </details>\n",
       "            </div>\n",
       "        </div>\n",
       "        \n",
       "        <div style=\"margin-bottom: 20px;\">\n",
       "            <div style=\"width: 24px; height: 24px; background-color: #DBF5FF; border: 3px solid #4CC9FF; border-radius: 5px; position: absolute;\"> </div>\n",
       "            <div style=\"margin-left: 48px;\">\n",
       "            <details>\n",
       "                <summary>\n",
       "                    <h4 style=\"margin-bottom: 0px; display: inline;\">Worker: 6</h4>\n",
       "                </summary>\n",
       "                <table style=\"width: 100%; text-align: left;\">\n",
       "                    <tr>\n",
       "                        <td style=\"text-align: left;\">\n",
       "                            <strong>Comm: </strong> tcp://127.0.0.1:35487\n",
       "                        </td>\n",
       "                        <td style=\"text-align: left;\">\n",
       "                            <strong>Total threads: </strong> 2\n",
       "                        </td>\n",
       "                    </tr>\n",
       "                    <tr>\n",
       "                        <td style=\"text-align: left;\">\n",
       "                            <strong>Dashboard: </strong> <a href=\"http://127.0.0.1:38451/status\" target=\"_blank\">http://127.0.0.1:38451/status</a>\n",
       "                        </td>\n",
       "                        <td style=\"text-align: left;\">\n",
       "                            <strong>Memory: </strong> 31.31 GiB\n",
       "                        </td>\n",
       "                    </tr>\n",
       "                    <tr>\n",
       "                        <td style=\"text-align: left;\">\n",
       "                            <strong>Nanny: </strong> tcp://127.0.0.1:34679\n",
       "                        </td>\n",
       "                        <td style=\"text-align: left;\"></td>\n",
       "                    </tr>\n",
       "                    <tr>\n",
       "                        <td colspan=\"2\" style=\"text-align: left;\">\n",
       "                            <strong>Local directory: </strong> /tmp/dask-scratch-space/worker-vqpjmied\n",
       "                        </td>\n",
       "                    </tr>\n",
       "\n",
       "                    \n",
       "\n",
       "                    \n",
       "\n",
       "                </table>\n",
       "            </details>\n",
       "            </div>\n",
       "        </div>\n",
       "        \n",
       "        <div style=\"margin-bottom: 20px;\">\n",
       "            <div style=\"width: 24px; height: 24px; background-color: #DBF5FF; border: 3px solid #4CC9FF; border-radius: 5px; position: absolute;\"> </div>\n",
       "            <div style=\"margin-left: 48px;\">\n",
       "            <details>\n",
       "                <summary>\n",
       "                    <h4 style=\"margin-bottom: 0px; display: inline;\">Worker: 7</h4>\n",
       "                </summary>\n",
       "                <table style=\"width: 100%; text-align: left;\">\n",
       "                    <tr>\n",
       "                        <td style=\"text-align: left;\">\n",
       "                            <strong>Comm: </strong> tcp://127.0.0.1:46395\n",
       "                        </td>\n",
       "                        <td style=\"text-align: left;\">\n",
       "                            <strong>Total threads: </strong> 2\n",
       "                        </td>\n",
       "                    </tr>\n",
       "                    <tr>\n",
       "                        <td style=\"text-align: left;\">\n",
       "                            <strong>Dashboard: </strong> <a href=\"http://127.0.0.1:37227/status\" target=\"_blank\">http://127.0.0.1:37227/status</a>\n",
       "                        </td>\n",
       "                        <td style=\"text-align: left;\">\n",
       "                            <strong>Memory: </strong> 31.31 GiB\n",
       "                        </td>\n",
       "                    </tr>\n",
       "                    <tr>\n",
       "                        <td style=\"text-align: left;\">\n",
       "                            <strong>Nanny: </strong> tcp://127.0.0.1:41119\n",
       "                        </td>\n",
       "                        <td style=\"text-align: left;\"></td>\n",
       "                    </tr>\n",
       "                    <tr>\n",
       "                        <td colspan=\"2\" style=\"text-align: left;\">\n",
       "                            <strong>Local directory: </strong> /tmp/dask-scratch-space/worker-r2cxl8pt\n",
       "                        </td>\n",
       "                    </tr>\n",
       "\n",
       "                    \n",
       "\n",
       "                    \n",
       "\n",
       "                </table>\n",
       "            </details>\n",
       "            </div>\n",
       "        </div>\n",
       "        \n",
       "\n",
       "    </details>\n",
       "</div>\n",
       "\n",
       "        </details>\n",
       "    </div>\n",
       "</div>\n",
       "            </details>\n",
       "        \n",
       "\n",
       "    </div>\n",
       "</div>"
      ],
      "text/plain": [
       "<Client: 'tcp://127.0.0.1:41111' processes=8 threads=16, memory=250.47 GiB>"
      ]
     },
     "execution_count": 5,
     "metadata": {},
     "output_type": "execute_result"
    }
   ],
   "source": [
    "daskCluster = LocalCluster(threads_per_worker=2,\n",
    "                n_workers=8, memory_limit='70GB')\n",
    "\n",
    "client = Client(daskCluster)\n",
    "\n",
    "client"
   ]
  },
  {
   "cell_type": "code",
   "execution_count": 6,
   "id": "080e8ca1",
   "metadata": {
    "execution": {
     "iopub.execute_input": "2023-12-27T22:22:58.721308Z",
     "iopub.status.busy": "2023-12-27T22:22:58.721028Z",
     "iopub.status.idle": "2023-12-27T22:22:58.782718Z",
     "shell.execute_reply": "2023-12-27T22:22:58.782314Z"
    },
    "papermill": {
     "duration": 0.068651,
     "end_time": "2023-12-27T22:22:58.783637",
     "exception": false,
     "start_time": "2023-12-27T22:22:58.714986",
     "status": "completed"
    },
    "tags": []
   },
   "outputs": [
    {
     "data": {
      "text/html": [
       "<div>\n",
       "<style scoped>\n",
       "    .dataframe tbody tr th:only-of-type {\n",
       "        vertical-align: middle;\n",
       "    }\n",
       "\n",
       "    .dataframe tbody tr th {\n",
       "        vertical-align: top;\n",
       "    }\n",
       "\n",
       "    .dataframe thead th {\n",
       "        text-align: right;\n",
       "    }\n",
       "</style>\n",
       "<table border=\"1\" class=\"dataframe\">\n",
       "  <thead>\n",
       "    <tr style=\"text-align: right;\">\n",
       "      <th></th>\n",
       "      <th>geometry</th>\n",
       "    </tr>\n",
       "  </thead>\n",
       "  <tbody>\n",
       "  </tbody>\n",
       "</table>\n",
       "</div>"
      ],
      "text/plain": [
       "Empty GeoDataFrame\n",
       "Columns: [geometry]\n",
       "Index: []"
      ]
     },
     "execution_count": 6,
     "metadata": {},
     "output_type": "execute_result"
    }
   ],
   "source": [
    "streets[~streets['geometry'].is_valid]"
   ]
  },
  {
   "cell_type": "code",
   "execution_count": 7,
   "id": "22613620",
   "metadata": {
    "execution": {
     "iopub.execute_input": "2023-12-27T22:22:58.794880Z",
     "iopub.status.busy": "2023-12-27T22:22:58.794666Z",
     "iopub.status.idle": "2023-12-27T22:22:59.726635Z",
     "shell.execute_reply": "2023-12-27T22:22:59.726191Z"
    },
    "papermill": {
     "duration": 0.938863,
     "end_time": "2023-12-27T22:22:59.727678",
     "exception": false,
     "start_time": "2023-12-27T22:22:58.788815",
     "status": "completed"
    },
    "tags": []
   },
   "outputs": [
    {
     "data": {
      "text/html": [
       "<div>\n",
       "<style scoped>\n",
       "    .dataframe tbody tr th:only-of-type {\n",
       "        vertical-align: middle;\n",
       "    }\n",
       "\n",
       "    .dataframe tbody tr th {\n",
       "        vertical-align: top;\n",
       "    }\n",
       "\n",
       "    .dataframe thead th {\n",
       "        text-align: right;\n",
       "    }\n",
       "</style>\n",
       "<table border=\"1\" class=\"dataframe\">\n",
       "  <thead>\n",
       "    <tr style=\"text-align: right;\">\n",
       "      <th></th>\n",
       "      <th>geometry</th>\n",
       "    </tr>\n",
       "  </thead>\n",
       "  <tbody>\n",
       "    <tr>\n",
       "      <th>21558</th>\n",
       "      <td>POLYGON ((-2.16576 52.57635, -2.16576 52.57626...</td>\n",
       "    </tr>\n",
       "    <tr>\n",
       "      <th>144804</th>\n",
       "      <td>POLYGON ((-2.13104 52.58684, -2.13108 52.58695...</td>\n",
       "    </tr>\n",
       "    <tr>\n",
       "      <th>173142</th>\n",
       "      <td>POLYGON ((-2.16872 52.49606, -2.16859 52.49608...</td>\n",
       "    </tr>\n",
       "    <tr>\n",
       "      <th>246327</th>\n",
       "      <td>POLYGON ((-2.19130 52.57791, -2.19133 52.57783...</td>\n",
       "    </tr>\n",
       "    <tr>\n",
       "      <th>16134</th>\n",
       "      <td>POLYGON ((-1.64901 52.60353, -1.64982 52.60395...</td>\n",
       "    </tr>\n",
       "    <tr>\n",
       "      <th>256551</th>\n",
       "      <td>POLYGON ((-2.03846 52.61790, -2.03890 52.61791...</td>\n",
       "    </tr>\n",
       "    <tr>\n",
       "      <th>324584</th>\n",
       "      <td>POLYGON ((-1.82081 52.66952, -1.82068 52.66959...</td>\n",
       "    </tr>\n",
       "    <tr>\n",
       "      <th>332386</th>\n",
       "      <td>POLYGON ((-1.98223 52.57983, -1.98228 52.58006...</td>\n",
       "    </tr>\n",
       "    <tr>\n",
       "      <th>410192</th>\n",
       "      <td>POLYGON ((-1.89635 52.57940, -1.89638 52.57944...</td>\n",
       "    </tr>\n",
       "    <tr>\n",
       "      <th>462725</th>\n",
       "      <td>POLYGON ((-1.82479 52.56082, -1.82475 52.56081...</td>\n",
       "    </tr>\n",
       "    <tr>\n",
       "      <th>15686</th>\n",
       "      <td>POLYGON ((-1.73628 52.38373, -1.73624 52.38374...</td>\n",
       "    </tr>\n",
       "    <tr>\n",
       "      <th>135280</th>\n",
       "      <td>POLYGON ((-1.59592 52.40038, -1.59603 52.40038...</td>\n",
       "    </tr>\n",
       "    <tr>\n",
       "      <th>304306</th>\n",
       "      <td>POLYGON ((-1.57271 52.40681, -1.57272 52.40684...</td>\n",
       "    </tr>\n",
       "    <tr>\n",
       "      <th>367112</th>\n",
       "      <td>POLYGON ((-2.00458 52.44312, -2.00456 52.44320...</td>\n",
       "    </tr>\n",
       "  </tbody>\n",
       "</table>\n",
       "</div>"
      ],
      "text/plain": [
       "                                                 geometry\n",
       "21558   POLYGON ((-2.16576 52.57635, -2.16576 52.57626...\n",
       "144804  POLYGON ((-2.13104 52.58684, -2.13108 52.58695...\n",
       "173142  POLYGON ((-2.16872 52.49606, -2.16859 52.49608...\n",
       "246327  POLYGON ((-2.19130 52.57791, -2.19133 52.57783...\n",
       "16134   POLYGON ((-1.64901 52.60353, -1.64982 52.60395...\n",
       "256551  POLYGON ((-2.03846 52.61790, -2.03890 52.61791...\n",
       "324584  POLYGON ((-1.82081 52.66952, -1.82068 52.66959...\n",
       "332386  POLYGON ((-1.98223 52.57983, -1.98228 52.58006...\n",
       "410192  POLYGON ((-1.89635 52.57940, -1.89638 52.57944...\n",
       "462725  POLYGON ((-1.82479 52.56082, -1.82475 52.56081...\n",
       "15686   POLYGON ((-1.73628 52.38373, -1.73624 52.38374...\n",
       "135280  POLYGON ((-1.59592 52.40038, -1.59603 52.40038...\n",
       "304306  POLYGON ((-1.57271 52.40681, -1.57272 52.40684...\n",
       "367112  POLYGON ((-2.00458 52.44312, -2.00456 52.44320..."
      ]
     },
     "execution_count": 7,
     "metadata": {},
     "output_type": "execute_result"
    }
   ],
   "source": [
    "buildings[~buildings['geometry'].is_valid]"
   ]
  },
  {
   "cell_type": "code",
   "execution_count": 8,
   "id": "99c591be",
   "metadata": {
    "execution": {
     "iopub.execute_input": "2023-12-27T22:22:59.739700Z",
     "iopub.status.busy": "2023-12-27T22:22:59.739479Z",
     "iopub.status.idle": "2023-12-27T22:22:59.759984Z",
     "shell.execute_reply": "2023-12-27T22:22:59.759609Z"
    },
    "papermill": {
     "duration": 0.027379,
     "end_time": "2023-12-27T22:22:59.760996",
     "exception": false,
     "start_time": "2023-12-27T22:22:59.733617",
     "status": "completed"
    },
    "tags": []
   },
   "outputs": [
    {
     "data": {
      "text/html": [
       "<div>\n",
       "<style scoped>\n",
       "    .dataframe tbody tr th:only-of-type {\n",
       "        vertical-align: middle;\n",
       "    }\n",
       "\n",
       "    .dataframe tbody tr th {\n",
       "        vertical-align: top;\n",
       "    }\n",
       "\n",
       "    .dataframe thead th {\n",
       "        text-align: right;\n",
       "    }\n",
       "</style>\n",
       "<table border=\"1\" class=\"dataframe\">\n",
       "  <thead>\n",
       "    <tr style=\"text-align: right;\">\n",
       "      <th></th>\n",
       "      <th>geometry</th>\n",
       "    </tr>\n",
       "  </thead>\n",
       "  <tbody>\n",
       "  </tbody>\n",
       "</table>\n",
       "</div>"
      ],
      "text/plain": [
       "Empty GeoDataFrame\n",
       "Columns: [geometry]\n",
       "Index: []"
      ]
     },
     "execution_count": 8,
     "metadata": {},
     "output_type": "execute_result"
    }
   ],
   "source": [
    "water[~water['geometry'].is_valid]"
   ]
  },
  {
   "cell_type": "code",
   "execution_count": 9,
   "id": "4002f61f",
   "metadata": {
    "execution": {
     "iopub.execute_input": "2023-12-27T22:22:59.772480Z",
     "iopub.status.busy": "2023-12-27T22:22:59.772269Z",
     "iopub.status.idle": "2023-12-27T22:24:25.573434Z",
     "shell.execute_reply": "2023-12-27T22:24:25.572905Z"
    },
    "papermill": {
     "duration": 85.809127,
     "end_time": "2023-12-27T22:24:25.575569",
     "exception": false,
     "start_time": "2023-12-27T22:22:59.766442",
     "status": "completed"
    },
    "tags": []
   },
   "outputs": [
    {
     "ename": "KeyboardInterrupt",
     "evalue": "",
     "output_type": "error",
     "traceback": [
      "\u001b[0;31m---------------------------------------------------------------------------\u001b[0m",
      "\u001b[0;31mKeyboardInterrupt\u001b[0m                         Traceback (most recent call last)",
      "Cell \u001b[0;32mIn[9], line 1\u001b[0m\n\u001b[0;32m----> 1\u001b[0m \u001b[43mbuildings\u001b[49m\u001b[38;5;241;43m.\u001b[39;49m\u001b[43mplot\u001b[49m\u001b[43m(\u001b[49m\u001b[43m)\u001b[49m\n",
      "File \u001b[0;32m~/miniconda3/envs/morph_model_v1_tess/lib/python3.11/site-packages/geopandas/plotting.py:979\u001b[0m, in \u001b[0;36mGeoplotAccessor.__call__\u001b[0;34m(self, *args, **kwargs)\u001b[0m\n\u001b[1;32m    977\u001b[0m kind \u001b[38;5;241m=\u001b[39m kwargs\u001b[38;5;241m.\u001b[39mpop(\u001b[38;5;124m\"\u001b[39m\u001b[38;5;124mkind\u001b[39m\u001b[38;5;124m\"\u001b[39m, \u001b[38;5;124m\"\u001b[39m\u001b[38;5;124mgeo\u001b[39m\u001b[38;5;124m\"\u001b[39m)\n\u001b[1;32m    978\u001b[0m \u001b[38;5;28;01mif\u001b[39;00m kind \u001b[38;5;241m==\u001b[39m \u001b[38;5;124m\"\u001b[39m\u001b[38;5;124mgeo\u001b[39m\u001b[38;5;124m\"\u001b[39m:\n\u001b[0;32m--> 979\u001b[0m     \u001b[38;5;28;01mreturn\u001b[39;00m \u001b[43mplot_dataframe\u001b[49m\u001b[43m(\u001b[49m\u001b[43mdata\u001b[49m\u001b[43m,\u001b[49m\u001b[43m \u001b[49m\u001b[38;5;241;43m*\u001b[39;49m\u001b[43margs\u001b[49m\u001b[43m,\u001b[49m\u001b[43m \u001b[49m\u001b[38;5;241;43m*\u001b[39;49m\u001b[38;5;241;43m*\u001b[39;49m\u001b[43mkwargs\u001b[49m\u001b[43m)\u001b[49m\n\u001b[1;32m    980\u001b[0m \u001b[38;5;28;01mif\u001b[39;00m kind \u001b[38;5;129;01min\u001b[39;00m \u001b[38;5;28mself\u001b[39m\u001b[38;5;241m.\u001b[39m_pandas_kinds:\n\u001b[1;32m    981\u001b[0m     \u001b[38;5;66;03m# Access pandas plots\u001b[39;00m\n\u001b[1;32m    982\u001b[0m     \u001b[38;5;28;01mreturn\u001b[39;00m PlotAccessor(data)(kind\u001b[38;5;241m=\u001b[39mkind, \u001b[38;5;241m*\u001b[39m\u001b[38;5;241m*\u001b[39mkwargs)\n",
      "File \u001b[0;32m~/miniconda3/envs/morph_model_v1_tess/lib/python3.11/site-packages/geopandas/plotting.py:716\u001b[0m, in \u001b[0;36mplot_dataframe\u001b[0;34m(df, column, cmap, color, ax, cax, categorical, legend, scheme, k, vmin, vmax, markersize, figsize, legend_kwds, categories, classification_kwds, missing_kwds, aspect, **style_kwds)\u001b[0m\n\u001b[1;32m    713\u001b[0m     markersize \u001b[38;5;241m=\u001b[39m df[markersize]\u001b[38;5;241m.\u001b[39mvalues\n\u001b[1;32m    715\u001b[0m \u001b[38;5;28;01mif\u001b[39;00m column \u001b[38;5;129;01mis\u001b[39;00m \u001b[38;5;28;01mNone\u001b[39;00m:\n\u001b[0;32m--> 716\u001b[0m     \u001b[38;5;28;01mreturn\u001b[39;00m \u001b[43mplot_series\u001b[49m\u001b[43m(\u001b[49m\n\u001b[1;32m    717\u001b[0m \u001b[43m        \u001b[49m\u001b[43mdf\u001b[49m\u001b[38;5;241;43m.\u001b[39;49m\u001b[43mgeometry\u001b[49m\u001b[43m,\u001b[49m\n\u001b[1;32m    718\u001b[0m \u001b[43m        \u001b[49m\u001b[43mcmap\u001b[49m\u001b[38;5;241;43m=\u001b[39;49m\u001b[43mcmap\u001b[49m\u001b[43m,\u001b[49m\n\u001b[1;32m    719\u001b[0m \u001b[43m        \u001b[49m\u001b[43mcolor\u001b[49m\u001b[38;5;241;43m=\u001b[39;49m\u001b[43mcolor\u001b[49m\u001b[43m,\u001b[49m\n\u001b[1;32m    720\u001b[0m \u001b[43m        \u001b[49m\u001b[43max\u001b[49m\u001b[38;5;241;43m=\u001b[39;49m\u001b[43max\u001b[49m\u001b[43m,\u001b[49m\n\u001b[1;32m    721\u001b[0m \u001b[43m        \u001b[49m\u001b[43mfigsize\u001b[49m\u001b[38;5;241;43m=\u001b[39;49m\u001b[43mfigsize\u001b[49m\u001b[43m,\u001b[49m\n\u001b[1;32m    722\u001b[0m \u001b[43m        \u001b[49m\u001b[43mmarkersize\u001b[49m\u001b[38;5;241;43m=\u001b[39;49m\u001b[43mmarkersize\u001b[49m\u001b[43m,\u001b[49m\n\u001b[1;32m    723\u001b[0m \u001b[43m        \u001b[49m\u001b[43maspect\u001b[49m\u001b[38;5;241;43m=\u001b[39;49m\u001b[43maspect\u001b[49m\u001b[43m,\u001b[49m\n\u001b[1;32m    724\u001b[0m \u001b[43m        \u001b[49m\u001b[38;5;241;43m*\u001b[39;49m\u001b[38;5;241;43m*\u001b[39;49m\u001b[43mstyle_kwds\u001b[49m\u001b[43m,\u001b[49m\n\u001b[1;32m    725\u001b[0m \u001b[43m    \u001b[49m\u001b[43m)\u001b[49m\n\u001b[1;32m    727\u001b[0m \u001b[38;5;66;03m# To accept pd.Series and np.arrays as column\u001b[39;00m\n\u001b[1;32m    728\u001b[0m \u001b[38;5;28;01mif\u001b[39;00m \u001b[38;5;28misinstance\u001b[39m(column, (np\u001b[38;5;241m.\u001b[39mndarray, pd\u001b[38;5;241m.\u001b[39mSeries)):\n",
      "File \u001b[0;32m~/miniconda3/envs/morph_model_v1_tess/lib/python3.11/site-packages/geopandas/plotting.py:470\u001b[0m, in \u001b[0;36mplot_series\u001b[0;34m(s, cmap, color, ax, figsize, aspect, **style_kwds)\u001b[0m\n\u001b[1;32m    467\u001b[0m         facecolor \u001b[38;5;241m=\u001b[39m color_\n\u001b[1;32m    469\u001b[0m     values_ \u001b[38;5;241m=\u001b[39m values[poly_idx] \u001b[38;5;28;01mif\u001b[39;00m cmap \u001b[38;5;28;01melse\u001b[39;00m \u001b[38;5;28;01mNone\u001b[39;00m\n\u001b[0;32m--> 470\u001b[0m     \u001b[43m_plot_polygon_collection\u001b[49m\u001b[43m(\u001b[49m\n\u001b[1;32m    471\u001b[0m \u001b[43m        \u001b[49m\u001b[43max\u001b[49m\u001b[43m,\u001b[49m\u001b[43m \u001b[49m\u001b[43mpolys\u001b[49m\u001b[43m,\u001b[49m\u001b[43m \u001b[49m\u001b[43mvalues_\u001b[49m\u001b[43m,\u001b[49m\u001b[43m \u001b[49m\u001b[43mfacecolor\u001b[49m\u001b[38;5;241;43m=\u001b[39;49m\u001b[43mfacecolor\u001b[49m\u001b[43m,\u001b[49m\u001b[43m \u001b[49m\u001b[43mcmap\u001b[49m\u001b[38;5;241;43m=\u001b[39;49m\u001b[43mcmap\u001b[49m\u001b[43m,\u001b[49m\u001b[43m \u001b[49m\u001b[38;5;241;43m*\u001b[39;49m\u001b[38;5;241;43m*\u001b[39;49m\u001b[43mstyle_kwds\u001b[49m\n\u001b[1;32m    472\u001b[0m \u001b[43m    \u001b[49m\u001b[43m)\u001b[49m\n\u001b[1;32m    474\u001b[0m \u001b[38;5;66;03m# plot all LineStrings and MultiLineString components in same collection\u001b[39;00m\n\u001b[1;32m    475\u001b[0m lines \u001b[38;5;241m=\u001b[39m expl_series[line_idx]\n",
      "File \u001b[0;32m~/miniconda3/envs/morph_model_v1_tess/lib/python3.11/site-packages/geopandas/plotting.py:184\u001b[0m, in \u001b[0;36m_plot_polygon_collection\u001b[0;34m(ax, geoms, values, color, cmap, vmin, vmax, **kwargs)\u001b[0m\n\u001b[1;32m    180\u001b[0m     kwargs[\u001b[38;5;124m\"\u001b[39m\u001b[38;5;124mcolor\u001b[39m\u001b[38;5;124m\"\u001b[39m] \u001b[38;5;241m=\u001b[39m color\n\u001b[1;32m    182\u001b[0m _expand_kwargs(kwargs, multiindex)\n\u001b[0;32m--> 184\u001b[0m collection \u001b[38;5;241m=\u001b[39m PatchCollection(\u001b[43m[\u001b[49m\u001b[43m_PolygonPatch\u001b[49m\u001b[43m(\u001b[49m\u001b[43mpoly\u001b[49m\u001b[43m)\u001b[49m\u001b[43m \u001b[49m\u001b[38;5;28;43;01mfor\u001b[39;49;00m\u001b[43m \u001b[49m\u001b[43mpoly\u001b[49m\u001b[43m \u001b[49m\u001b[38;5;129;43;01min\u001b[39;49;00m\u001b[43m \u001b[49m\u001b[43mgeoms\u001b[49m\u001b[43m]\u001b[49m, \u001b[38;5;241m*\u001b[39m\u001b[38;5;241m*\u001b[39mkwargs)\n\u001b[1;32m    186\u001b[0m \u001b[38;5;28;01mif\u001b[39;00m values \u001b[38;5;129;01mis\u001b[39;00m \u001b[38;5;129;01mnot\u001b[39;00m \u001b[38;5;28;01mNone\u001b[39;00m:\n\u001b[1;32m    187\u001b[0m     collection\u001b[38;5;241m.\u001b[39mset_array(np\u001b[38;5;241m.\u001b[39masarray(values))\n",
      "File \u001b[0;32m~/miniconda3/envs/morph_model_v1_tess/lib/python3.11/site-packages/geopandas/plotting.py:184\u001b[0m, in \u001b[0;36m<listcomp>\u001b[0;34m(.0)\u001b[0m\n\u001b[1;32m    180\u001b[0m     kwargs[\u001b[38;5;124m\"\u001b[39m\u001b[38;5;124mcolor\u001b[39m\u001b[38;5;124m\"\u001b[39m] \u001b[38;5;241m=\u001b[39m color\n\u001b[1;32m    182\u001b[0m _expand_kwargs(kwargs, multiindex)\n\u001b[0;32m--> 184\u001b[0m collection \u001b[38;5;241m=\u001b[39m PatchCollection([\u001b[43m_PolygonPatch\u001b[49m\u001b[43m(\u001b[49m\u001b[43mpoly\u001b[49m\u001b[43m)\u001b[49m \u001b[38;5;28;01mfor\u001b[39;00m poly \u001b[38;5;129;01min\u001b[39;00m geoms], \u001b[38;5;241m*\u001b[39m\u001b[38;5;241m*\u001b[39mkwargs)\n\u001b[1;32m    186\u001b[0m \u001b[38;5;28;01mif\u001b[39;00m values \u001b[38;5;129;01mis\u001b[39;00m \u001b[38;5;129;01mnot\u001b[39;00m \u001b[38;5;28;01mNone\u001b[39;00m:\n\u001b[1;32m    187\u001b[0m     collection\u001b[38;5;241m.\u001b[39mset_array(np\u001b[38;5;241m.\u001b[39masarray(values))\n",
      "File \u001b[0;32m~/miniconda3/envs/morph_model_v1_tess/lib/python3.11/site-packages/geopandas/plotting.py:129\u001b[0m, in \u001b[0;36m_PolygonPatch\u001b[0;34m(polygon, **kwargs)\u001b[0m\n\u001b[1;32m    126\u001b[0m \u001b[38;5;28;01mfrom\u001b[39;00m \u001b[38;5;21;01mmatplotlib\u001b[39;00m\u001b[38;5;21;01m.\u001b[39;00m\u001b[38;5;21;01mpatches\u001b[39;00m \u001b[38;5;28;01mimport\u001b[39;00m PathPatch\n\u001b[1;32m    127\u001b[0m \u001b[38;5;28;01mfrom\u001b[39;00m \u001b[38;5;21;01mmatplotlib\u001b[39;00m\u001b[38;5;21;01m.\u001b[39;00m\u001b[38;5;21;01mpath\u001b[39;00m \u001b[38;5;28;01mimport\u001b[39;00m Path\n\u001b[0;32m--> 129\u001b[0m path \u001b[38;5;241m=\u001b[39m \u001b[43mPath\u001b[49m\u001b[38;5;241;43m.\u001b[39;49m\u001b[43mmake_compound_path\u001b[49m\u001b[43m(\u001b[49m\n\u001b[1;32m    130\u001b[0m \u001b[43m    \u001b[49m\u001b[43mPath\u001b[49m\u001b[43m(\u001b[49m\u001b[43mnp\u001b[49m\u001b[38;5;241;43m.\u001b[39;49m\u001b[43masarray\u001b[49m\u001b[43m(\u001b[49m\u001b[43mpolygon\u001b[49m\u001b[38;5;241;43m.\u001b[39;49m\u001b[43mexterior\u001b[49m\u001b[38;5;241;43m.\u001b[39;49m\u001b[43mcoords\u001b[49m\u001b[43m)\u001b[49m\u001b[43m[\u001b[49m\u001b[43m:\u001b[49m\u001b[43m,\u001b[49m\u001b[43m \u001b[49m\u001b[43m:\u001b[49m\u001b[38;5;241;43m2\u001b[39;49m\u001b[43m]\u001b[49m\u001b[43m)\u001b[49m\u001b[43m,\u001b[49m\n\u001b[1;32m    131\u001b[0m \u001b[43m    \u001b[49m\u001b[38;5;241;43m*\u001b[39;49m\u001b[43m[\u001b[49m\u001b[43mPath\u001b[49m\u001b[43m(\u001b[49m\u001b[43mnp\u001b[49m\u001b[38;5;241;43m.\u001b[39;49m\u001b[43masarray\u001b[49m\u001b[43m(\u001b[49m\u001b[43mring\u001b[49m\u001b[38;5;241;43m.\u001b[39;49m\u001b[43mcoords\u001b[49m\u001b[43m)\u001b[49m\u001b[43m[\u001b[49m\u001b[43m:\u001b[49m\u001b[43m,\u001b[49m\u001b[43m \u001b[49m\u001b[43m:\u001b[49m\u001b[38;5;241;43m2\u001b[39;49m\u001b[43m]\u001b[49m\u001b[43m)\u001b[49m\u001b[43m \u001b[49m\u001b[38;5;28;43;01mfor\u001b[39;49;00m\u001b[43m \u001b[49m\u001b[43mring\u001b[49m\u001b[43m \u001b[49m\u001b[38;5;129;43;01min\u001b[39;49;00m\u001b[43m \u001b[49m\u001b[43mpolygon\u001b[49m\u001b[38;5;241;43m.\u001b[39;49m\u001b[43minteriors\u001b[49m\u001b[43m]\u001b[49m\u001b[43m,\u001b[49m\n\u001b[1;32m    132\u001b[0m \u001b[43m\u001b[49m\u001b[43m)\u001b[49m\n\u001b[1;32m    133\u001b[0m \u001b[38;5;28;01mreturn\u001b[39;00m PathPatch(path, \u001b[38;5;241m*\u001b[39m\u001b[38;5;241m*\u001b[39mkwargs)\n",
      "File \u001b[0;32m~/miniconda3/envs/morph_model_v1_tess/lib/python3.11/site-packages/matplotlib/path.py:326\u001b[0m, in \u001b[0;36mPath.make_compound_path\u001b[0;34m(cls, *args)\u001b[0m\n\u001b[1;32m    324\u001b[0m \u001b[38;5;28;01mif\u001b[39;00m \u001b[38;5;129;01mnot\u001b[39;00m args:\n\u001b[1;32m    325\u001b[0m     \u001b[38;5;28;01mreturn\u001b[39;00m Path(np\u001b[38;5;241m.\u001b[39mempty([\u001b[38;5;241m0\u001b[39m, \u001b[38;5;241m2\u001b[39m], dtype\u001b[38;5;241m=\u001b[39mnp\u001b[38;5;241m.\u001b[39mfloat32))\n\u001b[0;32m--> 326\u001b[0m vertices \u001b[38;5;241m=\u001b[39m \u001b[43mnp\u001b[49m\u001b[38;5;241;43m.\u001b[39;49m\u001b[43mconcatenate\u001b[49m\u001b[43m(\u001b[49m\u001b[43m[\u001b[49m\u001b[43mpath\u001b[49m\u001b[38;5;241;43m.\u001b[39;49m\u001b[43mvertices\u001b[49m\u001b[43m \u001b[49m\u001b[38;5;28;43;01mfor\u001b[39;49;00m\u001b[43m \u001b[49m\u001b[43mpath\u001b[49m\u001b[43m \u001b[49m\u001b[38;5;129;43;01min\u001b[39;49;00m\u001b[43m \u001b[49m\u001b[43margs\u001b[49m\u001b[43m]\u001b[49m\u001b[43m)\u001b[49m\n\u001b[1;32m    327\u001b[0m codes \u001b[38;5;241m=\u001b[39m np\u001b[38;5;241m.\u001b[39mempty(\u001b[38;5;28mlen\u001b[39m(vertices), dtype\u001b[38;5;241m=\u001b[39m\u001b[38;5;28mcls\u001b[39m\u001b[38;5;241m.\u001b[39mcode_type)\n\u001b[1;32m    328\u001b[0m i \u001b[38;5;241m=\u001b[39m \u001b[38;5;241m0\u001b[39m\n",
      "\u001b[0;31mKeyboardInterrupt\u001b[0m: "
     ]
    },
    {
     "data": {
      "image/png": "[encoded data removed]",
      "text/plain": [
       "<Figure size 640x480 with 1 Axes>"
      ]
     },
     "metadata": {},
     "output_type": "display_data"
    }
   ],
   "source": [
    "buildings.plot()"
   ]
  },
  {
   "cell_type": "code",
   "execution_count": null,
   "id": "0a83c0ed",
   "metadata": {
    "execution": {
     "iopub.execute_input": "2023-12-27T22:24:25.591366Z",
     "iopub.status.busy": "2023-12-27T22:24:25.591130Z",
     "iopub.status.idle": "2023-12-27T22:24:25.593529Z",
     "shell.execute_reply": "2023-12-27T22:24:25.593108Z"
    },
    "papermill": {
     "duration": 0.011455,
     "end_time": "2023-12-27T22:24:25.594556",
     "exception": false,
     "start_time": "2023-12-27T22:24:25.583101",
     "status": "completed"
    },
    "tags": []
   },
   "outputs": [],
   "source": [
    "# buildings = momepy.preprocess(buildings.reset_index(), size=40,\n",
    "#                               compactness=0.2, islands=True)"
   ]
  },
  {
   "cell_type": "code",
   "execution_count": null,
   "id": "9874be15",
   "metadata": {
    "execution": {
     "iopub.execute_input": "2023-12-27T22:24:25.609333Z",
     "iopub.status.busy": "2023-12-27T22:24:25.609132Z",
     "iopub.status.idle": "2023-12-27T22:24:25.622444Z",
     "shell.execute_reply": "2023-12-27T22:24:25.622039Z"
    },
    "papermill": {
     "duration": 0.021845,
     "end_time": "2023-12-27T22:24:25.623369",
     "exception": false,
     "start_time": "2023-12-27T22:24:25.601524",
     "status": "completed"
    },
    "tags": []
   },
   "outputs": [
    {
     "data": {
      "text/html": [
       "<div>\n",
       "<style scoped>\n",
       "    .dataframe tbody tr th:only-of-type {\n",
       "        vertical-align: middle;\n",
       "    }\n",
       "\n",
       "    .dataframe tbody tr th {\n",
       "        vertical-align: top;\n",
       "    }\n",
       "\n",
       "    .dataframe thead th {\n",
       "        text-align: right;\n",
       "    }\n",
       "</style>\n",
       "<table border=\"1\" class=\"dataframe\">\n",
       "  <thead>\n",
       "    <tr style=\"text-align: right;\">\n",
       "      <th></th>\n",
       "      <th>geometry</th>\n",
       "    </tr>\n",
       "  </thead>\n",
       "  <tbody>\n",
       "    <tr>\n",
       "      <th>0</th>\n",
       "      <td>POLYGON ((-2.12263 52.61540, -2.12255 52.61540...</td>\n",
       "    </tr>\n",
       "    <tr>\n",
       "      <th>1</th>\n",
       "      <td>POLYGON ((-2.14199 52.60167, -2.14214 52.60166...</td>\n",
       "    </tr>\n",
       "    <tr>\n",
       "      <th>3</th>\n",
       "      <td>POLYGON ((-2.14186 52.50938, -2.14174 52.50940...</td>\n",
       "    </tr>\n",
       "    <tr>\n",
       "      <th>5</th>\n",
       "      <td>POLYGON ((-2.13426 52.60304, -2.13423 52.60306...</td>\n",
       "    </tr>\n",
       "    <tr>\n",
       "      <th>7</th>\n",
       "      <td>POLYGON ((-2.11305 52.63041, -2.11290 52.63043...</td>\n",
       "    </tr>\n",
       "    <tr>\n",
       "      <th>...</th>\n",
       "      <td>...</td>\n",
       "    </tr>\n",
       "    <tr>\n",
       "      <th>428517</th>\n",
       "      <td>POLYGON ((-2.08468 52.45566, -2.08454 52.45569...</td>\n",
       "    </tr>\n",
       "    <tr>\n",
       "      <th>428519</th>\n",
       "      <td>POLYGON ((-1.79802 52.45657, -1.79791 52.45661...</td>\n",
       "    </tr>\n",
       "    <tr>\n",
       "      <th>428521</th>\n",
       "      <td>POLYGON ((-2.02037 52.45209, -2.02033 52.45204...</td>\n",
       "    </tr>\n",
       "    <tr>\n",
       "      <th>428522</th>\n",
       "      <td>POLYGON ((-1.94666 52.31867, -1.94663 52.31862...</td>\n",
       "    </tr>\n",
       "    <tr>\n",
       "      <th>428523</th>\n",
       "      <td>POLYGON ((-1.59014 52.40330, -1.58996 52.40333...</td>\n",
       "    </tr>\n",
       "  </tbody>\n",
       "</table>\n",
       "<p>652151 rows × 1 columns</p>\n",
       "</div>"
      ],
      "text/plain": [
       "                                                 geometry\n",
       "0       POLYGON ((-2.12263 52.61540, -2.12255 52.61540...\n",
       "1       POLYGON ((-2.14199 52.60167, -2.14214 52.60166...\n",
       "3       POLYGON ((-2.14186 52.50938, -2.14174 52.50940...\n",
       "5       POLYGON ((-2.13426 52.60304, -2.13423 52.60306...\n",
       "7       POLYGON ((-2.11305 52.63041, -2.11290 52.63043...\n",
       "...                                                   ...\n",
       "428517  POLYGON ((-2.08468 52.45566, -2.08454 52.45569...\n",
       "428519  POLYGON ((-1.79802 52.45657, -1.79791 52.45661...\n",
       "428521  POLYGON ((-2.02037 52.45209, -2.02033 52.45204...\n",
       "428522  POLYGON ((-1.94666 52.31867, -1.94663 52.31862...\n",
       "428523  POLYGON ((-1.59014 52.40330, -1.58996 52.40333...\n",
       "\n",
       "[652151 rows x 1 columns]"
      ]
     },
     "execution_count": 11,
     "metadata": {},
     "output_type": "execute_result"
    }
   ],
   "source": [
    "buildings"
   ]
  },
  {
   "cell_type": "code",
   "execution_count": null,
   "id": "328e308d",
   "metadata": {
    "execution": {
     "iopub.execute_input": "2023-12-27T22:24:25.639793Z",
     "iopub.status.busy": "2023-12-27T22:24:25.639578Z",
     "iopub.status.idle": "2023-12-27T22:24:32.045316Z",
     "shell.execute_reply": "2023-12-27T22:24:32.044822Z"
    },
    "papermill": {
     "duration": 6.414987,
     "end_time": "2023-12-27T22:24:32.046369",
     "exception": false,
     "start_time": "2023-12-27T22:24:25.631382",
     "status": "completed"
    },
    "tags": []
   },
   "outputs": [
    {
     "name": "stdout",
     "output_type": "stream",
     "text": [
      "Found 14 invalid geometries. Attempting to fix...\n"
     ]
    },
    {
     "name": "stdout",
     "output_type": "stream",
     "text": [
      "All invalid geometries fixed.\n"
     ]
    }
   ],
   "source": [
    "# Check for invalid geometries\n",
    "invalid_geometries = buildings[~buildings.geometry.is_valid]\n",
    "\n",
    "# If there are invalid geometries, attempt to fix them\n",
    "if not invalid_geometries.empty:\n",
    "    print(f\"Found {len(invalid_geometries)} invalid geometries. Attempting to fix...\")\n",
    "    buildings.geometry = buildings.geometry.buffer(0)\n",
    "\n",
    "    # Recheck for invalid geometries\n",
    "    still_invalid = buildings[~buildings.geometry.is_valid]\n",
    "    if still_invalid.empty:\n",
    "        print(\"All invalid geometries fixed.\")\n",
    "    else:\n",
    "        print(f\"Could not fix {len(still_invalid)} geometries.\")\n",
    "else:\n",
    "    print(\"No invalid geometries found.\")"
   ]
  },
  {
   "cell_type": "code",
   "execution_count": null,
   "id": "b067ac02",
   "metadata": {
    "execution": {
     "iopub.execute_input": "2023-12-27T22:24:32.064405Z",
     "iopub.status.busy": "2023-12-27T22:24:32.064169Z",
     "iopub.status.idle": "2023-12-27T22:24:32.067388Z",
     "shell.execute_reply": "2023-12-27T22:24:32.067014Z"
    },
    "papermill": {
     "duration": 0.012415,
     "end_time": "2023-12-27T22:24:32.068351",
     "exception": false,
     "start_time": "2023-12-27T22:24:32.055936",
     "status": "completed"
    },
    "tags": []
   },
   "outputs": [],
   "source": [
    "buildings['uID'] = momepy.unique_id(buildings)"
   ]
  },
  {
   "cell_type": "code",
   "execution_count": null,
   "id": "a3649a33",
   "metadata": {
    "execution": {
     "iopub.execute_input": "2023-12-27T22:24:32.084055Z",
     "iopub.status.busy": "2023-12-27T22:24:32.083847Z",
     "iopub.status.idle": "2023-12-27T22:24:32.118029Z",
     "shell.execute_reply": "2023-12-27T22:24:32.117556Z"
    },
    "papermill": {
     "duration": 0.043016,
     "end_time": "2023-12-27T22:24:32.118908",
     "exception": false,
     "start_time": "2023-12-27T22:24:32.075892",
     "status": "completed"
    },
    "tags": []
   },
   "outputs": [
    {
     "name": "stderr",
     "output_type": "stream",
     "text": [
      "/tmp/ipykernel_1355347/893087771.py:4: FutureWarning: Currently, index_parts defaults to True, but in the future, it will default to False to be consistent with Pandas. Use `index_parts=True` to keep the current behavior and True/False to silence the warning.\n",
      "  gs = water.explode()\n"
     ]
    }
   ],
   "source": [
    "water_bodies_boundaries = []\n",
    "\n",
    "# Explode the GeoDataFrame into a GeoSeries of polygons and multipolygons\n",
    "gs = water.explode()\n",
    "\n",
    "# Convert each polygon into a MultiLineString\n",
    "mls = gs.geometry.boundary\n",
    "\n",
    "# Convert the MultiLineString into a DataFrame\n",
    "water_bodies = gpd.GeoDataFrame({'geometry': mls})\n",
    "\n",
    "for water_body in water_bodies.geometry:\n",
    "    # Create a LineString object from the coordinates\n",
    "    water_bodies_boundaries.append(water_body)\n",
    "\n",
    "# # Create a GeoDataFrame of the water area boundaries\n",
    "water_bodies_boundaries = gpd.GeoDataFrame({'geometry': water_bodies_boundaries}).reset_index(drop=True)"
   ]
  },
  {
   "cell_type": "code",
   "execution_count": null,
   "id": "eb1e48d0",
   "metadata": {
    "execution": {
     "iopub.execute_input": "2023-12-27T22:24:32.135835Z",
     "iopub.status.busy": "2023-12-27T22:24:32.135511Z",
     "iopub.status.idle": "2023-12-27T22:24:41.999762Z",
     "shell.execute_reply": "2023-12-27T22:24:41.999303Z"
    },
    "papermill": {
     "duration": 9.873621,
     "end_time": "2023-12-27T22:24:42.000708",
     "exception": false,
     "start_time": "2023-12-27T22:24:32.127087",
     "status": "completed"
    },
    "tags": []
   },
   "outputs": [
    {
     "name": "stderr",
     "output_type": "stream",
     "text": [
      "/users/wjb22189/.conda/envs/momepy/lib/python3.11/site-packages/geopandas/array.py:1459: UserWarning: CRS not set for some of the concatenation inputs. Setting output's CRS as WGS 84 (the single non-null crs provided).\n",
      "  return GeometryArray(data, crs=_get_common_crs(to_concat))\n",
      "/users/wjb22189/.conda/envs/momepy/lib/python3.11/site-packages/momepy/elements.py:1001: FutureWarning: The `query_bulk()` method is deprecated and will be removed in GeoPandas 1.0. You can use the `query()` method instead.\n",
      "  inp, res = enclosures.sindex.query_bulk(\n"
     ]
    },
    {
     "name": "stderr",
     "output_type": "stream",
     "text": [
      "/users/wjb22189/.conda/envs/momepy/lib/python3.11/site-packages/geopandas/array.py:1459: UserWarning: CRS not set for some of the concatenation inputs. Setting output's CRS as WGS 84 (the single non-null crs provided).\n",
      "  return GeometryArray(data, crs=_get_common_crs(to_concat))\n"
     ]
    }
   ],
   "source": [
    "enclosures = momepy.enclosures(streets, limit=study_area, additional_barriers=[water_bodies_boundaries, rail])"
   ]
  },
  {
   "cell_type": "code",
   "execution_count": null,
   "id": "fbecfff4",
   "metadata": {
    "execution": {
     "iopub.execute_input": "2023-12-27T22:24:42.020205Z",
     "iopub.status.busy": "2023-12-27T22:24:42.019936Z",
     "iopub.status.idle": "2023-12-27T22:24:42.029024Z",
     "shell.execute_reply": "2023-12-27T22:24:42.028605Z"
    },
    "papermill": {
     "duration": 0.019503,
     "end_time": "2023-12-27T22:24:42.030069",
     "exception": false,
     "start_time": "2023-12-27T22:24:42.010566",
     "status": "completed"
    },
    "tags": []
   },
   "outputs": [],
   "source": [
    "num_chunks = ceil(len(buildings) / 1400000)"
   ]
  },
  {
   "cell_type": "code",
   "execution_count": null,
   "id": "3741d41e",
   "metadata": {
    "execution": {
     "iopub.execute_input": "2023-12-27T22:24:42.046678Z",
     "iopub.status.busy": "2023-12-27T22:24:42.046472Z",
     "iopub.status.idle": "2023-12-27T22:24:42.059119Z",
     "shell.execute_reply": "2023-12-27T22:24:42.058749Z"
    },
    "papermill": {
     "duration": 0.022074,
     "end_time": "2023-12-27T22:24:42.060123",
     "exception": false,
     "start_time": "2023-12-27T22:24:42.038049",
     "status": "completed"
    },
    "tags": []
   },
   "outputs": [],
   "source": [
    "def split_bounds(bounds, num_chunks):\n",
    "    minx, miny, maxx, maxy = bounds\n",
    "    width = maxx - minx\n",
    "    height = maxy - miny\n",
    "\n",
    "    # Assuming a square grid for simplicity\n",
    "    chunks_per_side = math.ceil(math.sqrt(num_chunks))\n",
    "    chunk_width = width / chunks_per_side\n",
    "    chunk_height = height / chunks_per_side\n",
    "\n",
    "    chunks = []\n",
    "    for i in range(chunks_per_side):\n",
    "        for j in range(chunks_per_side):\n",
    "            new_minx = minx + i * chunk_width\n",
    "            new_miny = miny + j * chunk_height\n",
    "            new_maxx = new_minx + chunk_width\n",
    "            new_maxy = new_miny + chunk_height\n",
    "\n",
    "            # Create a new bounding box (as a shapely box) for each chunk\n",
    "            chunk_bounds = box(new_minx, new_miny, new_maxx, new_maxy)\n",
    "            chunks.append(chunk_bounds)\n",
    "\n",
    "    return gpd.GeoSeries(chunks)\n",
    "\n",
    "# Example usage\n",
    "chunks = split_bounds(enclosures.total_bounds, num_chunks)"
   ]
  },
  {
   "cell_type": "code",
   "execution_count": null,
   "id": "02cc7fa5",
   "metadata": {
    "execution": {
     "iopub.execute_input": "2023-12-27T22:24:42.076911Z",
     "iopub.status.busy": "2023-12-27T22:24:42.076704Z",
     "iopub.status.idle": "2023-12-27T22:24:42.602586Z",
     "shell.execute_reply": "2023-12-27T22:24:42.602157Z"
    },
    "papermill": {
     "duration": 0.536591,
     "end_time": "2023-12-27T22:24:42.604408",
     "exception": false,
     "start_time": "2023-12-27T22:24:42.067817",
     "status": "completed"
    },
    "tags": []
   },
   "outputs": [
    {
     "name": "stderr",
     "output_type": "stream",
     "text": [
      "/tmp/ipykernel_1355347/865766905.py:3: UserWarning: Geometry is in a geographic CRS. Results from 'centroid' are likely incorrect. Use 'GeoSeries.to_crs()' to re-project geometries to a projected CRS before this operation.\n",
      "\n",
      "  enclosures[\"centroid\"] = enclosures.centroid\n",
      "/users/wjb22189/.conda/envs/momepy/lib/python3.11/site-packages/geopandas/geodataframe.py:2189: UserWarning: CRS mismatch between the CRS of left geometries and the CRS of right geometries.\n",
      "Use `to_crs()` to reproject one of the input geometries to match the CRS of the other.\n",
      "\n",
      "Left CRS: EPSG:4326\n",
      "Right CRS: None\n",
      "\n",
      "  return geopandas.sjoin(left_df=self, right_df=df, *args, **kwargs)  # noqa: B026\n"
     ]
    }
   ],
   "source": [
    "chunks = gpd.GeoDataFrame(geometry = chunks)\n",
    "chunks[\"chunk_ID\"] = range(len(chunks))\n",
    "enclosures[\"centroid\"] = enclosures.centroid\n",
    "enclosures = enclosures.sjoin(chunks, how=\"left\")\n",
    "enclosures = enclosures[[\"geometry\", \"chunk_ID\", \"eID\"]]"
   ]
  },
  {
   "cell_type": "code",
   "execution_count": null,
   "id": "fe54fe81",
   "metadata": {
    "execution": {
     "iopub.execute_input": "2023-12-27T22:24:42.622127Z",
     "iopub.status.busy": "2023-12-27T22:24:42.621887Z",
     "iopub.status.idle": "2023-12-27T22:24:42.628955Z",
     "shell.execute_reply": "2023-12-27T22:24:42.628322Z"
    },
    "papermill": {
     "duration": 0.017601,
     "end_time": "2023-12-27T22:24:42.630084",
     "exception": false,
     "start_time": "2023-12-27T22:24:42.612483",
     "status": "completed"
    },
    "tags": []
   },
   "outputs": [
    {
     "data": {
      "text/html": [
       "<div>\n",
       "<style scoped>\n",
       "    .dataframe tbody tr th:only-of-type {\n",
       "        vertical-align: middle;\n",
       "    }\n",
       "\n",
       "    .dataframe tbody tr th {\n",
       "        vertical-align: top;\n",
       "    }\n",
       "\n",
       "    .dataframe thead th {\n",
       "        text-align: right;\n",
       "    }\n",
       "</style>\n",
       "<table border=\"1\" class=\"dataframe\">\n",
       "  <thead>\n",
       "    <tr style=\"text-align: right;\">\n",
       "      <th></th>\n",
       "      <th>geometry</th>\n",
       "      <th>chunk_ID</th>\n",
       "    </tr>\n",
       "  </thead>\n",
       "  <tbody>\n",
       "    <tr>\n",
       "      <th>0</th>\n",
       "      <td>POLYGON ((-1.53191 52.25319, -1.53191 52.70582...</td>\n",
       "      <td>0</td>\n",
       "    </tr>\n",
       "  </tbody>\n",
       "</table>\n",
       "</div>"
      ],
      "text/plain": [
       "                                            geometry  chunk_ID\n",
       "0  POLYGON ((-1.53191 52.25319, -1.53191 52.70582...         0"
      ]
     },
     "execution_count": 19,
     "metadata": {},
     "output_type": "execute_result"
    }
   ],
   "source": [
    "chunks"
   ]
  },
  {
   "cell_type": "code",
   "execution_count": null,
   "id": "c60ba2ff",
   "metadata": {
    "execution": {
     "iopub.execute_input": "2023-12-27T22:24:42.647215Z",
     "iopub.status.busy": "2023-12-27T22:24:42.647021Z",
     "iopub.status.idle": "2023-12-27T22:24:49.089397Z",
     "shell.execute_reply": "2023-12-27T22:24:49.088996Z"
    },
    "papermill": {
     "duration": 6.454012,
     "end_time": "2023-12-27T22:24:49.092247",
     "exception": false,
     "start_time": "2023-12-27T22:24:42.638235",
     "status": "completed"
    },
    "tags": []
   },
   "outputs": [
    {
     "data": {
      "image/png": "[encoded data removed]",
      "text/plain": [
       "<Figure size 640x480 with 1 Axes>"
      ]
     },
     "metadata": {},
     "output_type": "display_data"
    }
   ],
   "source": [
    "# Plotting each chunk\n",
    "fig, ax = plt.subplots()\n",
    "chunks.plot(ax=ax, edgecolor='black', facecolor='none')\n",
    "enclosures.plot(ax=ax, column='chunk_ID', categorical=True, legend=True)\n",
    "ctx.add_basemap(ax, source=ctx.providers.CartoDB.Positron, crs=buildings.crs)\n",
    "plt.show()"
   ]
  },
  {
   "cell_type": "code",
   "execution_count": null,
   "id": "d5939778",
   "metadata": {
    "execution": {
     "iopub.execute_input": "2023-12-27T22:24:49.118094Z",
     "iopub.status.busy": "2023-12-27T22:24:49.117868Z",
     "iopub.status.idle": "2023-12-27T22:24:56.941463Z",
     "shell.execute_reply": "2023-12-27T22:24:56.940943Z"
    },
    "papermill": {
     "duration": 7.83634,
     "end_time": "2023-12-27T22:24:56.942882",
     "exception": false,
     "start_time": "2023-12-27T22:24:49.106542",
     "status": "completed"
    },
    "tags": []
   },
   "outputs": [],
   "source": [
    "buildings = buildings[[\"geometry\"]].sjoin(enclosures, how=\"left\")"
   ]
  },
  {
   "cell_type": "code",
   "execution_count": null,
   "id": "0f15a426",
   "metadata": {
    "execution": {
     "iopub.execute_input": "2023-12-27T22:24:56.967506Z",
     "iopub.status.busy": "2023-12-27T22:24:56.967263Z",
     "iopub.status.idle": "2023-12-27T22:24:57.094616Z",
     "shell.execute_reply": "2023-12-27T22:24:57.094089Z"
    },
    "papermill": {
     "duration": 0.140228,
     "end_time": "2023-12-27T22:24:57.095984",
     "exception": false,
     "start_time": "2023-12-27T22:24:56.955756",
     "status": "completed"
    },
    "tags": []
   },
   "outputs": [],
   "source": [
    "buildings = buildings.dropna()[[\"geometry\", \"chunk_ID\"]]\n",
    "buildings[\"uID\"] = range(len(buildings))\n",
    "old_buildings = buildings\n",
    "buildings = buildings.set_geometry('geometry')"
   ]
  },
  {
   "cell_type": "code",
   "execution_count": null,
   "id": "6fe6c2de",
   "metadata": {
    "execution": {
     "iopub.execute_input": "2023-12-27T22:24:57.118947Z",
     "iopub.status.busy": "2023-12-27T22:24:57.118681Z",
     "iopub.status.idle": "2023-12-27T22:24:57.168194Z",
     "shell.execute_reply": "2023-12-27T22:24:57.167718Z"
    },
    "papermill": {
     "duration": 0.062403,
     "end_time": "2023-12-27T22:24:57.169535",
     "exception": false,
     "start_time": "2023-12-27T22:24:57.107132",
     "status": "completed"
    },
    "tags": []
   },
   "outputs": [],
   "source": [
    "buildings = buildings.to_crs(local_crs)\n",
    "enclosures = enclosures.to_crs(local_crs)"
   ]
  },
  {
   "cell_type": "markdown",
   "id": "f3e76dca",
   "metadata": {
    "tags": [
     "papermill-error-cell-tag"
    ]
   },
   "source": [
    "<span id=\"papermill-error-cell\" style=\"color:red; font-family:Helvetica Neue, Helvetica, Arial, sans-serif; font-size:2em;\">Execution using papermill encountered an exception here and stopped:</span>"
   ]
  },
  {
   "cell_type": "code",
   "execution_count": null,
   "id": "28807b5f",
   "metadata": {
    "execution": {
     "iopub.execute_input": "2023-12-27T22:24:57.192582Z",
     "iopub.status.busy": "2023-12-27T22:24:57.192314Z",
     "iopub.status.idle": "2023-12-27T22:24:57.367940Z",
     "shell.execute_reply": "2023-12-27T22:24:57.367276Z"
    },
    "papermill": {
     "duration": 0.187853,
     "end_time": "2023-12-27T22:24:57.368769",
     "exception": true,
     "start_time": "2023-12-27T22:24:57.180916",
     "status": "failed"
    },
    "tags": []
   },
   "outputs": [
    {
     "name": "stderr",
     "output_type": "stream",
     "text": [
      "\r\n",
      "  0%|          | 0/1 [00:00<?, ?it/s]"
     ]
    },
    {
     "name": "stderr",
     "output_type": "stream",
     "text": [
      "\r\n",
      "  0%|          | 0/1 [00:00<?, ?it/s]"
     ]
    },
    {
     "name": "stderr",
     "output_type": "stream",
     "text": [
      "\n"
     ]
    },
    {
     "ename": "ValueError",
     "evalue": "Geometry is in a geographic CRS. Use 'GeoDataFrame.to_crs()' to re-project geometries to a projected CRS before using Tessellation.",
     "output_type": "error",
     "traceback": [
      "\u001b[0;31m---------------------------------------------------------------------------\u001b[0m",
      "\u001b[0;31mValueError\u001b[0m                                Traceback (most recent call last)",
      "Cell \u001b[0;32mIn[24], line 4\u001b[0m\n\u001b[1;32m      1\u001b[0m tessellation \u001b[38;5;241m=\u001b[39m gpd\u001b[38;5;241m.\u001b[39mGeoDataFrame()\n\u001b[1;32m      3\u001b[0m \u001b[38;5;28;01mfor\u001b[39;00m index, chunk \u001b[38;5;129;01min\u001b[39;00m tqdm(chunks\u001b[38;5;241m.\u001b[39miterrows(), total\u001b[38;5;241m=\u001b[39m chunks\u001b[38;5;241m.\u001b[39mshape[\u001b[38;5;241m0\u001b[39m]):\n\u001b[0;32m----> 4\u001b[0m     chunk_tessellation \u001b[38;5;241m=\u001b[39m \u001b[43mmomepy\u001b[49m\u001b[38;5;241;43m.\u001b[39;49m\u001b[43mTessellation\u001b[49m\u001b[43m(\u001b[49m\u001b[43mbuildings\u001b[49m\u001b[43m[\u001b[49m\u001b[43mbuildings\u001b[49m\u001b[43m[\u001b[49m\u001b[38;5;124;43m\"\u001b[39;49m\u001b[38;5;124;43mchunk_ID\u001b[39;49m\u001b[38;5;124;43m\"\u001b[39;49m\u001b[43m]\u001b[49m\u001b[38;5;241;43m==\u001b[39;49m\u001b[43mindex\u001b[49m\u001b[43m]\u001b[49m\u001b[43m,\u001b[49m\u001b[43m \u001b[49m\u001b[43munique_id\u001b[49m\u001b[38;5;241;43m=\u001b[39;49m\u001b[38;5;124;43m'\u001b[39;49m\u001b[38;5;124;43muID\u001b[39;49m\u001b[38;5;124;43m'\u001b[39;49m\u001b[43m,\u001b[49m\u001b[43m \u001b[49m\u001b[43menclosures\u001b[49m\u001b[38;5;241;43m=\u001b[39;49m\u001b[43menclosures\u001b[49m\u001b[43m[\u001b[49m\u001b[43menclosures\u001b[49m\u001b[43m[\u001b[49m\u001b[38;5;124;43m\"\u001b[39;49m\u001b[38;5;124;43mchunk_ID\u001b[39;49m\u001b[38;5;124;43m\"\u001b[39;49m\u001b[43m]\u001b[49m\u001b[43m \u001b[49m\u001b[38;5;241;43m==\u001b[39;49m\u001b[43m \u001b[49m\u001b[43mindex\u001b[49m\u001b[43m]\u001b[49m\u001b[43m,\u001b[49m\u001b[43m \u001b[49m\u001b[43muse_dask\u001b[49m\u001b[43m \u001b[49m\u001b[38;5;241;43m=\u001b[39;49m\u001b[43m \u001b[49m\u001b[38;5;28;43;01mTrue\u001b[39;49;00m\u001b[43m)\u001b[49m\u001b[38;5;241m.\u001b[39mtessellation\n\u001b[1;32m      5\u001b[0m     tessellation \u001b[38;5;241m=\u001b[39m pd\u001b[38;5;241m.\u001b[39mconcat([tessellation, chunk_tessellation])\n\u001b[1;32m      7\u001b[0m tessellation_old \u001b[38;5;241m=\u001b[39m tessellation\n",
      "File \u001b[0;32m~/.conda/envs/momepy/lib/python3.11/site-packages/momepy/elements.py:205\u001b[0m, in \u001b[0;36mTessellation.__init__\u001b[0;34m(self, gdf, unique_id, limit, shrink, segment, verbose, enclosures, enclosure_id, threshold, use_dask, n_chunks)\u001b[0m\n\u001b[1;32m    202\u001b[0m \u001b[38;5;28mself\u001b[39m\u001b[38;5;241m.\u001b[39menclosure_id \u001b[38;5;241m=\u001b[39m enclosure_id\n\u001b[1;32m    204\u001b[0m \u001b[38;5;28;01mif\u001b[39;00m gdf\u001b[38;5;241m.\u001b[39mcrs \u001b[38;5;129;01mand\u001b[39;00m gdf\u001b[38;5;241m.\u001b[39mcrs\u001b[38;5;241m.\u001b[39mis_geographic:\n\u001b[0;32m--> 205\u001b[0m     \u001b[38;5;28;01mraise\u001b[39;00m \u001b[38;5;167;01mValueError\u001b[39;00m(\n\u001b[1;32m    206\u001b[0m         \u001b[38;5;124m\"\u001b[39m\u001b[38;5;124mGeometry is in a geographic CRS. \u001b[39m\u001b[38;5;124m\"\u001b[39m\n\u001b[1;32m    207\u001b[0m         \u001b[38;5;124m\"\u001b[39m\u001b[38;5;124mUse \u001b[39m\u001b[38;5;124m'\u001b[39m\u001b[38;5;124mGeoDataFrame.to_crs()\u001b[39m\u001b[38;5;124m'\u001b[39m\u001b[38;5;124m to re-project geometries to a \u001b[39m\u001b[38;5;124m\"\u001b[39m\n\u001b[1;32m    208\u001b[0m         \u001b[38;5;124m\"\u001b[39m\u001b[38;5;124mprojected CRS before using Tessellation.\u001b[39m\u001b[38;5;124m\"\u001b[39m,\n\u001b[1;32m    209\u001b[0m     )\n\u001b[1;32m    211\u001b[0m \u001b[38;5;28;01mif\u001b[39;00m limit \u001b[38;5;129;01mis\u001b[39;00m \u001b[38;5;129;01mnot\u001b[39;00m \u001b[38;5;28;01mNone\u001b[39;00m \u001b[38;5;129;01mand\u001b[39;00m enclosures \u001b[38;5;129;01mis\u001b[39;00m \u001b[38;5;129;01mnot\u001b[39;00m \u001b[38;5;28;01mNone\u001b[39;00m:\n\u001b[1;32m    212\u001b[0m     \u001b[38;5;28;01mraise\u001b[39;00m \u001b[38;5;167;01mValueError\u001b[39;00m(\n\u001b[1;32m    213\u001b[0m         \u001b[38;5;124m\"\u001b[39m\u001b[38;5;124mBoth `limit` and `enclosures` cannot be passed together. \u001b[39m\u001b[38;5;124m\"\u001b[39m\n\u001b[1;32m    214\u001b[0m         \u001b[38;5;124m\"\u001b[39m\u001b[38;5;124mPass `limit` for morphological tessellation or `enclosures` \u001b[39m\u001b[38;5;124m\"\u001b[39m\n\u001b[1;32m    215\u001b[0m         \u001b[38;5;124m\"\u001b[39m\u001b[38;5;124mfor enclosed tessellation.\u001b[39m\u001b[38;5;124m\"\u001b[39m\n\u001b[1;32m    216\u001b[0m     )\n",
      "\u001b[0;31mValueError\u001b[0m: Geometry is in a geographic CRS. Use 'GeoDataFrame.to_crs()' to re-project geometries to a projected CRS before using Tessellation."
     ]
    }
   ],
   "source": [
    "tessellation = gpd.GeoDataFrame()\n",
    "\n",
    "for index, chunk in tqdm(chunks.iterrows(), total= chunks.shape[0]):\n",
    "    chunk_tessellation = momepy.Tessellation(buildings[buildings[\"chunk_ID\"]==index], unique_id='uID', enclosures=enclosures[enclosures[\"chunk_ID\"] == index], use_dask = True).tessellation\n",
    "    tessellation = pd.concat([tessellation, chunk_tessellation])\n",
    "    \n",
    "tessellation_old = tessellation"
   ]
  },
  {
   "cell_type": "code",
   "execution_count": null,
   "id": "c32c91f2",
   "metadata": {
    "papermill": {
     "duration": null,
     "end_time": null,
     "exception": null,
     "start_time": null,
     "status": "pending"
    },
    "tags": []
   },
   "outputs": [],
   "source": [
    "# tessellation.plot()"
   ]
  },
  {
   "cell_type": "code",
   "execution_count": null,
   "id": "cda657e3",
   "metadata": {
    "papermill": {
     "duration": null,
     "end_time": null,
     "exception": null,
     "start_time": null,
     "status": "pending"
    },
    "tags": []
   },
   "outputs": [],
   "source": [
    "tessellation = tessellation_old"
   ]
  },
  {
   "cell_type": "code",
   "execution_count": null,
   "id": "0da7271b",
   "metadata": {
    "papermill": {
     "duration": null,
     "end_time": null,
     "exception": null,
     "start_time": null,
     "status": "pending"
    },
    "tags": []
   },
   "outputs": [],
   "source": [
    "tessellation.to_parquet(f\"../output/{place}/tessellation_p1_raw.pq\")"
   ]
  },
  {
   "cell_type": "code",
   "execution_count": null,
   "id": "013add68",
   "metadata": {
    "papermill": {
     "duration": null,
     "end_time": null,
     "exception": null,
     "start_time": null,
     "status": "pending"
    },
    "tags": []
   },
   "outputs": [],
   "source": [
    "# tessellation = gpd.read_parquet(f\"../output/{place}/tessellation_p1_raw.pq\")"
   ]
  },
  {
   "cell_type": "code",
   "execution_count": null,
   "id": "7048ae2e",
   "metadata": {
    "papermill": {
     "duration": null,
     "end_time": null,
     "exception": null,
     "start_time": null,
     "status": "pending"
    },
    "tags": []
   },
   "outputs": [],
   "source": [
    "tessellation=tessellation.sort_values(by='uID').reset_index(drop=True).dropna(subset=['uID'])"
   ]
  },
  {
   "cell_type": "code",
   "execution_count": null,
   "id": "03761e48",
   "metadata": {
    "papermill": {
     "duration": null,
     "end_time": null,
     "exception": null,
     "start_time": null,
     "status": "pending"
    },
    "tags": []
   },
   "outputs": [],
   "source": [
    "duplicate_gdf = tessellation[tessellation.duplicated('uID', keep=False)]"
   ]
  },
  {
   "cell_type": "code",
   "execution_count": null,
   "id": "632c62f3",
   "metadata": {
    "papermill": {
     "duration": null,
     "end_time": null,
     "exception": null,
     "start_time": null,
     "status": "pending"
    },
    "tags": []
   },
   "outputs": [],
   "source": [
    "@delayed\n",
    "def find_valid_from_multiples(gdf, building):\n",
    "    gdf = gdf[gdf.intersects(building)]\n",
    "        \n",
    "    if gdf.shape[0] > 1:\n",
    "        smallest_area = gdf.geometry.area.idxmin()\n",
    "        return gdf.loc[[smallest_area]]\n",
    "    return gdf\n",
    "\n",
    "# Using a list comprehension for conciseness and efficiency\n",
    "results = dask.compute([\n",
    "    find_valid_from_multiples(duplicate_gdf[duplicate_gdf['uID'] == uid].reset_index(), buildings[buildings[\"uID\"] == uid].geometry.iloc[0])\n",
    "    for uid in duplicate_gdf[\"uID\"].unique()\n",
    "])\n",
    "\n",
    "# Concatenate the results into a single GeoDataFrame\n",
    "a = gpd.GeoDataFrame(pd.concat(results[0], ignore_index=True))\n",
    "tessellation = gpd.GeoDataFrame(pd.concat([tessellation, a], ignore_index=True))\n"
   ]
  },
  {
   "cell_type": "code",
   "execution_count": null,
   "id": "a73f3ce4",
   "metadata": {
    "papermill": {
     "duration": null,
     "end_time": null,
     "exception": null,
     "start_time": null,
     "status": "pending"
    },
    "tags": []
   },
   "outputs": [],
   "source": [
    "tessellation"
   ]
  },
  {
   "cell_type": "code",
   "execution_count": null,
   "id": "17c65a61",
   "metadata": {
    "execution": {
     "iopub.execute_input": "2023-04-28T16:16:53.468198Z",
     "iopub.status.busy": "2023-04-28T16:16:53.467782Z",
     "iopub.status.idle": "2023-04-28T16:16:53.510510Z",
     "shell.execute_reply": "2023-04-28T16:16:53.509345Z"
    },
    "papermill": {
     "duration": null,
     "end_time": null,
     "exception": null,
     "start_time": null,
     "status": "pending"
    },
    "tags": []
   },
   "outputs": [],
   "source": [
    "tessellation = tessellation.drop(\"eID\", axis = 1)"
   ]
  },
  {
   "cell_type": "code",
   "execution_count": null,
   "id": "3fd24f4b",
   "metadata": {
    "papermill": {
     "duration": null,
     "end_time": null,
     "exception": null,
     "start_time": null,
     "status": "pending"
    },
    "tags": []
   },
   "outputs": [],
   "source": [
    "# Convert the 'uID' column of buildings to a set for efficient lookups\n",
    "uIDs_buildings = set(buildings['uID'])\n",
    "\n",
    "# Filter the tesellation GeoDataFrame to keep only rows with uID in buildings\n",
    "tessellation = tessellation[tessellation['uID'].isin(uIDs_buildings)]\n"
   ]
  },
  {
   "cell_type": "code",
   "execution_count": null,
   "id": "43fe4249",
   "metadata": {
    "papermill": {
     "duration": null,
     "end_time": null,
     "exception": null,
     "start_time": null,
     "status": "pending"
    },
    "tags": []
   },
   "outputs": [],
   "source": [
    "# Convert the 'uID' column of buildings to a set for efficient lookups\n",
    "uIDs_tessellation = set(tessellation['uID'])\n",
    "\n",
    "# Filter the tesellation GeoDataFrame to keep only rows with uID in buildings\n",
    "buildings = buildings[buildings['uID'].isin(uIDs_tessellation)]\n"
   ]
  },
  {
   "cell_type": "code",
   "execution_count": null,
   "id": "faf0a722",
   "metadata": {
    "papermill": {
     "duration": null,
     "end_time": null,
     "exception": null,
     "start_time": null,
     "status": "pending"
    },
    "tags": []
   },
   "outputs": [],
   "source": [
    "tessellation"
   ]
  },
  {
   "cell_type": "code",
   "execution_count": null,
   "id": "22d37dad",
   "metadata": {
    "papermill": {
     "duration": null,
     "end_time": null,
     "exception": null,
     "start_time": null,
     "status": "pending"
    },
    "tags": []
   },
   "outputs": [],
   "source": [
    "tessellation = tessellation[[\"uID\", \"geometry\"]]\n",
    "buildings = buildings[[\"uID\", \"geometry\"]]"
   ]
  },
  {
   "cell_type": "code",
   "execution_count": null,
   "id": "ec31918e",
   "metadata": {
    "papermill": {
     "duration": null,
     "end_time": null,
     "exception": null,
     "start_time": null,
     "status": "pending"
    },
    "tags": []
   },
   "outputs": [],
   "source": [
    "tessellation[tessellation.duplicated('uID', keep=False)]"
   ]
  },
  {
   "cell_type": "code",
   "execution_count": null,
   "id": "6097f47b",
   "metadata": {
    "papermill": {
     "duration": null,
     "end_time": null,
     "exception": null,
     "start_time": null,
     "status": "pending"
    },
    "tags": []
   },
   "outputs": [],
   "source": [
    "combined = tessellation.merge(buildings, on='uID', how='inner').reset_index()\n",
    "combined[\"uID\"] = range(len(combined))\n",
    "combined"
   ]
  },
  {
   "cell_type": "code",
   "execution_count": null,
   "id": "0d15e1d4",
   "metadata": {
    "papermill": {
     "duration": null,
     "end_time": null,
     "exception": null,
     "start_time": null,
     "status": "pending"
    },
    "tags": []
   },
   "outputs": [],
   "source": [
    "tessellation = gpd.GeoDataFrame(combined[[\"uID\", \"geometry_x\"]], geometry='geometry_x')\n",
    "tessellation = tessellation.rename(columns={'geometry_x': 'geometry'})"
   ]
  },
  {
   "cell_type": "code",
   "execution_count": null,
   "id": "7445e30a",
   "metadata": {
    "papermill": {
     "duration": null,
     "end_time": null,
     "exception": null,
     "start_time": null,
     "status": "pending"
    },
    "tags": []
   },
   "outputs": [],
   "source": [
    "tessellation = tessellation.set_geometry(\"geometry\", crs=local_crs)"
   ]
  },
  {
   "cell_type": "code",
   "execution_count": null,
   "id": "1413fbdb",
   "metadata": {
    "papermill": {
     "duration": null,
     "end_time": null,
     "exception": null,
     "start_time": null,
     "status": "pending"
    },
    "tags": []
   },
   "outputs": [],
   "source": [
    "buildings = gpd.GeoDataFrame(combined[[\"uID\", \"geometry_y\"]], geometry='geometry_y')\n",
    "buildings = buildings.rename(columns={'geometry_y': 'geometry'})"
   ]
  },
  {
   "cell_type": "code",
   "execution_count": null,
   "id": "61fe9548",
   "metadata": {
    "papermill": {
     "duration": null,
     "end_time": null,
     "exception": null,
     "start_time": null,
     "status": "pending"
    },
    "tags": []
   },
   "outputs": [],
   "source": [
    "buildings = buildings.set_geometry(\"geometry\", crs=local_crs)"
   ]
  },
  {
   "cell_type": "code",
   "execution_count": null,
   "id": "dbc32f1b",
   "metadata": {
    "papermill": {
     "duration": null,
     "end_time": null,
     "exception": null,
     "start_time": null,
     "status": "pending"
    },
    "tags": []
   },
   "outputs": [],
   "source": [
    "tessellation.to_parquet(f\"../output/{place}/tessellation_p2.pq\")"
   ]
  },
  {
   "cell_type": "code",
   "execution_count": null,
   "id": "47b90b73",
   "metadata": {
    "papermill": {
     "duration": null,
     "end_time": null,
     "exception": null,
     "start_time": null,
     "status": "pending"
    },
    "tags": []
   },
   "outputs": [],
   "source": [
    "buildings.to_parquet(f\"../output/{place}/buildings_p2.pq\")"
   ]
  },
  {
   "cell_type": "code",
   "execution_count": null,
   "id": "feb7e9ab",
   "metadata": {
    "papermill": {
     "duration": null,
     "end_time": null,
     "exception": null,
     "start_time": null,
     "status": "pending"
    },
    "tags": []
   },
   "outputs": [],
   "source": [
    "streets.to_parquet(f\"../output/{place}/streets_p2.pq\")"
   ]
  },
  {
   "cell_type": "code",
   "execution_count": null,
   "id": "66a3e2c7",
   "metadata": {
    "papermill": {
     "duration": null,
     "end_time": null,
     "exception": null,
     "start_time": null,
     "status": "pending"
    },
    "tags": []
   },
   "outputs": [],
   "source": [
    "# # Create a figure and axis\n",
    "\n",
    "# # Plot streets in blue on the same axis\n",
    "# streets.plot(ax=ax, color='blue')\n",
    "\n",
    "# # Plot buildings in red on the same axis\n",
    "# buildings.plot(ax=ax, color='red')\n",
    "\n",
    "# tessellation.plot(ax = ax, color = 'green')\n",
    "\n",
    "# # Show the plot\n",
    "# plt.show()"
   ]
  }
 ],
 "metadata": {
  "kernelspec": {
   "display_name": "base",
   "language": "python",
   "name": "python3"
  },
  "language_info": {
   "codemirror_mode": {
    "name": "ipython",
    "version": 3
   },
   "file_extension": ".py",
   "mimetype": "text/x-python",
   "name": "python",
   "nbconvert_exporter": "python",
   "pygments_lexer": "ipython3",
   "version": "3.11.6"
  },
  "papermill": {
   "default_parameters": {},
   "duration": 135.040441,
   "end_time": "2023-12-27T22:25:00.096618",
   "environment_variables": {},
   "exception": true,
   "input_path": "2_tessellation.ipynb",
   "output_path": "../output/Birmingham/Birmingham_2_tessellation.ipynb",
   "parameters": {
    "country": "UK",
    "crs": 4326,
    "lat": 52.47790683186595,
    "lng": -1.8999014571831943,
    "local_crs": 4326,
    "place": "Birmingham",
    "radius": 20
   },
   "start_time": "2023-12-27T22:22:45.056177",
   "version": "2.3.4"
  },
  "vscode": {
   "interpreter": {
    "hash": "4d4a16af7eecff68ca78f81aec8d4e5ee20d890b8903eddd3dd732009f4fdc6f"
   }
  }
 },
 "nbformat": 4,
 "nbformat_minor": 5
}
