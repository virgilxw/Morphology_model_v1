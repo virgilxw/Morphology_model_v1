{
 "cells": [
  {
   "cell_type": "code",
   "execution_count": null,
   "metadata": {},
   "outputs": [],
   "source": [
    "import sys\n",
    "import os\n",
    "from pathlib import Path\n",
    "\n",
    "# Handling the scenario where __file__ might not be defined\n",
    "if '__file__' in globals():\n",
    "    # If __file__ is defined, use it to get the current directory\n",
    "    current_dir = Path(os.path.dirname(os.path.abspath(__file__)))\n",
    "else:\n",
    "    # If __file__ is not defined, fall back to the current working directory\n",
    "    current_dir = Path(os.getcwd())\n",
    "\n",
    "# Calculate the parent directory\n",
    "parent_dir = current_dir.parent\n",
    "\n",
    "# Append the parent directory to sys.path\n",
    "sys.path.append(str(parent_dir))\n"
   ]
  },
  {
   "cell_type": "code",
   "execution_count": null,
   "metadata": {},
   "outputs": [],
   "source": [
    "import geopandas as gpd\n",
    "import requests\n",
    "import os\n",
    "from shapely.geometry import Polygon, LineString, MultiLineString\n",
    "import io\n",
    "import osmnx as ox\n",
    "from shapely import Point\n",
    "from mapclassify import greedy\n",
    "import momepy\n",
    "import shapely\n",
    "from shapely.ops import split, snap, unary_union\n"
   ]
  },
  {
   "cell_type": "code",
   "execution_count": null,
   "metadata": {
    "tags": [
     "parameters"
    ]
   },
   "outputs": [],
   "source": [
    "local_crs = 27700\n",
    "place = \"test\"\n",
    "lat = 55.86421405612109\n",
    "lng = -4.251846930489373\n",
    "country = \"UK\"\n",
    "crs=4326\n",
    "radius=1"
   ]
  },
  {
   "cell_type": "code",
   "execution_count": null,
   "metadata": {},
   "outputs": [],
   "source": [
    "latlng = (lat, lng)"
   ]
  },
  {
   "cell_type": "code",
   "execution_count": null,
   "metadata": {},
   "outputs": [],
   "source": [
    "if not os.path.exists(f'../output/{place}'):\n",
    "    os.makedirs(f'../output/{place}')"
   ]
  },
  {
   "cell_type": "markdown",
   "metadata": {},
   "source": [
    "## part 1: Find limits of cells to download"
   ]
  },
  {
   "cell_type": "code",
   "execution_count": null,
   "metadata": {},
   "outputs": [],
   "source": [
    "buffer = gpd.GeoDataFrame(index=[0], geometry=[Point(lng, lat)], crs=4326).to_crs(local_crs).buffer((radius+5)*1000).to_crs(4326)"
   ]
  },
  {
   "cell_type": "code",
   "execution_count": null,
   "metadata": {},
   "outputs": [],
   "source": [
    "buffer.explore()"
   ]
  },
  {
   "cell_type": "code",
   "execution_count": null,
   "metadata": {},
   "outputs": [],
   "source": [
    "water_gdf = ox.geometries_from_polygon(buffer[0], tags={\"natural\": \"water\"})\n",
    "water_gdf = water_gdf[water_gdf.geometry.type.isin(['Polygon', 'MultiPolygon'])]"
   ]
  },
  {
   "cell_type": "code",
   "execution_count": null,
   "metadata": {},
   "outputs": [],
   "source": [
    "# List all columns to drop, which is all except 'geometry'\n",
    "columns_to_drop = [col for col in water_gdf.columns if col != 'geometry']\n",
    "\n",
    "# Drop these columns\n",
    "water_gdf = water_gdf.drop(columns=columns_to_drop)\n",
    "\n",
    "water_gdf = water_gdf.reset_index(drop=True)"
   ]
  },
  {
   "cell_type": "code",
   "execution_count": null,
   "metadata": {},
   "outputs": [],
   "source": [
    "water_gdf.to_parquet(f\"../output/{place}/water.pq\")"
   ]
  },
  {
   "cell_type": "code",
   "execution_count": null,
   "metadata": {},
   "outputs": [],
   "source": [
    "buffer = gpd.GeoDataFrame(geometry=buffer, crs=4326)"
   ]
  },
  {
   "cell_type": "code",
   "execution_count": null,
   "metadata": {},
   "outputs": [],
   "source": [
    "if country == None:\n",
    "    world_poly = gpd.read_file(f\"../input/{place}_study_area.shp\")\n",
    "else:\n",
    "    world_poly = gpd.read_file(f\"../input/{country}_study_area.shp\")"
   ]
  },
  {
   "cell_type": "code",
   "execution_count": null,
   "metadata": {},
   "outputs": [],
   "source": [
    "study_area = gpd.overlay(world_poly, buffer, how='intersection').overlay(water_gdf, how='difference')"
   ]
  },
  {
   "cell_type": "code",
   "execution_count": null,
   "metadata": {},
   "outputs": [],
   "source": [
    "downloaded_gdf = gpd.read_parquet(\"../input/gitignore/os-buildings/joint_buildings.pq\")"
   ]
  },
  {
   "cell_type": "code",
   "execution_count": null,
   "metadata": {},
   "outputs": [],
   "source": [
    "downloaded_gdf = gpd.sjoin(downloaded_gdf.to_crs(4326), buffer, how=\"inner\", op=\"intersects\")"
   ]
  },
  {
   "cell_type": "code",
   "execution_count": null,
   "metadata": {},
   "outputs": [],
   "source": [
    "downloaded_gdf.plot()"
   ]
  },
  {
   "cell_type": "code",
   "execution_count": null,
   "metadata": {},
   "outputs": [],
   "source": [
    "streets = gpd.read_parquet(\"../input/gitignore/os-roads/merged_roads.parquet\")"
   ]
  },
  {
   "cell_type": "code",
   "execution_count": null,
   "metadata": {},
   "outputs": [],
   "source": [
    "streets = streets.to_crs(4326)"
   ]
  },
  {
   "cell_type": "code",
   "execution_count": null,
   "metadata": {},
   "outputs": [],
   "source": [
    "# List of all column names to be dropped\n",
    "columns_to_drop = [col for col in streets.columns if col != 'geometry']\n",
    "\n",
    "# Drop the columns\n",
    "streets = streets.drop(columns=columns_to_drop)"
   ]
  },
  {
   "cell_type": "code",
   "execution_count": null,
   "metadata": {},
   "outputs": [],
   "source": [
    "streets = gpd.sjoin(streets, buffer, how=\"inner\", op=\"intersects\")"
   ]
  },
  {
   "cell_type": "code",
   "execution_count": null,
   "metadata": {},
   "outputs": [],
   "source": [
    "# streets.explore()"
   ]
  },
  {
   "cell_type": "code",
   "execution_count": null,
   "metadata": {},
   "outputs": [],
   "source": [
    "streets = streets.drop(columns=\"index_right\")"
   ]
  },
  {
   "cell_type": "code",
   "execution_count": null,
   "metadata": {},
   "outputs": [],
   "source": [
    "streets = streets.explode()"
   ]
  },
  {
   "cell_type": "code",
   "execution_count": null,
   "metadata": {},
   "outputs": [],
   "source": [
    "\n",
    "# Assuming you have a GeoDataFrame named 'gdf' with your data\n",
    "\n",
    "def convert_geometry(geom):\n",
    "    if geom.geom_type == 'LineStringZ':\n",
    "        return LineString([(x, y) for x, y, z in geom.coords])\n",
    "    else:\n",
    "        return geom  # Return the geometry unchanged if it's not LineStringZ or MultiLineString\n",
    "\n",
    "# Apply the conversion to each geometry in the GeoDataFrame\n",
    "streets['geometry'] = streets['geometry'].apply(convert_geometry)"
   ]
  },
  {
   "cell_type": "code",
   "execution_count": null,
   "metadata": {},
   "outputs": [],
   "source": [
    "downloaded_gdf.to_parquet(f\"../output/{place}/buildings_raw.pq\")"
   ]
  },
  {
   "cell_type": "code",
   "execution_count": null,
   "metadata": {},
   "outputs": [],
   "source": [
    "streets.to_parquet(f\"../output/{place}/streets_raw.pq\")"
   ]
  },
  {
   "cell_type": "code",
   "execution_count": null,
   "metadata": {},
   "outputs": [],
   "source": [
    "osm_graph= ox.graph.graph_from_polygon(buffer.geometry[0], network_type='all', custom_filter='[\"railway\"~\"rail\"][\"tunnel\"!=\"yes\"]')\n",
    "osm_graph = ox.projection.project_graph(osm_graph, to_crs=local_crs)\n",
    "rail = ox.graph_to_gdfs(\n",
    "    ox.get_undirected(osm_graph),\n",
    "    nodes=False,\n",
    "    edges=True,\n",
    "    node_geometry=False,\n",
    "    fill_edge_geometry=True\n",
    "    \n",
    ")\n",
    "\n",
    "rail.head()\n",
    "\n",
    "# List all columns to drop, which is all except 'geometry'\n",
    "columns_to_drop = [col for col in rail.columns if col != 'geometry']\n",
    "\n",
    "# Drop these columns\n",
    "rail = rail.drop(columns=columns_to_drop).reset_index(drop=True)\n",
    "\n",
    "# Assuming your GeoDataFrame is named 'gdf'\n",
    "rail_strings = []\n",
    "for geometry in rail.geometry:\n",
    "    if geometry.geom_type == 'LineString':\n",
    "        rail_strings.append(geometry)\n",
    "    elif geometry.geom_type == 'MultiLineString':\n",
    "        rail_strings.extend(list(geometry))\n",
    "        \n",
    "collection = shapely.GeometryCollection(rail_strings)  # combine to a single object\n",
    "noded = shapely.node(collection)  # add missing nodes\n",
    "rail_noded_gdf = gpd.GeoDataFrame(geometry=gpd.GeoSeries(noded), crs=local_crs)"
   ]
  },
  {
   "cell_type": "code",
   "execution_count": null,
   "metadata": {},
   "outputs": [],
   "source": [
    "rail_noded_gdf.explore()"
   ]
  },
  {
   "cell_type": "code",
   "execution_count": null,
   "metadata": {},
   "outputs": [],
   "source": [
    "rail_noded_gdf.to_parquet(f\"../output/{place}/rail_raw.pq\")"
   ]
  },
  {
   "cell_type": "code",
   "execution_count": null,
   "metadata": {},
   "outputs": [],
   "source": [
    "study_area.to_parquet((f\"../output/{place}/study_area.pq\"))"
   ]
  },
  {
   "cell_type": "code",
   "execution_count": null,
   "metadata": {},
   "outputs": [],
   "source": [
    "study_area.plot()"
   ]
  },
  {
   "cell_type": "code",
   "execution_count": null,
   "metadata": {},
   "outputs": [],
   "source": []
  }
 ],
 "metadata": {
  "kernelspec": {
   "display_name": "base",
   "language": "python",
   "name": "python3"
  },
  "language_info": {
   "codemirror_mode": {
    "name": "ipython",
    "version": 3
   },
   "file_extension": ".py",
   "mimetype": "text/x-python",
   "name": "python",
   "nbconvert_exporter": "python",
   "pygments_lexer": "ipython3",
   "version": "3.11.6"
  },
  "orig_nbformat": 4
 },
 "nbformat": 4,
 "nbformat_minor": 2
}
