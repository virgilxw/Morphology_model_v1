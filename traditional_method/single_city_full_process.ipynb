{
 "cells": [
  {
   "cell_type": "code",
   "execution_count": 1,
   "metadata": {},
   "outputs": [],
   "source": [
    "import papermill as pm\n",
    "import os\n",
    "import glob"
   ]
  },
  {
   "cell_type": "code",
   "execution_count": 2,
   "metadata": {},
   "outputs": [],
   "source": [
    "local_crs = 27700\n",
    "place = \"Glasgow_OS\"\n",
    "lat = 51.507222\n",
    "lng = -0.1275\n",
    "country = \"UK\"\n",
    "crs=4326\n",
    "radius=20"
   ]
  },
  {
   "cell_type": "code",
   "execution_count": null,
   "metadata": {},
   "outputs": [],
   "source": [
    "if not os.path.exists(f'../output/{place}'):\n",
    "    os.makedirs(f'../output/{place}')"
   ]
  },
  {
   "cell_type": "code",
   "execution_count": null,
   "metadata": {},
   "outputs": [],
   "source": [
    "pm.execute_notebook(\n",
    "    '1_ordanance_survey.ipynb',\n",
    "    f'../output/{place}/{place}_1_ordanance_survey.ipynb',\n",
    "    parameters=dict(local_crs = local_crs, place = place, lat = lat, lng = lng, country = country, crs = crs, radius = radius)\n",
    ")\n",
    "\n",
    "\n",
    "# if not os.path.exists(f'output/{place}'):\n",
    "#     os.makedirs(f'output/{place}')\n",
    "# create_new_file(place, lat, lng, crs, local_crs, country, radius)"
   ]
  },
  {
   "cell_type": "code",
   "execution_count": null,
   "metadata": {},
   "outputs": [],
   "source": [
    "pm.execute_notebook(\n",
    "    '2_tessellation.ipynb',\n",
    "    f'../output/{place}/{place}_2_tessellation.ipynb',\n",
    "    parameters=dict(local_crs = local_crs, place = place, lat = lat, lng = lng, country = country, crs = crs, radius = radius)\n",
    ")\n",
    "\n",
    "\n",
    "# if not os.path.exists(f'output/{place}'):\n",
    "#     os.makedirs(f'output/{place}')\n",
    "# create_new_file(place, lat, lng, crs, local_crs, country, radius)"
   ]
  },
  {
   "cell_type": "code",
   "execution_count": null,
   "metadata": {},
   "outputs": [],
   "source": [
    "pm.execute_notebook(\n",
    "    '3_chunking-morph.ipynb',\n",
    "    f'../output/{place}/{place}_3_chunking-morph.ipynb',\n",
    "    parameters=dict(local_crs = local_crs, place = place, lat = lat, lng = lng, country = country, crs = crs, radius = radius)\n",
    ")\n",
    "\n",
    "\n",
    "# if not os.path.exists(f'output/{place}'):\n",
    "#     os.makedirs(f'output/{place}')\n",
    "# create_new_file(place, lat, lng, crs, local_crs, country, radius)"
   ]
  },
  {
   "cell_type": "code",
   "execution_count": null,
   "metadata": {},
   "outputs": [],
   "source": [
    "pm.execute_notebook(\n",
    "    '4_network_ig.ipynb',\n",
    "    f'../output/{place}/{place}_4_network_ig.ipynb',\n",
    "    parameters=dict(local_crs = local_crs, place = place, lat = lat, lng = lng, country = country, crs = crs, radius = radius)\n",
    ")\n",
    "\n",
    "\n",
    "# if not os.path.exists(f'output/{place}'):\n",
    "#     os.makedirs(f'output/{place}')\n",
    "# create_new_file(place, lat, lng, crs, local_crs, country, radius)"
   ]
  },
  {
   "cell_type": "code",
   "execution_count": null,
   "metadata": {},
   "outputs": [],
   "source": [
    "import glob"
   ]
  },
  {
   "cell_type": "code",
   "execution_count": null,
   "metadata": {},
   "outputs": [],
   "source": [
    "pm.execute_notebook(\n",
    "                '5_percentile_context.ipynb',\n",
    "                f'../output/{place}/{place}_5_percentile_context.ipynb',\n",
    "                parameters=dict(local_crs=local_crs, place=place, lat=lat, lng=lng, country=country, crs=crs, radius=radius, n=22)\n",
    "            )"
   ]
  },
  {
   "cell_type": "code",
   "execution_count": 3,
   "metadata": {},
   "outputs": [],
   "source": [
    "def execute_5 (local_crs = local_crs, place = place, lat = lat, lng = lng, country = country, crs = crs, radius = radius, n=0):\n",
    "     \n",
    "    # In case of failure, search for files matching the pattern\n",
    "    file_pattern = os.path.join(f\"../output/{place}\", \"percentile_chunk_*.pq\")\n",
    "    files = glob.glob(file_pattern)\n",
    "        \n",
    "    if files:\n",
    "        # Extract the largest wildcard value from the file names\n",
    "        n = max(int(os.path.basename(f).split('_')[-1].split('.')[0]) for f in files)\n",
    "        print(n)\n",
    "\n",
    "        try:\n",
    "        # Try to execute the notebook\n",
    "            pm.execute_notebook(\n",
    "                '5_percentile_context.ipynb',\n",
    "                f'../output/{place}/{place}_5_percentile_context.ipynb',\n",
    "                parameters=dict(local_crs=local_crs, place=place, lat=lat, lng=lng, country=country, crs=crs, radius=radius, n=n)\n",
    "            )\n",
    "        except Exception as e:\n",
    "            execute_5 (local_crs = local_crs, place = place, lat = lat, lng = lng, country = country, crs = crs, radius = radius, n=n)\n",
    "                \n",
    "    else:\n",
    "        try:\n",
    "        # Try to execute the notebook\n",
    "            pm.execute_notebook(\n",
    "                '5_percentile_context.ipynb',\n",
    "                f'../output/{place}/{place}_5_percentile_context.ipynb',\n",
    "                parameters=dict(local_crs=local_crs, place=place, lat=lat, lng=lng, country=country, crs=crs, radius=radius, n=0)\n",
    "            )\n",
    "        except Exception as e:\n",
    "            execute_5 (local_crs = local_crs, place = place, lat = lat, lng = lng, country = country, crs = crs, radius = radius, n=0)\n",
    "    \n",
    "           "
   ]
  },
  {
   "cell_type": "code",
   "execution_count": 4,
   "metadata": {},
   "outputs": [
    {
     "name": "stdout",
     "output_type": "stream",
     "text": [
      "57\n"
     ]
    },
    {
     "name": "stderr",
     "output_type": "stream",
     "text": [
      "c:\\Users\\reube\\anaconda3\\envs\\nbprocessor\\Lib\\site-packages\\tqdm\\auto.py:21: TqdmWarning: IProgress not found. Please update jupyter and ipywidgets. See https://ipywidgets.readthedocs.io/en/stable/user_install.html\n",
      "  from .autonotebook import tqdm as notebook_tqdm\n",
      "Executing:  96%|█████████▌| 22/23 [1:00:31<02:45, 165.05s/cell] \n"
     ]
    },
    {
     "name": "stdout",
     "output_type": "stream",
     "text": [
      "64\n"
     ]
    },
    {
     "name": "stderr",
     "output_type": "stream",
     "text": [
      "Executing: 100%|██████████| 23/23 [3:57:29<00:00, 619.56s/cell]   \n"
     ]
    }
   ],
   "source": [
    "execute_5(local_crs = local_crs, place = place, lat = lat, lng = lng, country = country, crs = crs, radius = radius, n=57)"
   ]
  },
  {
   "cell_type": "code",
   "execution_count": null,
   "metadata": {},
   "outputs": [],
   "source": [
    "# pm.execute_notebook(\n",
    "#     '5_percentile_context.ipynb',\n",
    "#     f'../output/{place}/{place}_5_percentile_context.ipynb',\n",
    "#     parameters=dict(local_crs = local_crs, place = place, lat = lat, lng = lng, country = country, crs = crs, radius = radius)\n",
    "# )\n",
    "\n",
    "\n",
    "# # if not os.path.exists(f'output/{place}'):\n",
    "# #     os.makedirs(f'output/{place}')\n",
    "# # create_new_file(place, lat, lng, crs, local_crs, country, radius)"
   ]
  },
  {
   "cell_type": "code",
   "execution_count": 5,
   "metadata": {},
   "outputs": [
    {
     "name": "stderr",
     "output_type": "stream",
     "text": [
      "Executing:  80%|████████  | 44/55 [1:13:36<18:24, 100.37s/cell]  \n"
     ]
    },
    {
     "ename": "PapermillExecutionError",
     "evalue": "\n---------------------------------------------------------------------------\nException encountered at \"In [37]\":\n---------------------------------------------------------------------------\nValueError                                Traceback (most recent call last)\nCell In[37], line 3\n      1 # Plot the silhouette diagram. The best solution is usually a peak before a sudden drop. We would go with 6 in this case.\n      2 fig, ax = plt.subplots(figsize=(10, 10))\n----> 3 sns.lineplot(x=\"n_cluster\", y=\"silhouette\", data=davies_bouldin)\n      4 plt.ticklabel_format(style='plain')\n      5 plt.gca().xaxis.set_major_locator(mticker.MultipleLocator(1))\n\nFile c:\\Users\\reube\\anaconda3\\envs\\nbprocessor\\Lib\\site-packages\\seaborn\\relational.py:480, in lineplot(data, x, y, hue, size, style, units, weights, palette, hue_order, hue_norm, sizes, size_order, size_norm, dashes, markers, style_order, estimator, errorbar, n_boot, seed, orient, sort, err_style, err_kws, legend, ci, ax, **kwargs)\n    466 def lineplot(\n    467     data=None, *,\n    468     x=None, y=None, hue=None, size=None, style=None, units=None, weights=None,\n   (...)\n    476 \n    477     # Handle deprecation of ci parameter\n    478     errorbar = _deprecate_ci(errorbar, ci)\n--> 480     p = _LinePlotter(\n    481         data=data,\n    482         variables=dict(\n    483             x=x, y=y, hue=hue, size=size, style=style, units=units, weight=weights\n    484         ),\n    485         estimator=estimator, n_boot=n_boot, seed=seed, errorbar=errorbar,\n    486         sort=sort, orient=orient, err_style=err_style, err_kws=err_kws,\n    487         legend=legend,\n    488     )\n    490     p.map_hue(palette=palette, order=hue_order, norm=hue_norm)\n    491     p.map_size(sizes=sizes, order=size_order, norm=size_norm)\n\nFile c:\\Users\\reube\\anaconda3\\envs\\nbprocessor\\Lib\\site-packages\\seaborn\\relational.py:215, in _LinePlotter.__init__(self, data, variables, estimator, n_boot, seed, errorbar, sort, orient, err_style, err_kws, legend)\n    201 def __init__(\n    202     self, *,\n    203     data=None, variables={},\n   (...)\n    209     # the kind of plot to draw, but for the time being we need to set\n    210     # this information so the SizeMapping can use it\n    211     self._default_size_range = (\n    212         np.r_[.5, 2] * mpl.rcParams[\"lines.linewidth\"]\n    213     )\n--> 215     super().__init__(data=data, variables=variables)\n    217     self.estimator = estimator\n    218     self.errorbar = errorbar\n\nFile c:\\Users\\reube\\anaconda3\\envs\\nbprocessor\\Lib\\site-packages\\seaborn\\_base.py:634, in VectorPlotter.__init__(self, data, variables)\n    629 # var_ordered is relevant only for categorical axis variables, and may\n    630 # be better handled by an internal axis information object that tracks\n    631 # such information and is set up by the scale_* methods. The analogous\n    632 # information for numeric axes would be information about log scales.\n    633 self._var_ordered = {\"x\": False, \"y\": False}  # alt., used DefaultDict\n--> 634 self.assign_variables(data, variables)\n    636 # TODO Lots of tests assume that these are called to initialize the\n    637 # mappings to default values on class initialization. I'd prefer to\n    638 # move away from that and only have a mapping when explicitly called.\n    639 for var in [\"hue\", \"size\", \"style\"]:\n\nFile c:\\Users\\reube\\anaconda3\\envs\\nbprocessor\\Lib\\site-packages\\seaborn\\_base.py:679, in VectorPlotter.assign_variables(self, data, variables)\n    674 else:\n    675     # When dealing with long-form input, use the newer PlotData\n    676     # object (internal but introduced for the objects interface)\n    677     # to centralize / standardize data consumption logic.\n    678     self.input_format = \"long\"\n--> 679     plot_data = PlotData(data, variables)\n    680     frame = plot_data.frame\n    681     names = plot_data.names\n\nFile c:\\Users\\reube\\anaconda3\\envs\\nbprocessor\\Lib\\site-packages\\seaborn\\_core\\data.py:58, in PlotData.__init__(self, data, variables)\n     51 def __init__(\n     52     self,\n     53     data: DataSource,\n     54     variables: dict[str, VariableSpec],\n     55 ):\n     57     data = handle_data_source(data)\n---> 58     frame, names, ids = self._assign_variables(data, variables)\n     60     self.frame = frame\n     61     self.names = names\n\nFile c:\\Users\\reube\\anaconda3\\envs\\nbprocessor\\Lib\\site-packages\\seaborn\\_core\\data.py:232, in PlotData._assign_variables(self, data, variables)\n    230     else:\n    231         err += \"An entry with this name does not appear in `data`.\"\n--> 232     raise ValueError(err)\n    234 else:\n    235 \n    236     # Otherwise, assume the value somehow represents data\n    237 \n    238     # Ignore empty data structures\n    239     if isinstance(val, Sized) and len(val) == 0:\n\nValueError: Could not interpret value `silhouette` for `y`. An entry with this name does not appear in `data`.\n",
     "output_type": "error",
     "traceback": [
      "\u001b[1;31m---------------------------------------------------------------------------\u001b[0m",
      "\u001b[1;31mPapermillExecutionError\u001b[0m                   Traceback (most recent call last)",
      "Cell \u001b[1;32mIn[5], line 1\u001b[0m\n\u001b[1;32m----> 1\u001b[0m \u001b[43mpm\u001b[49m\u001b[38;5;241;43m.\u001b[39;49m\u001b[43mexecute_notebook\u001b[49m\u001b[43m(\u001b[49m\n\u001b[0;32m      2\u001b[0m \u001b[43m    \u001b[49m\u001b[38;5;124;43m'\u001b[39;49m\u001b[38;5;124;43m6_hierachial_clustering.ipynb\u001b[39;49m\u001b[38;5;124;43m'\u001b[39;49m\u001b[43m,\u001b[49m\n\u001b[0;32m      3\u001b[0m \u001b[43m    \u001b[49m\u001b[38;5;124;43mf\u001b[39;49m\u001b[38;5;124;43m'\u001b[39;49m\u001b[38;5;124;43m../output/\u001b[39;49m\u001b[38;5;132;43;01m{\u001b[39;49;00m\u001b[43mplace\u001b[49m\u001b[38;5;132;43;01m}\u001b[39;49;00m\u001b[38;5;124;43m/\u001b[39;49m\u001b[38;5;132;43;01m{\u001b[39;49;00m\u001b[43mplace\u001b[49m\u001b[38;5;132;43;01m}\u001b[39;49;00m\u001b[38;5;124;43m_6_hierachial_clustering.ipynb\u001b[39;49m\u001b[38;5;124;43m'\u001b[39;49m\u001b[43m,\u001b[49m\n\u001b[0;32m      4\u001b[0m \u001b[43m    \u001b[49m\u001b[43mparameters\u001b[49m\u001b[38;5;241;43m=\u001b[39;49m\u001b[38;5;28;43mdict\u001b[39;49m\u001b[43m(\u001b[49m\u001b[43mlocal_crs\u001b[49m\u001b[43m \u001b[49m\u001b[38;5;241;43m=\u001b[39;49m\u001b[43m \u001b[49m\u001b[43mlocal_crs\u001b[49m\u001b[43m,\u001b[49m\u001b[43m \u001b[49m\u001b[43mplace\u001b[49m\u001b[43m \u001b[49m\u001b[38;5;241;43m=\u001b[39;49m\u001b[43m \u001b[49m\u001b[43mplace\u001b[49m\u001b[43m,\u001b[49m\u001b[43m \u001b[49m\u001b[43mlat\u001b[49m\u001b[43m \u001b[49m\u001b[38;5;241;43m=\u001b[39;49m\u001b[43m \u001b[49m\u001b[43mlat\u001b[49m\u001b[43m,\u001b[49m\u001b[43m \u001b[49m\u001b[43mlng\u001b[49m\u001b[43m \u001b[49m\u001b[38;5;241;43m=\u001b[39;49m\u001b[43m \u001b[49m\u001b[43mlng\u001b[49m\u001b[43m,\u001b[49m\u001b[43m \u001b[49m\u001b[43mcountry\u001b[49m\u001b[43m \u001b[49m\u001b[38;5;241;43m=\u001b[39;49m\u001b[43m \u001b[49m\u001b[43mcountry\u001b[49m\u001b[43m,\u001b[49m\u001b[43m \u001b[49m\u001b[43mcrs\u001b[49m\u001b[43m \u001b[49m\u001b[38;5;241;43m=\u001b[39;49m\u001b[43m \u001b[49m\u001b[43mcrs\u001b[49m\u001b[43m,\u001b[49m\u001b[43m \u001b[49m\u001b[43mradius\u001b[49m\u001b[43m \u001b[49m\u001b[38;5;241;43m=\u001b[39;49m\u001b[43m \u001b[49m\u001b[43mradius\u001b[49m\u001b[43m)\u001b[49m\n\u001b[0;32m      5\u001b[0m \u001b[43m)\u001b[49m\n\u001b[0;32m      8\u001b[0m \u001b[38;5;66;03m# if not os.path.exists(f'output/{place}'):\u001b[39;00m\n\u001b[0;32m      9\u001b[0m \u001b[38;5;66;03m#     os.makedirs(f'output/{place}')\u001b[39;00m\n\u001b[0;32m     10\u001b[0m \u001b[38;5;66;03m# create_new_file(place, lat, lng, crs, local_crs, country, radius)\u001b[39;00m\n",
      "File \u001b[1;32mc:\\Users\\reube\\anaconda3\\envs\\nbprocessor\\Lib\\site-packages\\papermill\\execute.py:128\u001b[0m, in \u001b[0;36mexecute_notebook\u001b[1;34m(input_path, output_path, parameters, engine_name, request_save_on_cell_execute, prepare_only, kernel_name, language, progress_bar, log_output, stdout_file, stderr_file, start_timeout, report_mode, cwd, **engine_kwargs)\u001b[0m\n\u001b[0;32m    113\u001b[0m         nb \u001b[38;5;241m=\u001b[39m papermill_engines\u001b[38;5;241m.\u001b[39mexecute_notebook_with_engine(\n\u001b[0;32m    114\u001b[0m             engine_name,\n\u001b[0;32m    115\u001b[0m             nb,\n\u001b[1;32m   (...)\u001b[0m\n\u001b[0;32m    124\u001b[0m             \u001b[38;5;241m*\u001b[39m\u001b[38;5;241m*\u001b[39mengine_kwargs\n\u001b[0;32m    125\u001b[0m         )\n\u001b[0;32m    127\u001b[0m     \u001b[38;5;66;03m# Check for errors first (it saves on error before raising)\u001b[39;00m\n\u001b[1;32m--> 128\u001b[0m     \u001b[43mraise_for_execution_errors\u001b[49m\u001b[43m(\u001b[49m\u001b[43mnb\u001b[49m\u001b[43m,\u001b[49m\u001b[43m \u001b[49m\u001b[43moutput_path\u001b[49m\u001b[43m)\u001b[49m\n\u001b[0;32m    130\u001b[0m \u001b[38;5;66;03m# Write final output in case the engine didn't write it on cell completion.\u001b[39;00m\n\u001b[0;32m    131\u001b[0m write_ipynb(nb, output_path)\n",
      "File \u001b[1;32mc:\\Users\\reube\\anaconda3\\envs\\nbprocessor\\Lib\\site-packages\\papermill\\execute.py:232\u001b[0m, in \u001b[0;36mraise_for_execution_errors\u001b[1;34m(nb, output_path)\u001b[0m\n\u001b[0;32m    229\u001b[0m nb\u001b[38;5;241m.\u001b[39mcells\u001b[38;5;241m.\u001b[39minsert(\u001b[38;5;241m0\u001b[39m, error_msg_cell)\n\u001b[0;32m    231\u001b[0m write_ipynb(nb, output_path)\n\u001b[1;32m--> 232\u001b[0m \u001b[38;5;28;01mraise\u001b[39;00m error\n",
      "\u001b[1;31mPapermillExecutionError\u001b[0m: \n---------------------------------------------------------------------------\nException encountered at \"In [37]\":\n---------------------------------------------------------------------------\nValueError                                Traceback (most recent call last)\nCell In[37], line 3\n      1 # Plot the silhouette diagram. The best solution is usually a peak before a sudden drop. We would go with 6 in this case.\n      2 fig, ax = plt.subplots(figsize=(10, 10))\n----> 3 sns.lineplot(x=\"n_cluster\", y=\"silhouette\", data=davies_bouldin)\n      4 plt.ticklabel_format(style='plain')\n      5 plt.gca().xaxis.set_major_locator(mticker.MultipleLocator(1))\n\nFile c:\\Users\\reube\\anaconda3\\envs\\nbprocessor\\Lib\\site-packages\\seaborn\\relational.py:480, in lineplot(data, x, y, hue, size, style, units, weights, palette, hue_order, hue_norm, sizes, size_order, size_norm, dashes, markers, style_order, estimator, errorbar, n_boot, seed, orient, sort, err_style, err_kws, legend, ci, ax, **kwargs)\n    466 def lineplot(\n    467     data=None, *,\n    468     x=None, y=None, hue=None, size=None, style=None, units=None, weights=None,\n   (...)\n    476 \n    477     # Handle deprecation of ci parameter\n    478     errorbar = _deprecate_ci(errorbar, ci)\n--> 480     p = _LinePlotter(\n    481         data=data,\n    482         variables=dict(\n    483             x=x, y=y, hue=hue, size=size, style=style, units=units, weight=weights\n    484         ),\n    485         estimator=estimator, n_boot=n_boot, seed=seed, errorbar=errorbar,\n    486         sort=sort, orient=orient, err_style=err_style, err_kws=err_kws,\n    487         legend=legend,\n    488     )\n    490     p.map_hue(palette=palette, order=hue_order, norm=hue_norm)\n    491     p.map_size(sizes=sizes, order=size_order, norm=size_norm)\n\nFile c:\\Users\\reube\\anaconda3\\envs\\nbprocessor\\Lib\\site-packages\\seaborn\\relational.py:215, in _LinePlotter.__init__(self, data, variables, estimator, n_boot, seed, errorbar, sort, orient, err_style, err_kws, legend)\n    201 def __init__(\n    202     self, *,\n    203     data=None, variables={},\n   (...)\n    209     # the kind of plot to draw, but for the time being we need to set\n    210     # this information so the SizeMapping can use it\n    211     self._default_size_range = (\n    212         np.r_[.5, 2] * mpl.rcParams[\"lines.linewidth\"]\n    213     )\n--> 215     super().__init__(data=data, variables=variables)\n    217     self.estimator = estimator\n    218     self.errorbar = errorbar\n\nFile c:\\Users\\reube\\anaconda3\\envs\\nbprocessor\\Lib\\site-packages\\seaborn\\_base.py:634, in VectorPlotter.__init__(self, data, variables)\n    629 # var_ordered is relevant only for categorical axis variables, and may\n    630 # be better handled by an internal axis information object that tracks\n    631 # such information and is set up by the scale_* methods. The analogous\n    632 # information for numeric axes would be information about log scales.\n    633 self._var_ordered = {\"x\": False, \"y\": False}  # alt., used DefaultDict\n--> 634 self.assign_variables(data, variables)\n    636 # TODO Lots of tests assume that these are called to initialize the\n    637 # mappings to default values on class initialization. I'd prefer to\n    638 # move away from that and only have a mapping when explicitly called.\n    639 for var in [\"hue\", \"size\", \"style\"]:\n\nFile c:\\Users\\reube\\anaconda3\\envs\\nbprocessor\\Lib\\site-packages\\seaborn\\_base.py:679, in VectorPlotter.assign_variables(self, data, variables)\n    674 else:\n    675     # When dealing with long-form input, use the newer PlotData\n    676     # object (internal but introduced for the objects interface)\n    677     # to centralize / standardize data consumption logic.\n    678     self.input_format = \"long\"\n--> 679     plot_data = PlotData(data, variables)\n    680     frame = plot_data.frame\n    681     names = plot_data.names\n\nFile c:\\Users\\reube\\anaconda3\\envs\\nbprocessor\\Lib\\site-packages\\seaborn\\_core\\data.py:58, in PlotData.__init__(self, data, variables)\n     51 def __init__(\n     52     self,\n     53     data: DataSource,\n     54     variables: dict[str, VariableSpec],\n     55 ):\n     57     data = handle_data_source(data)\n---> 58     frame, names, ids = self._assign_variables(data, variables)\n     60     self.frame = frame\n     61     self.names = names\n\nFile c:\\Users\\reube\\anaconda3\\envs\\nbprocessor\\Lib\\site-packages\\seaborn\\_core\\data.py:232, in PlotData._assign_variables(self, data, variables)\n    230     else:\n    231         err += \"An entry with this name does not appear in `data`.\"\n--> 232     raise ValueError(err)\n    234 else:\n    235 \n    236     # Otherwise, assume the value somehow represents data\n    237 \n    238     # Ignore empty data structures\n    239     if isinstance(val, Sized) and len(val) == 0:\n\nValueError: Could not interpret value `silhouette` for `y`. An entry with this name does not appear in `data`.\n"
     ]
    }
   ],
   "source": [
    "pm.execute_notebook(\n",
    "    '6_hierachial_clustering.ipynb',\n",
    "    f'../output/{place}/{place}_6_hierachial_clustering.ipynb',\n",
    "    parameters=dict(local_crs = local_crs, place = place, lat = lat, lng = lng, country = country, crs = crs, radius = radius)\n",
    ")\n",
    "\n",
    "\n",
    "# if not os.path.exists(f'output/{place}'):\n",
    "#     os.makedirs(f'output/{place}')\n",
    "# create_new_file(place, lat, lng, crs, local_crs, country, radius)"
   ]
  },
  {
   "cell_type": "code",
   "execution_count": null,
   "metadata": {},
   "outputs": [],
   "source": []
  },
  {
   "cell_type": "code",
   "execution_count": null,
   "metadata": {},
   "outputs": [],
   "source": []
  }
 ],
 "metadata": {
  "kernelspec": {
   "display_name": "processor_nb",
   "language": "python",
   "name": "python3"
  },
  "language_info": {
   "codemirror_mode": {
    "name": "ipython",
    "version": 3
   },
   "file_extension": ".py",
   "mimetype": "text/x-python",
   "name": "python",
   "nbconvert_exporter": "python",
   "pygments_lexer": "ipython3",
   "version": "3.11.7"
  }
 },
 "nbformat": 4,
 "nbformat_minor": 2
}
