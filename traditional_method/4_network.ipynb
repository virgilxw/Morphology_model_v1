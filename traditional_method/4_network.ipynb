{
 "cells": [
  {
   "cell_type": "code",
   "execution_count": null,
   "id": "a9e3bf26",
   "metadata": {
    "execution": {
     "iopub.execute_input": "2023-12-28T03:14:40.346317Z",
     "iopub.status.busy": "2023-12-28T03:14:40.346113Z",
     "iopub.status.idle": "2023-12-28T03:15:04.273226Z",
     "shell.execute_reply": "2023-12-28T03:15:04.272289Z"
    },
    "papermill": {
     "duration": 23.937733,
     "end_time": "2023-12-28T03:15:04.274776",
     "exception": false,
     "start_time": "2023-12-28T03:14:40.337043",
     "status": "completed"
    },
    "tags": []
   },
   "outputs": [],
   "source": [
    "import geopandas as gpd\n",
    "import momepy\n",
    "import networkx as nx\n",
    "import graph_tool.all as gt\n",
    "from scripts.nx2gt import nx2gt\n",
    "import pandas as pd\n",
    "import matplotlib\n",
    "import itertools\n",
    "from shapely.geometry import LineString, point\n",
    "from shapely.wkt import loads\n",
    "from tqdm import tqdm\n",
    "import numpy as np\n",
    "from dask.distributed import Client, LocalCluster\n",
    "from dask import delayed\n",
    "import dask\n",
    "import math\n",
    "import concurrent.futures\n",
    "import matplotlib.pyplot as plt\n",
    "import osmnx as ox\n",
    "import scripts.graph_custom as custom_graph_scripts"
   ]
  },
  {
   "cell_type": "code",
   "execution_count": null,
   "id": "837178b2",
   "metadata": {
    "execution": {
     "iopub.execute_input": "2023-12-28T03:15:04.292150Z",
     "iopub.status.busy": "2023-12-28T03:15:04.291642Z",
     "iopub.status.idle": "2023-12-28T03:15:04.295799Z",
     "shell.execute_reply": "2023-12-28T03:15:04.295319Z"
    },
    "papermill": {
     "duration": 0.012898,
     "end_time": "2023-12-28T03:15:04.296806",
     "exception": false,
     "start_time": "2023-12-28T03:15:04.283908",
     "status": "completed"
    },
    "tags": [
     "parameters"
    ]
   },
   "outputs": [],
   "source": [
    "local_crs = 27700\n",
    "place = \"test\"\n",
    "lat = 55.86421405612109\n",
    "lng = -4.251846930489373\n",
    "country = \"UK\"\n",
    "crs=4326\n",
    "radius=1"
   ]
  },
  {
   "cell_type": "code",
   "execution_count": null,
   "id": "ff0a27df",
   "metadata": {
    "execution": {
     "iopub.execute_input": "2023-12-28T03:15:04.310633Z",
     "iopub.status.busy": "2023-12-28T03:15:04.310463Z",
     "iopub.status.idle": "2023-12-28T03:15:04.313326Z",
     "shell.execute_reply": "2023-12-28T03:15:04.312863Z"
    },
    "papermill": {
     "duration": 0.011064,
     "end_time": "2023-12-28T03:15:04.314321",
     "exception": false,
     "start_time": "2023-12-28T03:15:04.303257",
     "status": "completed"
    },
    "tags": [
     "injected-parameters"
    ]
   },
   "outputs": [],
   "source": [
    "# Parameters\n",
    "local_crs = 27700\n",
    "place = \"Milton_Keynes\"\n",
    "lat = 52.04\n",
    "lng = -0.76\n",
    "country = \"UK\"\n",
    "crs = 4326\n",
    "radius = 20\n"
   ]
  },
  {
   "cell_type": "code",
   "execution_count": null,
   "id": "6448cb1b",
   "metadata": {
    "execution": {
     "iopub.execute_input": "2023-12-28T03:15:04.328076Z",
     "iopub.status.busy": "2023-12-28T03:15:04.327918Z",
     "iopub.status.idle": "2023-12-28T03:15:04.867717Z",
     "shell.execute_reply": "2023-12-28T03:15:04.867053Z"
    },
    "papermill": {
     "duration": 0.548245,
     "end_time": "2023-12-28T03:15:04.869000",
     "exception": false,
     "start_time": "2023-12-28T03:15:04.320755",
     "status": "completed"
    },
    "tags": []
   },
   "outputs": [],
   "source": [
    "streets = gpd.read_parquet(f\"./output/{place}_OS/streets_p2.pq\").to_crs(local_crs).reset_index(drop=True)"
   ]
  },
  {
   "cell_type": "code",
   "execution_count": null,
   "id": "cdff77f2",
   "metadata": {
    "execution": {
     "iopub.execute_input": "2023-12-28T03:15:04.883831Z",
     "iopub.status.busy": "2023-12-28T03:15:04.883627Z",
     "iopub.status.idle": "2023-12-28T03:15:04.900945Z",
     "shell.execute_reply": "2023-12-28T03:15:04.900423Z"
    },
    "papermill": {
     "duration": 0.025938,
     "end_time": "2023-12-28T03:15:04.901994",
     "exception": false,
     "start_time": "2023-12-28T03:15:04.876056",
     "status": "completed"
    },
    "tags": []
   },
   "outputs": [],
   "source": [
    "streets"
   ]
  },
  {
   "cell_type": "code",
   "execution_count": null,
   "id": "355b6a71",
   "metadata": {
    "execution": {
     "iopub.execute_input": "2023-12-28T03:15:04.917028Z",
     "iopub.status.busy": "2023-12-28T03:15:04.916863Z",
     "iopub.status.idle": "2023-12-28T03:15:07.172544Z",
     "shell.execute_reply": "2023-12-28T03:15:07.172054Z"
    },
    "papermill": {
     "duration": 2.264508,
     "end_time": "2023-12-28T03:15:07.173659",
     "exception": false,
     "start_time": "2023-12-28T03:15:04.909151",
     "status": "completed"
    },
    "tags": []
   },
   "outputs": [],
   "source": [
    "daskCluster = LocalCluster(threads_per_worker=2,\n",
    "                n_workers=8, memory_limit='100GB')\n",
    "\n",
    "client = Client(daskCluster)\n",
    "\n",
    "client"
   ]
  },
  {
   "cell_type": "code",
   "execution_count": null,
   "id": "b6230e57",
   "metadata": {
    "execution": {
     "iopub.execute_input": "2023-12-28T03:15:07.190909Z",
     "iopub.status.busy": "2023-12-28T03:15:07.190729Z",
     "iopub.status.idle": "2023-12-28T03:15:09.133870Z",
     "shell.execute_reply": "2023-12-28T03:15:09.133138Z"
    },
    "papermill": {
     "duration": 1.953026,
     "end_time": "2023-12-28T03:15:09.135244",
     "exception": false,
     "start_time": "2023-12-28T03:15:07.182218",
     "status": "completed"
    },
    "tags": []
   },
   "outputs": [],
   "source": [
    "# Create a pandas dataframe from the multigraph\n",
    "primal = momepy.gdf_to_nx(streets, approach='primal')"
   ]
  },
  {
   "cell_type": "code",
   "execution_count": null,
   "id": "041313a0",
   "metadata": {
    "execution": {
     "iopub.execute_input": "2023-12-28T03:15:09.152664Z",
     "iopub.status.busy": "2023-12-28T03:15:09.152451Z",
     "iopub.status.idle": "2023-12-28T03:15:10.781177Z",
     "shell.execute_reply": "2023-12-28T03:15:10.780278Z"
    },
    "papermill": {
     "duration": 1.63896,
     "end_time": "2023-12-28T03:15:10.782495",
     "exception": false,
     "start_time": "2023-12-28T03:15:09.143535",
     "status": "completed"
    },
    "tags": []
   },
   "outputs": [],
   "source": [
    "nodes, edges, sw = momepy.nx_to_gdf(primal, points=True, lines=True,\n",
    "                                    spatial_weights=True)"
   ]
  },
  {
   "cell_type": "code",
   "execution_count": null,
   "id": "095fef2c",
   "metadata": {},
   "outputs": [],
   "source": [
    "edges = edges.drop_duplicates(subset='geometry')"
   ]
  },
  {
   "cell_type": "code",
   "execution_count": null,
   "id": "e61b4f10",
   "metadata": {},
   "outputs": [],
   "source": [
    "nodes = nodes.drop_duplicates(subset='geometry')"
   ]
  },
  {
   "cell_type": "code",
   "execution_count": null,
   "id": "0e300543",
   "metadata": {
    "execution": {
     "iopub.execute_input": "2023-12-28T03:15:10.800219Z",
     "iopub.status.busy": "2023-12-28T03:15:10.800026Z",
     "iopub.status.idle": "2023-12-28T03:15:54.544203Z",
     "shell.execute_reply": "2023-12-28T03:15:54.543623Z"
    },
    "papermill": {
     "duration": 43.754858,
     "end_time": "2023-12-28T03:15:54.545891",
     "exception": false,
     "start_time": "2023-12-28T03:15:10.791033",
     "status": "completed"
    },
    "tags": []
   },
   "outputs": [],
   "source": [
    "continuity = momepy.COINS(edges)\n",
    "stroke_gdf = continuity.stroke_gdf()"
   ]
  },
  {
   "cell_type": "code",
   "execution_count": null,
   "id": "5f67c066",
   "metadata": {
    "execution": {
     "iopub.execute_input": "2023-12-28T03:15:54.565509Z",
     "iopub.status.busy": "2023-12-28T03:15:54.565106Z",
     "iopub.status.idle": "2023-12-28T03:15:54.645152Z",
     "shell.execute_reply": "2023-12-28T03:15:54.644722Z"
    },
    "papermill": {
     "duration": 0.090005,
     "end_time": "2023-12-28T03:15:54.646319",
     "exception": false,
     "start_time": "2023-12-28T03:15:54.556314",
     "status": "completed"
    },
    "tags": []
   },
   "outputs": [],
   "source": [
    "stroke_gdf.to_parquet(f\"output/{place}_OS/stroke_gdf.pq\")"
   ]
  },
  {
   "cell_type": "code",
   "execution_count": null,
   "id": "9c07dc28",
   "metadata": {
    "execution": {
     "iopub.execute_input": "2023-12-28T03:15:54.663311Z",
     "iopub.status.busy": "2023-12-28T03:15:54.663149Z",
     "iopub.status.idle": "2023-12-28T03:15:54.666124Z",
     "shell.execute_reply": "2023-12-28T03:15:54.665754Z"
    },
    "papermill": {
     "duration": 0.013401,
     "end_time": "2023-12-28T03:15:54.667585",
     "exception": false,
     "start_time": "2023-12-28T03:15:54.654184",
     "status": "completed"
    },
    "tags": []
   },
   "outputs": [],
   "source": [
    "vertID_dict = {}"
   ]
  },
  {
   "cell_type": "code",
   "execution_count": null,
   "id": "801a04c0",
   "metadata": {
    "execution": {
     "iopub.execute_input": "2023-12-28T03:15:54.687204Z",
     "iopub.status.busy": "2023-12-28T03:15:54.687052Z",
     "iopub.status.idle": "2023-12-28T03:15:54.732384Z",
     "shell.execute_reply": "2023-12-28T03:15:54.732002Z"
    },
    "papermill": {
     "duration": 0.058284,
     "end_time": "2023-12-28T03:15:54.733771",
     "exception": false,
     "start_time": "2023-12-28T03:15:54.675487",
     "status": "completed"
    },
    "tags": []
   },
   "outputs": [],
   "source": [
    "counter = itertools.count()\n",
    "\n",
    "for node in primal.nodes():\n",
    "    id = next(counter)\n",
    "    primal.nodes[node]['vertID'] = id\n",
    "    vertID_dict[id] = node"
   ]
  },
  {
   "cell_type": "code",
   "execution_count": null,
   "id": "086e23d8",
   "metadata": {
    "execution": {
     "iopub.execute_input": "2023-12-28T03:15:54.751603Z",
     "iopub.status.busy": "2023-12-28T03:15:54.751442Z",
     "iopub.status.idle": "2023-12-28T03:15:54.766617Z",
     "shell.execute_reply": "2023-12-28T03:15:54.766163Z"
    },
    "papermill": {
     "duration": 0.02543,
     "end_time": "2023-12-28T03:15:54.767807",
     "exception": false,
     "start_time": "2023-12-28T03:15:54.742377",
     "status": "completed"
    },
    "tags": []
   },
   "outputs": [],
   "source": [
    "inverted_vertID_dict = {value: key for key, value in vertID_dict.items()}"
   ]
  },
  {
   "cell_type": "markdown",
   "id": "47cbd5da",
   "metadata": {
    "papermill": {
     "duration": 0.010109,
     "end_time": "2023-12-28T03:15:54.788362",
     "exception": false,
     "start_time": "2023-12-28T03:15:54.778253",
     "status": "completed"
    },
    "tags": []
   },
   "source": [
    "# Street Network Shapes"
   ]
  },
  {
   "cell_type": "code",
   "execution_count": null,
   "id": "1899506f",
   "metadata": {
    "execution": {
     "iopub.execute_input": "2023-12-28T03:15:54.806796Z",
     "iopub.status.busy": "2023-12-28T03:15:54.806563Z",
     "iopub.status.idle": "2023-12-28T03:15:56.414246Z",
     "shell.execute_reply": "2023-12-28T03:15:56.413495Z"
    },
    "papermill": {
     "duration": 1.618831,
     "end_time": "2023-12-28T03:15:56.415969",
     "exception": false,
     "start_time": "2023-12-28T03:15:54.797138",
     "status": "completed"
    },
    "tags": []
   },
   "outputs": [],
   "source": [
    "edg_lin = momepy.Linearity(streets)\n",
    "streets['linearity'] = edg_lin.series"
   ]
  },
  {
   "cell_type": "markdown",
   "id": "090622bf",
   "metadata": {
    "papermill": {
     "duration": 0.008186,
     "end_time": "2023-12-28T03:15:56.432445",
     "exception": false,
     "start_time": "2023-12-28T03:15:56.424259",
     "status": "completed"
    },
    "tags": []
   },
   "source": [
    "## Node Degree"
   ]
  },
  {
   "cell_type": "code",
   "execution_count": null,
   "id": "6d9f29f0",
   "metadata": {
    "execution": {
     "iopub.execute_input": "2023-12-28T03:15:56.450648Z",
     "iopub.status.busy": "2023-12-28T03:15:56.450449Z",
     "iopub.status.idle": "2023-12-28T03:16:28.062822Z",
     "shell.execute_reply": "2023-12-28T03:16:28.062211Z"
    },
    "papermill": {
     "duration": 31.623561,
     "end_time": "2023-12-28T03:16:28.064279",
     "exception": false,
     "start_time": "2023-12-28T03:15:56.440718",
     "status": "completed"
    },
    "tags": []
   },
   "outputs": [],
   "source": [
    "# Convert it to a graph-tool graph\n",
    "gtG = nx2gt(primal)\n",
    "\n",
    "gtG.list_properties()\n",
    "\n",
    "g = gt.GraphView(gtG)\n",
    "mm_len = gtG.edge_properties[\"mm_len\"]\n",
    "vp, ep = gt.betweenness(g, weight = mm_len)\n",
    "\n",
    "node_degree = {g.vertex_index[v]: v.in_degree() + v.out_degree() for v in g.vertices()}\n",
    "# convert ID_dict to a DataFrame and rename the index and column\n",
    "node_degree = pd.DataFrame.from_dict(node_degree, orient='index').rename(columns={0: \"node_degree\"})\n",
    "# merge vertID_df and vertices on vertID and node, respectively"
   ]
  },
  {
   "cell_type": "code",
   "execution_count": null,
   "id": "ab46ed59",
   "metadata": {
    "execution": {
     "iopub.execute_input": "2023-12-28T03:16:28.082170Z",
     "iopub.status.busy": "2023-12-28T03:16:28.081921Z",
     "iopub.status.idle": "2023-12-28T03:16:28.085677Z",
     "shell.execute_reply": "2023-12-28T03:16:28.085284Z"
    },
    "papermill": {
     "duration": 0.014529,
     "end_time": "2023-12-28T03:16:28.087078",
     "exception": false,
     "start_time": "2023-12-28T03:16:28.072549",
     "status": "completed"
    },
    "tags": []
   },
   "outputs": [],
   "source": [
    "nodes[\"node_degree\"] = node_degree[\"node_degree\"]"
   ]
  },
  {
   "cell_type": "code",
   "execution_count": null,
   "id": "b246cb61",
   "metadata": {
    "execution": {
     "iopub.execute_input": "2023-12-28T03:16:28.103915Z",
     "iopub.status.busy": "2023-12-28T03:16:28.103700Z",
     "iopub.status.idle": "2023-12-28T03:16:28.106240Z",
     "shell.execute_reply": "2023-12-28T03:16:28.105872Z"
    },
    "papermill": {
     "duration": 0.012577,
     "end_time": "2023-12-28T03:16:28.107365",
     "exception": false,
     "start_time": "2023-12-28T03:16:28.094788",
     "status": "completed"
    },
    "tags": []
   },
   "outputs": [],
   "source": [
    "# # cross-testing to Momepy implementation\n",
    "\n",
    "# degree = dict(nx.degree(primal))\n",
    "# nx.set_node_attributes(primal, degree, 'degree')\n",
    "\n",
    "# graph = momepy.node_degree(primal, name='degree')\n",
    "\n",
    "# nodes, edges, sw = momepy.nx_to_gdf(graph, points=True, lines=True,\n",
    "#                                     spatial_weights=True)\n",
    "\n",
    "# f, ax = plt.subplots(figsize=(10, 10))\n",
    "\n",
    "# # Plot edges with a lower zorder\n",
    "# edges.plot(ax=ax, color='lightgrey', zorder=1)\n",
    "\n",
    "# # Plot nodes with a higher zorder\n",
    "# nodes.plot(ax=ax, column='degree', cmap='RdYlBu', markersize=3, zorder=2)\n",
    "\n",
    "# # Plot nodes\n",
    "# scatter = ax.scatter(nodes.geometry.x, nodes.geometry.y, c=nodes['degree'], cmap='RdYlBu', s=3, zorder=2)\n",
    "\n",
    "# # Create a legend\n",
    "# legend1 = ax.legend(*scatter.legend_elements(num=5),\n",
    "#                     loc=\"upper right\", title=\"Node Degree\")\n",
    "# ax.add_artist(legend1)\n",
    "\n",
    "# ax.set_axis_off()\n",
    "# plt.show()\n",
    "\n",
    "# node_degree[\"node_degree\"]\n",
    "# node_degree_aligned = node_degree[\"node_degree\"].reset_index(drop=True)\n",
    "# nodes_aligned = nodes[\"degree\"].reset_index(drop=True)\n",
    "\n",
    "# # Check if all elements are equal\n",
    "# if not (node_degree_aligned == nodes_aligned).all():\n",
    "#     raise ValueError(\"All elements in node_degree_aligned and nodes_aligned are identical.\")"
   ]
  },
  {
   "cell_type": "markdown",
   "id": "4e70ed93",
   "metadata": {
    "papermill": {
     "duration": 0.00797,
     "end_time": "2023-12-28T03:16:28.123104",
     "exception": false,
     "start_time": "2023-12-28T03:16:28.115134",
     "status": "completed"
    },
    "tags": []
   },
   "source": [
    "# Meshedness + clustering"
   ]
  },
  {
   "cell_type": "markdown",
   "id": "db83b386",
   "metadata": {
    "papermill": {
     "duration": 0.008173,
     "end_time": "2023-12-28T03:16:28.139335",
     "exception": false,
     "start_time": "2023-12-28T03:16:28.131162",
     "status": "completed"
    },
    "tags": []
   },
   "source": [
    "Eucledean Dist"
   ]
  },
  {
   "cell_type": "code",
   "execution_count": null,
   "id": "de367a7e",
   "metadata": {
    "execution": {
     "iopub.execute_input": "2023-12-28T03:16:28.156604Z",
     "iopub.status.busy": "2023-12-28T03:16:28.156407Z",
     "iopub.status.idle": "2023-12-28T03:17:20.013579Z",
     "shell.execute_reply": "2023-12-28T03:17:20.012171Z"
    },
    "papermill": {
     "duration": 51.867636,
     "end_time": "2023-12-28T03:17:20.015119",
     "exception": false,
     "start_time": "2023-12-28T03:16:28.147483",
     "status": "completed"
    },
    "tags": []
   },
   "outputs": [],
   "source": [
    "## validation to networkx\n",
    "graph = momepy.gdf_to_nx(streets)\n",
    "\n",
    "graph = momepy.clustering(graph, name='clustering')\n",
    "\n",
    "graph = momepy.meshedness(graph, radius=500, name='meshedness_eucl_500', distance='mm_len')\n",
    "\n",
    "graph = momepy.nx_to_gdf(graph, points=True, lines=False, spatial_weights=False)"
   ]
  },
  {
   "cell_type": "code",
   "execution_count": null,
   "id": "ae6f475a",
   "metadata": {
    "execution": {
     "iopub.execute_input": "2023-12-28T03:17:20.036024Z",
     "iopub.status.busy": "2023-12-28T03:17:20.035787Z",
     "iopub.status.idle": "2023-12-28T03:17:20.041359Z",
     "shell.execute_reply": "2023-12-28T03:17:20.040653Z"
    },
    "papermill": {
     "duration": 0.016378,
     "end_time": "2023-12-28T03:17:20.042366",
     "exception": false,
     "start_time": "2023-12-28T03:17:20.025988",
     "status": "completed"
    },
    "tags": []
   },
   "outputs": [],
   "source": [
    "nodes[\"meshedness_eucl_500\"] = graph[\"meshedness_eucl_500\"]\n",
    "nodes[\"clustering\"] = graph[\"clustering\"]"
   ]
  },
  {
   "cell_type": "code",
   "execution_count": null,
   "id": "0dd73f24",
   "metadata": {
    "execution": {
     "iopub.execute_input": "2023-12-28T03:17:20.060847Z",
     "iopub.status.busy": "2023-12-28T03:17:20.060667Z",
     "iopub.status.idle": "2023-12-28T03:17:26.431170Z",
     "shell.execute_reply": "2023-12-28T03:17:26.430624Z"
    },
    "papermill": {
     "duration": 6.387067,
     "end_time": "2023-12-28T03:17:26.437866",
     "exception": false,
     "start_time": "2023-12-28T03:17:20.050799",
     "status": "completed"
    },
    "tags": []
   },
   "outputs": [],
   "source": [
    "f, ax = plt.subplots(figsize=(10, 10))\n",
    "# Plot nodes with a higher zorder\n",
    "nodes.plot(ax=ax, column='clustering', cmap='Spectral_r', scheme='quantiles', k=15, alpha=0.6)\n",
    "streets.plot(ax=ax, color='lightgrey', alpha=0.5, zorder=1)\n",
    "ax.set_axis_off()\n",
    "plt.show()"
   ]
  },
  {
   "cell_type": "markdown",
   "id": "161bb797",
   "metadata": {
    "papermill": {
     "duration": 0.014752,
     "end_time": "2023-12-28T03:17:26.470726",
     "exception": false,
     "start_time": "2023-12-28T03:17:26.455974",
     "status": "completed"
    },
    "tags": []
   },
   "source": [
    "Topological Distance"
   ]
  },
  {
   "cell_type": "code",
   "execution_count": null,
   "id": "e18163f3",
   "metadata": {
    "execution": {
     "iopub.execute_input": "2023-12-28T03:17:26.501244Z",
     "iopub.status.busy": "2023-12-28T03:17:26.501000Z",
     "iopub.status.idle": "2023-12-28T03:17:57.171516Z",
     "shell.execute_reply": "2023-12-28T03:17:57.170835Z"
    },
    "papermill": {
     "duration": 30.68843,
     "end_time": "2023-12-28T03:17:57.173471",
     "exception": false,
     "start_time": "2023-12-28T03:17:26.485041",
     "status": "completed"
    },
    "tags": []
   },
   "outputs": [],
   "source": [
    "## validation to networkx\n",
    "graph = momepy.gdf_to_nx(streets)\n",
    "\n",
    "graph = momepy.meshedness(graph, radius=5, name='meshedness_topo_5')\n",
    "\n",
    "graph = momepy.nx_to_gdf(graph, points=True, lines=False, spatial_weights=False)"
   ]
  },
  {
   "cell_type": "code",
   "execution_count": null,
   "id": "255ed932",
   "metadata": {
    "execution": {
     "iopub.execute_input": "2023-12-28T03:17:57.205496Z",
     "iopub.status.busy": "2023-12-28T03:17:57.205309Z",
     "iopub.status.idle": "2023-12-28T03:17:57.208425Z",
     "shell.execute_reply": "2023-12-28T03:17:57.208036Z"
    },
    "papermill": {
     "duration": 0.020472,
     "end_time": "2023-12-28T03:17:57.209467",
     "exception": false,
     "start_time": "2023-12-28T03:17:57.188995",
     "status": "completed"
    },
    "tags": []
   },
   "outputs": [],
   "source": [
    "nodes[\"meshedness_topo_5\"] = graph[\"meshedness_topo_5\"]"
   ]
  },
  {
   "cell_type": "code",
   "execution_count": null,
   "id": "64a4cda5",
   "metadata": {
    "execution": {
     "iopub.execute_input": "2023-12-28T03:17:57.240406Z",
     "iopub.status.busy": "2023-12-28T03:17:57.239709Z",
     "iopub.status.idle": "2023-12-28T03:18:02.771560Z",
     "shell.execute_reply": "2023-12-28T03:18:02.771142Z"
    },
    "papermill": {
     "duration": 5.554119,
     "end_time": "2023-12-28T03:18:02.778132",
     "exception": false,
     "start_time": "2023-12-28T03:17:57.224013",
     "status": "completed"
    },
    "tags": []
   },
   "outputs": [],
   "source": [
    "f, ax = plt.subplots(figsize=(10, 10))\n",
    "# Plot nodes with a higher zorder\n",
    "nodes.plot(ax=ax, column=\"meshedness_topo_5\", cmap='Spectral_r', scheme='quantiles', k=15, alpha=0.6)\n",
    "streets.plot(ax=ax, color='lightgrey', alpha=0.5, zorder=1)\n",
    "ax.set_axis_off()\n",
    "plt.show()\n"
   ]
  },
  {
   "cell_type": "markdown",
   "id": "a1d05f6b",
   "metadata": {
    "papermill": {
     "duration": 0.021149,
     "end_time": "2023-12-28T03:18:02.824338",
     "exception": false,
     "start_time": "2023-12-28T03:18:02.803189",
     "status": "completed"
    },
    "tags": []
   },
   "source": [
    "# Multiple Centrality Analysis"
   ]
  },
  {
   "cell_type": "markdown",
   "id": "ef3d8ef8",
   "metadata": {
    "papermill": {
     "duration": 0.020875,
     "end_time": "2023-12-28T03:18:02.867035",
     "exception": false,
     "start_time": "2023-12-28T03:18:02.846160",
     "status": "completed"
    },
    "tags": []
   },
   "source": [
    "## Closeness Centrality"
   ]
  },
  {
   "cell_type": "markdown",
   "id": "72817fa7",
   "metadata": {
    "papermill": {
     "duration": 0.021137,
     "end_time": "2023-12-28T03:18:02.909359",
     "exception": false,
     "start_time": "2023-12-28T03:18:02.888222",
     "status": "completed"
    },
    "tags": []
   },
   "source": [
    "### Closeness centrality\n",
    "\n",
    "Closeness centrality could be simplified as the average distance to every other node from each node. As such, it can be measured on the whole network (Global Closeness Centrality) or within a certain limit only (Local Closeness Centrality). \n",
    "\n",
    "#### Local closeness\n",
    "To measure local `closeness_centrality` we need to specify a radius (how far we should go from each node). We can use topological distance (e.g. 5 steps, then radius=5) or metric distance (e.g. 400 metres) - then radius=400 and distance=length of each segment saved as a parameter of each edge. By default, momepy saves length as `mm_len`. \n",
    "\n",
    "The weight parameter is used for centrality calculation. Again, we can use metric weight (using the same attribute as above) or no weight (weight=None) at all. Or any other attribute we wish."
   ]
  },
  {
   "cell_type": "code",
   "execution_count": null,
   "id": "aca15300",
   "metadata": {
    "execution": {
     "iopub.execute_input": "2023-12-28T03:18:02.953601Z",
     "iopub.status.busy": "2023-12-28T03:18:02.953396Z",
     "iopub.status.idle": "2023-12-28T03:18:37.703084Z",
     "shell.execute_reply": "2023-12-28T03:18:37.700079Z"
    },
    "papermill": {
     "duration": 34.773915,
     "end_time": "2023-12-28T03:18:37.704385",
     "exception": false,
     "start_time": "2023-12-28T03:18:02.930470",
     "status": "completed"
    },
    "tags": []
   },
   "outputs": [],
   "source": [
    "local_closeness_clustering = momepy.closeness_centrality(primal, radius=400, name='closeness400', distance='mm_len', weight='mm_len')"
   ]
  },
  {
   "cell_type": "code",
   "execution_count": null,
   "id": "d73aaaa8",
   "metadata": {
    "execution": {
     "iopub.execute_input": "2023-12-28T03:18:37.752209Z",
     "iopub.status.busy": "2023-12-28T03:18:37.751962Z",
     "iopub.status.idle": "2023-12-28T03:18:38.490102Z",
     "shell.execute_reply": "2023-12-28T03:18:38.489212Z"
    },
    "papermill": {
     "duration": 0.763017,
     "end_time": "2023-12-28T03:18:38.491725",
     "exception": false,
     "start_time": "2023-12-28T03:18:37.728708",
     "status": "completed"
    },
    "tags": []
   },
   "outputs": [],
   "source": [
    "local_closeness_clustering = momepy.nx_to_gdf(local_closeness_clustering)\n",
    "local_closeness_clustering = local_closeness_clustering[0]"
   ]
  },
  {
   "cell_type": "code",
   "execution_count": null,
   "id": "a78c038a",
   "metadata": {
    "execution": {
     "iopub.execute_input": "2023-12-28T03:18:38.590967Z",
     "iopub.status.busy": "2023-12-28T03:18:38.590746Z",
     "iopub.status.idle": "2023-12-28T03:18:38.594694Z",
     "shell.execute_reply": "2023-12-28T03:18:38.594229Z"
    },
    "papermill": {
     "duration": 0.082455,
     "end_time": "2023-12-28T03:18:38.595735",
     "exception": false,
     "start_time": "2023-12-28T03:18:38.513280",
     "status": "completed"
    },
    "tags": []
   },
   "outputs": [],
   "source": [
    "nodes[\"closeness_clustering_400m\"] = local_closeness_clustering[\"closeness400\"]"
   ]
  },
  {
   "cell_type": "code",
   "execution_count": null,
   "id": "8dd578c0",
   "metadata": {
    "execution": {
     "iopub.execute_input": "2023-12-28T03:18:38.640224Z",
     "iopub.status.busy": "2023-12-28T03:18:38.640001Z",
     "iopub.status.idle": "2023-12-28T03:18:45.213868Z",
     "shell.execute_reply": "2023-12-28T03:18:45.213193Z"
    },
    "papermill": {
     "duration": 6.606895,
     "end_time": "2023-12-28T03:18:45.224086",
     "exception": false,
     "start_time": "2023-12-28T03:18:38.617191",
     "status": "completed"
    },
    "tags": []
   },
   "outputs": [],
   "source": [
    "\n",
    "f, ax = plt.subplots(figsize=(15, 15))\n",
    "nodes.plot(ax=ax, column=\"closeness_clustering_400m\", cmap='Spectral_r', scheme='quantiles', k=15, alpha=0.6, zorder=1)\n",
    "edges.plot(ax=ax, zorder=0)\n",
    "closeness400 = nodes[\"closeness_clustering_400m\"]\n",
    "\n",
    "ax.set_axis_off()\n",
    "ax.set_title(\"closeness_clustering_400m\")\n",
    "plt.show()"
   ]
  },
  {
   "cell_type": "markdown",
   "id": "5a1c8e60",
   "metadata": {
    "papermill": {
     "duration": 0.033187,
     "end_time": "2023-12-28T03:18:45.296137",
     "exception": false,
     "start_time": "2023-12-28T03:18:45.262950",
     "status": "completed"
    },
    "tags": []
   },
   "source": [
    "#### Global closeness\n",
    "\n",
    "Global closeness centrality is a bit simpler as we do not have to specify radius and distance, the rest remains the same."
   ]
  },
  {
   "cell_type": "code",
   "execution_count": null,
   "id": "498653c7",
   "metadata": {
    "execution": {
     "iopub.execute_input": "2023-12-28T03:18:45.363777Z",
     "iopub.status.busy": "2023-12-28T03:18:45.363570Z",
     "iopub.status.idle": "2023-12-28T03:19:05.313430Z",
     "shell.execute_reply": "2023-12-28T03:19:05.310725Z"
    },
    "papermill": {
     "duration": 19.985894,
     "end_time": "2023-12-28T03:19:05.314752",
     "exception": false,
     "start_time": "2023-12-28T03:18:45.328858",
     "status": "completed"
    },
    "tags": []
   },
   "outputs": [],
   "source": [
    "gtG = nx2gt(primal)\n",
    "\n",
    "g = gt.GraphView(gtG)\n",
    "mm_len = gtG.edge_properties[\"mm_len\"]\n",
    "vp = gt.closeness(g, weight = mm_len)\n",
    "\n",
    "vertex_val = vp.get_array()\n",
    "\n",
    "nodes['global_closeness_centrality_primal']= vertex_val\n",
    "\n",
    "nodes"
   ]
  },
  {
   "cell_type": "markdown",
   "id": "944be8db",
   "metadata": {
    "papermill": {
     "duration": 0.037922,
     "end_time": "2023-12-28T03:19:05.388848",
     "exception": false,
     "start_time": "2023-12-28T03:19:05.350926",
     "status": "completed"
    },
    "tags": []
   },
   "source": [
    "### Betweenness\n",
    "\n",
    "Betweenness centrality measures the importance of each node or edge for travelling along the network. It measures how many times each node/edge used if we walk using the shortest paths from each node to every other. \n",
    "\n",
    "We have two options of how to measure betweenness on primal graphs - on nodes or on edges.\n",
    "\n",
    "#### Node-based\n",
    "Node-based betweenness, as the name suggests, measures the betweenness of each node - how many times we would walk through the node."
   ]
  },
  {
   "cell_type": "code",
   "execution_count": null,
   "id": "d631436d",
   "metadata": {
    "execution": {
     "iopub.execute_input": "2023-12-28T03:19:05.457034Z",
     "iopub.status.busy": "2023-12-28T03:19:05.456815Z",
     "iopub.status.idle": "2023-12-28T03:19:08.867751Z",
     "shell.execute_reply": "2023-12-28T03:19:08.866326Z"
    },
    "papermill": {
     "duration": 3.447162,
     "end_time": "2023-12-28T03:19:08.869280",
     "exception": false,
     "start_time": "2023-12-28T03:19:05.422118",
     "status": "completed"
    },
    "tags": []
   },
   "outputs": [],
   "source": [
    "gtG = nx2gt(primal)"
   ]
  },
  {
   "cell_type": "code",
   "execution_count": null,
   "id": "020cb2b1",
   "metadata": {
    "execution": {
     "iopub.execute_input": "2023-12-28T03:19:08.939021Z",
     "iopub.status.busy": "2023-12-28T03:19:08.938834Z",
     "iopub.status.idle": "2023-12-28T03:19:40.008734Z",
     "shell.execute_reply": "2023-12-28T03:19:40.007681Z"
    },
    "papermill": {
     "duration": 31.135583,
     "end_time": "2023-12-28T03:19:40.040077",
     "exception": false,
     "start_time": "2023-12-28T03:19:08.904494",
     "status": "completed"
    },
    "tags": []
   },
   "outputs": [],
   "source": [
    "g = gt.GraphView(gtG)\n",
    "mm_len = gtG.edge_properties[\"mm_len\"]\n",
    "vp, ep = gt.betweenness(g, weight = mm_len)\n",
    "\n",
    "vertex_val = vp.get_array()\n",
    "\n",
    "nodes['global_betweeness_centrality_vertex']= vertex_val"
   ]
  },
  {
   "cell_type": "code",
   "execution_count": null,
   "id": "8af234da",
   "metadata": {
    "execution": {
     "iopub.execute_input": "2023-12-28T03:19:40.107506Z",
     "iopub.status.busy": "2023-12-28T03:19:40.107260Z",
     "iopub.status.idle": "2023-12-28T03:19:40.128581Z",
     "shell.execute_reply": "2023-12-28T03:19:40.127994Z"
    },
    "papermill": {
     "duration": 0.0566,
     "end_time": "2023-12-28T03:19:40.129581",
     "exception": false,
     "start_time": "2023-12-28T03:19:40.072981",
     "status": "completed"
    },
    "tags": []
   },
   "outputs": [],
   "source": [
    "nodes"
   ]
  },
  {
   "cell_type": "code",
   "execution_count": null,
   "id": "e03eff90",
   "metadata": {
    "execution": {
     "iopub.execute_input": "2023-12-28T03:19:40.198225Z",
     "iopub.status.busy": "2023-12-28T03:19:40.198022Z",
     "iopub.status.idle": "2023-12-28T03:19:45.800888Z",
     "shell.execute_reply": "2023-12-28T03:19:45.799905Z"
    },
    "papermill": {
     "duration": 5.646596,
     "end_time": "2023-12-28T03:19:45.810388",
     "exception": false,
     "start_time": "2023-12-28T03:19:40.163792",
     "status": "completed"
    },
    "tags": []
   },
   "outputs": [],
   "source": [
    "f, ax = plt.subplots(figsize=(15, 15))\n",
    "nodes.plot(ax=ax, column='global_betweeness_centrality_vertex', cmap='Spectral_r', scheme='quantiles', k=15, alpha=0.6, zorder=1)\n",
    "edges.plot(ax=ax, zorder=0)\n",
    "\n",
    "ax.set_axis_off()\n",
    "ax.set_title(label='global_betweeness_centrality_vertex')\n",
    "plt.show()"
   ]
  },
  {
   "cell_type": "markdown",
   "id": "437fe909",
   "metadata": {
    "papermill": {
     "duration": 0.044805,
     "end_time": "2023-12-28T03:19:45.903028",
     "exception": false,
     "start_time": "2023-12-28T03:19:45.858223",
     "status": "completed"
    },
    "tags": []
   },
   "source": [
    "#### Edge-based\n",
    "\n",
    "Edge-based betweenness does the same but for edges: how many times we go through each edge (street)."
   ]
  },
  {
   "cell_type": "code",
   "execution_count": null,
   "id": "d5d13568",
   "metadata": {
    "execution": {
     "iopub.execute_input": "2023-12-28T03:19:45.994132Z",
     "iopub.status.busy": "2023-12-28T03:19:45.993828Z",
     "iopub.status.idle": "2023-12-28T03:19:45.998108Z",
     "shell.execute_reply": "2023-12-28T03:19:45.997295Z"
    },
    "papermill": {
     "duration": 0.051263,
     "end_time": "2023-12-28T03:19:45.999644",
     "exception": false,
     "start_time": "2023-12-28T03:19:45.948381",
     "status": "completed"
    },
    "tags": []
   },
   "outputs": [],
   "source": [
    "edge_val = ep.get_array()\n",
    "\n",
    "edges['betweeness_centrality_edge'] = edge_val"
   ]
  },
  {
   "cell_type": "code",
   "execution_count": null,
   "id": "0f6ecd44",
   "metadata": {
    "execution": {
     "iopub.execute_input": "2023-12-28T03:19:46.125153Z",
     "iopub.status.busy": "2023-12-28T03:19:46.124263Z",
     "iopub.status.idle": "2023-12-28T03:19:47.764212Z",
     "shell.execute_reply": "2023-12-28T03:19:47.763372Z"
    },
    "papermill": {
     "duration": 1.726129,
     "end_time": "2023-12-28T03:19:47.771434",
     "exception": false,
     "start_time": "2023-12-28T03:19:46.045305",
     "status": "completed"
    },
    "tags": []
   },
   "outputs": [],
   "source": [
    "f, ax = plt.subplots(figsize=(15, 15))\n",
    "edges.plot(ax=ax, column='betweeness_centrality_edge', cmap='Spectral_r', scheme='quantiles', k=15, alpha=0.6, zorder=1)\n",
    "\n",
    "ax.set_axis_off()\n",
    "ax.set_title(label='betweeness_centrality_edge')\n",
    "plt.show()"
   ]
  },
  {
   "cell_type": "markdown",
   "id": "8377ba06",
   "metadata": {
    "papermill": {
     "duration": 0.053707,
     "end_time": "2023-12-28T03:19:47.879299",
     "exception": false,
     "start_time": "2023-12-28T03:19:47.825592",
     "status": "completed"
    },
    "tags": []
   },
   "source": [
    "### Straightness\n",
    "\n",
    "While both closeness and betweenness are generally used in many applications of network analysis, straightness centrality is specific to street networks as it requires a geographical element. It is measured as a ratio between real and Euclidean distance while waking from each node to every other."
   ]
  },
  {
   "cell_type": "code",
   "execution_count": null,
   "id": "96a62c49",
   "metadata": {
    "execution": {
     "iopub.execute_input": "2023-12-28T03:19:48.012787Z",
     "iopub.status.busy": "2023-12-28T03:19:48.012482Z",
     "iopub.status.idle": "2023-12-28T05:43:20.374246Z",
     "shell.execute_reply": "2023-12-28T05:43:20.373603Z"
    },
    "papermill": {
     "duration": 8612.417888,
     "end_time": "2023-12-28T05:43:20.376465",
     "exception": false,
     "start_time": "2023-12-28T03:19:47.958577",
     "status": "completed"
    },
    "tags": []
   },
   "outputs": [],
   "source": [
    "primal = momepy.straightness_centrality(primal)\n",
    "gdf = momepy.nx_to_gdf(primal, lines=False)"
   ]
  },
  {
   "cell_type": "code",
   "execution_count": null,
   "id": "ae82b0cc",
   "metadata": {
    "execution": {
     "iopub.execute_input": "2023-12-28T05:43:20.489158Z",
     "iopub.status.busy": "2023-12-28T05:43:20.488858Z",
     "iopub.status.idle": "2023-12-28T05:43:20.492434Z",
     "shell.execute_reply": "2023-12-28T05:43:20.492035Z"
    },
    "papermill": {
     "duration": 0.0605,
     "end_time": "2023-12-28T05:43:20.494402",
     "exception": false,
     "start_time": "2023-12-28T05:43:20.433902",
     "status": "completed"
    },
    "tags": []
   },
   "outputs": [],
   "source": [
    "nodes[\"global_straightness_centrality\"] = gdf[\"straightness\"]"
   ]
  },
  {
   "cell_type": "code",
   "execution_count": null,
   "id": "fbe6a78e",
   "metadata": {
    "execution": {
     "iopub.execute_input": "2023-12-28T05:43:20.601101Z",
     "iopub.status.busy": "2023-12-28T05:43:20.600891Z",
     "iopub.status.idle": "2023-12-28T05:43:23.910456Z",
     "shell.execute_reply": "2023-12-28T05:43:23.910002Z"
    },
    "papermill": {
     "duration": 3.368692,
     "end_time": "2023-12-28T05:43:23.916667",
     "exception": false,
     "start_time": "2023-12-28T05:43:20.547975",
     "status": "completed"
    },
    "tags": []
   },
   "outputs": [],
   "source": [
    "\n",
    "\n",
    "nodes[\"straightness_400m\"] = gdf[\"straightness\"]\n",
    "\n",
    "f, ax = plt.subplots(figsize=(15, 15))\n",
    "nodes.plot(ax=ax, column=\"straightness_400m\", cmap='Spectral_r', scheme='quantiles', k=15, alpha=0.6)\n",
    "\n",
    "ax.set_axis_off()\n",
    "ax.set_title(\"global_straightness_centrality\")\n",
    "plt.show()"
   ]
  },
  {
   "cell_type": "markdown",
   "id": "38a33917",
   "metadata": {
    "papermill": {
     "duration": 0.060396,
     "end_time": "2023-12-28T05:43:24.038777",
     "exception": false,
     "start_time": "2023-12-28T05:43:23.978381",
     "status": "completed"
    },
    "tags": []
   },
   "source": [
    "### Node values averaged onto edges\n",
    "\n",
    "In some cases, it is easier to understand centrality results if they are attached to street segments, rather than intersections. We can do an approximation using the mean value attached to start and end node of each edge."
   ]
  },
  {
   "cell_type": "code",
   "execution_count": null,
   "id": "be765fd6",
   "metadata": {
    "execution": {
     "iopub.execute_input": "2023-12-28T05:43:24.161713Z",
     "iopub.status.busy": "2023-12-28T05:43:24.161467Z",
     "iopub.status.idle": "2023-12-28T05:43:24.177301Z",
     "shell.execute_reply": "2023-12-28T05:43:24.176933Z"
    },
    "papermill": {
     "duration": 0.079787,
     "end_time": "2023-12-28T05:43:24.178591",
     "exception": false,
     "start_time": "2023-12-28T05:43:24.098804",
     "status": "completed"
    },
    "tags": []
   },
   "outputs": [],
   "source": [
    "nodes"
   ]
  },
  {
   "cell_type": "code",
   "execution_count": null,
   "id": "17db1ecd",
   "metadata": {
    "execution": {
     "iopub.execute_input": "2023-12-28T05:43:24.355099Z",
     "iopub.status.busy": "2023-12-28T05:43:24.354904Z",
     "iopub.status.idle": "2023-12-28T05:44:17.698689Z",
     "shell.execute_reply": "2023-12-28T05:44:17.697642Z"
    },
    "papermill": {
     "duration": 53.40829,
     "end_time": "2023-12-28T05:44:17.700178",
     "exception": false,
     "start_time": "2023-12-28T05:43:24.291888",
     "status": "completed"
    },
    "tags": []
   },
   "outputs": [],
   "source": [
    "for node in primal.nodes:\n",
    "    row = nodes[nodes[\"nodeID\"] == primal.nodes[node][\"nodeID\"]].iloc[0]\n",
    "    \n",
    "    columns = row.keys().drop(['nodeID', 'geometry'])\n",
    "    for column in columns:\n",
    "        primal.nodes[node][column] = row[column]"
   ]
  },
  {
   "cell_type": "code",
   "execution_count": null,
   "id": "2f9e0b08",
   "metadata": {
    "execution": {
     "iopub.execute_input": "2023-12-28T05:44:17.825052Z",
     "iopub.status.busy": "2023-12-28T05:44:17.824781Z",
     "iopub.status.idle": "2023-12-28T05:44:17.903958Z",
     "shell.execute_reply": "2023-12-28T05:44:17.903546Z"
    },
    "papermill": {
     "duration": 0.154537,
     "end_time": "2023-12-28T05:44:17.917045",
     "exception": false,
     "start_time": "2023-12-28T05:44:17.762508",
     "status": "completed"
    },
    "tags": []
   },
   "outputs": [],
   "source": [
    "primal.nodes"
   ]
  },
  {
   "cell_type": "code",
   "execution_count": null,
   "id": "8a67f9dc",
   "metadata": {
    "execution": {
     "iopub.execute_input": "2023-12-28T05:44:18.065342Z",
     "iopub.status.busy": "2023-12-28T05:44:18.065102Z",
     "iopub.status.idle": "2023-12-28T05:44:18.630625Z",
     "shell.execute_reply": "2023-12-28T05:44:18.630105Z"
    },
    "papermill": {
     "duration": 0.640267,
     "end_time": "2023-12-28T05:44:18.631891",
     "exception": false,
     "start_time": "2023-12-28T05:44:17.991624",
     "status": "completed"
    },
    "tags": []
   },
   "outputs": [],
   "source": [
    "momepy.mean_nodes(primal, 'global_straightness_centrality')\n",
    "momepy.mean_nodes(primal, 'closeness_clustering_400m')\n",
    "momepy.mean_nodes(primal, 'global_closeness_centrality_primal')\n",
    "momepy.mean_nodes(primal, 'global_betweeness_centrality_vertex')"
   ]
  },
  {
   "cell_type": "code",
   "execution_count": null,
   "id": "ef0dd4e3",
   "metadata": {
    "execution": {
     "iopub.execute_input": "2023-12-28T05:44:18.779626Z",
     "iopub.status.busy": "2023-12-28T05:44:18.779404Z",
     "iopub.status.idle": "2023-12-28T05:44:20.677910Z",
     "shell.execute_reply": "2023-12-28T05:44:20.677444Z"
    },
    "papermill": {
     "duration": 1.979336,
     "end_time": "2023-12-28T05:44:20.684804",
     "exception": false,
     "start_time": "2023-12-28T05:44:18.705468",
     "status": "completed"
    },
    "tags": []
   },
   "outputs": [],
   "source": [
    "primal_gdf = momepy.nx_to_gdf(primal, points=False)\n",
    "\n",
    "f, ax = plt.subplots(figsize=(15, 15))\n",
    "primal_gdf.plot(ax=ax, column='global_straightness_centrality', cmap='Spectral_r', scheme='quantiles', k=15, alpha=0.6)\n",
    "ax.set_axis_off()\n",
    "ax.set_title('straightness')\n",
    "plt.show()"
   ]
  },
  {
   "cell_type": "code",
   "execution_count": null,
   "id": "405756e7",
   "metadata": {
    "execution": {
     "iopub.execute_input": "2023-12-28T05:44:20.846917Z",
     "iopub.status.busy": "2023-12-28T05:44:20.846614Z",
     "iopub.status.idle": "2023-12-28T05:44:22.416045Z",
     "shell.execute_reply": "2023-12-28T05:44:22.415617Z"
    },
    "papermill": {
     "duration": 1.658344,
     "end_time": "2023-12-28T05:44:22.424115",
     "exception": false,
     "start_time": "2023-12-28T05:44:20.765771",
     "status": "completed"
    },
    "tags": []
   },
   "outputs": [],
   "source": [
    "f, ax = plt.subplots(figsize=(15, 15))\n",
    "primal_gdf.plot(ax=ax, column='closeness_clustering_400m', cmap='Spectral_r', scheme='quantiles', k=15, alpha=0.6)\n",
    "ax.set_axis_off()\n",
    "ax.set_title('closeness400 node based mean')\n",
    "plt.show()"
   ]
  },
  {
   "cell_type": "code",
   "execution_count": null,
   "id": "6f114d6b",
   "metadata": {
    "execution": {
     "iopub.execute_input": "2023-12-28T05:44:22.606796Z",
     "iopub.status.busy": "2023-12-28T05:44:22.606550Z",
     "iopub.status.idle": "2023-12-28T05:44:24.231255Z",
     "shell.execute_reply": "2023-12-28T05:44:24.230816Z"
    },
    "papermill": {
     "duration": 1.723388,
     "end_time": "2023-12-28T05:44:24.238113",
     "exception": false,
     "start_time": "2023-12-28T05:44:22.514725",
     "status": "completed"
    },
    "tags": []
   },
   "outputs": [],
   "source": [
    "f, ax = plt.subplots(figsize=(15, 15))\n",
    "primal_gdf.plot(ax=ax, column='global_closeness_centrality_primal', cmap='Spectral_r', scheme='quantiles', k=15, alpha=0.6)\n",
    "ax.set_axis_off()\n",
    "ax.set_title('closeness global node based mean')\n",
    "plt.show()"
   ]
  },
  {
   "cell_type": "code",
   "execution_count": null,
   "id": "efb89119",
   "metadata": {
    "execution": {
     "iopub.execute_input": "2023-12-28T05:44:24.436847Z",
     "iopub.status.busy": "2023-12-28T05:44:24.436606Z",
     "iopub.status.idle": "2023-12-28T05:44:26.054933Z",
     "shell.execute_reply": "2023-12-28T05:44:26.054499Z"
    },
    "papermill": {
     "duration": 1.725733,
     "end_time": "2023-12-28T05:44:26.062430",
     "exception": false,
     "start_time": "2023-12-28T05:44:24.336697",
     "status": "completed"
    },
    "tags": []
   },
   "outputs": [],
   "source": [
    "f, ax = plt.subplots(figsize=(15, 15))\n",
    "primal_gdf.plot(ax=ax, column='global_betweeness_centrality_vertex', cmap='Spectral_r', scheme='quantiles', k=15, alpha=0.6)\n",
    "ax.set_axis_off()\n",
    "ax.set_title('betweennes node based mean')\n",
    "plt.show()"
   ]
  },
  {
   "cell_type": "code",
   "execution_count": null,
   "id": "b4af04d3",
   "metadata": {
    "execution": {
     "iopub.execute_input": "2023-12-28T05:44:26.280391Z",
     "iopub.status.busy": "2023-12-28T05:44:26.279657Z",
     "iopub.status.idle": "2023-12-28T05:44:26.284499Z",
     "shell.execute_reply": "2023-12-28T05:44:26.284128Z"
    },
    "papermill": {
     "duration": 0.116087,
     "end_time": "2023-12-28T05:44:26.285993",
     "exception": false,
     "start_time": "2023-12-28T05:44:26.169906",
     "status": "completed"
    },
    "tags": []
   },
   "outputs": [],
   "source": [
    "edges[\"global_straightness_centrality\"] = primal_gdf[\"global_straightness_centrality\"]\n",
    "edges[\"closeness_clustering_400m\"] = primal_gdf[\"closeness_clustering_400m\"]\n",
    "edges[\"global_closeness_centrality_primal\t\"] = primal_gdf[\"global_closeness_centrality_primal\"]\n",
    "edges[\"global_betweeness_centrality_vertex\"] = primal_gdf[\"global_betweeness_centrality_vertex\"]"
   ]
  },
  {
   "cell_type": "code",
   "execution_count": null,
   "id": "1e915703",
   "metadata": {
    "execution": {
     "iopub.execute_input": "2023-12-28T05:44:26.502711Z",
     "iopub.status.busy": "2023-12-28T05:44:26.502505Z",
     "iopub.status.idle": "2023-12-28T05:44:26.518465Z",
     "shell.execute_reply": "2023-12-28T05:44:26.518099Z"
    },
    "papermill": {
     "duration": 0.126018,
     "end_time": "2023-12-28T05:44:26.519872",
     "exception": false,
     "start_time": "2023-12-28T05:44:26.393854",
     "status": "completed"
    },
    "tags": []
   },
   "outputs": [],
   "source": [
    "edges"
   ]
  },
  {
   "cell_type": "markdown",
   "id": "10e45526",
   "metadata": {
    "papermill": {
     "duration": 0.107228,
     "end_time": "2023-12-28T05:44:26.734437",
     "exception": false,
     "start_time": "2023-12-28T05:44:26.627209",
     "status": "completed"
    },
    "tags": []
   },
   "source": [
    "Once we have finished our network analysis on the primal graph, we can save both nodes and edges back to GeoDataFrames."
   ]
  },
  {
   "cell_type": "markdown",
   "id": "3e25c50d",
   "metadata": {
    "papermill": {
     "duration": 0.10463,
     "end_time": "2023-12-28T05:44:26.946387",
     "exception": false,
     "start_time": "2023-12-28T05:44:26.841757",
     "status": "completed"
    },
    "tags": []
   },
   "source": [
    "### Topological vs metric distances\n",
    "\n",
    "Centrality can be measured topologically (ignoring physical lengths of street segments) or metrically. Moreover, in the case of local centrality, local subgraphs can be also defined topologically and metrically. In the end, you have four options of how to measure centralilty, illustrated on `betweenness_centrality`:\n",
    "\n",
    "```py\n",
    "# topologically defined subgraph (5 steps) and topologically measured shortest path\n",
    "betweenness_centrality(graph, radius=5, distance=None, weight=None)\n",
    "\n",
    "# topologically defined subgraph (5 steps) and metrically measured shortest path\n",
    "betweenness_centrality(graph, radius=5, distance=None, weight='edge_length')\n",
    "\n",
    "# metrically defined subgraph (800 meters) and topologically measured shortest path\n",
    "betweenness_centrality(graph, radius=800, distance='edge_length', weight=None)\n",
    "\n",
    "# metrically defined subgraph (800 meters) and metrically measured shortest path\n",
    "betweenness_centrality(graph, radius=800, distance='edge_length', weight='edge_length')\n",
    "```"
   ]
  },
  {
   "cell_type": "markdown",
   "id": "5f91f0f2",
   "metadata": {
    "papermill": {
     "duration": 0.107683,
     "end_time": "2023-12-28T05:44:27.160458",
     "exception": false,
     "start_time": "2023-12-28T05:44:27.052775",
     "status": "completed"
    },
    "tags": []
   },
   "source": [
    "## Dual graph\n",
    "\n",
    "Dual graph is a bit more complicated concept as it represents street segments as nodes with intersections as edges connecting nodes. The geographical distance is lost as edges are of virtually no length, but we can capture the angle between connected streets. Momepy does that by default, using angles between lines connecting the start and end points of each segment. Hence, we can measure angular centrality."
   ]
  },
  {
   "cell_type": "markdown",
   "id": "eaf0977d",
   "metadata": {
    "papermill": {
     "duration": 0.107467,
     "end_time": "2023-12-28T05:44:27.376022",
     "exception": false,
     "start_time": "2023-12-28T05:44:27.268555",
     "status": "completed"
    },
    "tags": []
   },
   "source": [
    "**Note**: Dual graphs have naturally much more connections than primal ones, so computation of centrality on dual graph takes longer."
   ]
  },
  {
   "cell_type": "code",
   "execution_count": null,
   "id": "b82c2ed1",
   "metadata": {
    "execution": {
     "iopub.execute_input": "2023-12-28T05:44:27.591391Z",
     "iopub.status.busy": "2023-12-28T05:44:27.591149Z",
     "iopub.status.idle": "2023-12-28T05:44:47.952612Z",
     "shell.execute_reply": "2023-12-28T05:44:47.952031Z"
    },
    "papermill": {
     "duration": 20.471244,
     "end_time": "2023-12-28T05:44:47.954457",
     "exception": false,
     "start_time": "2023-12-28T05:44:27.483213",
     "status": "completed"
    },
    "tags": []
   },
   "outputs": [],
   "source": [
    "dual = momepy.gdf_to_nx(edges, approach='dual')"
   ]
  },
  {
   "cell_type": "markdown",
   "id": "bff32a45",
   "metadata": {
    "papermill": {
     "duration": 0.10845,
     "end_time": "2023-12-28T05:44:48.172093",
     "exception": false,
     "start_time": "2023-12-28T05:44:48.063643",
     "status": "completed"
    },
    "tags": []
   },
   "source": [
    "### Angular closeness\n",
    "\n",
    "The situation with closeness is similar to the one done on primal graphs. We can again do global and local closeness.\n",
    "\n",
    "#### Local\n",
    "The difference is that we do not have geographic distance, so we can limit closeness topologically or by another attribute (line angle). The example below uses a topological distance of 5 steps."
   ]
  },
  {
   "cell_type": "code",
   "execution_count": null,
   "id": "4cdd0ee1",
   "metadata": {
    "execution": {
     "iopub.execute_input": "2023-12-28T05:44:48.388378Z",
     "iopub.status.busy": "2023-12-28T05:44:48.388126Z",
     "iopub.status.idle": "2023-12-28T05:45:50.519651Z",
     "shell.execute_reply": "2023-12-28T05:45:50.518785Z"
    },
    "papermill": {
     "duration": 62.24122,
     "end_time": "2023-12-28T05:45:50.520803",
     "exception": false,
     "start_time": "2023-12-28T05:44:48.279583",
     "status": "completed"
    },
    "tags": []
   },
   "outputs": [],
   "source": [
    "closeness_dual = momepy.closeness_centrality(dual, radius=5, name='angular_closeness_order_5', weight='angle')\n",
    "\n",
    "dual_gdf = momepy.nx_to_gdf(closeness_dual, points=False)\n"
   ]
  },
  {
   "cell_type": "code",
   "execution_count": null,
   "id": "bb83f5c8",
   "metadata": {},
   "outputs": [],
   "source": [
    "\n",
    "edges['angular_closeness_order_5'] = dual_gdf['angular_closeness_order_5']\n",
    "\n",
    "\n",
    "f, ax = plt.subplots(figsize=(15, 15))\n",
    "dual_gdf.plot(ax=ax, column='angular_closeness_order_5', cmap='Spectral_r', scheme='quantiles', k=15, alpha=0.6)\n",
    "ax.set_axis_off()\n",
    "ax.set_title('closeness angular 5')\n",
    "plt.show()"
   ]
  },
  {
   "cell_type": "markdown",
   "id": "34c45109",
   "metadata": {
    "papermill": {
     "duration": 0.116688,
     "end_time": "2023-12-28T05:45:53.010037",
     "exception": false,
     "start_time": "2023-12-28T05:45:52.893349",
     "status": "completed"
    },
    "tags": []
   },
   "source": [
    "#### Global\n",
    "\n",
    "Global angular closeness is then straightforward."
   ]
  },
  {
   "cell_type": "code",
   "execution_count": null,
   "id": "7a60f09b",
   "metadata": {
    "execution": {
     "iopub.execute_input": "2023-12-28T05:45:53.244692Z",
     "iopub.status.busy": "2023-12-28T05:45:53.244435Z",
     "iopub.status.idle": "2023-12-28T05:46:17.435749Z",
     "shell.execute_reply": "2023-12-28T05:46:17.433795Z"
    },
    "papermill": {
     "duration": 24.311338,
     "end_time": "2023-12-28T05:46:17.437385",
     "exception": false,
     "start_time": "2023-12-28T05:45:53.126047",
     "status": "completed"
    },
    "tags": []
   },
   "outputs": [],
   "source": [
    "gtG = nx2gt(dual)\n",
    "\n",
    "g = gt.GraphView(gtG)\n",
    "angle = gtG.edge_properties[\"angle\"]\n",
    "vp = gt.closeness(g, weight = angle)\n",
    "\n",
    "vertex_val = vp.get_array()\n"
   ]
  },
  {
   "cell_type": "code",
   "execution_count": null,
   "id": "5617da76",
   "metadata": {
    "execution": {
     "iopub.execute_input": "2023-12-28T05:46:17.673546Z",
     "iopub.status.busy": "2023-12-28T05:46:17.673308Z",
     "iopub.status.idle": "2023-12-28T05:46:20.533680Z",
     "shell.execute_reply": "2023-12-28T05:46:20.532835Z"
    },
    "papermill": {
     "duration": 2.979754,
     "end_time": "2023-12-28T05:46:20.534744",
     "exception": true,
     "start_time": "2023-12-28T05:46:17.554990",
     "status": "failed"
    },
    "tags": []
   },
   "outputs": [],
   "source": [
    "edges['global_angular_closeness'] = vertex_val"
   ]
  },
  {
   "cell_type": "code",
   "execution_count": null,
   "id": "683f9ac1",
   "metadata": {
    "papermill": {
     "duration": null,
     "end_time": null,
     "exception": null,
     "start_time": null,
     "status": "pending"
    },
    "tags": []
   },
   "outputs": [],
   "source": [
    "dual_gdf = momepy.nx_to_gdf(dual, points=False)\n",
    "f, ax = plt.subplots(figsize=(15, 15))\n",
    "edges.plot(ax=ax, column='global_angular_closeness', cmap='Spectral_r', scheme='quantiles', k=15, alpha=0.6)\n",
    "ax.set_axis_off()\n",
    "ax.set_title('global_angular_closeness')\n",
    "plt.show()"
   ]
  },
  {
   "cell_type": "markdown",
   "id": "3b408ab4",
   "metadata": {
    "papermill": {
     "duration": null,
     "end_time": null,
     "exception": null,
     "start_time": null,
     "status": "pending"
    },
    "tags": []
   },
   "source": [
    "### Angular betweenness\n",
    "The last option momepy offers is angular betweenness. Just keep in mind, that nodes and edges are not representing the same concepts and it does not make much sense to measure angular betweenness on edges. Moreover, `nx_to_gdf` converts a dual graph to a LineString gdf only."
   ]
  },
  {
   "cell_type": "code",
   "execution_count": null,
   "id": "e781aaad",
   "metadata": {
    "papermill": {
     "duration": null,
     "end_time": null,
     "exception": null,
     "start_time": null,
     "status": "pending"
    },
    "tags": []
   },
   "outputs": [],
   "source": [
    "angle = gtG.edge_properties[\"angle\"]\n",
    "ep, vp = gt.betweenness(g, weight = angle)\n",
    "\n",
    "edges_val = ep.get_array()"
   ]
  },
  {
   "cell_type": "code",
   "execution_count": null,
   "id": "05252a1e",
   "metadata": {
    "papermill": {
     "duration": null,
     "end_time": null,
     "exception": null,
     "start_time": null,
     "status": "pending"
    },
    "tags": []
   },
   "outputs": [],
   "source": [
    "edges[\"global_angular_betweeness\"] = edges_val"
   ]
  },
  {
   "cell_type": "code",
   "execution_count": null,
   "id": "c40f7ae8",
   "metadata": {
    "papermill": {
     "duration": null,
     "end_time": null,
     "exception": null,
     "start_time": null,
     "status": "pending"
    },
    "tags": []
   },
   "outputs": [],
   "source": [
    "df, ax = plt.subplots(figsize=(15, 15))\n",
    "edges.plot(ax=ax, column=\"global_angular_betweeness\", cmap='Spectral_r', scheme='quantiles', k=15, alpha=0.6)\n",
    "ax.set_axis_off()\n",
    "ax.set_title('betweenness angular')\n",
    "plt.show()"
   ]
  },
  {
   "cell_type": "code",
   "execution_count": null,
   "id": "02a6b539",
   "metadata": {
    "papermill": {
     "duration": null,
     "end_time": null,
     "exception": null,
     "start_time": null,
     "status": "pending"
    },
    "tags": []
   },
   "outputs": [],
   "source": [
    "edges.to_parquet(f\"output/{place}_OS/edges_p4.pq\")\n",
    "nodes.to_parquet(f\"output/{place}_OS/nodes_p4.pq\")"
   ]
  },
  {
   "cell_type": "code",
   "execution_count": null,
   "id": "47bebc35",
   "metadata": {
    "papermill": {
     "duration": null,
     "end_time": null,
     "exception": null,
     "start_time": null,
     "status": "pending"
    },
    "tags": []
   },
   "outputs": [],
   "source": []
  }
 ],
 "metadata": {
  "kernelspec": {
   "display_name": "processor",
   "language": "python",
   "name": "python3"
  },
  "language_info": {
   "codemirror_mode": {
    "name": "ipython",
    "version": 3
   },
   "file_extension": ".py",
   "mimetype": "text/x-python",
   "name": "python",
   "nbconvert_exporter": "python",
   "pygments_lexer": "ipython3",
   "version": "3.12.0"
  },
  "papermill": {
   "default_parameters": {},
   "duration": 9106.240521,
   "end_time": "2023-12-28T05:46:23.278477",
   "environment_variables": {},
   "exception": true,
   "input_path": "4_network.ipynb",
   "output_path": "output/Milton_Keynes/Milton_Keynes_4_network.ipynb",
   "parameters": {
    "country": "UK",
    "crs": 4326,
    "lat": 52.04,
    "lng": -0.76,
    "local_crs": 27700,
    "place": "Milton_Keynes",
    "radius": 20
   },
   "start_time": "2023-12-28T03:14:37.037956",
   "version": "2.4.0"
  },
  "widgets": {
   "application/vnd.jupyter.widget-state+json": {
    "state": {
     "04fe42f3113142bf87a9e008381b5985": {
      "model_module": "@jupyter-widgets/controls",
      "model_module_version": "2.0.0",
      "model_name": "HTMLStyleModel",
      "state": {
       "_model_module": "@jupyter-widgets/controls",
       "_model_module_version": "2.0.0",
       "_model_name": "HTMLStyleModel",
       "_view_count": null,
       "_view_module": "@jupyter-widgets/base",
       "_view_module_version": "2.0.0",
       "_view_name": "StyleView",
       "background": null,
       "description_width": "",
       "font_size": null,
       "text_color": null
      }
     },
     "1166a6bf8ddb4417a46f300afbe6a8e1": {
      "model_module": "@jupyter-widgets/controls",
      "model_module_version": "2.0.0",
      "model_name": "FloatProgressModel",
      "state": {
       "_dom_classes": [],
       "_model_module": "@jupyter-widgets/controls",
       "_model_module_version": "2.0.0",
       "_model_name": "FloatProgressModel",
       "_view_count": null,
       "_view_module": "@jupyter-widgets/controls",
       "_view_module_version": "2.0.0",
       "_view_name": "ProgressView",
       "bar_style": "success",
       "description": "",
       "description_allow_html": false,
       "layout": "IPY_MODEL_3ff10658ef494aed94454e1c85022858",
       "max": 45675,
       "min": 0,
       "orientation": "horizontal",
       "style": "IPY_MODEL_a748c7af615f429e97a768cd0fcc4ab8",
       "tabbable": null,
       "tooltip": null,
       "value": 45675
      }
     },
     "1cf405a20c0f4e60b5ca6fdf7fda9b01": {
      "model_module": "@jupyter-widgets/controls",
      "model_module_version": "2.0.0",
      "model_name": "HTMLModel",
      "state": {
       "_dom_classes": [],
       "_model_module": "@jupyter-widgets/controls",
       "_model_module_version": "2.0.0",
       "_model_name": "HTMLModel",
       "_view_count": null,
       "_view_module": "@jupyter-widgets/controls",
       "_view_module_version": "2.0.0",
       "_view_name": "HTMLView",
       "description": "",
       "description_allow_html": false,
       "layout": "IPY_MODEL_1f0e07c047034b769ac2975ff6bfdd15",
       "placeholder": "​",
       "style": "IPY_MODEL_b1fa9eeef6074c3d9451aa989189f1d8",
       "tabbable": null,
       "tooltip": null,
       "value": "100%"
      }
     },
     "1f0e07c047034b769ac2975ff6bfdd15": {
      "model_module": "@jupyter-widgets/base",
      "model_module_version": "2.0.0",
      "model_name": "LayoutModel",
      "state": {
       "_model_module": "@jupyter-widgets/base",
       "_model_module_version": "2.0.0",
       "_model_name": "LayoutModel",
       "_view_count": null,
       "_view_module": "@jupyter-widgets/base",
       "_view_module_version": "2.0.0",
       "_view_name": "LayoutView",
       "align_content": null,
       "align_items": null,
       "align_self": null,
       "border_bottom": null,
       "border_left": null,
       "border_right": null,
       "border_top": null,
       "bottom": null,
       "display": null,
       "flex": null,
       "flex_flow": null,
       "grid_area": null,
       "grid_auto_columns": null,
       "grid_auto_flow": null,
       "grid_auto_rows": null,
       "grid_column": null,
       "grid_gap": null,
       "grid_row": null,
       "grid_template_areas": null,
       "grid_template_columns": null,
       "grid_template_rows": null,
       "height": null,
       "justify_content": null,
       "justify_items": null,
       "left": null,
       "margin": null,
       "max_height": null,
       "max_width": null,
       "min_height": null,
       "min_width": null,
       "object_fit": null,
       "object_position": null,
       "order": null,
       "overflow": null,
       "padding": null,
       "right": null,
       "top": null,
       "visibility": null,
       "width": null
      }
     },
     "22901d9a6cac42a0869313392cc161c5": {
      "model_module": "@jupyter-widgets/base",
      "model_module_version": "2.0.0",
      "model_name": "LayoutModel",
      "state": {
       "_model_module": "@jupyter-widgets/base",
       "_model_module_version": "2.0.0",
       "_model_name": "LayoutModel",
       "_view_count": null,
       "_view_module": "@jupyter-widgets/base",
       "_view_module_version": "2.0.0",
       "_view_name": "LayoutView",
       "align_content": null,
       "align_items": null,
       "align_self": null,
       "border_bottom": null,
       "border_left": null,
       "border_right": null,
       "border_top": null,
       "bottom": null,
       "display": null,
       "flex": null,
       "flex_flow": null,
       "grid_area": null,
       "grid_auto_columns": null,
       "grid_auto_flow": null,
       "grid_auto_rows": null,
       "grid_column": null,
       "grid_gap": null,
       "grid_row": null,
       "grid_template_areas": null,
       "grid_template_columns": null,
       "grid_template_rows": null,
       "height": null,
       "justify_content": null,
       "justify_items": null,
       "left": null,
       "margin": null,
       "max_height": null,
       "max_width": null,
       "min_height": null,
       "min_width": null,
       "object_fit": null,
       "object_position": null,
       "order": null,
       "overflow": null,
       "padding": null,
       "right": null,
       "top": null,
       "visibility": null,
       "width": null
      }
     },
     "23065b5bfaec4436869a2d5d40c789e4": {
      "model_module": "@jupyter-widgets/controls",
      "model_module_version": "2.0.0",
      "model_name": "HTMLModel",
      "state": {
       "_dom_classes": [],
       "_model_module": "@jupyter-widgets/controls",
       "_model_module_version": "2.0.0",
       "_model_name": "HTMLModel",
       "_view_count": null,
       "_view_module": "@jupyter-widgets/controls",
       "_view_module_version": "2.0.0",
       "_view_name": "HTMLView",
       "description": "",
       "description_allow_html": false,
       "layout": "IPY_MODEL_b95d3192ff4941bd8f9a5ff3d0e4d337",
       "placeholder": "​",
       "style": "IPY_MODEL_57a00adf702e416fa1f6b5bcc94af8dd",
       "tabbable": null,
       "tooltip": null,
       "value": " 45675/45675 [00:27&lt;00:00, 2408.67it/s]"
      }
     },
     "272ce707bc6140c6b21bbffa2840eb01": {
      "model_module": "@jupyter-widgets/controls",
      "model_module_version": "2.0.0",
      "model_name": "HTMLModel",
      "state": {
       "_dom_classes": [],
       "_model_module": "@jupyter-widgets/controls",
       "_model_module_version": "2.0.0",
       "_model_name": "HTMLModel",
       "_view_count": null,
       "_view_module": "@jupyter-widgets/controls",
       "_view_module_version": "2.0.0",
       "_view_name": "HTMLView",
       "description": "",
       "description_allow_html": false,
       "layout": "IPY_MODEL_7a825482410e4112991b2130b7564b4c",
       "placeholder": "​",
       "style": "IPY_MODEL_04fe42f3113142bf87a9e008381b5985",
       "tabbable": null,
       "tooltip": null,
       "value": "100%"
      }
     },
     "28899d8924b24f0a8ee9ec220728bca0": {
      "model_module": "@jupyter-widgets/base",
      "model_module_version": "2.0.0",
      "model_name": "LayoutModel",
      "state": {
       "_model_module": "@jupyter-widgets/base",
       "_model_module_version": "2.0.0",
       "_model_name": "LayoutModel",
       "_view_count": null,
       "_view_module": "@jupyter-widgets/base",
       "_view_module_version": "2.0.0",
       "_view_name": "LayoutView",
       "align_content": null,
       "align_items": null,
       "align_self": null,
       "border_bottom": null,
       "border_left": null,
       "border_right": null,
       "border_top": null,
       "bottom": null,
       "display": null,
       "flex": null,
       "flex_flow": null,
       "grid_area": null,
       "grid_auto_columns": null,
       "grid_auto_flow": null,
       "grid_auto_rows": null,
       "grid_column": null,
       "grid_gap": null,
       "grid_row": null,
       "grid_template_areas": null,
       "grid_template_columns": null,
       "grid_template_rows": null,
       "height": null,
       "justify_content": null,
       "justify_items": null,
       "left": null,
       "margin": null,
       "max_height": null,
       "max_width": null,
       "min_height": null,
       "min_width": null,
       "object_fit": null,
       "object_position": null,
       "order": null,
       "overflow": null,
       "padding": null,
       "right": null,
       "top": null,
       "visibility": null,
       "width": null
      }
     },
     "29922e3a39374fd3beb939a006d82bdf": {
      "model_module": "@jupyter-widgets/controls",
      "model_module_version": "2.0.0",
      "model_name": "FloatProgressModel",
      "state": {
       "_dom_classes": [],
       "_model_module": "@jupyter-widgets/controls",
       "_model_module_version": "2.0.0",
       "_model_name": "FloatProgressModel",
       "_view_count": null,
       "_view_module": "@jupyter-widgets/controls",
       "_view_module_version": "2.0.0",
       "_view_name": "ProgressView",
       "bar_style": "success",
       "description": "",
       "description_allow_html": false,
       "layout": "IPY_MODEL_22901d9a6cac42a0869313392cc161c5",
       "max": 45675,
       "min": 0,
       "orientation": "horizontal",
       "style": "IPY_MODEL_36e301a1684045dfa4c1e6b6215547ff",
       "tabbable": null,
       "tooltip": null,
       "value": 45675
      }
     },
     "3310709e61664ebcafa200a649d452b4": {
      "model_module": "@jupyter-widgets/controls",
      "model_module_version": "2.0.0",
      "model_name": "HTMLModel",
      "state": {
       "_dom_classes": [],
       "_model_module": "@jupyter-widgets/controls",
       "_model_module_version": "2.0.0",
       "_model_name": "HTMLModel",
       "_view_count": null,
       "_view_module": "@jupyter-widgets/controls",
       "_view_module_version": "2.0.0",
       "_view_name": "HTMLView",
       "description": "",
       "description_allow_html": false,
       "layout": "IPY_MODEL_7cd9781986cf421d815e0d5fd49cc5cd",
       "placeholder": "​",
       "style": "IPY_MODEL_3a6b9f866efd4d1ab08219aebba1068f",
       "tabbable": null,
       "tooltip": null,
       "value": " 45675/45675 [00:34&lt;00:00, 1767.45it/s]"
      }
     },
     "348e97d1de1147949130e1b21154a151": {
      "model_module": "@jupyter-widgets/base",
      "model_module_version": "2.0.0",
      "model_name": "LayoutModel",
      "state": {
       "_model_module": "@jupyter-widgets/base",
       "_model_module_version": "2.0.0",
       "_model_name": "LayoutModel",
       "_view_count": null,
       "_view_module": "@jupyter-widgets/base",
       "_view_module_version": "2.0.0",
       "_view_name": "LayoutView",
       "align_content": null,
       "align_items": null,
       "align_self": null,
       "border_bottom": null,
       "border_left": null,
       "border_right": null,
       "border_top": null,
       "bottom": null,
       "display": null,
       "flex": null,
       "flex_flow": null,
       "grid_area": null,
       "grid_auto_columns": null,
       "grid_auto_flow": null,
       "grid_auto_rows": null,
       "grid_column": null,
       "grid_gap": null,
       "grid_row": null,
       "grid_template_areas": null,
       "grid_template_columns": null,
       "grid_template_rows": null,
       "height": null,
       "justify_content": null,
       "justify_items": null,
       "left": null,
       "margin": null,
       "max_height": null,
       "max_width": null,
       "min_height": null,
       "min_width": null,
       "object_fit": null,
       "object_position": null,
       "order": null,
       "overflow": null,
       "padding": null,
       "right": null,
       "top": null,
       "visibility": null,
       "width": null
      }
     },
     "36e301a1684045dfa4c1e6b6215547ff": {
      "model_module": "@jupyter-widgets/controls",
      "model_module_version": "2.0.0",
      "model_name": "ProgressStyleModel",
      "state": {
       "_model_module": "@jupyter-widgets/controls",
       "_model_module_version": "2.0.0",
       "_model_name": "ProgressStyleModel",
       "_view_count": null,
       "_view_module": "@jupyter-widgets/base",
       "_view_module_version": "2.0.0",
       "_view_name": "StyleView",
       "bar_color": null,
       "description_width": ""
      }
     },
     "3a6b9f866efd4d1ab08219aebba1068f": {
      "model_module": "@jupyter-widgets/controls",
      "model_module_version": "2.0.0",
      "model_name": "HTMLStyleModel",
      "state": {
       "_model_module": "@jupyter-widgets/controls",
       "_model_module_version": "2.0.0",
       "_model_name": "HTMLStyleModel",
       "_view_count": null,
       "_view_module": "@jupyter-widgets/base",
       "_view_module_version": "2.0.0",
       "_view_name": "StyleView",
       "background": null,
       "description_width": "",
       "font_size": null,
       "text_color": null
      }
     },
     "3d600e237864489294922395fb7ccf27": {
      "model_module": "@jupyter-widgets/controls",
      "model_module_version": "2.0.0",
      "model_name": "ProgressStyleModel",
      "state": {
       "_model_module": "@jupyter-widgets/controls",
       "_model_module_version": "2.0.0",
       "_model_name": "ProgressStyleModel",
       "_view_count": null,
       "_view_module": "@jupyter-widgets/base",
       "_view_module_version": "2.0.0",
       "_view_name": "StyleView",
       "bar_color": null,
       "description_width": ""
      }
     },
     "3ff10658ef494aed94454e1c85022858": {
      "model_module": "@jupyter-widgets/base",
      "model_module_version": "2.0.0",
      "model_name": "LayoutModel",
      "state": {
       "_model_module": "@jupyter-widgets/base",
       "_model_module_version": "2.0.0",
       "_model_name": "LayoutModel",
       "_view_count": null,
       "_view_module": "@jupyter-widgets/base",
       "_view_module_version": "2.0.0",
       "_view_name": "LayoutView",
       "align_content": null,
       "align_items": null,
       "align_self": null,
       "border_bottom": null,
       "border_left": null,
       "border_right": null,
       "border_top": null,
       "bottom": null,
       "display": null,
       "flex": null,
       "flex_flow": null,
       "grid_area": null,
       "grid_auto_columns": null,
       "grid_auto_flow": null,
       "grid_auto_rows": null,
       "grid_column": null,
       "grid_gap": null,
       "grid_row": null,
       "grid_template_areas": null,
       "grid_template_columns": null,
       "grid_template_rows": null,
       "height": null,
       "justify_content": null,
       "justify_items": null,
       "left": null,
       "margin": null,
       "max_height": null,
       "max_width": null,
       "min_height": null,
       "min_width": null,
       "object_fit": null,
       "object_position": null,
       "order": null,
       "overflow": null,
       "padding": null,
       "right": null,
       "top": null,
       "visibility": null,
       "width": null
      }
     },
     "40e6af1f182148c08ecf7fcc18713ddf": {
      "model_module": "@jupyter-widgets/base",
      "model_module_version": "2.0.0",
      "model_name": "LayoutModel",
      "state": {
       "_model_module": "@jupyter-widgets/base",
       "_model_module_version": "2.0.0",
       "_model_name": "LayoutModel",
       "_view_count": null,
       "_view_module": "@jupyter-widgets/base",
       "_view_module_version": "2.0.0",
       "_view_name": "LayoutView",
       "align_content": null,
       "align_items": null,
       "align_self": null,
       "border_bottom": null,
       "border_left": null,
       "border_right": null,
       "border_top": null,
       "bottom": null,
       "display": null,
       "flex": null,
       "flex_flow": null,
       "grid_area": null,
       "grid_auto_columns": null,
       "grid_auto_flow": null,
       "grid_auto_rows": null,
       "grid_column": null,
       "grid_gap": null,
       "grid_row": null,
       "grid_template_areas": null,
       "grid_template_columns": null,
       "grid_template_rows": null,
       "height": null,
       "justify_content": null,
       "justify_items": null,
       "left": null,
       "margin": null,
       "max_height": null,
       "max_width": null,
       "min_height": null,
       "min_width": null,
       "object_fit": null,
       "object_position": null,
       "order": null,
       "overflow": null,
       "padding": null,
       "right": null,
       "top": null,
       "visibility": null,
       "width": null
      }
     },
     "535f8ebd2205438b965bd650eb4def5a": {
      "model_module": "@jupyter-widgets/controls",
      "model_module_version": "2.0.0",
      "model_name": "HBoxModel",
      "state": {
       "_dom_classes": [],
       "_model_module": "@jupyter-widgets/controls",
       "_model_module_version": "2.0.0",
       "_model_name": "HBoxModel",
       "_view_count": null,
       "_view_module": "@jupyter-widgets/controls",
       "_view_module_version": "2.0.0",
       "_view_name": "HBoxView",
       "box_style": "",
       "children": [
        "IPY_MODEL_bd5b511ce9cc4addb9cb9836772edaeb",
        "IPY_MODEL_ad183aef291a47cdb6691473a98226f8",
        "IPY_MODEL_3310709e61664ebcafa200a649d452b4"
       ],
       "layout": "IPY_MODEL_e5fd58c85cab40b59632eeb327c4dbdb",
       "tabbable": null,
       "tooltip": null
      }
     },
     "56d298da11864e40a1bceaedecdf579a": {
      "model_module": "@jupyter-widgets/controls",
      "model_module_version": "2.0.0",
      "model_name": "HTMLStyleModel",
      "state": {
       "_model_module": "@jupyter-widgets/controls",
       "_model_module_version": "2.0.0",
       "_model_name": "HTMLStyleModel",
       "_view_count": null,
       "_view_module": "@jupyter-widgets/base",
       "_view_module_version": "2.0.0",
       "_view_name": "StyleView",
       "background": null,
       "description_width": "",
       "font_size": null,
       "text_color": null
      }
     },
     "57a00adf702e416fa1f6b5bcc94af8dd": {
      "model_module": "@jupyter-widgets/controls",
      "model_module_version": "2.0.0",
      "model_name": "HTMLStyleModel",
      "state": {
       "_model_module": "@jupyter-widgets/controls",
       "_model_module_version": "2.0.0",
       "_model_name": "HTMLStyleModel",
       "_view_count": null,
       "_view_module": "@jupyter-widgets/base",
       "_view_module_version": "2.0.0",
       "_view_name": "StyleView",
       "background": null,
       "description_width": "",
       "font_size": null,
       "text_color": null
      }
     },
     "5fe39f7d796a4b8ab71db63496a00a9d": {
      "model_module": "@jupyter-widgets/base",
      "model_module_version": "2.0.0",
      "model_name": "LayoutModel",
      "state": {
       "_model_module": "@jupyter-widgets/base",
       "_model_module_version": "2.0.0",
       "_model_name": "LayoutModel",
       "_view_count": null,
       "_view_module": "@jupyter-widgets/base",
       "_view_module_version": "2.0.0",
       "_view_name": "LayoutView",
       "align_content": null,
       "align_items": null,
       "align_self": null,
       "border_bottom": null,
       "border_left": null,
       "border_right": null,
       "border_top": null,
       "bottom": null,
       "display": null,
       "flex": null,
       "flex_flow": null,
       "grid_area": null,
       "grid_auto_columns": null,
       "grid_auto_flow": null,
       "grid_auto_rows": null,
       "grid_column": null,
       "grid_gap": null,
       "grid_row": null,
       "grid_template_areas": null,
       "grid_template_columns": null,
       "grid_template_rows": null,
       "height": null,
       "justify_content": null,
       "justify_items": null,
       "left": null,
       "margin": null,
       "max_height": null,
       "max_width": null,
       "min_height": null,
       "min_width": null,
       "object_fit": null,
       "object_position": null,
       "order": null,
       "overflow": null,
       "padding": null,
       "right": null,
       "top": null,
       "visibility": null,
       "width": null
      }
     },
     "6a3c57969eed4728b4b7fde3bc70adc4": {
      "model_module": "@jupyter-widgets/controls",
      "model_module_version": "2.0.0",
      "model_name": "HTMLModel",
      "state": {
       "_dom_classes": [],
       "_model_module": "@jupyter-widgets/controls",
       "_model_module_version": "2.0.0",
       "_model_name": "HTMLModel",
       "_view_count": null,
       "_view_module": "@jupyter-widgets/controls",
       "_view_module_version": "2.0.0",
       "_view_name": "HTMLView",
       "description": "",
       "description_allow_html": false,
       "layout": "IPY_MODEL_e762f8f37c6d40a6912314694867024a",
       "placeholder": "​",
       "style": "IPY_MODEL_efad80ecb92f4002a0f0634a10bc6bf1",
       "tabbable": null,
       "tooltip": null,
       "value": " 52903/52903 [01:01&lt;00:00, 1353.82it/s]"
      }
     },
     "6dc1460ee801485ca3c6292f0f0358dd": {
      "model_module": "@jupyter-widgets/controls",
      "model_module_version": "2.0.0",
      "model_name": "HTMLModel",
      "state": {
       "_dom_classes": [],
       "_model_module": "@jupyter-widgets/controls",
       "_model_module_version": "2.0.0",
       "_model_name": "HTMLModel",
       "_view_count": null,
       "_view_module": "@jupyter-widgets/controls",
       "_view_module_version": "2.0.0",
       "_view_name": "HTMLView",
       "description": "",
       "description_allow_html": false,
       "layout": "IPY_MODEL_40e6af1f182148c08ecf7fcc18713ddf",
       "placeholder": "​",
       "style": "IPY_MODEL_8b44f64e33684162b801341179dbf2f4",
       "tabbable": null,
       "tooltip": null,
       "value": " 45675/45675 [00:47&lt;00:00, 1442.29it/s]"
      }
     },
     "6e218aac7c8d49d4a9140d39c23330ba": {
      "model_module": "@jupyter-widgets/base",
      "model_module_version": "2.0.0",
      "model_name": "LayoutModel",
      "state": {
       "_model_module": "@jupyter-widgets/base",
       "_model_module_version": "2.0.0",
       "_model_name": "LayoutModel",
       "_view_count": null,
       "_view_module": "@jupyter-widgets/base",
       "_view_module_version": "2.0.0",
       "_view_name": "LayoutView",
       "align_content": null,
       "align_items": null,
       "align_self": null,
       "border_bottom": null,
       "border_left": null,
       "border_right": null,
       "border_top": null,
       "bottom": null,
       "display": null,
       "flex": null,
       "flex_flow": null,
       "grid_area": null,
       "grid_auto_columns": null,
       "grid_auto_flow": null,
       "grid_auto_rows": null,
       "grid_column": null,
       "grid_gap": null,
       "grid_row": null,
       "grid_template_areas": null,
       "grid_template_columns": null,
       "grid_template_rows": null,
       "height": null,
       "justify_content": null,
       "justify_items": null,
       "left": null,
       "margin": null,
       "max_height": null,
       "max_width": null,
       "min_height": null,
       "min_width": null,
       "object_fit": null,
       "object_position": null,
       "order": null,
       "overflow": null,
       "padding": null,
       "right": null,
       "top": null,
       "visibility": null,
       "width": null
      }
     },
     "7a825482410e4112991b2130b7564b4c": {
      "model_module": "@jupyter-widgets/base",
      "model_module_version": "2.0.0",
      "model_name": "LayoutModel",
      "state": {
       "_model_module": "@jupyter-widgets/base",
       "_model_module_version": "2.0.0",
       "_model_name": "LayoutModel",
       "_view_count": null,
       "_view_module": "@jupyter-widgets/base",
       "_view_module_version": "2.0.0",
       "_view_name": "LayoutView",
       "align_content": null,
       "align_items": null,
       "align_self": null,
       "border_bottom": null,
       "border_left": null,
       "border_right": null,
       "border_top": null,
       "bottom": null,
       "display": null,
       "flex": null,
       "flex_flow": null,
       "grid_area": null,
       "grid_auto_columns": null,
       "grid_auto_flow": null,
       "grid_auto_rows": null,
       "grid_column": null,
       "grid_gap": null,
       "grid_row": null,
       "grid_template_areas": null,
       "grid_template_columns": null,
       "grid_template_rows": null,
       "height": null,
       "justify_content": null,
       "justify_items": null,
       "left": null,
       "margin": null,
       "max_height": null,
       "max_width": null,
       "min_height": null,
       "min_width": null,
       "object_fit": null,
       "object_position": null,
       "order": null,
       "overflow": null,
       "padding": null,
       "right": null,
       "top": null,
       "visibility": null,
       "width": null
      }
     },
     "7cd9781986cf421d815e0d5fd49cc5cd": {
      "model_module": "@jupyter-widgets/base",
      "model_module_version": "2.0.0",
      "model_name": "LayoutModel",
      "state": {
       "_model_module": "@jupyter-widgets/base",
       "_model_module_version": "2.0.0",
       "_model_name": "LayoutModel",
       "_view_count": null,
       "_view_module": "@jupyter-widgets/base",
       "_view_module_version": "2.0.0",
       "_view_name": "LayoutView",
       "align_content": null,
       "align_items": null,
       "align_self": null,
       "border_bottom": null,
       "border_left": null,
       "border_right": null,
       "border_top": null,
       "bottom": null,
       "display": null,
       "flex": null,
       "flex_flow": null,
       "grid_area": null,
       "grid_auto_columns": null,
       "grid_auto_flow": null,
       "grid_auto_rows": null,
       "grid_column": null,
       "grid_gap": null,
       "grid_row": null,
       "grid_template_areas": null,
       "grid_template_columns": null,
       "grid_template_rows": null,
       "height": null,
       "justify_content": null,
       "justify_items": null,
       "left": null,
       "margin": null,
       "max_height": null,
       "max_width": null,
       "min_height": null,
       "min_width": null,
       "object_fit": null,
       "object_position": null,
       "order": null,
       "overflow": null,
       "padding": null,
       "right": null,
       "top": null,
       "visibility": null,
       "width": null
      }
     },
     "8b44f64e33684162b801341179dbf2f4": {
      "model_module": "@jupyter-widgets/controls",
      "model_module_version": "2.0.0",
      "model_name": "HTMLStyleModel",
      "state": {
       "_model_module": "@jupyter-widgets/controls",
       "_model_module_version": "2.0.0",
       "_model_name": "HTMLStyleModel",
       "_view_count": null,
       "_view_module": "@jupyter-widgets/base",
       "_view_module_version": "2.0.0",
       "_view_name": "StyleView",
       "background": null,
       "description_width": "",
       "font_size": null,
       "text_color": null
      }
     },
     "96eb9ce95a8c410eb20987d3adbb0cdb": {
      "model_module": "@jupyter-widgets/controls",
      "model_module_version": "2.0.0",
      "model_name": "HBoxModel",
      "state": {
       "_dom_classes": [],
       "_model_module": "@jupyter-widgets/controls",
       "_model_module_version": "2.0.0",
       "_model_name": "HBoxModel",
       "_view_count": null,
       "_view_module": "@jupyter-widgets/controls",
       "_view_module_version": "2.0.0",
       "_view_name": "HBoxView",
       "box_style": "",
       "children": [
        "IPY_MODEL_9e80a788b9794069bafda366f1d6390a",
        "IPY_MODEL_1166a6bf8ddb4417a46f300afbe6a8e1",
        "IPY_MODEL_6dc1460ee801485ca3c6292f0f0358dd"
       ],
       "layout": "IPY_MODEL_348e97d1de1147949130e1b21154a151",
       "tabbable": null,
       "tooltip": null
      }
     },
     "9dca453daa3a4210b0e3ff46e043f6fe": {
      "model_module": "@jupyter-widgets/base",
      "model_module_version": "2.0.0",
      "model_name": "LayoutModel",
      "state": {
       "_model_module": "@jupyter-widgets/base",
       "_model_module_version": "2.0.0",
       "_model_name": "LayoutModel",
       "_view_count": null,
       "_view_module": "@jupyter-widgets/base",
       "_view_module_version": "2.0.0",
       "_view_name": "LayoutView",
       "align_content": null,
       "align_items": null,
       "align_self": null,
       "border_bottom": null,
       "border_left": null,
       "border_right": null,
       "border_top": null,
       "bottom": null,
       "display": null,
       "flex": null,
       "flex_flow": null,
       "grid_area": null,
       "grid_auto_columns": null,
       "grid_auto_flow": null,
       "grid_auto_rows": null,
       "grid_column": null,
       "grid_gap": null,
       "grid_row": null,
       "grid_template_areas": null,
       "grid_template_columns": null,
       "grid_template_rows": null,
       "height": null,
       "justify_content": null,
       "justify_items": null,
       "left": null,
       "margin": null,
       "max_height": null,
       "max_width": null,
       "min_height": null,
       "min_width": null,
       "object_fit": null,
       "object_position": null,
       "order": null,
       "overflow": null,
       "padding": null,
       "right": null,
       "top": null,
       "visibility": null,
       "width": null
      }
     },
     "9e80a788b9794069bafda366f1d6390a": {
      "model_module": "@jupyter-widgets/controls",
      "model_module_version": "2.0.0",
      "model_name": "HTMLModel",
      "state": {
       "_dom_classes": [],
       "_model_module": "@jupyter-widgets/controls",
       "_model_module_version": "2.0.0",
       "_model_name": "HTMLModel",
       "_view_count": null,
       "_view_module": "@jupyter-widgets/controls",
       "_view_module_version": "2.0.0",
       "_view_name": "HTMLView",
       "description": "",
       "description_allow_html": false,
       "layout": "IPY_MODEL_9dca453daa3a4210b0e3ff46e043f6fe",
       "placeholder": "​",
       "style": "IPY_MODEL_56d298da11864e40a1bceaedecdf579a",
       "tabbable": null,
       "tooltip": null,
       "value": "100%"
      }
     },
     "a748c7af615f429e97a768cd0fcc4ab8": {
      "model_module": "@jupyter-widgets/controls",
      "model_module_version": "2.0.0",
      "model_name": "ProgressStyleModel",
      "state": {
       "_model_module": "@jupyter-widgets/controls",
       "_model_module_version": "2.0.0",
       "_model_name": "ProgressStyleModel",
       "_view_count": null,
       "_view_module": "@jupyter-widgets/base",
       "_view_module_version": "2.0.0",
       "_view_name": "StyleView",
       "bar_color": null,
       "description_width": ""
      }
     },
     "ad183aef291a47cdb6691473a98226f8": {
      "model_module": "@jupyter-widgets/controls",
      "model_module_version": "2.0.0",
      "model_name": "FloatProgressModel",
      "state": {
       "_dom_classes": [],
       "_model_module": "@jupyter-widgets/controls",
       "_model_module_version": "2.0.0",
       "_model_name": "FloatProgressModel",
       "_view_count": null,
       "_view_module": "@jupyter-widgets/controls",
       "_view_module_version": "2.0.0",
       "_view_name": "ProgressView",
       "bar_style": "success",
       "description": "",
       "description_allow_html": false,
       "layout": "IPY_MODEL_dbe7ef0ca87648dca989fe117cd100e4",
       "max": 45675,
       "min": 0,
       "orientation": "horizontal",
       "style": "IPY_MODEL_3d600e237864489294922395fb7ccf27",
       "tabbable": null,
       "tooltip": null,
       "value": 45675
      }
     },
     "b1fa9eeef6074c3d9451aa989189f1d8": {
      "model_module": "@jupyter-widgets/controls",
      "model_module_version": "2.0.0",
      "model_name": "HTMLStyleModel",
      "state": {
       "_model_module": "@jupyter-widgets/controls",
       "_model_module_version": "2.0.0",
       "_model_name": "HTMLStyleModel",
       "_view_count": null,
       "_view_module": "@jupyter-widgets/base",
       "_view_module_version": "2.0.0",
       "_view_name": "StyleView",
       "background": null,
       "description_width": "",
       "font_size": null,
       "text_color": null
      }
     },
     "b95d3192ff4941bd8f9a5ff3d0e4d337": {
      "model_module": "@jupyter-widgets/base",
      "model_module_version": "2.0.0",
      "model_name": "LayoutModel",
      "state": {
       "_model_module": "@jupyter-widgets/base",
       "_model_module_version": "2.0.0",
       "_model_name": "LayoutModel",
       "_view_count": null,
       "_view_module": "@jupyter-widgets/base",
       "_view_module_version": "2.0.0",
       "_view_name": "LayoutView",
       "align_content": null,
       "align_items": null,
       "align_self": null,
       "border_bottom": null,
       "border_left": null,
       "border_right": null,
       "border_top": null,
       "bottom": null,
       "display": null,
       "flex": null,
       "flex_flow": null,
       "grid_area": null,
       "grid_auto_columns": null,
       "grid_auto_flow": null,
       "grid_auto_rows": null,
       "grid_column": null,
       "grid_gap": null,
       "grid_row": null,
       "grid_template_areas": null,
       "grid_template_columns": null,
       "grid_template_rows": null,
       "height": null,
       "justify_content": null,
       "justify_items": null,
       "left": null,
       "margin": null,
       "max_height": null,
       "max_width": null,
       "min_height": null,
       "min_width": null,
       "object_fit": null,
       "object_position": null,
       "order": null,
       "overflow": null,
       "padding": null,
       "right": null,
       "top": null,
       "visibility": null,
       "width": null
      }
     },
     "b97b87367c72418eb8159788c3be36cb": {
      "model_module": "@jupyter-widgets/controls",
      "model_module_version": "2.0.0",
      "model_name": "ProgressStyleModel",
      "state": {
       "_model_module": "@jupyter-widgets/controls",
       "_model_module_version": "2.0.0",
       "_model_name": "ProgressStyleModel",
       "_view_count": null,
       "_view_module": "@jupyter-widgets/base",
       "_view_module_version": "2.0.0",
       "_view_name": "StyleView",
       "bar_color": null,
       "description_width": ""
      }
     },
     "bd5b511ce9cc4addb9cb9836772edaeb": {
      "model_module": "@jupyter-widgets/controls",
      "model_module_version": "2.0.0",
      "model_name": "HTMLModel",
      "state": {
       "_dom_classes": [],
       "_model_module": "@jupyter-widgets/controls",
       "_model_module_version": "2.0.0",
       "_model_name": "HTMLModel",
       "_view_count": null,
       "_view_module": "@jupyter-widgets/controls",
       "_view_module_version": "2.0.0",
       "_view_name": "HTMLView",
       "description": "",
       "description_allow_html": false,
       "layout": "IPY_MODEL_5fe39f7d796a4b8ab71db63496a00a9d",
       "placeholder": "​",
       "style": "IPY_MODEL_bf1a8c3bb6054238b0c13758efdfcd18",
       "tabbable": null,
       "tooltip": null,
       "value": "100%"
      }
     },
     "bf1a8c3bb6054238b0c13758efdfcd18": {
      "model_module": "@jupyter-widgets/controls",
      "model_module_version": "2.0.0",
      "model_name": "HTMLStyleModel",
      "state": {
       "_model_module": "@jupyter-widgets/controls",
       "_model_module_version": "2.0.0",
       "_model_name": "HTMLStyleModel",
       "_view_count": null,
       "_view_module": "@jupyter-widgets/base",
       "_view_module_version": "2.0.0",
       "_view_name": "StyleView",
       "background": null,
       "description_width": "",
       "font_size": null,
       "text_color": null
      }
     },
     "c61121d51cac4c81ae790715c1b74902": {
      "model_module": "@jupyter-widgets/base",
      "model_module_version": "2.0.0",
      "model_name": "LayoutModel",
      "state": {
       "_model_module": "@jupyter-widgets/base",
       "_model_module_version": "2.0.0",
       "_model_name": "LayoutModel",
       "_view_count": null,
       "_view_module": "@jupyter-widgets/base",
       "_view_module_version": "2.0.0",
       "_view_name": "LayoutView",
       "align_content": null,
       "align_items": null,
       "align_self": null,
       "border_bottom": null,
       "border_left": null,
       "border_right": null,
       "border_top": null,
       "bottom": null,
       "display": null,
       "flex": null,
       "flex_flow": null,
       "grid_area": null,
       "grid_auto_columns": null,
       "grid_auto_flow": null,
       "grid_auto_rows": null,
       "grid_column": null,
       "grid_gap": null,
       "grid_row": null,
       "grid_template_areas": null,
       "grid_template_columns": null,
       "grid_template_rows": null,
       "height": null,
       "justify_content": null,
       "justify_items": null,
       "left": null,
       "margin": null,
       "max_height": null,
       "max_width": null,
       "min_height": null,
       "min_width": null,
       "object_fit": null,
       "object_position": null,
       "order": null,
       "overflow": null,
       "padding": null,
       "right": null,
       "top": null,
       "visibility": null,
       "width": null
      }
     },
     "c6cd98462dfa442882078e55865368a3": {
      "model_module": "@jupyter-widgets/controls",
      "model_module_version": "2.0.0",
      "model_name": "HBoxModel",
      "state": {
       "_dom_classes": [],
       "_model_module": "@jupyter-widgets/controls",
       "_model_module_version": "2.0.0",
       "_model_name": "HBoxModel",
       "_view_count": null,
       "_view_module": "@jupyter-widgets/controls",
       "_view_module_version": "2.0.0",
       "_view_name": "HBoxView",
       "box_style": "",
       "children": [
        "IPY_MODEL_272ce707bc6140c6b21bbffa2840eb01",
        "IPY_MODEL_29922e3a39374fd3beb939a006d82bdf",
        "IPY_MODEL_23065b5bfaec4436869a2d5d40c789e4"
       ],
       "layout": "IPY_MODEL_c61121d51cac4c81ae790715c1b74902",
       "tabbable": null,
       "tooltip": null
      }
     },
     "dbe7ef0ca87648dca989fe117cd100e4": {
      "model_module": "@jupyter-widgets/base",
      "model_module_version": "2.0.0",
      "model_name": "LayoutModel",
      "state": {
       "_model_module": "@jupyter-widgets/base",
       "_model_module_version": "2.0.0",
       "_model_name": "LayoutModel",
       "_view_count": null,
       "_view_module": "@jupyter-widgets/base",
       "_view_module_version": "2.0.0",
       "_view_name": "LayoutView",
       "align_content": null,
       "align_items": null,
       "align_self": null,
       "border_bottom": null,
       "border_left": null,
       "border_right": null,
       "border_top": null,
       "bottom": null,
       "display": null,
       "flex": null,
       "flex_flow": null,
       "grid_area": null,
       "grid_auto_columns": null,
       "grid_auto_flow": null,
       "grid_auto_rows": null,
       "grid_column": null,
       "grid_gap": null,
       "grid_row": null,
       "grid_template_areas": null,
       "grid_template_columns": null,
       "grid_template_rows": null,
       "height": null,
       "justify_content": null,
       "justify_items": null,
       "left": null,
       "margin": null,
       "max_height": null,
       "max_width": null,
       "min_height": null,
       "min_width": null,
       "object_fit": null,
       "object_position": null,
       "order": null,
       "overflow": null,
       "padding": null,
       "right": null,
       "top": null,
       "visibility": null,
       "width": null
      }
     },
     "de0d8a7c82e2479c9416717005af189c": {
      "model_module": "@jupyter-widgets/controls",
      "model_module_version": "2.0.0",
      "model_name": "HBoxModel",
      "state": {
       "_dom_classes": [],
       "_model_module": "@jupyter-widgets/controls",
       "_model_module_version": "2.0.0",
       "_model_name": "HBoxModel",
       "_view_count": null,
       "_view_module": "@jupyter-widgets/controls",
       "_view_module_version": "2.0.0",
       "_view_name": "HBoxView",
       "box_style": "",
       "children": [
        "IPY_MODEL_1cf405a20c0f4e60b5ca6fdf7fda9b01",
        "IPY_MODEL_fb75c056b8994660ad6976c75031c4d7",
        "IPY_MODEL_6a3c57969eed4728b4b7fde3bc70adc4"
       ],
       "layout": "IPY_MODEL_28899d8924b24f0a8ee9ec220728bca0",
       "tabbable": null,
       "tooltip": null
      }
     },
     "e5fd58c85cab40b59632eeb327c4dbdb": {
      "model_module": "@jupyter-widgets/base",
      "model_module_version": "2.0.0",
      "model_name": "LayoutModel",
      "state": {
       "_model_module": "@jupyter-widgets/base",
       "_model_module_version": "2.0.0",
       "_model_name": "LayoutModel",
       "_view_count": null,
       "_view_module": "@jupyter-widgets/base",
       "_view_module_version": "2.0.0",
       "_view_name": "LayoutView",
       "align_content": null,
       "align_items": null,
       "align_self": null,
       "border_bottom": null,
       "border_left": null,
       "border_right": null,
       "border_top": null,
       "bottom": null,
       "display": null,
       "flex": null,
       "flex_flow": null,
       "grid_area": null,
       "grid_auto_columns": null,
       "grid_auto_flow": null,
       "grid_auto_rows": null,
       "grid_column": null,
       "grid_gap": null,
       "grid_row": null,
       "grid_template_areas": null,
       "grid_template_columns": null,
       "grid_template_rows": null,
       "height": null,
       "justify_content": null,
       "justify_items": null,
       "left": null,
       "margin": null,
       "max_height": null,
       "max_width": null,
       "min_height": null,
       "min_width": null,
       "object_fit": null,
       "object_position": null,
       "order": null,
       "overflow": null,
       "padding": null,
       "right": null,
       "top": null,
       "visibility": null,
       "width": null
      }
     },
     "e762f8f37c6d40a6912314694867024a": {
      "model_module": "@jupyter-widgets/base",
      "model_module_version": "2.0.0",
      "model_name": "LayoutModel",
      "state": {
       "_model_module": "@jupyter-widgets/base",
       "_model_module_version": "2.0.0",
       "_model_name": "LayoutModel",
       "_view_count": null,
       "_view_module": "@jupyter-widgets/base",
       "_view_module_version": "2.0.0",
       "_view_name": "LayoutView",
       "align_content": null,
       "align_items": null,
       "align_self": null,
       "border_bottom": null,
       "border_left": null,
       "border_right": null,
       "border_top": null,
       "bottom": null,
       "display": null,
       "flex": null,
       "flex_flow": null,
       "grid_area": null,
       "grid_auto_columns": null,
       "grid_auto_flow": null,
       "grid_auto_rows": null,
       "grid_column": null,
       "grid_gap": null,
       "grid_row": null,
       "grid_template_areas": null,
       "grid_template_columns": null,
       "grid_template_rows": null,
       "height": null,
       "justify_content": null,
       "justify_items": null,
       "left": null,
       "margin": null,
       "max_height": null,
       "max_width": null,
       "min_height": null,
       "min_width": null,
       "object_fit": null,
       "object_position": null,
       "order": null,
       "overflow": null,
       "padding": null,
       "right": null,
       "top": null,
       "visibility": null,
       "width": null
      }
     },
     "efad80ecb92f4002a0f0634a10bc6bf1": {
      "model_module": "@jupyter-widgets/controls",
      "model_module_version": "2.0.0",
      "model_name": "HTMLStyleModel",
      "state": {
       "_model_module": "@jupyter-widgets/controls",
       "_model_module_version": "2.0.0",
       "_model_name": "HTMLStyleModel",
       "_view_count": null,
       "_view_module": "@jupyter-widgets/base",
       "_view_module_version": "2.0.0",
       "_view_name": "StyleView",
       "background": null,
       "description_width": "",
       "font_size": null,
       "text_color": null
      }
     },
     "fb75c056b8994660ad6976c75031c4d7": {
      "model_module": "@jupyter-widgets/controls",
      "model_module_version": "2.0.0",
      "model_name": "FloatProgressModel",
      "state": {
       "_dom_classes": [],
       "_model_module": "@jupyter-widgets/controls",
       "_model_module_version": "2.0.0",
       "_model_name": "FloatProgressModel",
       "_view_count": null,
       "_view_module": "@jupyter-widgets/controls",
       "_view_module_version": "2.0.0",
       "_view_name": "ProgressView",
       "bar_style": "success",
       "description": "",
       "description_allow_html": false,
       "layout": "IPY_MODEL_6e218aac7c8d49d4a9140d39c23330ba",
       "max": 52903,
       "min": 0,
       "orientation": "horizontal",
       "style": "IPY_MODEL_b97b87367c72418eb8159788c3be36cb",
       "tabbable": null,
       "tooltip": null,
       "value": 52903
      }
     }
    },
    "version_major": 2,
    "version_minor": 0
   }
  }
 },
 "nbformat": 4,
 "nbformat_minor": 5
}
