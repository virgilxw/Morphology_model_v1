{
 "cells": [
  {
   "cell_type": "code",
   "execution_count": null,
   "id": "32432b16",
   "metadata": {
    "execution": {
     "iopub.execute_input": "2024-01-01T18:16:11.452504Z",
     "iopub.status.busy": "2024-01-01T18:16:11.452292Z",
     "iopub.status.idle": "2024-01-01T18:16:11.457531Z",
     "shell.execute_reply": "2024-01-01T18:16:11.457167Z"
    },
    "papermill": {
     "duration": 0.021592,
     "end_time": "2024-01-01T18:16:11.458529",
     "exception": false,
     "start_time": "2024-01-01T18:16:11.436937",
     "status": "completed"
    },
    "tags": []
   },
   "outputs": [],
   "source": [
    "import sys\n",
    "import os\n",
    "from pathlib import Path\n",
    "\n",
    "# Handling the scenario where __file__ might not be defined\n",
    "if '__file__' in globals():\n",
    "    # If __file__ is defined, use it to get the current directory\n",
    "    current_dir = Path(os.path.dirname(os.path.abspath(__file__)))\n",
    "else:\n",
    "    # If __file__ is not defined, fall back to the current working directory\n",
    "    current_dir = Path(os.getcwd())\n",
    "\n",
    "# Calculate the parent directory\n",
    "parent_dir = current_dir.parent\n",
    "\n",
    "# Append the parent directory to sys.path\n",
    "sys.path.append(str(parent_dir))\n"
   ]
  },
  {
   "cell_type": "code",
   "execution_count": null,
   "id": "a9e3bf26",
   "metadata": {
    "execution": {
     "iopub.execute_input": "2024-01-01T18:16:11.484335Z",
     "iopub.status.busy": "2024-01-01T18:16:11.484133Z",
     "iopub.status.idle": "2024-01-01T18:16:30.301066Z",
     "shell.execute_reply": "2024-01-01T18:16:30.300520Z"
    },
    "papermill": {
     "duration": 18.831523,
     "end_time": "2024-01-01T18:16:30.302559",
     "exception": false,
     "start_time": "2024-01-01T18:16:11.471036",
     "status": "completed"
    },
    "tags": []
   },
   "outputs": [],
   "source": [
    "import geopandas as gpd\n",
    "import momepy\n",
    "import networkx as nx\n",
    "import graph_tool.all as gt\n",
    "from scripts.nx2gt import nx2gt\n",
    "import pandas as pd\n",
    "import matplotlib\n",
    "import itertools\n",
    "from shapely.geometry import LineString, point\n",
    "from shapely.wkt import loads\n",
    "from tqdm import tqdm\n",
    "import numpy as np\n",
    "from dask.distributed import Client, LocalCluster\n",
    "from dask import delayed\n",
    "import dask\n",
    "import math\n",
    "import concurrent.futures\n",
    "import matplotlib.pyplot as plt\n",
    "import osmnx as ox\n",
    "import scripts.graph_custom as custom_graph_scripts"
   ]
  },
  {
   "cell_type": "code",
   "execution_count": null,
   "id": "837178b2",
   "metadata": {
    "execution": {
     "iopub.execute_input": "2024-01-01T18:16:30.332452Z",
     "iopub.status.busy": "2024-01-01T18:16:30.331697Z",
     "iopub.status.idle": "2024-01-01T18:16:30.335200Z",
     "shell.execute_reply": "2024-01-01T18:16:30.334814Z"
    },
    "papermill": {
     "duration": 0.018595,
     "end_time": "2024-01-01T18:16:30.336208",
     "exception": false,
     "start_time": "2024-01-01T18:16:30.317613",
     "status": "completed"
    },
    "tags": [
     "parameters"
    ]
   },
   "outputs": [],
   "source": [
    "local_crs = 27700\n",
    "place = \"test_OS\"\n",
    "lat = 55.86421405612109\n",
    "lng = -4.251846930489373\n",
    "country = \"UK\"\n",
    "crs=4326\n",
    "radius=1"
   ]
  },
  {
   "cell_type": "code",
   "execution_count": null,
   "id": "6448cb1b",
   "metadata": {
    "execution": {
     "iopub.execute_input": "2024-01-01T18:16:30.418856Z",
     "iopub.status.busy": "2024-01-01T18:16:30.418614Z",
     "iopub.status.idle": "2024-01-01T18:16:30.806030Z",
     "shell.execute_reply": "2024-01-01T18:16:30.805582Z"
    },
    "papermill": {
     "duration": 0.401827,
     "end_time": "2024-01-01T18:16:30.807492",
     "exception": false,
     "start_time": "2024-01-01T18:16:30.405665",
     "status": "completed"
    },
    "tags": []
   },
   "outputs": [],
   "source": [
    "streets = gpd.read_parquet(f\"../output/{place}/streets_p2.pq\").to_crs(local_crs).reset_index(drop=True)"
   ]
  },
  {
   "cell_type": "code",
   "execution_count": null,
   "id": "cdff77f2",
   "metadata": {
    "execution": {
     "iopub.execute_input": "2024-01-01T18:16:30.833312Z",
     "iopub.status.busy": "2024-01-01T18:16:30.833086Z",
     "iopub.status.idle": "2024-01-01T18:16:30.850568Z",
     "shell.execute_reply": "2024-01-01T18:16:30.850187Z"
    },
    "papermill": {
     "duration": 0.031152,
     "end_time": "2024-01-01T18:16:30.851565",
     "exception": false,
     "start_time": "2024-01-01T18:16:30.820413",
     "status": "completed"
    },
    "tags": []
   },
   "outputs": [],
   "source": [
    "streets"
   ]
  },
  {
   "cell_type": "code",
   "execution_count": null,
   "id": "355b6a71",
   "metadata": {
    "execution": {
     "iopub.execute_input": "2024-01-01T18:16:30.878265Z",
     "iopub.status.busy": "2024-01-01T18:16:30.878069Z",
     "iopub.status.idle": "2024-01-01T18:16:33.720440Z",
     "shell.execute_reply": "2024-01-01T18:16:33.720012Z"
    },
    "papermill": {
     "duration": 2.856938,
     "end_time": "2024-01-01T18:16:33.721444",
     "exception": false,
     "start_time": "2024-01-01T18:16:30.864506",
     "status": "completed"
    },
    "tags": []
   },
   "outputs": [],
   "source": [
    "daskCluster = LocalCluster(threads_per_worker=2,\n",
    "                n_workers=8, memory_limit='100GB')\n",
    "\n",
    "client = Client(daskCluster)\n",
    "\n",
    "client"
   ]
  },
  {
   "cell_type": "code",
   "execution_count": null,
   "id": "a1ed0a9a",
   "metadata": {
    "execution": {
     "iopub.execute_input": "2024-01-01T18:16:33.752641Z",
     "iopub.status.busy": "2024-01-01T18:16:33.752415Z",
     "iopub.status.idle": "2024-01-01T18:16:33.755356Z",
     "shell.execute_reply": "2024-01-01T18:16:33.754915Z"
    },
    "papermill": {
     "duration": 0.019972,
     "end_time": "2024-01-01T18:16:33.756366",
     "exception": false,
     "start_time": "2024-01-01T18:16:33.736394",
     "status": "completed"
    },
    "tags": []
   },
   "outputs": [],
   "source": [
    "streets[\"id\"] = streets.index"
   ]
  },
  {
   "cell_type": "code",
   "execution_count": null,
   "id": "b6230e57",
   "metadata": {
    "execution": {
     "iopub.execute_input": "2024-01-01T18:16:33.784374Z",
     "iopub.status.busy": "2024-01-01T18:16:33.784161Z",
     "iopub.status.idle": "2024-01-01T18:16:35.722532Z",
     "shell.execute_reply": "2024-01-01T18:16:35.721513Z"
    },
    "papermill": {
     "duration": 1.953929,
     "end_time": "2024-01-01T18:16:35.724112",
     "exception": false,
     "start_time": "2024-01-01T18:16:33.770183",
     "status": "completed"
    },
    "tags": []
   },
   "outputs": [],
   "source": [
    "# Create a pandas dataframe from the multigraph\n",
    "primal = momepy.gdf_to_nx(streets, approach='primal')"
   ]
  },
  {
   "cell_type": "code",
   "execution_count": null,
   "id": "041313a0",
   "metadata": {
    "execution": {
     "iopub.execute_input": "2024-01-01T18:16:35.756339Z",
     "iopub.status.busy": "2024-01-01T18:16:35.756100Z",
     "iopub.status.idle": "2024-01-01T18:16:37.382797Z",
     "shell.execute_reply": "2024-01-01T18:16:37.382064Z"
    },
    "papermill": {
     "duration": 1.643493,
     "end_time": "2024-01-01T18:16:37.384305",
     "exception": false,
     "start_time": "2024-01-01T18:16:35.740812",
     "status": "completed"
    },
    "tags": []
   },
   "outputs": [],
   "source": [
    "nodes, edges, sw = momepy.nx_to_gdf(primal, points=True, lines=True,\n",
    "                                    spatial_weights=True)"
   ]
  },
  {
   "cell_type": "code",
   "execution_count": null,
   "id": "1cf460b5",
   "metadata": {
    "execution": {
     "iopub.execute_input": "2024-01-01T18:16:37.421727Z",
     "iopub.status.busy": "2024-01-01T18:16:37.421433Z",
     "iopub.status.idle": "2024-01-01T18:16:37.434615Z",
     "shell.execute_reply": "2024-01-01T18:16:37.434141Z"
    },
    "papermill": {
     "duration": 0.030455,
     "end_time": "2024-01-01T18:16:37.435674",
     "exception": false,
     "start_time": "2024-01-01T18:16:37.405219",
     "status": "completed"
    },
    "tags": []
   },
   "outputs": [],
   "source": [
    "edges"
   ]
  },
  {
   "cell_type": "code",
   "execution_count": null,
   "id": "095fef2c",
   "metadata": {
    "execution": {
     "iopub.execute_input": "2024-01-01T18:16:37.466027Z",
     "iopub.status.busy": "2024-01-01T18:16:37.465802Z",
     "iopub.status.idle": "2024-01-01T18:16:38.006235Z",
     "shell.execute_reply": "2024-01-01T18:16:38.005734Z"
    },
    "papermill": {
     "duration": 0.556957,
     "end_time": "2024-01-01T18:16:38.007747",
     "exception": false,
     "start_time": "2024-01-01T18:16:37.450790",
     "status": "completed"
    },
    "tags": []
   },
   "outputs": [],
   "source": [
    "edges = edges.drop_duplicates(subset='geometry')"
   ]
  },
  {
   "cell_type": "code",
   "execution_count": null,
   "id": "e61b4f10",
   "metadata": {
    "execution": {
     "iopub.execute_input": "2024-01-01T18:16:38.037609Z",
     "iopub.status.busy": "2024-01-01T18:16:38.037383Z",
     "iopub.status.idle": "2024-01-01T18:16:39.101744Z",
     "shell.execute_reply": "2024-01-01T18:16:39.101296Z"
    },
    "papermill": {
     "duration": 1.080568,
     "end_time": "2024-01-01T18:16:39.103096",
     "exception": false,
     "start_time": "2024-01-01T18:16:38.022528",
     "status": "completed"
    },
    "tags": []
   },
   "outputs": [],
   "source": [
    "nodes = nodes.drop_duplicates(subset='geometry')"
   ]
  },
  {
   "cell_type": "code",
   "execution_count": null,
   "id": "0e300543",
   "metadata": {
    "execution": {
     "iopub.execute_input": "2024-01-01T18:16:39.133536Z",
     "iopub.status.busy": "2024-01-01T18:16:39.133348Z",
     "iopub.status.idle": "2024-01-01T18:17:23.363498Z",
     "shell.execute_reply": "2024-01-01T18:17:23.363048Z"
    },
    "papermill": {
     "duration": 44.246643,
     "end_time": "2024-01-01T18:17:23.364929",
     "exception": false,
     "start_time": "2024-01-01T18:16:39.118286",
     "status": "completed"
    },
    "tags": []
   },
   "outputs": [],
   "source": [
    "continuity = momepy.COINS(edges)\n",
    "stroke_gdf = continuity.stroke_gdf()"
   ]
  },
  {
   "cell_type": "code",
   "execution_count": null,
   "id": "5f67c066",
   "metadata": {
    "execution": {
     "iopub.execute_input": "2024-01-01T18:17:23.399193Z",
     "iopub.status.busy": "2024-01-01T18:17:23.398977Z",
     "iopub.status.idle": "2024-01-01T18:17:23.460481Z",
     "shell.execute_reply": "2024-01-01T18:17:23.460024Z"
    },
    "papermill": {
     "duration": 0.078867,
     "end_time": "2024-01-01T18:17:23.461918",
     "exception": false,
     "start_time": "2024-01-01T18:17:23.383051",
     "status": "completed"
    },
    "tags": []
   },
   "outputs": [],
   "source": [
    "stroke_gdf.to_parquet(f\"../output/{place}/stroke_gdf.pq\")"
   ]
  },
  {
   "cell_type": "code",
   "execution_count": null,
   "id": "9c07dc28",
   "metadata": {
    "execution": {
     "iopub.execute_input": "2024-01-01T18:17:23.492251Z",
     "iopub.status.busy": "2024-01-01T18:17:23.492018Z",
     "iopub.status.idle": "2024-01-01T18:17:23.494470Z",
     "shell.execute_reply": "2024-01-01T18:17:23.494080Z"
    },
    "papermill": {
     "duration": 0.018743,
     "end_time": "2024-01-01T18:17:23.495445",
     "exception": false,
     "start_time": "2024-01-01T18:17:23.476702",
     "status": "completed"
    },
    "tags": []
   },
   "outputs": [],
   "source": [
    "vertID_dict = {}"
   ]
  },
  {
   "cell_type": "code",
   "execution_count": null,
   "id": "801a04c0",
   "metadata": {
    "execution": {
     "iopub.execute_input": "2024-01-01T18:17:23.578397Z",
     "iopub.status.busy": "2024-01-01T18:17:23.578153Z",
     "iopub.status.idle": "2024-01-01T18:17:23.617342Z",
     "shell.execute_reply": "2024-01-01T18:17:23.616920Z"
    },
    "papermill": {
     "duration": 0.108275,
     "end_time": "2024-01-01T18:17:23.618347",
     "exception": false,
     "start_time": "2024-01-01T18:17:23.510072",
     "status": "completed"
    },
    "tags": []
   },
   "outputs": [],
   "source": [
    "counter = itertools.count()\n",
    "\n",
    "for node in primal.nodes():\n",
    "    id = next(counter)\n",
    "    primal.nodes[node]['vertID'] = id\n",
    "    vertID_dict[id] = node"
   ]
  },
  {
   "cell_type": "code",
   "execution_count": null,
   "id": "086e23d8",
   "metadata": {
    "execution": {
     "iopub.execute_input": "2024-01-01T18:17:23.648407Z",
     "iopub.status.busy": "2024-01-01T18:17:23.648174Z",
     "iopub.status.idle": "2024-01-01T18:17:23.662476Z",
     "shell.execute_reply": "2024-01-01T18:17:23.662095Z"
    },
    "papermill": {
     "duration": 0.030651,
     "end_time": "2024-01-01T18:17:23.663434",
     "exception": false,
     "start_time": "2024-01-01T18:17:23.632783",
     "status": "completed"
    },
    "tags": []
   },
   "outputs": [],
   "source": [
    "inverted_vertID_dict = {value: key for key, value in vertID_dict.items()}"
   ]
  },
  {
   "cell_type": "markdown",
   "id": "47cbd5da",
   "metadata": {
    "papermill": {
     "duration": 0.014238,
     "end_time": "2024-01-01T18:17:23.691846",
     "exception": false,
     "start_time": "2024-01-01T18:17:23.677608",
     "status": "completed"
    },
    "tags": []
   },
   "source": [
    "# Street Network Shapes"
   ]
  },
  {
   "cell_type": "code",
   "execution_count": null,
   "id": "1899506f",
   "metadata": {
    "execution": {
     "iopub.execute_input": "2024-01-01T18:17:23.721282Z",
     "iopub.status.busy": "2024-01-01T18:17:23.721074Z",
     "iopub.status.idle": "2024-01-01T18:17:25.399075Z",
     "shell.execute_reply": "2024-01-01T18:17:25.398224Z"
    },
    "papermill": {
     "duration": 1.694342,
     "end_time": "2024-01-01T18:17:25.400416",
     "exception": false,
     "start_time": "2024-01-01T18:17:23.706074",
     "status": "completed"
    },
    "tags": []
   },
   "outputs": [],
   "source": [
    "edg_lin = momepy.Linearity(streets)\n",
    "streets['linearity'] = edg_lin.series"
   ]
  },
  {
   "cell_type": "code",
   "execution_count": null,
   "id": "bda2c17e",
   "metadata": {
    "execution": {
     "iopub.execute_input": "2024-01-01T18:17:25.431039Z",
     "iopub.status.busy": "2024-01-01T18:17:25.430828Z",
     "iopub.status.idle": "2024-01-01T18:17:29.189093Z",
     "shell.execute_reply": "2024-01-01T18:17:29.188499Z"
    },
    "papermill": {
     "duration": 3.775355,
     "end_time": "2024-01-01T18:17:29.190522",
     "exception": false,
     "start_time": "2024-01-01T18:17:25.415167",
     "status": "completed"
    },
    "tags": []
   },
   "outputs": [],
   "source": [
    "gtG = nx2gt(primal)"
   ]
  },
  {
   "cell_type": "markdown",
   "id": "090622bf",
   "metadata": {
    "papermill": {
     "duration": 0.0147,
     "end_time": "2024-01-01T18:17:29.220505",
     "exception": false,
     "start_time": "2024-01-01T18:17:29.205805",
     "status": "completed"
    },
    "tags": []
   },
   "source": [
    "## Node Degree"
   ]
  },
  {
   "cell_type": "code",
   "execution_count": null,
   "id": "6d9f29f0",
   "metadata": {
    "execution": {
     "iopub.execute_input": "2024-01-01T18:17:29.250489Z",
     "iopub.status.busy": "2024-01-01T18:17:29.250254Z",
     "iopub.status.idle": "2024-01-01T18:18:05.575833Z",
     "shell.execute_reply": "2024-01-01T18:18:05.575219Z"
    },
    "papermill": {
     "duration": 36.34234,
     "end_time": "2024-01-01T18:18:05.577125",
     "exception": false,
     "start_time": "2024-01-01T18:17:29.234785",
     "status": "completed"
    },
    "tags": []
   },
   "outputs": [],
   "source": [
    "\n",
    "gtG.list_properties()\n",
    "\n",
    "g = gt.GraphView(gtG)\n",
    "mm_len = gtG.edge_properties[\"mm_len\"]\n",
    "vp, ep = gt.betweenness(g, weight = mm_len)\n",
    "\n",
    "node_degree = {g.vertex_index[v]: v.in_degree() + v.out_degree() for v in g.vertices()}\n",
    "# convert ID_dict to a DataFrame and rename the index and column\n",
    "node_degree = pd.DataFrame.from_dict(node_degree, orient='index').rename(columns={0: \"node_degree\"})\n",
    "# merge vertID_df and vertices on vertID and node, respectively"
   ]
  },
  {
   "cell_type": "code",
   "execution_count": null,
   "id": "ab46ed59",
   "metadata": {
    "execution": {
     "iopub.execute_input": "2024-01-01T18:18:05.608206Z",
     "iopub.status.busy": "2024-01-01T18:18:05.607966Z",
     "iopub.status.idle": "2024-01-01T18:18:05.611829Z",
     "shell.execute_reply": "2024-01-01T18:18:05.611420Z"
    },
    "papermill": {
     "duration": 0.02083,
     "end_time": "2024-01-01T18:18:05.612871",
     "exception": false,
     "start_time": "2024-01-01T18:18:05.592041",
     "status": "completed"
    },
    "tags": []
   },
   "outputs": [],
   "source": [
    "nodes[\"node_degree\"] = node_degree[\"node_degree\"]"
   ]
  },
  {
   "cell_type": "code",
   "execution_count": null,
   "id": "b246cb61",
   "metadata": {
    "execution": {
     "iopub.execute_input": "2024-01-01T18:18:05.642704Z",
     "iopub.status.busy": "2024-01-01T18:18:05.642480Z",
     "iopub.status.idle": "2024-01-01T18:18:05.645255Z",
     "shell.execute_reply": "2024-01-01T18:18:05.644775Z"
    },
    "papermill": {
     "duration": 0.018789,
     "end_time": "2024-01-01T18:18:05.646168",
     "exception": false,
     "start_time": "2024-01-01T18:18:05.627379",
     "status": "completed"
    },
    "tags": []
   },
   "outputs": [],
   "source": [
    "# # cross-testing to Momepy implementation\n",
    "\n",
    "# degree = dict(nx.degree(primal))\n",
    "# nx.set_node_attributes(primal, degree, 'degree')\n",
    "\n",
    "# graph = momepy.node_degree(primal, name='degree')\n",
    "\n",
    "# nodes, edges, sw = momepy.nx_to_gdf(graph, points=True, lines=True,\n",
    "#                                     spatial_weights=True)\n",
    "\n",
    "# f, ax = plt.subplots(figsize=(10, 10))\n",
    "\n",
    "# # Plot edges with a lower zorder\n",
    "# edges.plot(ax=ax, color='lightgrey', zorder=1)\n",
    "\n",
    "# # Plot nodes with a higher zorder\n",
    "# nodes.plot(ax=ax, column='degree', cmap='RdYlBu', markersize=3, zorder=2)\n",
    "\n",
    "# # Plot nodes\n",
    "# scatter = ax.scatter(nodes.geometry.x, nodes.geometry.y, c=nodes['degree'], cmap='RdYlBu', s=3, zorder=2)\n",
    "\n",
    "# # Create a legend\n",
    "# legend1 = ax.legend(*scatter.legend_elements(num=5),\n",
    "#                     loc=\"upper right\", title=\"Node Degree\")\n",
    "# ax.add_artist(legend1)\n",
    "\n",
    "# ax.set_axis_off()\n",
    "# plt.show()\n",
    "\n",
    "# node_degree[\"node_degree\"]\n",
    "# node_degree_aligned = node_degree[\"node_degree\"].reset_index(drop=True)\n",
    "# nodes_aligned = nodes[\"degree\"].reset_index(drop=True)\n",
    "\n",
    "# # Check if all elements are equal\n",
    "# if not (node_degree_aligned == nodes_aligned).all():\n",
    "#     raise ValueError(\"All elements in node_degree_aligned and nodes_aligned are identical.\")"
   ]
  },
  {
   "cell_type": "markdown",
   "id": "4e70ed93",
   "metadata": {
    "papermill": {
     "duration": 0.014398,
     "end_time": "2024-01-01T18:18:05.675572",
     "exception": false,
     "start_time": "2024-01-01T18:18:05.661174",
     "status": "completed"
    },
    "tags": []
   },
   "source": [
    "# Meshedness + clustering"
   ]
  },
  {
   "cell_type": "markdown",
   "id": "db83b386",
   "metadata": {
    "papermill": {
     "duration": 0.014473,
     "end_time": "2024-01-01T18:18:05.704718",
     "exception": false,
     "start_time": "2024-01-01T18:18:05.690245",
     "status": "completed"
    },
    "tags": []
   },
   "source": [
    "Eucledean Dist"
   ]
  },
  {
   "cell_type": "code",
   "execution_count": null,
   "id": "de367a7e",
   "metadata": {
    "execution": {
     "iopub.execute_input": "2024-01-01T18:18:05.733904Z",
     "iopub.status.busy": "2024-01-01T18:18:05.733714Z",
     "iopub.status.idle": "2024-01-01T18:18:59.722949Z",
     "shell.execute_reply": "2024-01-01T18:18:59.722454Z"
    },
    "papermill": {
     "duration": 54.005375,
     "end_time": "2024-01-01T18:18:59.724423",
     "exception": false,
     "start_time": "2024-01-01T18:18:05.719048",
     "status": "completed"
    },
    "tags": []
   },
   "outputs": [],
   "source": [
    "## validation to networkx\n",
    "graph = momepy.gdf_to_nx(streets)\n",
    "\n",
    "graph = momepy.clustering(graph, name='clustering')\n",
    "\n",
    "graph = momepy.meshedness(graph, radius=500, name='meshedness_eucl_500', distance='mm_len')\n",
    "\n",
    "graph = momepy.nx_to_gdf(graph, points=True, lines=False, spatial_weights=False)"
   ]
  },
  {
   "cell_type": "code",
   "execution_count": null,
   "id": "ae6f475a",
   "metadata": {
    "execution": {
     "iopub.execute_input": "2024-01-01T18:18:59.758388Z",
     "iopub.status.busy": "2024-01-01T18:18:59.758159Z",
     "iopub.status.idle": "2024-01-01T18:18:59.761544Z",
     "shell.execute_reply": "2024-01-01T18:18:59.761154Z"
    },
    "papermill": {
     "duration": 0.020213,
     "end_time": "2024-01-01T18:18:59.762460",
     "exception": false,
     "start_time": "2024-01-01T18:18:59.742247",
     "status": "completed"
    },
    "tags": []
   },
   "outputs": [],
   "source": [
    "nodes[\"meshedness_eucl_500\"] = graph[\"meshedness_eucl_500\"]\n",
    "nodes[\"clustering\"] = graph[\"clustering\"]"
   ]
  },
  {
   "cell_type": "code",
   "execution_count": null,
   "id": "0dd73f24",
   "metadata": {
    "execution": {
     "iopub.execute_input": "2024-01-01T18:18:59.791205Z",
     "iopub.status.busy": "2024-01-01T18:18:59.790990Z",
     "iopub.status.idle": "2024-01-01T18:19:05.587835Z",
     "shell.execute_reply": "2024-01-01T18:19:05.587334Z"
    },
    "papermill": {
     "duration": 5.817977,
     "end_time": "2024-01-01T18:19:05.594436",
     "exception": false,
     "start_time": "2024-01-01T18:18:59.776459",
     "status": "completed"
    },
    "tags": []
   },
   "outputs": [],
   "source": [
    "f, ax = plt.subplots(figsize=(10, 10))\n",
    "# Plot nodes with a higher zorder\n",
    "nodes.plot(ax=ax, column='clustering', cmap='Spectral_r', scheme='quantiles', k=15, alpha=0.6)\n",
    "streets.plot(ax=ax, color='lightgrey', alpha=0.5, zorder=1)\n",
    "ax.set_axis_off()\n",
    "plt.show()"
   ]
  },
  {
   "cell_type": "markdown",
   "id": "161bb797",
   "metadata": {
    "papermill": {
     "duration": 0.02103,
     "end_time": "2024-01-01T18:19:05.639837",
     "exception": false,
     "start_time": "2024-01-01T18:19:05.618807",
     "status": "completed"
    },
    "tags": []
   },
   "source": [
    "Topological Distance"
   ]
  },
  {
   "cell_type": "code",
   "execution_count": null,
   "id": "e18163f3",
   "metadata": {
    "execution": {
     "iopub.execute_input": "2024-01-01T18:19:05.682803Z",
     "iopub.status.busy": "2024-01-01T18:19:05.682539Z",
     "iopub.status.idle": "2024-01-01T18:19:36.718395Z",
     "shell.execute_reply": "2024-01-01T18:19:36.717795Z"
    },
    "papermill": {
     "duration": 31.05895,
     "end_time": "2024-01-01T18:19:36.719802",
     "exception": false,
     "start_time": "2024-01-01T18:19:05.660852",
     "status": "completed"
    },
    "tags": []
   },
   "outputs": [],
   "source": [
    "## validation to networkx\n",
    "graph = momepy.gdf_to_nx(streets)\n",
    "\n",
    "graph = momepy.meshedness(graph, radius=5, name='meshedness_topo_5')\n",
    "\n",
    "graph = momepy.nx_to_gdf(graph, points=True, lines=False, spatial_weights=False)"
   ]
  },
  {
   "cell_type": "code",
   "execution_count": null,
   "id": "255ed932",
   "metadata": {
    "execution": {
     "iopub.execute_input": "2024-01-01T18:19:36.764870Z",
     "iopub.status.busy": "2024-01-01T18:19:36.764625Z",
     "iopub.status.idle": "2024-01-01T18:19:36.767803Z",
     "shell.execute_reply": "2024-01-01T18:19:36.767412Z"
    },
    "papermill": {
     "duration": 0.026269,
     "end_time": "2024-01-01T18:19:36.768791",
     "exception": false,
     "start_time": "2024-01-01T18:19:36.742522",
     "status": "completed"
    },
    "tags": []
   },
   "outputs": [],
   "source": [
    "nodes[\"meshedness_topo_5\"] = graph[\"meshedness_topo_5\"]"
   ]
  },
  {
   "cell_type": "code",
   "execution_count": null,
   "id": "64a4cda5",
   "metadata": {
    "execution": {
     "iopub.execute_input": "2024-01-01T18:19:36.811623Z",
     "iopub.status.busy": "2024-01-01T18:19:36.811423Z",
     "iopub.status.idle": "2024-01-01T18:19:42.574843Z",
     "shell.execute_reply": "2024-01-01T18:19:42.574359Z"
    },
    "papermill": {
     "duration": 5.790557,
     "end_time": "2024-01-01T18:19:42.580178",
     "exception": false,
     "start_time": "2024-01-01T18:19:36.789621",
     "status": "completed"
    },
    "tags": []
   },
   "outputs": [],
   "source": [
    "f, ax = plt.subplots(figsize=(10, 10))\n",
    "# Plot nodes with a higher zorder\n",
    "nodes.plot(ax=ax, column=\"meshedness_topo_5\", cmap='Spectral_r', scheme='quantiles', k=15, alpha=0.6)\n",
    "streets.plot(ax=ax, color='lightgrey', alpha=0.5, zorder=1)\n",
    "ax.set_axis_off()\n",
    "plt.show()\n"
   ]
  },
  {
   "cell_type": "markdown",
   "id": "a1d05f6b",
   "metadata": {
    "papermill": {
     "duration": 0.02803,
     "end_time": "2024-01-01T18:19:42.640924",
     "exception": false,
     "start_time": "2024-01-01T18:19:42.612894",
     "status": "completed"
    },
    "tags": []
   },
   "source": [
    "# Multiple Centrality Analysis"
   ]
  },
  {
   "cell_type": "markdown",
   "id": "ef3d8ef8",
   "metadata": {
    "papermill": {
     "duration": 0.028131,
     "end_time": "2024-01-01T18:19:42.697855",
     "exception": false,
     "start_time": "2024-01-01T18:19:42.669724",
     "status": "completed"
    },
    "tags": []
   },
   "source": [
    "## Closeness Centrality"
   ]
  },
  {
   "cell_type": "markdown",
   "id": "72817fa7",
   "metadata": {
    "papermill": {
     "duration": 0.028136,
     "end_time": "2024-01-01T18:19:42.753882",
     "exception": false,
     "start_time": "2024-01-01T18:19:42.725746",
     "status": "completed"
    },
    "tags": []
   },
   "source": [
    "### Closeness centrality\n",
    "\n",
    "Closeness centrality could be simplified as the average distance to every other node from each node. As such, it can be measured on the whole network (Global Closeness Centrality) or within a certain limit only (Local Closeness Centrality). \n",
    "\n",
    "#### Local closeness\n",
    "To measure local `closeness_centrality` we need to specify a radius (how far we should go from each node). We can use topological distance (e.g. 5 steps, then radius=5) or metric distance (e.g. 400 metres) - then radius=400 and distance=length of each segment saved as a parameter of each edge. By default, momepy saves length as `mm_len`. \n",
    "\n",
    "The weight parameter is used for centrality calculation. Again, we can use metric weight (using the same attribute as above) or no weight (weight=None) at all. Or any other attribute we wish."
   ]
  },
  {
   "cell_type": "code",
   "execution_count": null,
   "id": "aca15300",
   "metadata": {
    "execution": {
     "iopub.execute_input": "2024-01-01T18:19:42.810539Z",
     "iopub.status.busy": "2024-01-01T18:19:42.810269Z",
     "iopub.status.idle": "2024-01-01T18:20:18.427167Z",
     "shell.execute_reply": "2024-01-01T18:20:18.426467Z"
    },
    "papermill": {
     "duration": 35.647643,
     "end_time": "2024-01-01T18:20:18.429082",
     "exception": false,
     "start_time": "2024-01-01T18:19:42.781439",
     "status": "completed"
    },
    "tags": []
   },
   "outputs": [],
   "source": [
    "local_closeness_clustering = momepy.closeness_centrality(primal, radius=400, name='closeness400', distance='mm_len', weight='mm_len')"
   ]
  },
  {
   "cell_type": "code",
   "execution_count": null,
   "id": "d73aaaa8",
   "metadata": {
    "execution": {
     "iopub.execute_input": "2024-01-01T18:20:18.490175Z",
     "iopub.status.busy": "2024-01-01T18:20:18.489793Z",
     "iopub.status.idle": "2024-01-01T18:20:19.308054Z",
     "shell.execute_reply": "2024-01-01T18:20:19.307279Z"
    },
    "papermill": {
     "duration": 0.849403,
     "end_time": "2024-01-01T18:20:19.309640",
     "exception": false,
     "start_time": "2024-01-01T18:20:18.460237",
     "status": "completed"
    },
    "tags": []
   },
   "outputs": [],
   "source": [
    "local_closeness_clustering = momepy.nx_to_gdf(local_closeness_clustering)\n",
    "local_closeness_clustering = local_closeness_clustering[0]"
   ]
  },
  {
   "cell_type": "code",
   "execution_count": null,
   "id": "a78c038a",
   "metadata": {
    "execution": {
     "iopub.execute_input": "2024-01-01T18:20:19.369812Z",
     "iopub.status.busy": "2024-01-01T18:20:19.369298Z",
     "iopub.status.idle": "2024-01-01T18:20:19.372864Z",
     "shell.execute_reply": "2024-01-01T18:20:19.372473Z"
    },
    "papermill": {
     "duration": 0.03471,
     "end_time": "2024-01-01T18:20:19.373833",
     "exception": false,
     "start_time": "2024-01-01T18:20:19.339123",
     "status": "completed"
    },
    "tags": []
   },
   "outputs": [],
   "source": [
    "nodes[\"closeness_clustering_400m\"] = local_closeness_clustering[\"closeness400\"]"
   ]
  },
  {
   "cell_type": "code",
   "execution_count": null,
   "id": "8dd578c0",
   "metadata": {
    "execution": {
     "iopub.execute_input": "2024-01-01T18:20:19.432229Z",
     "iopub.status.busy": "2024-01-01T18:20:19.432012Z",
     "iopub.status.idle": "2024-01-01T18:20:26.469006Z",
     "shell.execute_reply": "2024-01-01T18:20:26.468580Z"
    },
    "papermill": {
     "duration": 7.076362,
     "end_time": "2024-01-01T18:20:26.479541",
     "exception": false,
     "start_time": "2024-01-01T18:20:19.403179",
     "status": "completed"
    },
    "tags": []
   },
   "outputs": [],
   "source": [
    "\n",
    "f, ax = plt.subplots(figsize=(15, 15))\n",
    "nodes.plot(ax=ax, column=\"closeness_clustering_400m\", cmap='Spectral_r', scheme='quantiles', k=15, alpha=0.6, zorder=1)\n",
    "edges.plot(ax=ax, zorder=0)\n",
    "closeness400 = nodes[\"closeness_clustering_400m\"]\n",
    "\n",
    "ax.set_axis_off()\n",
    "ax.set_title(\"closeness_clustering_400m\")\n",
    "plt.show()"
   ]
  },
  {
   "cell_type": "markdown",
   "id": "5a1c8e60",
   "metadata": {
    "papermill": {
     "duration": 0.041616,
     "end_time": "2024-01-01T18:20:26.566736",
     "exception": false,
     "start_time": "2024-01-01T18:20:26.525120",
     "status": "completed"
    },
    "tags": []
   },
   "source": [
    "#### Global closeness\n",
    "\n",
    "Global closeness centrality is a bit simpler as we do not have to specify radius and distance, the rest remains the same."
   ]
  },
  {
   "cell_type": "code",
   "execution_count": null,
   "id": "2841701a",
   "metadata": {
    "execution": {
     "iopub.execute_input": "2024-01-01T18:20:26.650232Z",
     "iopub.status.busy": "2024-01-01T18:20:26.649980Z",
     "iopub.status.idle": "2024-01-01T18:20:26.922881Z",
     "shell.execute_reply": "2024-01-01T18:20:26.922257Z"
    },
    "papermill": {
     "duration": 0.31669,
     "end_time": "2024-01-01T18:20:26.924414",
     "exception": false,
     "start_time": "2024-01-01T18:20:26.607724",
     "status": "completed"
    },
    "tags": []
   },
   "outputs": [],
   "source": [
    "primal_gdf_points, primal_gdf  = momepy.nx_to_gdf(primal, points=True, lines=True)"
   ]
  },
  {
   "cell_type": "code",
   "execution_count": null,
   "id": "38d6e03e",
   "metadata": {
    "execution": {
     "iopub.execute_input": "2024-01-01T18:20:27.010079Z",
     "iopub.status.busy": "2024-01-01T18:20:27.009636Z",
     "iopub.status.idle": "2024-01-01T18:20:27.020697Z",
     "shell.execute_reply": "2024-01-01T18:20:27.020269Z"
    },
    "papermill": {
     "duration": 0.054449,
     "end_time": "2024-01-01T18:20:27.021775",
     "exception": false,
     "start_time": "2024-01-01T18:20:26.967326",
     "status": "completed"
    },
    "tags": []
   },
   "outputs": [],
   "source": [
    "unique_ids = edges[~edges['id'].isin(primal_gdf['id'])]\n",
    "unique_ids\n",
    "\n",
    "# Convert unique_ids to a list of IDs if it's still a DataFrame\n",
    "unique_id_list = unique_ids['id'].tolist()\n",
    "\n",
    "# Drop entries in nodes where ID is in unique_id_list\n",
    "edges = edges[~edges['id'].isin(unique_id_list)]"
   ]
  },
  {
   "cell_type": "code",
   "execution_count": null,
   "id": "e24555e3",
   "metadata": {},
   "outputs": [],
   "source": [
    "unique_ids = nodes[~nodes['nodeID'].isin(primal_gdf_points['nodeID'])]\n",
    "unique_ids\n",
    "\n",
    "# Convert unique_ids to a list of IDs if it's still a DataFrame\n",
    "unique_id_list = unique_ids['nodeID'].tolist()\n",
    "\n",
    "# Drop entries in edges where ID is in unique_id_list\n",
    "nodes = nodes[~nodes['nodeID'].isin(unique_id_list)]"
   ]
  },
  {
   "cell_type": "code",
   "execution_count": null,
   "id": "498653c7",
   "metadata": {
    "execution": {
     "iopub.execute_input": "2024-01-01T18:20:27.107194Z",
     "iopub.status.busy": "2024-01-01T18:20:27.106760Z",
     "iopub.status.idle": "2024-01-01T18:20:48.773447Z",
     "shell.execute_reply": "2024-01-01T18:20:48.772979Z"
    },
    "papermill": {
     "duration": 21.710709,
     "end_time": "2024-01-01T18:20:48.774559",
     "exception": false,
     "start_time": "2024-01-01T18:20:27.063850",
     "status": "completed"
    },
    "tags": []
   },
   "outputs": [],
   "source": [
    "gtG = nx2gt(primal)\n",
    "\n",
    "g = gt.GraphView(gtG)\n",
    "mm_len = gtG.edge_properties[\"mm_len\"]\n",
    "vp = gt.closeness(g, weight = mm_len)\n",
    "\n",
    "vertex_val = vp.get_array()\n",
    "\n",
    "nodes['global_closeness_centrality_primal']= vertex_val\n",
    "\n",
    "nodes"
   ]
  },
  {
   "cell_type": "markdown",
   "id": "944be8db",
   "metadata": {
    "papermill": {
     "duration": 0.041045,
     "end_time": "2024-01-01T18:20:48.859268",
     "exception": false,
     "start_time": "2024-01-01T18:20:48.818223",
     "status": "completed"
    },
    "tags": []
   },
   "source": [
    "### Betweenness\n",
    "\n",
    "Betweenness centrality measures the importance of each node or edge for travelling along the network. It measures how many times each node/edge used if we walk using the shortest paths from each node to every other. \n",
    "\n",
    "We have two options of how to measure betweenness on primal graphs - on nodes or on edges.\n",
    "\n",
    "#### Node-based\n",
    "Node-based betweenness, as the name suggests, measures the betweenness of each node - how many times we would walk through the node."
   ]
  },
  {
   "cell_type": "code",
   "execution_count": null,
   "id": "020cb2b1",
   "metadata": {
    "execution": {
     "iopub.execute_input": "2024-01-01T18:20:48.941648Z",
     "iopub.status.busy": "2024-01-01T18:20:48.941382Z",
     "iopub.status.idle": "2024-01-01T18:21:25.802253Z",
     "shell.execute_reply": "2024-01-01T18:21:25.800604Z"
    },
    "papermill": {
     "duration": 36.944825,
     "end_time": "2024-01-01T18:21:25.844169",
     "exception": false,
     "start_time": "2024-01-01T18:20:48.899344",
     "status": "completed"
    },
    "tags": []
   },
   "outputs": [],
   "source": [
    "g = gt.GraphView(gtG)\n",
    "mm_len = gtG.edge_properties[\"mm_len\"]\n",
    "vp, ep = gt.betweenness(g, weight = mm_len)\n",
    "\n",
    "vertex_val = vp.get_array()\n",
    "\n",
    "nodes['global_betweeness_centrality_vertex']= vertex_val"
   ]
  },
  {
   "cell_type": "code",
   "execution_count": null,
   "id": "e03eff90",
   "metadata": {
    "execution": {
     "iopub.execute_input": "2024-01-01T18:21:26.031798Z",
     "iopub.status.busy": "2024-01-01T18:21:26.031562Z",
     "iopub.status.idle": "2024-01-01T18:21:31.720870Z",
     "shell.execute_reply": "2024-01-01T18:21:31.720190Z"
    },
    "papermill": {
     "duration": 5.740152,
     "end_time": "2024-01-01T18:21:31.729794",
     "exception": false,
     "start_time": "2024-01-01T18:21:25.989642",
     "status": "completed"
    },
    "tags": []
   },
   "outputs": [],
   "source": [
    "f, ax = plt.subplots(figsize=(15, 15))\n",
    "nodes.plot(ax=ax, column='global_betweeness_centrality_vertex', cmap='Spectral_r', scheme='quantiles', k=15, alpha=0.6, zorder=1)\n",
    "edges.plot(ax=ax, zorder=0)\n",
    "\n",
    "ax.set_axis_off()\n",
    "ax.set_title(label='global_betweeness_centrality_vertex')\n",
    "plt.show()"
   ]
  },
  {
   "cell_type": "markdown",
   "id": "437fe909",
   "metadata": {
    "papermill": {
     "duration": 0.079335,
     "end_time": "2024-01-01T18:21:31.867084",
     "exception": false,
     "start_time": "2024-01-01T18:21:31.787749",
     "status": "completed"
    },
    "tags": []
   },
   "source": [
    "#### Edge-based\n",
    "\n",
    "Edge-based betweenness does the same but for edges: how many times we go through each edge (street)."
   ]
  },
  {
   "cell_type": "code",
   "execution_count": null,
   "id": "2a275fe0",
   "metadata": {},
   "outputs": [],
   "source": [
    "g = gt.GraphView(gtG)\n",
    "mm_len = gtG.edge_properties[\"mm_len\"]\n",
    "c = gt.closeness(g, weight = mm_len)\n",
    "\n",
    "\n",
    "nodes['betweeness_centrality_edge'] = c.get_array()"
   ]
  },
  {
   "cell_type": "code",
   "execution_count": null,
   "id": "0f6ecd44",
   "metadata": {
    "execution": {
     "iopub.execute_input": "2023-12-28T03:19:46.125153Z",
     "iopub.status.busy": "2023-12-28T03:19:46.124263Z",
     "iopub.status.idle": "2023-12-28T03:19:47.764212Z",
     "shell.execute_reply": "2023-12-28T03:19:47.763372Z"
    },
    "papermill": {
     "duration": null,
     "end_time": null,
     "exception": null,
     "start_time": null,
     "status": "pending"
    },
    "tags": []
   },
   "outputs": [],
   "source": [
    "f, ax = plt.subplots(figsize=(15, 15))\n",
    "nodes.plot(ax=ax, column='betweeness_centrality_edge', cmap='Spectral_r', scheme='quantiles', k=15, alpha=0.6, zorder=1)\n",
    "\n",
    "ax.set_axis_off()\n",
    "ax.set_title(label='betweeness_centrality_edge')\n",
    "plt.show()"
   ]
  },
  {
   "cell_type": "markdown",
   "id": "8377ba06",
   "metadata": {
    "papermill": {
     "duration": null,
     "end_time": null,
     "exception": null,
     "start_time": null,
     "status": "pending"
    },
    "tags": []
   },
   "source": [
    "### Straightness\n",
    "\n",
    "While both closeness and betweenness are generally used in many applications of network analysis, straightness centrality is specific to street networks as it requires a geographical element. It is measured as a ratio between real and Euclidean distance while waking from each node to every other."
   ]
  },
  {
   "cell_type": "code",
   "execution_count": null,
   "id": "96a62c49",
   "metadata": {
    "execution": {
     "iopub.execute_input": "2023-12-28T03:19:48.012787Z",
     "iopub.status.busy": "2023-12-28T03:19:48.012482Z",
     "iopub.status.idle": "2023-12-28T05:43:20.374246Z",
     "shell.execute_reply": "2023-12-28T05:43:20.373603Z"
    },
    "papermill": {
     "duration": null,
     "end_time": null,
     "exception": null,
     "start_time": null,
     "status": "pending"
    },
    "tags": []
   },
   "outputs": [],
   "source": [
    "primal = momepy.straightness_centrality(primal)\n",
    "gdf = momepy.nx_to_gdf(primal, lines=False)"
   ]
  },
  {
   "cell_type": "code",
   "execution_count": null,
   "id": "ae82b0cc",
   "metadata": {
    "execution": {
     "iopub.execute_input": "2023-12-28T05:43:20.489158Z",
     "iopub.status.busy": "2023-12-28T05:43:20.488858Z",
     "iopub.status.idle": "2023-12-28T05:43:20.492434Z",
     "shell.execute_reply": "2023-12-28T05:43:20.492035Z"
    },
    "papermill": {
     "duration": null,
     "end_time": null,
     "exception": null,
     "start_time": null,
     "status": "pending"
    },
    "tags": []
   },
   "outputs": [],
   "source": [
    "nodes[\"global_straightness_centrality\"] = gdf[\"straightness\"]"
   ]
  },
  {
   "cell_type": "code",
   "execution_count": null,
   "id": "fbe6a78e",
   "metadata": {
    "execution": {
     "iopub.execute_input": "2023-12-28T05:43:20.601101Z",
     "iopub.status.busy": "2023-12-28T05:43:20.600891Z",
     "iopub.status.idle": "2023-12-28T05:43:23.910456Z",
     "shell.execute_reply": "2023-12-28T05:43:23.910002Z"
    },
    "papermill": {
     "duration": null,
     "end_time": null,
     "exception": null,
     "start_time": null,
     "status": "pending"
    },
    "tags": []
   },
   "outputs": [],
   "source": [
    "\n",
    "\n",
    "nodes[\"straightness_400m\"] = gdf[\"straightness\"]\n",
    "\n",
    "f, ax = plt.subplots(figsize=(15, 15))\n",
    "nodes.plot(ax=ax, column=\"straightness_400m\", cmap='Spectral_r', scheme='quantiles', k=15, alpha=0.6)\n",
    "\n",
    "ax.set_axis_off()\n",
    "ax.set_title(\"global_straightness_centrality\")\n",
    "plt.show()"
   ]
  },
  {
   "cell_type": "markdown",
   "id": "38a33917",
   "metadata": {
    "papermill": {
     "duration": null,
     "end_time": null,
     "exception": null,
     "start_time": null,
     "status": "pending"
    },
    "tags": []
   },
   "source": [
    "### Node values averaged onto edges\n",
    "\n",
    "In some cases, it is easier to understand centrality results if they are attached to street segments, rather than intersections. We can do an approximation using the mean value attached to start and end node of each edge."
   ]
  },
  {
   "cell_type": "code",
   "execution_count": null,
   "id": "be765fd6",
   "metadata": {
    "execution": {
     "iopub.execute_input": "2023-12-28T05:43:24.161713Z",
     "iopub.status.busy": "2023-12-28T05:43:24.161467Z",
     "iopub.status.idle": "2023-12-28T05:43:24.177301Z",
     "shell.execute_reply": "2023-12-28T05:43:24.176933Z"
    },
    "papermill": {
     "duration": null,
     "end_time": null,
     "exception": null,
     "start_time": null,
     "status": "pending"
    },
    "tags": []
   },
   "outputs": [],
   "source": [
    "nodes"
   ]
  },
  {
   "cell_type": "code",
   "execution_count": null,
   "id": "17db1ecd",
   "metadata": {
    "execution": {
     "iopub.execute_input": "2023-12-28T05:43:24.355099Z",
     "iopub.status.busy": "2023-12-28T05:43:24.354904Z",
     "iopub.status.idle": "2023-12-28T05:44:17.698689Z",
     "shell.execute_reply": "2023-12-28T05:44:17.697642Z"
    },
    "papermill": {
     "duration": null,
     "end_time": null,
     "exception": null,
     "start_time": null,
     "status": "pending"
    },
    "tags": []
   },
   "outputs": [],
   "source": [
    "for node in primal.nodes:\n",
    "    row = nodes[nodes[\"nodeID\"] == primal.nodes[node][\"nodeID\"]].iloc[0]\n",
    "    \n",
    "    columns = row.keys().drop(['nodeID', 'geometry'])\n",
    "    for column in columns:\n",
    "        primal.nodes[node][column] = row[column]"
   ]
  },
  {
   "cell_type": "code",
   "execution_count": null,
   "id": "2f9e0b08",
   "metadata": {
    "execution": {
     "iopub.execute_input": "2023-12-28T05:44:17.825052Z",
     "iopub.status.busy": "2023-12-28T05:44:17.824781Z",
     "iopub.status.idle": "2023-12-28T05:44:17.903958Z",
     "shell.execute_reply": "2023-12-28T05:44:17.903546Z"
    },
    "papermill": {
     "duration": null,
     "end_time": null,
     "exception": null,
     "start_time": null,
     "status": "pending"
    },
    "tags": []
   },
   "outputs": [],
   "source": [
    "primal.nodes"
   ]
  },
  {
   "cell_type": "code",
   "execution_count": null,
   "id": "8a67f9dc",
   "metadata": {
    "execution": {
     "iopub.execute_input": "2023-12-28T05:44:18.065342Z",
     "iopub.status.busy": "2023-12-28T05:44:18.065102Z",
     "iopub.status.idle": "2023-12-28T05:44:18.630625Z",
     "shell.execute_reply": "2023-12-28T05:44:18.630105Z"
    },
    "papermill": {
     "duration": null,
     "end_time": null,
     "exception": null,
     "start_time": null,
     "status": "pending"
    },
    "tags": []
   },
   "outputs": [],
   "source": [
    "momepy.mean_nodes(primal, 'global_straightness_centrality')\n",
    "momepy.mean_nodes(primal, 'closeness_clustering_400m')\n",
    "momepy.mean_nodes(primal, 'global_closeness_centrality_primal')\n",
    "momepy.mean_nodes(primal, 'global_betweeness_centrality_vertex')"
   ]
  },
  {
   "cell_type": "code",
   "execution_count": null,
   "id": "ef0dd4e3",
   "metadata": {
    "execution": {
     "iopub.execute_input": "2023-12-28T05:44:18.779626Z",
     "iopub.status.busy": "2023-12-28T05:44:18.779404Z",
     "iopub.status.idle": "2023-12-28T05:44:20.677910Z",
     "shell.execute_reply": "2023-12-28T05:44:20.677444Z"
    },
    "papermill": {
     "duration": null,
     "end_time": null,
     "exception": null,
     "start_time": null,
     "status": "pending"
    },
    "tags": []
   },
   "outputs": [],
   "source": [
    "primal_gdf = momepy.nx_to_gdf(primal, points=False)\n",
    "\n",
    "f, ax = plt.subplots(figsize=(15, 15))\n",
    "primal_gdf.plot(ax=ax, column='global_straightness_centrality', cmap='Spectral_r', scheme='quantiles', k=15, alpha=0.6)\n",
    "ax.set_axis_off()\n",
    "ax.set_title('straightness')\n",
    "plt.show()"
   ]
  },
  {
   "cell_type": "code",
   "execution_count": null,
   "id": "405756e7",
   "metadata": {
    "execution": {
     "iopub.execute_input": "2023-12-28T05:44:20.846917Z",
     "iopub.status.busy": "2023-12-28T05:44:20.846614Z",
     "iopub.status.idle": "2023-12-28T05:44:22.416045Z",
     "shell.execute_reply": "2023-12-28T05:44:22.415617Z"
    },
    "papermill": {
     "duration": null,
     "end_time": null,
     "exception": null,
     "start_time": null,
     "status": "pending"
    },
    "tags": []
   },
   "outputs": [],
   "source": [
    "f, ax = plt.subplots(figsize=(15, 15))\n",
    "primal_gdf.plot(ax=ax, column='closeness_clustering_400m', cmap='Spectral_r', scheme='quantiles', k=15, alpha=0.6)\n",
    "ax.set_axis_off()\n",
    "ax.set_title('closeness400 node based mean')\n",
    "plt.show()"
   ]
  },
  {
   "cell_type": "code",
   "execution_count": null,
   "id": "6f114d6b",
   "metadata": {
    "execution": {
     "iopub.execute_input": "2023-12-28T05:44:22.606796Z",
     "iopub.status.busy": "2023-12-28T05:44:22.606550Z",
     "iopub.status.idle": "2023-12-28T05:44:24.231255Z",
     "shell.execute_reply": "2023-12-28T05:44:24.230816Z"
    },
    "papermill": {
     "duration": null,
     "end_time": null,
     "exception": null,
     "start_time": null,
     "status": "pending"
    },
    "tags": []
   },
   "outputs": [],
   "source": [
    "f, ax = plt.subplots(figsize=(15, 15))\n",
    "primal_gdf.plot(ax=ax, column='global_closeness_centrality_primal', cmap='Spectral_r', scheme='quantiles', k=15, alpha=0.6)\n",
    "ax.set_axis_off()\n",
    "ax.set_title('closeness global node based mean')\n",
    "plt.show()"
   ]
  },
  {
   "cell_type": "code",
   "execution_count": null,
   "id": "efb89119",
   "metadata": {
    "execution": {
     "iopub.execute_input": "2023-12-28T05:44:24.436847Z",
     "iopub.status.busy": "2023-12-28T05:44:24.436606Z",
     "iopub.status.idle": "2023-12-28T05:44:26.054933Z",
     "shell.execute_reply": "2023-12-28T05:44:26.054499Z"
    },
    "papermill": {
     "duration": null,
     "end_time": null,
     "exception": null,
     "start_time": null,
     "status": "pending"
    },
    "tags": []
   },
   "outputs": [],
   "source": [
    "f, ax = plt.subplots(figsize=(15, 15))\n",
    "primal_gdf.plot(ax=ax, column='global_betweeness_centrality_vertex', cmap='Spectral_r', scheme='quantiles', k=15, alpha=0.6)\n",
    "ax.set_axis_off()\n",
    "ax.set_title('betweennes node based mean')\n",
    "plt.show()"
   ]
  },
  {
   "cell_type": "code",
   "execution_count": null,
   "id": "b4af04d3",
   "metadata": {
    "execution": {
     "iopub.execute_input": "2023-12-28T05:44:26.280391Z",
     "iopub.status.busy": "2023-12-28T05:44:26.279657Z",
     "iopub.status.idle": "2023-12-28T05:44:26.284499Z",
     "shell.execute_reply": "2023-12-28T05:44:26.284128Z"
    },
    "papermill": {
     "duration": null,
     "end_time": null,
     "exception": null,
     "start_time": null,
     "status": "pending"
    },
    "tags": []
   },
   "outputs": [],
   "source": [
    "edges[\"global_straightness_centrality\"] = primal_gdf[\"global_straightness_centrality\"]\n",
    "edges[\"closeness_clustering_400m\"] = primal_gdf[\"closeness_clustering_400m\"]\n",
    "edges[\"global_closeness_centrality_primal\t\"] = primal_gdf[\"global_closeness_centrality_primal\"]\n",
    "edges[\"global_betweeness_centrality_vertex\"] = primal_gdf[\"global_betweeness_centrality_vertex\"]"
   ]
  },
  {
   "cell_type": "code",
   "execution_count": null,
   "id": "1e915703",
   "metadata": {
    "execution": {
     "iopub.execute_input": "2023-12-28T05:44:26.502711Z",
     "iopub.status.busy": "2023-12-28T05:44:26.502505Z",
     "iopub.status.idle": "2023-12-28T05:44:26.518465Z",
     "shell.execute_reply": "2023-12-28T05:44:26.518099Z"
    },
    "papermill": {
     "duration": null,
     "end_time": null,
     "exception": null,
     "start_time": null,
     "status": "pending"
    },
    "tags": []
   },
   "outputs": [],
   "source": [
    "edges"
   ]
  },
  {
   "cell_type": "markdown",
   "id": "10e45526",
   "metadata": {
    "papermill": {
     "duration": null,
     "end_time": null,
     "exception": null,
     "start_time": null,
     "status": "pending"
    },
    "tags": []
   },
   "source": [
    "Once we have finished our network analysis on the primal graph, we can save both nodes and edges back to GeoDataFrames."
   ]
  },
  {
   "cell_type": "markdown",
   "id": "3e25c50d",
   "metadata": {
    "papermill": {
     "duration": null,
     "end_time": null,
     "exception": null,
     "start_time": null,
     "status": "pending"
    },
    "tags": []
   },
   "source": [
    "### Topological vs metric distances\n",
    "\n",
    "Centrality can be measured topologically (ignoring physical lengths of street segments) or metrically. Moreover, in the case of local centrality, local subgraphs can be also defined topologically and metrically. In the end, you have four options of how to measure centralilty, illustrated on `betweenness_centrality`:\n",
    "\n",
    "```py\n",
    "# topologically defined subgraph (5 steps) and topologically measured shortest path\n",
    "betweenness_centrality(graph, radius=5, distance=None, weight=None)\n",
    "\n",
    "# topologically defined subgraph (5 steps) and metrically measured shortest path\n",
    "betweenness_centrality(graph, radius=5, distance=None, weight='edge_length')\n",
    "\n",
    "# metrically defined subgraph (800 meters) and topologically measured shortest path\n",
    "betweenness_centrality(graph, radius=800, distance='edge_length', weight=None)\n",
    "\n",
    "# metrically defined subgraph (800 meters) and metrically measured shortest path\n",
    "betweenness_centrality(graph, radius=800, distance='edge_length', weight='edge_length')\n",
    "```"
   ]
  },
  {
   "cell_type": "markdown",
   "id": "5f91f0f2",
   "metadata": {
    "papermill": {
     "duration": null,
     "end_time": null,
     "exception": null,
     "start_time": null,
     "status": "pending"
    },
    "tags": []
   },
   "source": [
    "## Dual graph\n",
    "\n",
    "Dual graph is a bit more complicated concept as it represents street segments as nodes with intersections as edges connecting nodes. The geographical distance is lost as edges are of virtually no length, but we can capture the angle between connected streets. Momepy does that by default, using angles between lines connecting the start and end points of each segment. Hence, we can measure angular centrality."
   ]
  },
  {
   "cell_type": "markdown",
   "id": "eaf0977d",
   "metadata": {
    "papermill": {
     "duration": null,
     "end_time": null,
     "exception": null,
     "start_time": null,
     "status": "pending"
    },
    "tags": []
   },
   "source": [
    "**Note**: Dual graphs have naturally much more connections than primal ones, so computation of centrality on dual graph takes longer."
   ]
  },
  {
   "cell_type": "code",
   "execution_count": null,
   "id": "5350488c",
   "metadata": {
    "papermill": {
     "duration": null,
     "end_time": null,
     "exception": null,
     "start_time": null,
     "status": "pending"
    },
    "tags": []
   },
   "outputs": [],
   "source": [
    "edges[\"id\"] = edges.index"
   ]
  },
  {
   "cell_type": "code",
   "execution_count": null,
   "id": "b82c2ed1",
   "metadata": {
    "execution": {
     "iopub.execute_input": "2023-12-28T05:44:27.591391Z",
     "iopub.status.busy": "2023-12-28T05:44:27.591149Z",
     "iopub.status.idle": "2023-12-28T05:44:47.952612Z",
     "shell.execute_reply": "2023-12-28T05:44:47.952031Z"
    },
    "papermill": {
     "duration": null,
     "end_time": null,
     "exception": null,
     "start_time": null,
     "status": "pending"
    },
    "tags": []
   },
   "outputs": [],
   "source": [
    "dual = momepy.gdf_to_nx(edges, approach='dual')"
   ]
  },
  {
   "cell_type": "code",
   "execution_count": null,
   "id": "e217f60e",
   "metadata": {
    "papermill": {
     "duration": null,
     "end_time": null,
     "exception": null,
     "start_time": null,
     "status": "pending"
    },
    "tags": []
   },
   "outputs": [],
   "source": [
    "dual_gdf = momepy.nx_to_gdf(dual, points=False)\n",
    "dual_gdf"
   ]
  },
  {
   "cell_type": "code",
   "execution_count": null,
   "id": "ee978d0b",
   "metadata": {
    "papermill": {
     "duration": null,
     "end_time": null,
     "exception": null,
     "start_time": null,
     "status": "pending"
    },
    "tags": []
   },
   "outputs": [],
   "source": [
    "unique_ids = edges[~edges['id'].isin(dual_gdf['id'])]\n",
    "unique_ids\n",
    "\n",
    "# Convert unique_ids to a list of IDs if it's still a DataFrame\n",
    "unique_id_list = unique_ids['id'].tolist()\n",
    "\n",
    "# Drop entries in edges where ID is in unique_id_list\n",
    "edges = edges[~edges['id'].isin(unique_id_list)]"
   ]
  },
  {
   "cell_type": "markdown",
   "id": "bff32a45",
   "metadata": {
    "papermill": {
     "duration": null,
     "end_time": null,
     "exception": null,
     "start_time": null,
     "status": "pending"
    },
    "tags": []
   },
   "source": [
    "### Angular closeness\n",
    "\n",
    "The situation with closeness is similar to the one done on primal graphs. We can again do global and local closeness.\n",
    "\n",
    "#### Local\n",
    "The difference is that we do not have geographic distance, so we can limit closeness topologically or by another attribute (line angle). The example below uses a topological distance of 5 steps."
   ]
  },
  {
   "cell_type": "code",
   "execution_count": null,
   "id": "4cdd0ee1",
   "metadata": {
    "execution": {
     "iopub.execute_input": "2023-12-28T05:44:48.388378Z",
     "iopub.status.busy": "2023-12-28T05:44:48.388126Z",
     "iopub.status.idle": "2023-12-28T05:45:50.519651Z",
     "shell.execute_reply": "2023-12-28T05:45:50.518785Z"
    },
    "papermill": {
     "duration": null,
     "end_time": null,
     "exception": null,
     "start_time": null,
     "status": "pending"
    },
    "tags": []
   },
   "outputs": [],
   "source": [
    "closeness_dual = momepy.closeness_centrality(dual, radius=5, name='angular_closeness_order_5', weight='angle')\n",
    "\n",
    "dual_gdf = momepy.nx_to_gdf(closeness_dual, points=False)\n"
   ]
  },
  {
   "cell_type": "code",
   "execution_count": null,
   "id": "bb83f5c8",
   "metadata": {
    "papermill": {
     "duration": null,
     "end_time": null,
     "exception": null,
     "start_time": null,
     "status": "pending"
    },
    "tags": []
   },
   "outputs": [],
   "source": [
    "edges['angular_closeness_order_5'] = dual_gdf['angular_closeness_order_5']\n",
    "\n",
    "f, ax = plt.subplots(figsize=(15, 15))\n",
    "dual_gdf.plot(ax=ax, column='angular_closeness_order_5', cmap='Spectral_r', scheme='quantiles', k=15, alpha=0.6)\n",
    "ax.set_axis_off()\n",
    "ax.set_title('closeness angular 5')\n",
    "plt.show()"
   ]
  },
  {
   "cell_type": "markdown",
   "id": "34c45109",
   "metadata": {
    "papermill": {
     "duration": null,
     "end_time": null,
     "exception": null,
     "start_time": null,
     "status": "pending"
    },
    "tags": []
   },
   "source": [
    "#### Global\n",
    "\n",
    "Global angular closeness is then straightforward."
   ]
  },
  {
   "cell_type": "code",
   "execution_count": null,
   "id": "ab205379",
   "metadata": {
    "papermill": {
     "duration": null,
     "end_time": null,
     "exception": null,
     "start_time": null,
     "status": "pending"
    },
    "tags": []
   },
   "outputs": [],
   "source": [
    "gtG = nx2gt(dual)"
   ]
  },
  {
   "cell_type": "code",
   "execution_count": null,
   "id": "55a29e3e",
   "metadata": {
    "papermill": {
     "duration": null,
     "end_time": null,
     "exception": null,
     "start_time": null,
     "status": "pending"
    },
    "tags": []
   },
   "outputs": [],
   "source": [
    "gtG"
   ]
  },
  {
   "cell_type": "code",
   "execution_count": null,
   "id": "7a60f09b",
   "metadata": {
    "execution": {
     "iopub.execute_input": "2023-12-28T05:45:53.244692Z",
     "iopub.status.busy": "2023-12-28T05:45:53.244435Z",
     "iopub.status.idle": "2023-12-28T05:46:17.435749Z",
     "shell.execute_reply": "2023-12-28T05:46:17.433795Z"
    },
    "papermill": {
     "duration": null,
     "end_time": null,
     "exception": null,
     "start_time": null,
     "status": "pending"
    },
    "tags": []
   },
   "outputs": [],
   "source": [
    "g = gt.GraphView(gtG)\n",
    "angle = gtG.edge_properties[\"angle\"]\n",
    "vp = gt.closeness(g, weight = angle)\n",
    "\n",
    "vertex_val = vp.get_array()\n"
   ]
  },
  {
   "cell_type": "code",
   "execution_count": null,
   "id": "5617da76",
   "metadata": {
    "execution": {
     "iopub.execute_input": "2023-12-28T05:46:17.673546Z",
     "iopub.status.busy": "2023-12-28T05:46:17.673308Z",
     "iopub.status.idle": "2023-12-28T05:46:20.533680Z",
     "shell.execute_reply": "2023-12-28T05:46:20.532835Z"
    },
    "papermill": {
     "duration": null,
     "end_time": null,
     "exception": null,
     "start_time": null,
     "status": "pending"
    },
    "tags": []
   },
   "outputs": [],
   "source": [
    "edges['global_angular_closeness'] = vertex_val"
   ]
  },
  {
   "cell_type": "code",
   "execution_count": null,
   "id": "683f9ac1",
   "metadata": {
    "papermill": {
     "duration": null,
     "end_time": null,
     "exception": null,
     "start_time": null,
     "status": "pending"
    },
    "tags": []
   },
   "outputs": [],
   "source": [
    "dual_gdf = momepy.nx_to_gdf(dual, points=False)\n",
    "f, ax = plt.subplots(figsize=(15, 15))\n",
    "edges.plot(ax=ax, column='global_angular_closeness', cmap='Spectral_r', scheme='quantiles', k=15, alpha=0.6)\n",
    "ax.set_axis_off()\n",
    "ax.set_title('global_angular_closeness')\n",
    "plt.show()"
   ]
  },
  {
   "cell_type": "markdown",
   "id": "3b408ab4",
   "metadata": {
    "papermill": {
     "duration": null,
     "end_time": null,
     "exception": null,
     "start_time": null,
     "status": "pending"
    },
    "tags": []
   },
   "source": [
    "### Angular betweenness\n",
    "The last option momepy offers is angular betweenness. Just keep in mind, that nodes and edges are not representing the same concepts and it does not make much sense to measure angular betweenness on edges. Moreover, `nx_to_gdf` converts a dual graph to a LineString gdf only."
   ]
  },
  {
   "cell_type": "code",
   "execution_count": null,
   "id": "e781aaad",
   "metadata": {
    "papermill": {
     "duration": null,
     "end_time": null,
     "exception": null,
     "start_time": null,
     "status": "pending"
    },
    "tags": []
   },
   "outputs": [],
   "source": [
    "angle = gtG.edge_properties[\"angle\"]\n",
    "ep, vp = gt.betweenness(g, weight = angle)\n",
    "\n",
    "edges_val = ep.get_array()"
   ]
  },
  {
   "cell_type": "code",
   "execution_count": null,
   "id": "05252a1e",
   "metadata": {
    "papermill": {
     "duration": null,
     "end_time": null,
     "exception": null,
     "start_time": null,
     "status": "pending"
    },
    "tags": []
   },
   "outputs": [],
   "source": [
    "edges[\"global_angular_betweeness\"] = edges_val"
   ]
  },
  {
   "cell_type": "code",
   "execution_count": null,
   "id": "c40f7ae8",
   "metadata": {
    "papermill": {
     "duration": null,
     "end_time": null,
     "exception": null,
     "start_time": null,
     "status": "pending"
    },
    "tags": []
   },
   "outputs": [],
   "source": [
    "df, ax = plt.subplots(figsize=(15, 15))\n",
    "edges.plot(ax=ax, column=\"global_angular_betweeness\", cmap='Spectral_r', scheme='quantiles', k=15, alpha=0.6)\n",
    "ax.set_axis_off()\n",
    "ax.set_title('betweenness angular')\n",
    "plt.show()"
   ]
  },
  {
   "cell_type": "code",
   "execution_count": null,
   "id": "40cd2680",
   "metadata": {
    "papermill": {
     "duration": null,
     "end_time": null,
     "exception": null,
     "start_time": null,
     "status": "pending"
    },
    "tags": []
   },
   "outputs": [],
   "source": [
    "edges = edges.drop(columns=[\"id\"], axis=1)"
   ]
  },
  {
   "cell_type": "code",
   "execution_count": null,
   "id": "418f7879",
   "metadata": {},
   "outputs": [],
   "source": [
    "nodes"
   ]
  },
  {
   "cell_type": "code",
   "execution_count": null,
   "id": "02a6b539",
   "metadata": {
    "papermill": {
     "duration": null,
     "end_time": null,
     "exception": null,
     "start_time": null,
     "status": "pending"
    },
    "tags": []
   },
   "outputs": [],
   "source": [
    "edges.to_parquet(f\"../output/{place}/edges_p4.pq\")\n",
    "nodes.to_parquet(f\"../output/{place}/nodes_p4.pq\")"
   ]
  },
  {
   "cell_type": "code",
   "execution_count": null,
   "id": "47bebc35",
   "metadata": {
    "papermill": {
     "duration": null,
     "end_time": null,
     "exception": null,
     "start_time": null,
     "status": "pending"
    },
    "tags": []
   },
   "outputs": [],
   "source": []
  }
 ],
 "metadata": {
  "kernelspec": {
   "display_name": "processor",
   "language": "python",
   "name": "python3"
  },
  "language_info": {
   "codemirror_mode": {
    "name": "ipython",
    "version": 3
   },
   "file_extension": ".py",
   "mimetype": "text/x-python",
   "name": "python",
   "nbconvert_exporter": "python",
   "pygments_lexer": "ipython3",
   "version": "3.12.1"
  },
  "papermill": {
   "default_parameters": {},
   "duration": 329.266979,
   "end_time": "2024-01-01T18:21:37.278826",
   "environment_variables": {},
   "exception": true,
   "input_path": "4_network.ipynb",
   "output_path": "../output/Milton_Keynes/Milton_Keynes_4_network.ipynb",
   "parameters": {
    "country": "UK",
    "crs": 4326,
    "lat": 52.04,
    "lng": -0.76,
    "local_crs": 27700,
    "place": "Milton_Keynes",
    "radius": 20
   },
   "start_time": "2024-01-01T18:16:08.011847",
   "version": "2.4.0"
  },
  "widgets": {
   "application/vnd.jupyter.widget-state+json": {
    "state": {
     "0cae51a297d6479ea5991f89268dce24": {
      "model_module": "@jupyter-widgets/controls",
      "model_module_version": "2.0.0",
      "model_name": "HTMLStyleModel",
      "state": {
       "_model_module": "@jupyter-widgets/controls",
       "_model_module_version": "2.0.0",
       "_model_name": "HTMLStyleModel",
       "_view_count": null,
       "_view_module": "@jupyter-widgets/base",
       "_view_module_version": "2.0.0",
       "_view_name": "StyleView",
       "background": null,
       "description_width": "",
       "font_size": null,
       "text_color": null
      }
     },
     "0d5b2e1b8462416b9a4f3dc548c7f001": {
      "model_module": "@jupyter-widgets/base",
      "model_module_version": "2.0.0",
      "model_name": "LayoutModel",
      "state": {
       "_model_module": "@jupyter-widgets/base",
       "_model_module_version": "2.0.0",
       "_model_name": "LayoutModel",
       "_view_count": null,
       "_view_module": "@jupyter-widgets/base",
       "_view_module_version": "2.0.0",
       "_view_name": "LayoutView",
       "align_content": null,
       "align_items": null,
       "align_self": null,
       "border_bottom": null,
       "border_left": null,
       "border_right": null,
       "border_top": null,
       "bottom": null,
       "display": null,
       "flex": null,
       "flex_flow": null,
       "grid_area": null,
       "grid_auto_columns": null,
       "grid_auto_flow": null,
       "grid_auto_rows": null,
       "grid_column": null,
       "grid_gap": null,
       "grid_row": null,
       "grid_template_areas": null,
       "grid_template_columns": null,
       "grid_template_rows": null,
       "height": null,
       "justify_content": null,
       "justify_items": null,
       "left": null,
       "margin": null,
       "max_height": null,
       "max_width": null,
       "min_height": null,
       "min_width": null,
       "object_fit": null,
       "object_position": null,
       "order": null,
       "overflow": null,
       "padding": null,
       "right": null,
       "top": null,
       "visibility": null,
       "width": null
      }
     },
     "18ae2f7091f948c8a1c4c6938008bdd7": {
      "model_module": "@jupyter-widgets/controls",
      "model_module_version": "2.0.0",
      "model_name": "HTMLStyleModel",
      "state": {
       "_model_module": "@jupyter-widgets/controls",
       "_model_module_version": "2.0.0",
       "_model_name": "HTMLStyleModel",
       "_view_count": null,
       "_view_module": "@jupyter-widgets/base",
       "_view_module_version": "2.0.0",
       "_view_name": "StyleView",
       "background": null,
       "description_width": "",
       "font_size": null,
       "text_color": null
      }
     },
     "19a2997f2f65460784788ae10587ae54": {
      "model_module": "@jupyter-widgets/controls",
      "model_module_version": "2.0.0",
      "model_name": "HTMLModel",
      "state": {
       "_dom_classes": [],
       "_model_module": "@jupyter-widgets/controls",
       "_model_module_version": "2.0.0",
       "_model_name": "HTMLModel",
       "_view_count": null,
       "_view_module": "@jupyter-widgets/controls",
       "_view_module_version": "2.0.0",
       "_view_name": "HTMLView",
       "description": "",
       "description_allow_html": false,
       "layout": "IPY_MODEL_0d5b2e1b8462416b9a4f3dc548c7f001",
       "placeholder": "​",
       "style": "IPY_MODEL_ba7635aa5f8c4e4782cd8fcba1dcd78d",
       "tabbable": null,
       "tooltip": null,
       "value": " 45685/45685 [00:35&lt;00:00, 1757.11it/s]"
      }
     },
     "2bd516bdb656416cab54fb7be95114c5": {
      "model_module": "@jupyter-widgets/base",
      "model_module_version": "2.0.0",
      "model_name": "LayoutModel",
      "state": {
       "_model_module": "@jupyter-widgets/base",
       "_model_module_version": "2.0.0",
       "_model_name": "LayoutModel",
       "_view_count": null,
       "_view_module": "@jupyter-widgets/base",
       "_view_module_version": "2.0.0",
       "_view_name": "LayoutView",
       "align_content": null,
       "align_items": null,
       "align_self": null,
       "border_bottom": null,
       "border_left": null,
       "border_right": null,
       "border_top": null,
       "bottom": null,
       "display": null,
       "flex": null,
       "flex_flow": null,
       "grid_area": null,
       "grid_auto_columns": null,
       "grid_auto_flow": null,
       "grid_auto_rows": null,
       "grid_column": null,
       "grid_gap": null,
       "grid_row": null,
       "grid_template_areas": null,
       "grid_template_columns": null,
       "grid_template_rows": null,
       "height": null,
       "justify_content": null,
       "justify_items": null,
       "left": null,
       "margin": null,
       "max_height": null,
       "max_width": null,
       "min_height": null,
       "min_width": null,
       "object_fit": null,
       "object_position": null,
       "order": null,
       "overflow": null,
       "padding": null,
       "right": null,
       "top": null,
       "visibility": null,
       "width": null
      }
     },
     "2bd79bff6e4141f192a2aea7d44b9042": {
      "model_module": "@jupyter-widgets/base",
      "model_module_version": "2.0.0",
      "model_name": "LayoutModel",
      "state": {
       "_model_module": "@jupyter-widgets/base",
       "_model_module_version": "2.0.0",
       "_model_name": "LayoutModel",
       "_view_count": null,
       "_view_module": "@jupyter-widgets/base",
       "_view_module_version": "2.0.0",
       "_view_name": "LayoutView",
       "align_content": null,
       "align_items": null,
       "align_self": null,
       "border_bottom": null,
       "border_left": null,
       "border_right": null,
       "border_top": null,
       "bottom": null,
       "display": null,
       "flex": null,
       "flex_flow": null,
       "grid_area": null,
       "grid_auto_columns": null,
       "grid_auto_flow": null,
       "grid_auto_rows": null,
       "grid_column": null,
       "grid_gap": null,
       "grid_row": null,
       "grid_template_areas": null,
       "grid_template_columns": null,
       "grid_template_rows": null,
       "height": null,
       "justify_content": null,
       "justify_items": null,
       "left": null,
       "margin": null,
       "max_height": null,
       "max_width": null,
       "min_height": null,
       "min_width": null,
       "object_fit": null,
       "object_position": null,
       "order": null,
       "overflow": null,
       "padding": null,
       "right": null,
       "top": null,
       "visibility": null,
       "width": null
      }
     },
     "3a5a8739ad5a4d8387ae23972b520921": {
      "model_module": "@jupyter-widgets/controls",
      "model_module_version": "2.0.0",
      "model_name": "HBoxModel",
      "state": {
       "_dom_classes": [],
       "_model_module": "@jupyter-widgets/controls",
       "_model_module_version": "2.0.0",
       "_model_name": "HBoxModel",
       "_view_count": null,
       "_view_module": "@jupyter-widgets/controls",
       "_view_module_version": "2.0.0",
       "_view_name": "HBoxView",
       "box_style": "",
       "children": [
        "IPY_MODEL_dd0c7546f09c4920a725b3b0ce3411b4",
        "IPY_MODEL_e9b02f18e1654408b0f2f3343b3fd56f",
        "IPY_MODEL_406fe4e608174254be13ecb2c860ca92"
       ],
       "layout": "IPY_MODEL_47ec9515086d417898f7a8fc093df76f",
       "tabbable": null,
       "tooltip": null
      }
     },
     "406fe4e608174254be13ecb2c860ca92": {
      "model_module": "@jupyter-widgets/controls",
      "model_module_version": "2.0.0",
      "model_name": "HTMLModel",
      "state": {
       "_dom_classes": [],
       "_model_module": "@jupyter-widgets/controls",
       "_model_module_version": "2.0.0",
       "_model_name": "HTMLModel",
       "_view_count": null,
       "_view_module": "@jupyter-widgets/controls",
       "_view_module_version": "2.0.0",
       "_view_name": "HTMLView",
       "description": "",
       "description_allow_html": false,
       "layout": "IPY_MODEL_b4f46a7edaec452ab7962f29a292e392",
       "placeholder": "​",
       "style": "IPY_MODEL_a1175f32eb034d9c974b7daeb5d2e80c",
       "tabbable": null,
       "tooltip": null,
       "value": " 45685/45685 [00:49&lt;00:00, 1376.72it/s]"
      }
     },
     "430ba58e903e482c878a5407b313d04c": {
      "model_module": "@jupyter-widgets/controls",
      "model_module_version": "2.0.0",
      "model_name": "HTMLStyleModel",
      "state": {
       "_model_module": "@jupyter-widgets/controls",
       "_model_module_version": "2.0.0",
       "_model_name": "HTMLStyleModel",
       "_view_count": null,
       "_view_module": "@jupyter-widgets/base",
       "_view_module_version": "2.0.0",
       "_view_name": "StyleView",
       "background": null,
       "description_width": "",
       "font_size": null,
       "text_color": null
      }
     },
     "442de13393214952920dd65f058d25df": {
      "model_module": "@jupyter-widgets/base",
      "model_module_version": "2.0.0",
      "model_name": "LayoutModel",
      "state": {
       "_model_module": "@jupyter-widgets/base",
       "_model_module_version": "2.0.0",
       "_model_name": "LayoutModel",
       "_view_count": null,
       "_view_module": "@jupyter-widgets/base",
       "_view_module_version": "2.0.0",
       "_view_name": "LayoutView",
       "align_content": null,
       "align_items": null,
       "align_self": null,
       "border_bottom": null,
       "border_left": null,
       "border_right": null,
       "border_top": null,
       "bottom": null,
       "display": null,
       "flex": null,
       "flex_flow": null,
       "grid_area": null,
       "grid_auto_columns": null,
       "grid_auto_flow": null,
       "grid_auto_rows": null,
       "grid_column": null,
       "grid_gap": null,
       "grid_row": null,
       "grid_template_areas": null,
       "grid_template_columns": null,
       "grid_template_rows": null,
       "height": null,
       "justify_content": null,
       "justify_items": null,
       "left": null,
       "margin": null,
       "max_height": null,
       "max_width": null,
       "min_height": null,
       "min_width": null,
       "object_fit": null,
       "object_position": null,
       "order": null,
       "overflow": null,
       "padding": null,
       "right": null,
       "top": null,
       "visibility": null,
       "width": null
      }
     },
     "4798fa4ae9d34002bf2318f74c36393d": {
      "model_module": "@jupyter-widgets/controls",
      "model_module_version": "2.0.0",
      "model_name": "ProgressStyleModel",
      "state": {
       "_model_module": "@jupyter-widgets/controls",
       "_model_module_version": "2.0.0",
       "_model_name": "ProgressStyleModel",
       "_view_count": null,
       "_view_module": "@jupyter-widgets/base",
       "_view_module_version": "2.0.0",
       "_view_name": "StyleView",
       "bar_color": null,
       "description_width": ""
      }
     },
     "47ec9515086d417898f7a8fc093df76f": {
      "model_module": "@jupyter-widgets/base",
      "model_module_version": "2.0.0",
      "model_name": "LayoutModel",
      "state": {
       "_model_module": "@jupyter-widgets/base",
       "_model_module_version": "2.0.0",
       "_model_name": "LayoutModel",
       "_view_count": null,
       "_view_module": "@jupyter-widgets/base",
       "_view_module_version": "2.0.0",
       "_view_name": "LayoutView",
       "align_content": null,
       "align_items": null,
       "align_self": null,
       "border_bottom": null,
       "border_left": null,
       "border_right": null,
       "border_top": null,
       "bottom": null,
       "display": null,
       "flex": null,
       "flex_flow": null,
       "grid_area": null,
       "grid_auto_columns": null,
       "grid_auto_flow": null,
       "grid_auto_rows": null,
       "grid_column": null,
       "grid_gap": null,
       "grid_row": null,
       "grid_template_areas": null,
       "grid_template_columns": null,
       "grid_template_rows": null,
       "height": null,
       "justify_content": null,
       "justify_items": null,
       "left": null,
       "margin": null,
       "max_height": null,
       "max_width": null,
       "min_height": null,
       "min_width": null,
       "object_fit": null,
       "object_position": null,
       "order": null,
       "overflow": null,
       "padding": null,
       "right": null,
       "top": null,
       "visibility": null,
       "width": null
      }
     },
     "57c9d1588aff4e92a03c783b29bb66ac": {
      "model_module": "@jupyter-widgets/controls",
      "model_module_version": "2.0.0",
      "model_name": "ProgressStyleModel",
      "state": {
       "_model_module": "@jupyter-widgets/controls",
       "_model_module_version": "2.0.0",
       "_model_name": "ProgressStyleModel",
       "_view_count": null,
       "_view_module": "@jupyter-widgets/base",
       "_view_module_version": "2.0.0",
       "_view_name": "StyleView",
       "bar_color": null,
       "description_width": ""
      }
     },
     "6025ea119c2b41b5a910e2a0914f95a4": {
      "model_module": "@jupyter-widgets/controls",
      "model_module_version": "2.0.0",
      "model_name": "ProgressStyleModel",
      "state": {
       "_model_module": "@jupyter-widgets/controls",
       "_model_module_version": "2.0.0",
       "_model_name": "ProgressStyleModel",
       "_view_count": null,
       "_view_module": "@jupyter-widgets/base",
       "_view_module_version": "2.0.0",
       "_view_name": "StyleView",
       "bar_color": null,
       "description_width": ""
      }
     },
     "8b415a15ec94462d9f374e2bafff58c8": {
      "model_module": "@jupyter-widgets/controls",
      "model_module_version": "2.0.0",
      "model_name": "HBoxModel",
      "state": {
       "_dom_classes": [],
       "_model_module": "@jupyter-widgets/controls",
       "_model_module_version": "2.0.0",
       "_model_name": "HBoxModel",
       "_view_count": null,
       "_view_module": "@jupyter-widgets/controls",
       "_view_module_version": "2.0.0",
       "_view_name": "HBoxView",
       "box_style": "",
       "children": [
        "IPY_MODEL_a717443fb1134d79ba67002f1deee68f",
        "IPY_MODEL_cba02a09298b4ab5af648147bf0f9095",
        "IPY_MODEL_19a2997f2f65460784788ae10587ae54"
       ],
       "layout": "IPY_MODEL_9cdebf4fcd6a4d309e980e647dafcb79",
       "tabbable": null,
       "tooltip": null
      }
     },
     "8c8834c57543412387a15b3e5a95c785": {
      "model_module": "@jupyter-widgets/controls",
      "model_module_version": "2.0.0",
      "model_name": "HTMLModel",
      "state": {
       "_dom_classes": [],
       "_model_module": "@jupyter-widgets/controls",
       "_model_module_version": "2.0.0",
       "_model_name": "HTMLModel",
       "_view_count": null,
       "_view_module": "@jupyter-widgets/controls",
       "_view_module_version": "2.0.0",
       "_view_name": "HTMLView",
       "description": "",
       "description_allow_html": false,
       "layout": "IPY_MODEL_2bd79bff6e4141f192a2aea7d44b9042",
       "placeholder": "​",
       "style": "IPY_MODEL_18ae2f7091f948c8a1c4c6938008bdd7",
       "tabbable": null,
       "tooltip": null,
       "value": " 45685/45685 [00:28&lt;00:00, 947.72it/s]"
      }
     },
     "9c598b1354de4a989b357742659a03af": {
      "model_module": "@jupyter-widgets/controls",
      "model_module_version": "2.0.0",
      "model_name": "FloatProgressModel",
      "state": {
       "_dom_classes": [],
       "_model_module": "@jupyter-widgets/controls",
       "_model_module_version": "2.0.0",
       "_model_name": "FloatProgressModel",
       "_view_count": null,
       "_view_module": "@jupyter-widgets/controls",
       "_view_module_version": "2.0.0",
       "_view_name": "ProgressView",
       "bar_style": "success",
       "description": "",
       "description_allow_html": false,
       "layout": "IPY_MODEL_fb20c8f3e117426c924ccf064bbe49dc",
       "max": 45685,
       "min": 0,
       "orientation": "horizontal",
       "style": "IPY_MODEL_4798fa4ae9d34002bf2318f74c36393d",
       "tabbable": null,
       "tooltip": null,
       "value": 45685
      }
     },
     "9cdebf4fcd6a4d309e980e647dafcb79": {
      "model_module": "@jupyter-widgets/base",
      "model_module_version": "2.0.0",
      "model_name": "LayoutModel",
      "state": {
       "_model_module": "@jupyter-widgets/base",
       "_model_module_version": "2.0.0",
       "_model_name": "LayoutModel",
       "_view_count": null,
       "_view_module": "@jupyter-widgets/base",
       "_view_module_version": "2.0.0",
       "_view_name": "LayoutView",
       "align_content": null,
       "align_items": null,
       "align_self": null,
       "border_bottom": null,
       "border_left": null,
       "border_right": null,
       "border_top": null,
       "bottom": null,
       "display": null,
       "flex": null,
       "flex_flow": null,
       "grid_area": null,
       "grid_auto_columns": null,
       "grid_auto_flow": null,
       "grid_auto_rows": null,
       "grid_column": null,
       "grid_gap": null,
       "grid_row": null,
       "grid_template_areas": null,
       "grid_template_columns": null,
       "grid_template_rows": null,
       "height": null,
       "justify_content": null,
       "justify_items": null,
       "left": null,
       "margin": null,
       "max_height": null,
       "max_width": null,
       "min_height": null,
       "min_width": null,
       "object_fit": null,
       "object_position": null,
       "order": null,
       "overflow": null,
       "padding": null,
       "right": null,
       "top": null,
       "visibility": null,
       "width": null
      }
     },
     "9f004adb039b4e0e8ad0d8f78045e0a6": {
      "model_module": "@jupyter-widgets/base",
      "model_module_version": "2.0.0",
      "model_name": "LayoutModel",
      "state": {
       "_model_module": "@jupyter-widgets/base",
       "_model_module_version": "2.0.0",
       "_model_name": "LayoutModel",
       "_view_count": null,
       "_view_module": "@jupyter-widgets/base",
       "_view_module_version": "2.0.0",
       "_view_name": "LayoutView",
       "align_content": null,
       "align_items": null,
       "align_self": null,
       "border_bottom": null,
       "border_left": null,
       "border_right": null,
       "border_top": null,
       "bottom": null,
       "display": null,
       "flex": null,
       "flex_flow": null,
       "grid_area": null,
       "grid_auto_columns": null,
       "grid_auto_flow": null,
       "grid_auto_rows": null,
       "grid_column": null,
       "grid_gap": null,
       "grid_row": null,
       "grid_template_areas": null,
       "grid_template_columns": null,
       "grid_template_rows": null,
       "height": null,
       "justify_content": null,
       "justify_items": null,
       "left": null,
       "margin": null,
       "max_height": null,
       "max_width": null,
       "min_height": null,
       "min_width": null,
       "object_fit": null,
       "object_position": null,
       "order": null,
       "overflow": null,
       "padding": null,
       "right": null,
       "top": null,
       "visibility": null,
       "width": null
      }
     },
     "a1175f32eb034d9c974b7daeb5d2e80c": {
      "model_module": "@jupyter-widgets/controls",
      "model_module_version": "2.0.0",
      "model_name": "HTMLStyleModel",
      "state": {
       "_model_module": "@jupyter-widgets/controls",
       "_model_module_version": "2.0.0",
       "_model_name": "HTMLStyleModel",
       "_view_count": null,
       "_view_module": "@jupyter-widgets/base",
       "_view_module_version": "2.0.0",
       "_view_name": "StyleView",
       "background": null,
       "description_width": "",
       "font_size": null,
       "text_color": null
      }
     },
     "a677867c181741b4ad75a07cd8e8edb0": {
      "model_module": "@jupyter-widgets/base",
      "model_module_version": "2.0.0",
      "model_name": "LayoutModel",
      "state": {
       "_model_module": "@jupyter-widgets/base",
       "_model_module_version": "2.0.0",
       "_model_name": "LayoutModel",
       "_view_count": null,
       "_view_module": "@jupyter-widgets/base",
       "_view_module_version": "2.0.0",
       "_view_name": "LayoutView",
       "align_content": null,
       "align_items": null,
       "align_self": null,
       "border_bottom": null,
       "border_left": null,
       "border_right": null,
       "border_top": null,
       "bottom": null,
       "display": null,
       "flex": null,
       "flex_flow": null,
       "grid_area": null,
       "grid_auto_columns": null,
       "grid_auto_flow": null,
       "grid_auto_rows": null,
       "grid_column": null,
       "grid_gap": null,
       "grid_row": null,
       "grid_template_areas": null,
       "grid_template_columns": null,
       "grid_template_rows": null,
       "height": null,
       "justify_content": null,
       "justify_items": null,
       "left": null,
       "margin": null,
       "max_height": null,
       "max_width": null,
       "min_height": null,
       "min_width": null,
       "object_fit": null,
       "object_position": null,
       "order": null,
       "overflow": null,
       "padding": null,
       "right": null,
       "top": null,
       "visibility": null,
       "width": null
      }
     },
     "a717443fb1134d79ba67002f1deee68f": {
      "model_module": "@jupyter-widgets/controls",
      "model_module_version": "2.0.0",
      "model_name": "HTMLModel",
      "state": {
       "_dom_classes": [],
       "_model_module": "@jupyter-widgets/controls",
       "_model_module_version": "2.0.0",
       "_model_name": "HTMLModel",
       "_view_count": null,
       "_view_module": "@jupyter-widgets/controls",
       "_view_module_version": "2.0.0",
       "_view_name": "HTMLView",
       "description": "",
       "description_allow_html": false,
       "layout": "IPY_MODEL_a677867c181741b4ad75a07cd8e8edb0",
       "placeholder": "​",
       "style": "IPY_MODEL_c32e0a89b3124784b8753bd0e211d6a6",
       "tabbable": null,
       "tooltip": null,
       "value": "100%"
      }
     },
     "a8e5eab61df2492380c10d5b3aec189a": {
      "model_module": "@jupyter-widgets/base",
      "model_module_version": "2.0.0",
      "model_name": "LayoutModel",
      "state": {
       "_model_module": "@jupyter-widgets/base",
       "_model_module_version": "2.0.0",
       "_model_name": "LayoutModel",
       "_view_count": null,
       "_view_module": "@jupyter-widgets/base",
       "_view_module_version": "2.0.0",
       "_view_name": "LayoutView",
       "align_content": null,
       "align_items": null,
       "align_self": null,
       "border_bottom": null,
       "border_left": null,
       "border_right": null,
       "border_top": null,
       "bottom": null,
       "display": null,
       "flex": null,
       "flex_flow": null,
       "grid_area": null,
       "grid_auto_columns": null,
       "grid_auto_flow": null,
       "grid_auto_rows": null,
       "grid_column": null,
       "grid_gap": null,
       "grid_row": null,
       "grid_template_areas": null,
       "grid_template_columns": null,
       "grid_template_rows": null,
       "height": null,
       "justify_content": null,
       "justify_items": null,
       "left": null,
       "margin": null,
       "max_height": null,
       "max_width": null,
       "min_height": null,
       "min_width": null,
       "object_fit": null,
       "object_position": null,
       "order": null,
       "overflow": null,
       "padding": null,
       "right": null,
       "top": null,
       "visibility": null,
       "width": null
      }
     },
     "b4f46a7edaec452ab7962f29a292e392": {
      "model_module": "@jupyter-widgets/base",
      "model_module_version": "2.0.0",
      "model_name": "LayoutModel",
      "state": {
       "_model_module": "@jupyter-widgets/base",
       "_model_module_version": "2.0.0",
       "_model_name": "LayoutModel",
       "_view_count": null,
       "_view_module": "@jupyter-widgets/base",
       "_view_module_version": "2.0.0",
       "_view_name": "LayoutView",
       "align_content": null,
       "align_items": null,
       "align_self": null,
       "border_bottom": null,
       "border_left": null,
       "border_right": null,
       "border_top": null,
       "bottom": null,
       "display": null,
       "flex": null,
       "flex_flow": null,
       "grid_area": null,
       "grid_auto_columns": null,
       "grid_auto_flow": null,
       "grid_auto_rows": null,
       "grid_column": null,
       "grid_gap": null,
       "grid_row": null,
       "grid_template_areas": null,
       "grid_template_columns": null,
       "grid_template_rows": null,
       "height": null,
       "justify_content": null,
       "justify_items": null,
       "left": null,
       "margin": null,
       "max_height": null,
       "max_width": null,
       "min_height": null,
       "min_width": null,
       "object_fit": null,
       "object_position": null,
       "order": null,
       "overflow": null,
       "padding": null,
       "right": null,
       "top": null,
       "visibility": null,
       "width": null
      }
     },
     "b524541f0d6e4589b04fa4afddfc182f": {
      "model_module": "@jupyter-widgets/base",
      "model_module_version": "2.0.0",
      "model_name": "LayoutModel",
      "state": {
       "_model_module": "@jupyter-widgets/base",
       "_model_module_version": "2.0.0",
       "_model_name": "LayoutModel",
       "_view_count": null,
       "_view_module": "@jupyter-widgets/base",
       "_view_module_version": "2.0.0",
       "_view_name": "LayoutView",
       "align_content": null,
       "align_items": null,
       "align_self": null,
       "border_bottom": null,
       "border_left": null,
       "border_right": null,
       "border_top": null,
       "bottom": null,
       "display": null,
       "flex": null,
       "flex_flow": null,
       "grid_area": null,
       "grid_auto_columns": null,
       "grid_auto_flow": null,
       "grid_auto_rows": null,
       "grid_column": null,
       "grid_gap": null,
       "grid_row": null,
       "grid_template_areas": null,
       "grid_template_columns": null,
       "grid_template_rows": null,
       "height": null,
       "justify_content": null,
       "justify_items": null,
       "left": null,
       "margin": null,
       "max_height": null,
       "max_width": null,
       "min_height": null,
       "min_width": null,
       "object_fit": null,
       "object_position": null,
       "order": null,
       "overflow": null,
       "padding": null,
       "right": null,
       "top": null,
       "visibility": null,
       "width": null
      }
     },
     "ba7635aa5f8c4e4782cd8fcba1dcd78d": {
      "model_module": "@jupyter-widgets/controls",
      "model_module_version": "2.0.0",
      "model_name": "HTMLStyleModel",
      "state": {
       "_model_module": "@jupyter-widgets/controls",
       "_model_module_version": "2.0.0",
       "_model_name": "HTMLStyleModel",
       "_view_count": null,
       "_view_module": "@jupyter-widgets/base",
       "_view_module_version": "2.0.0",
       "_view_name": "StyleView",
       "background": null,
       "description_width": "",
       "font_size": null,
       "text_color": null
      }
     },
     "c32e0a89b3124784b8753bd0e211d6a6": {
      "model_module": "@jupyter-widgets/controls",
      "model_module_version": "2.0.0",
      "model_name": "HTMLStyleModel",
      "state": {
       "_model_module": "@jupyter-widgets/controls",
       "_model_module_version": "2.0.0",
       "_model_name": "HTMLStyleModel",
       "_view_count": null,
       "_view_module": "@jupyter-widgets/base",
       "_view_module_version": "2.0.0",
       "_view_name": "StyleView",
       "background": null,
       "description_width": "",
       "font_size": null,
       "text_color": null
      }
     },
     "cba02a09298b4ab5af648147bf0f9095": {
      "model_module": "@jupyter-widgets/controls",
      "model_module_version": "2.0.0",
      "model_name": "FloatProgressModel",
      "state": {
       "_dom_classes": [],
       "_model_module": "@jupyter-widgets/controls",
       "_model_module_version": "2.0.0",
       "_model_name": "FloatProgressModel",
       "_view_count": null,
       "_view_module": "@jupyter-widgets/controls",
       "_view_module_version": "2.0.0",
       "_view_name": "ProgressView",
       "bar_style": "success",
       "description": "",
       "description_allow_html": false,
       "layout": "IPY_MODEL_b524541f0d6e4589b04fa4afddfc182f",
       "max": 45685,
       "min": 0,
       "orientation": "horizontal",
       "style": "IPY_MODEL_6025ea119c2b41b5a910e2a0914f95a4",
       "tabbable": null,
       "tooltip": null,
       "value": 45685
      }
     },
     "d698dd7b0f4f4cfebb1b975d9aa0fcf9": {
      "model_module": "@jupyter-widgets/controls",
      "model_module_version": "2.0.0",
      "model_name": "HBoxModel",
      "state": {
       "_dom_classes": [],
       "_model_module": "@jupyter-widgets/controls",
       "_model_module_version": "2.0.0",
       "_model_name": "HBoxModel",
       "_view_count": null,
       "_view_module": "@jupyter-widgets/controls",
       "_view_module_version": "2.0.0",
       "_view_name": "HBoxView",
       "box_style": "",
       "children": [
        "IPY_MODEL_dc13eb6bfa744915b511a2ecba2a643a",
        "IPY_MODEL_9c598b1354de4a989b357742659a03af",
        "IPY_MODEL_8c8834c57543412387a15b3e5a95c785"
       ],
       "layout": "IPY_MODEL_442de13393214952920dd65f058d25df",
       "tabbable": null,
       "tooltip": null
      }
     },
     "dc13eb6bfa744915b511a2ecba2a643a": {
      "model_module": "@jupyter-widgets/controls",
      "model_module_version": "2.0.0",
      "model_name": "HTMLModel",
      "state": {
       "_dom_classes": [],
       "_model_module": "@jupyter-widgets/controls",
       "_model_module_version": "2.0.0",
       "_model_name": "HTMLModel",
       "_view_count": null,
       "_view_module": "@jupyter-widgets/controls",
       "_view_module_version": "2.0.0",
       "_view_name": "HTMLView",
       "description": "",
       "description_allow_html": false,
       "layout": "IPY_MODEL_a8e5eab61df2492380c10d5b3aec189a",
       "placeholder": "​",
       "style": "IPY_MODEL_0cae51a297d6479ea5991f89268dce24",
       "tabbable": null,
       "tooltip": null,
       "value": "100%"
      }
     },
     "dd0c7546f09c4920a725b3b0ce3411b4": {
      "model_module": "@jupyter-widgets/controls",
      "model_module_version": "2.0.0",
      "model_name": "HTMLModel",
      "state": {
       "_dom_classes": [],
       "_model_module": "@jupyter-widgets/controls",
       "_model_module_version": "2.0.0",
       "_model_name": "HTMLModel",
       "_view_count": null,
       "_view_module": "@jupyter-widgets/controls",
       "_view_module_version": "2.0.0",
       "_view_name": "HTMLView",
       "description": "",
       "description_allow_html": false,
       "layout": "IPY_MODEL_2bd516bdb656416cab54fb7be95114c5",
       "placeholder": "​",
       "style": "IPY_MODEL_430ba58e903e482c878a5407b313d04c",
       "tabbable": null,
       "tooltip": null,
       "value": "100%"
      }
     },
     "e9b02f18e1654408b0f2f3343b3fd56f": {
      "model_module": "@jupyter-widgets/controls",
      "model_module_version": "2.0.0",
      "model_name": "FloatProgressModel",
      "state": {
       "_dom_classes": [],
       "_model_module": "@jupyter-widgets/controls",
       "_model_module_version": "2.0.0",
       "_model_name": "FloatProgressModel",
       "_view_count": null,
       "_view_module": "@jupyter-widgets/controls",
       "_view_module_version": "2.0.0",
       "_view_name": "ProgressView",
       "bar_style": "success",
       "description": "",
       "description_allow_html": false,
       "layout": "IPY_MODEL_9f004adb039b4e0e8ad0d8f78045e0a6",
       "max": 45685,
       "min": 0,
       "orientation": "horizontal",
       "style": "IPY_MODEL_57c9d1588aff4e92a03c783b29bb66ac",
       "tabbable": null,
       "tooltip": null,
       "value": 45685
      }
     },
     "fb20c8f3e117426c924ccf064bbe49dc": {
      "model_module": "@jupyter-widgets/base",
      "model_module_version": "2.0.0",
      "model_name": "LayoutModel",
      "state": {
       "_model_module": "@jupyter-widgets/base",
       "_model_module_version": "2.0.0",
       "_model_name": "LayoutModel",
       "_view_count": null,
       "_view_module": "@jupyter-widgets/base",
       "_view_module_version": "2.0.0",
       "_view_name": "LayoutView",
       "align_content": null,
       "align_items": null,
       "align_self": null,
       "border_bottom": null,
       "border_left": null,
       "border_right": null,
       "border_top": null,
       "bottom": null,
       "display": null,
       "flex": null,
       "flex_flow": null,
       "grid_area": null,
       "grid_auto_columns": null,
       "grid_auto_flow": null,
       "grid_auto_rows": null,
       "grid_column": null,
       "grid_gap": null,
       "grid_row": null,
       "grid_template_areas": null,
       "grid_template_columns": null,
       "grid_template_rows": null,
       "height": null,
       "justify_content": null,
       "justify_items": null,
       "left": null,
       "margin": null,
       "max_height": null,
       "max_width": null,
       "min_height": null,
       "min_width": null,
       "object_fit": null,
       "object_position": null,
       "order": null,
       "overflow": null,
       "padding": null,
       "right": null,
       "top": null,
       "visibility": null,
       "width": null
      }
     }
    },
    "version_major": 2,
    "version_minor": 0
   }
  }
 },
 "nbformat": 4,
 "nbformat_minor": 5
}
