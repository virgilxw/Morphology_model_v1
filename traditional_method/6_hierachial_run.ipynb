{
 "cells": [
  {
   "cell_type": "code",
   "execution_count": 1,
   "metadata": {},
   "outputs": [],
   "source": [
    "import papermill as pm\n",
    "import os\n",
    "from tqdm import tqdm"
   ]
  },
  {
   "cell_type": "code",
   "execution_count": 2,
   "metadata": {},
   "outputs": [
    {
     "data": {
      "text/plain": [
       "range(3, 6)"
      ]
     },
     "execution_count": 2,
     "metadata": {},
     "output_type": "execute_result"
    }
   ],
   "source": [
    "range(3, 6)"
   ]
  },
  {
   "cell_type": "code",
   "execution_count": 4,
   "metadata": {},
   "outputs": [
    {
     "name": "stderr",
     "output_type": "stream",
     "text": [
      "Executing: 100%|██████████| 33/33 [01:47<00:00,  3.24s/cell]\n",
      "Executing: 100%|██████████| 33/33 [03:20<00:00,  6.09s/cell]\n",
      "Executing: 100%|██████████| 33/33 [08:45<00:00, 15.93s/cell]\n",
      "Executing: 100%|██████████| 33/33 [20:59<00:00, 38.18s/cell] \n",
      "Executing: 100%|██████████| 33/33 [44:04<00:00, 80.14s/cell] \n",
      "Executing: 100%|██████████| 33/33 [1:15:25<00:00, 137.13s/cell]\n",
      " 46%|████▌     | 6/13 [2:34:23<4:47:12, 2461.77s/it]"
     ]
    }
   ],
   "source": [
    "for i in tqdm(range(2, 15)):\n",
    "    subset_range = i * 1000  # Use a different variable name instead of 'range'\n",
    "    pm.execute_notebook(\n",
    "        '6_hierachial_clustering_time_test.ipynb',\n",
    "        f\"../output/Glasgow_OS/Glasgow_OS_{subset_range}_6_hierachial_clustering_time_test.ipynb\",\n",
    "        parameters=dict(subset_dist=subset_range)\n",
    "    )"
   ]
  },
  {
   "cell_type": "code",
   "execution_count": null,
   "metadata": {},
   "outputs": [],
   "source": []
  }
 ],
 "metadata": {
  "kernelspec": {
   "display_name": "Python 3",
   "language": "python",
   "name": "python3"
  },
  "language_info": {
   "codemirror_mode": {
    "name": "ipython",
    "version": 3
   },
   "file_extension": ".py",
   "mimetype": "text/x-python",
   "name": "python",
   "nbconvert_exporter": "python",
   "pygments_lexer": "ipython3",
   "version": "3.11.7"
  }
 },
 "nbformat": 4,
 "nbformat_minor": 2
}
