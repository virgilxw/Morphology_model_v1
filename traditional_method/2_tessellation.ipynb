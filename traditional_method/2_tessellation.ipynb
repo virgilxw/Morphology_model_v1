{
 "cells": [
  {
   "cell_type": "code",
   "execution_count": null,
   "id": "f59900a1",
   "metadata": {
    "execution": {
     "iopub.execute_input": "2023-04-28T16:09:19.081216Z",
     "iopub.status.busy": "2023-04-28T16:09:19.080833Z",
     "iopub.status.idle": "2023-04-28T16:09:21.387745Z",
     "shell.execute_reply": "2023-04-28T16:09:21.386725Z"
    },
    "papermill": {
     "duration": null,
     "end_time": null,
     "exception": null,
     "start_time": null,
     "status": "completed"
    },
    "tags": []
   },
   "outputs": [],
   "source": [
    "from dask.distributed import Client, LocalCluster\n",
    "from dask import delayed, dataframe as dd\n",
    "import dask\n",
    "import pandas as pd\n",
    "import geopandas as gpd\n",
    "import math\n",
    "import numpy as np\n",
    "import momepy\n",
    "import matplotlib.pyplot as plt\n",
    "import contextily as ctx\n",
    "from math import ceil\n",
    "from shapely.geometry import box\n",
    "from tqdm import tqdm"
   ]
  },
  {
   "cell_type": "code",
   "execution_count": null,
   "id": "bb9b9886",
   "metadata": {
    "papermill": {
     "duration": null,
     "end_time": null,
     "exception": null,
     "start_time": null,
     "status": "completed"
    },
    "tags": [
     "parameters"
    ]
   },
   "outputs": [],
   "source": [
    "local_crs = 27700\n",
    "place = \"test\"\n",
    "lat = 55.86421405612109\n",
    "lng = -4.251846930489373\n",
    "country = \"UK\"\n",
    "crs=4326\n",
    "radius=1"
   ]
  },
  {
   "cell_type": "code",
   "execution_count": null,
   "id": "9f408918",
   "metadata": {
    "execution": {
     "iopub.execute_input": "2023-04-28T16:09:22.576213Z",
     "iopub.status.busy": "2023-04-28T16:09:22.575725Z",
     "iopub.status.idle": "2023-04-28T16:09:22.905156Z",
     "shell.execute_reply": "2023-04-28T16:09:22.904450Z"
    },
    "papermill": {
     "duration": null,
     "end_time": null,
     "exception": null,
     "start_time": null,
     "status": "completed"
    },
    "tags": []
   },
   "outputs": [],
   "source": [
    "streets = gpd.read_parquet(f\"../output/{place}/streets_raw.pq\").explode().to_crs(local_crs).reset_index(drop=True)\n",
    "\n",
    "buildings = gpd.read_parquet(f\"../output/{place}/buildings_raw.pq\").to_crs(local_crs)\n",
    "\n",
    "study_area = gpd.read_parquet(f\"../output/{place}/study_area.pq\").to_crs(local_crs)\n",
    "\n",
    "water = gpd.read_parquet(f\"../output/{place}/water.pq\").to_crs(local_crs)\n",
    "\n",
    "rail = gpd.read_parquet(f\"../output/{place}/rail_raw.pq\").to_crs(local_crs).reset_index(drop=True)"
   ]
  },
  {
   "cell_type": "code",
   "execution_count": null,
   "id": "57368c85",
   "metadata": {
    "papermill": {
     "duration": null,
     "end_time": null,
     "exception": null,
     "start_time": null,
     "status": "completed"
    },
    "tags": []
   },
   "outputs": [],
   "source": [
    "daskCluster = LocalCluster(threads_per_worker=2,\n",
    "                n_workers=8, memory_limit='70GB')\n",
    "\n",
    "client = Client(daskCluster)\n",
    "\n",
    "client"
   ]
  },
  {
   "cell_type": "code",
   "execution_count": null,
   "id": "080e8ca1",
   "metadata": {
    "papermill": {
     "duration": null,
     "end_time": null,
     "exception": null,
     "start_time": null,
     "status": "completed"
    },
    "tags": []
   },
   "outputs": [],
   "source": [
    "streets[~streets['geometry'].is_valid]"
   ]
  },
  {
   "cell_type": "code",
   "execution_count": null,
   "id": "22613620",
   "metadata": {
    "papermill": {
     "duration": null,
     "end_time": null,
     "exception": null,
     "start_time": null,
     "status": "completed"
    },
    "tags": []
   },
   "outputs": [],
   "source": [
    "buildings[~buildings['geometry'].is_valid]"
   ]
  },
  {
   "cell_type": "code",
   "execution_count": null,
   "id": "99c591be",
   "metadata": {
    "papermill": {
     "duration": null,
     "end_time": null,
     "exception": null,
     "start_time": null,
     "status": "completed"
    },
    "tags": []
   },
   "outputs": [],
   "source": [
    "water[~water['geometry'].is_valid]"
   ]
  },
  {
   "cell_type": "code",
   "execution_count": null,
   "id": "4002f61f",
   "metadata": {},
   "outputs": [],
   "source": [
    "buildings.plot()"
   ]
  },
  {
   "cell_type": "code",
   "execution_count": null,
   "id": "0a83c0ed",
   "metadata": {
    "papermill": {
     "duration": null,
     "end_time": null,
     "exception": null,
     "start_time": null,
     "status": "completed"
    },
    "tags": []
   },
   "outputs": [],
   "source": [
    "# buildings = momepy.preprocess(buildings.reset_index(), size=40,\n",
    "#                               compactness=0.2, islands=True)"
   ]
  },
  {
   "cell_type": "code",
   "execution_count": null,
   "id": "9874be15",
   "metadata": {},
   "outputs": [],
   "source": [
    "buildings"
   ]
  },
  {
   "cell_type": "code",
   "execution_count": null,
   "id": "328e308d",
   "metadata": {
    "papermill": {
     "duration": null,
     "end_time": null,
     "exception": null,
     "start_time": null,
     "status": "completed"
    },
    "tags": []
   },
   "outputs": [],
   "source": [
    "# Check for invalid geometries\n",
    "invalid_geometries = buildings[~buildings.geometry.is_valid]\n",
    "\n",
    "# If there are invalid geometries, attempt to fix them\n",
    "if not invalid_geometries.empty:\n",
    "    print(f\"Found {len(invalid_geometries)} invalid geometries. Attempting to fix...\")\n",
    "    buildings.geometry = buildings.geometry.buffer(0)\n",
    "\n",
    "    # Recheck for invalid geometries\n",
    "    still_invalid = buildings[~buildings.geometry.is_valid]\n",
    "    if still_invalid.empty:\n",
    "        print(\"All invalid geometries fixed.\")\n",
    "    else:\n",
    "        print(f\"Could not fix {len(still_invalid)} geometries.\")\n",
    "else:\n",
    "    print(\"No invalid geometries found.\")"
   ]
  },
  {
   "cell_type": "code",
   "execution_count": null,
   "id": "b067ac02",
   "metadata": {
    "papermill": {
     "duration": null,
     "end_time": null,
     "exception": null,
     "start_time": null,
     "status": "completed"
    },
    "tags": []
   },
   "outputs": [],
   "source": [
    "buildings['uID'] = momepy.unique_id(buildings)"
   ]
  },
  {
   "cell_type": "code",
   "execution_count": null,
   "id": "a3649a33",
   "metadata": {
    "papermill": {
     "duration": null,
     "end_time": null,
     "exception": null,
     "start_time": null,
     "status": "completed"
    },
    "tags": []
   },
   "outputs": [],
   "source": [
    "water_bodies_boundaries = []\n",
    "\n",
    "# Explode the GeoDataFrame into a GeoSeries of polygons and multipolygons\n",
    "gs = water.explode()\n",
    "\n",
    "# Convert each polygon into a MultiLineString\n",
    "mls = gs.geometry.boundary\n",
    "\n",
    "# Convert the MultiLineString into a DataFrame\n",
    "water_bodies = gpd.GeoDataFrame({'geometry': mls})\n",
    "\n",
    "for water_body in water_bodies.geometry:\n",
    "    # Create a LineString object from the coordinates\n",
    "    water_bodies_boundaries.append(water_body)\n",
    "\n",
    "# # Create a GeoDataFrame of the water area boundaries\n",
    "water_bodies_boundaries = gpd.GeoDataFrame({'geometry': water_bodies_boundaries}).reset_index(drop=True)"
   ]
  },
  {
   "cell_type": "code",
   "execution_count": null,
   "id": "eb1e48d0",
   "metadata": {
    "execution": {
     "iopub.execute_input": "2023-04-28T16:09:22.942653Z",
     "iopub.status.busy": "2023-04-28T16:09:22.942273Z",
     "iopub.status.idle": "2023-04-28T16:09:29.405785Z",
     "shell.execute_reply": "2023-04-28T16:09:29.404637Z"
    },
    "papermill": {
     "duration": null,
     "end_time": null,
     "exception": null,
     "start_time": null,
     "status": "completed"
    },
    "tags": []
   },
   "outputs": [],
   "source": [
    "enclosures = momepy.enclosures(streets, limit=study_area, additional_barriers=[water_bodies_boundaries, rail])"
   ]
  },
  {
   "cell_type": "code",
   "execution_count": null,
   "id": "fbecfff4",
   "metadata": {
    "papermill": {
     "duration": null,
     "end_time": null,
     "exception": null,
     "start_time": null,
     "status": "completed"
    },
    "tags": []
   },
   "outputs": [],
   "source": [
    "num_chunks = ceil(len(buildings) / 1400000)"
   ]
  },
  {
   "cell_type": "code",
   "execution_count": null,
   "id": "3741d41e",
   "metadata": {
    "papermill": {
     "duration": null,
     "end_time": null,
     "exception": null,
     "start_time": null,
     "status": "completed"
    },
    "tags": []
   },
   "outputs": [],
   "source": [
    "def split_bounds(bounds, num_chunks):\n",
    "    minx, miny, maxx, maxy = bounds\n",
    "    width = maxx - minx\n",
    "    height = maxy - miny\n",
    "\n",
    "    # Assuming a square grid for simplicity\n",
    "    chunks_per_side = math.ceil(math.sqrt(num_chunks))\n",
    "    chunk_width = width / chunks_per_side\n",
    "    chunk_height = height / chunks_per_side\n",
    "\n",
    "    chunks = []\n",
    "    for i in range(chunks_per_side):\n",
    "        for j in range(chunks_per_side):\n",
    "            new_minx = minx + i * chunk_width\n",
    "            new_miny = miny + j * chunk_height\n",
    "            new_maxx = new_minx + chunk_width\n",
    "            new_maxy = new_miny + chunk_height\n",
    "\n",
    "            # Create a new bounding box (as a shapely box) for each chunk\n",
    "            chunk_bounds = box(new_minx, new_miny, new_maxx, new_maxy)\n",
    "            chunks.append(chunk_bounds)\n",
    "\n",
    "    return gpd.GeoSeries(chunks)\n",
    "\n",
    "# Example usage\n",
    "chunks = split_bounds(enclosures.total_bounds, num_chunks)"
   ]
  },
  {
   "cell_type": "code",
   "execution_count": null,
   "id": "02cc7fa5",
   "metadata": {
    "papermill": {
     "duration": null,
     "end_time": null,
     "exception": null,
     "start_time": null,
     "status": "completed"
    },
    "tags": []
   },
   "outputs": [],
   "source": [
    "chunks = gpd.GeoDataFrame(geometry = chunks)\n",
    "chunks[\"chunk_ID\"] = range(len(chunks))\n",
    "enclosures[\"centroid\"] = enclosures.centroid\n",
    "enclosures = enclosures.sjoin(chunks, how=\"left\")\n",
    "enclosures = enclosures[[\"geometry\", \"chunk_ID\", \"eID\"]]"
   ]
  },
  {
   "cell_type": "code",
   "execution_count": null,
   "id": "fe54fe81",
   "metadata": {},
   "outputs": [],
   "source": [
    "chunks"
   ]
  },
  {
   "cell_type": "code",
   "execution_count": null,
   "id": "c60ba2ff",
   "metadata": {
    "papermill": {
     "duration": null,
     "end_time": null,
     "exception": null,
     "start_time": null,
     "status": "completed"
    },
    "tags": []
   },
   "outputs": [],
   "source": [
    "# Plotting each chunk\n",
    "fig, ax = plt.subplots()\n",
    "chunks.plot(ax=ax, edgecolor='black', facecolor='none')\n",
    "enclosures.plot(ax=ax, column='chunk_ID', categorical=True, legend=True)\n",
    "ctx.add_basemap(ax, source=ctx.providers.CartoDB.Positron, crs=buildings.crs)\n",
    "plt.show()"
   ]
  },
  {
   "cell_type": "code",
   "execution_count": null,
   "id": "d5939778",
   "metadata": {
    "papermill": {
     "duration": null,
     "end_time": null,
     "exception": null,
     "start_time": null,
     "status": "completed"
    },
    "tags": []
   },
   "outputs": [],
   "source": [
    "buildings = buildings[[\"geometry\"]].sjoin(enclosures, how=\"left\")"
   ]
  },
  {
   "cell_type": "code",
   "execution_count": null,
   "id": "0f15a426",
   "metadata": {
    "papermill": {
     "duration": null,
     "end_time": null,
     "exception": null,
     "start_time": null,
     "status": "completed"
    },
    "tags": []
   },
   "outputs": [],
   "source": [
    "buildings = buildings.dropna()[[\"geometry\", \"chunk_ID\"]]\n",
    "buildings[\"uID\"] = range(len(buildings))\n",
    "old_buildings = buildings\n",
    "buildings = buildings.set_geometry('geometry')"
   ]
  },
  {
   "cell_type": "code",
   "execution_count": null,
   "id": "6fe6c2de",
   "metadata": {},
   "outputs": [],
   "source": [
    "buildings = buildings.to_crs(local_crs)\n",
    "enclosures = enclosures.to_crs(local_crs)"
   ]
  },
  {
   "cell_type": "code",
   "execution_count": null,
   "id": "28807b5f",
   "metadata": {
    "papermill": {
     "duration": null,
     "end_time": null,
     "exception": null,
     "start_time": null,
     "status": "completed"
    },
    "tags": []
   },
   "outputs": [],
   "source": [
    "tessellation = gpd.GeoDataFrame()\n",
    "\n",
    "for index, chunk in tqdm(chunks.iterrows(), total= chunks.shape[0]):\n",
    "    chunk_tessellation = momepy.Tessellation(buildings[buildings[\"chunk_ID\"]==index], unique_id='uID', enclosures=enclosures[enclosures[\"chunk_ID\"] == index], use_dask = True).tessellation\n",
    "    tessellation = pd.concat([tessellation, chunk_tessellation])\n",
    "    \n",
    "tessellation_old = tessellation"
   ]
  },
  {
   "cell_type": "code",
   "execution_count": null,
   "id": "c32c91f2",
   "metadata": {
    "papermill": {
     "duration": null,
     "end_time": null,
     "exception": null,
     "start_time": null,
     "status": "completed"
    },
    "tags": []
   },
   "outputs": [],
   "source": [
    "# tessellation.plot()"
   ]
  },
  {
   "cell_type": "code",
   "execution_count": null,
   "id": "cda657e3",
   "metadata": {
    "papermill": {
     "duration": null,
     "end_time": null,
     "exception": null,
     "start_time": null,
     "status": "completed"
    },
    "tags": []
   },
   "outputs": [],
   "source": [
    "tessellation = tessellation_old"
   ]
  },
  {
   "cell_type": "code",
   "execution_count": null,
   "id": "0da7271b",
   "metadata": {
    "papermill": {
     "duration": null,
     "end_time": null,
     "exception": null,
     "start_time": null,
     "status": "completed"
    },
    "tags": []
   },
   "outputs": [],
   "source": [
    "tessellation.to_parquet(f\"../output/{place}/tessellation_p1_raw.pq\")"
   ]
  },
  {
   "cell_type": "code",
   "execution_count": null,
   "id": "013add68",
   "metadata": {
    "papermill": {
     "duration": null,
     "end_time": null,
     "exception": null,
     "start_time": null,
     "status": "completed"
    },
    "tags": []
   },
   "outputs": [],
   "source": [
    "# tessellation = gpd.read_parquet(f\"../output/{place}/tessellation_p1_raw.pq\")"
   ]
  },
  {
   "cell_type": "code",
   "execution_count": null,
   "id": "7048ae2e",
   "metadata": {
    "papermill": {
     "duration": null,
     "end_time": null,
     "exception": null,
     "start_time": null,
     "status": "completed"
    },
    "tags": []
   },
   "outputs": [],
   "source": [
    "tessellation=tessellation.sort_values(by='uID').reset_index(drop=True).dropna(subset=['uID'])"
   ]
  },
  {
   "cell_type": "code",
   "execution_count": null,
   "id": "03761e48",
   "metadata": {
    "papermill": {
     "duration": null,
     "end_time": null,
     "exception": null,
     "start_time": null,
     "status": "completed"
    },
    "tags": []
   },
   "outputs": [],
   "source": [
    "duplicate_gdf = tessellation[tessellation.duplicated('uID', keep=False)]"
   ]
  },
  {
   "cell_type": "code",
   "execution_count": null,
   "id": "632c62f3",
   "metadata": {
    "papermill": {
     "duration": null,
     "end_time": null,
     "exception": null,
     "start_time": null,
     "status": "completed"
    },
    "tags": []
   },
   "outputs": [],
   "source": [
    "@delayed\n",
    "def find_valid_from_multiples(gdf, building):\n",
    "    gdf = gdf[gdf.intersects(building)]\n",
    "        \n",
    "    if gdf.shape[0] > 1:\n",
    "        smallest_area = gdf.geometry.area.idxmin()\n",
    "        return gdf.loc[[smallest_area]]\n",
    "    return gdf\n",
    "\n",
    "# Using a list comprehension for conciseness and efficiency\n",
    "results = dask.compute([\n",
    "    find_valid_from_multiples(duplicate_gdf[duplicate_gdf['uID'] == uid].reset_index(), buildings[buildings[\"uID\"] == uid].geometry.iloc[0])\n",
    "    for uid in duplicate_gdf[\"uID\"].unique()\n",
    "])\n",
    "\n",
    "# Concatenate the results into a single GeoDataFrame\n",
    "a = gpd.GeoDataFrame(pd.concat(results[0], ignore_index=True))\n",
    "tessellation = gpd.GeoDataFrame(pd.concat([tessellation, a], ignore_index=True))\n"
   ]
  },
  {
   "cell_type": "code",
   "execution_count": null,
   "id": "a73f3ce4",
   "metadata": {
    "papermill": {
     "duration": null,
     "end_time": null,
     "exception": null,
     "start_time": null,
     "status": "completed"
    },
    "tags": []
   },
   "outputs": [],
   "source": [
    "tessellation"
   ]
  },
  {
   "cell_type": "code",
   "execution_count": null,
   "id": "17c65a61",
   "metadata": {
    "execution": {
     "iopub.execute_input": "2023-04-28T16:16:53.468198Z",
     "iopub.status.busy": "2023-04-28T16:16:53.467782Z",
     "iopub.status.idle": "2023-04-28T16:16:53.510510Z",
     "shell.execute_reply": "2023-04-28T16:16:53.509345Z"
    },
    "papermill": {
     "duration": null,
     "end_time": null,
     "exception": null,
     "start_time": null,
     "status": "completed"
    },
    "tags": []
   },
   "outputs": [],
   "source": [
    "tessellation = tessellation.drop(\"eID\", axis = 1)"
   ]
  },
  {
   "cell_type": "code",
   "execution_count": null,
   "id": "3fd24f4b",
   "metadata": {
    "papermill": {
     "duration": null,
     "end_time": null,
     "exception": null,
     "start_time": null,
     "status": "completed"
    },
    "tags": []
   },
   "outputs": [],
   "source": [
    "# Convert the 'uID' column of buildings to a set for efficient lookups\n",
    "uIDs_buildings = set(buildings['uID'])\n",
    "\n",
    "# Filter the tesellation GeoDataFrame to keep only rows with uID in buildings\n",
    "tessellation = tessellation[tessellation['uID'].isin(uIDs_buildings)]\n"
   ]
  },
  {
   "cell_type": "code",
   "execution_count": null,
   "id": "43fe4249",
   "metadata": {
    "papermill": {
     "duration": null,
     "end_time": null,
     "exception": null,
     "start_time": null,
     "status": "completed"
    },
    "tags": []
   },
   "outputs": [],
   "source": [
    "# Convert the 'uID' column of buildings to a set for efficient lookups\n",
    "uIDs_tessellation = set(tessellation['uID'])\n",
    "\n",
    "# Filter the tesellation GeoDataFrame to keep only rows with uID in buildings\n",
    "buildings = buildings[buildings['uID'].isin(uIDs_tessellation)]\n"
   ]
  },
  {
   "cell_type": "code",
   "execution_count": null,
   "id": "faf0a722",
   "metadata": {
    "papermill": {
     "duration": null,
     "end_time": null,
     "exception": null,
     "start_time": null,
     "status": "completed"
    },
    "tags": []
   },
   "outputs": [],
   "source": [
    "tessellation"
   ]
  },
  {
   "cell_type": "code",
   "execution_count": null,
   "id": "22d37dad",
   "metadata": {
    "papermill": {
     "duration": null,
     "end_time": null,
     "exception": null,
     "start_time": null,
     "status": "completed"
    },
    "tags": []
   },
   "outputs": [],
   "source": [
    "tessellation = tessellation[[\"uID\", \"geometry\"]]\n",
    "buildings = buildings[[\"uID\", \"geometry\"]]"
   ]
  },
  {
   "cell_type": "code",
   "execution_count": null,
   "id": "ec31918e",
   "metadata": {
    "papermill": {
     "duration": null,
     "end_time": null,
     "exception": null,
     "start_time": null,
     "status": "completed"
    },
    "tags": []
   },
   "outputs": [],
   "source": [
    "tessellation[tessellation.duplicated('uID', keep=False)]"
   ]
  },
  {
   "cell_type": "code",
   "execution_count": null,
   "id": "6097f47b",
   "metadata": {
    "papermill": {
     "duration": null,
     "end_time": null,
     "exception": null,
     "start_time": null,
     "status": "completed"
    },
    "tags": []
   },
   "outputs": [],
   "source": [
    "combined = tessellation.merge(buildings, on='uID', how='inner').reset_index()\n",
    "combined[\"uID\"] = range(len(combined))\n",
    "combined"
   ]
  },
  {
   "cell_type": "code",
   "execution_count": null,
   "id": "0d15e1d4",
   "metadata": {
    "papermill": {
     "duration": null,
     "end_time": null,
     "exception": null,
     "start_time": null,
     "status": "completed"
    },
    "tags": []
   },
   "outputs": [],
   "source": [
    "tessellation = gpd.GeoDataFrame(combined[[\"uID\", \"geometry_x\"]], geometry='geometry_x')\n",
    "tessellation = tessellation.rename(columns={'geometry_x': 'geometry'})"
   ]
  },
  {
   "cell_type": "code",
   "execution_count": null,
   "id": "7445e30a",
   "metadata": {
    "papermill": {
     "duration": null,
     "end_time": null,
     "exception": null,
     "start_time": null,
     "status": "completed"
    },
    "tags": []
   },
   "outputs": [],
   "source": [
    "tessellation = tessellation.set_geometry(\"geometry\", crs=local_crs)"
   ]
  },
  {
   "cell_type": "code",
   "execution_count": null,
   "id": "1413fbdb",
   "metadata": {
    "papermill": {
     "duration": null,
     "end_time": null,
     "exception": null,
     "start_time": null,
     "status": "completed"
    },
    "tags": []
   },
   "outputs": [],
   "source": [
    "buildings = gpd.GeoDataFrame(combined[[\"uID\", \"geometry_y\"]], geometry='geometry_y')\n",
    "buildings = buildings.rename(columns={'geometry_y': 'geometry'})"
   ]
  },
  {
   "cell_type": "code",
   "execution_count": null,
   "id": "61fe9548",
   "metadata": {
    "papermill": {
     "duration": null,
     "end_time": null,
     "exception": null,
     "start_time": null,
     "status": "completed"
    },
    "tags": []
   },
   "outputs": [],
   "source": [
    "buildings = buildings.set_geometry(\"geometry\", crs=local_crs)"
   ]
  },
  {
   "cell_type": "code",
   "execution_count": null,
   "id": "dbc32f1b",
   "metadata": {
    "papermill": {
     "duration": null,
     "end_time": null,
     "exception": null,
     "start_time": null,
     "status": "completed"
    },
    "tags": []
   },
   "outputs": [],
   "source": [
    "tessellation.to_parquet(f\"../output/{place}/tessellation_p2.pq\")"
   ]
  },
  {
   "cell_type": "code",
   "execution_count": null,
   "id": "47b90b73",
   "metadata": {
    "papermill": {
     "duration": null,
     "end_time": null,
     "exception": null,
     "start_time": null,
     "status": "completed"
    },
    "tags": []
   },
   "outputs": [],
   "source": [
    "buildings.to_parquet(f\"../output/{place}/buildings_p2.pq\")"
   ]
  },
  {
   "cell_type": "code",
   "execution_count": null,
   "id": "feb7e9ab",
   "metadata": {},
   "outputs": [],
   "source": [
    "streets.to_parquet(f\"../output/{place}/streets_p2.pq\")"
   ]
  },
  {
   "cell_type": "code",
   "execution_count": null,
   "id": "66a3e2c7",
   "metadata": {
    "papermill": {
     "duration": null,
     "end_time": null,
     "exception": null,
     "start_time": null,
     "status": "completed"
    },
    "tags": []
   },
   "outputs": [],
   "source": [
    "# # Create a figure and axis\n",
    "\n",
    "# # Plot streets in blue on the same axis\n",
    "# streets.plot(ax=ax, color='blue')\n",
    "\n",
    "# # Plot buildings in red on the same axis\n",
    "# buildings.plot(ax=ax, color='red')\n",
    "\n",
    "# tessellation.plot(ax = ax, color = 'green')\n",
    "\n",
    "# # Show the plot\n",
    "# plt.show()"
   ]
  }
 ],
 "metadata": {
  "kernelspec": {
   "display_name": "base",
   "language": "python",
   "name": "python3"
  },
  "language_info": {
   "codemirror_mode": {
    "name": "ipython",
    "version": 3
   },
   "file_extension": ".py",
   "mimetype": "text/x-python",
   "name": "python",
   "nbconvert_exporter": "python",
   "pygments_lexer": "ipython3",
   "version": "3.12.0"
  },
  "papermill": {
   "default_parameters": {},
   "duration": 1.833827,
   "end_time": "2023-12-07T15:03:56.417627",
   "environment_variables": {},
   "exception": null,
   "input_path": "2_tessellation.ipynb",
   "output_path": "2_tessellation-executed.ipynb",
   "parameters": {
    "crs": 4326,
    "lat": 1.28795311,
    "lng": 103.851784,
    "local_crs": 3414,
    "place": "singapore"
   },
   "start_time": "2023-12-07T15:03:54.583800",
   "version": "2.3.4"
  },
  "vscode": {
   "interpreter": {
    "hash": "4d4a16af7eecff68ca78f81aec8d4e5ee20d890b8903eddd3dd732009f4fdc6f"
   }
  }
 },
 "nbformat": 4,
 "nbformat_minor": 5
}
