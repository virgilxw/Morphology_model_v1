{
 "cells": [
  {
   "cell_type": "code",
   "execution_count": null,
   "metadata": {},
   "outputs": [],
   "source": [
    "from osgeo import gdal, osr\n",
    "import os\n",
    "from tqdm import tqdm\n",
    "import rasterio\n",
    "from rasterio.merge import merge\n",
    "import re\n",
    "from osgeo import gdal"
   ]
  },
  {
   "cell_type": "code",
   "execution_count": null,
   "metadata": {},
   "outputs": [],
   "source": [
    "# Define the source and target directories\n",
    "source_directory = \"../input/gitignore/ghsl\"\n",
    "\n",
    "# Check if the source directory exists\n",
    "if not os.path.exists(source_directory):\n",
    "    raise FileNotFoundError(f\"Source directory {source_directory} does not exist.\")\n",
    "\n",
    "# Iterate over each folder in the source directory\n",
    "for folder in tqdm(os.listdir(source_directory)):\n",
    "    folder_path = os.path.join(source_directory, folder)\n",
    "    \n",
    "    # Check if the path is indeed a directory\n",
    "    if os.path.isdir(folder_path):\n",
    "        # Initialize an empty list to hold the reprojected datasets\n",
    "        reprojected_datasets = []\n",
    "\n",
    "        # Iterate over each file in the directory\n",
    "        for file in os.listdir(folder_path):\n",
    "            if file.endswith('.tif'):\n",
    "                # Define the paths for the source and target files\n",
    "                src_file_path = os.path.join(folder_path, file)\n",
    "\n",
    "                # Set up the gdalwarp options\n",
    "                options = gdal.WarpOptions(\n",
    "                    srcSRS='ESRI:54009',\n",
    "                    dstSRS='EPSG:4326',\n",
    "                    resampleAlg='cubicspline',\n",
    "                    format='GTiff'\n",
    "                )\n",
    "\n",
    "                output_dir = f\"../output/reprojected/{folder}\"\n",
    "                # Check if the output directory exists, and create it if it doesn't\n",
    "                if not os.path.exists(output_dir):\n",
    "                    os.makedirs(output_dir)\n",
    "\n",
    "                # Perform the warp operation\n",
    "                gdal.Warp(destNameOrDestDS=f\"{output_dir}/{file}\", srcDSOrSrcDSTab=src_file_path, options=options)\n",
    "\n",
    "                print(f\"Reprojection complete. Output saved to {output_dir}/{file}\")\n",
    "\n",
    "# No specific action is taken for .ovr files in this script; they are simply ignored\n",
    "\n",
    "\n",
    "# Set the directory containing subdirectories of .tif files\n",
    "output_dir = \"../output/reprojected\"\n",
    "\n",
    "# Iterate through each subdirectory in the output directory\n",
    "for folder_name in tqdm([f for f in os.listdir(output_dir) if os.path.isdir(os.path.join(output_dir, f))]):\n",
    "    folder_path = os.path.join(output_dir, folder_name)\n",
    "    \n",
    "    # List all TIF files in the directory\n",
    "    tif_files = [os.path.join(folder_path, f) for f in os.listdir(folder_path) if f.endswith('.tif')]\n",
    "    \n",
    "    # Continue only if there are TIF files in the directory\n",
    "    if tif_files:\n",
    "        # Read all the TIF files into rasterio\n",
    "        src_files_to_mosaic = []\n",
    "        for tif in tif_files:\n",
    "            src = rasterio.open(tif)\n",
    "            src_files_to_mosaic.append(src)\n",
    "        \n",
    "        # Merge function returns a single mosaic array and the transformation info\n",
    "        mosaic, out_trans = merge(src_files_to_mosaic)\n",
    "        \n",
    "        # Copy the metadata\n",
    "        out_meta = src.meta.copy()\n",
    "        \n",
    "        # Update the metadata with new dimensions, transform, and CRS\n",
    "        out_meta.update({\"driver\": \"GTiff\",\n",
    "                         \"height\": mosaic.shape[1],\n",
    "                         \"width\": mosaic.shape[2],\n",
    "                         \"transform\": out_trans,\n",
    "                         \"crs\": src.crs})\n",
    "        \n",
    "        # Define the output file name as folder_name.tif in the output directory\n",
    "        output_file = os.path.join(output_dir, f'{folder_name}.tif')\n",
    "        \n",
    "        # Write the mosaic raster to disk\n",
    "        with rasterio.open(output_file, \"w\", **out_meta) as dest:\n",
    "            dest.write(mosaic)\n",
    "        \n",
    "        print(f\"Merged file created at {output_file}\")"
   ]
  },
  {
   "cell_type": "code",
   "execution_count": null,
   "metadata": {},
   "outputs": [],
   "source": [
    "import os\n",
    "import rasterio\n",
    "from rasterio.merge import merge\n",
    "from tqdm import tqdm\n",
    "\n",
    "# Set the directory containing subdirectories of .tif files\n",
    "output_dir = \"../output/reprojected\"\n",
    "\n",
    "# Iterate through each subdirectory in the output directory\n",
    "for folder_name in tqdm([f for f in os.listdir(output_dir) if os.path.isdir(os.path.join(output_dir, f))]):\n",
    "    folder_path = os.path.join(output_dir, folder_name)\n",
    "    \n",
    "    # List all TIF files in the directory\n",
    "    tif_files = [os.path.join(folder_path, f) for f in os.listdir(folder_path) if f.endswith('.tif')]\n",
    "    \n",
    "    # Continue only if there are TIF files in the directory\n",
    "    if tif_files:\n",
    "        # Read all the TIF files into rasterio\n",
    "        src_files_to_mosaic = []\n",
    "        for tif in tif_files:\n",
    "            src = rasterio.open(tif)\n",
    "            src_files_to_mosaic.append(src)\n",
    "        \n",
    "        # Merge function returns a single mosaic array and the transformation info\n",
    "        mosaic, out_trans = merge(src_files_to_mosaic)\n",
    "        \n",
    "        # Copy the metadata\n",
    "        out_meta = src.meta.copy()\n",
    "        \n",
    "        # Update the metadata with new dimensions, transform, and CRS\n",
    "        out_meta.update({\"driver\": \"GTiff\",\n",
    "                         \"height\": mosaic.shape[1],\n",
    "                         \"width\": mosaic.shape[2],\n",
    "                         \"transform\": out_trans,\n",
    "                         \"crs\": src.crs})\n",
    "        \n",
    "        # Define the output file name as folder_name.tif in the output directory\n",
    "        output_file = os.path.join(output_dir, f'{folder_name}.tif')\n",
    "        \n",
    "        # Write the mosaic raster to disk\n",
    "        with rasterio.open(output_file, \"w\", **out_meta) as dest:\n",
    "            dest.write(mosaic)\n",
    "        \n",
    "        print(f\"Merged file created at {output_file}\")"
   ]
  },
  {
   "cell_type": "code",
   "execution_count": 4,
   "metadata": {},
   "outputs": [
    {
     "name": "stderr",
     "output_type": "stream",
     "text": [
      "c:\\Users\\reube\\anaconda3\\envs\\processor\\Lib\\site-packages\\osgeo\\gdal.py:312: FutureWarning: Neither gdal.UseExceptions() nor gdal.DontUseExceptions() has been explicitly called. In GDAL 4.0, exceptions will be enabled by default.\n",
      "  warnings.warn(\n"
     ]
    },
    {
     "name": "stdout",
     "output_type": "stream",
     "text": [
      "Alignment complete. Output saved to ../output/reprojected\\aligned_water.tif\n",
      "Alignment complete. Output saved to ../output/reprojected\\aligned_ghs-smod.tif\n",
      "Alignment complete. Output saved to ../output/reprojected\\aligned_ghs-built-v.tif\n",
      "Alignment complete. Output saved to ../output/reprojected\\aligned_ghs-built-c.tif\n",
      "Alignment complete. Output saved to ../output/reprojected\\aligned_ghs-pop.tif\n",
      "Alignment complete. Output saved to ../output/reprojected\\aligned_ghs-built-s.tif\n"
     ]
    },
    {
     "ename": "",
     "evalue": "",
     "output_type": "error",
     "traceback": [
      "\u001b[1;31mThe Kernel crashed while executing code in the the current cell or a previous cell. Please review the code in the cell(s) to identify a possible cause of the failure. Click <a href='https://aka.ms/vscodeJupyterKernelCrash'>here</a> for more info. View Jupyter <a href='command:jupyter.viewOutput'>log</a> for further details."
     ]
    }
   ],
   "source": [
    "# Define the directories\n",
    "output_dir = \"../output/reprojected\"\n",
    "reference_file = \"../output/reprojected/ghs-built-h.tif\"  # Adjust path as necessary\n",
    "\n",
    "# Ensure the reference file exists\n",
    "if not os.path.exists(reference_file):\n",
    "    raise FileNotFoundError(f\"Reference file {reference_file} does not exist.\")\n",
    "\n",
    "# Retrieve the properties of the reference file\n",
    "with gdal.Open(reference_file) as ref:\n",
    "    ref_proj = ref.GetProjection()\n",
    "    ref_geotrans = ref.GetGeoTransform()\n",
    "    # Extract resolution from geotransform (assuming square pixels)\n",
    "    ref_resolution = (ref_geotrans[1], ref_geotrans[5])\n",
    "\n",
    "# Iterate over each file in the output directory\n",
    "for file_name in os.listdir(output_dir):\n",
    "    if file_name.endswith('.tif') and file_name != os.path.basename(reference_file):\n",
    "        file_path = os.path.join(output_dir, file_name)\n",
    "\n",
    "        # Define the destination file path\n",
    "        aligned_file_path = os.path.join(output_dir, f\"aligned_{file_name}\")\n",
    "\n",
    "        # Set up the gdalwarp options to align to reference file\n",
    "        options = gdal.WarpOptions(\n",
    "            format='GTiff',\n",
    "            dstSRS=ref_proj,\n",
    "            xRes=ref_resolution[0],\n",
    "            yRes=ref_resolution[1],\n",
    "            targetAlignedPixels=True,\n",
    "            resampleAlg='near'  # or another resampling method as needed\n",
    "        )\n",
    "\n",
    "        # Perform the warp operation to align to the reference grid\n",
    "        gdal.Warp(destNameOrDestDS=aligned_file_path, srcDSOrSrcDSTab=file_path, options=options)\n",
    "        print(f\"Alignment complete. Output saved to {aligned_file_path}\")"
   ]
  },
  {
   "cell_type": "code",
   "execution_count": 1,
   "metadata": {},
   "outputs": [
    {
     "data": {
      "text/plain": [
       "'../output/reprojected/aligned_ghs-built-h.tif'"
      ]
     },
     "execution_count": 1,
     "metadata": {},
     "output_type": "execute_result"
    }
   ],
   "source": [
    "import shutil\n",
    "\n",
    "# Define the source file and the destination file\n",
    "source_file = \"../output/reprojected/ghs-built-h.tif\"\n",
    "destination_file = \"../output/reprojected/aligned_ghs-built-h.tif\"\n",
    "\n",
    "# Copy the source file to the destination file\n",
    "shutil.copyfile(source_file, destination_file)"
   ]
  },
  {
   "cell_type": "code",
   "execution_count": null,
   "metadata": {},
   "outputs": [],
   "source": []
  }
 ],
 "metadata": {
  "kernelspec": {
   "display_name": "processor",
   "language": "python",
   "name": "python3"
  },
  "language_info": {
   "codemirror_mode": {
    "name": "ipython",
    "version": 3
   },
   "file_extension": ".py",
   "mimetype": "text/x-python",
   "name": "python",
   "nbconvert_exporter": "python",
   "pygments_lexer": "ipython3",
   "version": "3.12.0"
  }
 },
 "nbformat": 4,
 "nbformat_minor": 2
}
