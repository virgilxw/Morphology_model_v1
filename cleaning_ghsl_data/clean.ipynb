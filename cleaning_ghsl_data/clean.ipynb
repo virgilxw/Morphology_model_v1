{
 "cells": [
  {
   "cell_type": "code",
   "execution_count": null,
   "metadata": {},
   "outputs": [],
   "source": [
    "from osgeo import gdal, osr\n",
    "import os\n",
    "from tqdm import tqdm\n",
    "import rasterio\n",
    "from rasterio.merge import merge\n",
    "import re\n",
    "from osgeo import gdal\n",
    "from dask import compute, delayed\n",
    "from dask.distributed import Client, LocalCluster\n",
    "import dask"
   ]
  },
  {
   "cell_type": "code",
   "execution_count": null,
   "metadata": {},
   "outputs": [],
   "source": [
    "daskCluster = LocalCluster(threads_per_worker=2,\n",
    "                n_workers=8, memory_limit='70GB')\n",
    "\n",
    "client = Client(daskCluster)\n",
    "\n",
    "client\n"
   ]
  },
  {
   "cell_type": "code",
   "execution_count": null,
   "metadata": {},
   "outputs": [],
   "source": [
    "\n",
    "# Define the input and output directories\n",
    "input_directory = \"../../input/gitignore/ghsl\"\n",
    "output_directory = \"../../input/gitignore/ghsl/reprojected\"\n",
    "\n",
    "# Create the output directory if it doesn't exist\n",
    "if not os.path.exists(output_directory):\n",
    "    os.makedirs(output_directory)\n",
    "\n",
    "# Define a delayed function for warping\n",
    "@dask.delayed\n",
    "def warp_tif(input_file, output_file):\n",
    "    # Open the input dataset\n",
    "    dataset = gdal.Open(input_file)\n",
    "    \n",
    "    # Define the warp options, including the target EPSG\n",
    "    warp_options = gdal.WarpOptions(dstSRS='EPSG:4326')\n",
    "    \n",
    "    # Perform the warp operation and save the output\n",
    "    gdal.Warp(destNameOrDestDS=output_file, srcDSOrSrcDSTab=dataset, options=warp_options)\n",
    "    \n",
    "    # Close the dataset\n",
    "    dataset = None\n",
    "    return output_file\n",
    "\n",
    "# List to hold the delayed tasks\n",
    "tasks = []\n",
    "\n",
    "# Loop through all files in the input directory and create tasks\n",
    "for filename in os.listdir(input_directory):\n",
    "    if filename.endswith(\".tif\"):\n",
    "        input_file = os.path.join(input_directory, filename)\n",
    "        output_file = os.path.join(output_directory, \"warped_\" + filename)\n",
    "        task = warp_tif(input_file, output_file)\n",
    "        tasks.append(task)\n",
    "\n",
    "# Compute all tasks in parallel\n",
    "results = compute(*tasks)\n",
    "\n",
    "print(\"Warping complete. Warped files are saved in:\", output_directory)"
   ]
  },
  {
   "cell_type": "code",
   "execution_count": null,
   "metadata": {},
   "outputs": [],
   "source": [
    "import os\n",
    "import rasterio\n",
    "from rasterio.merge import merge\n",
    "from tqdm import tqdm\n",
    "from osgeo import gdal\n",
    "\n",
    "\n",
    "# Define the directories\n",
    "output_dir =\"../../input/gitignore/ghsl/reprojected\"\n",
    "reference_file = \"../../input/gitignore/ghsl/reprojected/warped_GHS_BUILT_H_100.tif\"  # Adjust path as necessary\n",
    "\n",
    "# Ensure the reference file exists\n",
    "if not os.path.exists(reference_file):\n",
    "    raise FileNotFoundError(f\"Reference file {reference_file} does not exist.\")\n",
    "\n",
    "# Retrieve the properties of the reference file\n",
    "with gdal.Open(reference_file) as ref:\n",
    "    ref_proj = ref.GetProjection()\n",
    "    ref_geotrans = ref.GetGeoTransform()\n",
    "    # Extract resolution from geotransform (assuming square pixels)\n",
    "    ref_resolution = (ref_geotrans[1], ref_geotrans[5])\n",
    "\n",
    "# Iterate over each file in the output directory\n",
    "for file_name in os.listdir(output_dir):\n",
    "    if file_name.endswith('.tif') and file_name != os.path.basename(reference_file):\n",
    "        file_path = os.path.join(output_dir, file_name)\n",
    "\n",
    "        # Define the destination file path\n",
    "        aligned_file_path = os.path.join(output_dir, f\"aligned_{file_name}\")\n",
    "\n",
    "        # Set up the gdalwarp options to align to reference file\n",
    "        options = gdal.WarpOptions(\n",
    "            format='GTiff',\n",
    "            dstSRS=ref_proj,\n",
    "            xRes=ref_resolution[0],\n",
    "            yRes=ref_resolution[1],\n",
    "            targetAlignedPixels=True,\n",
    "            resampleAlg='near'  # or another resampling method as needed\n",
    "        )\n",
    "\n",
    "        # Perform the warp operation to align to the reference grid\n",
    "        gdal.Warp(destNameOrDestDS=aligned_file_path, srcDSOrSrcDSTab=file_path, options=options)\n",
    "        print(f\"Alignment complete. Output saved to {aligned_file_path}\")"
   ]
  },
  {
   "cell_type": "code",
   "execution_count": null,
   "metadata": {},
   "outputs": [],
   "source": [
    "import shutil\n",
    "\n",
    "# Define the source file and the destination file\n",
    "source_file = \".../output/reprojected/ghs-built-h.tif\"\n",
    "destination_file = \".../output/reprojected/aligned_ghs-built-h.tif\"\n",
    "\n",
    "# Copy the source file to the destination file\n",
    "shutil.copyfile(source_file, destination_file)"
   ]
  },
  {
   "cell_type": "code",
   "execution_count": null,
   "metadata": {},
   "outputs": [],
   "source": []
  }
 ],
 "metadata": {
  "kernelspec": {
   "display_name": "processor",
   "language": "python",
   "name": "python3"
  },
  "language_info": {
   "codemirror_mode": {
    "name": "ipython",
    "version": 3
   },
   "file_extension": ".py",
   "mimetype": "text/x-python",
   "name": "python",
   "nbconvert_exporter": "python",
   "pygments_lexer": "ipython3",
   "version": "3.12.0"
  }
 },
 "nbformat": 4,
 "nbformat_minor": 2
}
