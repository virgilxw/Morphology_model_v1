{
 "cells": [
  {
   "cell_type": "code",
   "execution_count": 1,
   "metadata": {},
   "outputs": [],
   "source": [
    "\n",
    "import nbformat"
   ]
  },
  {
   "cell_type": "code",
   "execution_count": 2,
   "metadata": {},
   "outputs": [],
   "source": [
    "def create_new_file(place, lat, lng, crs, local_crs):\n",
    "    # Read the template file\n",
    "    with open('jobscript_template.txt', 'r') as file:\n",
    "        file_contents = file.read()\n",
    "        \n",
    "     # Convert line endings from CRLF to LF if needed\n",
    "    file_contents = file_contents.replace('\\r\\n', '\\n')\n",
    "\n",
    "    # Replace placeholders with actual values\n",
    "    file_contents = file_contents.replace('{place}', place)\n",
    "    file_contents = file_contents.replace('{lat}', str(lat))\n",
    "    file_contents = file_contents.replace('{lng}', str(lng))\n",
    "    file_contents = file_contents.replace('{crs}', str(crs))\n",
    "    file_contents = file_contents.replace('{country}', str(country))\n",
    "    file_contents = file_contents.replace('{local_crs}', str(local_crs))\n",
    "\n",
    "    # Write the modified contents to a new file\n",
    "    with open(f'jobscript_{place}.sh', 'w', newline='\\n') as file:\n",
    "        file.write(file_contents)\n",
    "\n",
    "    print(\"File created successfully.\")"
   ]
  },
  {
   "cell_type": "code",
   "execution_count": 3,
   "metadata": {},
   "outputs": [],
   "source": [
    "# def create_new_file(place, lat, lng, crs, local_crs):\n",
    "    \n",
    "#     notebook_path = '4_aggregation.ipynb'\n",
    "#     notebook = nbformat.read(notebook_path, as_version=4)\n",
    "    \n",
    "#     variables_code = f\"\"\"# Parameters\n",
    "# place = '{place}'\n",
    "# lat = {lat}\n",
    "# lng = {lng}\n",
    "# country = 'UK'\n",
    "# crs = {crs}\n",
    "# local_crs = {local_crs}\n",
    "# \"\"\"\n",
    "\n",
    "    \n",
    "#     # Find the parameters cell\n",
    "#     parameters_cell_index = None\n",
    "#     for index, cell in enumerate(notebook['cells']):\n",
    "#         if cell['cell_type'] == 'code':\n",
    "#             if 'tags' in cell['metadata']:\n",
    "#                 if 'parameters' in cell['metadata']['tags']:\n",
    "#                     parameters_cell_index = index\n",
    "#                     break\n",
    "#     # Check if parameters cell is found\n",
    "#     if parameters_cell_index is not None:\n",
    "#         # Create a new code cell with the variables\n",
    "#         new_cell = nbformat.v4.new_code_cell(source=variables_code)\n",
    "        \n",
    "#         # Insert the new cell after the parameters cell\n",
    "#         notebook['cells'].insert(parameters_cell_index + 1, new_cell)\n",
    "\n",
    "#         # Save the modified notebook\n",
    "#         new_notebook_path = f\"4_aggregation_{place}.ipynb\"\n",
    "#         nbformat.write(notebook, new_notebook_path)\n",
    "#         success_message = f\"Notebook modified successfully. New file saved as: {new_notebook_path}\"\n",
    "#     else:\n",
    "#         success_message = \"Parameters cell not found in the notebook.\"\n",
    "\n",
    "#     success_message"
   ]
  },
  {
   "cell_type": "code",
   "execution_count": 4,
   "metadata": {},
   "outputs": [
    {
     "name": "stdout",
     "output_type": "stream",
     "text": [
      "File created successfully.\n"
     ]
    }
   ],
   "source": [
    "local_crs = 27700\n",
    "place = \"glasgow\"\n",
    "lat = 55.86421405612109\n",
    "lng = -4.251846930489373\n",
    "country = \"UK\"\n",
    "crs=4326\n",
    "create_new_file(place, lat, lng, crs, local_crs)"
   ]
  },
  {
   "cell_type": "code",
   "execution_count": 5,
   "metadata": {},
   "outputs": [
    {
     "name": "stdout",
     "output_type": "stream",
     "text": [
      "File created successfully.\n"
     ]
    }
   ],
   "source": [
    "place = \"Manchester\"\n",
    "lat = 53.483959\n",
    "lng = -2.244644\n",
    "create_new_file(place, lat, lng, crs, local_crs)"
   ]
  },
  {
   "cell_type": "code",
   "execution_count": 6,
   "metadata": {},
   "outputs": [
    {
     "name": "stdout",
     "output_type": "stream",
     "text": [
      "File created successfully.\n"
     ]
    }
   ],
   "source": [
    "place = \"Birmingham\"\n",
    "lat = 52.47790683186595\n",
    "lng = -1.8999014571831943\n",
    "create_new_file(place, lat, lng, crs, local_crs)"
   ]
  },
  {
   "cell_type": "code",
   "execution_count": 7,
   "metadata": {},
   "outputs": [
    {
     "name": "stdout",
     "output_type": "stream",
     "text": [
      "File created successfully.\n"
     ]
    }
   ],
   "source": [
    "place = \"Bristol\"\n",
    "lat = 51.453611\n",
    "lng = -2.5975\n",
    "create_new_file(place, lat, lng, crs, local_crs)"
   ]
  },
  {
   "cell_type": "code",
   "execution_count": 8,
   "metadata": {},
   "outputs": [
    {
     "name": "stdout",
     "output_type": "stream",
     "text": [
      "File created successfully.\n"
     ]
    }
   ],
   "source": [
    "place = \"Cardiff\"\n",
    "lat = 51.454514\n",
    "lng = -2.587910\n",
    "create_new_file(place, lat, lng, crs, local_crs)"
   ]
  },
  {
   "cell_type": "code",
   "execution_count": 9,
   "metadata": {},
   "outputs": [
    {
     "name": "stdout",
     "output_type": "stream",
     "text": [
      "File created successfully.\n"
     ]
    }
   ],
   "source": [
    "place = \"Newcastle\"\n",
    "lat = 54.98\n",
    "lng = -1.61\n",
    "create_new_file(place, lat, lng, crs, local_crs)"
   ]
  },
  {
   "cell_type": "code",
   "execution_count": 10,
   "metadata": {},
   "outputs": [
    {
     "name": "stdout",
     "output_type": "stream",
     "text": [
      "File created successfully.\n"
     ]
    }
   ],
   "source": [
    "place = \"Bristol\"\n",
    "lat = 51.453611\n",
    "lng = -2.5975\n",
    "create_new_file(place, lat, lng, crs, local_crs)"
   ]
  },
  {
   "cell_type": "code",
   "execution_count": 11,
   "metadata": {},
   "outputs": [
    {
     "name": "stdout",
     "output_type": "stream",
     "text": [
      "File created successfully.\n"
     ]
    }
   ],
   "source": [
    "place = \"Milton_Keynes\"\n",
    "lat = 52.04\n",
    "lng = -0.76\n",
    "create_new_file(place, lat, lng, crs, local_crs)"
   ]
  }
 ],
 "metadata": {
  "kernelspec": {
   "display_name": "Python 3",
   "language": "python",
   "name": "python3"
  },
  "language_info": {
   "codemirror_mode": {
    "name": "ipython",
    "version": 3
   },
   "file_extension": ".py",
   "mimetype": "text/x-python",
   "name": "python",
   "nbconvert_exporter": "python",
   "pygments_lexer": "ipython3",
   "version": "3.11.6"
  }
 },
 "nbformat": 4,
 "nbformat_minor": 2
}
