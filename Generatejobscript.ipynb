{
 "cells": [
  {
   "cell_type": "code",
   "execution_count": 1,
   "metadata": {},
   "outputs": [],
   "source": [
    "import nbformat\n",
    "import papermill as pm\n",
    "import os"
   ]
  },
  {
   "cell_type": "code",
   "execution_count": 2,
   "metadata": {},
   "outputs": [],
   "source": [
    "def create_new_file(place, lat, lng, crs, local_crs, country, radius):\n",
    "    # Read the template file\n",
    "    with open('jobscript_template.txt', 'r') as file:\n",
    "        file_contents = file.read()\n",
    "        \n",
    "     # Convert line endings from CRLF to LF if needed\n",
    "    file_contents = file_contents.replace('\\r\\n', '\\n')\n",
    "\n",
    "    # Replace placeholders with actual values\n",
    "    file_contents = file_contents.replace('{place}', place)\n",
    "    file_contents = file_contents.replace('{lat}', str(lat))\n",
    "    file_contents = file_contents.replace('{lng}', str(lng))\n",
    "    file_contents = file_contents.replace('{crs}', str(crs))\n",
    "    file_contents = file_contents.replace('{country}', str(country))\n",
    "    file_contents = file_contents.replace('{local_crs}', str(local_crs))\n",
    "    file_contents = file_contents.replace('{radius}', str(radius))\n",
    "\n",
    "    # Write the modified contents to a new file\n",
    "    with open(f'jobscript_{place}.sh', 'w', newline='\\n') as file:\n",
    "        file.write(file_contents)\n",
    "\n",
    "    print(\"File created successfully.\")"
   ]
  },
  {
   "cell_type": "code",
   "execution_count": 3,
   "metadata": {},
   "outputs": [
    {
     "name": "stdout",
     "output_type": "stream",
     "text": [
      "File created successfully.\n"
     ]
    }
   ],
   "source": [
    "local_crs = 27700\n",
    "place = \"London\"\n",
    "lat = 51.507222\n",
    "lng = -0.1275\n",
    "country = \"UK\"\n",
    "crs=4326\n",
    "radius=40\n",
    "if not os.path.exists(f'output/{place}'):\n",
    "    os.makedirs(f'output/{place}')\n",
    "create_new_file(place, lat, lng, crs, local_crs, country, radius)"
   ]
  },
  {
   "cell_type": "code",
   "execution_count": 4,
   "metadata": {},
   "outputs": [
    {
     "name": "stdout",
     "output_type": "stream",
     "text": [
      "File created successfully.\n"
     ]
    }
   ],
   "source": [
    "local_crs = 27700\n",
    "place = \"Glasgow\"\n",
    "lat = 55.86421405612109\n",
    "lng = -4.251846930489373\n",
    "country = \"UK\"\n",
    "crs=4326\n",
    "radius=20\n",
    "if not os.path.exists(f'output/{place}'):\n",
    "    os.makedirs(f'output/{place}')\n",
    "create_new_file(place, lat, lng, crs, local_crs, country, radius)"
   ]
  },
  {
   "cell_type": "code",
   "execution_count": 5,
   "metadata": {},
   "outputs": [
    {
     "name": "stdout",
     "output_type": "stream",
     "text": [
      "File created successfully.\n"
     ]
    }
   ],
   "source": [
    "place = \"Manchester\"\n",
    "lat = 53.479444\n",
    "lng = -2.245278\n",
    "radius=20\n",
    "if not os.path.exists(f'output/{place}'):\n",
    "    os.makedirs(f'output/{place}')\n",
    "create_new_file(place, lat, lng, crs, local_crs, country, radius)"
   ]
  },
  {
   "cell_type": "code",
   "execution_count": 6,
   "metadata": {},
   "outputs": [
    {
     "name": "stdout",
     "output_type": "stream",
     "text": [
      "File created successfully.\n"
     ]
    }
   ],
   "source": [
    "place = \"Birmingham\"\n",
    "lat = 52.48\n",
    "lng = -1.9025\n",
    "radius=20\n",
    "if not os.path.exists(f'output/{place}'):\n",
    "    os.makedirs(f'output/{place}')\n",
    "create_new_file(place, lat, lng, crs, local_crs, country, radius)"
   ]
  },
  {
   "cell_type": "code",
   "execution_count": 7,
   "metadata": {},
   "outputs": [
    {
     "name": "stdout",
     "output_type": "stream",
     "text": [
      "File created successfully.\n"
     ]
    }
   ],
   "source": [
    "place = \"Bristol\"\n",
    "lat = 51.453611\n",
    "lng = -2.5975\n",
    "radius=20\n",
    "if not os.path.exists(f'output/{place}'):\n",
    "    os.makedirs(f'output/{place}')\n",
    "create_new_file(place, lat, lng, crs, local_crs, country, radius)"
   ]
  },
  {
   "cell_type": "code",
   "execution_count": 8,
   "metadata": {},
   "outputs": [
    {
     "name": "stdout",
     "output_type": "stream",
     "text": [
      "File created successfully.\n"
     ]
    }
   ],
   "source": [
    "place = \"Cardiff\"\n",
    "lat = 51.454514\n",
    "lng = -2.587910\n",
    "radius=20\n",
    "if not os.path.exists(f'output/{place}'):\n",
    "    os.makedirs(f'output/{place}')\n",
    "create_new_file(place, lat, lng, crs, local_crs, country, radius)"
   ]
  },
  {
   "cell_type": "code",
   "execution_count": 9,
   "metadata": {},
   "outputs": [
    {
     "name": "stdout",
     "output_type": "stream",
     "text": [
      "File created successfully.\n"
     ]
    }
   ],
   "source": [
    "place = \"Newcastle\"\n",
    "lat = 54.98\n",
    "lng = -1.61\n",
    "radius=20\n",
    "if not os.path.exists(f'output/{place}'):\n",
    "    os.makedirs(f'output/{place}')\n",
    "create_new_file(place, lat, lng, crs, local_crs, country, radius)"
   ]
  },
  {
   "cell_type": "code",
   "execution_count": 10,
   "metadata": {},
   "outputs": [
    {
     "name": "stdout",
     "output_type": "stream",
     "text": [
      "File created successfully.\n"
     ]
    }
   ],
   "source": [
    "place = \"Bristol\"\n",
    "lat = 51.453611\n",
    "lng = -2.5975\n",
    "radius=20\n",
    "if not os.path.exists(f'output/{place}'):\n",
    "    os.makedirs(f'output/{place}')\n",
    "create_new_file(place, lat, lng, crs, local_crs, country, radius)"
   ]
  },
  {
   "cell_type": "code",
   "execution_count": 11,
   "metadata": {},
   "outputs": [
    {
     "name": "stdout",
     "output_type": "stream",
     "text": [
      "File created successfully.\n"
     ]
    }
   ],
   "source": [
    "place = \"Milton_Keynes\"\n",
    "lat = 52.04\n",
    "lng = -0.76\n",
    "radius=20\n",
    "if not os.path.exists(f'output/{place}'):\n",
    "    os.makedirs(f'output/{place}')\n",
    "create_new_file(place, lat, lng, crs, local_crs, country, radius)"
   ]
  },
  {
   "cell_type": "code",
   "execution_count": null,
   "metadata": {},
   "outputs": [],
   "source": []
  },
  {
   "cell_type": "code",
   "execution_count": null,
   "metadata": {},
   "outputs": [],
   "source": []
  },
  {
   "cell_type": "code",
   "execution_count": null,
   "metadata": {},
   "outputs": [],
   "source": []
  }
 ],
 "metadata": {
  "kernelspec": {
   "display_name": "Python 3",
   "language": "python",
   "name": "python3"
  },
  "language_info": {
   "codemirror_mode": {
    "name": "ipython",
    "version": 3
   },
   "file_extension": ".py",
   "mimetype": "text/x-python",
   "name": "python",
   "nbconvert_exporter": "python",
   "pygments_lexer": "ipython3",
   "version": "3.11.6"
  }
 },
 "nbformat": 4,
 "nbformat_minor": 2
}
