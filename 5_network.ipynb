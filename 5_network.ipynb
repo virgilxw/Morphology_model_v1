{
 "cells": [
  {
   "cell_type": "code",
   "execution_count": 1,
   "metadata": {},
   "outputs": [],
   "source": [
    "import geopandas as gpd\n",
    "import momepy\n",
    "import networkx as nx\n",
    "import graph_tool.all as gt\n",
    "from scripts.nx2gt import nx2gt\n",
    "import pandas as pd\n",
    "import matplotlib\n",
    "import itertools\n",
    "from shapely.geometry import LineString, point\n",
    "from shapely.wkt import loads\n",
    "from tqdm import tqdm\n",
    "import numpy as np\n",
    "from dask.distributed import Client, LocalCluster\n",
    "from dask import delayed\n",
    "import dask\n",
    "import math\n",
    "import concurrent.futures\n",
    "import matplotlib.pyplot as plt\n",
    "import osmnx as ox\n",
    "from scripts.graph_custom import generate_ego_graph, closeness_centrality"
   ]
  },
  {
   "cell_type": "code",
   "execution_count": null,
   "metadata": {
    "tags": [
     "parameters"
    ]
   },
   "outputs": [],
   "source": [
    "local_crs = 27700\n",
    "place = \"test\"\n",
    "lat = 55.86421405612109\n",
    "lng = -4.251846930489373\n",
    "country = \"UK\"\n",
    "crs=4326\n",
    "radius=1"
   ]
  },
  {
   "cell_type": "code",
   "execution_count": null,
   "metadata": {},
   "outputs": [],
   "source": [
    "streets = gpd.read_parquet(f\"./output/{place}/streets_raw.pq\").to_crs(local_crs).reset_index(drop=True)"
   ]
  },
  {
   "cell_type": "code",
   "execution_count": null,
   "metadata": {},
   "outputs": [],
   "source": [
    "streets"
   ]
  },
  {
   "cell_type": "code",
   "execution_count": null,
   "metadata": {},
   "outputs": [],
   "source": [
    "daskCluster = LocalCluster(threads_per_worker=2,\n",
    "                n_workers=8, memory_limit='100GB')\n",
    "\n",
    "client = Client(daskCluster)\n",
    "\n",
    "client"
   ]
  },
  {
   "cell_type": "code",
   "execution_count": null,
   "metadata": {},
   "outputs": [],
   "source": [
    "# Create a pandas dataframe from the multigraph\n",
    "primal = momepy.gdf_to_nx(streets, approach='primal')"
   ]
  },
  {
   "cell_type": "code",
   "execution_count": null,
   "metadata": {},
   "outputs": [],
   "source": [
    "vertID_dict = {}"
   ]
  },
  {
   "cell_type": "code",
   "execution_count": null,
   "metadata": {},
   "outputs": [],
   "source": [
    "counter = itertools.count()\n",
    "\n",
    "for node in primal.nodes():\n",
    "    id = next(counter)\n",
    "    primal.nodes[node]['vertID'] = id\n",
    "    vertID_dict[id] = node"
   ]
  },
  {
   "cell_type": "code",
   "execution_count": null,
   "metadata": {},
   "outputs": [],
   "source": [
    "inverted_vertID_dict = {value: key for key, value in vertID_dict.items()}"
   ]
  },
  {
   "cell_type": "markdown",
   "metadata": {},
   "source": [
    "# Street Network Shapes"
   ]
  },
  {
   "cell_type": "code",
   "execution_count": null,
   "metadata": {},
   "outputs": [],
   "source": [
    "edg_lin = momepy.Linearity(streets)\n",
    "streets['linearity'] = edg_lin.series"
   ]
  },
  {
   "cell_type": "markdown",
   "metadata": {},
   "source": [
    "## Node Degree"
   ]
  },
  {
   "cell_type": "code",
   "execution_count": null,
   "metadata": {},
   "outputs": [],
   "source": [
    "# Convert it to a graph-tool graph\n",
    "gtG = nx2gt(primal)\n",
    "\n",
    "gtG.list_properties()\n",
    "\n",
    "g = gt.GraphView(gtG)\n",
    "mm_len = gtG.edge_properties[\"mm_len\"]\n",
    "vp, ep = gt.betweenness(g, weight = mm_len)\n",
    "\n",
    "node_degree = {g.vertex_index[v]: v.in_degree() + v.out_degree() for v in g.vertices()}\n",
    "# convert ID_dict to a DataFrame and rename the index and column\n",
    "node_degree = pd.DataFrame.from_dict(node_degree, orient='index').rename(columns={0: \"node_degree\"})\n",
    "# merge vertID_df and vertices on vertID and node, respectively"
   ]
  },
  {
   "cell_type": "code",
   "execution_count": null,
   "metadata": {},
   "outputs": [],
   "source": [
    "# # cross-testing to Momepy implementation\n",
    "\n",
    "# degree = dict(nx.degree(primal))\n",
    "# nx.set_node_attributes(primal, degree, 'degree')\n",
    "\n",
    "# graph = momepy.node_degree(primal, name='degree')\n",
    "\n",
    "# nodes, edges, sw = momepy.nx_to_gdf(graph, points=True, lines=True,\n",
    "#                                     spatial_weights=True)\n",
    "\n",
    "# f, ax = plt.subplots(figsize=(10, 10))\n",
    "\n",
    "# # Plot edges with a lower zorder\n",
    "# edges.plot(ax=ax, color='lightgrey', zorder=1)\n",
    "\n",
    "# # Plot nodes with a higher zorder\n",
    "# nodes.plot(ax=ax, column='degree', cmap='RdYlBu', markersize=3, zorder=2)\n",
    "\n",
    "# # Plot nodes\n",
    "# scatter = ax.scatter(nodes.geometry.x, nodes.geometry.y, c=nodes['degree'], cmap='RdYlBu', s=3, zorder=2)\n",
    "\n",
    "# # Create a legend\n",
    "# legend1 = ax.legend(*scatter.legend_elements(num=5),\n",
    "#                     loc=\"upper right\", title=\"Node Degree\")\n",
    "# ax.add_artist(legend1)\n",
    "\n",
    "# ax.set_axis_off()\n",
    "# plt.show()\n",
    "\n",
    "# node_degree[\"node_degree\"]\n",
    "# node_degree_aligned = node_degree[\"node_degree\"].reset_index(drop=True)\n",
    "# nodes_aligned = nodes[\"degree\"].reset_index(drop=True)\n",
    "\n",
    "# # Check if all elements are equal\n",
    "# if not (node_degree_aligned == nodes_aligned).all():\n",
    "#     raise ValueError(\"All elements in node_degree_aligned and nodes_aligned are identical.\")"
   ]
  },
  {
   "cell_type": "markdown",
   "metadata": {},
   "source": [
    "# Meshedness + clustering"
   ]
  },
  {
   "cell_type": "markdown",
   "metadata": {},
   "source": [
    "Eucledean Dist"
   ]
  },
  {
   "cell_type": "code",
   "execution_count": null,
   "metadata": {},
   "outputs": [],
   "source": [
    "primal_scattered = client.scatter(primal)\n",
    "\n",
    "@delayed\n",
    "def compute_ego_graph_eucl(primal_scattered, n, radius, distance):\n",
    "    graph = nx2gt(nx.ego_graph(primal_scattered, n, radius=radius, distance=distance))\n",
    "    return (n, graph)\n",
    "\n",
    "tasks = []\n",
    "for n in primal.nodes():\n",
    "    task = compute_ego_graph_eucl(primal_scattered, n, radius=500, distance=\"mm_len\")\n",
    "    tasks.append(task)\n",
    "\n",
    "results = dask.compute(*tasks)"
   ]
  },
  {
   "cell_type": "code",
   "execution_count": null,
   "metadata": {},
   "outputs": [],
   "source": [
    "def calculate_meshedness(graph):\n",
    "    e = graph.num_edges()\n",
    "    v = graph.num_vertices()\n",
    "\n",
    "    if v < 3:  # To avoid division by zero in the formula\n",
    "        return 0\n",
    "\n",
    "    meshedness_coefficient = (e - v + 1) / (2 * v - 5)\n",
    "    return meshedness_coefficient"
   ]
  },
  {
   "cell_type": "code",
   "execution_count": null,
   "metadata": {},
   "outputs": [],
   "source": [
    "meshedness_eucl_500 = []\n",
    "\n",
    "ego_graph_eucl_collection = {}\n",
    "\n",
    "for n, ego_graph in results:\n",
    "    \n",
    "    meshedness_eucl_500.append(calculate_meshedness(ego_graph))\n",
    "    \n",
    "    if n in ego_graph_eucl_collection.keys():\n",
    "        raise Exception(\"n in ego_graph_collection\")\n",
    "    \n",
    "    ego_graph_eucl_collection[inverted_vertID_dict[n]] = {}\n",
    "    # \n",
    "    ego_graph_eucl_collection[inverted_vertID_dict[n]][\"graph\"] = ego_graph\n",
    "\n",
    "    if len(list(ego_graph.edges())) > 1:\n",
    "        ego_graph_eucl_collection[inverted_vertID_dict[n]][\"weight\"] = ego_graph.edge_properties[\"mm_len\"]\n",
    "    else:\n",
    "        ego_graph_eucl_collection[inverted_vertID_dict[n]][\"weight\"] = None\n",
    "        \n",
    "    ego_graph_eucl_collection[inverted_vertID_dict[n]][\"node\"] = ego_graph.get_vertices()[[i for i,v in enumerate(ego_graph.vp.vertID.get_array()) if v == inverted_vertID_dict[n]][0]]"
   ]
  },
  {
   "cell_type": "code",
   "execution_count": null,
   "metadata": {},
   "outputs": [],
   "source": [
    "meshedness_eucl_500 = pd.Series(meshedness_eucl_500)"
   ]
  },
  {
   "cell_type": "code",
   "execution_count": null,
   "metadata": {},
   "outputs": [],
   "source": [
    "# ## validation to networkx\n",
    "# graph = momepy.gdf_to_nx(streets)\n",
    "\n",
    "# graph = momepy.clustering(graph, name='clustering')\n",
    "\n",
    "# graph = momepy.meshedness(graph, radius=500, name='meshedness_eucl_500', distance='mm_len')\n",
    "\n",
    "# nodes = momepy.nx_to_gdf(graph, points=True, lines=False, spatial_weights=False)\n",
    "\n",
    "# f, ax = plt.subplots(figsize=(10, 10))\n",
    "# # Plot nodes with a higher zorder\n",
    "# nodes.plot(ax=ax, column='clustering', cmap='RdYlBu', markersize=3, zorder=2)\n",
    "# streets.plot(ax=ax, color='lightgrey', alpha=0.5, zorder=1)\n",
    "# ax.set_axis_off()\n",
    "# plt.show()\n",
    "\n",
    "# meshedness_eucl_500 = meshedness_eucl_500.reset_index(drop=True)\n",
    "# nodes_aligned = nodes[\"meshedness_eucl_500\"].reset_index(drop=True)\n",
    "\n",
    "# # Check if all elements are equal\n",
    "# if not (meshedness_eucl_500 == nodes_aligned).all():\n",
    "#     raise ValueError(\"All elements in node_degree_aligned and nodes_aligned are not identical.\")"
   ]
  },
  {
   "cell_type": "markdown",
   "metadata": {},
   "source": [
    "Topological Distance"
   ]
  },
  {
   "cell_type": "code",
   "execution_count": null,
   "metadata": {},
   "outputs": [],
   "source": [
    "primal_scattered = client.scatter(primal)\n",
    "\n",
    "@delayed\n",
    "def compute_ego_graph_topo(primal_scattered, n, radius):\n",
    "    graph = nx2gt(nx.ego_graph(primal_scattered, n, radius, distance=None))\n",
    "    return (n, graph)\n",
    "\n",
    "tasks = []\n",
    "for n in primal.nodes():\n",
    "    task = compute_ego_graph_topo(primal_scattered, n, 5)\n",
    "    tasks.append(task)\n",
    "    \n",
    "results = dask.compute(*tasks)\n"
   ]
  },
  {
   "cell_type": "code",
   "execution_count": null,
   "metadata": {},
   "outputs": [],
   "source": [
    "def calculate_meshedness(graph):\n",
    "    e = graph.num_edges()\n",
    "    v = graph.num_vertices()\n",
    "\n",
    "    if v < 3:  # To avoid division by zero in the formula\n",
    "        return 0\n",
    "\n",
    "    meshedness_coefficient = (e - v + 1) / (2 * v - 5)\n",
    "    return meshedness_coefficient"
   ]
  },
  {
   "cell_type": "code",
   "execution_count": null,
   "metadata": {},
   "outputs": [],
   "source": [
    "ego_graph_top_collection = {}"
   ]
  },
  {
   "cell_type": "code",
   "execution_count": null,
   "metadata": {},
   "outputs": [],
   "source": [
    "meshedness_topo_500 = []\n",
    "\n",
    "ego_graph_topo_collection = {}\n",
    "\n",
    "for n, ego_graph in results:\n",
    "    \n",
    "    meshedness_topo_500.append(calculate_meshedness(ego_graph))\n",
    "    \n",
    "    if n in ego_graph_topo_collection.keys():\n",
    "        raise Exception(\"n in ego_graph_collection\")\n",
    "    \n",
    "    ego_graph_topo_collection[inverted_vertID_dict[n]] = {}\n",
    "    # \n",
    "    ego_graph_topo_collection[inverted_vertID_dict[n]][\"graph\"] = ego_graph\n",
    "\n",
    "    if len(list(ego_graph.edges())) > 1:\n",
    "        ego_graph_topo_collection[inverted_vertID_dict[n]][\"weight\"] = ego_graph.edge_properties[\"mm_len\"]\n",
    "    else:\n",
    "        ego_graph_topo_collection[inverted_vertID_dict[n]][\"weight\"] = None\n",
    "        \n",
    "    ego_graph_topo_collection[inverted_vertID_dict[n]][\"node\"] = ego_graph.get_vertices()[[i for i,v in enumerate(ego_graph.vp.vertID.get_array()) if v == inverted_vertID_dict[n]][0]]"
   ]
  },
  {
   "cell_type": "code",
   "execution_count": null,
   "metadata": {},
   "outputs": [],
   "source": [
    "meshedness_topo_500 = pd.Series(meshedness_topo_500)"
   ]
  },
  {
   "cell_type": "code",
   "execution_count": null,
   "metadata": {},
   "outputs": [],
   "source": [
    "meshedness_topo_500"
   ]
  },
  {
   "cell_type": "code",
   "execution_count": null,
   "metadata": {},
   "outputs": [],
   "source": [
    "# ## validation to networkx\n",
    "# graph = momepy.gdf_to_nx(streets)\n",
    "\n",
    "# graph = momepy.clustering(graph, name='clustering')\n",
    "\n",
    "# graph = momepy.meshedness(graph, radius=5, name='meshedness_top_5')\n",
    "\n",
    "# nodes = momepy.nx_to_gdf(graph, points=True, lines=False, spatial_weights=False)\n",
    "\n",
    "# f, ax = plt.subplots(figsize=(10, 10))\n",
    "# # Plot nodes with a higher zorder\n",
    "# nodes.plot(ax=ax, column='clustering', cmap='RdYlBu', markersize=3, zorder=2)\n",
    "# streets.plot(ax=ax, color='lightgrey', alpha=0.5, zorder=1)\n",
    "# ax.set_axis_off()\n",
    "# plt.show()\n",
    "\n",
    "# meshedness_top_5 = meshedness_top_500.reset_index(drop=True)\n",
    "# nodes_aligned = nodes[\"meshedness_top_5\"].reset_index(drop=True)\n",
    "\n",
    "# # Check if all elements are equal\n",
    "# if not (meshedness_top_5 == nodes_aligned).all():\n",
    "#     raise ValueError(\"All elements in node_degree_aligned and nodes_aligned are not identical.\")"
   ]
  },
  {
   "cell_type": "markdown",
   "metadata": {},
   "source": [
    "# Multiple Centrality Analysis"
   ]
  },
  {
   "cell_type": "markdown",
   "metadata": {},
   "source": [
    "## Closeness Centrality"
   ]
  },
  {
   "cell_type": "code",
   "execution_count": null,
   "metadata": {},
   "outputs": [],
   "source": [
    "import geopandas as gpd\n",
    "import momepy\n",
    "import osmnx as ox\n",
    "import matplotlib.pyplot as pl"
   ]
  },
  {
   "cell_type": "code",
   "execution_count": null,
   "metadata": {},
   "outputs": [],
   "source": [
    "# primal = momepy.closeness_centrality(primal, radius=400, name='closeness400', distance='mm_len', weight='mm_len')"
   ]
  },
  {
   "cell_type": "code",
   "execution_count": null,
   "metadata": {},
   "outputs": [],
   "source": [
    "# # test with NetworkX implementation\n",
    "# graph = momepy.closeness_centrality(primal, radius=500, name='closeness_centrality_eucl_500', distance='weight', weight='mm_len')\n",
    "\n",
    "# nodes = momepy.nx_to_gdf(graph, points=True, lines=False, spatial_weights=False)\n",
    "\n",
    "# nodes = momepy.nx_to_gdf(primal, lines=False)\n",
    "# f, ax = plt.subplots(figsize=(15, 15))\n",
    "# nodes.plot(ax=ax, column='closeness_centrality_eucl_500', cmap='RdYlBu', markersize=3, zorder=2)\n",
    "# streets.plot(ax=ax, color='lightgrey', alpha=0.5, zorder=1)\n",
    "# ax.set_axis_off()\n",
    "# ax.set_title('closeness400')\n",
    "# plt.show()\n"
   ]
  },
  {
   "cell_type": "code",
   "execution_count": 2,
   "metadata": {},
   "outputs": [],
   "source": [
    "streets_graph = ox.graph_from_place('Callander', network_type='drive')\n",
    "streets_graph = ox.projection.project_graph(streets_graph)\n",
    "\n",
    "edges = ox.graph_to_gdfs(ox.get_undirected(streets_graph), nodes=False, edges=True,\n",
    "                                   node_geometry=False, fill_edge_geometry=True)\n",
    "\n",
    "primal = momepy.gdf_to_nx(edges, approach='primal')"
   ]
  },
  {
   "cell_type": "code",
   "execution_count": 3,
   "metadata": {},
   "outputs": [
    {
     "name": "stderr",
     "output_type": "stream",
     "text": [
      "100%|██████████| 148/148 [00:00<00:00, 10680.98it/s]"
     ]
    },
    {
     "name": "stderr",
     "output_type": "stream",
     "text": [
      "\n"
     ]
    },
    {
     "data": {
      "text/plain": [
       "{(627038.5074345332,\n",
       "  5117626.126329217): <networkx.classes.multigraph.MultiGraph at 0x7f4d6e478710>,\n",
       " (626864.732652552,\n",
       "  5117223.882441361): <networkx.classes.multigraph.MultiGraph at 0x7f4d6e42a240>,\n",
       " (626752.7313780212,\n",
       "  5117245.128275525): <networkx.classes.multigraph.MultiGraph at 0x7f4d6e495250>,\n",
       " (626623.001432891,\n",
       "  5115386.002563549): <networkx.classes.multigraph.MultiGraph at 0x7f4d6e47a780>,\n",
       " (626768.7762333312,\n",
       "  5117241.903403768): <networkx.classes.multigraph.MultiGraph at 0x7f4d6e47bc80>,\n",
       " (626515.7700281657,\n",
       "  5117306.377084477): <networkx.classes.multigraph.MultiGraph at 0x7f4d6e4297c0>,\n",
       " (626952.0468675159,\n",
       "  5117111.545272634): <networkx.classes.multigraph.MultiGraph at 0x7f4d6e4783e0>,\n",
       " (626963.3822764186,\n",
       "  5117097.5855789445): <networkx.classes.multigraph.MultiGraph at 0x7f4d6e42b500>,\n",
       " (626888.0721792183,\n",
       "  5117172.222479096): <networkx.classes.multigraph.MultiGraph at 0x7f4d6e478d40>,\n",
       " (626660.3273137062,\n",
       "  5115387.796684885): <networkx.classes.multigraph.MultiGraph at 0x7f4d6e4959a0>,\n",
       " (626187.0016031766,\n",
       "  5115666.001545578): <networkx.classes.multigraph.MultiGraph at 0x7f4d6e47b170>,\n",
       " (626661.0000752127,\n",
       "  5113638.995196487): <networkx.classes.multigraph.MultiGraph at 0x7f4d6e496390>,\n",
       " (627060.267006179,\n",
       "  5117574.734332231): <networkx.classes.multigraph.MultiGraph at 0x7f4d6e47b440>,\n",
       " (626809.9996409764,\n",
       "  5114810.00190147): <networkx.classes.multigraph.MultiGraph at 0x7f4d6e47a930>,\n",
       " (626700.0034573758,\n",
       "  5113635.999633237): <networkx.classes.multigraph.MultiGraph at 0x7f4d6e429580>,\n",
       " (627472.5988091767,\n",
       "  5113333.108311414): <networkx.classes.multigraph.MultiGraph at 0x7f4d6e47a9c0>,\n",
       " (626946.9995080063,\n",
       "  5114688.999282724): <networkx.classes.multigraph.MultiGraph at 0x7f4d6e47b110>,\n",
       " (616887.9983342313,\n",
       "  5117582.005126714): <networkx.classes.multigraph.MultiGraph at 0x7f4d6e42b260>,\n",
       " (617384.998946883,\n",
       "  5117645.999088069): <networkx.classes.multigraph.MultiGraph at 0x7f4d6e47aed0>,\n",
       " (616405.0037966206,\n",
       "  5117952.000941335): <networkx.classes.multigraph.MultiGraph at 0x7f4d6e47b6b0>,\n",
       " (617378.999474884,\n",
       "  5116368.004402602): <networkx.classes.multigraph.MultiGraph at 0x7f4d6e4295b0>,\n",
       " (620046.9990580912,\n",
       "  5115247.9990848545): <networkx.classes.multigraph.MultiGraph at 0x7f4d6e478560>,\n",
       " (618158.0031529653,\n",
       "  5114482.003466369): <networkx.classes.multigraph.MultiGraph at 0x7f4d6e47ab40>,\n",
       " (621419.0031224213,\n",
       "  5115833.996260124): <networkx.classes.multigraph.MultiGraph at 0x7f4d6e47b770>,\n",
       " (620809.0007829375,\n",
       "  5113321.999607024): <networkx.classes.multigraph.MultiGraph at 0x7f4d6e42a180>,\n",
       " (619160.9996636906,\n",
       "  5117307.005103012): <networkx.classes.multigraph.MultiGraph at 0x7f4d6e497290>,\n",
       " (626166.0027364505,\n",
       "  5117237.002135695): <networkx.classes.multigraph.MultiGraph at 0x7f4d6e47b7a0>,\n",
       " (625901.9987867344,\n",
       "  5117066.001867122): <networkx.classes.multigraph.MultiGraph at 0x7f4d6e4794c0>,\n",
       " (626329.9973141899,\n",
       "  5115963.000216337): <networkx.classes.multigraph.MultiGraph at 0x7f4d6e494050>,\n",
       " (624100.0026634983,\n",
       "  5116016.002589957): <networkx.classes.multigraph.MultiGraph at 0x7f4d6e47b020>,\n",
       " (626391.0024601266,\n",
       "  5117326.998857137): <networkx.classes.multigraph.MultiGraph at 0x7f4d6e495550>,\n",
       " (625741.0010267847,\n",
       "  5117395.005206867): <networkx.classes.multigraph.MultiGraph at 0x7f4d6e494b90>,\n",
       " (624072.000411059,\n",
       "  5116089.997703392): <networkx.classes.multigraph.MultiGraph at 0x7f4d6e4291c0>,\n",
       " (624521.9967623213,\n",
       "  5114960.005593826): <networkx.classes.multigraph.MultiGraph at 0x7f4d6e47a810>,\n",
       " (622704.9967662153,\n",
       "  5116237.996305753): <networkx.classes.multigraph.MultiGraph at 0x7f4d6e478a40>,\n",
       " (616272.9970375951,\n",
       "  5118198.00023285): <networkx.classes.multigraph.MultiGraph at 0x7f4d6e42a4e0>,\n",
       " (616312.0008084408,\n",
       "  5117746.996646987): <networkx.classes.multigraph.MultiGraph at 0x7f4d6e4798e0>,\n",
       " (621429.9985929092,\n",
       "  5115822.998912826): <networkx.classes.multigraph.MultiGraph at 0x7f4d6e479460>,\n",
       " (621392.000573273,\n",
       "  5115798.003518901): <networkx.classes.multigraph.MultiGraph at 0x7f4d6e494c80>,\n",
       " (621502.9998256568,\n",
       "  5115847.999539926): <networkx.classes.multigraph.MultiGraph at 0x7f4d6e47acc0>,\n",
       " (618939.999021901,\n",
       "  5112561.002162342): <networkx.classes.multigraph.MultiGraph at 0x7f4d6e47bdd0>,\n",
       " (626260.9994824687,\n",
       "  5120014.001201097): <networkx.classes.multigraph.MultiGraph at 0x7f4d6e429670>,\n",
       " (626543.9975042638,\n",
       "  5120031.997357217): <networkx.classes.multigraph.MultiGraph at 0x7f4d6e47ab70>,\n",
       " (626208.6479961353,\n",
       "  5120126.712081897): <networkx.classes.multigraph.MultiGraph at 0x7f4d6e479f70>,\n",
       " (626120.9986769395,\n",
       "  5119960.003866308): <networkx.classes.multigraph.MultiGraph at 0x7f4d6e479b50>,\n",
       " (626460.001454383,\n",
       "  5120101.000814154): <networkx.classes.multigraph.MultiGraph at 0x7f4d6e47ba40>,\n",
       " (626237.0012965287,\n",
       "  5118466.997113109): <networkx.classes.multigraph.MultiGraph at 0x7f4d6e47be30>,\n",
       " (625849.0038472856,\n",
       "  5118453.994673856): <networkx.classes.multigraph.MultiGraph at 0x7f4d6e4792e0>,\n",
       " (626349.7647718289,\n",
       "  5118458.863836457): <networkx.classes.multigraph.MultiGraph at 0x7f4d6e429a90>,\n",
       " (626290.0000361537,\n",
       "  5118337.003641749): <networkx.classes.multigraph.MultiGraph at 0x7f4d6e47b650>,\n",
       " (624866.998975417,\n",
       "  5121204.004087313): <networkx.classes.multigraph.MultiGraph at 0x7f4d6e47b470>,\n",
       " (624935.0010620649,\n",
       "  5120848.004435079): <networkx.classes.multigraph.MultiGraph at 0x7f4d6e479d30>,\n",
       " (624947.0005527626,\n",
       "  5121037.003337931): <networkx.classes.multigraph.MultiGraph at 0x7f4d6e4796a0>,\n",
       " (625215.8583782553,\n",
       "  5120746.73760037): <networkx.classes.multigraph.MultiGraph at 0x7f4d6e4789b0>,\n",
       " (624969.0012762413,\n",
       "  5121824.003696465): <networkx.classes.multigraph.MultiGraph at 0x7f4d6e428c80>,\n",
       " (625259.0005826855,\n",
       "  5121149.994871738): <networkx.classes.multigraph.MultiGraph at 0x7f4d6e47b350>,\n",
       " (619373.0009984949,\n",
       "  5111415.997526025): <networkx.classes.multigraph.MultiGraph at 0x7f4d6e47b1d0>,\n",
       " (618608.9993549554,\n",
       "  5110101.9957715925): <networkx.classes.multigraph.MultiGraph at 0x7f4d6e47a3c0>,\n",
       " (625992.998659521,\n",
       "  5120034.998331476): <networkx.classes.multigraph.MultiGraph at 0x7f4d6e479a30>,\n",
       " (625960.996941331,\n",
       "  5120119.996548911): <networkx.classes.multigraph.MultiGraph at 0x7f4d6e42bb60>,\n",
       " (626063.0031023538,\n",
       "  5120175.997343887): <networkx.classes.multigraph.MultiGraph at 0x7f4d6e4296d0>,\n",
       " (625931.9997007053,\n",
       "  5120203.00036102): <networkx.classes.multigraph.MultiGraph at 0x7f4d6e478a70>,\n",
       " (626101.2741855173,\n",
       "  5120079.979822139): <networkx.classes.multigraph.MultiGraph at 0x7f4d6e47ac60>,\n",
       " (625825.881063626,\n",
       "  5119962.78672671): <networkx.classes.multigraph.MultiGraph at 0x7f4d6e5b7c80>,\n",
       " (625975.9961424685,\n",
       "  5120353.000343969): <networkx.classes.multigraph.MultiGraph at 0x7f4d6e47a150>,\n",
       " (626268.9964025354,\n",
       "  5119621.994616097): <networkx.classes.multigraph.MultiGraph at 0x7f4d6e478fe0>,\n",
       " (626226.0019740242,\n",
       "  5119603.000154508): <networkx.classes.multigraph.MultiGraph at 0x7f4d6e47a5a0>,\n",
       " (626272.000179755,\n",
       "  5119494.004246137): <networkx.classes.multigraph.MultiGraph at 0x7f4d6e4791c0>,\n",
       " (626331.0003374275,\n",
       "  5119519.998814744): <networkx.classes.multigraph.MultiGraph at 0x7f4d6e42b1d0>,\n",
       " (626324.9966600051,\n",
       "  5119377.994618711): <networkx.classes.multigraph.MultiGraph at 0x7f4d6e47a120>,\n",
       " (626462.2905319814,\n",
       "  5116262.405236852): <networkx.classes.multigraph.MultiGraph at 0x7f4d6e429c70>,\n",
       " (626533.9407164813,\n",
       "  5117465.094728182): <networkx.classes.multigraph.MultiGraph at 0x7f4d6e42ac00>,\n",
       " (626532.8121344497,\n",
       "  5117538.756953075): <networkx.classes.multigraph.MultiGraph at 0x7f4d6e47bc20>,\n",
       " (626553.3609953255,\n",
       "  5117604.374850024): <networkx.classes.multigraph.MultiGraph at 0x7f4d6e494b00>,\n",
       " (626526.9649259102,\n",
       "  5117591.257544052): <networkx.classes.multigraph.MultiGraph at 0x7f4d6e47ae70>,\n",
       " (626656.0032941245,\n",
       "  5118208.99889554): <networkx.classes.multigraph.MultiGraph at 0x7f4d6e47a3f0>,\n",
       " (626529.3084392224,\n",
       "  5118725.424381942): <networkx.classes.multigraph.MultiGraph at 0x7f4d6e4788f0>,\n",
       " (626663.0012694459,\n",
       "  5118502.997298202): <networkx.classes.multigraph.MultiGraph at 0x7f4d6e4787d0>,\n",
       " (627132.9987710062,\n",
       "  5117965.003974665): <networkx.classes.multigraph.MultiGraph at 0x7f4d6e47a8d0>,\n",
       " (626163.0029065738,\n",
       "  5118012.998958157): <networkx.classes.multigraph.MultiGraph at 0x7f4d6e478260>,\n",
       " (626524.9976760667,\n",
       "  5118813.004472361): <networkx.classes.multigraph.MultiGraph at 0x7f4d6e478b90>,\n",
       " (626607.6615719196,\n",
       "  5112205.076347096): <networkx.classes.multigraph.MultiGraph at 0x7f4d6e429040>,\n",
       " (626498.0023781117,\n",
       "  5111385.000090767): <networkx.classes.multigraph.MultiGraph at 0x7f4d6e429ca0>,\n",
       " (626649.9983974487,\n",
       "  5111442.001914381): <networkx.classes.multigraph.MultiGraph at 0x7f4d6e47bad0>,\n",
       " (626689.9986658171,\n",
       "  5111458.000538859): <networkx.classes.multigraph.MultiGraph at 0x7f4d6e47a7e0>,\n",
       " (626171.000211521,\n",
       "  5120218.9958719015): <networkx.classes.multigraph.MultiGraph at 0x7f4d6e429820>,\n",
       " (626264.0004854477,\n",
       "  5120259.997249631): <networkx.classes.multigraph.MultiGraph at 0x7f4d6e42b170>,\n",
       " (626278.0026347181,\n",
       "  5120231.996875389): <networkx.classes.multigraph.MultiGraph at 0x7f4d6e478ef0>,\n",
       " (626191.9982659172,\n",
       "  5120451.001606195): <networkx.classes.multigraph.MultiGraph at 0x7f4d6e428da0>,\n",
       " (626119.9989612957,\n",
       "  5120199.0031858515): <networkx.classes.multigraph.MultiGraph at 0x7f4d6e47aea0>,\n",
       " (626302.2892811305,\n",
       "  5120166.99357861): <networkx.classes.multigraph.MultiGraph at 0x7f4d6e4795b0>,\n",
       " (626315.9975826702,\n",
       "  5120290.004727068): <networkx.classes.multigraph.MultiGraph at 0x7f4d6e478620>,\n",
       " (626083.6015188921,\n",
       "  5120709.817841573): <networkx.classes.multigraph.MultiGraph at 0x7f4d6e47a390>,\n",
       " (619339.9998764237,\n",
       "  5108291.998888961): <networkx.classes.multigraph.MultiGraph at 0x7f4d6e47afc0>,\n",
       " (626531.6201793499,\n",
       "  5118808.083751675): <networkx.classes.multigraph.MultiGraph at 0x7f4d6e429220>,\n",
       " (626663.0029892604,\n",
       "  5118510.000202008): <networkx.classes.multigraph.MultiGraph at 0x7f4d6e47aa20>,\n",
       " (626561.9982310853,\n",
       "  5118519.004401619): <networkx.classes.multigraph.MultiGraph at 0x7f4d6e478a10>,\n",
       " (626963.0024759813,\n",
       "  5118669.000470924): <networkx.classes.multigraph.MultiGraph at 0x7f4d6e47b4a0>,\n",
       " (626618.8827777456,\n",
       "  5118755.121481768): <networkx.classes.multigraph.MultiGraph at 0x7f4d6e47baa0>,\n",
       " (625720.9967040375,\n",
       "  5120948.999431266): <networkx.classes.multigraph.MultiGraph at 0x7f4d6e47b920>,\n",
       " (625834.0012322019,\n",
       "  5120972.998754331): <networkx.classes.multigraph.MultiGraph at 0x7f4d6e42af30>,\n",
       " (625870.6624811352,\n",
       "  5120768.513701779): <networkx.classes.multigraph.MultiGraph at 0x7f4d6e429f10>,\n",
       " (625968.8428662377,\n",
       "  5121027.373265162): <networkx.classes.multigraph.MultiGraph at 0x7f4d6e479b80>,\n",
       " (625577.071869232,\n",
       "  5121251.544940694): <networkx.classes.multigraph.MultiGraph at 0x7f4d6e47b500>,\n",
       " (626213.9985579276,\n",
       "  5121147.997038768): <networkx.classes.multigraph.MultiGraph at 0x7f4d6e47bd10>,\n",
       " (625337.9972332923,\n",
       "  5121653.995016593): <networkx.classes.multigraph.MultiGraph at 0x7f4d6e479160>,\n",
       " (626563.9900925544,\n",
       "  5120396.6275742445): <networkx.classes.multigraph.MultiGraph at 0x7f4d6e479cd0>,\n",
       " (625312.9994659685,\n",
       "  5121630.995787481): <networkx.classes.multigraph.MultiGraph at 0x7f4d6e47b8c0>,\n",
       " (625266.0009850861,\n",
       "  5121734.997705267): <networkx.classes.multigraph.MultiGraph at 0x7f4d6e42a360>,\n",
       " (626582.5891760599,\n",
       "  5120288.200875182): <networkx.classes.multigraph.MultiGraph at 0x7f4d6e495940>,\n",
       " (626592.3834310898,\n",
       "  5120292.860929717): <networkx.classes.multigraph.MultiGraph at 0x7f4d6e4781d0>,\n",
       " (625162.9998055443,\n",
       "  5121913.9953632215): <networkx.classes.multigraph.MultiGraph at 0x7f4d6e479910>,\n",
       " (624180.9960916127,\n",
       "  5116626.003373858): <networkx.classes.multigraph.MultiGraph at 0x7f4d6e42a480>,\n",
       " (623776.0013978613,\n",
       "  5116855.997825402): <networkx.classes.multigraph.MultiGraph at 0x7f4d6e4298b0>,\n",
       " (626609.2381322039,\n",
       "  5120193.079559447): <networkx.classes.multigraph.MultiGraph at 0x7f4d6e478c50>,\n",
       " (626861.998835396,\n",
       "  5118839.999628102): <networkx.classes.multigraph.MultiGraph at 0x7f4d6e42b0e0>,\n",
       " (626563.9967459119,\n",
       "  5118783.998583475): <networkx.classes.multigraph.MultiGraph at 0x7f4d6e479be0>,\n",
       " (626901.9967115365,\n",
       "  5119012.99971559): <networkx.classes.multigraph.MultiGraph at 0x7f4d6e429340>,\n",
       " (625350.0012215709,\n",
       "  5121156.005399599): <networkx.classes.multigraph.MultiGraph at 0x7f4d6e42a450>,\n",
       " (626391.0029775408,\n",
       "  5119415.994769812): <networkx.classes.multigraph.MultiGraph at 0x7f4d6e47bfe0>,\n",
       " (622783.0017969613,\n",
       "  5116996.00367234): <networkx.classes.multigraph.MultiGraph at 0x7f4d6e479c10>,\n",
       " (622880.0012678314,\n",
       "  5117151.997126373): <networkx.classes.multigraph.MultiGraph at 0x7f4d6e47bc50>,\n",
       " (622626.9978397476,\n",
       "  5117299.995066643): <networkx.classes.multigraph.MultiGraph at 0x7f4d6e429bb0>,\n",
       " (622580.0025507358,\n",
       "  5116624.997308413): <networkx.classes.multigraph.MultiGraph at 0x7f4d6e494d10>,\n",
       " (625941.9993954056,\n",
       "  5120338.994934499): <networkx.classes.multigraph.MultiGraph at 0x7f4d6e428e90>,\n",
       " (616041.9972736127,\n",
       "  5117771.005413887): <networkx.classes.multigraph.MultiGraph at 0x7f4d6e42bd40>,\n",
       " (621152.0027813655,\n",
       "  5117027.999907792): <networkx.classes.multigraph.MultiGraph at 0x7f4d6e429910>,\n",
       " (625256.0015513024,\n",
       "  5121254.998241083): <networkx.classes.multigraph.MultiGraph at 0x7f4d6e4940b0>,\n",
       " (626437.9982504214,\n",
       "  5120341.000448413): <networkx.classes.multigraph.MultiGraph at 0x7f4d6e478200>,\n",
       " (626429.0024917449,\n",
       "  5120369.003902629): <networkx.classes.multigraph.MultiGraph at 0x7f4d6e47af60>,\n",
       " (626496.9963979549,\n",
       "  5120397.998615247): <networkx.classes.multigraph.MultiGraph at 0x7f4d6e47b320>,\n",
       " (626284.0031962249,\n",
       "  5120330.005329862): <networkx.classes.multigraph.MultiGraph at 0x7f4d6e494a70>,\n",
       " (626003.0102754653,\n",
       "  5120673.776472543): <networkx.classes.multigraph.MultiGraph at 0x7f4d6e47a2d0>,\n",
       " (625972.9987752575,\n",
       "  5117906.000228698): <networkx.classes.multigraph.MultiGraph at 0x7f4d6e47bef0>,\n",
       " (625619.9981207127,\n",
       "  5117460.004236917): <networkx.classes.multigraph.MultiGraph at 0x7f4d6e479ac0>,\n",
       " (625555.9977988562,\n",
       "  5117481.00050726): <networkx.classes.multigraph.MultiGraph at 0x7f4d6e428f80>,\n",
       " (625523.9961022551,\n",
       "  5117597.002232014): <networkx.classes.multigraph.MultiGraph at 0x7f4d6e478440>,\n",
       " (622785.0021175771,\n",
       "  5117419.005646117): <networkx.classes.multigraph.MultiGraph at 0x7f4d6e47b950>,\n",
       " (622349.0004735591,\n",
       "  5117367.995537182): <networkx.classes.multigraph.MultiGraph at 0x7f4d6e47b2f0>,\n",
       " (620216.0026668826,\n",
       "  5116862.000177348): <networkx.classes.multigraph.MultiGraph at 0x7f4d6e47b3b0>,\n",
       " (619089.0037852369,\n",
       "  5117484.002082907): <networkx.classes.multigraph.MultiGraph at 0x7f4d6e42b1a0>,\n",
       " (623953.0003978532,\n",
       "  5113176.99949661): <networkx.classes.multigraph.MultiGraph at 0x7f4d6e4940e0>,\n",
       " (624642.9966416942,\n",
       "  5115009.995225382): <networkx.classes.multigraph.MultiGraph at 0x7f4d6e429b20>,\n",
       " (626181.0033634091,\n",
       "  5113431.996251733): <networkx.classes.multigraph.MultiGraph at 0x7f4d6e42a060>,\n",
       " (625916.0337199607,\n",
       "  5120633.080692501): <networkx.classes.multigraph.MultiGraph at 0x7f4d6e47a660>,\n",
       " (625992.6091933895,\n",
       "  5120465.988487041): <networkx.classes.multigraph.MultiGraph at 0x7f4d6e479e20>,\n",
       " (625888.6754882833,\n",
       "  5120684.927887804): <networkx.classes.multigraph.MultiGraph at 0x7f4d6e478860>,\n",
       " (625959.3946957177,\n",
       "  5120802.164390382): <networkx.classes.multigraph.MultiGraph at 0x7f4d6ec9fe60>}"
      ]
     },
     "execution_count": 3,
     "metadata": {},
     "output_type": "execute_result"
    }
   ],
   "source": [
    "ego_graph_eucl_collection = generate_ego_graph(primal, radius = 500, distance='weight')"
   ]
  },
  {
   "cell_type": "code",
   "execution_count": null,
   "metadata": {},
   "outputs": [],
   "source": [
    "momepy.closeness_centrality(primal, radius=500, name='closeness_centrality_eucl_500', distance='weight', weight='mm_len')"
   ]
  },
  {
   "cell_type": "code",
   "execution_count": null,
   "metadata": {},
   "outputs": [],
   "source": [
    "streets_graph = ox.graph_from_place('Callander', network_type='drive')\n",
    "streets_graph = ox.projection.project_graph(streets_graph)\n",
    "\n",
    "edges = ox.graph_to_gdfs(ox.get_undirected(streets_graph), nodes=False, edges=True,\n",
    "                                   node_geometry=False, fill_edge_geometry=True)\n",
    "\n",
    "primal = momepy.gdf_to_nx(edges, approach='primal')\n",
    "\n",
    "primal = cus_gra.closeness_centrality(primal, radius=400, name='closeness400', distance='mm_len', weight='mm_len')"
   ]
  },
  {
   "cell_type": "code",
   "execution_count": null,
   "metadata": {},
   "outputs": [],
   "source": []
  }
 ],
 "metadata": {
  "kernelspec": {
   "display_name": "processor",
   "language": "python",
   "name": "python3"
  },
  "language_info": {
   "codemirror_mode": {
    "name": "ipython",
    "version": 3
   },
   "file_extension": ".py",
   "mimetype": "text/x-python",
   "name": "python",
   "nbconvert_exporter": "python",
   "pygments_lexer": "ipython3",
   "version": "3.12.0"
  }
 },
 "nbformat": 4,
 "nbformat_minor": 2
}
