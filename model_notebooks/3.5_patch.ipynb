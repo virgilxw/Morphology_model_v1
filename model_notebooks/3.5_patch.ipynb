{
 "cells": [
  {
   "cell_type": "code",
   "execution_count": 17,
   "metadata": {},
   "outputs": [],
   "source": [
    "import geopandas as gpd\n",
    "import os\n",
    "import momepy\n",
    "import pickle"
   ]
  },
  {
   "cell_type": "code",
   "execution_count": 18,
   "metadata": {
    "tags": [
     "parameters"
    ]
   },
   "outputs": [],
   "source": [
    "local_crs = 27700\n",
    "place = \"test\"\n",
    "lat = 55.86421405612109\n",
    "lng = -4.251846930489373\n",
    "country = \"UK\"\n",
    "crs=4326\n",
    "radius=1\n"
   ]
  },
  {
   "cell_type": "code",
   "execution_count": 19,
   "metadata": {},
   "outputs": [],
   "source": [
    "tessellation_out = gpd.read_parquet(f\"../output/{place}/tessellation_morphometric_p3.pq\")"
   ]
  },
  {
   "cell_type": "code",
   "execution_count": 20,
   "metadata": {},
   "outputs": [],
   "source": [
    "file_path = f\"../output/{place}/queen_3.pkl\""
   ]
  },
  {
   "cell_type": "code",
   "execution_count": 21,
   "metadata": {},
   "outputs": [],
   "source": [
    "if not os.path.exists(file_path):\n",
    "    result = \"File not found.\"\n",
    "else:\n",
    "    # Load the pickle file\n",
    "    with open(file_path, 'rb') as file:\n",
    "        queen_3 = pickle.load(file)\n",
    "    result = \"File loaded successfully.\"\n"
   ]
  },
  {
   "cell_type": "code",
   "execution_count": 27,
   "metadata": {},
   "outputs": [],
   "source": [
    "tessellation_out['tess_compactnessweightedaxis'] = momepy.CompactnessWeightedAxis(tessellation_out).series"
   ]
  },
  {
   "cell_type": "code",
   "execution_count": 30,
   "metadata": {},
   "outputs": [
    {
     "name": "stderr",
     "output_type": "stream",
     "text": [
      "  0%|          | 0/45572 [00:00<?, ?it/s]"
     ]
    },
    {
     "name": "stderr",
     "output_type": "stream",
     "text": [
      "100%|██████████| 45572/45572 [00:22<00:00, 2012.49it/s]\n"
     ]
    }
   ],
   "source": [
    "tessellation_out['tess_compactnessweightedaxis_weight'] = momepy.WeightedCharacter(tessellation_out, values='tess_compactnessweightedaxis',\n",
    "                                                        spatial_weights=queen_3,\n",
    "                                                        unique_id='uID').series"
   ]
  },
  {
   "cell_type": "code",
   "execution_count": 31,
   "metadata": {},
   "outputs": [],
   "source": [
    "tessellation_out.to_parquet(f\"../output/{place}/tessellation_morphometric_p3.pq\")"
   ]
  },
  {
   "cell_type": "code",
   "execution_count": null,
   "metadata": {},
   "outputs": [],
   "source": []
  }
 ],
 "metadata": {
  "kernelspec": {
   "display_name": "Python 3",
   "language": "python",
   "name": "python3"
  },
  "language_info": {
   "codemirror_mode": {
    "name": "ipython",
    "version": 3
   },
   "file_extension": ".py",
   "mimetype": "text/x-python",
   "name": "python",
   "nbconvert_exporter": "python",
   "pygments_lexer": "ipython3",
   "version": "3.11.7"
  }
 },
 "nbformat": 4,
 "nbformat_minor": 2
}
