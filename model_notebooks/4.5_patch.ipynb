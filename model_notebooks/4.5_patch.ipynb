{
 "cells": [
  {
   "cell_type": "code",
   "execution_count": 1,
   "metadata": {},
   "outputs": [
    {
     "name": "stderr",
     "output_type": "stream",
     "text": [
      "c:\\Users\\reube\\anaconda3\\envs\\nbprocessor\\Lib\\site-packages\\tqdm\\auto.py:21: TqdmWarning: IProgress not found. Please update jupyter and ipywidgets. See https://ipywidgets.readthedocs.io/en/stable/user_install.html\n",
      "  from .autonotebook import tqdm as notebook_tqdm\n"
     ]
    }
   ],
   "source": [
    "import geopandas as gpd\n",
    "import momepy as mm\n",
    "import os\n",
    "import pickle\n",
    "import libpysal"
   ]
  },
  {
   "cell_type": "code",
   "execution_count": 2,
   "metadata": {
    "tags": [
     "parameters"
    ]
   },
   "outputs": [],
   "source": [
    "local_crs = 27700\n",
    "place = \"test_OS\"\n",
    "lat = 55.86421405612109\n",
    "lng = -4.251846930489373\n",
    "country = \"UK\"\n",
    "crs=4326\n",
    "radius=1"
   ]
  },
  {
   "cell_type": "code",
   "execution_count": 3,
   "metadata": {},
   "outputs": [],
   "source": [
    "buildings = gpd.read_parquet(f\"../output/{place}/buildings_morphometric_p3.pq\")\n",
    "tess = gpd.read_parquet(f\"../output/{place}/tessellation_morphometric_p3.pq\")"
   ]
  },
  {
   "cell_type": "code",
   "execution_count": 4,
   "metadata": {},
   "outputs": [
    {
     "name": "stderr",
     "output_type": "stream",
     "text": [
      "  0%|          | 0/41573 [00:00<?, ?it/s]"
     ]
    },
    {
     "name": "stderr",
     "output_type": "stream",
     "text": [
      "100%|██████████| 41573/41573 [00:05<00:00, 8309.22it/s]\n"
     ]
    }
   ],
   "source": [
    "buildings[\"building_corners\"] = mm.Corners(buildings).series"
   ]
  },
  {
   "cell_type": "code",
   "execution_count": 5,
   "metadata": {},
   "outputs": [
    {
     "name": "stderr",
     "output_type": "stream",
     "text": [
      " 56%|█████▌    | 23337/41573 [00:07<00:05, 3102.72it/s]"
     ]
    }
   ],
   "source": [
    "cencon = mm.CentroidCorners(buildings)\n",
    "buildings['buildings_centroidcornermean'] = cencon.mean\n",
    "buildings['buildings_centroidcornerstd'] = cencon.std"
   ]
  },
  {
   "cell_type": "code",
   "execution_count": null,
   "metadata": {},
   "outputs": [
    {
     "data": {
      "text/plain": [
       "0         42.157345\n",
       "1         40.827094\n",
       "2         33.073745\n",
       "3         38.347293\n",
       "4         27.527727\n",
       "            ...    \n",
       "828532    30.393956\n",
       "828533     5.330012\n",
       "828534    19.326235\n",
       "828535    39.036477\n",
       "828536    39.451461\n",
       "Name: tess_orientation, Length: 828537, dtype: float64"
      ]
     },
     "execution_count": 36,
     "metadata": {},
     "output_type": "execute_result"
    }
   ],
   "source": [
    "tess[\"tess_orientation\"]"
   ]
  },
  {
   "cell_type": "code",
   "execution_count": null,
   "metadata": {},
   "outputs": [],
   "source": [
    "buildings['building_cell_alignment'] = mm.CellAlignment(buildings, tess, \"building_orientation\", \"tess_orientation\", 'uID', 'uID').series"
   ]
  },
  {
   "cell_type": "code",
   "execution_count": null,
   "metadata": {},
   "outputs": [],
   "source": [
    "tess[\"tess_area_ratio\"] = mm.AreaRatio(tess, buildings, \"tess_area\", \"building_area\", 'uID').series\n",
    "tess[\"tess_circularCompactness\"] = mm.CircularCompactness(tess, \"tess_area\").series"
   ]
  },
  {
   "cell_type": "code",
   "execution_count": null,
   "metadata": {},
   "outputs": [],
   "source": [
    "file_path = f\"../output/{place}/queen_1.pkl\"\n",
    "\n",
    "if not os.path.exists(file_path):\n",
    "    result = \"File not found.\"\n",
    "else:\n",
    "    # Load the pickle file\n",
    "    with open(file_path, 'rb') as file:\n",
    "        queen_1 = pickle.load(file)\n",
    "    result = \"File loaded successfully.\"\n"
   ]
  },
  {
   "cell_type": "code",
   "execution_count": null,
   "metadata": {},
   "outputs": [],
   "source": [
    "file_path = f\"../output/{place}/queen_3.pkl\"\n",
    "\n",
    "if not os.path.exists(file_path):\n",
    "    result = \"File not found.\"\n",
    "else:\n",
    "    # Load the pickle file\n",
    "    with open(file_path, 'rb') as file:\n",
    "        queen_3 = pickle.load(file)\n",
    "    result = \"File loaded successfully.\"\n"
   ]
  },
  {
   "cell_type": "code",
   "execution_count": null,
   "metadata": {},
   "outputs": [
    {
     "name": "stderr",
     "output_type": "stream",
     "text": [
      "100%|██████████| 828537/828537 [00:21<00:00, 39253.02it/s]  \n"
     ]
    }
   ],
   "source": [
    "buildings[\"building_alignment\"] = mm.Alignment(buildings, queen_1, \"uID\", \"building_orientation\").series"
   ]
  },
  {
   "cell_type": "code",
   "execution_count": null,
   "metadata": {},
   "outputs": [
    {
     "name": "stderr",
     "output_type": "stream",
     "text": [
      "C:\\Users\\reube\\AppData\\Local\\Temp\\ipykernel_6304\\3721643334.py:1: FutureWarning: Currently, index_parts defaults to True, but in the future, it will default to False to be consistent with Pandas. Use `index_parts=True` to keep the current behavior and True/False to silence the warning.\n",
      "  streets = gpd.read_parquet(f\"../output/{place}/streets_p2.pq\").to_crs(local_crs).explode()\n"
     ]
    }
   ],
   "source": [
    "streets = gpd.read_parquet(f\"../output/{place}/streets_p2.pq\").to_crs(local_crs).explode()"
   ]
  },
  {
   "cell_type": "code",
   "execution_count": null,
   "metadata": {},
   "outputs": [
    {
     "name": "stderr",
     "output_type": "stream",
     "text": [
      "c:\\Users\\reube\\anaconda3\\envs\\nbprocessor\\Lib\\site-packages\\momepy\\elements.py:619: FutureWarning: `use_index` defaults to False but will default to True in future. Set True/False directly to control this behavior and silence this warning\n",
      "  weights = libpysal.weights.Queen.from_dataframe(cut, silence_warnings=True)\n"
     ]
    }
   ],
   "source": [
    "blocks0 = mm.Blocks(tess, streets, buildings, id_name='bID', unique_id='uID')"
   ]
  },
  {
   "cell_type": "code",
   "execution_count": null,
   "metadata": {},
   "outputs": [],
   "source": [
    "buildings['bID'] = blocks0.buildings_id\n",
    "tess['bID'] = blocks0.tessellation_id"
   ]
  },
  {
   "cell_type": "code",
   "execution_count": null,
   "metadata": {},
   "outputs": [
    {
     "name": "stderr",
     "output_type": "stream",
     "text": [
      "100%|██████████| 10813/10813 [00:00<00:00, 21682.20it/s]\n",
      "c:\\Users\\reube\\anaconda3\\envs\\nbprocessor\\Lib\\site-packages\\libpysal\\weights\\weights.py:224: UserWarning: The weights matrix is not fully connected: \n",
      " There are 14 disconnected components.\n",
      " There are 8 islands with ids: 1257, 1518, 2970, 8273, 9245, 10112, 10113, 10426.\n",
      "  warnings.warn(message)\n",
      "100%|██████████| 10813/10813 [00:00<00:00, 86108.35it/s]\n"
     ]
    }
   ],
   "source": [
    "blocks = blocks0.blocks\n",
    "blocks[\"block_area\"] = mm.Area(blocks).series\n",
    "blocks[\"block_circularcompactness\"] = mm.CircularCompactness(blocks, \"block_area\").series\n",
    "blocks[\"block_orientation\"] = mm.Orientation(blocks).series\n",
    " \n",
    "blo_q1 = libpysal.weights.contiguity.Queen.from_dataframe(blocks, ids=\"bID\")\n",
    " \n",
    "blocks[\"block_Neighbors\"] = mm.Neighbors(blocks, blo_q1, \"bID\", weighted=True).series\n",
    "blocks[\"block_count\"] = mm.Count(blocks, buildings, \"bID\", \"bID\", weighted=True).series"
   ]
  },
  {
   "cell_type": "code",
   "execution_count": null,
   "metadata": {},
   "outputs": [
    {
     "name": "stderr",
     "output_type": "stream",
     "text": [
      "100%|██████████| 828537/828537 [20:39<00:00, 668.27it/s]\n"
     ]
    }
   ],
   "source": [
    "tess[\"tess_block_count\"] = mm.BlocksCount(tess, 'bID', queen_3, 'uID').series"
   ]
  },
  {
   "cell_type": "code",
   "execution_count": null,
   "metadata": {},
   "outputs": [],
   "source": [
    "buildings.to_parquet(f\"../output/{place}/buildings_morphometric_p3.pq\")\n",
    "tess.to_parquet(f\"../output/{place}/tessellation_morphometric_p3.pq\")\n",
    "blocks.to_parquet(f\"../output/{place}/blocks_morphometric_p4.5.pq\")"
   ]
  },
  {
   "cell_type": "code",
   "execution_count": null,
   "metadata": {},
   "outputs": [],
   "source": []
  }
 ],
 "metadata": {
  "kernelspec": {
   "display_name": "Python 3",
   "language": "python",
   "name": "python3"
  },
  "language_info": {
   "codemirror_mode": {
    "name": "ipython",
    "version": 3
   },
   "file_extension": ".py",
   "mimetype": "text/x-python",
   "name": "python",
   "nbconvert_exporter": "python",
   "pygments_lexer": "ipython3",
   "version": "3.11.7"
  }
 },
 "nbformat": 4,
 "nbformat_minor": 2
}
