{
 "cells": [
  {
   "cell_type": "code",
   "execution_count": null,
   "metadata": {},
   "outputs": [],
   "source": [
    "import geopandas as gpd\n",
    "from pyproj import Proj, transform\n",
    "from shapely.geometry import Point\n",
    "import numpy as np\n",
    "import pandas as pd\n",
    "from scipy import stats\n",
    "from sklearn.preprocessing import StandardScaler\n",
    "from sklearn.linear_model import LinearRegression\n",
    "from sklearn.metrics import mean_squared_error\n",
    "import matplotlib.pyplot as plt\n",
    "import seaborn as sns\n",
    "import contextily as ctx\n",
    "from pyproj import Proj, transform\n",
    "import matplotlib.pyplot as plt\n",
    "from scipy.stats import kurtosis, skew\n",
    "import dask.dataframe as dd\n",
    "from rasterio.transform import from_origin\n",
    "import numpy as np\n",
    "import rasterio\n",
    "from shapely.ops import unary_union\n",
    "from inequality.theil import Theil"
   ]
  },
  {
   "cell_type": "code",
   "execution_count": null,
   "metadata": {
    "tags": [
     "parameters"
    ]
   },
   "outputs": [],
   "source": [
    "local_crs = 27700\n",
    "place = \"test\"\n",
    "lat = 55.86421405612109\n",
    "lng = -4.251846930489373\n",
    "country = \"UK\"\n",
    "crs=4326\n",
    "radius=1"
   ]
  },
  {
   "cell_type": "code",
   "execution_count": null,
   "metadata": {},
   "outputs": [],
   "source": [
    "local_crs = 27700\n",
    "place = \"Glasgow\"\n",
    "lat = 55.86421405612109\n",
    "lng = -4.251846930489373\n",
    "country = \"UK\"\n",
    "crs=4326\n",
    "radius=100\n"
   ]
  },
  {
   "cell_type": "code",
   "execution_count": null,
   "metadata": {},
   "outputs": [],
   "source": [
    "if lng:\n",
    "    lon = lng"
   ]
  },
  {
   "cell_type": "code",
   "execution_count": null,
   "metadata": {},
   "outputs": [],
   "source": [
    "lonlat=(lon, lat)"
   ]
  },
  {
   "cell_type": "code",
   "execution_count": null,
   "metadata": {},
   "outputs": [],
   "source": [
    "buildings = gpd.read_parquet(f\"../output/{place}/buildings_morphometric_p3.pq\")\n",
    "tessellation = gpd.read_parquet(f\"../output/{place}/tessellation_morphometric_p3.pq\")\n",
    "edges = gpd.read_parquet(f\"../output/{place}/edges_p4.pq\")\n",
    "nodes = gpd.read_parquet(f\"../output/{place}/nodes_p4.pq\")\n",
    "stroke = gpd.read_parquet(f\"../output/{place}/stroke_p3.pq\")\n",
    "blocks = gpd.read_parquet(f\"../output/{place}/blocks_morphometric_p4.5.pq\")"
   ]
  },
  {
   "cell_type": "code",
   "execution_count": null,
   "metadata": {},
   "outputs": [],
   "source": [
    "stroke.plot(stroke.length,\n",
    "                figsize=(15, 15),\n",
    "                cmap=\"viridis_r\",\n",
    "                linewidth=.5,\n",
    "                scheme=\"headtailbreaks\"\n",
    "               ).set_axis_off()"
   ]
  },
  {
   "cell_type": "code",
   "execution_count": null,
   "metadata": {},
   "outputs": [],
   "source": [
    "stroke[\"stroke_length\"] = stroke.length\n",
    "stroke = stroke.drop(columns=[\"n_segments\"])"
   ]
  },
  {
   "cell_type": "code",
   "execution_count": null,
   "metadata": {},
   "outputs": [],
   "source": [
    "buildings_merged = buildings.merge(tessellation.drop(columns=['geometry']), on='uID', how='inner')\n",
    "buildings_merged_centroids = buildings_merged\n",
    "buildings_merged_centroids[\"geometry\"] = buildings_merged_centroids['geometry'].centroid"
   ]
  },
  {
   "cell_type": "code",
   "execution_count": null,
   "metadata": {},
   "outputs": [],
   "source": [
    "# Your latitude and longitude tuple (latitude, longitude)\n",
    "\n",
    "# Transform the coordinates\n",
    "centre_point_4326 = Point(lon, lat)\n",
    "x_centre, y_centre = transform(4326, local_crs, lat, lon)\n",
    "centre_point_local_crs = Point(x_centre, y_centre)"
   ]
  },
  {
   "cell_type": "markdown",
   "metadata": {},
   "source": [
    "## Linear Regression"
   ]
  },
  {
   "cell_type": "code",
   "execution_count": null,
   "metadata": {},
   "outputs": [],
   "source": [
    "raster_data = gpd.read_parquet(f\"../output/{place}/raster_data.pq\").to_crs(local_crs)"
   ]
  },
  {
   "cell_type": "code",
   "execution_count": null,
   "metadata": {},
   "outputs": [],
   "source": [
    "raster_data"
   ]
  },
  {
   "cell_type": "code",
   "execution_count": null,
   "metadata": {},
   "outputs": [],
   "source": [
    "# Create a 50 km buffer around the point\n",
    "buffer_circle = gpd.GeoDataFrame({'geometry': [Point(lon, lat)]}, crs=4326).to_crs(local_crs).buffer(radius * 1000)"
   ]
  },
  {
   "cell_type": "code",
   "execution_count": null,
   "metadata": {},
   "outputs": [],
   "source": [
    "# Get bounds\n",
    "minx, miny, maxx, maxy = raster_data.total_bounds\n",
    "min_dist = min([abs(minx-lonlat[1]), abs(miny-lonlat[0]), abs(maxx-lonlat[1]), abs(maxy-lonlat[0])])\n",
    "\n",
    "# Create a GeoDataFrame with the specified point\n",
    "gdf = gpd.GeoDataFrame(geometry=[Point(lonlat[0], lonlat[1])], crs=crs)\n",
    "\n",
    "# The UTM zone number can be calculated from the longitude\n",
    "utm_zone = int((lonlat[0] + 180) / 6) + 1\n",
    "# Determine the hemisphere and assign the appropriate UTM CRS\n",
    "if lonlat[1] >= 0:  # Northern Hemisphere\n",
    "    local_utm_crs = f'EPSG:326{utm_zone:02d}'\n",
    "else:  # Southern Hemisphere\n",
    "    local_utm_crs = f'EPSG:327{utm_zone:02d}'\n",
    "\n",
    "# Reproject to a local UTM CRS\n",
    "gdf_utm = gdf.to_crs(local_utm_crs)\n",
    "\n",
    "# Create a 50 km buffer around the point\n",
    "buffer_circle = gdf_utm.buffer((radius) * 1000).to_crs(local_crs)  # Convert km to meters"
   ]
  },
  {
   "cell_type": "code",
   "execution_count": null,
   "metadata": {},
   "outputs": [],
   "source": [
    "# # Create a plot\n",
    "# fig, ax = plt.subplots(figsize=(10, 10))\n",
    "\n",
    "# # Plot the first GeoDataFrame\n",
    "# cells_in_circle.plot(ax=ax, color='blue', edgecolor='k', alpha=0.2)  # Adjust color and edgecolor as needed\n",
    "\n",
    "# # Plot the second GeoDataFrame on the same axes\n",
    "# buffer_circle.plot(ax=ax, color='red', alpha=0.2)  # Adjust color and alpha for transparency as needed\n",
    "\n",
    "# tessellation.plot(ax=ax, color=\"green\", alpha=0.4)\n",
    "\n",
    "# # Optionally set axis limits or other plot properties\n",
    "# # ax.set_xlim([xmin, xmax])\n",
    "# # ax.set_ylim([ymin, ymax])\n",
    "\n",
    "# ctx.add_basemap(ax, crs=local_crs,source=ctx.providers.CartoDB.Positron)\n",
    "\n",
    "# plt.show()"
   ]
  },
  {
   "cell_type": "code",
   "execution_count": null,
   "metadata": {},
   "outputs": [],
   "source": [
    "cells_in_circle = raster_data[raster_data[\"geometry\"].within(buffer_circle.geometry[0])]\n"
   ]
  },
  {
   "cell_type": "code",
   "execution_count": null,
   "metadata": {},
   "outputs": [],
   "source": [
    "cells_in_circle.plot()"
   ]
  },
  {
   "cell_type": "code",
   "execution_count": null,
   "metadata": {},
   "outputs": [],
   "source": [
    "cells_in_circle"
   ]
  },
  {
   "cell_type": "code",
   "execution_count": null,
   "metadata": {},
   "outputs": [],
   "source": [
    "# cells_in_circle.explore()"
   ]
  },
  {
   "cell_type": "code",
   "execution_count": null,
   "metadata": {},
   "outputs": [],
   "source": [
    "# # Assuming cells_in_circle is a GeoDataFrame\n",
    "# fig, ax = plt.subplots()\n",
    "# cells_in_circle.plot(column='row', ax=ax, cmap='Blues')\n",
    "# plt.show()"
   ]
  },
  {
   "cell_type": "code",
   "execution_count": null,
   "metadata": {},
   "outputs": [],
   "source": [
    "buildings"
   ]
  },
  {
   "cell_type": "code",
   "execution_count": null,
   "metadata": {},
   "outputs": [],
   "source": [
    "cells_in_circle.reset_index()[[\"geometry\", \"row\", \"col\"]]"
   ]
  },
  {
   "cell_type": "code",
   "execution_count": null,
   "metadata": {},
   "outputs": [],
   "source": [
    "buildings_joint = buildings.sjoin(cells_in_circle.reset_index()[[\"geometry\", \"row\", \"col\"]], how='inner', op=\"intersects\")"
   ]
  },
  {
   "cell_type": "code",
   "execution_count": null,
   "metadata": {},
   "outputs": [],
   "source": [
    "blocks_joint = blocks.sjoin(cells_in_circle.reset_index()[[\"geometry\", \"row\", \"col\"]], how='inner', op=\"intersects\").drop(columns=\"index_right\")"
   ]
  },
  {
   "cell_type": "code",
   "execution_count": null,
   "metadata": {},
   "outputs": [],
   "source": [
    "blocks_joint"
   ]
  },
  {
   "cell_type": "code",
   "execution_count": null,
   "metadata": {},
   "outputs": [],
   "source": [
    "# buildings_joint.explore()"
   ]
  },
  {
   "cell_type": "code",
   "execution_count": null,
   "metadata": {},
   "outputs": [],
   "source": [
    "joint_gdf = tessellation.join(buildings_joint, on=\"uID\", how=\"inner\", lsuffix=\"_tess\", rsuffix=\"_build\").drop([\"uID_tess\"], axis=1)"
   ]
  },
  {
   "cell_type": "code",
   "execution_count": null,
   "metadata": {},
   "outputs": [],
   "source": [
    "joint_gdf.set_geometry(\"geometry_build\")"
   ]
  },
  {
   "cell_type": "code",
   "execution_count": null,
   "metadata": {},
   "outputs": [],
   "source": [
    "tessellation_not_in_buildings = tessellation[~tessellation['uID'].isin(buildings_joint['uID'])]"
   ]
  },
  {
   "cell_type": "code",
   "execution_count": null,
   "metadata": {},
   "outputs": [],
   "source": [
    "tessellation_not_in_buildings.plot()"
   ]
  },
  {
   "cell_type": "code",
   "execution_count": null,
   "metadata": {},
   "outputs": [],
   "source": [
    "joint_gdf = joint_gdf.set_geometry(\"geometry_build\")"
   ]
  },
  {
   "cell_type": "code",
   "execution_count": null,
   "metadata": {},
   "outputs": [],
   "source": [
    "joint_gdf.to_parquet(f\"../output/{place}/p5-buildings-output.pq\")"
   ]
  },
  {
   "cell_type": "code",
   "execution_count": null,
   "metadata": {},
   "outputs": [],
   "source": [
    "# # Create a copy of the joint_gdf to avoid modifying the original while iterating\n",
    "# joint_gdf_copy = joint_gdf.copy()\n",
    "\n",
    "# # List to hold the new rows\n",
    "# new_rows = []\n",
    "\n",
    "# for index, row in joint_gdf.iterrows():\n",
    "#     for x in range(-1, 2):  # Adjusted range to include -1, 0, 1\n",
    "#         for y in range(-1, 2):  # Adjusted range to include -1, 0, 1\n",
    "#             if x == 0 and y == 0:  # Skip the current cell\n",
    "#                 continue\n",
    "#             else:\n",
    "#                 # Copy the current row and modify 'row' and 'col'\n",
    "#                 new_row = row.copy()\n",
    "#                 new_row[\"row\"] += x\n",
    "#                 new_row[\"col\"] += y\n",
    "#                 new_rows.append(new_row)\n",
    "\n",
    "# # Convert the list of new rows to a GeoDataFrame and concatenate it with the original\n",
    "# new_rows_gdf = gpd.GeoDataFrame(new_rows)\n",
    "# joint_gdf = pd.concat([joint_gdf_copy, new_rows_gdf], ignore_index=True)\n"
   ]
  },
  {
   "cell_type": "code",
   "execution_count": null,
   "metadata": {},
   "outputs": [],
   "source": [
    "joint_gdf = joint_gdf.drop(columns=[\"geometry_tess\", \"geometry_build\", \"uID\", \"bID_build\", \"uID_build\", \"index_right\"])"
   ]
  },
  {
   "cell_type": "code",
   "execution_count": null,
   "metadata": {},
   "outputs": [],
   "source": [
    "joint_gdf.columns"
   ]
  },
  {
   "cell_type": "code",
   "execution_count": null,
   "metadata": {},
   "outputs": [],
   "source": [
    "# Assuming 'gdf' is your GeoDataFrame\n",
    "# Convert GeoDataFrame to Dask DataFrame\n",
    "dask_df = dd.from_pandas(joint_gdf, npartitions=10)  # You can adjust the number of partitions"
   ]
  },
  {
   "cell_type": "code",
   "execution_count": null,
   "metadata": {},
   "outputs": [],
   "source": [
    "# this is a function to compute a measure of diversity (Theil index)\n",
    "def theil(y):\n",
    "    y = np.array(y)\n",
    "    n = len(y)\n",
    "    plus = y + np.finfo('float').tiny * (y == 0)  # can't have 0 values\n",
    "    yt = plus.sum(axis=0)\n",
    "    s = plus / (yt * 1.0)\n",
    "    lns = np.log(n * s)\n",
    "    slns = s * lns\n",
    "    t = sum(slns)\n",
    "    return t"
   ]
  },
  {
   "cell_type": "code",
   "execution_count": 71,
   "metadata": {},
   "outputs": [],
   "source": [
    "# Adjusted function to calculate metrics\n",
    "def calculate_metrics(group):\n",
    "    # Ensure group is treated as a DataFrame\n",
    "    if isinstance(group, pd.Series):\n",
    "        edges = group.to_frame().T\n",
    "    \n",
    "    results = {}\n",
    "    for col in group.columns:\n",
    "        # Exclude 'row' and 'col' from calculations\n",
    "        if col not in ['row', 'col']:\n",
    "            # Calculations as before\n",
    "            q1, q3 = group[col].quantile([0.25, 0.75])\n",
    "            iqr = q3 - q1\n",
    "            within_iqr = group[col][(group[col] >= q1) & (group[col] <= q3)]\n",
    "            mean_within_iqr = within_iqr.mean()\n",
    "\n",
    "            p10, p90 = group[col].quantile([0.1, 0.9])\n",
    "            within_percentiles = group[col][(group[col] >= p10) & (group[col] <= p90)]\n",
    "            theil_index = theil(within_percentiles) if len(within_percentiles) > 0 else np.nan\n",
    "\n",
    "            results[f'{col}_IQR'] = iqr\n",
    "            results[f'{col}_MeanWithinIQR'] = mean_within_iqr\n",
    "            results[f'{col}_Theil'] = theil_index\n",
    "\n",
    "    return pd.Series(results)\n",
    "\n",
    "# Apply the function to each group and convert to DataFrame\n",
    "grouped =dask_df.groupby([\"row\", \"col\"])\n",
    "metrics_df = grouped.apply(calculate_metrics).compute().reset_index()\n"
   ]
  },
  {
   "cell_type": "code",
   "execution_count": 72,
   "metadata": {},
   "outputs": [
    {
     "data": {
      "text/plain": [
       "Index(['bID', 'geometry', 'block_area', 'block_circularcompactness',\n",
       "       'block_orientation', 'block_Neighbors', 'block_count', 'row', 'col'],\n",
       "      dtype='object')"
      ]
     },
     "execution_count": 72,
     "metadata": {},
     "output_type": "execute_result"
    }
   ],
   "source": [
    "blocks_joint.columns"
   ]
  },
  {
   "cell_type": "code",
   "execution_count": 73,
   "metadata": {},
   "outputs": [
    {
     "data": {
      "text/html": [
       "<div>\n",
       "<style scoped>\n",
       "    .dataframe tbody tr th:only-of-type {\n",
       "        vertical-align: middle;\n",
       "    }\n",
       "\n",
       "    .dataframe tbody tr th {\n",
       "        vertical-align: top;\n",
       "    }\n",
       "\n",
       "    .dataframe thead th {\n",
       "        text-align: right;\n",
       "    }\n",
       "</style>\n",
       "<table border=\"1\" class=\"dataframe\">\n",
       "  <thead>\n",
       "    <tr style=\"text-align: right;\">\n",
       "      <th></th>\n",
       "      <th>bID</th>\n",
       "      <th>geometry</th>\n",
       "      <th>block_area</th>\n",
       "      <th>block_circularcompactness</th>\n",
       "      <th>block_orientation</th>\n",
       "      <th>block_Neighbors</th>\n",
       "      <th>block_count</th>\n",
       "      <th>row</th>\n",
       "      <th>col</th>\n",
       "    </tr>\n",
       "  </thead>\n",
       "  <tbody>\n",
       "    <tr>\n",
       "      <th>0</th>\n",
       "      <td>0</td>\n",
       "      <td>POLYGON ((253481.044 668083.005, 253478.348 66...</td>\n",
       "      <td>343225.958675</td>\n",
       "      <td>0.560174</td>\n",
       "      <td>15.938277</td>\n",
       "      <td>0.003176</td>\n",
       "      <td>0.000472</td>\n",
       "      <td>163</td>\n",
       "      <td>170</td>\n",
       "    </tr>\n",
       "    <tr>\n",
       "      <th>0</th>\n",
       "      <td>0</td>\n",
       "      <td>POLYGON ((253481.044 668083.005, 253478.348 66...</td>\n",
       "      <td>343225.958675</td>\n",
       "      <td>0.560174</td>\n",
       "      <td>15.938277</td>\n",
       "      <td>0.003176</td>\n",
       "      <td>0.000472</td>\n",
       "      <td>163</td>\n",
       "      <td>169</td>\n",
       "    </tr>\n",
       "    <tr>\n",
       "      <th>0</th>\n",
       "      <td>0</td>\n",
       "      <td>POLYGON ((253481.044 668083.005, 253478.348 66...</td>\n",
       "      <td>343225.958675</td>\n",
       "      <td>0.560174</td>\n",
       "      <td>15.938277</td>\n",
       "      <td>0.003176</td>\n",
       "      <td>0.000472</td>\n",
       "      <td>163</td>\n",
       "      <td>168</td>\n",
       "    </tr>\n",
       "    <tr>\n",
       "      <th>0</th>\n",
       "      <td>0</td>\n",
       "      <td>POLYGON ((253481.044 668083.005, 253478.348 66...</td>\n",
       "      <td>343225.958675</td>\n",
       "      <td>0.560174</td>\n",
       "      <td>15.938277</td>\n",
       "      <td>0.003176</td>\n",
       "      <td>0.000472</td>\n",
       "      <td>163</td>\n",
       "      <td>167</td>\n",
       "    </tr>\n",
       "    <tr>\n",
       "      <th>0</th>\n",
       "      <td>0</td>\n",
       "      <td>POLYGON ((253481.044 668083.005, 253478.348 66...</td>\n",
       "      <td>343225.958675</td>\n",
       "      <td>0.560174</td>\n",
       "      <td>15.938277</td>\n",
       "      <td>0.003176</td>\n",
       "      <td>0.000472</td>\n",
       "      <td>163</td>\n",
       "      <td>166</td>\n",
       "    </tr>\n",
       "    <tr>\n",
       "      <th>...</th>\n",
       "      <td>...</td>\n",
       "      <td>...</td>\n",
       "      <td>...</td>\n",
       "      <td>...</td>\n",
       "      <td>...</td>\n",
       "      <td>...</td>\n",
       "      <td>...</td>\n",
       "      <td>...</td>\n",
       "      <td>...</td>\n",
       "    </tr>\n",
       "    <tr>\n",
       "      <th>8994</th>\n",
       "      <td>8994</td>\n",
       "      <td>POLYGON ((268455.131 648423.317, 268452.339 64...</td>\n",
       "      <td>1168.516370</td>\n",
       "      <td>0.349636</td>\n",
       "      <td>5.841276</td>\n",
       "      <td>0.024733</td>\n",
       "      <td>0.000856</td>\n",
       "      <td>334</td>\n",
       "      <td>330</td>\n",
       "    </tr>\n",
       "    <tr>\n",
       "      <th>8995</th>\n",
       "      <td>8995</td>\n",
       "      <td>POLYGON ((270836.599 653393.012, 270806.102 65...</td>\n",
       "      <td>705.960315</td>\n",
       "      <td>0.414315</td>\n",
       "      <td>42.861157</td>\n",
       "      <td>0.008436</td>\n",
       "      <td>0.001417</td>\n",
       "      <td>289</td>\n",
       "      <td>357</td>\n",
       "    </tr>\n",
       "    <tr>\n",
       "      <th>8995</th>\n",
       "      <td>8995</td>\n",
       "      <td>POLYGON ((270836.599 653393.012, 270806.102 65...</td>\n",
       "      <td>705.960315</td>\n",
       "      <td>0.414315</td>\n",
       "      <td>42.861157</td>\n",
       "      <td>0.008436</td>\n",
       "      <td>0.001417</td>\n",
       "      <td>289</td>\n",
       "      <td>356</td>\n",
       "    </tr>\n",
       "    <tr>\n",
       "      <th>8995</th>\n",
       "      <td>8995</td>\n",
       "      <td>POLYGON ((270836.599 653393.012, 270806.102 65...</td>\n",
       "      <td>705.960315</td>\n",
       "      <td>0.414315</td>\n",
       "      <td>42.861157</td>\n",
       "      <td>0.008436</td>\n",
       "      <td>0.001417</td>\n",
       "      <td>288</td>\n",
       "      <td>357</td>\n",
       "    </tr>\n",
       "    <tr>\n",
       "      <th>8996</th>\n",
       "      <td>8996</td>\n",
       "      <td>POLYGON ((261220.931 655959.068, 261224.510 65...</td>\n",
       "      <td>758.111566</td>\n",
       "      <td>0.971809</td>\n",
       "      <td>35.323905</td>\n",
       "      <td>0.030531</td>\n",
       "      <td>0.001319</td>\n",
       "      <td>268</td>\n",
       "      <td>250</td>\n",
       "    </tr>\n",
       "  </tbody>\n",
       "</table>\n",
       "<p>119408 rows × 9 columns</p>\n",
       "</div>"
      ],
      "text/plain": [
       "       bID                                           geometry     block_area  \\\n",
       "0        0  POLYGON ((253481.044 668083.005, 253478.348 66...  343225.958675   \n",
       "0        0  POLYGON ((253481.044 668083.005, 253478.348 66...  343225.958675   \n",
       "0        0  POLYGON ((253481.044 668083.005, 253478.348 66...  343225.958675   \n",
       "0        0  POLYGON ((253481.044 668083.005, 253478.348 66...  343225.958675   \n",
       "0        0  POLYGON ((253481.044 668083.005, 253478.348 66...  343225.958675   \n",
       "...    ...                                                ...            ...   \n",
       "8994  8994  POLYGON ((268455.131 648423.317, 268452.339 64...    1168.516370   \n",
       "8995  8995  POLYGON ((270836.599 653393.012, 270806.102 65...     705.960315   \n",
       "8995  8995  POLYGON ((270836.599 653393.012, 270806.102 65...     705.960315   \n",
       "8995  8995  POLYGON ((270836.599 653393.012, 270806.102 65...     705.960315   \n",
       "8996  8996  POLYGON ((261220.931 655959.068, 261224.510 65...     758.111566   \n",
       "\n",
       "      block_circularcompactness  block_orientation  block_Neighbors  \\\n",
       "0                      0.560174          15.938277         0.003176   \n",
       "0                      0.560174          15.938277         0.003176   \n",
       "0                      0.560174          15.938277         0.003176   \n",
       "0                      0.560174          15.938277         0.003176   \n",
       "0                      0.560174          15.938277         0.003176   \n",
       "...                         ...                ...              ...   \n",
       "8994                   0.349636           5.841276         0.024733   \n",
       "8995                   0.414315          42.861157         0.008436   \n",
       "8995                   0.414315          42.861157         0.008436   \n",
       "8995                   0.414315          42.861157         0.008436   \n",
       "8996                   0.971809          35.323905         0.030531   \n",
       "\n",
       "      block_count  row  col  \n",
       "0        0.000472  163  170  \n",
       "0        0.000472  163  169  \n",
       "0        0.000472  163  168  \n",
       "0        0.000472  163  167  \n",
       "0        0.000472  163  166  \n",
       "...           ...  ...  ...  \n",
       "8994     0.000856  334  330  \n",
       "8995     0.001417  289  357  \n",
       "8995     0.001417  289  356  \n",
       "8995     0.001417  288  357  \n",
       "8996     0.001319  268  250  \n",
       "\n",
       "[119408 rows x 9 columns]"
      ]
     },
     "execution_count": 73,
     "metadata": {},
     "output_type": "execute_result"
    }
   ],
   "source": [
    "blocks_joint"
   ]
  },
  {
   "cell_type": "code",
   "execution_count": 74,
   "metadata": {},
   "outputs": [
    {
     "name": "stderr",
     "output_type": "stream",
     "text": [
      "C:\\Users\\reube\\AppData\\Local\\Temp\\ipykernel_36264\\3940449907.py:6: UserWarning: `meta` is not specified, inferred from partial data. Please provide `meta` if the result is unexpected.\n",
      "  Before: .apply(func)\n",
      "  After:  .apply(func, meta={'x': 'f8', 'y': 'f8'}) for dataframe result\n",
      "  or:     .apply(func, meta=('x', 'f8'))            for series result\n",
      "  metrics_blocks_df = grouped.apply(calculate_metrics).compute().reset_index()\n"
     ]
    }
   ],
   "source": [
    "# Assuming 'gdf' is your GeoDataFrame\n",
    "# Convert GeoDataFrame to Dask DataFrame\n",
    "dask_blocks_df = dd.from_pandas(blocks_joint.drop(columns=[\"bID\", \"geometry\"]), npartitions=10)  # You can adjust the number of partitions\n",
    "\n",
    "grouped =dask_blocks_df.groupby([\"row\", \"col\"])\n",
    "metrics_blocks_df = grouped.apply(calculate_metrics).compute().reset_index()"
   ]
  },
  {
   "cell_type": "code",
   "execution_count": 75,
   "metadata": {},
   "outputs": [],
   "source": [
    "# Calculate the count of entries in each cell\n",
    "cell_counts = dask_df.groupby(['row', 'col']).size().compute()\n",
    "cell_counts_df = cell_counts.reset_index(name='building_count')"
   ]
  },
  {
   "cell_type": "code",
   "execution_count": 76,
   "metadata": {},
   "outputs": [],
   "source": [
    "metrics_df = pd.merge(metrics_df, metrics_blocks_df, on=['row', 'col'], how='inner')"
   ]
  },
  {
   "cell_type": "code",
   "execution_count": 77,
   "metadata": {},
   "outputs": [],
   "source": [
    "metrics_df = pd.merge(metrics_df, cell_counts_df, on=['row', 'col'], how='inner')"
   ]
  },
  {
   "cell_type": "code",
   "execution_count": 78,
   "metadata": {},
   "outputs": [
    {
     "data": {
      "text/html": [
       "<div>\n",
       "<style scoped>\n",
       "    .dataframe tbody tr th:only-of-type {\n",
       "        vertical-align: middle;\n",
       "    }\n",
       "\n",
       "    .dataframe tbody tr th {\n",
       "        vertical-align: top;\n",
       "    }\n",
       "\n",
       "    .dataframe thead th {\n",
       "        text-align: right;\n",
       "    }\n",
       "</style>\n",
       "<table border=\"1\" class=\"dataframe\">\n",
       "  <thead>\n",
       "    <tr style=\"text-align: right;\">\n",
       "      <th></th>\n",
       "      <th>row</th>\n",
       "      <th>col</th>\n",
       "      <th>geometry</th>\n",
       "      <th>GHS_BUILT_H_100</th>\n",
       "      <th>GHS_BUILT_S_100</th>\n",
       "      <th>GHS_BUILT_V_100</th>\n",
       "      <th>GHS_LAND_100</th>\n",
       "      <th>GHS_POP_100</th>\n",
       "    </tr>\n",
       "  </thead>\n",
       "  <tbody>\n",
       "    <tr>\n",
       "      <th>425</th>\n",
       "      <td>0</td>\n",
       "      <td>455</td>\n",
       "      <td>POLYGON ((279328.852 685463.365, 279418.350 68...</td>\n",
       "      <td>0</td>\n",
       "      <td>21.0</td>\n",
       "      <td>94.0</td>\n",
       "      <td>8111</td>\n",
       "      <td>0.0</td>\n",
       "    </tr>\n",
       "    <tr>\n",
       "      <th>784</th>\n",
       "      <td>1</td>\n",
       "      <td>364</td>\n",
       "      <td>POLYGON ((271185.384 685587.823, 271274.881 68...</td>\n",
       "      <td>0</td>\n",
       "      <td>145.0</td>\n",
       "      <td>363.0</td>\n",
       "      <td>10000</td>\n",
       "      <td>0.0</td>\n",
       "    </tr>\n",
       "    <tr>\n",
       "      <th>785</th>\n",
       "      <td>1</td>\n",
       "      <td>365</td>\n",
       "      <td>POLYGON ((271274.881 685585.141, 271364.379 68...</td>\n",
       "      <td>0</td>\n",
       "      <td>1.0</td>\n",
       "      <td>3.0</td>\n",
       "      <td>10000</td>\n",
       "      <td>0.0</td>\n",
       "    </tr>\n",
       "    <tr>\n",
       "      <th>1295</th>\n",
       "      <td>3</td>\n",
       "      <td>281</td>\n",
       "      <td>POLYGON ((263758.714 685592.876, 263848.211 68...</td>\n",
       "      <td>0</td>\n",
       "      <td>1109.0</td>\n",
       "      <td>2773.0</td>\n",
       "      <td>10000</td>\n",
       "      <td>3.0</td>\n",
       "    </tr>\n",
       "    <tr>\n",
       "      <th>1296</th>\n",
       "      <td>3</td>\n",
       "      <td>282</td>\n",
       "      <td>POLYGON ((263848.211 685590.038, 263937.707 68...</td>\n",
       "      <td>0</td>\n",
       "      <td>890.0</td>\n",
       "      <td>2225.0</td>\n",
       "      <td>10000</td>\n",
       "      <td>2.0</td>\n",
       "    </tr>\n",
       "    <tr>\n",
       "      <th>...</th>\n",
       "      <td>...</td>\n",
       "      <td>...</td>\n",
       "      <td>...</td>\n",
       "      <td>...</td>\n",
       "      <td>...</td>\n",
       "      <td>...</td>\n",
       "      <td>...</td>\n",
       "      <td>...</td>\n",
       "    </tr>\n",
       "    <tr>\n",
       "      <th>67831</th>\n",
       "      <td>363</td>\n",
       "      <td>45</td>\n",
       "      <td>POLYGON ((242845.021 646051.437, 242934.813 64...</td>\n",
       "      <td>0</td>\n",
       "      <td>1355.0</td>\n",
       "      <td>3388.0</td>\n",
       "      <td>9950</td>\n",
       "      <td>1.0</td>\n",
       "    </tr>\n",
       "    <tr>\n",
       "      <th>67832</th>\n",
       "      <td>363</td>\n",
       "      <td>46</td>\n",
       "      <td>POLYGON ((242934.813 646048.197, 243024.606 64...</td>\n",
       "      <td>0</td>\n",
       "      <td>188.0</td>\n",
       "      <td>470.0</td>\n",
       "      <td>10000</td>\n",
       "      <td>0.0</td>\n",
       "    </tr>\n",
       "    <tr>\n",
       "      <th>67833</th>\n",
       "      <td>363</td>\n",
       "      <td>63</td>\n",
       "      <td>POLYGON ((244461.290 645993.412, 244551.083 64...</td>\n",
       "      <td>0</td>\n",
       "      <td>2.0</td>\n",
       "      <td>5.0</td>\n",
       "      <td>10000</td>\n",
       "      <td>0.0</td>\n",
       "    </tr>\n",
       "    <tr>\n",
       "      <th>67834</th>\n",
       "      <td>363</td>\n",
       "      <td>64</td>\n",
       "      <td>POLYGON ((244551.083 645990.206, 244640.876 64...</td>\n",
       "      <td>0</td>\n",
       "      <td>133.0</td>\n",
       "      <td>333.0</td>\n",
       "      <td>10000</td>\n",
       "      <td>0.0</td>\n",
       "    </tr>\n",
       "    <tr>\n",
       "      <th>67835</th>\n",
       "      <td>363</td>\n",
       "      <td>65</td>\n",
       "      <td>POLYGON ((244640.876 645987.002, 244730.669 64...</td>\n",
       "      <td>0</td>\n",
       "      <td>39.0</td>\n",
       "      <td>98.0</td>\n",
       "      <td>10000</td>\n",
       "      <td>0.0</td>\n",
       "    </tr>\n",
       "  </tbody>\n",
       "</table>\n",
       "<p>61582 rows × 8 columns</p>\n",
       "</div>"
      ],
      "text/plain": [
       "       row  col                                           geometry  \\\n",
       "425      0  455  POLYGON ((279328.852 685463.365, 279418.350 68...   \n",
       "784      1  364  POLYGON ((271185.384 685587.823, 271274.881 68...   \n",
       "785      1  365  POLYGON ((271274.881 685585.141, 271364.379 68...   \n",
       "1295     3  281  POLYGON ((263758.714 685592.876, 263848.211 68...   \n",
       "1296     3  282  POLYGON ((263848.211 685590.038, 263937.707 68...   \n",
       "...    ...  ...                                                ...   \n",
       "67831  363   45  POLYGON ((242845.021 646051.437, 242934.813 64...   \n",
       "67832  363   46  POLYGON ((242934.813 646048.197, 243024.606 64...   \n",
       "67833  363   63  POLYGON ((244461.290 645993.412, 244551.083 64...   \n",
       "67834  363   64  POLYGON ((244551.083 645990.206, 244640.876 64...   \n",
       "67835  363   65  POLYGON ((244640.876 645987.002, 244730.669 64...   \n",
       "\n",
       "       GHS_BUILT_H_100  GHS_BUILT_S_100  GHS_BUILT_V_100  GHS_LAND_100  \\\n",
       "425                  0             21.0             94.0          8111   \n",
       "784                  0            145.0            363.0         10000   \n",
       "785                  0              1.0              3.0         10000   \n",
       "1295                 0           1109.0           2773.0         10000   \n",
       "1296                 0            890.0           2225.0         10000   \n",
       "...                ...              ...              ...           ...   \n",
       "67831                0           1355.0           3388.0          9950   \n",
       "67832                0            188.0            470.0         10000   \n",
       "67833                0              2.0              5.0         10000   \n",
       "67834                0            133.0            333.0         10000   \n",
       "67835                0             39.0             98.0         10000   \n",
       "\n",
       "       GHS_POP_100  \n",
       "425            0.0  \n",
       "784            0.0  \n",
       "785            0.0  \n",
       "1295           3.0  \n",
       "1296           2.0  \n",
       "...            ...  \n",
       "67831          1.0  \n",
       "67832          0.0  \n",
       "67833          0.0  \n",
       "67834          0.0  \n",
       "67835          0.0  \n",
       "\n",
       "[61582 rows x 8 columns]"
      ]
     },
     "execution_count": 78,
     "metadata": {},
     "output_type": "execute_result"
    }
   ],
   "source": [
    "raster_data"
   ]
  },
  {
   "cell_type": "code",
   "execution_count": 79,
   "metadata": {},
   "outputs": [],
   "source": [
    "raster_data = raster_data.set_index([\"row\", \"col\"])"
   ]
  },
  {
   "cell_type": "code",
   "execution_count": 80,
   "metadata": {},
   "outputs": [],
   "source": [
    "metrics_df = metrics_df.dropna()"
   ]
  },
  {
   "cell_type": "code",
   "execution_count": 81,
   "metadata": {},
   "outputs": [],
   "source": [
    "out_df = gpd.GeoDataFrame(pd.concat([metrics_df, raster_data], axis=1).reset_index(), geometry=\"geometry\")\n",
    "out_df = out_df.merge(cell_counts_df, on=['row', 'col'], how='left')"
   ]
  },
  {
   "cell_type": "code",
   "execution_count": 82,
   "metadata": {},
   "outputs": [],
   "source": [
    "out_df = out_df.drop(columns=[\"geometry\"], axis=1)\n",
    "out_df = out_df.merge(cells_in_circle[[\"geometry\", \"row\", \"col\"]], on=[\"row\", \"col\"], how=\"inner\")"
   ]
  },
  {
   "cell_type": "code",
   "execution_count": 83,
   "metadata": {},
   "outputs": [],
   "source": [
    "out_df = gpd.GeoDataFrame(out_df, geometry='geometry')"
   ]
  },
  {
   "cell_type": "code",
   "execution_count": 84,
   "metadata": {},
   "outputs": [
    {
     "data": {
      "text/plain": [
       "['index',\n",
       " 'row',\n",
       " 'col',\n",
       " 'tess_area_IQR',\n",
       " 'tess_area_MeanWithinIQR',\n",
       " 'tess_area_Theil',\n",
       " 'tessellation_neighbours_IQR',\n",
       " 'tessellation_neighbours_MeanWithinIQR',\n",
       " 'tessellation_neighbours_Theil',\n",
       " 'tess_convexity_IQR',\n",
       " 'tess_convexity_MeanWithinIQR',\n",
       " 'tess_convexity_Theil',\n",
       " 'tess_covered_area_IQR',\n",
       " 'tess_covered_area_MeanWithinIQR',\n",
       " 'tess_covered_area_Theil',\n",
       " 'tess_orientation_IQR',\n",
       " 'tess_orientation_MeanWithinIQR',\n",
       " 'tess_orientation_Theil',\n",
       " 'tess_convexity_weight_IQR',\n",
       " 'tess_convexity_weight_MeanWithinIQR',\n",
       " 'tess_convexity_weight_Theil',\n",
       " 'tess_covered_area_weight_IQR',\n",
       " 'tess_covered_area_weight_MeanWithinIQR',\n",
       " 'tess_covered_area_weight_Theil',\n",
       " 'tess_orientation_weight_IQR',\n",
       " 'tess_orientation_weight_MeanWithinIQR',\n",
       " 'tess_orientation_weight_Theil',\n",
       " 'tess_rea_theil_IQR',\n",
       " 'tess_rea_theil_MeanWithinIQR',\n",
       " 'tess_rea_theil_Theil',\n",
       " 'tess_compactnessweightedaxis_IQR',\n",
       " 'tess_compactnessweightedaxis_MeanWithinIQR',\n",
       " 'tess_compactnessweightedaxis_Theil',\n",
       " 'tess_compactnessweightedaxis_weight_IQR',\n",
       " 'tess_compactnessweightedaxis_weight_MeanWithinIQR',\n",
       " 'tess_compactnessweightedaxis_weight_Theil',\n",
       " 'tess_area_ratio_IQR',\n",
       " 'tess_area_ratio_MeanWithinIQR',\n",
       " 'tess_area_ratio_Theil',\n",
       " 'tess_circularCompactness_IQR',\n",
       " 'tess_circularCompactness_MeanWithinIQR',\n",
       " 'tess_circularCompactness_Theil',\n",
       " 'bID_tess_IQR',\n",
       " 'bID_tess_MeanWithinIQR',\n",
       " 'bID_tess_Theil',\n",
       " 'tess_block_count_IQR',\n",
       " 'tess_block_count_MeanWithinIQR',\n",
       " 'tess_block_count_Theil',\n",
       " 'buildings_neighbours_200_IQR',\n",
       " 'buildings_neighbours_200_MeanWithinIQR',\n",
       " 'buildings_neighbours_200_Theil',\n",
       " 'building_area_IQR',\n",
       " 'building_area_MeanWithinIQR',\n",
       " 'building_area_Theil',\n",
       " 'building_circular_compactness_IQR',\n",
       " 'building_circular_compactness_MeanWithinIQR',\n",
       " 'building_circular_compactness_Theil',\n",
       " 'building_elongation_IQR',\n",
       " 'building_elongation_MeanWithinIQR',\n",
       " 'building_elongation_Theil',\n",
       " 'building_squareness_IQR',\n",
       " 'building_squareness_MeanWithinIQR',\n",
       " 'building_squareness_Theil',\n",
       " 'building_eri_IQR',\n",
       " 'building_eri_MeanWithinIQR',\n",
       " 'building_eri_Theil',\n",
       " 'building_orientation_IQR',\n",
       " 'building_orientation_MeanWithinIQR',\n",
       " 'building_orientation_Theil',\n",
       " 'building_neighbour_dist_IQR',\n",
       " 'building_neighbour_dist_MeanWithinIQR',\n",
       " 'building_neighbour_dist_Theil',\n",
       " 'building_neighbourhood_interbuilding_distance_IQR',\n",
       " 'building_neighbourhood_interbuilding_distance_MeanWithinIQR',\n",
       " 'building_neighbourhood_interbuilding_distance_Theil',\n",
       " 'building_circular_compactness_weight_IQR',\n",
       " 'building_circular_compactness_weight_MeanWithinIQR',\n",
       " 'building_circular_compactness_weight_Theil',\n",
       " 'building_elongation_weight_IQR',\n",
       " 'building_elongation_weight_MeanWithinIQR',\n",
       " 'building_elongation_weight_Theil',\n",
       " 'building_squareness_weight_IQR',\n",
       " 'building_squareness_weight_MeanWithinIQR',\n",
       " 'building_squareness_weight_Theil',\n",
       " 'building_eri_weight_IQR',\n",
       " 'building_eri_weight_MeanWithinIQR',\n",
       " 'building_eri_weight_Theil',\n",
       " 'building_neighbour_dist_weight_IQR',\n",
       " 'building_neighbour_dist_weight_MeanWithinIQR',\n",
       " 'building_neighbour_dist_weight_Theil',\n",
       " 'building_neighbourhood_interbuilding_distance_weight_IQR',\n",
       " 'building_neighbourhood_interbuilding_distance_weight_MeanWithinIQR',\n",
       " 'building_neighbourhood_interbuilding_distance_weight_Theil',\n",
       " 'building_orientation_weight_IQR',\n",
       " 'building_orientation_weight_MeanWithinIQR',\n",
       " 'building_orientation_weight_Theil',\n",
       " 'building_corners_IQR',\n",
       " 'building_corners_MeanWithinIQR',\n",
       " 'building_corners_Theil',\n",
       " 'buildings_centroidcornermean_IQR',\n",
       " 'buildings_centroidcornermean_MeanWithinIQR',\n",
       " 'buildings_centroidcornermean_Theil',\n",
       " 'buildings_centroidcornerstd_IQR',\n",
       " 'buildings_centroidcornerstd_MeanWithinIQR',\n",
       " 'buildings_centroidcornerstd_Theil',\n",
       " 'building_cell_alignment_IQR',\n",
       " 'building_cell_alignment_MeanWithinIQR',\n",
       " 'building_cell_alignment_Theil',\n",
       " 'building_alignment_IQR',\n",
       " 'building_alignment_MeanWithinIQR',\n",
       " 'building_alignment_Theil',\n",
       " 'block_area_IQR',\n",
       " 'block_area_MeanWithinIQR',\n",
       " 'block_area_Theil',\n",
       " 'block_circularcompactness_IQR',\n",
       " 'block_circularcompactness_MeanWithinIQR',\n",
       " 'block_circularcompactness_Theil',\n",
       " 'block_orientation_IQR',\n",
       " 'block_orientation_MeanWithinIQR',\n",
       " 'block_orientation_Theil',\n",
       " 'block_Neighbors_IQR',\n",
       " 'block_Neighbors_MeanWithinIQR',\n",
       " 'block_Neighbors_Theil',\n",
       " 'block_count_IQR',\n",
       " 'block_count_MeanWithinIQR',\n",
       " 'block_count_Theil',\n",
       " 'building_count_x',\n",
       " 'GHS_BUILT_H_100',\n",
       " 'GHS_BUILT_S_100',\n",
       " 'GHS_BUILT_V_100',\n",
       " 'GHS_LAND_100',\n",
       " 'GHS_POP_100',\n",
       " 'building_count_y',\n",
       " 'geometry']"
      ]
     },
     "execution_count": 84,
     "metadata": {},
     "output_type": "execute_result"
    }
   ],
   "source": [
    "# Function to flatten and clean column names (tuples or strings) from the GeoDataFrame\n",
    "def clean_column_names(columns):\n",
    "    clean_names = []\n",
    "    for col in columns:\n",
    "        if isinstance(col, tuple):\n",
    "            clean_name = '_'.join(part.strip() for part in col)\n",
    "        else:\n",
    "            clean_name = col.strip()\n",
    "        clean_names.append(clean_name)\n",
    "    return clean_names\n",
    "\n",
    "# Apply the cleaning function to the GeoDataFrame columns\n",
    "out_df.columns = clean_column_names(out_df.columns)\n",
    "out_df.columns.tolist()"
   ]
  },
  {
   "cell_type": "code",
   "execution_count": 85,
   "metadata": {},
   "outputs": [],
   "source": [
    "# out_df.explore()"
   ]
  },
  {
   "cell_type": "code",
   "execution_count": 86,
   "metadata": {},
   "outputs": [],
   "source": [
    "out_df_expanded = out_df"
   ]
  },
  {
   "cell_type": "code",
   "execution_count": 87,
   "metadata": {},
   "outputs": [],
   "source": [
    "for index, row in out_df.iterrows():\n",
    "    geometry_list = [row.geometry]\n",
    "    for x in range(-1, 2):  # Adjusted range to include -1, 0, 1\n",
    "        for y in range(-1, 2):  # Adjusted range to include -1, 0, 1\n",
    "            # Filter out_df for the specific row and column values\n",
    "            filtered_df = out_df[(out_df[\"row\"] == row.row + x) & (out_df[\"col\"] == row.col + y)]\n",
    "            # Check if the filtered_df is not empty\n",
    "            if not filtered_df.empty:\n",
    "                # Append the geometry of the first row from the filtered dataframe\n",
    "                geometry_list.append(filtered_df.geometry.iloc[0])\n",
    "    \n",
    "    # Update the 'out_df_expanded' with the unified geometry\n",
    "    out_df_expanded.loc[(out_df_expanded['row'] == row.row) & (out_df_expanded['col'] == row.col), 'geometry'] = unary_union(geometry_list)"
   ]
  },
  {
   "cell_type": "code",
   "execution_count": 88,
   "metadata": {},
   "outputs": [],
   "source": [
    "def calculate_statistics(name, group, out_df):\n",
    "    # Spatial join - associating each node with a polygon\n",
    "    joined = gpd.sjoin(nodes, out_df, how='inner', op='intersects')\n",
    "\n",
    "    # Creating a list to hold results\n",
    "    results = []\n",
    "\n",
    "    # Iterating through each unique polygon in the spatial join\n",
    "    for polygon_id in joined['index_right'].unique():\n",
    "        # Filter to include only nodes within the current polygon\n",
    "        nodes_in_polygon = joined[joined['index_right'] == polygon_id]\n",
    "\n",
    "        # Calculating statistics for each column\n",
    "        stats = {'polygon_id': polygon_id}\n",
    "        \n",
    "        stats[f'nodes_count'] = nodes_in_polygon.iloc[0].count()\n",
    "        \n",
    "        for col in group.columns.drop([\"nodeID\", \"geometry\"]):\n",
    "            if len(group[col]) == 1:\n",
    "                break;\n",
    "            # Exclude 'row' and 'col' from calculations\n",
    "            if col not in ['row', 'col']:\n",
    "                # Calculations as before\n",
    "                q1, q3 = group[col].quantile([0.25, 0.75])\n",
    "                iqr = q3 - q1\n",
    "                within_iqr = group[col][(group[col] >= q1) & (group[col] <= q3)]\n",
    "                mean_within_iqr = within_iqr.mean()\n",
    "\n",
    "                p10, p90 = group[col].quantile([0.1, 0.9])\n",
    "                within_percentiles = group[col][(group[col] >= p10) & (group[col] <= p90)]\n",
    "                theil_index = theil(within_percentiles) if len(within_percentiles) > 0 else np.nan\n",
    "\n",
    "                stats[f'{col}_IQR'] = iqr\n",
    "                stats[f'{col}_MeanWithinIQR'] = mean_within_iqr\n",
    "                stats[f'{col}_Theil'] = theil_index\n",
    "                \n",
    "        # Adding stats for this polygon to the results list\n",
    "        results.append(stats)\n",
    "\n",
    "    # Creating a DataFrame from the results\n",
    "    stats_df = pd.DataFrame(results)\n",
    "\n",
    "    # Ensuring that the merge key in out_df is a regular column (not an index)\n",
    "    \n",
    "    # out_df.explore()\n",
    "    \n",
    "    out_df['polygon_id'] = out_df.index\n",
    "\n",
    "    # Merging the stats DataFrame with the out_df GeoDataFrame\n",
    "    merged_df = out_df.merge(stats_df, on='polygon_id', how='left')\n",
    "    \n",
    "    merged_df = merged_df.drop(columns=[\"polygon_id\"], axis = 1)\n",
    "\n",
    "    return merged_df"
   ]
  },
  {
   "cell_type": "code",
   "execution_count": 89,
   "metadata": {},
   "outputs": [
    {
     "name": "stderr",
     "output_type": "stream",
     "text": [
      "c:\\Users\\reube\\anaconda3\\envs\\morphprocessor\\Lib\\site-packages\\IPython\\core\\interactiveshell.py:3553: FutureWarning: The `op` parameter is deprecated and will be removed in a future release. Please use the `predicate` parameter instead.\n",
      "  exec(code_obj, self.user_global_ns, self.user_ns)\n"
     ]
    }
   ],
   "source": [
    "out_df_expanded = calculate_statistics(\"nodes\", nodes, out_df_expanded)"
   ]
  },
  {
   "cell_type": "code",
   "execution_count": null,
   "metadata": {},
   "outputs": [],
   "source": [
    "def calculate_line_statistics(name, group, out_df):\n",
    "    # Spatial join - associating each line with polygons it intersects\n",
    "    joined = gpd.sjoin(group, out_df, how='inner', op='intersects')\n",
    "\n",
    "    # Creating a list to hold results\n",
    "    results = []\n",
    "\n",
    "    # Iterating through each unique polygon in the spatial join\n",
    "    for polygon_id in joined['index_right'].unique():\n",
    "        # Filter to include only lines intersecting the current polygon\n",
    "        lines_in_polygon = joined[joined['index_right'] == polygon_id]\n",
    "        \n",
    "        # Calculating statistics for each column\n",
    "        stats = {'polygon_id': polygon_id}\n",
    "        \n",
    "        stats[f'{name}_count'] = lines_in_polygon.iloc[0].count()\n",
    "        \n",
    "        # Columns to be dropped\n",
    "        columns_to_drop = ['geometry', 'node_start', 'node_end', 'length']\n",
    "\n",
    "        # Dropping columns that exist in the DataFrame from the list\n",
    "        group = group.drop(columns=[col for col in columns_to_drop if col in group.columns])\n",
    "\n",
    "\n",
    "        for col in group.columns:\n",
    "            if len(group[col]) == 1:\n",
    "                break;\n",
    "            # Exclude 'row' and 'col' from calculations\n",
    "            if col not in ['row', 'col']:\n",
    "                # Calculations as before\n",
    "                q1, q3 = group[col].quantile([0.25, 0.75])\n",
    "                iqr = q3 - q1\n",
    "                within_iqr = group[col][(group[col] >= q1) & (group[col] <= q3)]\n",
    "                mean_within_iqr = within_iqr.mean()\n",
    "\n",
    "                p10, p90 = group[col].quantile([0.1, 0.9])\n",
    "                within_percentiles = group[col][(group[col] >= p10) & (group[col] <= p90)]\n",
    "                theil_index = theil(within_percentiles) if len(within_percentiles) > 0 else np.nan\n",
    "\n",
    "                stats[f'{col}_IQR'] = iqr\n",
    "                stats[f'{col}_MeanWithinIQR'] = mean_within_iqr\n",
    "                stats[f'{col}_Theil'] = theil_index\n",
    "           \n",
    "        # Adding stats for this polygon to the results list\n",
    "        results.append(stats)\n",
    "\n",
    "    # Creating a DataFrame from the results\n",
    "    stats_df = pd.DataFrame(results)\n",
    "\n",
    "    # Ensuring that the merge key in out_df is a regular column (not an index)\n",
    "    out_df['polygon_id'] = out_df.index\n",
    "\n",
    "    # Merging the stats DataFrame with the out_df GeoDataFrame\n",
    "    merged_df = out_df.merge(stats_df, on='polygon_id', how=\"left\")\n",
    "\n",
    "    return merged_df"
   ]
  },
  {
   "cell_type": "code",
   "execution_count": null,
   "metadata": {},
   "outputs": [],
   "source": [
    "edges = edges.drop([\"mm_len\", \"node_start\", \"node_end\"], axis=1)"
   ]
  },
  {
   "cell_type": "code",
   "execution_count": null,
   "metadata": {},
   "outputs": [],
   "source": [
    "out_df_expanded = calculate_line_statistics(\"edges\", edges, out_df_expanded)"
   ]
  },
  {
   "cell_type": "code",
   "execution_count": null,
   "metadata": {},
   "outputs": [],
   "source": [
    "out_df_expanded = calculate_line_statistics(\"strokes\", stroke, out_df_expanded)"
   ]
  },
  {
   "cell_type": "code",
   "execution_count": null,
   "metadata": {},
   "outputs": [],
   "source": [
    "out_df_expanded = out_df_expanded.drop(columns=[\"geometry\"], axis=1)\n",
    "out_df = out_df_expanded.merge(cells_in_circle[[\"geometry\", \"row\", \"col\"]], on=[\"row\", \"col\"], how=\"inner\")"
   ]
  },
  {
   "cell_type": "code",
   "execution_count": null,
   "metadata": {},
   "outputs": [],
   "source": [
    "# Convert the merged DataFrame to a GeoDataFrame\n",
    "geo_df = gpd.GeoDataFrame(out_df, geometry='geometry')"
   ]
  },
  {
   "cell_type": "code",
   "execution_count": null,
   "metadata": {},
   "outputs": [],
   "source": [
    "geo_df = geo_df.drop(columns=[\"polygon_id\"])"
   ]
  },
  {
   "cell_type": "code",
   "execution_count": null,
   "metadata": {},
   "outputs": [],
   "source": [
    "# geo_df.explore()"
   ]
  },
  {
   "cell_type": "code",
   "execution_count": null,
   "metadata": {},
   "outputs": [],
   "source": [
    "geo_df = geo_df.fillna(0)"
   ]
  },
  {
   "cell_type": "code",
   "execution_count": null,
   "metadata": {},
   "outputs": [],
   "source": [
    "geo_df.to_parquet(f\"../output/{place}/p5-grid-output.pq\")"
   ]
  },
  {
   "cell_type": "code",
   "execution_count": null,
   "metadata": {},
   "outputs": [],
   "source": [
    "# with rasterio.open(f'../output/{place}/p5.tif') as src:\n",
    "#     # Get the transform object\n",
    "#     transform = src.transform\n",
    "\n",
    "#     # Extract west, north, and resolution (xres, yres)\n",
    "#     west = transform.c\n",
    "#     north = transform.f\n",
    "#     xres = transform.a\n",
    "#     yres = -transform.e  # yres is negative as raster origin is top-left\n"
   ]
  },
  {
   "cell_type": "code",
   "execution_count": null,
   "metadata": {},
   "outputs": [],
   "source": [
    "\n",
    "# # Open the source raster to get the transform\n",
    "# with rasterio.open(f'../output/{place}.tif') as src:\n",
    "#     transform = src.transform\n",
    "\n",
    "#     west = transform.c\n",
    "#     north = transform.f\n",
    "#     xres = transform.a\n",
    "#     yres = -transform.e  # yres is negative as raster origin is top-left\n",
    "\n",
    "# # Calculate raster dimensions\n",
    "# n_rows = gdf['row'].max() - gdf['row'].min() + 1\n",
    "# n_cols = gdf['col'].max() - gdf['col'].min() + 1\n",
    "\n",
    "# # List of columns to be used as bands\n",
    "# band_columns = [col for col in gdf.columns if col not in ['row', 'col', 'geometry']]\n",
    "\n",
    "# # Initialize raster dataset\n",
    "# with rasterio.open(f\"../output/{place}/grid_with_summary_stats.tif\", 'w', \n",
    "#     driver='GTiff', \n",
    "#     height=n_rows, \n",
    "#     width=n_cols, \n",
    "#     count=len(band_columns), \n",
    "#     dtype=str(gdf[band_columns[0]].dtype), \n",
    "#     crs=gdf.crs, \n",
    "#     transform=transform\n",
    "# ) as dst:\n",
    "#     for i, column in enumerate(band_columns, start=1):\n",
    "#         # Create an empty array filled with NaNs (or use a different no-data value)\n",
    "#         if column == 'building_height':\n",
    "#             # For 'building_height', initialize with zeros\n",
    "#             band_data = np.zeros((n_rows, n_cols))\n",
    "#         else:\n",
    "#             # For other columns, initialize with NaNs\n",
    "#             band_data = np.full((n_rows, n_cols), np.nan)\n",
    "\n",
    "#         # Update the array with data from the GeoDataFrame\n",
    "#         for _, row in gdf.iterrows():\n",
    "#             row_idx, col_idx = row['row'] - gdf['row'].min(), row['col'] - gdf['col'].min()\n",
    "#             band_data[row_idx, col_idx] = row[column]\n",
    "\n",
    "#         dst.write(band_data, i)"
   ]
  },
  {
   "cell_type": "code",
   "execution_count": null,
   "metadata": {},
   "outputs": [],
   "source": [
    "# gdf['distance_to_centre'] = gdf['geometry'].distance(centre_point_local_crs)"
   ]
  },
  {
   "cell_type": "code",
   "execution_count": null,
   "metadata": {},
   "outputs": [],
   "source": [
    "# new_gdf = gdf.drop(columns=[\"geometry\", \"row\", \"col\"]).dropna()"
   ]
  },
  {
   "cell_type": "code",
   "execution_count": null,
   "metadata": {},
   "outputs": [],
   "source": [
    "# # Response variable\n",
    "# y = new_gdf['distance_to_centre']\n",
    "\n",
    "# # Feature variables (excluding the response variable)\n",
    "# X = new_gdf.drop(columns=['distance_to_centre'])\n",
    "\n",
    "# # Standardize the features\n",
    "# scaler = StandardScaler()\n",
    "# X_scaled = scaler.fit_transform(X)\n",
    "\n",
    "# # Initialize and fit the Linear Regression model\n",
    "# model = LinearRegression()\n",
    "# model.fit(X_scaled, y)\n",
    "\n",
    "# # Coefficients and Intercept\n",
    "# coefficients = model.coef_\n",
    "# intercept = model.intercept_\n",
    "\n",
    "# # Predictions\n",
    "# predictions = model.predict(X_scaled)\n",
    "\n",
    "# # Number of observations and number of features\n",
    "# n = len(y)\n",
    "# p = X.shape[1]\n",
    "\n",
    "# # Residual Sum of Squares and Total Sum of Squares\n",
    "# rss = np.sum((y - predictions) ** 2)\n",
    "# tss = np.sum((y - np.mean(y)) ** 2)\n",
    "\n",
    "# # R-squared and Adjusted R-squared\n",
    "# r_squared = 1 - (rss / tss)\n",
    "# adjusted_r_squared = 1 - ((1 - r_squared) * (n - 1) / (n - p - 1))\n",
    "\n",
    "# # Standard Error of the coefficients\n",
    "# mse = rss / (n - p - 1)\n",
    "# se = np.sqrt(np.diagonal(mse * np.linalg.inv(np.dot(X_scaled.T, X_scaled))))\n",
    "\n",
    "# # t-statistics and p-values for coefficients\n",
    "# t_stats = coefficients / se\n",
    "# p_values = [2 * (1 - stats.t.cdf(np.abs(t), n - p - 1)) for t in t_stats]\n",
    "\n",
    "# # F-statistic\n",
    "# f_statistic = (r_squared / p) / ((1 - r_squared) / (n - p - 1))\n",
    "\n",
    "# def get_significance_asterisks(p):\n",
    "#     if p < 0.001:\n",
    "#         return '***'\n",
    "#     elif p < 0.01:\n",
    "#         return '**'\n",
    "#     elif p < 0.05:\n",
    "#         return '*'\n",
    "#     else:\n",
    "#         return ''\n",
    "\n",
    "# # Create a summary DataFrame\n",
    "# summary_df = pd.DataFrame({\n",
    "#     'Coefficient': coefficients,\n",
    "#     'Standard Error': se,\n",
    "#     't value': t_stats,\n",
    "#     'p value': p_values,\n",
    "#     'Significance': [get_significance_asterisks(p) for p in p_values]\n",
    "# }, index=X.columns)\n",
    "# summary_df.loc['Intercept'] = [intercept, np.nan, np.nan, np.nan, '']\n",
    "\n",
    "# # Print summary statistics\n",
    "# print(f\"Number of Observations: {n}\")\n",
    "# print(f\"R-squared: {r_squared}\")\n",
    "# print(f\"Adjusted R-squared: {adjusted_r_squared}\")\n",
    "# print(f\"F-statistic: {f_statistic}\\n\")"
   ]
  },
  {
   "cell_type": "code",
   "execution_count": null,
   "metadata": {},
   "outputs": [],
   "source": [
    "# summary_df.to_string()"
   ]
  },
  {
   "cell_type": "code",
   "execution_count": null,
   "metadata": {},
   "outputs": [],
   "source": [
    "# # Assuming 'summary_df' is your DataFrame\n",
    "# # Set the display options\n",
    "# pd.set_option('display.max_rows', None)  # Replace None with a specific number if the DataFrame is very large\n",
    "# pd.set_option('display.max_columns', None)\n",
    "# pd.set_option('display.width', None)  # Adjust the width for better readability if necessary\n",
    "# pd.set_option('display.max_colwidth', None)  # Adjust column width to show full content of each cell"
   ]
  },
  {
   "cell_type": "code",
   "execution_count": null,
   "metadata": {},
   "outputs": [],
   "source": [
    "# summary_df"
   ]
  },
  {
   "cell_type": "code",
   "execution_count": null,
   "metadata": {},
   "outputs": [],
   "source": [
    "# summary_df.to_parquet(f\"../output/{place}/summary_df.pq\")"
   ]
  },
  {
   "cell_type": "code",
   "execution_count": null,
   "metadata": {},
   "outputs": [],
   "source": [
    "local_crs = 27700\n",
    "place = \"Glasgow\"\n",
    "lat = 55.86421405612109\n",
    "lng = -4.251846930489373\n",
    "country = \"UK\"\n",
    "crs=4326\n",
    "radius=100\n"
   ]
  }
 ],
 "metadata": {
  "kernelspec": {
   "display_name": "morph_model_v1_tess",
   "language": "python",
   "name": "python3"
  },
  "language_info": {
   "codemirror_mode": {
    "name": "ipython",
    "version": 3
   },
   "file_extension": ".py",
   "mimetype": "text/x-python",
   "name": "python",
   "nbconvert_exporter": "python",
   "pygments_lexer": "ipython3",
   "version": "3.11.7"
  }
 },
 "nbformat": 4,
 "nbformat_minor": 2
}
