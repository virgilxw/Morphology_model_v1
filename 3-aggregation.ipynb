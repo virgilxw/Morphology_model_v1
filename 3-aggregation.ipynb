{
 "cells": [
  {
   "cell_type": "code",
   "execution_count": null,
   "metadata": {},
   "outputs": [],
   "source": [
    "import geopandas as gpd"
   ]
  },
  {
   "cell_type": "code",
   "execution_count": null,
   "metadata": {
    "tags": [
     "parameters"
    ]
   },
   "outputs": [],
   "source": [
    "place = \"glasgow\"\n",
    "local_crs = 27700"
   ]
  },
  {
   "cell_type": "code",
   "execution_count": null,
   "metadata": {},
   "outputs": [],
   "source": [
    "buildings = gpd.read_parquet(f\"output/{place}/buildings_morph.pq\")\n",
    "tessellation = gpd.read_parquet(f\"output/{place}/tessellation_morph.pq\")\n",
    "streets = gpd.read_parquet(f\"output/{place}/--PST processed file--\")\n",
    "stroke = gpd.read_parquet(f\"output/{place}/stroke_gdf.pq\")"
   ]
  },
  {
   "cell_type": "code",
   "execution_count": null,
   "metadata": {},
   "outputs": [],
   "source": []
  }
 ],
 "metadata": {
  "language_info": {
   "name": "python"
  },
  "orig_nbformat": 4
 },
 "nbformat": 4,
 "nbformat_minor": 2
}
