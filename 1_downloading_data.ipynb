{
 "cells": [
  {
   "cell_type": "code",
   "execution_count": 1,
   "metadata": {},
   "outputs": [
    {
     "name": "stderr",
     "output_type": "stream",
     "text": [
      "c:\\ProgramData\\anaconda3\\envs\\downloader\\Lib\\site-packages\\tqdm\\auto.py:21: TqdmWarning: IProgress not found. Please update jupyter and ipywidgets. See https://ipywidgets.readthedocs.io/en/stable/user_install.html\n",
      "  from .autonotebook import tqdm as notebook_tqdm\n"
     ]
    }
   ],
   "source": [
    "import momepy\n",
    "import pandas as pd\n",
    "import geopandas as gpd\n",
    "import shapely\n",
    "from shapely.geometry import Point, box, MultiLineString\n",
    "from shapely.ops import unary_union\n",
    "import planetary_computer\n",
    "import pystac_client\n",
    "import dask.dataframe\n",
    "import dask_geopandas as dgd\n",
    "import dask.distributed\n",
    "import deltalake\n",
    "import shapely.geometry\n",
    "import mercantile\n",
    "import rasterio\n",
    "import rasterio.mask\n",
    "from rasterio.plot import show\n",
    "from shapely.geometry import shape, Polygon, mapping, box, LineString\n",
    "from rasterio.features import shapes\n",
    "import osmnx as ox\n",
    "import os\n",
    "from tqdm import tqdm"
   ]
  },
  {
   "cell_type": "code",
   "execution_count": 2,
   "metadata": {
    "tags": [
     "parameters"
    ]
   },
   "outputs": [],
   "source": [
    "local_crs = 27700\n",
    "place = \"glasgow\"\n",
    "lat = 55.86421405612109\n",
    "lng = -4.251846930489373\n",
    "country = \"UK\"\n",
    "crs=4326\n",
    "radius=15"
   ]
  },
  {
   "cell_type": "code",
   "execution_count": 3,
   "metadata": {},
   "outputs": [],
   "source": [
    "latlng = (lat, lng)"
   ]
  },
  {
   "cell_type": "code",
   "execution_count": 4,
   "metadata": {},
   "outputs": [],
   "source": [
    "if not os.path.exists(f'./output/{place}'):\n",
    "    os.makedirs(f'./output/{place}')"
   ]
  },
  {
   "cell_type": "markdown",
   "metadata": {},
   "source": [
    "## part 1: Find limits of cells to download"
   ]
  },
  {
   "cell_type": "code",
   "execution_count": 5,
   "metadata": {},
   "outputs": [
    {
     "data": {
      "text/html": [
       "<div style=\"width:100%;\"><div style=\"position:relative;width:100%;height:0;padding-bottom:60%;\"><span style=\"color:#565656\">Make this Notebook Trusted to load map: File -> Trust Notebook</span><iframe srcdoc=\"&lt;!DOCTYPE html&gt;\n",
       "&lt;html&gt;\n",
       "&lt;head&gt;\n",
       "    \n",
       "    &lt;meta http-equiv=&quot;content-type&quot; content=&quot;text/html; charset=UTF-8&quot; /&gt;\n",
       "    \n",
       "        &lt;script&gt;\n",
       "            L_NO_TOUCH = false;\n",
       "            L_DISABLE_3D = false;\n",
       "        &lt;/script&gt;\n",
       "    \n",
       "    &lt;style&gt;html, body {width: 100%;height: 100%;margin: 0;padding: 0;}&lt;/style&gt;\n",
       "    &lt;style&gt;#map {position:absolute;top:0;bottom:0;right:0;left:0;}&lt;/style&gt;\n",
       "    &lt;script src=&quot;https://cdn.jsdelivr.net/npm/leaflet@1.9.3/dist/leaflet.js&quot;&gt;&lt;/script&gt;\n",
       "    &lt;script src=&quot;https://code.jquery.com/jquery-3.7.1.min.js&quot;&gt;&lt;/script&gt;\n",
       "    &lt;script src=&quot;https://cdn.jsdelivr.net/npm/bootstrap@5.2.2/dist/js/bootstrap.bundle.min.js&quot;&gt;&lt;/script&gt;\n",
       "    &lt;script src=&quot;https://cdnjs.cloudflare.com/ajax/libs/Leaflet.awesome-markers/2.0.2/leaflet.awesome-markers.js&quot;&gt;&lt;/script&gt;\n",
       "    &lt;link rel=&quot;stylesheet&quot; href=&quot;https://cdn.jsdelivr.net/npm/leaflet@1.9.3/dist/leaflet.css&quot;/&gt;\n",
       "    &lt;link rel=&quot;stylesheet&quot; href=&quot;https://cdn.jsdelivr.net/npm/bootstrap@5.2.2/dist/css/bootstrap.min.css&quot;/&gt;\n",
       "    &lt;link rel=&quot;stylesheet&quot; href=&quot;https://netdna.bootstrapcdn.com/bootstrap/3.0.0/css/bootstrap.min.css&quot;/&gt;\n",
       "    &lt;link rel=&quot;stylesheet&quot; href=&quot;https://cdn.jsdelivr.net/npm/@fortawesome/fontawesome-free@6.2.0/css/all.min.css&quot;/&gt;\n",
       "    &lt;link rel=&quot;stylesheet&quot; href=&quot;https://cdnjs.cloudflare.com/ajax/libs/Leaflet.awesome-markers/2.0.2/leaflet.awesome-markers.css&quot;/&gt;\n",
       "    &lt;link rel=&quot;stylesheet&quot; href=&quot;https://cdn.jsdelivr.net/gh/python-visualization/folium/folium/templates/leaflet.awesome.rotate.min.css&quot;/&gt;\n",
       "    \n",
       "            &lt;meta name=&quot;viewport&quot; content=&quot;width=device-width,\n",
       "                initial-scale=1.0, maximum-scale=1.0, user-scalable=no&quot; /&gt;\n",
       "            &lt;style&gt;\n",
       "                #map_b9be8d5ce49f7b7b1461d219242435cb {\n",
       "                    position: relative;\n",
       "                    width: 100.0%;\n",
       "                    height: 100.0%;\n",
       "                    left: 0.0%;\n",
       "                    top: 0.0%;\n",
       "                }\n",
       "                .leaflet-container { font-size: 1rem; }\n",
       "            &lt;/style&gt;\n",
       "        \n",
       "&lt;/head&gt;\n",
       "&lt;body&gt;\n",
       "    \n",
       "    \n",
       "            &lt;div class=&quot;folium-map&quot; id=&quot;map_b9be8d5ce49f7b7b1461d219242435cb&quot; &gt;&lt;/div&gt;\n",
       "        \n",
       "&lt;/body&gt;\n",
       "&lt;script&gt;\n",
       "    \n",
       "    \n",
       "            var map_b9be8d5ce49f7b7b1461d219242435cb = L.map(\n",
       "                &quot;map_b9be8d5ce49f7b7b1461d219242435cb&quot;,\n",
       "                {\n",
       "                    center: [55.863991550514584, -4.252675948680745],\n",
       "                    crs: L.CRS.EPSG3857,\n",
       "                    zoom: 10,\n",
       "                    zoomControl: true,\n",
       "                    preferCanvas: false,\n",
       "                }\n",
       "            );\n",
       "            L.control.scale().addTo(map_b9be8d5ce49f7b7b1461d219242435cb);\n",
       "\n",
       "            \n",
       "\n",
       "        \n",
       "    \n",
       "            var tile_layer_084c8db98f16451475513f3d5ed54669 = L.tileLayer(\n",
       "                &quot;https://tile.openstreetmap.org/{z}/{x}/{y}.png&quot;,\n",
       "                {&quot;attribution&quot;: &quot;\\u0026copy; \\u003ca href=\\&quot;https://www.openstreetmap.org/copyright\\&quot;\\u003eOpenStreetMap\\u003c/a\\u003e contributors&quot;, &quot;detectRetina&quot;: false, &quot;maxNativeZoom&quot;: 19, &quot;maxZoom&quot;: 19, &quot;minZoom&quot;: 0, &quot;noWrap&quot;: false, &quot;opacity&quot;: 1, &quot;subdomains&quot;: &quot;abc&quot;, &quot;tms&quot;: false}\n",
       "            );\n",
       "        \n",
       "    \n",
       "            tile_layer_084c8db98f16451475513f3d5ed54669.addTo(map_b9be8d5ce49f7b7b1461d219242435cb);\n",
       "        \n",
       "    \n",
       "            map_b9be8d5ce49f7b7b1461d219242435cb.fitBounds(\n",
       "                [[55.72681055100255, -4.496623903488346], [56.00117255002662, -4.008727993873142]],\n",
       "                {}\n",
       "            );\n",
       "        \n",
       "    \n",
       "        function geo_json_ac5a6b6151cdc3f75569d4b99804db82_styler(feature) {\n",
       "            switch(feature.id) {\n",
       "                default:\n",
       "                    return {&quot;fillOpacity&quot;: 0.5, &quot;weight&quot;: 2};\n",
       "            }\n",
       "        }\n",
       "        function geo_json_ac5a6b6151cdc3f75569d4b99804db82_highlighter(feature) {\n",
       "            switch(feature.id) {\n",
       "                default:\n",
       "                    return {&quot;fillOpacity&quot;: 0.75};\n",
       "            }\n",
       "        }\n",
       "        function geo_json_ac5a6b6151cdc3f75569d4b99804db82_pointToLayer(feature, latlng) {\n",
       "            var opts = {&quot;bubblingMouseEvents&quot;: true, &quot;color&quot;: &quot;#3388ff&quot;, &quot;dashArray&quot;: null, &quot;dashOffset&quot;: null, &quot;fill&quot;: true, &quot;fillColor&quot;: &quot;#3388ff&quot;, &quot;fillOpacity&quot;: 0.2, &quot;fillRule&quot;: &quot;evenodd&quot;, &quot;lineCap&quot;: &quot;round&quot;, &quot;lineJoin&quot;: &quot;round&quot;, &quot;opacity&quot;: 1.0, &quot;radius&quot;: 2, &quot;stroke&quot;: true, &quot;weight&quot;: 3};\n",
       "            \n",
       "            let style = geo_json_ac5a6b6151cdc3f75569d4b99804db82_styler(feature)\n",
       "            Object.assign(opts, style)\n",
       "            \n",
       "            return new L.CircleMarker(latlng, opts)\n",
       "        }\n",
       "\n",
       "        function geo_json_ac5a6b6151cdc3f75569d4b99804db82_onEachFeature(feature, layer) {\n",
       "            layer.on({\n",
       "                mouseout: function(e) {\n",
       "                    if(typeof e.target.setStyle === &quot;function&quot;){\n",
       "                        geo_json_ac5a6b6151cdc3f75569d4b99804db82.resetStyle(e.target);\n",
       "                    }\n",
       "                },\n",
       "                mouseover: function(e) {\n",
       "                    if(typeof e.target.setStyle === &quot;function&quot;){\n",
       "                        const highlightStyle = geo_json_ac5a6b6151cdc3f75569d4b99804db82_highlighter(e.target.feature)\n",
       "                        e.target.setStyle(highlightStyle);\n",
       "                    }\n",
       "                },\n",
       "            });\n",
       "        };\n",
       "        var geo_json_ac5a6b6151cdc3f75569d4b99804db82 = L.geoJson(null, {\n",
       "                onEachFeature: geo_json_ac5a6b6151cdc3f75569d4b99804db82_onEachFeature,\n",
       "            \n",
       "                style: geo_json_ac5a6b6151cdc3f75569d4b99804db82_styler,\n",
       "                pointToLayer: geo_json_ac5a6b6151cdc3f75569d4b99804db82_pointToLayer,\n",
       "        });\n",
       "\n",
       "        function geo_json_ac5a6b6151cdc3f75569d4b99804db82_add (data) {\n",
       "            geo_json_ac5a6b6151cdc3f75569d4b99804db82\n",
       "                .addData(data);\n",
       "        }\n",
       "            geo_json_ac5a6b6151cdc3f75569d4b99804db82_add({&quot;bbox&quot;: [-4.496623903488346, 55.72681055100255, -4.008727993873142, 56.00117255002662], &quot;features&quot;: [{&quot;bbox&quot;: [-4.496623903488346, 55.72681055100255, -4.008727993873142, 56.00117255002662], &quot;geometry&quot;: {&quot;coordinates&quot;: [[[-4.486298245159809, 55.72681055100255], [-4.496623903488346, 55.9962736087044], [-4.015737574891975, 56.00117255002662], [-4.008727993873142, 55.73166041904275], [-4.486298245159809, 55.72681055100255]]], &quot;type&quot;: &quot;Polygon&quot;}, &quot;id&quot;: &quot;0&quot;, &quot;properties&quot;: {}, &quot;type&quot;: &quot;Feature&quot;}], &quot;type&quot;: &quot;FeatureCollection&quot;});\n",
       "\n",
       "        \n",
       "    \n",
       "            geo_json_ac5a6b6151cdc3f75569d4b99804db82.addTo(map_b9be8d5ce49f7b7b1461d219242435cb);\n",
       "        \n",
       "&lt;/script&gt;\n",
       "&lt;/html&gt;\" style=\"position:absolute;width:100%;height:100%;left:0;top:0;border:none !important;\" allowfullscreen webkitallowfullscreen mozallowfullscreen></iframe></div></div>"
      ],
      "text/plain": [
       "<folium.folium.Map at 0x17a7377aa90>"
      ]
     },
     "execution_count": 5,
     "metadata": {},
     "output_type": "execute_result"
    }
   ],
   "source": [
    "def create_square(center_point, distance):\n",
    "    \"\"\"\n",
    "    Create a square polygon centered on the given point.\n",
    "    The 'distance' parameter is half the side length of the square.\n",
    "    \"\"\"\n",
    "    x, y = center_point.x, center_point.y\n",
    "    return Polygon([(x - distance, y - distance),\n",
    "                    (x - distance, y + distance),\n",
    "                    (x + distance, y + distance),\n",
    "                    (x + distance, y - distance)])\n",
    "\n",
    "# Create a GeoSeries with the specified point\n",
    "gdf = gpd.GeoSeries([Point(latlng[1], latlng[0])], crs=crs)\n",
    "\n",
    "# The UTM zone number can be calculated from the longitude\n",
    "utm_zone = int((latlng[1] + 180) / 6) + 1\n",
    "# Determine the hemisphere and assign the appropriate UTM CRS\n",
    "if latlng[0] >= 0:  # Northern Hemisphere\n",
    "    local_utm_crs = f'EPSG:326{utm_zone:02d}'\n",
    "else:  # Southern Hemisphere\n",
    "    local_utm_crs = f'EPSG:327{utm_zone:02d}'\n",
    "    \n",
    "# Reproject to a local UTM CRS\n",
    "gdf_utm = gdf.to_crs(local_utm_crs)\n",
    "\n",
    "# Get the center point in UTM coordinates\n",
    "center_point = gdf_utm[0]\n",
    "\n",
    "# Create a square polygon centered on the point\n",
    "square = create_square(center_point, radius * 1000)  # Convert km to meters\n",
    "\n",
    "# Create a GeoSeries for the square in UTM coordinates\n",
    "square_gs_utm = gpd.GeoSeries([square], crs=gdf_utm.crs)\n",
    "\n",
    "# Reproject the square back to the original CRS\n",
    "area_of_interest = square_gs_utm.to_crs(crs)\n",
    "\n",
    "# Plotting\n",
    "area_of_interest.explore()"
   ]
  },
  {
   "cell_type": "code",
   "execution_count": null,
   "metadata": {},
   "outputs": [],
   "source": [
    "# # Create a GeoDataFrame with the specified point\n",
    "# gdf = gpd.GeoDataFrame(geometry=[Point(latlng[0], latlng[1])], crs=crs)\n",
    "\n",
    "# # Reproject to a coordinate system that uses meters (UTM)\n",
    "# gdf_utm = gdf.to_crs(epsg=local_crs)\n",
    "\n",
    "# # Create a 50 km buffer around the point\n",
    "# buffer = gdf_utm.buffer(10000)  # 50 km buffer\n",
    "\n",
    "# # Reproject buffer back to original CRS\n",
    "# area_of_interest = buffer.to_crs(epsg=crs)\n",
    "\n",
    "# # Plottin\n",
    "# area_of_interest.explore()\n",
    "\n"
   ]
  },
  {
   "cell_type": "code",
   "execution_count": 8,
   "metadata": {},
   "outputs": [
    {
     "data": {
      "image/png": "[encoded data removed]",
      "text/plain": [
       "<Figure size 640x480 with 1 Axes>"
      ]
     },
     "metadata": {},
     "output_type": "display_data"
    }
   ],
   "source": [
    "# Read only the portion of the GeoTIFF that intersects with the AOI\n",
    "\n",
    "cell_polygons = []\n",
    "with rasterio.open(\"input/build_height.tif\") as src:\n",
    "    # Calculate the window to read based on AOI bounds\n",
    "    out_image, transformed = rasterio.mask.mask(src, area_of_interest, crop=True, filled=True)\n",
    "    out_profile = src.profile.copy()\n",
    "    \n",
    "out_profile.update({'width': out_image.shape[2],'height': out_image.shape[1], 'transform': transformed})\n",
    "with rasterio.open(f\"output/{place}.tif\", 'w', **out_profile) as dst:\n",
    "    dst.write(out_image)\n",
    "    \n",
    "with rasterio.open(f\"output/{place}.tif\") as src:\n",
    "    show(src)"
   ]
  },
  {
   "cell_type": "code",
   "execution_count": null,
   "metadata": {},
   "outputs": [],
   "source": [
    "def get_cell_polygon(x, y, transform):\n",
    "    \"\"\"\n",
    "    Create a polygon for the given cell coordinates (x, y) using the affine transform.\n",
    "    \"\"\"\n",
    "    tl = transform * (x, y)\n",
    "    tr = transform * (x + 1, y)\n",
    "    br = transform * (x + 1, y + 1)\n",
    "    bl = transform * (x, y + 1)\n",
    "    return Polygon([tl, tr, br, bl, tl])"
   ]
  },
  {
   "cell_type": "code",
   "execution_count": null,
   "metadata": {},
   "outputs": [],
   "source": [
    "mask = None\n",
    "with rasterio.Env():\n",
    "    with rasterio.open(f\"output/{place}.tif\") as src:\n",
    "        image = src.read(1) # first band\n",
    "        transform = src.transform\n",
    "        \n",
    "        # with fiona.open(f\"output/{place}/height_cells.shp\", 'w', \n",
    "        #                 driver='ESRI Shapefile',\n",
    "        #                 crs=src.crs,\n",
    "        #                 schema=schema) as dst:\n",
    "            \n",
    "        #     # Iterate over each pixel in the raster\n",
    "        #     for row in tqdm(range(image.shape[0])):\n",
    "        #         for col in range(image.shape[1]):\n",
    "        #             value = image[row, col]\n",
    "        #             polygon = get_cell_polygon(col, row, transform)\n",
    "        #             dst.write({\n",
    "        #                 'properties': {'raster_val': int(value)},\n",
    "        #                 'geometry': mapping(polygon)\n",
    "        #             })\n",
    "        \n",
    "        # List to hold each feature\n",
    "        features = []\n",
    "\n",
    "        # Iterate over each pixel in the raster\n",
    "        for row in tqdm(range(image.shape[0])):\n",
    "            for col in range(image.shape[1]):\n",
    "                value = image[row, col]\n",
    "                polygon = get_cell_polygon(col, row, transform)\n",
    "                features.append({\n",
    "                    'properties': {\n",
    "                        'raster_val': int(value),\n",
    "                        'row': row,\n",
    "                        'col': col\n",
    "                    },\n",
    "                    'geometry': polygon\n",
    "                })\n",
    "\n",
    "        # Create a GeoDataFrame\n",
    "        area_of_interest = gpd.GeoDataFrame([f['properties'] for f in features],\n",
    "                            geometry=[f['geometry'] for f in features],\n",
    "                            crs=src.crs)\n",
    "        \n",
    "        area_of_interest.to_parquet(f\"output/{place}/height_cells.pq\")\n"
   ]
  },
  {
   "cell_type": "markdown",
   "metadata": {},
   "source": [
    "# part 2: create a buffer that is slightly larger to account for edge effects and download all building footprints + street data"
   ]
  },
  {
   "cell_type": "code",
   "execution_count": null,
   "metadata": {},
   "outputs": [],
   "source": [
    "# Get bounds\n",
    "minx, miny, maxx, maxy = area_of_interest.total_bounds\n",
    "min_dist = min([abs(minx-latlng[0]), abs(miny-latlng[1]), abs(maxx-latlng[0]), abs(maxy-latlng[1])])\n",
    "\n",
    "# Create a GeoDataFrame with the specified point\n",
    "gdf = gpd.GeoDataFrame(geometry=[Point(latlng[1], latlng[0])], crs=crs)\n",
    "\n",
    "# The UTM zone number can be calculated from the longitude\n",
    "utm_zone = int((latlng[1] + 180) / 6) + 1\n",
    "# Determine the hemisphere and assign the appropriate UTM CRS\n",
    "if latlng[0] >= 0:  # Northern Hemisphere\n",
    "    local_utm_crs = f'EPSG:326{utm_zone:02d}'\n",
    "else:  # Southern Hemisphere\n",
    "    local_utm_crs = f'EPSG:327{utm_zone:02d}'\n",
    "\n",
    "# Reproject to a local UTM CRS\n",
    "gdf_utm = gdf.to_crs(local_utm_crs)\n",
    "\n",
    "# Create a 50 km buffer around the point\n",
    "buffer_circle = gdf_utm.buffer((radius+5) * 1000)  # Convert km to meters\n",
    "\n",
    "buffer = buffer_circle\n",
    "\n",
    "# Reproject buffer back to original CRS\n",
    "buffer = buffer.to_crs(crs)\n",
    "\n",
    "# Plotting\n",
    "buffer.explore()\n"
   ]
  },
  {
   "cell_type": "code",
   "execution_count": null,
   "metadata": {},
   "outputs": [],
   "source": [
    "# # This creates a boolean mask where each element is True if the geometry in `gdf` is within any geometry in `area_of_interest`\n",
    "# mask = area_of_interest.geometry.apply(lambda geom: any(geom.within(aoi_geom) for aoi_geom in buffer.geometry))\n",
    "\n",
    "# # Apply the mask to select only the relevant features\n",
    "# selected_features = area_of_interest[mask]"
   ]
  },
  {
   "cell_type": "code",
   "execution_count": null,
   "metadata": {},
   "outputs": [],
   "source": [
    "# selected_features_union = selected_features.unary_union\n",
    "\n",
    "# selected_features_union = gpd.GeoSeries([selected_features_union]).set_crs(epsg=4326)"
   ]
  },
  {
   "cell_type": "code",
   "execution_count": null,
   "metadata": {},
   "outputs": [],
   "source": [
    "# selected_features_union.plot()"
   ]
  },
  {
   "cell_type": "code",
   "execution_count": null,
   "metadata": {},
   "outputs": [],
   "source": [
    "catalog = pystac_client.Client.open(\n",
    "    \"https://planetarycomputer.microsoft.com/api/stac/v1\",\n",
    "    modifier=planetary_computer.sign_inplace,\n",
    ")\n",
    "collection = catalog.get_collection(\"ms-buildings\")\n",
    "\n",
    "asset = collection.assets[\"delta\"]\n",
    "\n",
    "storage_options = {\n",
    "    \"account_name\": asset.extra_fields[\"table:storage_options\"][\"account_name\"],\n",
    "    \"sas_token\": asset.extra_fields[\"table:storage_options\"][\"credential\"],\n",
    "}\n",
    "table = deltalake.DeltaTable(asset.href, storage_options=storage_options)\n",
    "\n",
    "quadkeys = [\n",
    "    int(mercantile.quadkey(tile))\n",
    "    for tile in mercantile.tiles(*buffer[0].bounds, zooms=9)\n",
    "]\n",
    "quadkeys\n",
    "\n",
    "uris = table.file_uris([(\"quadkey\", \"in\", quadkeys)])\n",
    "uris\n",
    "\n",
    "df = dgd.read_parquet(uris, storage_options=storage_options)\n"
   ]
  },
  {
   "cell_type": "code",
   "execution_count": null,
   "metadata": {},
   "outputs": [],
   "source": [
    "buildings = dgd.sjoin(df, gpd.GeoDataFrame(geometry=buffer), how=\"inner\", op=\"intersects\").compute()"
   ]
  },
  {
   "cell_type": "code",
   "execution_count": null,
   "metadata": {},
   "outputs": [],
   "source": [
    "if country == None:\n",
    "    world_poly = gpd.read_file(f\"input/{place}_study_area.shp\")\n",
    "else:\n",
    "    world_poly = gpd.read_file(f\"input/{country}_study_area.shp\")"
   ]
  },
  {
   "cell_type": "code",
   "execution_count": null,
   "metadata": {},
   "outputs": [],
   "source": [
    "water_gdf = ox.geometries_from_polygon(buffer[0], tags={\"natural\": \"water\"})\n",
    "water_gdf = water_gdf[water_gdf.geometry.type.isin(['Polygon', 'MultiPolygon'])]"
   ]
  },
  {
   "cell_type": "code",
   "execution_count": null,
   "metadata": {},
   "outputs": [],
   "source": [
    "# List all columns to drop, which is all except 'geometry'\n",
    "columns_to_drop = [col for col in water_gdf.columns if col != 'geometry']\n",
    "\n",
    "# Drop these columns\n",
    "water_gdf = water_gdf.drop(columns=columns_to_drop)"
   ]
  },
  {
   "cell_type": "code",
   "execution_count": null,
   "metadata": {},
   "outputs": [],
   "source": [
    "buffer = gpd.GeoDataFrame(geometry=buffer)"
   ]
  },
  {
   "cell_type": "code",
   "execution_count": null,
   "metadata": {},
   "outputs": [],
   "source": [
    "water_gdf = water_gdf.reset_index(drop=True)"
   ]
  },
  {
   "cell_type": "code",
   "execution_count": null,
   "metadata": {},
   "outputs": [],
   "source": [
    "world_poly"
   ]
  },
  {
   "cell_type": "code",
   "execution_count": null,
   "metadata": {},
   "outputs": [],
   "source": [
    "buffer = world_poly.overlay(buffer, how='intersection').overlay(water_gdf, how='difference')"
   ]
  },
  {
   "cell_type": "code",
   "execution_count": null,
   "metadata": {},
   "outputs": [],
   "source": [
    "buffer"
   ]
  },
  {
   "cell_type": "code",
   "execution_count": null,
   "metadata": {},
   "outputs": [],
   "source": [
    "# List all columns to drop, which is all except 'geometry'\n",
    "columns_to_drop = [col for col in buffer.columns if col != 'geometry']\n",
    "\n",
    "# Drop these columns\n",
    "buffer = buffer.drop(columns=columns_to_drop)"
   ]
  },
  {
   "cell_type": "code",
   "execution_count": null,
   "metadata": {},
   "outputs": [],
   "source": [
    "buffer_new = buffer.dissolve()"
   ]
  },
  {
   "cell_type": "code",
   "execution_count": null,
   "metadata": {},
   "outputs": [],
   "source": [
    "buffer_new.to_parquet(f\"./output/{place}/study_area.pq\")"
   ]
  },
  {
   "cell_type": "code",
   "execution_count": null,
   "metadata": {},
   "outputs": [],
   "source": [
    "buffer_new.plot()"
   ]
  },
  {
   "cell_type": "code",
   "execution_count": null,
   "metadata": {},
   "outputs": [],
   "source": [
    "osm_graph= ox.graph.graph_from_polygon(buffer_new.geometry[0], network_type='drive', truncate_by_edge=True, retain_all=True)\n",
    "osm_graph = ox.projection.project_graph(osm_graph, to_crs=local_crs)\n",
    "streets = ox.graph_to_gdfs(\n",
    "    ox.get_undirected(osm_graph),\n",
    "    nodes=False,\n",
    "    edges=True,\n",
    "    node_geometry=False,\n",
    "    fill_edge_geometry=True\n",
    "    \n",
    ")\n",
    "\n",
    "streets.head()"
   ]
  },
  {
   "cell_type": "code",
   "execution_count": null,
   "metadata": {},
   "outputs": [],
   "source": [
    "streets.plot()"
   ]
  },
  {
   "cell_type": "code",
   "execution_count": null,
   "metadata": {},
   "outputs": [],
   "source": [
    "# List all columns to drop, which is all except 'geometry'\n",
    "columns_to_drop = [col for col in streets.columns if col != 'geometry']\n",
    "\n",
    "# Drop these columns\n",
    "streets = streets.drop(columns=columns_to_drop)"
   ]
  },
  {
   "cell_type": "code",
   "execution_count": null,
   "metadata": {},
   "outputs": [],
   "source": [
    "# Assuming your GeoDataFrame is named 'gdf'\n",
    "line_strings = []\n",
    "for geometry in streets.geometry:\n",
    "    if geometry.geom_type == 'LineString':\n",
    "        line_strings.append(geometry)\n",
    "    elif geometry.geom_type == 'MultiLineString':\n",
    "        line_strings.extend(list(geometry))"
   ]
  },
  {
   "cell_type": "code",
   "execution_count": null,
   "metadata": {},
   "outputs": [],
   "source": [
    "collection = shapely.GeometryCollection(line_strings)  # combine to a single object\n",
    "noded = shapely.node(collection)  # add missing nodes\n",
    "streets_noded_gdf = gpd.GeoDataFrame(geometry=gpd.GeoSeries(noded), crs=local_crs)"
   ]
  },
  {
   "cell_type": "code",
   "execution_count": null,
   "metadata": {},
   "outputs": [],
   "source": [
    "# Assuming streets is your existing GeoDataFrame\n",
    "\n",
    "# Function to break apart MultiLineStrings\n",
    "def explode_multilinestring(multilinestring):\n",
    "    if isinstance(multilinestring, MultiLineString):\n",
    "        return list(multilinestring)\n",
    "    else:\n",
    "        return [multilinestring]\n",
    "\n",
    "# Explode all MultiLineStrings into individual LineStrings\n",
    "exploded_lines = [explode_multilinestring(geom) for geom in streets.geometry]\n",
    "\n",
    "# Flatten the list of lists into a single list of geometries\n",
    "flat_list = [item for sublist in exploded_lines for item in sublist]\n",
    "\n",
    "# Create a new GeoDataFrame\n",
    "streets_noded_gdf = gpd.GeoDataFrame(geometry=flat_list)"
   ]
  },
  {
   "cell_type": "code",
   "execution_count": null,
   "metadata": {},
   "outputs": [],
   "source": [
    "streets_noded_gdf.plot()"
   ]
  },
  {
   "cell_type": "code",
   "execution_count": null,
   "metadata": {},
   "outputs": [],
   "source": [
    "streets_noded_gdf = streets_noded_gdf.set_crs(local_crs)"
   ]
  },
  {
   "cell_type": "code",
   "execution_count": null,
   "metadata": {},
   "outputs": [],
   "source": [
    "osm_graph= ox.graph.graph_from_polygon(buffer_new.geometry[0], network_type='all', custom_filter='[\"railway\"~\"rail\"][\"tunnel\"!=\"yes\"]')\n",
    "osm_graph = ox.projection.project_graph(osm_graph, to_crs=local_crs)\n",
    "rail = ox.graph_to_gdfs(\n",
    "    ox.get_undirected(osm_graph),\n",
    "    nodes=False,\n",
    "    edges=True,\n",
    "    node_geometry=False,\n",
    "    fill_edge_geometry=True\n",
    "    \n",
    ")\n",
    "\n",
    "rail.head()\n",
    "\n"
   ]
  },
  {
   "cell_type": "code",
   "execution_count": null,
   "metadata": {},
   "outputs": [],
   "source": [
    "# List all columns to drop, which is all except 'geometry'\n",
    "columns_to_drop = [col for col in rail.columns if col != 'geometry']\n",
    "\n",
    "# Drop these columns\n",
    "rail = rail.drop(columns=columns_to_drop).reset_index(drop=True)"
   ]
  },
  {
   "cell_type": "code",
   "execution_count": null,
   "metadata": {},
   "outputs": [],
   "source": [
    "# Assuming your GeoDataFrame is named 'gdf'\n",
    "rail_strings = []\n",
    "for geometry in rail.geometry:\n",
    "    if geometry.geom_type == 'LineString':\n",
    "        rail_strings.append(geometry)\n",
    "    elif geometry.geom_type == 'MultiLineString':\n",
    "        rail_strings.extend(list(geometry))"
   ]
  },
  {
   "cell_type": "code",
   "execution_count": null,
   "metadata": {},
   "outputs": [],
   "source": [
    "collection = shapely.GeometryCollection(rail_strings)  # combine to a single object\n",
    "noded = shapely.node(collection)  # add missing nodes\n",
    "rail_noded_gdf = gpd.GeoDataFrame(geometry=gpd.GeoSeries(noded), crs=local_crs)"
   ]
  },
  {
   "cell_type": "code",
   "execution_count": null,
   "metadata": {},
   "outputs": [],
   "source": [
    "rail_noded_gdf.plot()"
   ]
  },
  {
   "cell_type": "code",
   "execution_count": null,
   "metadata": {},
   "outputs": [],
   "source": [
    "buildings"
   ]
  },
  {
   "cell_type": "code",
   "execution_count": null,
   "metadata": {},
   "outputs": [],
   "source": [
    "buildings = buildings[[\"geometry\"]]"
   ]
  },
  {
   "cell_type": "code",
   "execution_count": null,
   "metadata": {},
   "outputs": [],
   "source": [
    "buildings = gpd.sjoin(buildings, buffer_new, how=\"left\", op=\"within\")"
   ]
  },
  {
   "cell_type": "code",
   "execution_count": null,
   "metadata": {},
   "outputs": [],
   "source": [
    "buildings = buildings[buildings[\"index_right\"] == 0][[\"geometry\"]]"
   ]
  },
  {
   "cell_type": "code",
   "execution_count": null,
   "metadata": {},
   "outputs": [],
   "source": [
    "buildings.to_parquet(f\"./output/{place}/buildings_raw.pq\")\n",
    "\n",
    "streets_noded_gdf.to_parquet(f\"./output/{place}/streets_raw.pq\")\n",
    "\n",
    "rail_noded_gdf.to_parquet(f\"./output/{place}/rail_raw.pq\")"
   ]
  },
  {
   "cell_type": "code",
   "execution_count": null,
   "metadata": {},
   "outputs": [],
   "source": [
    "water_gdf.plot()"
   ]
  },
  {
   "cell_type": "code",
   "execution_count": null,
   "metadata": {},
   "outputs": [],
   "source": [
    "water_gdf.to_parquet(f\"./output/{place}/water.pq\")"
   ]
  },
  {
   "cell_type": "code",
   "execution_count": null,
   "metadata": {},
   "outputs": [],
   "source": []
  },
  {
   "cell_type": "code",
   "execution_count": null,
   "metadata": {},
   "outputs": [],
   "source": []
  }
 ],
 "metadata": {
  "kernelspec": {
   "display_name": "base",
   "language": "python",
   "name": "python3"
  },
  "language_info": {
   "codemirror_mode": {
    "name": "ipython",
    "version": 3
   },
   "file_extension": ".py",
   "mimetype": "text/x-python",
   "name": "python",
   "nbconvert_exporter": "python",
   "pygments_lexer": "ipython3",
   "version": "3.11.6"
  },
  "orig_nbformat": 4
 },
 "nbformat": 4,
 "nbformat_minor": 2
}
