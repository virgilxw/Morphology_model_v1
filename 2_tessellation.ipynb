{
 "cells": [
  {
   "cell_type": "code",
   "execution_count": 1,
   "id": "f59900a1",
   "metadata": {
    "execution": {
     "iopub.execute_input": "2023-04-28T16:09:19.081216Z",
     "iopub.status.busy": "2023-04-28T16:09:19.080833Z",
     "iopub.status.idle": "2023-04-28T16:09:21.387745Z",
     "shell.execute_reply": "2023-04-28T16:09:21.386725Z"
    },
    "papermill": {
     "duration": null,
     "end_time": null,
     "exception": null,
     "start_time": null,
     "status": "completed"
    },
    "tags": []
   },
   "outputs": [
    {
     "name": "stderr",
     "output_type": "stream",
     "text": [
      "c:\\Users\\reube\\anaconda3\\envs\\processor\\Lib\\site-packages\\tqdm\\auto.py:21: TqdmWarning: IProgress not found. Please update jupyter and ipywidgets. See https://ipywidgets.readthedocs.io/en/stable/user_install.html\n",
      "  from .autonotebook import tqdm as notebook_tqdm\n"
     ]
    }
   ],
   "source": [
    "from dask.distributed import Client, LocalCluster\n",
    "from dask import delayed, dataframe as dd\n",
    "import dask\n",
    "import pandas as pd\n",
    "import geopandas as gpd\n",
    "import math\n",
    "import numpy as np\n",
    "import momepy\n",
    "import matplotlib.pyplot as plt\n",
    "import contextily as ctx\n",
    "from math import ceil\n",
    "from shapely.geometry import box\n",
    "from tqdm import tqdm"
   ]
  },
  {
   "cell_type": "code",
   "execution_count": 2,
   "id": "bb9b9886",
   "metadata": {
    "papermill": {
     "duration": null,
     "end_time": null,
     "exception": null,
     "start_time": null,
     "status": "completed"
    },
    "tags": [
     "parameters"
    ]
   },
   "outputs": [],
   "source": [
    "local_crs = 27700\n",
    "place = \"test\"\n",
    "lat = 55.86421405612109\n",
    "lng = -4.251846930489373\n",
    "country = \"UK\"\n",
    "crs=4326\n",
    "radius=1"
   ]
  },
  {
   "cell_type": "code",
   "execution_count": 4,
   "id": "62f2d63c",
   "metadata": {
    "papermill": {
     "duration": null,
     "end_time": null,
     "exception": null,
     "start_time": null,
     "status": "completed"
    },
    "tags": []
   },
   "outputs": [],
   "source": [
    "# local_crs = 3414\n",
    "# place = \"singapore\"\n",
    "# lat = 1.28795311\n",
    "# lng = 103.851784\n",
    "# crs=4326"
   ]
  },
  {
   "cell_type": "code",
   "execution_count": 5,
   "id": "9f408918",
   "metadata": {
    "execution": {
     "iopub.execute_input": "2023-04-28T16:09:22.576213Z",
     "iopub.status.busy": "2023-04-28T16:09:22.575725Z",
     "iopub.status.idle": "2023-04-28T16:09:22.905156Z",
     "shell.execute_reply": "2023-04-28T16:09:22.904450Z"
    },
    "papermill": {
     "duration": null,
     "end_time": null,
     "exception": null,
     "start_time": null,
     "status": "completed"
    },
    "tags": []
   },
   "outputs": [
    {
     "name": "stderr",
     "output_type": "stream",
     "text": [
      "C:\\Users\\reube\\AppData\\Local\\Temp\\ipykernel_32244\\371211060.py:1: FutureWarning: Currently, index_parts defaults to True, but in the future, it will default to False to be consistent with Pandas. Use `index_parts=True` to keep the current behavior and True/False to silence the warning.\n",
      "  streets = gpd.read_parquet(f\"./output/{place}/streets_raw.pq\").explode().to_crs(local_crs).reset_index(drop=True)\n"
     ]
    }
   ],
   "source": [
    "streets = gpd.read_parquet(f\"./output/{place}/streets_raw.pq\").explode().to_crs(local_crs).reset_index(drop=True)\n",
    "\n",
    "buildings = gpd.read_parquet(f\"./output/{place}/buildings_raw.pq\").to_crs(local_crs)\n",
    "\n",
    "study_area = gpd.read_parquet(f\"./output/{place}/study_area.pq\").to_crs(local_crs)\n",
    "\n",
    "water = gpd.read_parquet(f\"./output/{place}/water.pq\").to_crs(local_crs)\n",
    "\n",
    "rail = gpd.read_parquet(f\"./output/{place}/rail_raw.pq\").to_crs(local_crs).reset_index(drop=True)"
   ]
  },
  {
   "cell_type": "code",
   "execution_count": 6,
   "id": "57368c85",
   "metadata": {
    "papermill": {
     "duration": null,
     "end_time": null,
     "exception": null,
     "start_time": null,
     "status": "completed"
    },
    "tags": []
   },
   "outputs": [
    {
     "name": "stderr",
     "output_type": "stream",
     "text": [
      "2023-12-26 19:06:56,803 - distributed.nanny.memory - WARNING - Ignoring provided memory limit 70GB due to system memory limit of 63.92 GiB\n",
      "2023-12-26 19:06:56,868 - distributed.nanny.memory - WARNING - Ignoring provided memory limit 70GB due to system memory limit of 63.92 GiB\n",
      "2023-12-26 19:06:56,889 - distributed.nanny.memory - WARNING - Ignoring provided memory limit 70GB due to system memory limit of 63.92 GiB\n",
      "2023-12-26 19:06:56,915 - distributed.nanny.memory - WARNING - Ignoring provided memory limit 70GB due to system memory limit of 63.92 GiB\n",
      "2023-12-26 19:06:56,940 - distributed.nanny.memory - WARNING - Ignoring provided memory limit 70GB due to system memory limit of 63.92 GiB\n",
      "2023-12-26 19:06:56,970 - distributed.nanny.memory - WARNING - Ignoring provided memory limit 70GB due to system memory limit of 63.92 GiB\n",
      "2023-12-26 19:06:57,004 - distributed.nanny.memory - WARNING - Ignoring provided memory limit 70GB due to system memory limit of 63.92 GiB\n",
      "2023-12-26 19:06:57,025 - distributed.nanny.memory - WARNING - Ignoring provided memory limit 70GB due to system memory limit of 63.92 GiB\n"
     ]
    },
    {
     "data": {
      "text/html": [
       "<div>\n",
       "    <div style=\"width: 24px; height: 24px; background-color: #e1e1e1; border: 3px solid #9D9D9D; border-radius: 5px; position: absolute;\"> </div>\n",
       "    <div style=\"margin-left: 48px;\">\n",
       "        <h3 style=\"margin-bottom: 0px;\">Client</h3>\n",
       "        <p style=\"color: #9D9D9D; margin-bottom: 0px;\">Client-f2387254-a421-11ee-bdf4-bcf4d40d3894</p>\n",
       "        <table style=\"width: 100%; text-align: left;\">\n",
       "\n",
       "        <tr>\n",
       "        \n",
       "            <td style=\"text-align: left;\"><strong>Connection method:</strong> Cluster object</td>\n",
       "            <td style=\"text-align: left;\"><strong>Cluster type:</strong> distributed.LocalCluster</td>\n",
       "        \n",
       "        </tr>\n",
       "\n",
       "        \n",
       "            <tr>\n",
       "                <td style=\"text-align: left;\">\n",
       "                    <strong>Dashboard: </strong> <a href=\"http://127.0.0.1:8787/status\" target=\"_blank\">http://127.0.0.1:8787/status</a>\n",
       "                </td>\n",
       "                <td style=\"text-align: left;\"></td>\n",
       "            </tr>\n",
       "        \n",
       "\n",
       "        </table>\n",
       "\n",
       "        \n",
       "\n",
       "        \n",
       "            <details>\n",
       "            <summary style=\"margin-bottom: 20px;\"><h3 style=\"display: inline;\">Cluster Info</h3></summary>\n",
       "            <div class=\"jp-RenderedHTMLCommon jp-RenderedHTML jp-mod-trusted jp-OutputArea-output\">\n",
       "    <div style=\"width: 24px; height: 24px; background-color: #e1e1e1; border: 3px solid #9D9D9D; border-radius: 5px; position: absolute;\">\n",
       "    </div>\n",
       "    <div style=\"margin-left: 48px;\">\n",
       "        <h3 style=\"margin-bottom: 0px; margin-top: 0px;\">LocalCluster</h3>\n",
       "        <p style=\"color: #9D9D9D; margin-bottom: 0px;\">4c580320</p>\n",
       "        <table style=\"width: 100%; text-align: left;\">\n",
       "            <tr>\n",
       "                <td style=\"text-align: left;\">\n",
       "                    <strong>Dashboard:</strong> <a href=\"http://127.0.0.1:8787/status\" target=\"_blank\">http://127.0.0.1:8787/status</a>\n",
       "                </td>\n",
       "                <td style=\"text-align: left;\">\n",
       "                    <strong>Workers:</strong> 8\n",
       "                </td>\n",
       "            </tr>\n",
       "            <tr>\n",
       "                <td style=\"text-align: left;\">\n",
       "                    <strong>Total threads:</strong> 16\n",
       "                </td>\n",
       "                <td style=\"text-align: left;\">\n",
       "                    <strong>Total memory:</strong> 511.38 GiB\n",
       "                </td>\n",
       "            </tr>\n",
       "            \n",
       "            <tr>\n",
       "    <td style=\"text-align: left;\"><strong>Status:</strong> running</td>\n",
       "    <td style=\"text-align: left;\"><strong>Using processes:</strong> True</td>\n",
       "</tr>\n",
       "\n",
       "            \n",
       "        </table>\n",
       "\n",
       "        <details>\n",
       "            <summary style=\"margin-bottom: 20px;\">\n",
       "                <h3 style=\"display: inline;\">Scheduler Info</h3>\n",
       "            </summary>\n",
       "\n",
       "            <div style=\"\">\n",
       "    <div>\n",
       "        <div style=\"width: 24px; height: 24px; background-color: #FFF7E5; border: 3px solid #FF6132; border-radius: 5px; position: absolute;\"> </div>\n",
       "        <div style=\"margin-left: 48px;\">\n",
       "            <h3 style=\"margin-bottom: 0px;\">Scheduler</h3>\n",
       "            <p style=\"color: #9D9D9D; margin-bottom: 0px;\">Scheduler-595a2cf3-ef8c-4137-84ce-d5bd081c344f</p>\n",
       "            <table style=\"width: 100%; text-align: left;\">\n",
       "                <tr>\n",
       "                    <td style=\"text-align: left;\">\n",
       "                        <strong>Comm:</strong> tcp://127.0.0.1:56544\n",
       "                    </td>\n",
       "                    <td style=\"text-align: left;\">\n",
       "                        <strong>Workers:</strong> 8\n",
       "                    </td>\n",
       "                </tr>\n",
       "                <tr>\n",
       "                    <td style=\"text-align: left;\">\n",
       "                        <strong>Dashboard:</strong> <a href=\"http://127.0.0.1:8787/status\" target=\"_blank\">http://127.0.0.1:8787/status</a>\n",
       "                    </td>\n",
       "                    <td style=\"text-align: left;\">\n",
       "                        <strong>Total threads:</strong> 16\n",
       "                    </td>\n",
       "                </tr>\n",
       "                <tr>\n",
       "                    <td style=\"text-align: left;\">\n",
       "                        <strong>Started:</strong> Just now\n",
       "                    </td>\n",
       "                    <td style=\"text-align: left;\">\n",
       "                        <strong>Total memory:</strong> 511.38 GiB\n",
       "                    </td>\n",
       "                </tr>\n",
       "            </table>\n",
       "        </div>\n",
       "    </div>\n",
       "\n",
       "    <details style=\"margin-left: 48px;\">\n",
       "        <summary style=\"margin-bottom: 20px;\">\n",
       "            <h3 style=\"display: inline;\">Workers</h3>\n",
       "        </summary>\n",
       "\n",
       "        \n",
       "        <div style=\"margin-bottom: 20px;\">\n",
       "            <div style=\"width: 24px; height: 24px; background-color: #DBF5FF; border: 3px solid #4CC9FF; border-radius: 5px; position: absolute;\"> </div>\n",
       "            <div style=\"margin-left: 48px;\">\n",
       "            <details>\n",
       "                <summary>\n",
       "                    <h4 style=\"margin-bottom: 0px; display: inline;\">Worker: 0</h4>\n",
       "                </summary>\n",
       "                <table style=\"width: 100%; text-align: left;\">\n",
       "                    <tr>\n",
       "                        <td style=\"text-align: left;\">\n",
       "                            <strong>Comm: </strong> tcp://127.0.0.1:56589\n",
       "                        </td>\n",
       "                        <td style=\"text-align: left;\">\n",
       "                            <strong>Total threads: </strong> 2\n",
       "                        </td>\n",
       "                    </tr>\n",
       "                    <tr>\n",
       "                        <td style=\"text-align: left;\">\n",
       "                            <strong>Dashboard: </strong> <a href=\"http://127.0.0.1:56590/status\" target=\"_blank\">http://127.0.0.1:56590/status</a>\n",
       "                        </td>\n",
       "                        <td style=\"text-align: left;\">\n",
       "                            <strong>Memory: </strong> 63.92 GiB\n",
       "                        </td>\n",
       "                    </tr>\n",
       "                    <tr>\n",
       "                        <td style=\"text-align: left;\">\n",
       "                            <strong>Nanny: </strong> tcp://127.0.0.1:56548\n",
       "                        </td>\n",
       "                        <td style=\"text-align: left;\"></td>\n",
       "                    </tr>\n",
       "                    <tr>\n",
       "                        <td colspan=\"2\" style=\"text-align: left;\">\n",
       "                            <strong>Local directory: </strong> C:\\Users\\reube\\AppData\\Local\\Temp\\dask-scratch-space\\worker-0mdqbc0v\n",
       "                        </td>\n",
       "                    </tr>\n",
       "\n",
       "                    \n",
       "\n",
       "                    \n",
       "\n",
       "                </table>\n",
       "            </details>\n",
       "            </div>\n",
       "        </div>\n",
       "        \n",
       "        <div style=\"margin-bottom: 20px;\">\n",
       "            <div style=\"width: 24px; height: 24px; background-color: #DBF5FF; border: 3px solid #4CC9FF; border-radius: 5px; position: absolute;\"> </div>\n",
       "            <div style=\"margin-left: 48px;\">\n",
       "            <details>\n",
       "                <summary>\n",
       "                    <h4 style=\"margin-bottom: 0px; display: inline;\">Worker: 1</h4>\n",
       "                </summary>\n",
       "                <table style=\"width: 100%; text-align: left;\">\n",
       "                    <tr>\n",
       "                        <td style=\"text-align: left;\">\n",
       "                            <strong>Comm: </strong> tcp://127.0.0.1:56586\n",
       "                        </td>\n",
       "                        <td style=\"text-align: left;\">\n",
       "                            <strong>Total threads: </strong> 2\n",
       "                        </td>\n",
       "                    </tr>\n",
       "                    <tr>\n",
       "                        <td style=\"text-align: left;\">\n",
       "                            <strong>Dashboard: </strong> <a href=\"http://127.0.0.1:56587/status\" target=\"_blank\">http://127.0.0.1:56587/status</a>\n",
       "                        </td>\n",
       "                        <td style=\"text-align: left;\">\n",
       "                            <strong>Memory: </strong> 63.92 GiB\n",
       "                        </td>\n",
       "                    </tr>\n",
       "                    <tr>\n",
       "                        <td style=\"text-align: left;\">\n",
       "                            <strong>Nanny: </strong> tcp://127.0.0.1:56550\n",
       "                        </td>\n",
       "                        <td style=\"text-align: left;\"></td>\n",
       "                    </tr>\n",
       "                    <tr>\n",
       "                        <td colspan=\"2\" style=\"text-align: left;\">\n",
       "                            <strong>Local directory: </strong> C:\\Users\\reube\\AppData\\Local\\Temp\\dask-scratch-space\\worker-slv3nvub\n",
       "                        </td>\n",
       "                    </tr>\n",
       "\n",
       "                    \n",
       "\n",
       "                    \n",
       "\n",
       "                </table>\n",
       "            </details>\n",
       "            </div>\n",
       "        </div>\n",
       "        \n",
       "        <div style=\"margin-bottom: 20px;\">\n",
       "            <div style=\"width: 24px; height: 24px; background-color: #DBF5FF; border: 3px solid #4CC9FF; border-radius: 5px; position: absolute;\"> </div>\n",
       "            <div style=\"margin-left: 48px;\">\n",
       "            <details>\n",
       "                <summary>\n",
       "                    <h4 style=\"margin-bottom: 0px; display: inline;\">Worker: 2</h4>\n",
       "                </summary>\n",
       "                <table style=\"width: 100%; text-align: left;\">\n",
       "                    <tr>\n",
       "                        <td style=\"text-align: left;\">\n",
       "                            <strong>Comm: </strong> tcp://127.0.0.1:56594\n",
       "                        </td>\n",
       "                        <td style=\"text-align: left;\">\n",
       "                            <strong>Total threads: </strong> 2\n",
       "                        </td>\n",
       "                    </tr>\n",
       "                    <tr>\n",
       "                        <td style=\"text-align: left;\">\n",
       "                            <strong>Dashboard: </strong> <a href=\"http://127.0.0.1:56597/status\" target=\"_blank\">http://127.0.0.1:56597/status</a>\n",
       "                        </td>\n",
       "                        <td style=\"text-align: left;\">\n",
       "                            <strong>Memory: </strong> 63.92 GiB\n",
       "                        </td>\n",
       "                    </tr>\n",
       "                    <tr>\n",
       "                        <td style=\"text-align: left;\">\n",
       "                            <strong>Nanny: </strong> tcp://127.0.0.1:56552\n",
       "                        </td>\n",
       "                        <td style=\"text-align: left;\"></td>\n",
       "                    </tr>\n",
       "                    <tr>\n",
       "                        <td colspan=\"2\" style=\"text-align: left;\">\n",
       "                            <strong>Local directory: </strong> C:\\Users\\reube\\AppData\\Local\\Temp\\dask-scratch-space\\worker-bbvgxvo0\n",
       "                        </td>\n",
       "                    </tr>\n",
       "\n",
       "                    \n",
       "\n",
       "                    \n",
       "\n",
       "                </table>\n",
       "            </details>\n",
       "            </div>\n",
       "        </div>\n",
       "        \n",
       "        <div style=\"margin-bottom: 20px;\">\n",
       "            <div style=\"width: 24px; height: 24px; background-color: #DBF5FF; border: 3px solid #4CC9FF; border-radius: 5px; position: absolute;\"> </div>\n",
       "            <div style=\"margin-left: 48px;\">\n",
       "            <details>\n",
       "                <summary>\n",
       "                    <h4 style=\"margin-bottom: 0px; display: inline;\">Worker: 3</h4>\n",
       "                </summary>\n",
       "                <table style=\"width: 100%; text-align: left;\">\n",
       "                    <tr>\n",
       "                        <td style=\"text-align: left;\">\n",
       "                            <strong>Comm: </strong> tcp://127.0.0.1:56601\n",
       "                        </td>\n",
       "                        <td style=\"text-align: left;\">\n",
       "                            <strong>Total threads: </strong> 2\n",
       "                        </td>\n",
       "                    </tr>\n",
       "                    <tr>\n",
       "                        <td style=\"text-align: left;\">\n",
       "                            <strong>Dashboard: </strong> <a href=\"http://127.0.0.1:56602/status\" target=\"_blank\">http://127.0.0.1:56602/status</a>\n",
       "                        </td>\n",
       "                        <td style=\"text-align: left;\">\n",
       "                            <strong>Memory: </strong> 63.92 GiB\n",
       "                        </td>\n",
       "                    </tr>\n",
       "                    <tr>\n",
       "                        <td style=\"text-align: left;\">\n",
       "                            <strong>Nanny: </strong> tcp://127.0.0.1:56554\n",
       "                        </td>\n",
       "                        <td style=\"text-align: left;\"></td>\n",
       "                    </tr>\n",
       "                    <tr>\n",
       "                        <td colspan=\"2\" style=\"text-align: left;\">\n",
       "                            <strong>Local directory: </strong> C:\\Users\\reube\\AppData\\Local\\Temp\\dask-scratch-space\\worker-jqc4nvz3\n",
       "                        </td>\n",
       "                    </tr>\n",
       "\n",
       "                    \n",
       "\n",
       "                    \n",
       "\n",
       "                </table>\n",
       "            </details>\n",
       "            </div>\n",
       "        </div>\n",
       "        \n",
       "        <div style=\"margin-bottom: 20px;\">\n",
       "            <div style=\"width: 24px; height: 24px; background-color: #DBF5FF; border: 3px solid #4CC9FF; border-radius: 5px; position: absolute;\"> </div>\n",
       "            <div style=\"margin-left: 48px;\">\n",
       "            <details>\n",
       "                <summary>\n",
       "                    <h4 style=\"margin-bottom: 0px; display: inline;\">Worker: 4</h4>\n",
       "                </summary>\n",
       "                <table style=\"width: 100%; text-align: left;\">\n",
       "                    <tr>\n",
       "                        <td style=\"text-align: left;\">\n",
       "                            <strong>Comm: </strong> tcp://127.0.0.1:56604\n",
       "                        </td>\n",
       "                        <td style=\"text-align: left;\">\n",
       "                            <strong>Total threads: </strong> 2\n",
       "                        </td>\n",
       "                    </tr>\n",
       "                    <tr>\n",
       "                        <td style=\"text-align: left;\">\n",
       "                            <strong>Dashboard: </strong> <a href=\"http://127.0.0.1:56605/status\" target=\"_blank\">http://127.0.0.1:56605/status</a>\n",
       "                        </td>\n",
       "                        <td style=\"text-align: left;\">\n",
       "                            <strong>Memory: </strong> 63.92 GiB\n",
       "                        </td>\n",
       "                    </tr>\n",
       "                    <tr>\n",
       "                        <td style=\"text-align: left;\">\n",
       "                            <strong>Nanny: </strong> tcp://127.0.0.1:56556\n",
       "                        </td>\n",
       "                        <td style=\"text-align: left;\"></td>\n",
       "                    </tr>\n",
       "                    <tr>\n",
       "                        <td colspan=\"2\" style=\"text-align: left;\">\n",
       "                            <strong>Local directory: </strong> C:\\Users\\reube\\AppData\\Local\\Temp\\dask-scratch-space\\worker-mg69g2l0\n",
       "                        </td>\n",
       "                    </tr>\n",
       "\n",
       "                    \n",
       "\n",
       "                    \n",
       "\n",
       "                </table>\n",
       "            </details>\n",
       "            </div>\n",
       "        </div>\n",
       "        \n",
       "        <div style=\"margin-bottom: 20px;\">\n",
       "            <div style=\"width: 24px; height: 24px; background-color: #DBF5FF; border: 3px solid #4CC9FF; border-radius: 5px; position: absolute;\"> </div>\n",
       "            <div style=\"margin-left: 48px;\">\n",
       "            <details>\n",
       "                <summary>\n",
       "                    <h4 style=\"margin-bottom: 0px; display: inline;\">Worker: 5</h4>\n",
       "                </summary>\n",
       "                <table style=\"width: 100%; text-align: left;\">\n",
       "                    <tr>\n",
       "                        <td style=\"text-align: left;\">\n",
       "                            <strong>Comm: </strong> tcp://127.0.0.1:56592\n",
       "                        </td>\n",
       "                        <td style=\"text-align: left;\">\n",
       "                            <strong>Total threads: </strong> 2\n",
       "                        </td>\n",
       "                    </tr>\n",
       "                    <tr>\n",
       "                        <td style=\"text-align: left;\">\n",
       "                            <strong>Dashboard: </strong> <a href=\"http://127.0.0.1:56593/status\" target=\"_blank\">http://127.0.0.1:56593/status</a>\n",
       "                        </td>\n",
       "                        <td style=\"text-align: left;\">\n",
       "                            <strong>Memory: </strong> 63.92 GiB\n",
       "                        </td>\n",
       "                    </tr>\n",
       "                    <tr>\n",
       "                        <td style=\"text-align: left;\">\n",
       "                            <strong>Nanny: </strong> tcp://127.0.0.1:56558\n",
       "                        </td>\n",
       "                        <td style=\"text-align: left;\"></td>\n",
       "                    </tr>\n",
       "                    <tr>\n",
       "                        <td colspan=\"2\" style=\"text-align: left;\">\n",
       "                            <strong>Local directory: </strong> C:\\Users\\reube\\AppData\\Local\\Temp\\dask-scratch-space\\worker-i6c7el35\n",
       "                        </td>\n",
       "                    </tr>\n",
       "\n",
       "                    \n",
       "\n",
       "                    \n",
       "\n",
       "                </table>\n",
       "            </details>\n",
       "            </div>\n",
       "        </div>\n",
       "        \n",
       "        <div style=\"margin-bottom: 20px;\">\n",
       "            <div style=\"width: 24px; height: 24px; background-color: #DBF5FF; border: 3px solid #4CC9FF; border-radius: 5px; position: absolute;\"> </div>\n",
       "            <div style=\"margin-left: 48px;\">\n",
       "            <details>\n",
       "                <summary>\n",
       "                    <h4 style=\"margin-bottom: 0px; display: inline;\">Worker: 6</h4>\n",
       "                </summary>\n",
       "                <table style=\"width: 100%; text-align: left;\">\n",
       "                    <tr>\n",
       "                        <td style=\"text-align: left;\">\n",
       "                            <strong>Comm: </strong> tcp://127.0.0.1:56596\n",
       "                        </td>\n",
       "                        <td style=\"text-align: left;\">\n",
       "                            <strong>Total threads: </strong> 2\n",
       "                        </td>\n",
       "                    </tr>\n",
       "                    <tr>\n",
       "                        <td style=\"text-align: left;\">\n",
       "                            <strong>Dashboard: </strong> <a href=\"http://127.0.0.1:56599/status\" target=\"_blank\">http://127.0.0.1:56599/status</a>\n",
       "                        </td>\n",
       "                        <td style=\"text-align: left;\">\n",
       "                            <strong>Memory: </strong> 63.92 GiB\n",
       "                        </td>\n",
       "                    </tr>\n",
       "                    <tr>\n",
       "                        <td style=\"text-align: left;\">\n",
       "                            <strong>Nanny: </strong> tcp://127.0.0.1:56560\n",
       "                        </td>\n",
       "                        <td style=\"text-align: left;\"></td>\n",
       "                    </tr>\n",
       "                    <tr>\n",
       "                        <td colspan=\"2\" style=\"text-align: left;\">\n",
       "                            <strong>Local directory: </strong> C:\\Users\\reube\\AppData\\Local\\Temp\\dask-scratch-space\\worker-f73as7fv\n",
       "                        </td>\n",
       "                    </tr>\n",
       "\n",
       "                    \n",
       "\n",
       "                    \n",
       "\n",
       "                </table>\n",
       "            </details>\n",
       "            </div>\n",
       "        </div>\n",
       "        \n",
       "        <div style=\"margin-bottom: 20px;\">\n",
       "            <div style=\"width: 24px; height: 24px; background-color: #DBF5FF; border: 3px solid #4CC9FF; border-radius: 5px; position: absolute;\"> </div>\n",
       "            <div style=\"margin-left: 48px;\">\n",
       "            <details>\n",
       "                <summary>\n",
       "                    <h4 style=\"margin-bottom: 0px; display: inline;\">Worker: 7</h4>\n",
       "                </summary>\n",
       "                <table style=\"width: 100%; text-align: left;\">\n",
       "                    <tr>\n",
       "                        <td style=\"text-align: left;\">\n",
       "                            <strong>Comm: </strong> tcp://127.0.0.1:56575\n",
       "                        </td>\n",
       "                        <td style=\"text-align: left;\">\n",
       "                            <strong>Total threads: </strong> 2\n",
       "                        </td>\n",
       "                    </tr>\n",
       "                    <tr>\n",
       "                        <td style=\"text-align: left;\">\n",
       "                            <strong>Dashboard: </strong> <a href=\"http://127.0.0.1:56576/status\" target=\"_blank\">http://127.0.0.1:56576/status</a>\n",
       "                        </td>\n",
       "                        <td style=\"text-align: left;\">\n",
       "                            <strong>Memory: </strong> 63.92 GiB\n",
       "                        </td>\n",
       "                    </tr>\n",
       "                    <tr>\n",
       "                        <td style=\"text-align: left;\">\n",
       "                            <strong>Nanny: </strong> tcp://127.0.0.1:56562\n",
       "                        </td>\n",
       "                        <td style=\"text-align: left;\"></td>\n",
       "                    </tr>\n",
       "                    <tr>\n",
       "                        <td colspan=\"2\" style=\"text-align: left;\">\n",
       "                            <strong>Local directory: </strong> C:\\Users\\reube\\AppData\\Local\\Temp\\dask-scratch-space\\worker-krmo2tc2\n",
       "                        </td>\n",
       "                    </tr>\n",
       "\n",
       "                    \n",
       "\n",
       "                    \n",
       "\n",
       "                </table>\n",
       "            </details>\n",
       "            </div>\n",
       "        </div>\n",
       "        \n",
       "\n",
       "    </details>\n",
       "</div>\n",
       "\n",
       "        </details>\n",
       "    </div>\n",
       "</div>\n",
       "            </details>\n",
       "        \n",
       "\n",
       "    </div>\n",
       "</div>"
      ],
      "text/plain": [
       "<Client: 'tcp://127.0.0.1:56544' processes=8 threads=16, memory=511.38 GiB>"
      ]
     },
     "execution_count": 6,
     "metadata": {},
     "output_type": "execute_result"
    }
   ],
   "source": [
    "daskCluster = LocalCluster(threads_per_worker=2,\n",
    "                n_workers=8, memory_limit='70GB')\n",
    "\n",
    "client = Client(daskCluster)\n",
    "\n",
    "client"
   ]
  },
  {
   "cell_type": "code",
   "execution_count": 7,
   "id": "080e8ca1",
   "metadata": {
    "papermill": {
     "duration": null,
     "end_time": null,
     "exception": null,
     "start_time": null,
     "status": "completed"
    },
    "tags": []
   },
   "outputs": [
    {
     "data": {
      "text/html": [
       "<div>\n",
       "<style scoped>\n",
       "    .dataframe tbody tr th:only-of-type {\n",
       "        vertical-align: middle;\n",
       "    }\n",
       "\n",
       "    .dataframe tbody tr th {\n",
       "        vertical-align: top;\n",
       "    }\n",
       "\n",
       "    .dataframe thead th {\n",
       "        text-align: right;\n",
       "    }\n",
       "</style>\n",
       "<table border=\"1\" class=\"dataframe\">\n",
       "  <thead>\n",
       "    <tr style=\"text-align: right;\">\n",
       "      <th></th>\n",
       "      <th>geometry</th>\n",
       "    </tr>\n",
       "  </thead>\n",
       "  <tbody>\n",
       "  </tbody>\n",
       "</table>\n",
       "</div>"
      ],
      "text/plain": [
       "Empty GeoDataFrame\n",
       "Columns: [geometry]\n",
       "Index: []"
      ]
     },
     "execution_count": 7,
     "metadata": {},
     "output_type": "execute_result"
    }
   ],
   "source": [
    "streets[~streets['geometry'].is_valid]"
   ]
  },
  {
   "cell_type": "code",
   "execution_count": 8,
   "id": "22613620",
   "metadata": {
    "papermill": {
     "duration": null,
     "end_time": null,
     "exception": null,
     "start_time": null,
     "status": "completed"
    },
    "tags": []
   },
   "outputs": [
    {
     "data": {
      "text/html": [
       "<div>\n",
       "<style scoped>\n",
       "    .dataframe tbody tr th:only-of-type {\n",
       "        vertical-align: middle;\n",
       "    }\n",
       "\n",
       "    .dataframe tbody tr th {\n",
       "        vertical-align: top;\n",
       "    }\n",
       "\n",
       "    .dataframe thead th {\n",
       "        text-align: right;\n",
       "    }\n",
       "</style>\n",
       "<table border=\"1\" class=\"dataframe\">\n",
       "  <thead>\n",
       "    <tr style=\"text-align: right;\">\n",
       "      <th></th>\n",
       "      <th>geometry</th>\n",
       "    </tr>\n",
       "  </thead>\n",
       "  <tbody>\n",
       "    <tr>\n",
       "      <th>51110</th>\n",
       "      <td>POLYGON ((535873.407 200395.486, 535863.302 20...</td>\n",
       "    </tr>\n",
       "    <tr>\n",
       "      <th>52854</th>\n",
       "      <td>POLYGON ((532931.180 196131.171, 532930.046 19...</td>\n",
       "    </tr>\n",
       "    <tr>\n",
       "      <th>24350</th>\n",
       "      <td>POLYGON ((488248.124 181973.448, 488241.914 18...</td>\n",
       "    </tr>\n",
       "    <tr>\n",
       "      <th>17618</th>\n",
       "      <td>POLYGON ((516284.124 148788.987, 516285.070 14...</td>\n",
       "    </tr>\n",
       "    <tr>\n",
       "      <th>58589</th>\n",
       "      <td>POLYGON ((535110.440 182893.134, 535111.021 18...</td>\n",
       "    </tr>\n",
       "    <tr>\n",
       "      <th>171296</th>\n",
       "      <td>POLYGON ((533125.408 181586.671, 533252.375 18...</td>\n",
       "    </tr>\n",
       "    <tr>\n",
       "      <th>211915</th>\n",
       "      <td>POLYGON ((536325.800 167204.103, 536325.387 16...</td>\n",
       "    </tr>\n",
       "    <tr>\n",
       "      <th>326945</th>\n",
       "      <td>POLYGON ((525928.486 163785.740, 525935.275 16...</td>\n",
       "    </tr>\n",
       "    <tr>\n",
       "      <th>528800</th>\n",
       "      <td>POLYGON ((525003.368 183138.818, 525008.831 18...</td>\n",
       "    </tr>\n",
       "    <tr>\n",
       "      <th>566161</th>\n",
       "      <td>POLYGON ((495487.323 189899.715, 495435.987 18...</td>\n",
       "    </tr>\n",
       "    <tr>\n",
       "      <th>640300</th>\n",
       "      <td>POLYGON ((535643.204 181835.669, 535693.794 18...</td>\n",
       "    </tr>\n",
       "    <tr>\n",
       "      <th>662520</th>\n",
       "      <td>POLYGON ((534658.449 186767.097, 534681.670 18...</td>\n",
       "    </tr>\n",
       "    <tr>\n",
       "      <th>864830</th>\n",
       "      <td>POLYGON ((530602.084 149649.038, 530596.371 14...</td>\n",
       "    </tr>\n",
       "    <tr>\n",
       "      <th>899789</th>\n",
       "      <td>POLYGON ((518484.606 174128.506, 518480.721 17...</td>\n",
       "    </tr>\n",
       "    <tr>\n",
       "      <th>91531</th>\n",
       "      <td>POLYGON ((559600.374 194656.443, 559575.156 19...</td>\n",
       "    </tr>\n",
       "    <tr>\n",
       "      <th>99266</th>\n",
       "      <td>POLYGON ((538745.144 196628.352, 538737.107 19...</td>\n",
       "    </tr>\n",
       "    <tr>\n",
       "      <th>272155</th>\n",
       "      <td>POLYGON ((559031.872 199077.872, 559042.013 19...</td>\n",
       "    </tr>\n",
       "    <tr>\n",
       "      <th>251208</th>\n",
       "      <td>POLYGON ((554164.104 187037.258, 554163.098 18...</td>\n",
       "    </tr>\n",
       "    <tr>\n",
       "      <th>463068</th>\n",
       "      <td>POLYGON ((554264.905 185615.680, 554266.686 18...</td>\n",
       "    </tr>\n",
       "  </tbody>\n",
       "</table>\n",
       "</div>"
      ],
      "text/plain": [
       "                                                 geometry\n",
       "51110   POLYGON ((535873.407 200395.486, 535863.302 20...\n",
       "52854   POLYGON ((532931.180 196131.171, 532930.046 19...\n",
       "24350   POLYGON ((488248.124 181973.448, 488241.914 18...\n",
       "17618   POLYGON ((516284.124 148788.987, 516285.070 14...\n",
       "58589   POLYGON ((535110.440 182893.134, 535111.021 18...\n",
       "171296  POLYGON ((533125.408 181586.671, 533252.375 18...\n",
       "211915  POLYGON ((536325.800 167204.103, 536325.387 16...\n",
       "326945  POLYGON ((525928.486 163785.740, 525935.275 16...\n",
       "528800  POLYGON ((525003.368 183138.818, 525008.831 18...\n",
       "566161  POLYGON ((495487.323 189899.715, 495435.987 18...\n",
       "640300  POLYGON ((535643.204 181835.669, 535693.794 18...\n",
       "662520  POLYGON ((534658.449 186767.097, 534681.670 18...\n",
       "864830  POLYGON ((530602.084 149649.038, 530596.371 14...\n",
       "899789  POLYGON ((518484.606 174128.506, 518480.721 17...\n",
       "91531   POLYGON ((559600.374 194656.443, 559575.156 19...\n",
       "99266   POLYGON ((538745.144 196628.352, 538737.107 19...\n",
       "272155  POLYGON ((559031.872 199077.872, 559042.013 19...\n",
       "251208  POLYGON ((554164.104 187037.258, 554163.098 18...\n",
       "463068  POLYGON ((554264.905 185615.680, 554266.686 18..."
      ]
     },
     "execution_count": 8,
     "metadata": {},
     "output_type": "execute_result"
    }
   ],
   "source": [
    "buildings[~buildings['geometry'].is_valid]"
   ]
  },
  {
   "cell_type": "code",
   "execution_count": 9,
   "id": "99c591be",
   "metadata": {
    "papermill": {
     "duration": null,
     "end_time": null,
     "exception": null,
     "start_time": null,
     "status": "completed"
    },
    "tags": []
   },
   "outputs": [
    {
     "data": {
      "text/html": [
       "<div>\n",
       "<style scoped>\n",
       "    .dataframe tbody tr th:only-of-type {\n",
       "        vertical-align: middle;\n",
       "    }\n",
       "\n",
       "    .dataframe tbody tr th {\n",
       "        vertical-align: top;\n",
       "    }\n",
       "\n",
       "    .dataframe thead th {\n",
       "        text-align: right;\n",
       "    }\n",
       "</style>\n",
       "<table border=\"1\" class=\"dataframe\">\n",
       "  <thead>\n",
       "    <tr style=\"text-align: right;\">\n",
       "      <th></th>\n",
       "      <th>geometry</th>\n",
       "    </tr>\n",
       "  </thead>\n",
       "  <tbody>\n",
       "  </tbody>\n",
       "</table>\n",
       "</div>"
      ],
      "text/plain": [
       "Empty GeoDataFrame\n",
       "Columns: [geometry]\n",
       "Index: []"
      ]
     },
     "execution_count": 9,
     "metadata": {},
     "output_type": "execute_result"
    }
   ],
   "source": [
    "water[~water['geometry'].is_valid]"
   ]
  },
  {
   "cell_type": "code",
   "execution_count": 10,
   "id": "ec3feb5a",
   "metadata": {
    "papermill": {
     "duration": null,
     "end_time": null,
     "exception": null,
     "start_time": null,
     "status": "completed"
    },
    "tags": []
   },
   "outputs": [
    {
     "data": {
      "text/html": [
       "<div>\n",
       "<style scoped>\n",
       "    .dataframe tbody tr th:only-of-type {\n",
       "        vertical-align: middle;\n",
       "    }\n",
       "\n",
       "    .dataframe tbody tr th {\n",
       "        vertical-align: top;\n",
       "    }\n",
       "\n",
       "    .dataframe thead th {\n",
       "        text-align: right;\n",
       "    }\n",
       "</style>\n",
       "<table border=\"1\" class=\"dataframe\">\n",
       "  <thead>\n",
       "    <tr style=\"text-align: right;\">\n",
       "      <th></th>\n",
       "      <th>geometry</th>\n",
       "    </tr>\n",
       "  </thead>\n",
       "  <tbody>\n",
       "    <tr>\n",
       "      <th>118</th>\n",
       "      <td>POLYGON ((488679.817 192049.612, 488680.804 19...</td>\n",
       "    </tr>\n",
       "    <tr>\n",
       "      <th>122</th>\n",
       "      <td>POLYGON ((488623.164 196722.205, 488615.812 19...</td>\n",
       "    </tr>\n",
       "    <tr>\n",
       "      <th>125</th>\n",
       "      <td>POLYGON ((488768.856 196723.555, 488770.076 19...</td>\n",
       "    </tr>\n",
       "    <tr>\n",
       "      <th>144</th>\n",
       "      <td>POLYGON ((489123.789 194879.413, 489123.738 19...</td>\n",
       "    </tr>\n",
       "    <tr>\n",
       "      <th>148</th>\n",
       "      <td>POLYGON ((487699.772 192903.609, 487690.389 19...</td>\n",
       "    </tr>\n",
       "    <tr>\n",
       "      <th>...</th>\n",
       "      <td>...</td>\n",
       "    </tr>\n",
       "    <tr>\n",
       "      <th>236021</th>\n",
       "      <td>POLYGON ((540353.699 141892.917, 540341.461 14...</td>\n",
       "    </tr>\n",
       "    <tr>\n",
       "      <th>236030</th>\n",
       "      <td>POLYGON ((540865.630 139193.318, 540870.568 13...</td>\n",
       "    </tr>\n",
       "    <tr>\n",
       "      <th>236084</th>\n",
       "      <td>POLYGON ((540857.426 137511.683, 540860.364 13...</td>\n",
       "    </tr>\n",
       "    <tr>\n",
       "      <th>236097</th>\n",
       "      <td>POLYGON ((542066.644 141655.367, 542071.366 14...</td>\n",
       "    </tr>\n",
       "    <tr>\n",
       "      <th>236139</th>\n",
       "      <td>POLYGON ((540117.540 141859.883, 540111.937 14...</td>\n",
       "    </tr>\n",
       "  </tbody>\n",
       "</table>\n",
       "<p>1960565 rows × 1 columns</p>\n",
       "</div>"
      ],
      "text/plain": [
       "                                                 geometry\n",
       "118     POLYGON ((488679.817 192049.612, 488680.804 19...\n",
       "122     POLYGON ((488623.164 196722.205, 488615.812 19...\n",
       "125     POLYGON ((488768.856 196723.555, 488770.076 19...\n",
       "144     POLYGON ((489123.789 194879.413, 489123.738 19...\n",
       "148     POLYGON ((487699.772 192903.609, 487690.389 19...\n",
       "...                                                   ...\n",
       "236021  POLYGON ((540353.699 141892.917, 540341.461 14...\n",
       "236030  POLYGON ((540865.630 139193.318, 540870.568 13...\n",
       "236084  POLYGON ((540857.426 137511.683, 540860.364 13...\n",
       "236097  POLYGON ((542066.644 141655.367, 542071.366 14...\n",
       "236139  POLYGON ((540117.540 141859.883, 540111.937 14...\n",
       "\n",
       "[1960565 rows x 1 columns]"
      ]
     },
     "execution_count": 10,
     "metadata": {},
     "output_type": "execute_result"
    }
   ],
   "source": [
    "buildings"
   ]
  },
  {
   "cell_type": "code",
   "execution_count": 11,
   "id": "0a83c0ed",
   "metadata": {
    "papermill": {
     "duration": null,
     "end_time": null,
     "exception": null,
     "start_time": null,
     "status": "completed"
    },
    "tags": []
   },
   "outputs": [
    {
     "name": "stdout",
     "output_type": "stream",
     "text": [
      "Loop 1 out of 2.\n"
     ]
    },
    {
     "name": "stderr",
     "output_type": "stream",
     "text": [
      "c:\\Users\\reube\\anaconda3\\envs\\processor\\Lib\\site-packages\\momepy\\preprocessing.py:84: FutureWarning: `use_index` defaults to False but will default to True in future. Set True/False directly to control this behavior and silence this warning\n",
      "  sw = libpysal.weights.contiguity.Rook.from_dataframe(blg, silence_warnings=True)\n",
      "Identifying changes: 100%|██████████| 1960565/1960565 [00:31<00:00, 62784.00it/s]\n",
      "Changing geometry: 100%|██████████| 466/466 [01:49<00:00,  4.24it/s]\n"
     ]
    },
    {
     "name": "stdout",
     "output_type": "stream",
     "text": [
      "Loop 2 out of 2.\n"
     ]
    },
    {
     "name": "stderr",
     "output_type": "stream",
     "text": [
      "c:\\Users\\reube\\anaconda3\\envs\\processor\\Lib\\site-packages\\momepy\\preprocessing.py:84: FutureWarning: `use_index` defaults to False but will default to True in future. Set True/False directly to control this behavior and silence this warning\n",
      "  sw = libpysal.weights.contiguity.Rook.from_dataframe(blg, silence_warnings=True)\n",
      "Identifying changes: 100%|██████████| 1745833/1745833 [00:30<00:00, 56970.31it/s]\n",
      "Changing geometry: 0it [00:00, ?it/s]\n"
     ]
    }
   ],
   "source": [
    "buildings = momepy.preprocess(buildings.reset_index(), size=30,\n",
    "                              compactness=0.2, islands=True)"
   ]
  },
  {
   "cell_type": "code",
   "execution_count": 12,
   "id": "328e308d",
   "metadata": {
    "papermill": {
     "duration": null,
     "end_time": null,
     "exception": null,
     "start_time": null,
     "status": "completed"
    },
    "tags": []
   },
   "outputs": [
    {
     "name": "stdout",
     "output_type": "stream",
     "text": [
      "Found 18 invalid geometries. Attempting to fix...\n",
      "All invalid geometries fixed.\n"
     ]
    }
   ],
   "source": [
    "# Check for invalid geometries\n",
    "invalid_geometries = buildings[~buildings.geometry.is_valid]\n",
    "\n",
    "# If there are invalid geometries, attempt to fix them\n",
    "if not invalid_geometries.empty:\n",
    "    print(f\"Found {len(invalid_geometries)} invalid geometries. Attempting to fix...\")\n",
    "    buildings.geometry = buildings.geometry.buffer(0)\n",
    "\n",
    "    # Recheck for invalid geometries\n",
    "    still_invalid = buildings[~buildings.geometry.is_valid]\n",
    "    if still_invalid.empty:\n",
    "        print(\"All invalid geometries fixed.\")\n",
    "    else:\n",
    "        print(f\"Could not fix {len(still_invalid)} geometries.\")\n",
    "else:\n",
    "    print(\"No invalid geometries found.\")"
   ]
  },
  {
   "cell_type": "code",
   "execution_count": 13,
   "id": "b067ac02",
   "metadata": {
    "papermill": {
     "duration": null,
     "end_time": null,
     "exception": null,
     "start_time": null,
     "status": "completed"
    },
    "tags": []
   },
   "outputs": [],
   "source": [
    "buildings['uID'] = momepy.unique_id(buildings)"
   ]
  },
  {
   "cell_type": "code",
   "execution_count": 14,
   "id": "a3649a33",
   "metadata": {
    "papermill": {
     "duration": null,
     "end_time": null,
     "exception": null,
     "start_time": null,
     "status": "completed"
    },
    "tags": []
   },
   "outputs": [
    {
     "name": "stderr",
     "output_type": "stream",
     "text": [
      "C:\\Users\\reube\\AppData\\Local\\Temp\\ipykernel_32244\\893087771.py:4: FutureWarning: Currently, index_parts defaults to True, but in the future, it will default to False to be consistent with Pandas. Use `index_parts=True` to keep the current behavior and True/False to silence the warning.\n",
      "  gs = water.explode()\n"
     ]
    }
   ],
   "source": [
    "water_bodies_boundaries = []\n",
    "\n",
    "# Explode the GeoDataFrame into a GeoSeries of polygons and multipolygons\n",
    "gs = water.explode()\n",
    "\n",
    "# Convert each polygon into a MultiLineString\n",
    "mls = gs.geometry.boundary\n",
    "\n",
    "# Convert the MultiLineString into a DataFrame\n",
    "water_bodies = gpd.GeoDataFrame({'geometry': mls})\n",
    "\n",
    "for water_body in water_bodies.geometry:\n",
    "    # Create a LineString object from the coordinates\n",
    "    water_bodies_boundaries.append(water_body)\n",
    "\n",
    "# # Create a GeoDataFrame of the water area boundaries\n",
    "water_bodies_boundaries = gpd.GeoDataFrame({'geometry': water_bodies_boundaries}).reset_index(drop=True)"
   ]
  },
  {
   "cell_type": "code",
   "execution_count": 15,
   "id": "eb1e48d0",
   "metadata": {
    "execution": {
     "iopub.execute_input": "2023-04-28T16:09:22.942653Z",
     "iopub.status.busy": "2023-04-28T16:09:22.942273Z",
     "iopub.status.idle": "2023-04-28T16:09:29.405785Z",
     "shell.execute_reply": "2023-04-28T16:09:29.404637Z"
    },
    "papermill": {
     "duration": null,
     "end_time": null,
     "exception": null,
     "start_time": null,
     "status": "completed"
    },
    "tags": []
   },
   "outputs": [
    {
     "name": "stderr",
     "output_type": "stream",
     "text": [
      "c:\\Users\\reube\\anaconda3\\envs\\processor\\Lib\\site-packages\\geopandas\\array.py:1459: UserWarning: CRS not set for some of the concatenation inputs. Setting output's CRS as OSGB36 / British National Grid (the single non-null crs provided).\n",
      "  return GeometryArray(data, crs=_get_common_crs(to_concat))\n",
      "c:\\Users\\reube\\anaconda3\\envs\\processor\\Lib\\site-packages\\momepy\\elements.py:1001: FutureWarning: The `query_bulk()` method is deprecated and will be removed in GeoPandas 1.0. You can use the `query()` method instead.\n",
      "  inp, res = enclosures.sindex.query_bulk(\n",
      "c:\\Users\\reube\\anaconda3\\envs\\processor\\Lib\\site-packages\\geopandas\\array.py:1459: UserWarning: CRS not set for some of the concatenation inputs. Setting output's CRS as OSGB36 / British National Grid (the single non-null crs provided).\n",
      "  return GeometryArray(data, crs=_get_common_crs(to_concat))\n"
     ]
    }
   ],
   "source": [
    "enclosures = momepy.enclosures(streets, limit=study_area, additional_barriers=[water_bodies_boundaries, rail])"
   ]
  },
  {
   "cell_type": "code",
   "execution_count": 16,
   "id": "fbecfff4",
   "metadata": {
    "papermill": {
     "duration": null,
     "end_time": null,
     "exception": null,
     "start_time": null,
     "status": "completed"
    },
    "tags": []
   },
   "outputs": [],
   "source": [
    "num_chunks = ceil(len(buildings) / 1400000)"
   ]
  },
  {
   "cell_type": "code",
   "execution_count": 17,
   "id": "3741d41e",
   "metadata": {
    "papermill": {
     "duration": null,
     "end_time": null,
     "exception": null,
     "start_time": null,
     "status": "completed"
    },
    "tags": []
   },
   "outputs": [],
   "source": [
    "def split_bounds(bounds, num_chunks):\n",
    "    minx, miny, maxx, maxy = bounds\n",
    "    width = maxx - minx\n",
    "    height = maxy - miny\n",
    "\n",
    "    # Assuming a square grid for simplicity\n",
    "    chunks_per_side = math.ceil(math.sqrt(num_chunks))\n",
    "    chunk_width = width / chunks_per_side\n",
    "    chunk_height = height / chunks_per_side\n",
    "\n",
    "    chunks = []\n",
    "    for i in range(chunks_per_side):\n",
    "        for j in range(chunks_per_side):\n",
    "            new_minx = minx + i * chunk_width\n",
    "            new_miny = miny + j * chunk_height\n",
    "            new_maxx = new_minx + chunk_width\n",
    "            new_maxy = new_miny + chunk_height\n",
    "\n",
    "            # Create a new bounding box (as a shapely box) for each chunk\n",
    "            chunk_bounds = box(new_minx, new_miny, new_maxx, new_maxy)\n",
    "            chunks.append(chunk_bounds)\n",
    "\n",
    "    return gpd.GeoSeries(chunks)\n",
    "\n",
    "# Example usage\n",
    "chunks = split_bounds(enclosures.total_bounds, num_chunks)"
   ]
  },
  {
   "cell_type": "code",
   "execution_count": 18,
   "id": "02cc7fa5",
   "metadata": {
    "papermill": {
     "duration": null,
     "end_time": null,
     "exception": null,
     "start_time": null,
     "status": "completed"
    },
    "tags": []
   },
   "outputs": [
    {
     "name": "stderr",
     "output_type": "stream",
     "text": [
      "c:\\Users\\reube\\anaconda3\\envs\\processor\\Lib\\site-packages\\geopandas\\geodataframe.py:2189: UserWarning: CRS mismatch between the CRS of left geometries and the CRS of right geometries.\n",
      "Use `to_crs()` to reproject one of the input geometries to match the CRS of the other.\n",
      "\n",
      "Left CRS: EPSG:27700\n",
      "Right CRS: None\n",
      "\n",
      "  return geopandas.sjoin(left_df=self, right_df=df, *args, **kwargs)  # noqa: B026\n"
     ]
    }
   ],
   "source": [
    "chunks = gpd.GeoDataFrame(geometry = chunks)\n",
    "chunks[\"chunk_ID\"] = range(len(chunks))\n",
    "enclosures[\"centroid\"] = enclosures.centroid\n",
    "enclosures = enclosures.sjoin(chunks, how=\"left\")\n",
    "enclosures = enclosures[[\"geometry\", \"chunk_ID\", \"eID\"]]"
   ]
  },
  {
   "cell_type": "code",
   "execution_count": 20,
   "id": "fe54fe81",
   "metadata": {},
   "outputs": [
    {
     "data": {
      "text/html": [
       "<div>\n",
       "<style scoped>\n",
       "    .dataframe tbody tr th:only-of-type {\n",
       "        vertical-align: middle;\n",
       "    }\n",
       "\n",
       "    .dataframe tbody tr th {\n",
       "        vertical-align: top;\n",
       "    }\n",
       "\n",
       "    .dataframe thead th {\n",
       "        text-align: right;\n",
       "    }\n",
       "</style>\n",
       "<table border=\"1\" class=\"dataframe\">\n",
       "  <thead>\n",
       "    <tr style=\"text-align: right;\">\n",
       "      <th></th>\n",
       "      <th>geometry</th>\n",
       "      <th>chunk_ID</th>\n",
       "    </tr>\n",
       "  </thead>\n",
       "  <tbody>\n",
       "    <tr>\n",
       "      <th>0</th>\n",
       "      <td>POLYGON ((530014.060 135071.291, 530014.060 18...</td>\n",
       "      <td>0</td>\n",
       "    </tr>\n",
       "    <tr>\n",
       "      <th>1</th>\n",
       "      <td>POLYGON ((530014.060 180415.608, 530014.060 22...</td>\n",
       "      <td>1</td>\n",
       "    </tr>\n",
       "    <tr>\n",
       "      <th>2</th>\n",
       "      <td>POLYGON ((574997.234 135071.291, 574997.234 18...</td>\n",
       "      <td>2</td>\n",
       "    </tr>\n",
       "    <tr>\n",
       "      <th>3</th>\n",
       "      <td>POLYGON ((574997.234 180415.608, 574997.234 22...</td>\n",
       "      <td>3</td>\n",
       "    </tr>\n",
       "  </tbody>\n",
       "</table>\n",
       "</div>"
      ],
      "text/plain": [
       "                                            geometry  chunk_ID\n",
       "0  POLYGON ((530014.060 135071.291, 530014.060 18...         0\n",
       "1  POLYGON ((530014.060 180415.608, 530014.060 22...         1\n",
       "2  POLYGON ((574997.234 135071.291, 574997.234 18...         2\n",
       "3  POLYGON ((574997.234 180415.608, 574997.234 22...         3"
      ]
     },
     "execution_count": 20,
     "metadata": {},
     "output_type": "execute_result"
    }
   ],
   "source": [
    "chunks"
   ]
  },
  {
   "cell_type": "code",
   "execution_count": 21,
   "id": "c60ba2ff",
   "metadata": {
    "papermill": {
     "duration": null,
     "end_time": null,
     "exception": null,
     "start_time": null,
     "status": "completed"
    },
    "tags": []
   },
   "outputs": [
    {
     "data": {
      "image/png": "[encoded data removed]",
      "text/plain": [
       "<Figure size 640x480 with 1 Axes>"
      ]
     },
     "metadata": {},
     "output_type": "display_data"
    }
   ],
   "source": [
    "# Plotting each chunk\n",
    "fig, ax = plt.subplots()\n",
    "chunks.plot(ax=ax, edgecolor='black', facecolor='none')\n",
    "enclosures.plot(ax=ax, column='chunk_ID', categorical=True, legend=True)\n",
    "ctx.add_basemap(ax, source=ctx.providers.CartoDB.Positron, crs=buildings.crs)\n",
    "plt.show()"
   ]
  },
  {
   "cell_type": "code",
   "execution_count": null,
   "id": "d5939778",
   "metadata": {
    "papermill": {
     "duration": null,
     "end_time": null,
     "exception": null,
     "start_time": null,
     "status": "completed"
    },
    "tags": []
   },
   "outputs": [],
   "source": [
    "buildings = buildings[[\"geometry\"]].sjoin(enclosures, how=\"left\")"
   ]
  },
  {
   "cell_type": "code",
   "execution_count": null,
   "id": "0f15a426",
   "metadata": {
    "papermill": {
     "duration": null,
     "end_time": null,
     "exception": null,
     "start_time": null,
     "status": "completed"
    },
    "tags": []
   },
   "outputs": [],
   "source": [
    "buildings = buildings.dropna()[[\"geometry\", \"chunk_ID\"]]\n",
    "buildings[\"uID\"] = range(len(buildings))\n",
    "old_buildings = buildings\n",
    "buildings = buildings.set_geometry('geometry')"
   ]
  },
  {
   "cell_type": "code",
   "execution_count": null,
   "id": "28807b5f",
   "metadata": {
    "papermill": {
     "duration": null,
     "end_time": null,
     "exception": null,
     "start_time": null,
     "status": "completed"
    },
    "tags": []
   },
   "outputs": [
    {
     "name": "stderr",
     "output_type": "stream",
     "text": [
      "  0%|          | 0/1 [00:00<?, ?it/s]c:\\Users\\reube\\anaconda3\\envs\\processor\\Lib\\site-packages\\momepy\\elements.py:451: FutureWarning: The `query_bulk()` method is deprecated and will be removed in GeoPandas 1.0. You can use the `query()` method instead.\n",
      "  inp, res = buildings.sindex.query_bulk(\n",
      "c:\\Users\\reube\\anaconda3\\envs\\processor\\Lib\\site-packages\\distributed\\client.py:3162: UserWarning: Sending large graph of size 15.76 MiB.\n",
      "This may cause some slowdown.\n",
      "Consider scattering data ahead of time and using futures.\n",
      "  warnings.warn(\n",
      "c:\\Users\\reube\\anaconda3\\envs\\processor\\Lib\\site-packages\\momepy\\elements.py:510: FutureWarning: The behavior of DataFrame concatenation with empty or all-NA entries is deprecated. In a future version, this will no longer exclude empty or all-NA columns when determining the result dtypes. To retain the old behavior, exclude the relevant entries before the concat operation.\n",
      "  return pd.concat(new + [clean_blocks.drop(columns=\"position\")]).reset_index(\n",
      "c:\\Users\\reube\\anaconda3\\envs\\processor\\Lib\\site-packages\\geopandas\\array.py:1459: UserWarning: CRS not set for some of the concatenation inputs. Setting output's CRS as OSGB36 / British National Grid (the single non-null crs provided).\n",
      "  return GeometryArray(data, crs=_get_common_crs(to_concat))\n",
      "100%|██████████| 1/1 [02:58<00:00, 178.44s/it]\n"
     ]
    }
   ],
   "source": [
    "tessellation = gpd.GeoDataFrame()\n",
    "\n",
    "for index, chunk in tqdm(chunks.iterrows(), total= chunks.shape[0]):\n",
    "    chunk_tessellation = momepy.Tessellation(buildings[buildings[\"chunk_ID\"]==index], unique_id='uID', enclosures=enclosures[enclosures[\"chunk_ID\"] == index], use_dask = True).tessellation\n",
    "    tessellation = pd.concat([tessellation, chunk_tessellation])\n",
    "    \n",
    "tessellation_old = tessellation"
   ]
  },
  {
   "cell_type": "code",
   "execution_count": null,
   "id": "c32c91f2",
   "metadata": {
    "papermill": {
     "duration": null,
     "end_time": null,
     "exception": null,
     "start_time": null,
     "status": "completed"
    },
    "tags": []
   },
   "outputs": [],
   "source": [
    "# tessellation.plot()"
   ]
  },
  {
   "cell_type": "code",
   "execution_count": null,
   "id": "cda657e3",
   "metadata": {
    "papermill": {
     "duration": null,
     "end_time": null,
     "exception": null,
     "start_time": null,
     "status": "completed"
    },
    "tags": []
   },
   "outputs": [],
   "source": [
    "tessellation = tessellation_old"
   ]
  },
  {
   "cell_type": "code",
   "execution_count": null,
   "id": "0da7271b",
   "metadata": {
    "papermill": {
     "duration": null,
     "end_time": null,
     "exception": null,
     "start_time": null,
     "status": "completed"
    },
    "tags": []
   },
   "outputs": [],
   "source": [
    "tessellation.to_parquet(f\"./output/{place}/tessellation_p1_raw.pq\")"
   ]
  },
  {
   "cell_type": "code",
   "execution_count": null,
   "id": "013add68",
   "metadata": {
    "papermill": {
     "duration": null,
     "end_time": null,
     "exception": null,
     "start_time": null,
     "status": "completed"
    },
    "tags": []
   },
   "outputs": [],
   "source": [
    "# tessellation = gpd.read_parquet(f\"./output/{place}/tessellation_p1_raw.pq\")"
   ]
  },
  {
   "cell_type": "code",
   "execution_count": null,
   "id": "7048ae2e",
   "metadata": {
    "papermill": {
     "duration": null,
     "end_time": null,
     "exception": null,
     "start_time": null,
     "status": "completed"
    },
    "tags": []
   },
   "outputs": [],
   "source": [
    "tessellation=tessellation.sort_values(by='uID').reset_index(drop=True).dropna(subset=['uID'])"
   ]
  },
  {
   "cell_type": "code",
   "execution_count": null,
   "id": "03761e48",
   "metadata": {
    "papermill": {
     "duration": null,
     "end_time": null,
     "exception": null,
     "start_time": null,
     "status": "completed"
    },
    "tags": []
   },
   "outputs": [],
   "source": [
    "duplicate_gdf = tessellation[tessellation.duplicated('uID', keep=False)]"
   ]
  },
  {
   "cell_type": "code",
   "execution_count": null,
   "id": "632c62f3",
   "metadata": {
    "papermill": {
     "duration": null,
     "end_time": null,
     "exception": null,
     "start_time": null,
     "status": "completed"
    },
    "tags": []
   },
   "outputs": [],
   "source": [
    "@delayed\n",
    "def find_valid_from_multiples(gdf, building):\n",
    "    gdf = gdf[gdf.intersects(building)]\n",
    "        \n",
    "    if gdf.shape[0] > 1:\n",
    "        smallest_area = gdf.geometry.area.idxmin()\n",
    "        return gdf.loc[[smallest_area]]\n",
    "    return gdf\n",
    "\n",
    "# Using a list comprehension for conciseness and efficiency\n",
    "results = dask.compute([\n",
    "    find_valid_from_multiples(duplicate_gdf[duplicate_gdf['uID'] == uid].reset_index(), buildings[buildings[\"uID\"] == uid].geometry.iloc[0])\n",
    "    for uid in duplicate_gdf[\"uID\"].unique()\n",
    "])\n",
    "\n",
    "# Concatenate the results into a single GeoDataFrame\n",
    "a = gpd.GeoDataFrame(pd.concat(results[0], ignore_index=True))\n",
    "tessellation = gpd.GeoDataFrame(pd.concat([tessellation, a], ignore_index=True))\n"
   ]
  },
  {
   "cell_type": "code",
   "execution_count": null,
   "id": "a73f3ce4",
   "metadata": {
    "papermill": {
     "duration": null,
     "end_time": null,
     "exception": null,
     "start_time": null,
     "status": "completed"
    },
    "tags": []
   },
   "outputs": [
    {
     "data": {
      "text/html": [
       "<div>\n",
       "<style scoped>\n",
       "    .dataframe tbody tr th:only-of-type {\n",
       "        vertical-align: middle;\n",
       "    }\n",
       "\n",
       "    .dataframe tbody tr th {\n",
       "        vertical-align: top;\n",
       "    }\n",
       "\n",
       "    .dataframe thead th {\n",
       "        text-align: right;\n",
       "    }\n",
       "</style>\n",
       "<table border=\"1\" class=\"dataframe\">\n",
       "  <thead>\n",
       "    <tr style=\"text-align: right;\">\n",
       "      <th></th>\n",
       "      <th>uID</th>\n",
       "      <th>geometry</th>\n",
       "      <th>eID</th>\n",
       "      <th>chunk_ID</th>\n",
       "      <th>index</th>\n",
       "    </tr>\n",
       "  </thead>\n",
       "  <tbody>\n",
       "    <tr>\n",
       "      <th>0</th>\n",
       "      <td>0.0</td>\n",
       "      <td>POLYGON ((253870.112 667991.936, 253870.333 66...</td>\n",
       "      <td>784</td>\n",
       "      <td>NaN</td>\n",
       "      <td>NaN</td>\n",
       "    </tr>\n",
       "    <tr>\n",
       "      <th>1</th>\n",
       "      <td>1.0</td>\n",
       "      <td>POLYGON ((257804.191 660546.075, 257804.780 66...</td>\n",
       "      <td>1668</td>\n",
       "      <td>NaN</td>\n",
       "      <td>NaN</td>\n",
       "    </tr>\n",
       "    <tr>\n",
       "      <th>2</th>\n",
       "      <td>2.0</td>\n",
       "      <td>POLYGON ((258641.678 660399.969, 258641.110 66...</td>\n",
       "      <td>2489</td>\n",
       "      <td>NaN</td>\n",
       "      <td>NaN</td>\n",
       "    </tr>\n",
       "    <tr>\n",
       "      <th>3</th>\n",
       "      <td>3.0</td>\n",
       "      <td>POLYGON ((253894.918 665700.791, 253895.117 66...</td>\n",
       "      <td>797</td>\n",
       "      <td>NaN</td>\n",
       "      <td>NaN</td>\n",
       "    </tr>\n",
       "    <tr>\n",
       "      <th>4</th>\n",
       "      <td>4.0</td>\n",
       "      <td>POLYGON ((260922.971 666163.338, 260922.904 66...</td>\n",
       "      <td>141</td>\n",
       "      <td>NaN</td>\n",
       "      <td>NaN</td>\n",
       "    </tr>\n",
       "    <tr>\n",
       "      <th>...</th>\n",
       "      <td>...</td>\n",
       "      <td>...</td>\n",
       "      <td>...</td>\n",
       "      <td>...</td>\n",
       "      <td>...</td>\n",
       "    </tr>\n",
       "    <tr>\n",
       "      <th>40930</th>\n",
       "      <td>23154.0</td>\n",
       "      <td>POLYGON ((257966.298 665945.981, 257964.583 66...</td>\n",
       "      <td>252</td>\n",
       "      <td>NaN</td>\n",
       "      <td>23250.0</td>\n",
       "    </tr>\n",
       "    <tr>\n",
       "      <th>40931</th>\n",
       "      <td>23155.0</td>\n",
       "      <td>POLYGON ((257966.298 665945.981, 257964.583 66...</td>\n",
       "      <td>252</td>\n",
       "      <td>NaN</td>\n",
       "      <td>23253.0</td>\n",
       "    </tr>\n",
       "    <tr>\n",
       "      <th>40932</th>\n",
       "      <td>23156.0</td>\n",
       "      <td>POLYGON ((257966.298 665945.981, 257964.583 66...</td>\n",
       "      <td>252</td>\n",
       "      <td>NaN</td>\n",
       "      <td>23255.0</td>\n",
       "    </tr>\n",
       "    <tr>\n",
       "      <th>40933</th>\n",
       "      <td>36807.0</td>\n",
       "      <td>POLYGON ((263465.372 662431.695, 263449.104 66...</td>\n",
       "      <td>4573</td>\n",
       "      <td>NaN</td>\n",
       "      <td>36907.0</td>\n",
       "    </tr>\n",
       "    <tr>\n",
       "      <th>40934</th>\n",
       "      <td>36808.0</td>\n",
       "      <td>POLYGON ((263465.372 662431.695, 263449.104 66...</td>\n",
       "      <td>4573</td>\n",
       "      <td>NaN</td>\n",
       "      <td>36908.0</td>\n",
       "    </tr>\n",
       "  </tbody>\n",
       "</table>\n",
       "<p>40935 rows × 5 columns</p>\n",
       "</div>"
      ],
      "text/plain": [
       "           uID                                           geometry   eID  \\\n",
       "0          0.0  POLYGON ((253870.112 667991.936, 253870.333 66...   784   \n",
       "1          1.0  POLYGON ((257804.191 660546.075, 257804.780 66...  1668   \n",
       "2          2.0  POLYGON ((258641.678 660399.969, 258641.110 66...  2489   \n",
       "3          3.0  POLYGON ((253894.918 665700.791, 253895.117 66...   797   \n",
       "4          4.0  POLYGON ((260922.971 666163.338, 260922.904 66...   141   \n",
       "...        ...                                                ...   ...   \n",
       "40930  23154.0  POLYGON ((257966.298 665945.981, 257964.583 66...   252   \n",
       "40931  23155.0  POLYGON ((257966.298 665945.981, 257964.583 66...   252   \n",
       "40932  23156.0  POLYGON ((257966.298 665945.981, 257964.583 66...   252   \n",
       "40933  36807.0  POLYGON ((263465.372 662431.695, 263449.104 66...  4573   \n",
       "40934  36808.0  POLYGON ((263465.372 662431.695, 263449.104 66...  4573   \n",
       "\n",
       "       chunk_ID    index  \n",
       "0           NaN      NaN  \n",
       "1           NaN      NaN  \n",
       "2           NaN      NaN  \n",
       "3           NaN      NaN  \n",
       "4           NaN      NaN  \n",
       "...         ...      ...  \n",
       "40930       NaN  23250.0  \n",
       "40931       NaN  23253.0  \n",
       "40932       NaN  23255.0  \n",
       "40933       NaN  36907.0  \n",
       "40934       NaN  36908.0  \n",
       "\n",
       "[40935 rows x 5 columns]"
      ]
     },
     "execution_count": 29,
     "metadata": {},
     "output_type": "execute_result"
    }
   ],
   "source": [
    "tessellation"
   ]
  },
  {
   "cell_type": "code",
   "execution_count": null,
   "id": "17c65a61",
   "metadata": {
    "execution": {
     "iopub.execute_input": "2023-04-28T16:16:53.468198Z",
     "iopub.status.busy": "2023-04-28T16:16:53.467782Z",
     "iopub.status.idle": "2023-04-28T16:16:53.510510Z",
     "shell.execute_reply": "2023-04-28T16:16:53.509345Z"
    },
    "papermill": {
     "duration": null,
     "end_time": null,
     "exception": null,
     "start_time": null,
     "status": "completed"
    },
    "tags": []
   },
   "outputs": [],
   "source": [
    "tessellation = tessellation.drop(\"eID\", axis = 1)"
   ]
  },
  {
   "cell_type": "code",
   "execution_count": null,
   "id": "3fd24f4b",
   "metadata": {
    "papermill": {
     "duration": null,
     "end_time": null,
     "exception": null,
     "start_time": null,
     "status": "completed"
    },
    "tags": []
   },
   "outputs": [],
   "source": [
    "# Convert the 'uID' column of buildings to a set for efficient lookups\n",
    "uIDs_buildings = set(buildings['uID'])\n",
    "\n",
    "# Filter the tesellation GeoDataFrame to keep only rows with uID in buildings\n",
    "tessellation = tessellation[tessellation['uID'].isin(uIDs_buildings)]\n"
   ]
  },
  {
   "cell_type": "code",
   "execution_count": null,
   "id": "43fe4249",
   "metadata": {
    "papermill": {
     "duration": null,
     "end_time": null,
     "exception": null,
     "start_time": null,
     "status": "completed"
    },
    "tags": []
   },
   "outputs": [],
   "source": [
    "# Convert the 'uID' column of buildings to a set for efficient lookups\n",
    "uIDs_tessellation = set(tessellation['uID'])\n",
    "\n",
    "# Filter the tesellation GeoDataFrame to keep only rows with uID in buildings\n",
    "buildings = buildings[buildings['uID'].isin(uIDs_tessellation)]\n"
   ]
  },
  {
   "cell_type": "code",
   "execution_count": null,
   "id": "faf0a722",
   "metadata": {
    "papermill": {
     "duration": null,
     "end_time": null,
     "exception": null,
     "start_time": null,
     "status": "completed"
    },
    "tags": []
   },
   "outputs": [
    {
     "data": {
      "text/html": [
       "<div>\n",
       "<style scoped>\n",
       "    .dataframe tbody tr th:only-of-type {\n",
       "        vertical-align: middle;\n",
       "    }\n",
       "\n",
       "    .dataframe tbody tr th {\n",
       "        vertical-align: top;\n",
       "    }\n",
       "\n",
       "    .dataframe thead th {\n",
       "        text-align: right;\n",
       "    }\n",
       "</style>\n",
       "<table border=\"1\" class=\"dataframe\">\n",
       "  <thead>\n",
       "    <tr style=\"text-align: right;\">\n",
       "      <th></th>\n",
       "      <th>uID</th>\n",
       "      <th>geometry</th>\n",
       "      <th>chunk_ID</th>\n",
       "      <th>index</th>\n",
       "    </tr>\n",
       "  </thead>\n",
       "  <tbody>\n",
       "    <tr>\n",
       "      <th>0</th>\n",
       "      <td>0.0</td>\n",
       "      <td>POLYGON ((253870.112 667991.936, 253870.333 66...</td>\n",
       "      <td>NaN</td>\n",
       "      <td>NaN</td>\n",
       "    </tr>\n",
       "    <tr>\n",
       "      <th>1</th>\n",
       "      <td>1.0</td>\n",
       "      <td>POLYGON ((257804.191 660546.075, 257804.780 66...</td>\n",
       "      <td>NaN</td>\n",
       "      <td>NaN</td>\n",
       "    </tr>\n",
       "    <tr>\n",
       "      <th>2</th>\n",
       "      <td>2.0</td>\n",
       "      <td>POLYGON ((258641.678 660399.969, 258641.110 66...</td>\n",
       "      <td>NaN</td>\n",
       "      <td>NaN</td>\n",
       "    </tr>\n",
       "    <tr>\n",
       "      <th>3</th>\n",
       "      <td>3.0</td>\n",
       "      <td>POLYGON ((253894.918 665700.791, 253895.117 66...</td>\n",
       "      <td>NaN</td>\n",
       "      <td>NaN</td>\n",
       "    </tr>\n",
       "    <tr>\n",
       "      <th>4</th>\n",
       "      <td>4.0</td>\n",
       "      <td>POLYGON ((260922.971 666163.338, 260922.904 66...</td>\n",
       "      <td>NaN</td>\n",
       "      <td>NaN</td>\n",
       "    </tr>\n",
       "    <tr>\n",
       "      <th>...</th>\n",
       "      <td>...</td>\n",
       "      <td>...</td>\n",
       "      <td>...</td>\n",
       "      <td>...</td>\n",
       "    </tr>\n",
       "    <tr>\n",
       "      <th>40930</th>\n",
       "      <td>23154.0</td>\n",
       "      <td>POLYGON ((257966.298 665945.981, 257964.583 66...</td>\n",
       "      <td>NaN</td>\n",
       "      <td>23250.0</td>\n",
       "    </tr>\n",
       "    <tr>\n",
       "      <th>40931</th>\n",
       "      <td>23155.0</td>\n",
       "      <td>POLYGON ((257966.298 665945.981, 257964.583 66...</td>\n",
       "      <td>NaN</td>\n",
       "      <td>23253.0</td>\n",
       "    </tr>\n",
       "    <tr>\n",
       "      <th>40932</th>\n",
       "      <td>23156.0</td>\n",
       "      <td>POLYGON ((257966.298 665945.981, 257964.583 66...</td>\n",
       "      <td>NaN</td>\n",
       "      <td>23255.0</td>\n",
       "    </tr>\n",
       "    <tr>\n",
       "      <th>40933</th>\n",
       "      <td>36807.0</td>\n",
       "      <td>POLYGON ((263465.372 662431.695, 263449.104 66...</td>\n",
       "      <td>NaN</td>\n",
       "      <td>36907.0</td>\n",
       "    </tr>\n",
       "    <tr>\n",
       "      <th>40934</th>\n",
       "      <td>36808.0</td>\n",
       "      <td>POLYGON ((263465.372 662431.695, 263449.104 66...</td>\n",
       "      <td>NaN</td>\n",
       "      <td>36908.0</td>\n",
       "    </tr>\n",
       "  </tbody>\n",
       "</table>\n",
       "<p>40935 rows × 4 columns</p>\n",
       "</div>"
      ],
      "text/plain": [
       "           uID                                           geometry  chunk_ID  \\\n",
       "0          0.0  POLYGON ((253870.112 667991.936, 253870.333 66...       NaN   \n",
       "1          1.0  POLYGON ((257804.191 660546.075, 257804.780 66...       NaN   \n",
       "2          2.0  POLYGON ((258641.678 660399.969, 258641.110 66...       NaN   \n",
       "3          3.0  POLYGON ((253894.918 665700.791, 253895.117 66...       NaN   \n",
       "4          4.0  POLYGON ((260922.971 666163.338, 260922.904 66...       NaN   \n",
       "...        ...                                                ...       ...   \n",
       "40930  23154.0  POLYGON ((257966.298 665945.981, 257964.583 66...       NaN   \n",
       "40931  23155.0  POLYGON ((257966.298 665945.981, 257964.583 66...       NaN   \n",
       "40932  23156.0  POLYGON ((257966.298 665945.981, 257964.583 66...       NaN   \n",
       "40933  36807.0  POLYGON ((263465.372 662431.695, 263449.104 66...       NaN   \n",
       "40934  36808.0  POLYGON ((263465.372 662431.695, 263449.104 66...       NaN   \n",
       "\n",
       "         index  \n",
       "0          NaN  \n",
       "1          NaN  \n",
       "2          NaN  \n",
       "3          NaN  \n",
       "4          NaN  \n",
       "...        ...  \n",
       "40930  23250.0  \n",
       "40931  23253.0  \n",
       "40932  23255.0  \n",
       "40933  36907.0  \n",
       "40934  36908.0  \n",
       "\n",
       "[40935 rows x 4 columns]"
      ]
     },
     "execution_count": 33,
     "metadata": {},
     "output_type": "execute_result"
    }
   ],
   "source": [
    "tessellation"
   ]
  },
  {
   "cell_type": "code",
   "execution_count": null,
   "id": "22d37dad",
   "metadata": {
    "papermill": {
     "duration": null,
     "end_time": null,
     "exception": null,
     "start_time": null,
     "status": "completed"
    },
    "tags": []
   },
   "outputs": [],
   "source": [
    "tessellation = tessellation[[\"uID\", \"geometry\"]]\n",
    "buildings = buildings[[\"uID\", \"geometry\"]]"
   ]
  },
  {
   "cell_type": "code",
   "execution_count": null,
   "id": "ec31918e",
   "metadata": {
    "papermill": {
     "duration": null,
     "end_time": null,
     "exception": null,
     "start_time": null,
     "status": "completed"
    },
    "tags": []
   },
   "outputs": [
    {
     "data": {
      "text/html": [
       "<div>\n",
       "<style scoped>\n",
       "    .dataframe tbody tr th:only-of-type {\n",
       "        vertical-align: middle;\n",
       "    }\n",
       "\n",
       "    .dataframe tbody tr th {\n",
       "        vertical-align: top;\n",
       "    }\n",
       "\n",
       "    .dataframe thead th {\n",
       "        text-align: right;\n",
       "    }\n",
       "</style>\n",
       "<table border=\"1\" class=\"dataframe\">\n",
       "  <thead>\n",
       "    <tr style=\"text-align: right;\">\n",
       "      <th></th>\n",
       "      <th>uID</th>\n",
       "      <th>geometry</th>\n",
       "    </tr>\n",
       "  </thead>\n",
       "  <tbody>\n",
       "    <tr>\n",
       "      <th>338</th>\n",
       "      <td>338.0</td>\n",
       "      <td>POLYGON ((254334.370 666783.376, 254334.734 66...</td>\n",
       "    </tr>\n",
       "    <tr>\n",
       "      <th>339</th>\n",
       "      <td>338.0</td>\n",
       "      <td>POLYGON ((254292.573 666717.686, 254292.420 66...</td>\n",
       "    </tr>\n",
       "    <tr>\n",
       "      <th>340</th>\n",
       "      <td>338.0</td>\n",
       "      <td>POLYGON ((254325.973 666761.246, 254320.756 66...</td>\n",
       "    </tr>\n",
       "    <tr>\n",
       "      <th>341</th>\n",
       "      <td>339.0</td>\n",
       "      <td>POLYGON ((254334.370 666783.376, 254334.734 66...</td>\n",
       "    </tr>\n",
       "    <tr>\n",
       "      <th>342</th>\n",
       "      <td>339.0</td>\n",
       "      <td>POLYGON ((254325.973 666761.246, 254320.756 66...</td>\n",
       "    </tr>\n",
       "    <tr>\n",
       "      <th>...</th>\n",
       "      <td>...</td>\n",
       "      <td>...</td>\n",
       "    </tr>\n",
       "    <tr>\n",
       "      <th>40930</th>\n",
       "      <td>23154.0</td>\n",
       "      <td>POLYGON ((257966.298 665945.981, 257964.583 66...</td>\n",
       "    </tr>\n",
       "    <tr>\n",
       "      <th>40931</th>\n",
       "      <td>23155.0</td>\n",
       "      <td>POLYGON ((257966.298 665945.981, 257964.583 66...</td>\n",
       "    </tr>\n",
       "    <tr>\n",
       "      <th>40932</th>\n",
       "      <td>23156.0</td>\n",
       "      <td>POLYGON ((257966.298 665945.981, 257964.583 66...</td>\n",
       "    </tr>\n",
       "    <tr>\n",
       "      <th>40933</th>\n",
       "      <td>36807.0</td>\n",
       "      <td>POLYGON ((263465.372 662431.695, 263449.104 66...</td>\n",
       "    </tr>\n",
       "    <tr>\n",
       "      <th>40934</th>\n",
       "      <td>36808.0</td>\n",
       "      <td>POLYGON ((263465.372 662431.695, 263449.104 66...</td>\n",
       "    </tr>\n",
       "  </tbody>\n",
       "</table>\n",
       "<p>252 rows × 2 columns</p>\n",
       "</div>"
      ],
      "text/plain": [
       "           uID                                           geometry\n",
       "338      338.0  POLYGON ((254334.370 666783.376, 254334.734 66...\n",
       "339      338.0  POLYGON ((254292.573 666717.686, 254292.420 66...\n",
       "340      338.0  POLYGON ((254325.973 666761.246, 254320.756 66...\n",
       "341      339.0  POLYGON ((254334.370 666783.376, 254334.734 66...\n",
       "342      339.0  POLYGON ((254325.973 666761.246, 254320.756 66...\n",
       "...        ...                                                ...\n",
       "40930  23154.0  POLYGON ((257966.298 665945.981, 257964.583 66...\n",
       "40931  23155.0  POLYGON ((257966.298 665945.981, 257964.583 66...\n",
       "40932  23156.0  POLYGON ((257966.298 665945.981, 257964.583 66...\n",
       "40933  36807.0  POLYGON ((263465.372 662431.695, 263449.104 66...\n",
       "40934  36808.0  POLYGON ((263465.372 662431.695, 263449.104 66...\n",
       "\n",
       "[252 rows x 2 columns]"
      ]
     },
     "execution_count": 35,
     "metadata": {},
     "output_type": "execute_result"
    }
   ],
   "source": [
    "tessellation[tessellation.duplicated('uID', keep=False)]"
   ]
  },
  {
   "cell_type": "code",
   "execution_count": null,
   "id": "6097f47b",
   "metadata": {
    "papermill": {
     "duration": null,
     "end_time": null,
     "exception": null,
     "start_time": null,
     "status": "completed"
    },
    "tags": []
   },
   "outputs": [
    {
     "data": {
      "text/html": [
       "<div>\n",
       "<style scoped>\n",
       "    .dataframe tbody tr th:only-of-type {\n",
       "        vertical-align: middle;\n",
       "    }\n",
       "\n",
       "    .dataframe tbody tr th {\n",
       "        vertical-align: top;\n",
       "    }\n",
       "\n",
       "    .dataframe thead th {\n",
       "        text-align: right;\n",
       "    }\n",
       "</style>\n",
       "<table border=\"1\" class=\"dataframe\">\n",
       "  <thead>\n",
       "    <tr style=\"text-align: right;\">\n",
       "      <th></th>\n",
       "      <th>index</th>\n",
       "      <th>uID</th>\n",
       "      <th>geometry_x</th>\n",
       "      <th>geometry_y</th>\n",
       "    </tr>\n",
       "  </thead>\n",
       "  <tbody>\n",
       "    <tr>\n",
       "      <th>0</th>\n",
       "      <td>0</td>\n",
       "      <td>0</td>\n",
       "      <td>POLYGON ((253870.112 667991.936, 253870.333 66...</td>\n",
       "      <td>POLYGON ((253894.911 667992.009, 253874.743 66...</td>\n",
       "    </tr>\n",
       "    <tr>\n",
       "      <th>1</th>\n",
       "      <td>1</td>\n",
       "      <td>1</td>\n",
       "      <td>POLYGON ((257804.191 660546.075, 257804.780 66...</td>\n",
       "      <td>POLYGON ((257873.072 660535.923, 257814.018 66...</td>\n",
       "    </tr>\n",
       "    <tr>\n",
       "      <th>2</th>\n",
       "      <td>2</td>\n",
       "      <td>2</td>\n",
       "      <td>POLYGON ((258641.678 660399.969, 258641.110 66...</td>\n",
       "      <td>POLYGON ((258731.422 660456.589, 258651.296 66...</td>\n",
       "    </tr>\n",
       "    <tr>\n",
       "      <th>3</th>\n",
       "      <td>3</td>\n",
       "      <td>3</td>\n",
       "      <td>POLYGON ((253894.918 665700.791, 253895.117 66...</td>\n",
       "      <td>POLYGON ((254252.042 665895.371, 254246.914 66...</td>\n",
       "    </tr>\n",
       "    <tr>\n",
       "      <th>4</th>\n",
       "      <td>4</td>\n",
       "      <td>4</td>\n",
       "      <td>POLYGON ((260922.971 666163.338, 260922.904 66...</td>\n",
       "      <td>POLYGON ((260928.028 666183.814, 260938.721 66...</td>\n",
       "    </tr>\n",
       "    <tr>\n",
       "      <th>...</th>\n",
       "      <td>...</td>\n",
       "      <td>...</td>\n",
       "      <td>...</td>\n",
       "      <td>...</td>\n",
       "    </tr>\n",
       "    <tr>\n",
       "      <th>40930</th>\n",
       "      <td>40930</td>\n",
       "      <td>40930</td>\n",
       "      <td>POLYGON ((261581.184 664295.868, 261580.742 66...</td>\n",
       "      <td>POLYGON ((261598.050 664298.257, 261581.647 66...</td>\n",
       "    </tr>\n",
       "    <tr>\n",
       "      <th>40931</th>\n",
       "      <td>40931</td>\n",
       "      <td>40931</td>\n",
       "      <td>POLYGON ((263164.852 664681.225, 263164.923 66...</td>\n",
       "      <td>POLYGON ((263173.291 664689.249, 263194.421 66...</td>\n",
       "    </tr>\n",
       "    <tr>\n",
       "      <th>40932</th>\n",
       "      <td>40932</td>\n",
       "      <td>40932</td>\n",
       "      <td>POLYGON ((262230.469 670787.581, 262230.328 67...</td>\n",
       "      <td>POLYGON ((262230.343 670792.684, 262237.303 67...</td>\n",
       "    </tr>\n",
       "    <tr>\n",
       "      <th>40933</th>\n",
       "      <td>40933</td>\n",
       "      <td>40933</td>\n",
       "      <td>POLYGON ((262813.592 666024.416, 262813.306 66...</td>\n",
       "      <td>POLYGON ((262847.006 666028.488, 262817.617 66...</td>\n",
       "    </tr>\n",
       "    <tr>\n",
       "      <th>40934</th>\n",
       "      <td>40934</td>\n",
       "      <td>40934</td>\n",
       "      <td>POLYGON ((261512.426 664093.257, 261513.527 66...</td>\n",
       "      <td>POLYGON ((261524.300 664088.654, 261521.701 66...</td>\n",
       "    </tr>\n",
       "  </tbody>\n",
       "</table>\n",
       "<p>40935 rows × 4 columns</p>\n",
       "</div>"
      ],
      "text/plain": [
       "       index    uID                                         geometry_x  \\\n",
       "0          0      0  POLYGON ((253870.112 667991.936, 253870.333 66...   \n",
       "1          1      1  POLYGON ((257804.191 660546.075, 257804.780 66...   \n",
       "2          2      2  POLYGON ((258641.678 660399.969, 258641.110 66...   \n",
       "3          3      3  POLYGON ((253894.918 665700.791, 253895.117 66...   \n",
       "4          4      4  POLYGON ((260922.971 666163.338, 260922.904 66...   \n",
       "...      ...    ...                                                ...   \n",
       "40930  40930  40930  POLYGON ((261581.184 664295.868, 261580.742 66...   \n",
       "40931  40931  40931  POLYGON ((263164.852 664681.225, 263164.923 66...   \n",
       "40932  40932  40932  POLYGON ((262230.469 670787.581, 262230.328 67...   \n",
       "40933  40933  40933  POLYGON ((262813.592 666024.416, 262813.306 66...   \n",
       "40934  40934  40934  POLYGON ((261512.426 664093.257, 261513.527 66...   \n",
       "\n",
       "                                              geometry_y  \n",
       "0      POLYGON ((253894.911 667992.009, 253874.743 66...  \n",
       "1      POLYGON ((257873.072 660535.923, 257814.018 66...  \n",
       "2      POLYGON ((258731.422 660456.589, 258651.296 66...  \n",
       "3      POLYGON ((254252.042 665895.371, 254246.914 66...  \n",
       "4      POLYGON ((260928.028 666183.814, 260938.721 66...  \n",
       "...                                                  ...  \n",
       "40930  POLYGON ((261598.050 664298.257, 261581.647 66...  \n",
       "40931  POLYGON ((263173.291 664689.249, 263194.421 66...  \n",
       "40932  POLYGON ((262230.343 670792.684, 262237.303 67...  \n",
       "40933  POLYGON ((262847.006 666028.488, 262817.617 66...  \n",
       "40934  POLYGON ((261524.300 664088.654, 261521.701 66...  \n",
       "\n",
       "[40935 rows x 4 columns]"
      ]
     },
     "execution_count": 36,
     "metadata": {},
     "output_type": "execute_result"
    }
   ],
   "source": [
    "combined = tessellation.merge(buildings, on='uID', how='inner').reset_index()\n",
    "combined[\"uID\"] = range(len(combined))\n",
    "combined"
   ]
  },
  {
   "cell_type": "code",
   "execution_count": null,
   "id": "0d15e1d4",
   "metadata": {
    "papermill": {
     "duration": null,
     "end_time": null,
     "exception": null,
     "start_time": null,
     "status": "completed"
    },
    "tags": []
   },
   "outputs": [],
   "source": [
    "tessellation = gpd.GeoDataFrame(combined[[\"uID\", \"geometry_x\"]], geometry='geometry_x')\n",
    "tessellation = tessellation.rename(columns={'geometry_x': 'geometry'})"
   ]
  },
  {
   "cell_type": "code",
   "execution_count": null,
   "id": "7445e30a",
   "metadata": {
    "papermill": {
     "duration": null,
     "end_time": null,
     "exception": null,
     "start_time": null,
     "status": "completed"
    },
    "tags": []
   },
   "outputs": [],
   "source": [
    "tessellation = tessellation.set_geometry(\"geometry\", crs=local_crs)"
   ]
  },
  {
   "cell_type": "code",
   "execution_count": null,
   "id": "1413fbdb",
   "metadata": {
    "papermill": {
     "duration": null,
     "end_time": null,
     "exception": null,
     "start_time": null,
     "status": "completed"
    },
    "tags": []
   },
   "outputs": [],
   "source": [
    "buildings = gpd.GeoDataFrame(combined[[\"uID\", \"geometry_y\"]], geometry='geometry_y')\n",
    "buildings = buildings.rename(columns={'geometry_y': 'geometry'})"
   ]
  },
  {
   "cell_type": "code",
   "execution_count": null,
   "id": "61fe9548",
   "metadata": {
    "papermill": {
     "duration": null,
     "end_time": null,
     "exception": null,
     "start_time": null,
     "status": "completed"
    },
    "tags": []
   },
   "outputs": [],
   "source": [
    "buildings = buildings.set_geometry(\"geometry\", crs=local_crs)"
   ]
  },
  {
   "cell_type": "code",
   "execution_count": null,
   "id": "dbc32f1b",
   "metadata": {
    "papermill": {
     "duration": null,
     "end_time": null,
     "exception": null,
     "start_time": null,
     "status": "completed"
    },
    "tags": []
   },
   "outputs": [],
   "source": [
    "tessellation.to_parquet(f\"./output/{place}/tessellation_p1.pq\")"
   ]
  },
  {
   "cell_type": "code",
   "execution_count": null,
   "id": "47b90b73",
   "metadata": {
    "papermill": {
     "duration": null,
     "end_time": null,
     "exception": null,
     "start_time": null,
     "status": "completed"
    },
    "tags": []
   },
   "outputs": [],
   "source": [
    "buildings.to_parquet(f\"./output/{place}/buildings_p1.pq\")"
   ]
  },
  {
   "cell_type": "code",
   "execution_count": null,
   "id": "66a3e2c7",
   "metadata": {
    "papermill": {
     "duration": null,
     "end_time": null,
     "exception": null,
     "start_time": null,
     "status": "completed"
    },
    "tags": []
   },
   "outputs": [],
   "source": [
    "# # Create a figure and axis\n",
    "\n",
    "# # Plot streets in blue on the same axis\n",
    "# streets.plot(ax=ax, color='blue')\n",
    "\n",
    "# # Plot buildings in red on the same axis\n",
    "# buildings.plot(ax=ax, color='red')\n",
    "\n",
    "# tessellation.plot(ax = ax, color = 'green')\n",
    "\n",
    "# # Show the plot\n",
    "# plt.show()"
   ]
  },
  {
   "cell_type": "code",
   "execution_count": null,
   "id": "dbb5dccf",
   "metadata": {
    "papermill": {
     "duration": null,
     "end_time": null,
     "exception": null,
     "start_time": null,
     "status": "completed"
    },
    "tags": []
   },
   "outputs": [],
   "source": []
  }
 ],
 "metadata": {
  "kernelspec": {
   "display_name": "base",
   "language": "python",
   "name": "python3"
  },
  "language_info": {
   "codemirror_mode": {
    "name": "ipython",
    "version": 3
   },
   "file_extension": ".py",
   "mimetype": "text/x-python",
   "name": "python",
   "nbconvert_exporter": "python",
   "pygments_lexer": "ipython3",
   "version": "3.12.0"
  },
  "papermill": {
   "default_parameters": {},
   "duration": 1.833827,
   "end_time": "2023-12-07T15:03:56.417627",
   "environment_variables": {},
   "exception": null,
   "input_path": "2_tessellation.ipynb",
   "output_path": "2_tessellation-executed.ipynb",
   "parameters": {
    "crs": 4326,
    "lat": 1.28795311,
    "lng": 103.851784,
    "local_crs": 3414,
    "place": "singapore"
   },
   "start_time": "2023-12-07T15:03:54.583800",
   "version": "2.3.4"
  },
  "vscode": {
   "interpreter": {
    "hash": "4d4a16af7eecff68ca78f81aec8d4e5ee20d890b8903eddd3dd732009f4fdc6f"
   }
  }
 },
 "nbformat": 4,
 "nbformat_minor": 5
}
