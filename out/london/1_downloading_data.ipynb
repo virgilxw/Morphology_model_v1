{
 "cells": [
  {
   "cell_type": "markdown",
   "id": "bf213aca",
   "metadata": {
    "tags": [
     "papermill-error-cell-tag"
    ]
   },
   "source": [
    "<span style=\"color:red; font-family:Helvetica Neue, Helvetica, Arial, sans-serif; font-size:2em;\">An Exception was encountered at '<a href=\"#papermill-error-cell\">In [6]</a>'.</span>"
   ]
  },
  {
   "cell_type": "code",
   "execution_count": 1,
   "id": "1bd980bc",
   "metadata": {
    "execution": {
     "iopub.execute_input": "2023-11-28T19:50:56.994421Z",
     "iopub.status.busy": "2023-11-28T19:50:56.994087Z",
     "iopub.status.idle": "2023-11-28T19:50:59.438966Z",
     "shell.execute_reply": "2023-11-28T19:50:59.438150Z"
    },
    "papermill": {
     "duration": 2.452215,
     "end_time": "2023-11-28T19:50:59.440540",
     "exception": false,
     "start_time": "2023-11-28T19:50:56.988325",
     "status": "completed"
    },
    "tags": []
   },
   "outputs": [
    {
     "name": "stderr",
     "output_type": "stream",
     "text": [
      "/home/virgilxw/miniconda3/envs/morph_model_v1/lib/python3.11/site-packages/tqdm/auto.py:21: TqdmWarning: IProgress not found. Please update jupyter and ipywidgets. See https://ipywidgets.readthedocs.io/en/stable/user_install.html\n",
      "  from .autonotebook import tqdm as notebook_tqdm\n"
     ]
    }
   ],
   "source": [
    "import momepy\n",
    "import pandas as pd\n",
    "import geopandas as gpd\n",
    "import shapely\n",
    "from shapely.geometry import Point, box, MultiLineString\n",
    "from shapely.ops import unary_union\n",
    "import planetary_computer\n",
    "import pystac_client\n",
    "import dask.dataframe\n",
    "import dask_geopandas as dgd\n",
    "import dask.distributed\n",
    "import deltalake\n",
    "import shapely.geometry\n",
    "import mercantile\n",
    "import rasterio\n",
    "from rasterio.windows import from_bounds\n",
    "from pyproj import transform\n",
    "from rasterio.warp import calculate_default_transform, reproject, Resampling\n",
    "import rasterio.mask\n",
    "from rasterio.plot import show\n",
    "from shapely.geometry import shape, Polygon, mapping, box, LineString\n",
    "import fiona\n",
    "from rasterio.features import shapes\n",
    "import osmnx as ox\n",
    "import os\n",
    "from tqdm import tqdm"
   ]
  },
  {
   "cell_type": "code",
   "execution_count": 2,
   "id": "ab83e3be",
   "metadata": {
    "execution": {
     "iopub.execute_input": "2023-11-28T19:50:59.451386Z",
     "iopub.status.busy": "2023-11-28T19:50:59.450888Z",
     "iopub.status.idle": "2023-11-28T19:50:59.454551Z",
     "shell.execute_reply": "2023-11-28T19:50:59.453959Z"
    },
    "papermill": {
     "duration": 0.010203,
     "end_time": "2023-11-28T19:50:59.455475",
     "exception": false,
     "start_time": "2023-11-28T19:50:59.445272",
     "status": "completed"
    },
    "tags": [
     "parameters"
    ]
   },
   "outputs": [],
   "source": [
    "local_crs = 27700\n",
    "place = \"glasgow\"\n",
    "latlng = (-4.251846930489373, 55.86421405612109)\n",
    "country = \"united kingdom\"\n",
    "crs=4326"
   ]
  },
  {
   "cell_type": "code",
   "execution_count": 3,
   "id": "cdfc7aa5",
   "metadata": {
    "execution": {
     "iopub.execute_input": "2023-11-28T19:50:59.467836Z",
     "iopub.status.busy": "2023-11-28T19:50:59.467556Z",
     "iopub.status.idle": "2023-11-28T19:50:59.471244Z",
     "shell.execute_reply": "2023-11-28T19:50:59.470361Z"
    },
    "papermill": {
     "duration": 0.011678,
     "end_time": "2023-11-28T19:50:59.472819",
     "exception": false,
     "start_time": "2023-11-28T19:50:59.461141",
     "status": "completed"
    },
    "tags": [
     "injected-parameters"
    ]
   },
   "outputs": [],
   "source": [
    "# Parameters\n",
    "local_crs = 27700\n",
    "place = \"london\"\n",
    "latlng = \"(-0.08976010193313122, 51.51338978675002)\"\n"
   ]
  },
  {
   "cell_type": "code",
   "execution_count": 4,
   "id": "2625b4a7",
   "metadata": {
    "execution": {
     "iopub.execute_input": "2023-11-28T19:50:59.482643Z",
     "iopub.status.busy": "2023-11-28T19:50:59.482367Z",
     "iopub.status.idle": "2023-11-28T19:50:59.485990Z",
     "shell.execute_reply": "2023-11-28T19:50:59.485161Z"
    },
    "papermill": {
     "duration": 0.009819,
     "end_time": "2023-11-28T19:50:59.487104",
     "exception": false,
     "start_time": "2023-11-28T19:50:59.477285",
     "status": "completed"
    },
    "tags": []
   },
   "outputs": [],
   "source": [
    "radius = 35 #km"
   ]
  },
  {
   "cell_type": "code",
   "execution_count": 5,
   "id": "d4d82464",
   "metadata": {
    "execution": {
     "iopub.execute_input": "2023-11-28T19:50:59.496834Z",
     "iopub.status.busy": "2023-11-28T19:50:59.496563Z",
     "iopub.status.idle": "2023-11-28T19:50:59.500274Z",
     "shell.execute_reply": "2023-11-28T19:50:59.499631Z"
    },
    "papermill": {
     "duration": 0.010117,
     "end_time": "2023-11-28T19:50:59.501415",
     "exception": false,
     "start_time": "2023-11-28T19:50:59.491298",
     "status": "completed"
    },
    "tags": []
   },
   "outputs": [],
   "source": [
    "## create directory ./out/{place} if it does not exist\n",
    "def create_dir(dir):\n",
    "    if not os.path.exists(dir):\n",
    "        os.makedirs(dir)\n",
    "        \n",
    "create_dir(f\"./output/{place}\")"
   ]
  },
  {
   "cell_type": "markdown",
   "id": "f6a07329",
   "metadata": {
    "papermill": {
     "duration": 0.004635,
     "end_time": "2023-11-28T19:50:59.510029",
     "exception": false,
     "start_time": "2023-11-28T19:50:59.505394",
     "status": "completed"
    },
    "tags": []
   },
   "source": [
    "## part 1: Find limits of cells to download"
   ]
  },
  {
   "cell_type": "markdown",
   "id": "db7cf2be",
   "metadata": {
    "tags": [
     "papermill-error-cell-tag"
    ]
   },
   "source": [
    "<span id=\"papermill-error-cell\" style=\"color:red; font-family:Helvetica Neue, Helvetica, Arial, sans-serif; font-size:2em;\">Execution using papermill encountered an exception here and stopped:</span>"
   ]
  },
  {
   "cell_type": "code",
   "execution_count": 6,
   "id": "3aee994d",
   "metadata": {
    "execution": {
     "iopub.execute_input": "2023-11-28T19:50:59.519429Z",
     "iopub.status.busy": "2023-11-28T19:50:59.519174Z",
     "iopub.status.idle": "2023-11-28T19:50:59.823174Z",
     "shell.execute_reply": "2023-11-28T19:50:59.822367Z"
    },
    "papermill": {
     "duration": 0.31044,
     "end_time": "2023-11-28T19:50:59.824260",
     "exception": true,
     "start_time": "2023-11-28T19:50:59.513820",
     "status": "failed"
    },
    "tags": []
   },
   "outputs": [
    {
     "ename": "ValueError",
     "evalue": "could not convert string to float: '('",
     "output_type": "error",
     "traceback": [
      "\u001b[0;31m---------------------------------------------------------------------------\u001b[0m",
      "\u001b[0;31mValueError\u001b[0m                                Traceback (most recent call last)",
      "Cell \u001b[0;32mIn[6], line 13\u001b[0m\n\u001b[1;32m      7\u001b[0m     \u001b[38;5;28;01mreturn\u001b[39;00m Polygon([(x \u001b[38;5;241m-\u001b[39m distance, y \u001b[38;5;241m-\u001b[39m distance),\n\u001b[1;32m      8\u001b[0m                     (x \u001b[38;5;241m-\u001b[39m distance, y \u001b[38;5;241m+\u001b[39m distance),\n\u001b[1;32m      9\u001b[0m                     (x \u001b[38;5;241m+\u001b[39m distance, y \u001b[38;5;241m+\u001b[39m distance),\n\u001b[1;32m     10\u001b[0m                     (x \u001b[38;5;241m+\u001b[39m distance, y \u001b[38;5;241m-\u001b[39m distance)])\n\u001b[1;32m     12\u001b[0m \u001b[38;5;66;03m# Create a GeoSeries with the specified point\u001b[39;00m\n\u001b[0;32m---> 13\u001b[0m gdf \u001b[38;5;241m=\u001b[39m gpd\u001b[38;5;241m.\u001b[39mGeoSeries([\u001b[43mPoint\u001b[49m\u001b[43m(\u001b[49m\u001b[43mlatlng\u001b[49m\u001b[43m[\u001b[49m\u001b[38;5;241;43m0\u001b[39;49m\u001b[43m]\u001b[49m\u001b[43m,\u001b[49m\u001b[43m \u001b[49m\u001b[43mlatlng\u001b[49m\u001b[43m[\u001b[49m\u001b[38;5;241;43m1\u001b[39;49m\u001b[43m]\u001b[49m\u001b[43m)\u001b[49m], crs\u001b[38;5;241m=\u001b[39mcrs)\n\u001b[1;32m     15\u001b[0m \u001b[38;5;66;03m# Reproject to a coordinate system that uses meters (UTM)\u001b[39;00m\n\u001b[1;32m     16\u001b[0m gdf_utm \u001b[38;5;241m=\u001b[39m gdf\u001b[38;5;241m.\u001b[39mto_crs(epsg\u001b[38;5;241m=\u001b[39mlocal_crs)\n",
      "File \u001b[0;32m~/miniconda3/envs/morph_model_v1/lib/python3.11/site-packages/shapely/geometry/point.py:77\u001b[0m, in \u001b[0;36mPoint.__new__\u001b[0;34m(self, *args)\u001b[0m\n\u001b[1;32m     73\u001b[0m     \u001b[38;5;28;01mraise\u001b[39;00m \u001b[38;5;167;01mValueError\u001b[39;00m(\n\u001b[1;32m     74\u001b[0m         \u001b[38;5;124mf\u001b[39m\u001b[38;5;124m\"\u001b[39m\u001b[38;5;124mPoint() takes only scalar or 1-size vector arguments, got \u001b[39m\u001b[38;5;132;01m{\u001b[39;00margs\u001b[38;5;132;01m}\u001b[39;00m\u001b[38;5;124m\"\u001b[39m\n\u001b[1;32m     75\u001b[0m     )\n\u001b[1;32m     76\u001b[0m \u001b[38;5;28;01mif\u001b[39;00m \u001b[38;5;129;01mnot\u001b[39;00m np\u001b[38;5;241m.\u001b[39missubdtype(coords\u001b[38;5;241m.\u001b[39mdtype, np\u001b[38;5;241m.\u001b[39mnumber):\n\u001b[0;32m---> 77\u001b[0m     coords \u001b[38;5;241m=\u001b[39m \u001b[43m[\u001b[49m\u001b[38;5;28;43mfloat\u001b[39;49m\u001b[43m(\u001b[49m\u001b[43mc\u001b[49m\u001b[43m)\u001b[49m\u001b[43m \u001b[49m\u001b[38;5;28;43;01mfor\u001b[39;49;00m\u001b[43m \u001b[49m\u001b[43mc\u001b[49m\u001b[43m \u001b[49m\u001b[38;5;129;43;01min\u001b[39;49;00m\u001b[43m \u001b[49m\u001b[43mcoords\u001b[49m\u001b[43m]\u001b[49m\n\u001b[1;32m     78\u001b[0m geom \u001b[38;5;241m=\u001b[39m shapely\u001b[38;5;241m.\u001b[39mpoints(coords)\n\u001b[1;32m     79\u001b[0m \u001b[38;5;28;01mif\u001b[39;00m \u001b[38;5;129;01mnot\u001b[39;00m \u001b[38;5;28misinstance\u001b[39m(geom, Point):\n",
      "File \u001b[0;32m~/miniconda3/envs/morph_model_v1/lib/python3.11/site-packages/shapely/geometry/point.py:77\u001b[0m, in \u001b[0;36m<listcomp>\u001b[0;34m(.0)\u001b[0m\n\u001b[1;32m     73\u001b[0m     \u001b[38;5;28;01mraise\u001b[39;00m \u001b[38;5;167;01mValueError\u001b[39;00m(\n\u001b[1;32m     74\u001b[0m         \u001b[38;5;124mf\u001b[39m\u001b[38;5;124m\"\u001b[39m\u001b[38;5;124mPoint() takes only scalar or 1-size vector arguments, got \u001b[39m\u001b[38;5;132;01m{\u001b[39;00margs\u001b[38;5;132;01m}\u001b[39;00m\u001b[38;5;124m\"\u001b[39m\n\u001b[1;32m     75\u001b[0m     )\n\u001b[1;32m     76\u001b[0m \u001b[38;5;28;01mif\u001b[39;00m \u001b[38;5;129;01mnot\u001b[39;00m np\u001b[38;5;241m.\u001b[39missubdtype(coords\u001b[38;5;241m.\u001b[39mdtype, np\u001b[38;5;241m.\u001b[39mnumber):\n\u001b[0;32m---> 77\u001b[0m     coords \u001b[38;5;241m=\u001b[39m [\u001b[38;5;28;43mfloat\u001b[39;49m\u001b[43m(\u001b[49m\u001b[43mc\u001b[49m\u001b[43m)\u001b[49m \u001b[38;5;28;01mfor\u001b[39;00m c \u001b[38;5;129;01min\u001b[39;00m coords]\n\u001b[1;32m     78\u001b[0m geom \u001b[38;5;241m=\u001b[39m shapely\u001b[38;5;241m.\u001b[39mpoints(coords)\n\u001b[1;32m     79\u001b[0m \u001b[38;5;28;01mif\u001b[39;00m \u001b[38;5;129;01mnot\u001b[39;00m \u001b[38;5;28misinstance\u001b[39m(geom, Point):\n",
      "\u001b[0;31mValueError\u001b[0m: could not convert string to float: '('"
     ]
    }
   ],
   "source": [
    "def create_square(center_point, distance):\n",
    "    \"\"\"\n",
    "    Create a square polygon centered on the given point.\n",
    "    The 'distance' parameter is half the side length of the square.\n",
    "    \"\"\"\n",
    "    x, y = center_point.x, center_point.y\n",
    "    return Polygon([(x - distance, y - distance),\n",
    "                    (x - distance, y + distance),\n",
    "                    (x + distance, y + distance),\n",
    "                    (x + distance, y - distance)])\n",
    "\n",
    "# Create a GeoSeries with the specified point\n",
    "gdf = gpd.GeoSeries([Point(latlng[0], latlng[1])], crs=crs)\n",
    "\n",
    "# Reproject to a coordinate system that uses meters (UTM)\n",
    "gdf_utm = gdf.to_crs(epsg=local_crs)\n",
    "\n",
    "# Get the center point in UTM coordinates\n",
    "center_point = gdf_utm[0]\n",
    "\n",
    "# Create a square polygon centered on the point\n",
    "# The distance parameter is half the side length of the square.\n",
    "# For a 50 km square, the distance will be 25 km.\n",
    "square = create_square(center_point, radius*1000) \n",
    "\n",
    "# Create a GeoSeries for the square in UTM coordinates\n",
    "square_gs_utm = gpd.GeoSeries([square], crs=gdf_utm.crs)\n",
    "\n",
    "# Reproject the square back to the original CRS\n",
    "area_of_interest = square_gs_utm.to_crs(epsg=crs)\n",
    "\n",
    "# Plotting\n",
    "area_of_interest.explore()"
   ]
  },
  {
   "cell_type": "code",
   "execution_count": null,
   "id": "a2c57303",
   "metadata": {
    "papermill": {
     "duration": null,
     "end_time": null,
     "exception": null,
     "start_time": null,
     "status": "pending"
    },
    "tags": []
   },
   "outputs": [],
   "source": [
    "# # Create a GeoDataFrame with the specified point\n",
    "# gdf = gpd.GeoDataFrame(geometry=[Point(latlng[0], latlng[1])], crs=crs)\n",
    "\n",
    "# # Reproject to a coordinate system that uses meters (UTM)\n",
    "# gdf_utm = gdf.to_crs(epsg=local_crs)\n",
    "\n",
    "# # Create a 50 km buffer around the point\n",
    "# buffer = gdf_utm.buffer(10000)  # 50 km buffer\n",
    "\n",
    "# # Reproject buffer back to original CRS\n",
    "# area_of_interest = buffer.to_crs(epsg=crs)\n",
    "\n",
    "# # Plottin\n",
    "# area_of_interest.explore()\n",
    "\n"
   ]
  },
  {
   "cell_type": "code",
   "execution_count": null,
   "id": "edd9371e",
   "metadata": {
    "papermill": {
     "duration": null,
     "end_time": null,
     "exception": null,
     "start_time": null,
     "status": "pending"
    },
    "tags": []
   },
   "outputs": [],
   "source": [
    "# Read only the portion of the GeoTIFF that intersects with the AOI\n",
    "\n",
    "cell_polygons = []\n",
    "with rasterio.open(\"output/built_height.tif\") as src:\n",
    "    # Calculate the window to read based on AOI bounds\n",
    "    out_image, transformed = rasterio.mask.mask(src, area_of_interest, crop=True, filled=True)\n",
    "    out_profile = src.profile.copy()\n",
    "    \n",
    "out_profile.update({'width': out_image.shape[2],'height': out_image.shape[1], 'transform': transformed})\n",
    "with rasterio.open(f\"output/{place}.tif\", 'w', **out_profile) as dst:\n",
    "    dst.write(out_image)\n",
    "    \n",
    "with rasterio.open(f\"output/{place}.tif\") as src:\n",
    "    show(src)"
   ]
  },
  {
   "cell_type": "code",
   "execution_count": null,
   "id": "5669b856",
   "metadata": {
    "papermill": {
     "duration": null,
     "end_time": null,
     "exception": null,
     "start_time": null,
     "status": "pending"
    },
    "tags": []
   },
   "outputs": [],
   "source": [
    "def get_cell_polygon(x, y, transform):\n",
    "    \"\"\"\n",
    "    Create a polygon for the given cell coordinates (x, y) using the affine transform.\n",
    "    \"\"\"\n",
    "    tl = transform * (x, y)\n",
    "    tr = transform * (x + 1, y)\n",
    "    br = transform * (x + 1, y + 1)\n",
    "    bl = transform * (x, y + 1)\n",
    "    return Polygon([tl, tr, br, bl, tl])"
   ]
  },
  {
   "cell_type": "code",
   "execution_count": null,
   "id": "fc17b87b",
   "metadata": {
    "papermill": {
     "duration": null,
     "end_time": null,
     "exception": null,
     "start_time": null,
     "status": "pending"
    },
    "tags": []
   },
   "outputs": [],
   "source": [
    "mask = None\n",
    "with rasterio.Env():\n",
    "    with rasterio.open(f\"output/{place}.tif\") as src:\n",
    "        image = src.read(1) # first band\n",
    "        transform = src.transform\n",
    "\n",
    "        # Prepare schema for shapefile\n",
    "        schema = {\n",
    "            'properties': [('raster_val', 'int')],\n",
    "            'geometry': 'Polygon'\n",
    "        }\n",
    "\n",
    "        # with fiona.open(f\"output/{place}/height_cells.shp\", 'w', \n",
    "        #                 driver='ESRI Shapefile',\n",
    "        #                 crs=src.crs,\n",
    "        #                 schema=schema) as dst:\n",
    "            \n",
    "        #     # Iterate over each pixel in the raster\n",
    "        #     for row in tqdm(range(image.shape[0])):\n",
    "        #         for col in range(image.shape[1]):\n",
    "        #             value = image[row, col]\n",
    "        #             polygon = get_cell_polygon(col, row, transform)\n",
    "        #             dst.write({\n",
    "        #                 'properties': {'raster_val': int(value)},\n",
    "        #                 'geometry': mapping(polygon)\n",
    "        #             })\n",
    "        \n",
    "        # List to hold each feature\n",
    "        features = []\n",
    "\n",
    "        # Iterate over each pixel in the raster\n",
    "        for row in tqdm(range(image.shape[0])):\n",
    "            for col in range(image.shape[1]):\n",
    "                value = image[row, col]\n",
    "                polygon = get_cell_polygon(col, row, transform)\n",
    "                features.append({\n",
    "                    'properties': {'raster_val': int(value)},\n",
    "                    'geometry': polygon\n",
    "                })\n",
    "\n",
    "        # Create a GeoDataFrame\n",
    "        area_of_interest = gpd.GeoDataFrame([f['properties'] for f in features],\n",
    "                            geometry=[f['geometry'] for f in features],\n",
    "                            crs=src.crs)\n",
    "        \n",
    "        area_of_interest.to_parquet(f\"output/{place}/height_cells.shp\")\n"
   ]
  },
  {
   "cell_type": "markdown",
   "id": "186ec3b8",
   "metadata": {
    "papermill": {
     "duration": null,
     "end_time": null,
     "exception": null,
     "start_time": null,
     "status": "pending"
    },
    "tags": []
   },
   "source": [
    "# part 2: create a buffer that is slightly larger to account for edge effects and download all building footprints + street data"
   ]
  },
  {
   "cell_type": "code",
   "execution_count": null,
   "id": "f971f7d8",
   "metadata": {
    "papermill": {
     "duration": null,
     "end_time": null,
     "exception": null,
     "start_time": null,
     "status": "pending"
    },
    "tags": []
   },
   "outputs": [],
   "source": [
    "# Get bounds\n",
    "minx, miny, maxx, maxy = area_of_interest.total_bounds\n",
    "min_dist = min([abs(minx-latlng[0]), abs(miny-latlng[1]), abs(maxx-latlng[0]), abs(maxy-latlng[1])])\n",
    "\n",
    "# Create a GeoDataFrame with the specified point\n",
    "gdf = gpd.GeoDataFrame(geometry=[Point(latlng[0], latlng[1])], crs=crs)\n",
    "\n",
    "# Reproject to a coordinate system that uses meters (UTM)\n",
    "gdf_utm = gdf.to_crs(epsg=local_crs)\n",
    "\n",
    "# Create a 50 km buffer around the point\n",
    "buffer = gdf_utm.buffer((radius+5)*1000)  # 30 km buffer\n",
    "\n",
    "# Reproject buffer back to original CRS\n",
    "buffer = buffer.to_crs(epsg=crs)\n",
    "\n",
    "# Plottin\n",
    "buffer.explore()\n",
    "\n"
   ]
  },
  {
   "cell_type": "code",
   "execution_count": null,
   "id": "35e22533",
   "metadata": {
    "papermill": {
     "duration": null,
     "end_time": null,
     "exception": null,
     "start_time": null,
     "status": "pending"
    },
    "tags": []
   },
   "outputs": [],
   "source": [
    "# # This creates a boolean mask where each element is True if the geometry in `gdf` is within any geometry in `area_of_interest`\n",
    "# mask = area_of_interest.geometry.apply(lambda geom: any(geom.within(aoi_geom) for aoi_geom in buffer.geometry))\n",
    "\n",
    "# # Apply the mask to select only the relevant features\n",
    "# selected_features = area_of_interest[mask]"
   ]
  },
  {
   "cell_type": "code",
   "execution_count": null,
   "id": "7c1f7e30",
   "metadata": {
    "papermill": {
     "duration": null,
     "end_time": null,
     "exception": null,
     "start_time": null,
     "status": "pending"
    },
    "tags": []
   },
   "outputs": [],
   "source": [
    "# selected_features_union = selected_features.unary_union\n",
    "\n",
    "# selected_features_union = gpd.GeoSeries([selected_features_union]).set_crs(epsg=4326)"
   ]
  },
  {
   "cell_type": "code",
   "execution_count": null,
   "id": "ac4082c9",
   "metadata": {
    "papermill": {
     "duration": null,
     "end_time": null,
     "exception": null,
     "start_time": null,
     "status": "pending"
    },
    "tags": []
   },
   "outputs": [],
   "source": [
    "# selected_features_union.plot()"
   ]
  },
  {
   "cell_type": "code",
   "execution_count": null,
   "id": "7f8fa429",
   "metadata": {
    "papermill": {
     "duration": null,
     "end_time": null,
     "exception": null,
     "start_time": null,
     "status": "pending"
    },
    "tags": []
   },
   "outputs": [],
   "source": [
    "catalog = pystac_client.Client.open(\n",
    "    \"https://planetarycomputer.microsoft.com/api/stac/v1\",\n",
    "    modifier=planetary_computer.sign_inplace,\n",
    ")\n",
    "collection = catalog.get_collection(\"ms-buildings\")\n",
    "\n",
    "asset = collection.assets[\"delta\"]\n",
    "\n",
    "storage_options = {\n",
    "    \"account_name\": asset.extra_fields[\"table:storage_options\"][\"account_name\"],\n",
    "    \"sas_token\": asset.extra_fields[\"table:storage_options\"][\"credential\"],\n",
    "}\n",
    "table = deltalake.DeltaTable(asset.href, storage_options=storage_options)\n",
    "\n",
    "quadkeys = [\n",
    "    int(mercantile.quadkey(tile))\n",
    "    for tile in mercantile.tiles(*buffer[0].bounds, zooms=9)\n",
    "]\n",
    "quadkeys\n",
    "\n",
    "uris = table.file_uris([(\"quadkey\", \"in\", quadkeys)])\n",
    "uris\n",
    "\n",
    "df = dgd.read_parquet(uris, storage_options=storage_options)\n"
   ]
  },
  {
   "cell_type": "code",
   "execution_count": null,
   "id": "55cca17d",
   "metadata": {
    "papermill": {
     "duration": null,
     "end_time": null,
     "exception": null,
     "start_time": null,
     "status": "pending"
    },
    "tags": []
   },
   "outputs": [],
   "source": [
    "buildings = dgd.sjoin(df, gpd.GeoDataFrame(geometry=buffer), how=\"inner\", op=\"intersects\").compute()"
   ]
  },
  {
   "cell_type": "code",
   "execution_count": null,
   "id": "d5bfa50c",
   "metadata": {
    "papermill": {
     "duration": null,
     "end_time": null,
     "exception": null,
     "start_time": null,
     "status": "pending"
    },
    "tags": []
   },
   "outputs": [],
   "source": [
    "world_poly = gpd.read_file(\"input/glasgow_study_area.shp\")"
   ]
  },
  {
   "cell_type": "code",
   "execution_count": null,
   "id": "3ba2fef3",
   "metadata": {
    "papermill": {
     "duration": null,
     "end_time": null,
     "exception": null,
     "start_time": null,
     "status": "pending"
    },
    "tags": []
   },
   "outputs": [],
   "source": [
    "water_gdf = ox.geometries_from_polygon(buffer[0], tags={\"natural\": \"water\"})\n",
    "water_gdf = water_gdf[water_gdf.geometry.type.isin(['Polygon', 'MultiPolygon'])]"
   ]
  },
  {
   "cell_type": "code",
   "execution_count": null,
   "id": "14145b81",
   "metadata": {
    "papermill": {
     "duration": null,
     "end_time": null,
     "exception": null,
     "start_time": null,
     "status": "pending"
    },
    "tags": []
   },
   "outputs": [],
   "source": [
    "# List all columns to drop, which is all except 'geometry'\n",
    "columns_to_drop = [col for col in water_gdf.columns if col != 'geometry']\n",
    "\n",
    "# Drop these columns\n",
    "water_gdf = water_gdf.drop(columns=columns_to_drop)"
   ]
  },
  {
   "cell_type": "code",
   "execution_count": null,
   "id": "5cfa210d",
   "metadata": {
    "papermill": {
     "duration": null,
     "end_time": null,
     "exception": null,
     "start_time": null,
     "status": "pending"
    },
    "tags": []
   },
   "outputs": [],
   "source": [
    "buffer = gpd.GeoDataFrame(geometry=buffer)"
   ]
  },
  {
   "cell_type": "code",
   "execution_count": null,
   "id": "94fb8b81",
   "metadata": {
    "papermill": {
     "duration": null,
     "end_time": null,
     "exception": null,
     "start_time": null,
     "status": "pending"
    },
    "tags": []
   },
   "outputs": [],
   "source": [
    "buffer = world_poly.overlay(buffer, how='intersection').overlay(water_gdf, how='difference')"
   ]
  },
  {
   "cell_type": "code",
   "execution_count": null,
   "id": "fe7a82e9",
   "metadata": {
    "papermill": {
     "duration": null,
     "end_time": null,
     "exception": null,
     "start_time": null,
     "status": "pending"
    },
    "tags": []
   },
   "outputs": [],
   "source": [
    "buffer.plot()"
   ]
  },
  {
   "cell_type": "code",
   "execution_count": null,
   "id": "689a0582",
   "metadata": {
    "papermill": {
     "duration": null,
     "end_time": null,
     "exception": null,
     "start_time": null,
     "status": "pending"
    },
    "tags": []
   },
   "outputs": [],
   "source": [
    "# List all columns to drop, which is all except 'geometry'\n",
    "columns_to_drop = [col for col in buffer.columns if col != 'geometry']\n",
    "\n",
    "# Drop these columns\n",
    "buffer = buffer.drop(columns=columns_to_drop)"
   ]
  },
  {
   "cell_type": "code",
   "execution_count": null,
   "id": "f44ffba2",
   "metadata": {
    "papermill": {
     "duration": null,
     "end_time": null,
     "exception": null,
     "start_time": null,
     "status": "pending"
    },
    "tags": []
   },
   "outputs": [],
   "source": [
    "buffer_new = buffer.dissolve()"
   ]
  },
  {
   "cell_type": "code",
   "execution_count": null,
   "id": "8491b4db",
   "metadata": {
    "papermill": {
     "duration": null,
     "end_time": null,
     "exception": null,
     "start_time": null,
     "status": "pending"
    },
    "tags": []
   },
   "outputs": [],
   "source": [
    "buffer_new.to_parquet(f\"./output/{place}/study_area.pq\")"
   ]
  },
  {
   "cell_type": "code",
   "execution_count": null,
   "id": "cb798c6c",
   "metadata": {
    "papermill": {
     "duration": null,
     "end_time": null,
     "exception": null,
     "start_time": null,
     "status": "pending"
    },
    "tags": []
   },
   "outputs": [],
   "source": [
    "buffer_new = buffer.dissolve()"
   ]
  },
  {
   "cell_type": "code",
   "execution_count": null,
   "id": "1e6c051d",
   "metadata": {
    "papermill": {
     "duration": null,
     "end_time": null,
     "exception": null,
     "start_time": null,
     "status": "pending"
    },
    "tags": []
   },
   "outputs": [],
   "source": [
    "osm_graph= ox.graph.graph_from_polygon(buffer_new.geometry[0], network_type='drive')\n",
    "osm_graph = ox.projection.project_graph(osm_graph, to_crs=local_crs)\n",
    "streets = ox.graph_to_gdfs(\n",
    "    ox.get_undirected(osm_graph),\n",
    "    nodes=False,\n",
    "    edges=True,\n",
    "    node_geometry=False,\n",
    "    fill_edge_geometry=True\n",
    "    \n",
    ")\n",
    "\n",
    "streets.head()"
   ]
  },
  {
   "cell_type": "code",
   "execution_count": null,
   "id": "ecc4577a",
   "metadata": {
    "papermill": {
     "duration": null,
     "end_time": null,
     "exception": null,
     "start_time": null,
     "status": "pending"
    },
    "tags": []
   },
   "outputs": [],
   "source": [
    "# List all columns to drop, which is all except 'geometry'\n",
    "columns_to_drop = [col for col in streets.columns if col != 'geometry']\n",
    "\n",
    "# Drop these columns\n",
    "streets = streets.drop(columns=columns_to_drop)"
   ]
  },
  {
   "cell_type": "code",
   "execution_count": null,
   "id": "13db3293",
   "metadata": {
    "papermill": {
     "duration": null,
     "end_time": null,
     "exception": null,
     "start_time": null,
     "status": "pending"
    },
    "tags": []
   },
   "outputs": [],
   "source": [
    "# Assuming your GeoDataFrame is named 'gdf'\n",
    "line_strings = []\n",
    "for geometry in streets.geometry:\n",
    "    if geometry.geom_type == 'LineString':\n",
    "        line_strings.append(geometry)\n",
    "    elif geometry.geom_type == 'MultiLineString':\n",
    "        line_strings.extend(list(geometry))"
   ]
  },
  {
   "cell_type": "code",
   "execution_count": null,
   "id": "14dc93fb",
   "metadata": {
    "papermill": {
     "duration": null,
     "end_time": null,
     "exception": null,
     "start_time": null,
     "status": "pending"
    },
    "tags": []
   },
   "outputs": [],
   "source": [
    "collection = shapely.GeometryCollection(line_strings)  # combine to a single object\n",
    "noded = shapely.node(collection)  # add missing nodes\n",
    "streets_noded_gdf = gpd.GeoDataFrame(geometry=gpd.GeoSeries(noded), crs=local_crs)"
   ]
  },
  {
   "cell_type": "code",
   "execution_count": null,
   "id": "d33df70c",
   "metadata": {
    "papermill": {
     "duration": null,
     "end_time": null,
     "exception": null,
     "start_time": null,
     "status": "pending"
    },
    "tags": []
   },
   "outputs": [],
   "source": [
    "# Assuming streets is your existing GeoDataFrame\n",
    "\n",
    "# Function to break apart MultiLineStrings\n",
    "def explode_multilinestring(multilinestring):\n",
    "    if isinstance(multilinestring, MultiLineString):\n",
    "        return list(multilinestring)\n",
    "    else:\n",
    "        return [multilinestring]\n",
    "\n",
    "# Explode all MultiLineStrings into individual LineStrings\n",
    "exploded_lines = [explode_multilinestring(geom) for geom in streets.geometry]\n",
    "\n",
    "# Flatten the list of lists into a single list of geometries\n",
    "flat_list = [item for sublist in exploded_lines for item in sublist]\n",
    "\n",
    "# Create a new GeoDataFrame\n",
    "streets_noded_gdf = gpd.GeoDataFrame(geometry=flat_list)"
   ]
  },
  {
   "cell_type": "code",
   "execution_count": null,
   "id": "c491ebcc",
   "metadata": {
    "papermill": {
     "duration": null,
     "end_time": null,
     "exception": null,
     "start_time": null,
     "status": "pending"
    },
    "tags": []
   },
   "outputs": [],
   "source": [
    "streets_noded_gdf.plot()"
   ]
  },
  {
   "cell_type": "code",
   "execution_count": null,
   "id": "cb5cfb81",
   "metadata": {
    "papermill": {
     "duration": null,
     "end_time": null,
     "exception": null,
     "start_time": null,
     "status": "pending"
    },
    "tags": []
   },
   "outputs": [],
   "source": [
    "osm_graph= ox.graph.graph_from_polygon(buffer_new.geometry[0], network_type='all', custom_filter='[\"railway\"~\"rail\"][\"tunnel\"!=\"yes\"]')\n",
    "osm_graph = ox.projection.project_graph(osm_graph, to_crs=local_crs)\n",
    "rail = ox.graph_to_gdfs(\n",
    "    ox.get_undirected(osm_graph),\n",
    "    nodes=False,\n",
    "    edges=True,\n",
    "    node_geometry=False,\n",
    "    fill_edge_geometry=True\n",
    "    \n",
    ")\n",
    "\n",
    "rail.head()\n",
    "\n"
   ]
  },
  {
   "cell_type": "code",
   "execution_count": null,
   "id": "afa3ac58",
   "metadata": {
    "papermill": {
     "duration": null,
     "end_time": null,
     "exception": null,
     "start_time": null,
     "status": "pending"
    },
    "tags": []
   },
   "outputs": [],
   "source": [
    "# List all columns to drop, which is all except 'geometry'\n",
    "columns_to_drop = [col for col in rail.columns if col != 'geometry']\n",
    "\n",
    "# Drop these columns\n",
    "rail = rail.drop(columns=columns_to_drop).reset_index(drop=True)"
   ]
  },
  {
   "cell_type": "code",
   "execution_count": null,
   "id": "01acf11f",
   "metadata": {
    "papermill": {
     "duration": null,
     "end_time": null,
     "exception": null,
     "start_time": null,
     "status": "pending"
    },
    "tags": []
   },
   "outputs": [],
   "source": [
    "# Assuming your GeoDataFrame is named 'gdf'\n",
    "rail_strings = []\n",
    "for geometry in rail.geometry:\n",
    "    if geometry.geom_type == 'LineString':\n",
    "        rail_strings.append(geometry)\n",
    "    elif geometry.geom_type == 'MultiLineString':\n",
    "        rail_strings.extend(list(geometry))"
   ]
  },
  {
   "cell_type": "code",
   "execution_count": null,
   "id": "bc42db54",
   "metadata": {
    "papermill": {
     "duration": null,
     "end_time": null,
     "exception": null,
     "start_time": null,
     "status": "pending"
    },
    "tags": []
   },
   "outputs": [],
   "source": [
    "collection = shapely.GeometryCollection(rail_strings)  # combine to a single object\n",
    "noded = shapely.node(collection)  # add missing nodes\n",
    "rail_noded_gdf = gpd.GeoDataFrame(geometry=gpd.GeoSeries(noded), crs=local_crs)"
   ]
  },
  {
   "cell_type": "code",
   "execution_count": null,
   "id": "58914d35",
   "metadata": {
    "papermill": {
     "duration": null,
     "end_time": null,
     "exception": null,
     "start_time": null,
     "status": "pending"
    },
    "tags": []
   },
   "outputs": [],
   "source": [
    "rail_noded_gdf.plot()"
   ]
  },
  {
   "cell_type": "code",
   "execution_count": null,
   "id": "53c0224b",
   "metadata": {
    "papermill": {
     "duration": null,
     "end_time": null,
     "exception": null,
     "start_time": null,
     "status": "pending"
    },
    "tags": []
   },
   "outputs": [],
   "source": [
    "buildings.to_parquet(f\"./output/{place}/buildings_raw.pq\")\n",
    "\n",
    "streets_noded_gdf.to_parquet(f\"./output/{place}/streets_raw.pq\")\n",
    "\n",
    "rail_noded_gdf.to_parquet(f\"./output/{place}/rail_raw.pq\")"
   ]
  },
  {
   "cell_type": "code",
   "execution_count": null,
   "id": "964e52cc",
   "metadata": {
    "papermill": {
     "duration": null,
     "end_time": null,
     "exception": null,
     "start_time": null,
     "status": "pending"
    },
    "tags": []
   },
   "outputs": [],
   "source": [
    "water_gdf.plot()"
   ]
  },
  {
   "cell_type": "code",
   "execution_count": null,
   "id": "fc2b7f79",
   "metadata": {
    "papermill": {
     "duration": null,
     "end_time": null,
     "exception": null,
     "start_time": null,
     "status": "pending"
    },
    "tags": []
   },
   "outputs": [],
   "source": [
    "water_gdf.to_parquet(f\"./output/{place}/water.pq\")"
   ]
  },
  {
   "cell_type": "code",
   "execution_count": null,
   "id": "827cad70",
   "metadata": {
    "papermill": {
     "duration": null,
     "end_time": null,
     "exception": null,
     "start_time": null,
     "status": "pending"
    },
    "tags": []
   },
   "outputs": [],
   "source": []
  },
  {
   "cell_type": "code",
   "execution_count": null,
   "id": "502b1f0e",
   "metadata": {
    "papermill": {
     "duration": null,
     "end_time": null,
     "exception": null,
     "start_time": null,
     "status": "pending"
    },
    "tags": []
   },
   "outputs": [],
   "source": []
  }
 ],
 "metadata": {
  "kernelspec": {
   "display_name": "base",
   "language": "python",
   "name": "python3"
  },
  "language_info": {
   "codemirror_mode": {
    "name": "ipython",
    "version": 3
   },
   "file_extension": ".py",
   "mimetype": "text/x-python",
   "name": "python",
   "nbconvert_exporter": "python",
   "pygments_lexer": "ipython3",
   "version": "3.11.6"
  },
  "papermill": {
   "default_parameters": {},
   "duration": 4.297887,
   "end_time": "2023-11-28T19:51:00.548569",
   "environment_variables": {},
   "exception": true,
   "input_path": "1_downloading_data.ipynb",
   "output_path": "./out/london/1_downloading_data.ipynb",
   "parameters": {
    "latlng": [
     -0.08976010193313122,
     51.51338978675002
    ],
    "local_crs": 27700,
    "place": "london"
   },
   "start_time": "2023-11-28T19:50:56.250682",
   "version": "2.4.0"
  }
 },
 "nbformat": 4,
 "nbformat_minor": 5
}